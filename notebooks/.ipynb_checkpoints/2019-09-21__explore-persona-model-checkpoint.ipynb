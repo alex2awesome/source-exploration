{
 "cells": [
  {
   "cell_type": "code",
   "execution_count": 425,
   "metadata": {},
   "outputs": [],
   "source": [
    "import os\n",
    "import glob\n",
    "import pandas as pd\n",
    "import matplotlib.pyplot as plt\n",
    "%matplotlib inline\n",
    "import re\n",
    "import pyperclip\n",
    "import numpy as np\n",
    "#  jupyter nbconvert --to html .\\2019-09-21__explore-persona-model.ipynb --no-input"
   ]
  },
  {
   "cell_type": "markdown",
   "metadata": {},
   "source": [
    "#### Status update:\n",
    "\n",
    "This week I:\n",
    "* Got Bamman et. al's topic model running. Many lines of Java! \n",
    "* Explored the input and the output of the model.\n",
    "* Ran the model on my corpus, and processed my corpus with Stanford CoreNLP.\n",
    "* Explored output and suggested next-steps.\n",
    "\n",
    "# Persona Model\n",
    "\n",
    "Bamman et. al's paper: [Learning Latent Personas of Film Characters](https://www.aclweb.org/anthology/P13-1035) is one of the few attempts to model characters in a text. \n",
    "\n",
    "The authors build a topic model that models each document as a combination of latent \"personas\", where each \"persona\" is a set of 3 distributions over topics in the corpus.\n",
    "\n",
    "Each word is derived from \"Agent\", \"Patient\" and \"Modifier\" syntactic structures in the text relating to entities. In the next section, we go in more detail to show:\n",
    "\n",
    "* Entities\n",
    "* Words associated with entities.\n",
    "\n",
    "Each of these input preprocessing steps are quite brittle on our data."
   ]
  },
  {
   "cell_type": "markdown",
   "metadata": {},
   "source": [
    "# Visualize Input Data"
   ]
  },
  {
   "cell_type": "code",
   "execution_count": 213,
   "metadata": {},
   "outputs": [],
   "source": [
    "import itertools\n",
    "import sys\n",
    "sys.path.append('../models/ACL2013_Personas/preprocess/')\n",
    "import coreproc\n",
    "from importlib import reload\n",
    "from IPython.display import clear_output\n",
    "from IPython.display import HTML, display\n",
    "reload(coreproc)"
   ]
  },
  {
   "cell_type": "code",
   "execution_count": 349,
   "metadata": {},
   "outputs": [],
   "source": [
    "agent_v_color = color_wheel[12]\n",
    "patient_v_color = color_wheel[1]\n",
    "mod_color = color_wheel[2]\n",
    "entity_color = color_wheel[3]"
   ]
  },
  {
   "cell_type": "code",
   "execution_count": 63,
   "metadata": {},
   "outputs": [],
   "source": [
    "batch_rows = open('../models/ACL2013_Personas/preprocess/batch-0.ss').read().strip().split('\\n')\n",
    "split_rows = list(map(lambda x: x.strip().split('\\t'), batch_rows))"
   ]
  },
  {
   "cell_type": "code",
   "execution_count": 260,
   "metadata": {},
   "outputs": [],
   "source": [
    "idx = 0\n",
    "for docid, rows in itertools.groupby(split_rows, key=lambda r: r[0]):\n",
    "    rows = list(rows)\n",
    "    if idx > 5:\n",
    "        break\n",
    "    idx += 1"
   ]
  },
  {
   "cell_type": "code",
   "execution_count": 261,
   "metadata": {},
   "outputs": [],
   "source": [
    "processed = coreproc.process_full_doc(rows)"
   ]
  },
  {
   "cell_type": "code",
   "execution_count": 303,
   "metadata": {},
   "outputs": [],
   "source": [
    "agents_df = pd.DataFrame(processed['agents'])\n",
    "patients_df = pd.DataFrame(processed['patients'])\n",
    "mod_df = pd.DataFrame(processed['modifiers'])\n",
    "entities_df = pd.DataFrame(processed['entities'])\n",
    "sentence_df = pd.DataFrame(processed['sentences'])"
   ]
  },
  {
   "cell_type": "code",
   "execution_count": 352,
   "metadata": {},
   "outputs": [],
   "source": [
    "col_list = [(\"agent verb color\", agent_v_color),\n",
    "(\"patient verb color\", patient_v_color),\n",
    "(\"modifier color\", mod_color),\n",
    "(\"entity color\", entity_color),]\n",
    "legend = []\n",
    "for name, col in col_list:\n",
    "    line = name + ': <span style=\"background-color: ' +  col + '\">&nbsp;&nbsp;&nbsp;&nbsp;</span>'\n",
    "    legend.append(line)"
   ]
  },
  {
   "cell_type": "code",
   "execution_count": 397,
   "metadata": {
    "scrolled": true
   },
   "outputs": [],
   "source": [
    "# patients_df.head()\n",
    "# mod_df.head()\n",
    "# agents_df.head()\n",
    "# entities_df.head()"
   ]
  },
  {
   "cell_type": "code",
   "execution_count": 596,
   "metadata": {},
   "outputs": [],
   "source": [
    "rand_colors = np.random.choice(color_wheel, len(entities_df['entity-id'].unique()), replace=False)"
   ]
  },
  {
   "cell_type": "markdown",
   "metadata": {},
   "source": [
    "### Entities\n",
    "\n",
    "The Persona topic model identifies \"characters\", or named-entities, by looking at Stanford CoreNLP coreferences. Here is a visualization of how well the coreference parser does."
   ]
  },
  {
   "cell_type": "code",
   "execution_count": null,
   "metadata": {},
   "outputs": [],
   "source": [
    "rand_colors = np.random.choice(util.color_wheel, len(entities_df['entity-id'].unique()), replace=False)"
   ]
  },
  {
   "cell_type": "code",
   "execution_count": null,
   "metadata": {},
   "outputs": [],
   "source": []
  },
  {
   "cell_type": "code",
   "execution_count": 595,
   "metadata": {},
   "outputs": [
    {
     "data": {
      "text/html": [
       "LEAD : For four and a half hours Wednesday , Dominick P. <span style=\"background-color: rgba(255, 192, 203, 0.4)\">Pannunzio</span> and 19 other guests in the burning Dupont Plaza Hotel lay sprawled on a 16th-story balcony , certain they were going to die . '' Everybody was crying , '' the 50-year-old lawyer from <span style=\"background-color: rgba(0, 0, 255, 0.4)\">Pennsylvania</span> said . I was crying <span style=\"background-color: rgba(124, 252, 0, 0.4)\">myself</span> . Mr. Pannunzio , who had come out of the <span style=\"background-color: rgba(128, 0, 128, 0.4)\">shower</span> nude when <span style=\"background-color: rgba(205, 92, 92, 0.4)\">he</span> heard a commotion in the hall and grabbed a sheet to cover <span style=\"background-color: rgba(205, 92, 92, 0.4)\">himself</span> , said <span style=\"background-color: rgba(205, 92, 92, 0.4)\">he</span> and <span style=\"background-color: rgba(205, 92, 92, 0.4)\">his</span> <span style=\"background-color: rgba(221, 160, 221, 0.4)\">group</span> fruitlessly screamed and waved to attract the attention of rescue workers . At the end , we were all just praying , '' said Betsy <span style=\"background-color: rgba(189, 183, 107, 0.4)\">Sorber</span> , 26 , who had flown to Puerto Rico with Mr. <span style=\"background-color: rgba(255, 192, 203, 0.4)\">Pannunzio</span> and five others on a gambling junket several days ago . Finally , <span style=\"background-color: rgba(189, 183, 107, 0.4)\">she</span> said , <span style=\"background-color: rgba(218, 112, 214, 0.4)\">firefighters</span> broke down the <span style=\"background-color: rgba(255, 235, 205, 0.4)\">door</span> of the smoke-filled hotel room and led <span style=\"background-color: rgba(218, 112, 214, 0.4)\">them</span> to the roof . ' What Is the Best <span style=\"background-color: rgba(25, 25, 112, 0.4)\">Way</span> to Die ? ' At that point , Mr. <span style=\"background-color: rgba(255, 192, 203, 0.4)\">Pannunzio</span> said , <span style=\"background-color: rgba(255, 192, 203, 0.4)\">he</span> had begun contemplating `` what was the best <span style=\"background-color: rgba(25, 25, 112, 0.4)\">way</span> to die , burning or jumping . Mr. <span style=\"background-color: rgba(255, 192, 203, 0.4)\">Pannunzio</span> , dressed today in a hospital worker 's green surgical room pants and new running shoes , said <span style=\"background-color: rgba(255, 192, 203, 0.4)\">he</span> thought of jumping off the balcony with a mattress to cushion <span style=\"background-color: rgba(255, 192, 203, 0.4)\">his</span> fall . But that was too crazy , '' <span style=\"background-color: rgba(255, 192, 203, 0.4)\">he</span> said . One man in the <span style=\"background-color: rgba(221, 160, 221, 0.4)\">group</span> tried climbing up the side of the building toward the roof , but <span style=\"background-color: rgba(255, 192, 203, 0.4)\">he</span> kept slipping and seemed in danger of plunging to the ground . Finally , Mr. <span style=\"background-color: rgba(255, 192, 203, 0.4)\">Pannunzio</span> said , the <span style=\"background-color: rgba(100, 149, 237, 0.4)\">others</span> talked <span style=\"background-color: rgba(255, 192, 203, 0.4)\">him</span> into huddling with <span style=\"background-color: rgba(100, 149, 237, 0.4)\">them</span> on the balcony , wet <span style=\"background-color: rgba(240, 230, 140, 0.4)\">towels</span> and wash cloths pressed to <span style=\"background-color: rgba(100, 149, 237, 0.4)\">their</span> noses to help <span style=\"background-color: rgba(100, 149, 237, 0.4)\">them</span> breath in the dense black smoke . Fifteen minutes before the fire broke out , Mr. <span style=\"background-color: rgba(255, 192, 203, 0.4)\">Pannunzio</span> said , <span style=\"background-color: rgba(255, 192, 203, 0.4)\">he</span> had been playing craps in the ground-floor <span style=\"background-color: rgba(250, 128, 114, 0.4)\">casino</span> , continuing a winning streak of more than $ 10,000 . He had gone up to <span style=\"background-color: rgba(255, 192, 203, 0.4)\">his</span> room , 1508 , to shower before going shopping with Miss <span style=\"background-color: rgba(189, 183, 107, 0.4)\">Sorber</span> . She was resting on the bed in slacks pulled over a one-piece bathing suit . Mr. <span style=\"background-color: rgba(255, 192, 203, 0.4)\">Pannunzio</span> bounded out of the <span style=\"background-color: rgba(128, 0, 128, 0.4)\">shower</span> , threw open the room <span style=\"background-color: rgba(255, 235, 205, 0.4)\">door</span> and saw clouds of gray smoke and running guests . Together , they plunged into a nightmarish fire exit stairwell , with people screaming , pushing , shoving , falling and being trampled . We ran down to the eighth floor , '' <span style=\"background-color: rgba(255, 192, 203, 0.4)\">he</span> recalled , `` and <span style=\"background-color: rgba(107, 142, 35, 0.4)\">we</span> ran into a solid wall of people yelling , ` Go up ! Go up ! You ca n't get through here ! ' You could n't see . Everyone was in a panic . ` People Were Gagging ' `` At the 17th or 18th floor , '' Mr. <span style=\"background-color: rgba(255, 192, 203, 0.4)\">Pannunzio</span> continued , `` a bunch of people were coming down yelling , ` Down ! down ! You ca n't go up ! ' We tried to get into one of the halls but all the doors were locked . People were gagging and falling down . I was getting woozy . Suddenly , <span style=\"background-color: rgba(219, 112, 147, 0.4)\">he</span> said , a hysterical <span style=\"background-color: rgba(255, 250, 205, 0.4)\">maid</span> threw open a door on the 16th floor and Mr. <span style=\"background-color: rgba(255, 192, 203, 0.4)\">Pannunzio</span> and about 20 others surged behind <span style=\"background-color: rgba(219, 112, 147, 0.4)\">him</span> . The <span style=\"background-color: rgba(255, 250, 205, 0.4)\">maid</span> had <span style=\"background-color: rgba(240, 255, 255, 0.4)\">keys</span> and let <span style=\"background-color: rgba(240, 255, 255, 0.4)\">them</span> into a room . They soaked the <span style=\"background-color: rgba(240, 230, 140, 0.4)\">towels</span> and linen , pressed <span style=\"background-color: rgba(240, 255, 255, 0.4)\">them</span> to <span style=\"background-color: rgba(240, 255, 255, 0.4)\">their</span> faces and shuffled to the balcony . People were crying and praying : ` Dear <span style=\"background-color: rgba(143, 188, 143, 0.4)\">God</span> , dear <span style=\"background-color: rgba(143, 188, 143, 0.4)\">God</span> , <span style=\"background-color: rgba(107, 142, 35, 0.4)\">we</span> 're going to die , ' '' he said . Several times a helicopter crew swung a <span style=\"background-color: rgba(72, 209, 204, 0.4)\">seat</span> on a rope toward <span style=\"background-color: rgba(240, 255, 255, 0.4)\">them</span> but no one could reach <span style=\"background-color: rgba(72, 209, 204, 0.4)\">it</span> , Mr. <span style=\"background-color: rgba(255, 192, 203, 0.4)\">Pannunzio</span> said . At one point , Mr. <span style=\"background-color: rgba(255, 192, 203, 0.4)\">Pannunzio</span> said , <span style=\"background-color: rgba(255, 192, 203, 0.4)\">he</span> thought of the film , `` The Towering Inferno , '' and of the fire at the M-G-M Grand Hotel in Las Vegas , Nev. , in 1980 . I thought , ` God , <span style=\"background-color: rgba(127, 255, 0, 0.4)\">I</span> 'm on <span style=\"background-color: rgba(127, 255, 0, 0.4)\">my</span> couch watching television and <span style=\"background-color: rgba(127, 255, 0, 0.4)\">I</span> 'm a part of this , ' '' <span style=\"background-color: rgba(255, 192, 203, 0.4)\">he</span> said . I thought , ` Any minute <span style=\"background-color: rgba(127, 255, 0, 0.4)\">I</span> 'm going to die . ' When the rescue team broke through , Miss <span style=\"background-color: rgba(189, 183, 107, 0.4)\">Sorber</span> recalled , <span style=\"background-color: rgba(189, 183, 107, 0.4)\">she</span> could see only a tiny flicker of light from the usually bright helmet lights the men wore . We all held hands , '' Miss <span style=\"background-color: rgba(189, 183, 107, 0.4)\">Sorber</span> said , `` and they led <span style=\"background-color: rgba(255, 228, 196, 0.4)\">us</span> out . We could n't see where <span style=\"background-color: rgba(255, 228, 196, 0.4)\">we</span> were going . Outside in fresh air , the <span style=\"background-color: rgba(221, 160, 221, 0.4)\">group</span> then had to scale a steel ladder that ran straight up the side of a wall leading to the roof , more than 20 stories above the street . One of Mr. <span style=\"background-color: rgba(255, 192, 203, 0.4)\">Pannunzio</span> 's friends from <span style=\"background-color: rgba(0, 0, 255, 0.4)\">Pennsylvania</span> broke a window in the <span style=\"background-color: rgba(250, 128, 114, 0.4)\">casino</span> with a chair and jumped two stories to the pavement . He broke a leg and severely cut one arm . Another member of the party , Mr. <span style=\"background-color: rgba(255, 192, 203, 0.4)\">Pannunzio</span> said , was still unaccounted for this afternoon ."
      ],
      "text/plain": [
       "<IPython.core.display.HTML object>"
      ]
     },
     "execution_count": 595,
     "metadata": {},
     "output_type": "execute_result"
    }
   ],
   "source": [
    "sentences = []\n",
    "for idx, sentence, sentence_id in sentence_df.itertuples():\n",
    "    sent_toks = sentence.split()\n",
    "    ent_id2_entidx = (entities_df\n",
    "      .loc[lambda df: df['sentence-idx'] == int(sentence_id.replace('S', ''))]\n",
    "      .groupby('entity-id')['entity-idx']\n",
    "      .aggregate(list)\n",
    "    )\n",
    "    for ent_id, entidx_list in ent_id2_entidx.iteritems():\n",
    "        sentence = html_replace_list(entidx_list, sentence, sent_toks, make_rgb(rand_colors[ent_id], .4))    \n",
    "    sentences.append(sentence)\n",
    "\n",
    "HTML(' '.join(sentences))"
   ]
  },
  {
   "cell_type": "markdown",
   "metadata": {},
   "source": [
    "### Entites + Agent, Patient, Modifiers\n",
    "\n",
    "After entities are identified, Stanford CoreNLP dependency parses are used to extract:\n",
    "* __Agent verbs__: verbs for which the entity is the actor:\n",
    "  * _\"(nsubj or agent)\"_\n",
    "* __Patient verbs__: verbs for which the entity is the the reciever:\n",
    "  * _\"(dobj, nsubjpass, iobj, or any prep_*)\"_\n",
    "* __Modifiers__: verbs for which the entity is the actor:\n",
    "  * _\"(nsubj or appos governors, or nsubj, appos, amod, nn dependents of an entity mention)_\n",
    "  \n",
    "Here is a visualization of the words that are grouped into each category."
   ]
  },
  {
   "cell_type": "code",
   "execution_count": 379,
   "metadata": {},
   "outputs": [
    {
     "data": {
      "text/html": [
       "agent verb color: <span style=\"background-color: #DEB887\">&nbsp;&nbsp;&nbsp;&nbsp;</span><br>patient verb color: <span style=\"background-color: #FAEBD7\">&nbsp;&nbsp;&nbsp;&nbsp;</span><br>modifier color: <span style=\"background-color: #00FFFF\">&nbsp;&nbsp;&nbsp;&nbsp;</span><br>entity color: <span style=\"background-color: #7FFFD4\">&nbsp;&nbsp;&nbsp;&nbsp;</span><br><br>LEAD : For four and a half hours Wednesday , Dominick P. <span style=\"background-color: #7FFFD4\">Pannunzio</span> and 19 other guests in the burning Dupont Plaza Hotel lay sprawled on a 16th-story balcony , certain they were going to die . '' Everybody was crying , '' the 50-year-old lawyer from <span style=\"background-color: #7FFFD4\">Pennsylvania</span> said . I was <span style=\"background-color: #DEB887\">crying</span> <span style=\"background-color: #7FFFD4\">myself</span> . Mr. Pannunzio , who had come out of the <span style=\"background-color: #7FFFD4\">shower</span> <span style=\"background-color: #00FFFF\">nude</span> when <span style=\"background-color: #7FFFD4\">he</span> <span style=\"background-color: #DEB887\">heard</span> a commotion in the hall and <span style=\"background-color: #DEB887\">grabbed</span> a sheet to <span style=\"background-color: #FAEBD7\">cover</span> <span style=\"background-color: #7FFFD4\">himself</span> , <span style=\"background-color: #FAEBD7\">said</span> <span style=\"background-color: #7FFFD4\">he</span> and <span style=\"background-color: #7FFFD4\">his</span> <span style=\"background-color: #7FFFD4\">group</span> fruitlessly <span style=\"background-color: #DEB887\">screamed</span> and <span style=\"background-color: #DEB887\">waved</span> to attract the attention of rescue workers . At the end , we were all just praying , '' <span style=\"background-color: #DEB887\">said</span> Betsy <span style=\"background-color: #7FFFD4\">Sorber</span> , <span style=\"background-color: #00FFFF\">26</span> , who had flown to Puerto Rico with Mr. <span style=\"background-color: #7FFFD4\">Pannunzio</span> and five others on a gambling junket several days ago . Finally , <span style=\"background-color: #7FFFD4\">she</span> <span style=\"background-color: #DEB887\">said</span> , <span style=\"background-color: #7FFFD4\">firefighters</span> <span style=\"background-color: #DEB887\">broke</span> down the <span style=\"background-color: #7FFFD4\">door</span> of the smoke-filled hotel room and <span style=\"background-color: #DEB887\">led</span> <span style=\"background-color: #7FFFD4\">them</span> to the roof . ' What <span style=\"background-color: #DEB887\">Is</span> the <span style=\"background-color: #00FFFF\">Best</span> <span style=\"background-color: #7FFFD4\">Way</span> to Die ? ' At that point , Mr. <span style=\"background-color: #7FFFD4\">Pannunzio</span> <span style=\"background-color: #DEB887\">said</span> , <span style=\"background-color: #7FFFD4\">he</span> had <span style=\"background-color: #DEB887\">begun</span> contemplating `` <span style=\"background-color: #00FFFF\">what</span> was the <span style=\"background-color: #00FFFF\">best</span> <span style=\"background-color: #7FFFD4\">way</span> to die , burning or jumping . Mr. <span style=\"background-color: #7FFFD4\">Pannunzio</span> , dressed today in a hospital worker 's green surgical room pants and new running shoes , <span style=\"background-color: #DEB887\">said</span> <span style=\"background-color: #7FFFD4\">he</span> <span style=\"background-color: #DEB887\">thought</span> of jumping off the balcony with a mattress to cushion <span style=\"background-color: #7FFFD4\">his</span> fall . But that was too crazy , '' <span style=\"background-color: #7FFFD4\">he</span> <span style=\"background-color: #DEB887\">said</span> . One man in the <span style=\"background-color: #7FFFD4\">group</span> tried climbing up the side of the building toward the roof , but <span style=\"background-color: #7FFFD4\">he</span> <span style=\"background-color: #DEB887\">kept</span> slipping and <span style=\"background-color: #DEB887\">seemed</span> in danger of plunging to the ground . Finally , Mr. <span style=\"background-color: #7FFFD4\">Pannunzio</span> <span style=\"background-color: #DEB887\">said</span> , the <span style=\"background-color: #7FFFD4\">others</span> <span style=\"background-color: #DEB887\">talked</span> <span style=\"background-color: #7FFFD4\">him</span> into huddling with <span style=\"background-color: #7FFFD4\">them</span> on the <span style=\"background-color: #00FFFF\">balcony</span> , <span style=\"background-color: #00FFFF\">wet</span> <span style=\"background-color: #7FFFD4\">towels</span> and <span style=\"background-color: #DEB887\">wash</span> cloths pressed to <span style=\"background-color: #7FFFD4\">their</span> noses to help <span style=\"background-color: #7FFFD4\">them</span> <span style=\"background-color: #00FFFF\">breath</span> in the dense black smoke . Fifteen minutes before the fire broke out , Mr. <span style=\"background-color: #7FFFD4\">Pannunzio</span> <span style=\"background-color: #DEB887\">said</span> , <span style=\"background-color: #7FFFD4\">he</span> had been <span style=\"background-color: #DEB887\">playing</span> craps in the <span style=\"background-color: #00FFFF\">ground-floor</span> <span style=\"background-color: #7FFFD4\">casino</span> , continuing a winning streak of more than  10,000 . He had <span style=\"background-color: #DEB887\">gone</span> up to <span style=\"background-color: #7FFFD4\">his</span> room , 1508 , to shower before going shopping with Miss <span style=\"background-color: #7FFFD4\">Sorber</span> . She was <span style=\"background-color: #DEB887\">resting</span> on the bed in slacks pulled over a one-piece bathing suit . Mr. <span style=\"background-color: #7FFFD4\">Pannunzio</span> <span style=\"background-color: #DEB887\">bounded</span> out of the <span style=\"background-color: #7FFFD4\">shower</span> , <span style=\"background-color: #DEB887\">threw</span> open the room <span style=\"background-color: #7FFFD4\">door</span> and <span style=\"background-color: #DEB887\">saw</span> clouds of gray smoke and running guests . Together , they plunged into a nightmarish fire exit stairwell , with people screaming , pushing , shoving , falling and being trampled . We <span style=\"background-color: #DEB887\">ran</span> down to the eighth floor , '' <span style=\"background-color: #7FFFD4\">he</span> <span style=\"background-color: #DEB887\">recalled</span> , `` and <span style=\"background-color: #7FFFD4\">we</span> <span style=\"background-color: #DEB887\">ran</span> into a solid wall of people yelling , ` Go up ! Go up ! You ca n't <span style=\"background-color: #DEB887\">get</span> through here ! ' You could n't <span style=\"background-color: #DEB887\">see</span> . Everyone was in a panic . ` People Were Gagging ' `` At the 17th or 18th floor , '' Mr. <span style=\"background-color: #7FFFD4\">Pannunzio</span> <span style=\"background-color: #DEB887\">continued</span> , `` a bunch of people were coming down yelling , ` Down ! down ! You ca n't go up ! ' We <span style=\"background-color: #DEB887\">tried</span> to get into one of the halls but all the doors were locked . People were gagging and falling down . I was getting woozy . Suddenly , <span style=\"background-color: #7FFFD4\">he</span> <span style=\"background-color: #DEB887\">said</span> , a <span style=\"background-color: #00FFFF\">hysterical</span> <span style=\"background-color: #7FFFD4\">maid</span> <span style=\"background-color: #DEB887\">threw</span> open a door on the 16th floor and Mr. <span style=\"background-color: #7FFFD4\">Pannunzio</span> and about 20 others <span style=\"background-color: #DEB887\">surged</span> behind <span style=\"background-color: #7FFFD4\">him</span> . The <span style=\"background-color: #7FFFD4\">maid</span> <span style=\"background-color: #DEB887\">had</span> <span style=\"background-color: #7FFFD4\">keys</span> and <span style=\"background-color: #DEB887\">let</span> <span style=\"background-color: #7FFFD4\">them</span> into a room . They <span style=\"background-color: #DEB887\">soaked</span> the <span style=\"background-color: #7FFFD4\">towels</span> and linen , <span style=\"background-color: #DEB887\">pressed</span> <span style=\"background-color: #7FFFD4\">them</span> to <span style=\"background-color: #7FFFD4\">their</span> faces and <span style=\"background-color: #DEB887\">shuffled</span> to the balcony . People were crying and praying : ` Dear <span style=\"background-color: #7FFFD4\">God</span> , dear <span style=\"background-color: #7FFFD4\">God</span> , <span style=\"background-color: #7FFFD4\">we</span> 're <span style=\"background-color: #DEB887\">going</span> to die , ' '' he said . Several times a helicopter crew <span style=\"background-color: #FAEBD7\">swung</span> a <span style=\"background-color: #7FFFD4\">seat</span> on a rope toward <span style=\"background-color: #7FFFD4\">them</span> but no one could <span style=\"background-color: #FAEBD7\">reach</span> <span style=\"background-color: #7FFFD4\">it</span> , Mr. <span style=\"background-color: #7FFFD4\">Pannunzio</span> <span style=\"background-color: #DEB887\">said</span> . At one point , Mr. <span style=\"background-color: #7FFFD4\">Pannunzio</span> <span style=\"background-color: #DEB887\">said</span> , <span style=\"background-color: #7FFFD4\">he</span> <span style=\"background-color: #DEB887\">thought</span> of the film , `` The Towering Inferno , '' and of the fire at the M-G-M Grand Hotel in Las Vegas , Nev. , in 1980 . I <span style=\"background-color: #DEB887\">thought</span> , ` God , <span style=\"background-color: #7FFFD4\">I</span> 'm on <span style=\"background-color: #7FFFD4\">my</span> <span style=\"background-color: #00FFFF\">couch</span> watching television and <span style=\"background-color: #7FFFD4\">I</span> 'm a <span style=\"background-color: #00FFFF\">part</span> of this , ' '' <span style=\"background-color: #7FFFD4\">he</span> <span style=\"background-color: #DEB887\">said</span> . I <span style=\"background-color: #DEB887\">thought</span> , ` Any minute <span style=\"background-color: #7FFFD4\">I</span> 'm <span style=\"background-color: #DEB887\">going</span> to die . ' When the rescue team broke through , Miss <span style=\"background-color: #7FFFD4\">Sorber</span> <span style=\"background-color: #DEB887\">recalled</span> , <span style=\"background-color: #7FFFD4\">she</span> could <span style=\"background-color: #DEB887\">see</span> only a tiny flicker of light from the usually bright helmet lights the men wore . We all <span style=\"background-color: #DEB887\">held</span> hands , '' Miss <span style=\"background-color: #7FFFD4\">Sorber</span> <span style=\"background-color: #DEB887\">said</span> , `` and they <span style=\"background-color: #FAEBD7\">led</span> <span style=\"background-color: #7FFFD4\">us</span> out . We could n't <span style=\"background-color: #DEB887\">see</span> where <span style=\"background-color: #7FFFD4\">we</span> were <span style=\"background-color: #DEB887\">going</span> . Outside in fresh air , the <span style=\"background-color: #7FFFD4\">group</span> then <span style=\"background-color: #DEB887\">had</span> to scale a steel ladder that ran straight up the side of a wall leading to the roof , more than 20 stories above the street . One of Mr. <span style=\"background-color: #7FFFD4\">Pannunzio</span> 's friends from <span style=\"background-color: #7FFFD4\">Pennsylvania</span> broke a window in the <span style=\"background-color: #7FFFD4\">casino</span> with a chair and jumped two stories to the pavement . He broke a leg and severely cut one arm . Another member of the party , Mr. <span style=\"background-color: #7FFFD4\">Pannunzio</span> <span style=\"background-color: #DEB887\">said</span> , was still unaccounted for this afternoon ."
      ],
      "text/plain": [
       "<IPython.core.display.HTML object>"
      ]
     },
     "metadata": {},
     "output_type": "display_data"
    }
   ],
   "source": [
    "## apply labels\n",
    "labels = []\n",
    "htmls = []\n",
    "for idx, sentence in enumerate(processed['sentences']):  \n",
    "    s_id, sent = sentence.values()\n",
    "    sent_toks = sent.split()\n",
    "    s_id = int(s_id.replace('S', ''))\n",
    "    \n",
    "    ## replace entities\n",
    "    s_entities = entities_df.loc[lambda df: df['sentence-idx'] == s_id]\n",
    "    sent = html_replace_list(s_entities['entity-idx'], sent, sent_toks, entity_color)\n",
    "    \n",
    "    ## replace agent\n",
    "    s_agents = agents_df.loc[lambda df: df['sentence-idx'] == s_id]\n",
    "    sent = html_replace_list(s_agents['verb-idx'], sent, sent_toks, agent_v_color)\n",
    "    \n",
    "    ## replace patient\n",
    "    s_patients = patients_df.loc[lambda df: df['sentence-idx'] == s_id]\n",
    "    sent = html_replace_list(s_patients['verb-idx'], sent, sent_toks, patient_v_color)\n",
    "\n",
    "    ## replace modifier\n",
    "    s_mod = mod_df.loc[lambda df: df['sentence-idx'] == s_id].loc[lambda df: df['relation'] != 'selfmention']\n",
    "    sent = html_replace_list(s_mod['mod-idx'], sent, sent_toks, mod_color)\n",
    "    \n",
    "    if idx ==0:\n",
    "        html = '<br>'.join(legend) + \"<br><br>\" + sent.replace('$', '')\n",
    "    else:\n",
    "        html = sent.replace('$', '')\n",
    "\n",
    "    htmls.append(html)\n",
    "display(HTML(' '.join(htmls)))\n",
    "#     label = input()\n",
    "#     labels.append(label)\n",
    "#     clear_output() ## clear ipython output"
   ]
  },
  {
   "cell_type": "markdown",
   "metadata": {},
   "source": [
    "# Model Performance"
   ]
  },
  {
   "cell_type": "markdown",
   "metadata": {},
   "source": [
    "After this, the model is learned with _only_ these words. Thus, the vocabulary is very small: $8,000$ total for $45,000$ documents. Here is the model performance. In the paper, Bamman et. al. test with \n",
    "* Num. Personas $\\in \\{25, 50, 100\\}$\n",
    "* Num. Topics $\\in \\{25, 50, 100\\}$"
   ]
  },
  {
   "cell_type": "code",
   "execution_count": 418,
   "metadata": {},
   "outputs": [],
   "source": [
    "slurms = glob.glob('../models/ACL2013_Personas/output/slurm-4*')\n",
    "wlls = {}\n",
    "all_names = []\n",
    "for slurm in slurms:\n",
    "    lines = open(slurm).read().split('\\n')\n",
    "    name = list(filter(lambda x: 'output dir' in x, lines))\n",
    "    \n",
    "    ### \n",
    "    if name and 'runreg-false' in name[0]:\n",
    "        name = name[0].replace('output dir: ', '')\n",
    "        all_names.append(name)\n",
    "        params2lines[name] = lines\n",
    "        ## \n",
    "        wll = list(filter(lambda x: 'wordLL' in x, lines))\n",
    "        if len(wll) > 50:\n",
    "            wlls[name] = max(wlls.get(name, []), wll, key=lambda x: len(x))"
   ]
  },
  {
   "cell_type": "code",
   "execution_count": 424,
   "metadata": {},
   "outputs": [
    {
     "data": {
      "image/png": "[encoded data removed]",
      "text/plain": [
       "<Figure size 432x288 with 1 Axes>"
      ]
     },
     "metadata": {
      "needs_background": "light"
     },
     "output_type": "display_data"
    }
   ],
   "source": [
    "for key, lines in sorted(wlls.items(), key=lambda x: x[0]):\n",
    "    wll = list(map(lambda x: x.split()[-1], lines))\n",
    "    t = pd.Series(wll).astype(float)\n",
    "    t.index = t.index * 100\n",
    "    k, p = re.findall('numtopics-(\\d+).numpersonas-(\\d+)', key)[0]\n",
    "    ax = t.plot(label='# topics: %s, # personas: %s' % (k, p))\n",
    "    ax.spines['right'].set_visible(False)\n",
    "    ax.spines['top'].set_visible(False)\n",
    "    plt.legend(bbox_to_anchor=(1,1))\n",
    "    plt.ylabel('word ll', fontdict={\"size\": 18})\n",
    "    plt.xlabel('iterations', fontdict={\"size\": 18})\n",
    "    plt.title(\"Performance over Iterations\", fontdict={\"size\": 20})"
   ]
  },
  {
   "cell_type": "markdown",
   "metadata": {},
   "source": [
    "# Exploratory Data Analysis"
   ]
  },
  {
   "cell_type": "markdown",
   "metadata": {},
   "source": [
    "In the paper, Bamman et. al. show two main exploratory analyses:\n",
    "* Top words by topic\n",
    "* Top topics by persona (across agent, patient and modifier categories) \n",
    "\n",
    "We replicate these results in the following section."
   ]
  },
  {
   "cell_type": "code",
   "execution_count": 430,
   "metadata": {},
   "outputs": [],
   "source": [
    "import glob\n",
    "import pandas as pd\n",
    "fs = glob.glob('../models/ACL2013_Personas/output/newspapers.numtopics-25.numpersonas-25.runreg-false.out/*')"
   ]
  },
  {
   "cell_type": "code",
   "execution_count": 431,
   "metadata": {},
   "outputs": [],
   "source": [
    "## K = num topics\n",
    "## P = num personas\n",
    "## C = num characters total\n",
    "## D = num documents\n",
    "## V = len vocab\n",
    "\n",
    "## character conditional file = 3 * C x K\n",
    "## character posterior file = C x P\n",
    "## agents_file = P X K\n",
    "## mod_file = P x K\n",
    "## patients_file = P x K\n",
    "## phi_file = K x V\n",
    "\n",
    "## DONT USE:\n",
    "## ---------------------------------------------------------------------------------------------------------------\n",
    "## featfile = unused\n",
    "## persona_file = P x K * 3 ### each row: agents, patients, mod... equal to the agents_file, patients_file, mod_file\n",
    "\n",
    "\n",
    "characterConditionalFile, characterPosteriorFile, featfile, agents_file, mod_file, patients_file, phi, persona_file = fs"
   ]
  },
  {
   "cell_type": "markdown",
   "metadata": {},
   "source": [
    "## View topics"
   ]
  },
  {
   "cell_type": "code",
   "execution_count": 435,
   "metadata": {},
   "outputs": [],
   "source": [
    "import numpy as np \n",
    "from scipy.stats import entropy\n",
    "from IPython.display import HTML"
   ]
  },
  {
   "cell_type": "code",
   "execution_count": 450,
   "metadata": {},
   "outputs": [],
   "source": [
    "## read in vocabulary\n",
    "vocab_text = open(phi).read()\n",
    "vocab_mat = list(filter(lambda x: x!=[], map(lambda x: x.split(), vocab_text.split('\\n'))))\n",
    "vocab = vocab_mat[0]\n",
    "vocab_dat = vocab_mat[1:]\n",
    "word_topics = pd.DataFrame(vocab_dat, columns=vocab).astype(float)\n",
    "\n",
    "## get top words by topic\n",
    "top_words_by_topic = []\n",
    "for i in range(word_topics.shape[0]):\n",
    "    sorted_topics = word_topics.loc[i].sort_values(ascending=False).head(10)\n",
    "    top_words_by_topic.append(list(sorted_topics.index))\n",
    "\n",
    "## reformat into an HTML table for easier reading\n",
    "ncols = 10\n",
    "table = []\n",
    "row = []\n",
    "for topic, words in enumerate(top_words_by_topic):\n",
    "    subtable_header = '<th>%s</th>' % words[0].upper()\n",
    "    subtable_body = ''.join(list(map(lambda elem: '<tr><td>%s</td></tr>' % elem, words[1:])))\n",
    "    subtable = '<table><tr>%s</tr>%s</table>' % (subtable_header, subtable_body)\n",
    "    row.append(subtable)    \n",
    "    if (topic % ncols == (ncols - 1)) or (topic == len(top_words_by_topic) - 1) :\n",
    "        table.append('\\n'.join(list(map(lambda elem: '<td>%s</td>' % elem, row))))\n",
    "        row = []"
   ]
  },
  {
   "cell_type": "code",
   "execution_count": 451,
   "metadata": {},
   "outputs": [
    {
     "data": {
      "text/html": [
       "<table><tr><td><table><tr><th>TELL</th></tr><tr><td>kill</td></tr><tr><td>take</td></tr><tr><td>arrest</td></tr><tr><td>see</td></tr><tr><td>charge</td></tr><tr><td>send</td></tr><tr><td>find</td></tr><tr><td>ask</td></tr><tr><td>shoot</td></tr></table></td>\n",
       "<td><table><tr><th>TELL</th></tr><tr><td>ask</td></tr><tr><td>give</td></tr><tr><td>accuse</td></tr><tr><td>expect</td></tr><tr><td>support</td></tr><tr><td>call</td></tr><tr><td>criticize</td></tr><tr><td>see</td></tr><tr><td>force</td></tr></table></td>\n",
       "<td><table><tr><th>DOCTOR</th></tr><tr><td>defendant</td></tr><tr><td>researcher</td></tr><tr><td>client</td></tr><tr><td>hostage</td></tr><tr><td>authority</td></tr><tr><td>southern</td></tr><tr><td>militant</td></tr><tr><td>chancellor</td></tr><tr><td>german</td></tr></table></td>\n",
       "<td><table><tr><th>COMPANY</th></tr><tr><td>governor</td></tr><tr><td>city</td></tr><tr><td>judge</td></tr><tr><td>department</td></tr><tr><td>guerrilla</td></tr><tr><td>bishop</td></tr><tr><td>baby</td></tr><tr><td>girl</td></tr><tr><td>trustee</td></tr></table></td>\n",
       "<td><table><tr><th>MOTHER</th></tr><tr><td>wife</td></tr><tr><td>daughter</td></tr><tr><td>brother</td></tr><tr><td>friend</td></tr><tr><td>girl</td></tr><tr><td>detainee</td></tr><tr><td>sister</td></tr><tr><td>neighbor</td></tr><tr><td>father</td></tr></table></td>\n",
       "<td><table><tr><th>CHILD</th></tr><tr><td>member</td></tr><tr><td>victim</td></tr><tr><td>voter</td></tr><tr><td>inmate</td></tr><tr><td>other</td></tr><tr><td>many</td></tr><tr><td>recipient</td></tr><tr><td>respondent</td></tr><tr><td>adult</td></tr></table></td>\n",
       "<td><table><tr><th>MAN</th></tr><tr><td>officer</td></tr><tr><td>soldier</td></tr><tr><td>prisoner</td></tr><tr><td>gunman</td></tr><tr><td>fighter</td></tr><tr><td>young</td></tr><tr><td>american</td></tr><tr><td>passenger</td></tr><tr><td>suspect</td></tr></table></td>\n",
       "<td><table><tr><th>FATHER</th></tr><tr><td>administration</td></tr><tr><td>refugee</td></tr><tr><td>contra</td></tr><tr><td>driver</td></tr><tr><td>engineer</td></tr><tr><td>albanian</td></tr><tr><td>serb</td></tr><tr><td>suspect</td></tr><tr><td>ethnic</td></tr></table></td>\n",
       "<td><table><tr><th>SAY</th></tr><tr><td>add</td></tr><tr><td>think</td></tr><tr><td>believe</td></tr><tr><td>note</td></tr><tr><td>expect</td></tr><tr><td>acknowledge</td></tr><tr><td>know</td></tr><tr><td>call</td></tr><tr><td>see</td></tr></table></td>\n",
       "<td><table><tr><th>LAWYER</th></tr><tr><td>judge</td></tr><tr><td>prosecutor</td></tr><tr><td>general</td></tr><tr><td>counsel</td></tr><tr><td>independent</td></tr><tr><td>witness</td></tr><tr><td>contractor</td></tr><tr><td>attorney</td></tr><tr><td>special</td></tr></table></td></tr><tr><td><table><tr><th>WOMAN</th></tr><tr><td>employee</td></tr><tr><td>many</td></tr><tr><td>resident</td></tr><tr><td>customer</td></tr><tr><td>citizen</td></tr><tr><td>northern</td></tr><tr><td>young</td></tr><tr><td>user</td></tr><tr><td>trader</td></tr></table></td>\n",
       "<td><table><tr><th>ALLOW</th></tr><tr><td>give</td></tr><tr><td>leave</td></tr><tr><td>require</td></tr><tr><td>force</td></tr><tr><td>pay</td></tr><tr><td>expect</td></tr><tr><td>use</td></tr><tr><td>join</td></tr><tr><td>make</td></tr></table></td>\n",
       "<td><table><tr><th>MAKE</th></tr><tr><td>have</td></tr><tr><td>do</td></tr><tr><td>want</td></tr><tr><td>tell</td></tr><tr><td>call</td></tr><tr><td>take</td></tr><tr><td>win</td></tr><tr><td>go</td></tr><tr><td>seek</td></tr></table></td>\n",
       "<td><table><tr><th>LEADER</th></tr><tr><td>candidate</td></tr><tr><td>republican</td></tr><tr><td>democratic</td></tr><tr><td>senator</td></tr><tr><td>pilot</td></tr><tr><td>opponent</td></tr><tr><td>democrat</td></tr><tr><td>lawmaker</td></tr><tr><td>conservative</td></tr></table></td>\n",
       "<td><table><tr><th>STUDENT</th></tr><tr><td>parent</td></tr><tr><td>worker</td></tr><tr><td>teacher</td></tr><tr><td>kid</td></tr><tr><td>many</td></tr><tr><td>farmer</td></tr><tr><td>participant</td></tr><tr><td>astronaut</td></tr><tr><td>broker</td></tr></table></td>\n",
       "<td><table><tr><th>PRESIDENT</th></tr><tr><td>director</td></tr><tr><td>executive</td></tr><tr><td>spokesman</td></tr><tr><td>expert</td></tr><tr><td>chairman</td></tr><tr><td>scientist</td></tr><tr><td>analyst</td></tr><tr><td>professor</td></tr><tr><td>chief</td></tr></table></td>\n",
       "<td><table><tr><th>OFFICIAL</th></tr><tr><td>aide</td></tr><tr><td>senior</td></tr><tr><td>american</td></tr><tr><td>mayor</td></tr><tr><td>adviser</td></tr><tr><td>rebel</td></tr><tr><td>diplomat</td></tr><tr><td>commander</td></tr><tr><td>military</td></tr></table></td>\n",
       "<td><table><tr><th>HAVE</th></tr><tr><td>take</td></tr><tr><td>agree</td></tr><tr><td>do</td></tr><tr><td>make</td></tr><tr><td>try</td></tr><tr><td>begin</td></tr><tr><td>be</td></tr><tr><td>need</td></tr><tr><td>find</td></tr></table></td>\n",
       "<td><table><tr><th>HUSBAND</th></tr><tr><td>minister</td></tr><tr><td>juror</td></tr><tr><td>negotiator</td></tr><tr><td>marine</td></tr><tr><td>prime</td></tr><tr><td>guard</td></tr><tr><td>priest</td></tr><tr><td>dealer</td></tr><tr><td>insurgent</td></tr></table></td>\n",
       "<td><table><tr><th>COUNTRY</th></tr><tr><td>government</td></tr><tr><td>state</td></tr><tr><td>party</td></tr><tr><td>nation</td></tr><tr><td>court</td></tr><tr><td>employer</td></tr><tr><td>investor</td></tr><tr><td>maker</td></tr><tr><td>producer</td></tr></table></td></tr><tr><td><table><tr><th>PATIENT</th></tr><tr><td>son</td></tr><tr><td>boy</td></tr><tr><td>immigrant</td></tr><tr><td>relative</td></tr><tr><td>nurse</td></tr><tr><td>settler</td></tr><tr><td>protester</td></tr><tr><td>miner</td></tr><tr><td>illegal</td></tr></table></td>\n",
       "<td><table><tr><th>MAN</th></tr><tr><td>one</td></tr><tr><td>person</td></tr><tr><td>guy</td></tr><tr><td>old</td></tr><tr><td>friend</td></tr><tr><td>sure</td></tr><tr><td>father</td></tr><tr><td>young</td></tr><tr><td>veteran</td></tr></table></td>\n",
       "<td><table><tr><th>SAY</th></tr><tr><td>have</td></tr><tr><td>go</td></tr><tr><td>tell</td></tr><tr><td>do</td></tr><tr><td>know</td></tr><tr><td>get</td></tr><tr><td>want</td></tr><tr><td>see</td></tr><tr><td>take</td></tr></table></td>\n",
       "<td><table><tr><th>INVESTIGATOR</th></tr><tr><td>inspector</td></tr><tr><td>player</td></tr><tr><td>owner</td></tr><tr><td>manager</td></tr><tr><td>partner</td></tr><tr><td>plaintiff</td></tr><tr><td>pope</td></tr><tr><td>carrier</td></tr><tr><td>detective</td></tr></table></td>\n",
       "<td><table><tr><th>THIS</th></tr><tr><td>able</td></tr><tr><td>member</td></tr><tr><td>former</td></tr><tr><td>willing</td></tr><tr><td>supporter</td></tr><tr><td>new</td></tr><tr><td>one</td></tr><tr><td>likely</td></tr><tr><td>ready</td></tr></table></td></tr></table>"
      ],
      "text/plain": [
       "<IPython.core.display.HTML object>"
      ]
     },
     "execution_count": 451,
     "metadata": {},
     "output_type": "execute_result"
    }
   ],
   "source": [
    "HTML('<table>' + ''.join(list(map(lambda row: '<tr>%s</tr>' % row, table))) + '</table>')"
   ]
  },
  {
   "cell_type": "markdown",
   "metadata": {},
   "source": [
    "# View top personas"
   ]
  },
  {
   "cell_type": "code",
   "execution_count": 539,
   "metadata": {},
   "outputs": [],
   "source": [
    "### modifier\n",
    "mod_output = open(mod_file).read().strip().split('\\n')\n",
    "mod_mat = list(map(lambda x: x.split(), mod_output))\n",
    "mod_header = list(map(lambda elem: 'mod topic %s' % elem, mod_mat[0]))\n",
    "mod_dat = mod_mat[1:]\n",
    "mod_df = pd.DataFrame(mod_dat, columns=mod_header).astype(float)\n",
    "mod_df.index = list(map(lambda x: 'persona %d' % x, mod_df.index))\n",
    "\n",
    "## patient\n",
    "patient_output = open(patients_file).read().strip().split('\\n')\n",
    "patient_mat = list(map(lambda x: x.split(), patient_output))\n",
    "patient_header = list(map(lambda elem: 'patient topic %s' % elem, patient_mat[0]))\n",
    "patient_dat = patient_mat[1:]\n",
    "patient_df = pd.DataFrame(patient_dat, columns=mod_header).astype(float)\n",
    "patient_df.index = list(map(lambda x: 'persona %d' % x, patient_df.index))\n",
    "\n",
    "## agent\n",
    "agent_output = open(agents_file).read().strip().split('\\n')\n",
    "agent_mat = list(map(lambda x: x.split(), agent_output))\n",
    "agent_header = list(map(lambda elem: 'agent topic %s' % elem, agent_mat[0]))\n",
    "agent_dat = agent_mat[1:]\n",
    "agent_df = pd.DataFrame(agent_dat, columns=agent_header).astype(float)\n",
    "agent_df.index = list(map(lambda x: 'persona %d' % x, agent_df.index))\n",
    "\n",
    "## concat together\n",
    "persona_df = pd.concat([agent_df, patient_df, mod_df], axis=1)"
   ]
  },
  {
   "cell_type": "code",
   "execution_count": 432,
   "metadata": {},
   "outputs": [],
   "source": [
    "t1 = open(characterConditionalFile, encoding='utf-8').read().split('\\n')\n",
    "character_cond_posterior_df = pd.DataFrame(\n",
    "    list(map(lambda x: x.split('\\t'), t1)),\n",
    "    columns=[\"type\", \"entity_id\", \"doc_id\", \"title\", \"charName\", \"fullName\", \"NumEvents\", \"max_samples\", \"topic_dist\"]\n",
    ")"
   ]
  },
  {
   "cell_type": "code",
   "execution_count": 433,
   "metadata": {},
   "outputs": [],
   "source": [
    "t2 = open(characterPosteriorFile, encoding='utf-8').read().split('\\n')\n",
    "characer_posterior_df = pd.DataFrame(\n",
    "    list(map(lambda x: x.split('\\t'), t2)),\n",
    "    columns=[\"entity_id\", \"doc_id\", \"title\", \"charName\", \"fullName\", \"NumEvents\", \"max_finalPosterior\", \"persona_dist\"]\n",
    ")"
   ]
  },
  {
   "cell_type": "code",
   "execution_count": 481,
   "metadata": {},
   "outputs": [],
   "source": [
    "top_personas = characer_posterior_df['max_finalPosterior'].value_counts().head(10).index"
   ]
  },
  {
   "cell_type": "code",
   "execution_count": 482,
   "metadata": {},
   "outputs": [],
   "source": [
    "from more_itertools import unique_everseen"
   ]
  },
  {
   "cell_type": "code",
   "execution_count": 483,
   "metadata": {},
   "outputs": [],
   "source": [
    "characters_by_persona = (characer_posterior_df\n",
    " .loc[lambda df: df['max_finalPosterior'].isin(top_personas)]\n",
    " .sort_values(['max_finalPosterior', 'NumEvents'], ascending=False)\n",
    " .groupby('max_finalPosterior')['fullName'].aggregate(list)\n",
    ")"
   ]
  },
  {
   "cell_type": "code",
   "execution_count": 484,
   "metadata": {},
   "outputs": [],
   "source": [
    "stop_words = ['he', 'his', 'her', 'she', 'They', 'they']"
   ]
  },
  {
   "cell_type": "code",
   "execution_count": 493,
   "metadata": {},
   "outputs": [],
   "source": [
    "characters_by_persona = (characters_by_persona\n",
    " .apply(lambda x: list(unique_everseen(x)))\n",
    " .apply(lambda x: list(filter(lambda y: y not in stop_words, x)))\n",
    " .apply(lambda x: x[:5])\n",
    ")"
   ]
  },
  {
   "cell_type": "code",
   "execution_count": 592,
   "metadata": {},
   "outputs": [],
   "source": [
    "persona_2_topics = {}\n",
    "for persona_idx in characters_by_persona.index:\n",
    "    ### \n",
    "    top_topics_idx_by_persona = list(\n",
    "        persona_df\n",
    "            .T['persona %s' % persona_idx]\n",
    "            .sort_values(ascending=False)\n",
    "            .index[:3]\n",
    "    )\n",
    "    ### \n",
    "    top_topics_by_persona = []\n",
    "    for top_topic in top_topics_idx_by_persona:\n",
    "        role, _, topic = top_topic.split(' ')\n",
    "        topic_word = top_words_by_topic[int(topic)][0].upper()\n",
    "        top_topics_by_persona.append('$\\text{%s}_{%s}$' % (topic_word , role ))\n",
    "    ### \n",
    "    persona_2_topics[persona_idx] = top_topics_by_persona"
   ]
  },
  {
   "cell_type": "code",
   "execution_count": 593,
   "metadata": {},
   "outputs": [],
   "source": [
    "pd.options.display.max_colwidth=100\n",
    "pd.options.display.large_repr='truncate'\n",
    "sample_top_personas = (pd.concat([\n",
    "    characters_by_persona.to_frame('sample characters'),\n",
    "    characer_posterior_df['max_finalPosterior'].value_counts().pipe(lambda s: s/s.sum()).to_frame('frequency'),\n",
    "    pd.Series(persona_2_topics).to_frame('topic words')\n",
    "], axis=1, sort=True).sort_values('frequency', ascending=False)\n",
    ".dropna()\n",
    ")"
   ]
  },
  {
   "cell_type": "code",
   "execution_count": 594,
   "metadata": {},
   "outputs": [
    {
     "data": {
      "text/html": [
       "<div>\n",
       "<style scoped>\n",
       "    .dataframe tbody tr th:only-of-type {\n",
       "        vertical-align: middle;\n",
       "    }\n",
       "\n",
       "    .dataframe tbody tr th {\n",
       "        vertical-align: top;\n",
       "    }\n",
       "\n",
       "    .dataframe thead th {\n",
       "        text-align: right;\n",
       "    }\n",
       "</style>\n",
       "<table border=\"1\" class=\"dataframe\">\n",
       "  <thead>\n",
       "    <tr style=\"text-align: right;\">\n",
       "      <th></th>\n",
       "      <th>Persona</th>\n",
       "      <th>Frequency</th>\n",
       "      <th>Topic Words</th>\n",
       "      <th>Sample Characters</th>\n",
       "    </tr>\n",
       "  </thead>\n",
       "  <tbody>\n",
       "    <tr>\n",
       "      <th>0</th>\n",
       "      <td>23</td>\n",
       "      <td>0.091094</td>\n",
       "      <td>[$\\text{SAY}_{agent}$, $\\text{PRESIDENT}_{mod}$, $\\text{HAVE}_{agent}$]</td>\n",
       "      <td>[Dr. Setzer, Dr. Manasse, Mr. Kolstad, Mr. Moore, Dr. Pak]</td>\n",
       "    </tr>\n",
       "    <tr>\n",
       "      <th>1</th>\n",
       "      <td>14</td>\n",
       "      <td>0.088887</td>\n",
       "      <td>[$\\text{SAY}_{agent}$, $\\text{OFFICIAL}_{mod}$, $\\text{MAKE}_{agent}$]</td>\n",
       "      <td>[Mr. Shultz, a diplomat, the official, the rebels, Cardinal Ballestrero]</td>\n",
       "    </tr>\n",
       "    <tr>\n",
       "      <th>2</th>\n",
       "      <td>22</td>\n",
       "      <td>0.071688</td>\n",
       "      <td>[$\\text{LEADER}_{mod}$, $\\text{MAKE}_{agent}$, $\\text{SAY}_{agent}$]</td>\n",
       "      <td>[Mr. Gorbachev, leader, the Democrats, several candidates, Mr. Reagan]</td>\n",
       "    </tr>\n",
       "    <tr>\n",
       "      <th>3</th>\n",
       "      <td>12</td>\n",
       "      <td>0.061751</td>\n",
       "      <td>[$\\text{MAN}_{mod}$, $\\text{SAY}_{agent}$, $\\text{TELL}_{mod}$]</td>\n",
       "      <td>[Mr. Harvey, Mr. Ji, gay and bisexual men, Mr. King, The second suspect , identified as Flavio P...</td>\n",
       "    </tr>\n",
       "    <tr>\n",
       "      <th>4</th>\n",
       "      <td>8</td>\n",
       "      <td>0.052223</td>\n",
       "      <td>[$\\text{HAVE}_{agent}$, $\\text{COUNTRY}_{mod}$, $\\text{ALLOW}_{mod}$]</td>\n",
       "      <td>[Pakistan, The Government, Israel, the Labor Party, Japan]</td>\n",
       "    </tr>\n",
       "    <tr>\n",
       "      <th>5</th>\n",
       "      <td>19</td>\n",
       "      <td>0.049930</td>\n",
       "      <td>[$\\text{SAY}_{agent}$, $\\text{MOTHER}_{mod}$, $\\text{TELL}_{mod}$]</td>\n",
       "      <td>[Mr. Ashbrook, Mr. Smith, Michael, the Jews, his wife]</td>\n",
       "    </tr>\n",
       "    <tr>\n",
       "      <th>6</th>\n",
       "      <td>6</td>\n",
       "      <td>0.042686</td>\n",
       "      <td>[$\\text{LAWYER}_{mod}$, $\\text{SAY}_{agent}$, $\\text{HAVE}_{agent}$]</td>\n",
       "      <td>[one associate, The prosecutors, the judge, Mr. Phelan, Mr. Dall]</td>\n",
       "    </tr>\n",
       "    <tr>\n",
       "      <th>7</th>\n",
       "      <td>24</td>\n",
       "      <td>0.039443</td>\n",
       "      <td>[$\\text{STUDENT}_{mod}$, $\\text{SAY}_{agent}$, $\\text{HAVE}_{agent}$]</td>\n",
       "      <td>[the students, the workers, the President-elect, Mr. Possner, The worker]</td>\n",
       "    </tr>\n",
       "    <tr>\n",
       "      <th>8</th>\n",
       "      <td>11</td>\n",
       "      <td>0.037645</td>\n",
       "      <td>[$\\text{SAY}_{agent}$, $\\text{SAY}_{agent}$, $\\text{MAN}_{mod}$]</td>\n",
       "      <td>[Justice Blackmun, Mr. Abdullah, Mr. Shata, Mr. Fortier, Ferreira]</td>\n",
       "    </tr>\n",
       "    <tr>\n",
       "      <th>9</th>\n",
       "      <td>0</td>\n",
       "      <td>0.036269</td>\n",
       "      <td>[$\\text{SAY}_{agent}$, $\\text{MAN}_{mod}$, $\\text{MAKE}_{agent}$]</td>\n",
       "      <td>[Mr. Frankel, Hess, Mr. Lai, I, Mr. Jackson]</td>\n",
       "    </tr>\n",
       "  </tbody>\n",
       "</table>\n",
       "</div>"
      ],
      "text/plain": [
       "  Persona  Frequency  \\\n",
       "0      23   0.091094   \n",
       "1      14   0.088887   \n",
       "2      22   0.071688   \n",
       "3      12   0.061751   \n",
       "4       8   0.052223   \n",
       "5      19   0.049930   \n",
       "6       6   0.042686   \n",
       "7      24   0.039443   \n",
       "8      11   0.037645   \n",
       "9       0   0.036269   \n",
       "\n",
       "                                                               Topic Words  \\\n",
       "0  [$\\text{SAY}_{agent}$, $\\text{PRESIDENT}_{mod}$, $\\text{HAVE}_{agent}$]   \n",
       "1   [$\\text{SAY}_{agent}$, $\\text{OFFICIAL}_{mod}$, $\\text{MAKE}_{agent}$]   \n",
       "2     [$\\text{LEADER}_{mod}$, $\\text{MAKE}_{agent}$, $\\text{SAY}_{agent}$]   \n",
       "3          [$\\text{MAN}_{mod}$, $\\text{SAY}_{agent}$, $\\text{TELL}_{mod}$]   \n",
       "4    [$\\text{HAVE}_{agent}$, $\\text{COUNTRY}_{mod}$, $\\text{ALLOW}_{mod}$]   \n",
       "5       [$\\text{SAY}_{agent}$, $\\text{MOTHER}_{mod}$, $\\text{TELL}_{mod}$]   \n",
       "6     [$\\text{LAWYER}_{mod}$, $\\text{SAY}_{agent}$, $\\text{HAVE}_{agent}$]   \n",
       "7    [$\\text{STUDENT}_{mod}$, $\\text{SAY}_{agent}$, $\\text{HAVE}_{agent}$]   \n",
       "8         [$\\text{SAY}_{agent}$, $\\text{SAY}_{agent}$, $\\text{MAN}_{mod}$]   \n",
       "9        [$\\text{SAY}_{agent}$, $\\text{MAN}_{mod}$, $\\text{MAKE}_{agent}$]   \n",
       "\n",
       "                                                                                     Sample Characters  \n",
       "0                                           [Dr. Setzer, Dr. Manasse, Mr. Kolstad, Mr. Moore, Dr. Pak]  \n",
       "1                             [Mr. Shultz, a diplomat, the official, the rebels, Cardinal Ballestrero]  \n",
       "2                               [Mr. Gorbachev, leader, the Democrats, several candidates, Mr. Reagan]  \n",
       "3  [Mr. Harvey, Mr. Ji, gay and bisexual men, Mr. King, The second suspect , identified as Flavio P...  \n",
       "4                                           [Pakistan, The Government, Israel, the Labor Party, Japan]  \n",
       "5                                               [Mr. Ashbrook, Mr. Smith, Michael, the Jews, his wife]  \n",
       "6                                    [one associate, The prosecutors, the judge, Mr. Phelan, Mr. Dall]  \n",
       "7                            [the students, the workers, the President-elect, Mr. Possner, The worker]  \n",
       "8                                   [Justice Blackmun, Mr. Abdullah, Mr. Shata, Mr. Fortier, Ferreira]  \n",
       "9                                                         [Mr. Frankel, Hess, Mr. Lai, I, Mr. Jackson]  "
      ]
     },
     "execution_count": 594,
     "metadata": {},
     "output_type": "execute_result"
    }
   ],
   "source": [
    "(sample_top_personas\n",
    " .reset_index()\n",
    " .rename(columns={'index': \"persona\"})\n",
    " .rename(columns=lambda x: x.title())\n",
    " [['Persona',  'Frequency', 'Topic Words', 'Sample Characters']]\n",
    ")"
   ]
  },
  {
   "cell_type": "markdown",
   "metadata": {},
   "source": [
    "# Next steps:\n",
    "\n",
    "* Problems with entity extraction:\n",
    "  * Bamman et. al's model doesn't do a good job of capturing named entities without referents\n",
    "  * Their model extracts non named-entity coreferents\n",
    "* Problems with vocabulary\n",
    "  * Their criterion is perhaps ill-suited for a news domain, where many witnesses are not doing anything.\n",
    "  * Their criterion doesn't capture quotes or parenthetical asides.\n",
    "* Latent document topics?\n",
    "* What to do with this work?"
   ]
  },
  {
   "cell_type": "code",
   "execution_count": null,
   "metadata": {},
   "outputs": [],
   "source": []
  },
  {
   "cell_type": "code",
   "execution_count": null,
   "metadata": {},
   "outputs": [],
   "source": []
  },
  {
   "cell_type": "code",
   "execution_count": 44,
   "metadata": {},
   "outputs": [],
   "source": [
    "# mainparts = input_data[0].strip().split('\\t')\n",
    "# movieID = mainparts[0].strip();\n",
    "# agentLine = mainparts[1].strip();\n",
    "# patientLine = mainparts[2].strip();\n",
    "# modifierLine = mainparts[3].strip();\n",
    "# entityNameString = mainparts[4].strip();\n",
    "# entityFullNameString = mainparts[5].strip();\n",
    "\n",
    "# entitiesByEID = {}\n",
    "\n",
    "# doc = {}\n",
    "# doc['id'] = movieID;\n",
    "\n",
    "# entitiesByEID = {}\n",
    "# # Read entity head lemmas\n",
    "# head_lemmas = json.loads(entityNameString)\n",
    "# for e, name in head_lemmas.items():\n",
    "#     e = e.lower()\n",
    "#     entity = entitiesByEID.get(e, {})\n",
    "#     entity['name'] = name\n",
    "#     entitiesByEID[e] = entity\n",
    "    \n",
    "# # Read entity full text mentions\n",
    "# full_text_mention = json.loads(entityFullNameString)\n",
    "# for e, name in full_text_mention.items():\n",
    "#     e = e.lower()\n",
    "#     entity = entitiesByEID.get(e, {})\n",
    "#     entity['full_name'] = name\n",
    "#     entitiesByEID[e] = entity\n",
    "\n",
    "# # Read the tuple predarg fragments\n",
    "# eventsByTID = {}\n",
    "# readTupleArgs(\"AGENT\", agentLine, entitiesByEID, eventsByTID)\n",
    "# readTupleArgs(\"PATIENT\", patientLine, entitiesByEID, eventsByTID)\n",
    "# readTupleArgs(\"MODIFIER\", modifierLine, entitiesByEID, eventsByTID)\n",
    "\n",
    "# def readTupleArgs(role, argLine, entitiesByEID, eventsByTID):\n",
    "#     parts = argLine.split(\" \")\n",
    "#     for word in parts:\n",
    "#         wparts = word.split(\":\")\n",
    "#         if len(wparts) > 3:\n",
    "#             eKey = wparts[0].lower()\n",
    "#             tupleID = wparts[1]\n",
    "#             supertag = wparts[2]\n",
    "#             verb = wparts[3]\n",
    "            \n",
    "#             entitiesByEID[eKey][role] = entitiesByEID[eKey].get(role, []) + [verb]\n",
    "#             if tupleID not in eventsByTID:\n",
    "#                 eventsByTID[tupleID] = (tupleID, verb)"
   ]
  }
 ],
 "metadata": {
  "hide_input": false,
  "kernelspec": {
   "display_name": "Python 3",
   "language": "python",
   "name": "python3"
  },
  "language_info": {
   "codemirror_mode": {
    "name": "ipython",
    "version": 3
   },
   "file_extension": ".py",
   "mimetype": "text/x-python",
   "name": "python",
   "nbconvert_exporter": "python",
   "pygments_lexer": "ipython3",
   "version": "3.7.3"
  },
  "latex_envs": {
   "LaTeX_envs_menu_present": true,
   "autoclose": false,
   "autocomplete": true,
   "bibliofile": "biblio.bib",
   "cite_by": "apalike",
   "current_citInitial": 1,
   "eqLabelWithNumbers": true,
   "eqNumInitial": 1,
   "hotkeys": {
    "equation": "Ctrl-E",
    "itemize": "Ctrl-I"
   },
   "labels_anchors": false,
   "latex_user_defs": false,
   "report_style_numbering": false,
   "user_envs_cfg": false
  }
 },
 "nbformat": 4,
 "nbformat_minor": 2
}
