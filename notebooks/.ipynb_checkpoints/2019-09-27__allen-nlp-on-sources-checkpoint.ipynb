{
 "cells": [
  {
   "cell_type": "code",
   "execution_count": 595,
   "metadata": {},
   "outputs": [],
   "source": [
    "import itertools\n",
    "try:\n",
    "    import allennlp\n",
    "    from allennlp.predictors.predictor import Predictor\n",
    "except:\n",
    "    pass\n",
    "\n",
    "import re\n",
    "import pyperclip\n",
    "import unidecode\n",
    "from importlib import reload\n",
    "import spacy\n",
    "nlp = spacy.load(\"en_core_web_sm\")\n",
    "import sys\n",
    "sys.path.append('../scripts/')\n",
    "import util\n",
    "import parsing_util\n",
    "reload(util)\n",
    "reload(parsing_util)\n",
    "from IPython.display import HTML\n",
    "from collections import defaultdict\n",
    "import jellyfish\n",
    "import sys\n",
    "sys.path.append('../scripts/')\n",
    "import util\n",
    "import pandas as pd\n",
    "import xml.etree.ElementTree as ET\n",
    "from io import StringIO\n",
    "import numpy as np\n",
    "import itertools\n",
    "from more_itertools import unique_everseen"
   ]
  },
  {
   "cell_type": "code",
   "execution_count": 14,
   "metadata": {},
   "outputs": [],
   "source": [
    "doc = \"\"\"LEAD : For four and a half hours Wednesday , Dominick P. Pannunzio and 19 other guests in the burning Dupont Plaza Hotel lay sprawled on a 16th-story balcony , certain they were going to die . '' Everybody was crying , '' the 50-year-old lawyer from Pennsylvania said . I was crying myself . Mr. Pannunzio , who had come out of the shower nude when he heard a commotion in the hall and grabbed a sheet to cover himself , said he and his group fruitlessly screamed and waved to attract the attention of rescue workers . At the end , we were all just praying , '' said Betsy Sorber , 26 , who had flown to Puerto Rico with Mr. Pannunzio and five others on a gambling junket several days ago . Finally , she said , firefighters broke down the door of the smoke-filled hotel room and led them to the roof . ' What Is the Best Way to Die ? ' At that point , Mr. Pannunzio said , he had begun contemplating `` what was the best way to die , burning or jumping . Mr. Pannunzio , dressed today in a hospital worker 's green surgical room pants and new running shoes , said he thought of jumping off the balcony with a mattress to cushion his fall . But that was too crazy , '' he said . One man in the group tried climbing up the side of the building toward the roof , but he kept slipping and seemed in danger of plunging to the ground . Finally , Mr. Pannunzio said , the others talked him into huddling with them on the balcony , wet towels and wash cloths pressed to their noses to help them breath in the dense black smoke . Fifteen minutes before the fire broke out , Mr. Pannunzio said , he had been playing craps in the ground-floor casino , continuing a winning streak of more than $ 10,000 . He had gone up to his room , 1508 , to shower before going shopping with Miss Sorber . She was resting on the bed in slacks pulled over a one-piece bathing suit . Mr. Pannunzio bounded out of the shower , threw open the room door and saw clouds of gray smoke and running guests . Together , they plunged into a nightmarish fire exit stairwell , with people screaming , pushing , shoving , falling and being trampled . We ran down to the eighth floor , '' he recalled , `` and we ran into a solid wall of people yelling , ` Go up ! Go up ! You ca n't get through here ! ' You could n't see . Everyone was in a panic . ` People Were Gagging ' `` At the 17th or 18th floor , '' Mr. Pannunzio continued , `` a bunch of people were coming down yelling , ` Down ! down ! You ca n't go up ! ' We tried to get into one of the halls but all the doors were locked . People were gagging and falling down . I was getting woozy . Suddenly , he said , a hysterical maid threw open a door on the 16th floor and Mr. Pannunzio and about 20 others surged behind him . The maid had keys and let them into a room . They soaked the towels and linen , pressed them to their faces and shuffled to the balcony . People were crying and praying : ` Dear God , dear God , we 're going to die , ' '' he said . Several times a helicopter crew swung a seat on a rope toward them but no one could reach it , Mr. Pannunzio said . At one point , Mr. Pannunzio said , he thought of the film , `` The Towering Inferno , '' and of the fire at the M-G-M Grand Hotel in Las Vegas , Nev. , in 1980 . I thought , ` God , I 'm on my couch watching television and I 'm a part of this , ' '' he said . I thought , ` Any minute I 'm going to die . ' When the rescue team broke through , Miss Sorber recalled , she could see only a tiny flicker of light from the usually bright helmet lights the men wore . We all held hands , '' Miss Sorber said , `` and they led us out . We could n't see where we were going . Outside in fresh air , the group then had to scale a steel ladder that ran straight up the side of a wall leading to the roof , more than 20 stories above the street . One of Mr. Pannunzio 's friends from Pennsylvania broke a window in the casino with a chair and jumped two stories to the pavement . He broke a leg and severely cut one arm . Another member of the party , Mr. Pannunzio said , was still unaccounted for this afternoon .\"\"\""
   ]
  },
  {
   "cell_type": "code",
   "execution_count": 15,
   "metadata": {},
   "outputs": [
    {
     "data": {
      "text/plain": [
       "<module 'util' from '../scripts\\\\util.py'>"
      ]
     },
     "execution_count": 15,
     "metadata": {},
     "output_type": "execute_result"
    }
   ],
   "source": [
    "util"
   ]
  },
  {
   "cell_type": "code",
   "execution_count": 524,
   "metadata": {},
   "outputs": [],
   "source": [
    "a1_df = pd.read_csv('../data/a1_df.csv', header=None, index_col=0, squeeze=True)\n",
    "t = util.clean(a1_df.iloc[6])"
   ]
  },
  {
   "cell_type": "code",
   "execution_count": 17,
   "metadata": {},
   "outputs": [],
   "source": [
    "import os, glob\n",
    "stanford_files = glob.glob('../data/news-article-flatlist/stanford-parses/*')"
   ]
  },
  {
   "cell_type": "code",
   "execution_count": 58,
   "metadata": {},
   "outputs": [],
   "source": [
    "## Stanford CoreNLP\n",
    "data = open(stanford_files[20]).read()\n",
    "doc_etree = ET.fromstring(data)"
   ]
  },
  {
   "cell_type": "code",
   "execution_count": null,
   "metadata": {},
   "outputs": [],
   "source": []
  },
  {
   "cell_type": "markdown",
   "metadata": {},
   "source": [
    "# Resolve Coreference"
   ]
  },
  {
   "cell_type": "markdown",
   "metadata": {},
   "source": [
    "### Allen NLP"
   ]
  },
  {
   "cell_type": "code",
   "execution_count": 60,
   "metadata": {},
   "outputs": [],
   "source": [
    "try:\n",
    "    coref_predictor = Predictor.from_path(\"https://s3-us-west-2.amazonaws.com/allennlp/models/coref-model-2018.02.05.tar.gz\")\n",
    "    coref_clusters = coref_predictor.predict(document=clean_doc)\n",
    "    for start, end in coref_clusters['clusters'][0]:\n",
    "        print(coref_clusters['document'][start:end+1])\n",
    "\n",
    "    coref_clusters['clusters'][0]\n",
    "    coref_clusters['top_spans'][:5]\n",
    "except:\n",
    "    pass"
   ]
  },
  {
   "cell_type": "markdown",
   "metadata": {},
   "source": [
    "#### Stanford CoreNLP"
   ]
  },
  {
   "cell_type": "code",
   "execution_count": 61,
   "metadata": {},
   "outputs": [
    {
     "data": {
      "text/plain": [
       "<module 'parsing_util' from '../scripts\\\\parsing_util.py'>"
      ]
     },
     "execution_count": 61,
     "metadata": {},
     "output_type": "execute_result"
    }
   ],
   "source": [
    "reload(parsing_util)"
   ]
  },
  {
   "cell_type": "code",
   "execution_count": 62,
   "metadata": {},
   "outputs": [],
   "source": [
    "stanford_corefs = parsing_util.convert_coref(doc_etree=doc_etree, sentences=sents_list)"
   ]
  },
  {
   "cell_type": "code",
   "execution_count": 63,
   "metadata": {},
   "outputs": [
    {
     "data": {
      "text/html": [
       "LEAD : Prosecutors in the Howard Beach , <span style=\"background-color: rgba(188, 143, 143, 0.8)\">Queens</span> , <span style=\"background-color: rgba(255, 245, 238, 0.8)\">case</span> have obtained new <span style=\"background-color: rgba(255, 228, 196, 0.8)\">evidence</span> indicating that white <span style=\"background-color: rgba(169, 169, 169, 0.8)\">youths</span> were in close pursuit of Michael <span style=\"background-color: rgba(105, 105, 105, 0.8)\">Griffith</span> when <span style=\"background-color: rgba(105, 105, 105, 0.8)\">he</span> ran onto the <span style=\"background-color: rgba(255, 255, 240, 0.8)\">parkway</span> where <span style=\"background-color: rgba(105, 105, 105, 0.8)\">he</span> was killed by a car on the night of Dec. 19-20 , according to law-enforcement sources . Earlier accounts placed Mr. <span style=\"background-color: rgba(105, 105, 105, 0.8)\">Griffiths</span> blocks from <span style=\"background-color: rgba(105, 105, 105, 0.8)\">his</span> pursuers at the time <span style=\"background-color: rgba(105, 105, 105, 0.8)\">he</span> was killed . Sources familiar with the <span style=\"background-color: rgba(255, 245, 238, 0.8)\">case</span> said the new <span style=\"background-color: rgba(255, 228, 196, 0.8)\">evidence</span> meant that the special <span style=\"background-color: rgba(105, 105, 105, 0.8)\">prosecutor</span> in the <span style=\"background-color: rgba(255, 245, 238, 0.8)\">case</span> , Charles J. Hynes , was likely to seek indictments for murder rather than for some lesser charges . The account - based mainly on admissions in recent weeks by at least one of the white teen-agers - places the pursuing whites closer to the spot where Mr. <span style=\"background-color: rgba(105, 105, 105, 0.8)\">Griffith</span> died and suggests that the 23-year-old black <span style=\"background-color: rgba(105, 105, 105, 0.8)\">man</span> had little choice but to go onto the <span style=\"background-color: rgba(106, 90, 205, 0.8)\">highway</span> . Indictments may well be lodged against several teen-agers other than the three who have already been charged with reckless endangerment in the beating of one of the <span style=\"background-color: rgba(255, 235, 205, 0.8)\">victims</span> , Cedric Sandiford , the <span style=\"background-color: rgba(245, 222, 179, 0.8)\">sources</span> said . ' Widens the Scope ' '' This new <span style=\"background-color: rgba(47, 79, 79, 0.8)\">account</span> does not in any way help the three <span style=\"background-color: rgba(255, 255, 255, 0.8)\">whites</span> who hit <span style=\"background-color: rgba(139, 69, 19, 0.8)\">Sandiford</span> , but <span style=\"background-color: rgba(47, 79, 79, 0.8)\">it</span> does implicate some other <span style=\"background-color: rgba(255, 255, 255, 0.8)\">whites</span> in the pursuit of <span style=\"background-color: rgba(105, 105, 105, 0.8)\">Griffith</span> , '' a senior investigator said . '' In effect , <span style=\"background-color: rgba(47, 79, 79, 0.8)\">it</span> widens the scope . The first <span style=\"background-color: rgba(0, 128, 0, 0.8)\">accounts</span> , based largely on details provided by Mr. <span style=\"background-color: rgba(139, 69, 19, 0.8)\">Sandiford</span> , had Mr. <span style=\"background-color: rgba(152, 251, 152, 0.8)\">Griffith</span> escaping from the <span style=\"background-color: rgba(255, 255, 255, 0.8)\">whites</span> through a hole in a fence about half a <span style=\"background-color: rgba(152, 251, 152, 0.8)\">dozen</span> blocks from where , according to the new version , he entered the Belt <span style=\"background-color: rgba(255, 255, 240, 0.8)\">Parkway</span> . In the original <span style=\"background-color: rgba(0, 128, 0, 0.8)\">accounts</span> , Mr. <span style=\"background-color: rgba(105, 105, 105, 0.8)\">Griffith</span> ran 285 yards along the <span style=\"background-color: rgba(255, 255, 240, 0.8)\">parkway</span> before <span style=\"background-color: rgba(105, 105, 105, 0.8)\">he</span> was killed . Law-enforcement sources said the new <span style=\"background-color: rgba(47, 79, 79, 0.8)\">account</span> followed extensive re-interviewing by the <span style=\"background-color: rgba(211, 211, 211, 0.8)\">police</span> in January , during which they learned from friends of the white <span style=\"background-color: rgba(169, 169, 169, 0.8)\">youths</span> that Mr. <span style=\"background-color: rgba(105, 105, 105, 0.8)\">Griffith</span> had been chased to the edge of the <span style=\"background-color: rgba(106, 90, 205, 0.8)\">highway</span> , if not into the <span style=\"background-color: rgba(0, 191, 255, 0.8)\">lanes</span> of traffic . That information , the <span style=\"background-color: rgba(245, 222, 179, 0.8)\">sources</span> said , was turned over to Mr. Hynes , the prosecutor named on Jan. 14 by Governor Cuomo to take charge of the <span style=\"background-color: rgba(255, 245, 238, 0.8)\">case</span> . The <span style=\"background-color: rgba(245, 222, 179, 0.8)\">sources</span> said Mr. <span style=\"background-color: rgba(154, 205, 50, 0.8)\">Hynes</span> , who by that time may have already had some information along those lines , quickly built on the new <span style=\"background-color: rgba(47, 79, 79, 0.8)\">account</span> . Sources speculated that Mr. <span style=\"background-color: rgba(154, 205, 50, 0.8)\">Hynes</span> either used the information to persuade one of the white <span style=\"background-color: rgba(0, 0, 128, 0.8)\">youths</span> present during the <span style=\"background-color: rgba(169, 169, 169, 0.8)\">attack</span> to give a complete <span style=\"background-color: rgba(47, 79, 79, 0.8)\">account</span> of the events or that one of the <span style=\"background-color: rgba(0, 0, 128, 0.8)\">youths</span> finally decided to come forward with the <span style=\"background-color: rgba(47, 79, 79, 0.8)\">account</span> in his own interest . Mr. <span style=\"background-color: rgba(154, 205, 50, 0.8)\">Hynes</span> took over the emotionally charged <span style=\"background-color: rgba(255, 245, 238, 0.8)\">case</span> from District Attorney John J. Santucci of <span style=\"background-color: rgba(188, 143, 143, 0.8)\">Queens</span> amid a growing controversy over its handling . Within days of the <span style=\"background-color: rgba(255, 255, 224, 0.8)\">incident</span> , the surviving <span style=\"background-color: rgba(245, 245, 220, 0.8)\">victims</span> and <span style=\"background-color: rgba(245, 245, 220, 0.8)\">their</span> lawyers charged the <span style=\"background-color: rgba(211, 211, 211, 0.8)\">police</span> and the local prosecutor with a cover-up and said <span style=\"background-color: rgba(245, 245, 220, 0.8)\">they</span> would cooperate only with a superseding official . Just West of Airport The new <span style=\"background-color: rgba(47, 79, 79, 0.8)\">account</span> , according to sources , does not alter the basic outline of the highly publicized case - that a group of 11 white youths attacked or tried to assault Mr. Griffith , Mr. Sandford and Timothy <span style=\"background-color: rgba(128, 128, 0, 0.8)\">Grimes</span> after the car the <span style=\"background-color: rgba(218, 112, 214, 0.8)\">blacks</span> were in broke down in the predominantly white <span style=\"background-color: rgba(250, 128, 114, 0.8)\">community</span> just west of Kennedy International Airport . But the <span style=\"background-color: rgba(245, 222, 179, 0.8)\">sources</span> said the <span style=\"background-color: rgba(47, 79, 79, 0.8)\">account</span> changes the route taken by Mr. <span style=\"background-color: rgba(105, 105, 105, 0.8)\">Griffith</span> in running from the <span style=\"background-color: rgba(255, 255, 255, 0.8)\">whites</span> and thus raises questions about the accuracy of Mr. <span style=\"background-color: rgba(139, 69, 19, 0.8)\">Sandiford</span> 's initial <span style=\"background-color: rgba(47, 79, 79, 0.8)\">account</span> . Mr. <span style=\"background-color: rgba(154, 205, 50, 0.8)\">Hynes</span> , who began presenting evidence to a <span style=\"background-color: rgba(188, 143, 143, 0.8)\">Queens</span> grand jury on Jan. 20 , did not return phone messages left at <span style=\"background-color: rgba(139, 69, 19, 0.8)\">his</span> office <span style=\"background-color: rgba(255, 228, 225, 0.8)\">yesterday</span> . It is not clear whether any of the participants in the <span style=\"background-color: rgba(169, 169, 169, 0.8)\">attack</span> has been given immunity from prosecution in exchange for testimony or whether Mr. <span style=\"background-color: rgba(139, 69, 19, 0.8)\">Sandiford</span> , who has been re-interviewed by Mr. <span style=\"background-color: rgba(154, 205, 50, 0.8)\">Hynes</span> , has changed <span style=\"background-color: rgba(139, 69, 19, 0.8)\">his</span> original <span style=\"background-color: rgba(47, 79, 79, 0.8)\">account</span> . Charges Reduced When Mr. <span style=\"background-color: rgba(139, 69, 19, 0.8)\">Sandiford</span> did not appear at a hearing in Queens Criminal Court on Dec. 29 , Judge Ernest Bianchi said there was `` insufficient evidence '' to sustain Mr. Santucci 's preliminary charges against three defendants of murder , manslaughter and assault . The charges against the three - Jon L. Lester , 17 years old ; Jason Ladone , 16 , and Scott Kern , 17 - were reduced to reckless endangerment . All three had given statements regarding the beating of Mr. <span style=\"background-color: rgba(139, 69, 19, 0.8)\">Sandiford</span> , but none had admitted attacking Mr. <span style=\"background-color: rgba(105, 105, 105, 0.8)\">Griffith</span> . The incident that preceded Mr. <span style=\"background-color: rgba(105, 105, 105, 0.8)\">Griffith</span> 's death began around midnight on <span style=\"background-color: rgba(255, 0, 0, 0.8)\">Dec.</span> 19 , when the three black <span style=\"background-color: rgba(255, 182, 193, 0.8)\">men</span> approached a pizza parlor in Howard Beach after <span style=\"background-color: rgba(255, 182, 193, 0.8)\">their</span> car broke down on <span style=\"background-color: rgba(255, 222, 173, 0.8)\">Cross</span> <span style=\"background-color: rgba(50, 205, 50, 0.8)\">Bay</span> <span style=\"background-color: rgba(124, 252, 0, 0.8)\">Boulevard</span> , just south of the <span style=\"background-color: rgba(250, 128, 114, 0.8)\">community</span> . Mr. <span style=\"background-color: rgba(139, 69, 19, 0.8)\">Sandiford</span> , Mr. <span style=\"background-color: rgba(105, 105, 105, 0.8)\">Griffith</span> 's stepfather , is 36 years old . Mr. <span style=\"background-color: rgba(139, 69, 19, 0.8)\">Grimes</span> , a <span style=\"background-color: rgba(105, 105, 105, 0.8)\">Griffith</span> family friend who lives with Mr. <span style=\"background-color: rgba(139, 69, 19, 0.8)\">Sandiford</span> 's niece , is 19 . As the <span style=\"background-color: rgba(255, 235, 205, 0.8)\">victims</span> crossed the <span style=\"background-color: rgba(124, 252, 0, 0.8)\">boulevard</span> and 157th Avenue , where the pizza <span style=\"background-color: rgba(220, 20, 60, 0.8)\">parlor</span> is , several young white men in a car shouted racial epithets , and the <span style=\"background-color: rgba(218, 112, 214, 0.8)\">blacks</span> shouted back , according to police accounts . The <span style=\"background-color: rgba(255, 255, 255, 0.8)\">whites</span> returned to a party <span style=\"background-color: rgba(255, 255, 255, 0.8)\">they</span> had come from , and , with at least one of <span style=\"background-color: rgba(255, 255, 255, 0.8)\">them</span> saying , `` There 's some niggers in the pizza <span style=\"background-color: rgba(220, 20, 60, 0.8)\">parlor</span> - let 's go kill <span style=\"background-color: rgba(255, 255, 255, 0.8)\">them</span> , '' <span style=\"background-color: rgba(255, 255, 255, 0.8)\">they</span> and as many as eight other youths headed back to the pizza <span style=\"background-color: rgba(220, 20, 60, 0.8)\">parlor</span> . Armed With Baseball Bat When the black <span style=\"background-color: rgba(255, 182, 193, 0.8)\">men</span> came out of the pizza <span style=\"background-color: rgba(220, 20, 60, 0.8)\">parlor</span> , <span style=\"background-color: rgba(255, 182, 193, 0.8)\">they</span> were confronted by the whites , at least one of whom , the <span style=\"background-color: rgba(211, 211, 211, 0.8)\">police</span> said later , was armed with a baseball bat . What then happened is now the subject of at least two accounts - the first given by Mr. <span style=\"background-color: rgba(139, 69, 19, 0.8)\">Sandiford</span> before <span style=\"background-color: rgba(139, 69, 19, 0.8)\">he</span> withheld <span style=\"background-color: rgba(139, 69, 19, 0.8)\">his</span> cooperation and the second given , since Mr. <span style=\"background-color: rgba(154, 205, 50, 0.8)\">Hynes</span> took over the <span style=\"background-color: rgba(255, 245, 238, 0.8)\">case</span> , by one or more of the white <span style=\"background-color: rgba(169, 169, 169, 0.8)\">youths</span> . In Mr. <span style=\"background-color: rgba(139, 69, 19, 0.8)\">Sandiford</span> 's <span style=\"background-color: rgba(47, 79, 79, 0.8)\">account</span> , as <span style=\"background-color: rgba(47, 79, 79, 0.8)\">it</span> was made known by the authorities in the days after the <span style=\"background-color: rgba(255, 255, 224, 0.8)\">incident</span> , Mr. <span style=\"background-color: rgba(128, 128, 0, 0.8)\">Grimes</span> escaped the white <span style=\"background-color: rgba(169, 169, 169, 0.8)\">youths</span> altogether . Mr. <span style=\"background-color: rgba(106, 90, 205, 0.8)\">Sandiford</span> and Mr. <span style=\"background-color: rgba(105, 105, 105, 0.8)\">Griffith</span> ran north one block on <span style=\"background-color: rgba(255, 222, 173, 0.8)\">Cross</span> <span style=\"background-color: rgba(50, 205, 50, 0.8)\">Bay</span> <span style=\"background-color: rgba(124, 252, 0, 0.8)\">Boulevard</span> and turned left on 156th Avenue . The two <span style=\"background-color: rgba(106, 90, 205, 0.8)\">men</span> , with Mr. <span style=\"background-color: rgba(105, 105, 105, 0.8)\">Griffith</span> in the lead , ran half a dozen blocks down 156th <span style=\"background-color: rgba(128, 128, 128, 0.8)\">Street</span> and to <span style=\"background-color: rgba(128, 128, 128, 0.8)\">its</span> continuation as a smaller road , Shore <span style=\"background-color: rgba(255, 255, 240, 0.8)\">Parkway</span> . Along Shore <span style=\"background-color: rgba(255, 255, 240, 0.8)\">Parkway</span> , where only a 6-foot-high fence separates the <span style=\"background-color: rgba(210, 105, 30, 0.8)\">street</span> from a grassy area alongside the east <span style=\"background-color: rgba(0, 191, 255, 0.8)\">lanes</span> of the Belt <span style=\"background-color: rgba(255, 255, 240, 0.8)\">Parkway</span> , Mr. <span style=\"background-color: rgba(139, 69, 19, 0.8)\">Sandiford</span> was hit twice by at least several whites who had given pursuit in cars and on foot . Mr. <span style=\"background-color: rgba(105, 105, 105, 0.8)\">Griffith</span> , the original <span style=\"background-color: rgba(47, 79, 79, 0.8)\">account</span> said , got a block or two ahead of Mr. <span style=\"background-color: rgba(139, 69, 19, 0.8)\">Sandiford</span> , to Shore Parkway and 84th <span style=\"background-color: rgba(210, 105, 30, 0.8)\">Street</span> , where the road curves north by the Rockwood Park Jewish Center . Mr. <span style=\"background-color: rgba(105, 105, 105, 0.8)\">Griffith</span> tried to scale the <span style=\"background-color: rgba(255, 250, 250, 0.8)\">fence</span> leading to the parkway but failed . He then doubled back to Shore <span style=\"background-color: rgba(255, 255, 240, 0.8)\">Parkway</span> and 86th Street , climbed through a hole in the <span style=\"background-color: rgba(255, 250, 250, 0.8)\">fence</span> and ran across the grass and 285 yards down the east <span style=\"background-color: rgba(0, 191, 255, 0.8)\">lanes</span> of the Belt <span style=\"background-color: rgba(255, 255, 240, 0.8)\">Parkway</span> . When <span style=\"background-color: rgba(105, 105, 105, 0.8)\">he</span> tried to cross into the west <span style=\"background-color: rgba(0, 191, 255, 0.8)\">lanes</span> , roughly at 90th <span style=\"background-color: rgba(144, 238, 144, 0.8)\">Street</span> , <span style=\"background-color: rgba(105, 105, 105, 0.8)\">he</span> was hit by a car driven by a court officer , Dominick Blum , 24 . Feigned Unconsciousness Mr. <span style=\"background-color: rgba(139, 69, 19, 0.8)\">Sandiford</span> , according to the police , said <span style=\"background-color: rgba(105, 105, 105, 0.8)\">he</span> feigned unconsciousness , but after seeing Mr. <span style=\"background-color: rgba(105, 105, 105, 0.8)\">Griffith</span> escape through the hole and the whites retreat , <span style=\"background-color: rgba(105, 105, 105, 0.8)\">he</span> followed . Soon after <span style=\"background-color: rgba(105, 105, 105, 0.8)\">he</span> got through the <span style=\"background-color: rgba(255, 250, 250, 0.8)\">fence</span> , <span style=\"background-color: rgba(105, 105, 105, 0.8)\">he</span> heard a noise that <span style=\"background-color: rgba(105, 105, 105, 0.8)\">he</span> later believed to have been caused by the impact of Mr. <span style=\"background-color: rgba(105, 105, 105, 0.8)\">Blum</span> hitting Mr. <span style=\"background-color: rgba(105, 105, 105, 0.8)\">Griffith</span> . Mr. <span style=\"background-color: rgba(139, 69, 19, 0.8)\">Sandiford</span> 's lawyer , Alton H. Maddox Jr. , charged that Mr. <span style=\"background-color: rgba(105, 105, 105, 0.8)\">Blum</span> had been among the whites pursuing Mr. <span style=\"background-color: rgba(139, 69, 19, 0.8)\">Sandiford</span> and Mr. <span style=\"background-color: rgba(105, 105, 105, 0.8)\">Griffith</span> - a charge Mr. <span style=\"background-color: rgba(105, 105, 105, 0.8)\">Blum</span> denied and the <span style=\"background-color: rgba(211, 211, 211, 0.8)\">police</span> and Mr. Santucci , the District Attorney , said was without foundation . In the days after the <span style=\"background-color: rgba(255, 255, 224, 0.8)\">incident</span> , Mr. <span style=\"background-color: rgba(105, 105, 105, 0.8)\">Maddox</span> said the blue car driven by Mr. <span style=\"background-color: rgba(105, 105, 105, 0.8)\">Blum</span> was similar to one of the cars that had followed Mr. <span style=\"background-color: rgba(139, 69, 19, 0.8)\">Sandiford</span> from the pizza <span style=\"background-color: rgba(220, 20, 60, 0.8)\">parlor</span> , and <span style=\"background-color: rgba(105, 105, 105, 0.8)\">he</span> demanded that Mr. <span style=\"background-color: rgba(105, 105, 105, 0.8)\">Blum</span> be charged with murder . In the new version , which Mr. <span style=\"background-color: rgba(154, 205, 50, 0.8)\">Hynes</span> obtained , Mr. <span style=\"background-color: rgba(106, 90, 205, 0.8)\">Griffith</span> and Mr. <span style=\"background-color: rgba(139, 69, 19, 0.8)\">Sandiford</span> split up as soon as <span style=\"background-color: rgba(106, 90, 205, 0.8)\">they</span> fled from the <span style=\"background-color: rgba(255, 255, 255, 0.8)\">whites</span> outside the pizza <span style=\"background-color: rgba(220, 20, 60, 0.8)\">parlor</span> . Mr. <span style=\"background-color: rgba(128, 128, 0, 0.8)\">Grimes</span> escaped altogether and Mr. <span style=\"background-color: rgba(139, 69, 19, 0.8)\">Sandiford</span> 's actions were pretty much as <span style=\"background-color: rgba(128, 128, 0, 0.8)\">he</span> had said <span style=\"background-color: rgba(106, 90, 205, 0.8)\">they</span> were . But Mr. <span style=\"background-color: rgba(105, 105, 105, 0.8)\">Griffith</span> , the <span style=\"background-color: rgba(47, 79, 79, 0.8)\">account</span> goes , ran directly across <span style=\"background-color: rgba(255, 222, 173, 0.8)\">Cross</span> <span style=\"background-color: rgba(50, 205, 50, 0.8)\">Bay</span> <span style=\"background-color: rgba(124, 252, 0, 0.8)\">Boulevard</span> , through an alley between stores , across a parking lot and onto 156th Avenue . Whether Mr. <span style=\"background-color: rgba(105, 105, 105, 0.8)\">Griffith</span> saw Mr. <span style=\"background-color: rgba(139, 69, 19, 0.8)\">Sandiford</span> , who had taken another route to 156th <span style=\"background-color: rgba(186, 85, 211, 0.8)\">Avenue</span> , is unclear . Headed Up Short Block According to this version , Mr. <span style=\"background-color: rgba(105, 105, 105, 0.8)\">Griffith</span> turned north on 90th <span style=\"background-color: rgba(144, 238, 144, 0.8)\">Street</span> and 156th <span style=\"background-color: rgba(186, 85, 211, 0.8)\">Avenue</span> , and headed up the one short block that leads to another part of Shore <span style=\"background-color: rgba(255, 255, 240, 0.8)\">Parkway</span> nearly abutting the Belt <span style=\"background-color: rgba(255, 255, 240, 0.8)\">Parkway</span> . A small grassy patch , a 2-foot-high guard rail and the service ramp to <span style=\"background-color: rgba(255, 222, 173, 0.8)\">Cross</span> <span style=\"background-color: rgba(50, 205, 50, 0.8)\">Bay</span> <span style=\"background-color: rgba(124, 252, 0, 0.8)\">Boulevard</span> separate 90th Street and Shore <span style=\"background-color: rgba(255, 255, 240, 0.8)\">Parkway</span> from the traffic lanes of the Belt <span style=\"background-color: rgba(255, 255, 240, 0.8)\">Parkway</span> . According to investigators , some or all of the white <span style=\"background-color: rgba(169, 169, 169, 0.8)\">youths</span> were chasing Mr. <span style=\"background-color: rgba(105, 105, 105, 0.8)\">Griffith</span> along 90th Street at that stage . But the <span style=\"background-color: rgba(255, 240, 245, 0.8)\">investigators</span> said <span style=\"background-color: rgba(255, 240, 245, 0.8)\">they</span> were uncertain whether the <span style=\"background-color: rgba(255, 255, 255, 0.8)\">whites</span> went to the edge of 90th <span style=\"background-color: rgba(144, 238, 144, 0.8)\">Street</span> or directly onto the Belt <span style=\"background-color: rgba(255, 255, 240, 0.8)\">Parkway</span> . They also said it was unclear whether the three <span style=\"background-color: rgba(255, 255, 255, 0.8)\">whites</span> charged with beating Mr. <span style=\"background-color: rgba(139, 69, 19, 0.8)\">Sandiford</span> a half-dozen blocks away at the other part of Shore <span style=\"background-color: rgba(255, 255, 240, 0.8)\">Parkway</span> had earlier been on 90th <span style=\"background-color: rgba(144, 238, 144, 0.8)\">Street</span> . Mr. <span style=\"background-color: rgba(105, 105, 105, 0.8)\">Griffith</span> , by this <span style=\"background-color: rgba(47, 79, 79, 0.8)\">account</span> , ran immediately into the traffic on the Belt <span style=\"background-color: rgba(255, 255, 240, 0.8)\">Parkway</span> and , trying to cross from the east side to the west , was struck . Yesterday , investigators said that Mr. <span style=\"background-color: rgba(105, 105, 105, 0.8)\">Griffith</span> apparently brushed against a brown car , whose owner may have stopped briefly before leaving the scene , but that Mr. <span style=\"background-color: rgba(105, 105, 105, 0.8)\">Griffith</span> was still standing when <span style=\"background-color: rgba(105, 105, 105, 0.8)\">he</span> was hit by Mr. <span style=\"background-color: rgba(105, 105, 105, 0.8)\">Blum</span> . Among the questions raised by the new version , if true , is why Mr. <span style=\"background-color: rgba(139, 69, 19, 0.8)\">Sandiford</span> did not know that Mr. <span style=\"background-color: rgba(105, 105, 105, 0.8)\">Griffith</span> had turned off 156th Street a half-dozen blocks before Mr. <span style=\"background-color: rgba(139, 69, 19, 0.8)\">Sandiford</span> was attacked on the extension of that <span style=\"background-color: rgba(210, 105, 30, 0.8)\">street</span> and how Mr. <span style=\"background-color: rgba(139, 69, 19, 0.8)\">Sandiford</span> could have described Mr. <span style=\"background-color: rgba(105, 105, 105, 0.8)\">Griffith</span> 's movements at that point when <span style=\"background-color: rgba(105, 105, 105, 0.8)\">he</span> was no longer near Mr. <span style=\"background-color: rgba(105, 105, 105, 0.8)\">Griffith</span> . Indeed , the new <span style=\"background-color: rgba(47, 79, 79, 0.8)\">account</span> appears to suggest that Mr. <span style=\"background-color: rgba(105, 105, 105, 0.8)\">Griffith</span> was dead even before the <span style=\"background-color: rgba(255, 255, 255, 0.8)\">whites</span> caught up with Mr. <span style=\"background-color: rgba(139, 69, 19, 0.8)\">Sandiford</span> . Investigators said <span style=\"background-color: rgba(255, 255, 255, 0.8)\">they</span> now believed Mr. <span style=\"background-color: rgba(139, 69, 19, 0.8)\">Sandiford</span> was too dazed , at least after <span style=\"background-color: rgba(139, 69, 19, 0.8)\">he</span> was struck about the head , to know exactly what had happened . The <span style=\"background-color: rgba(211, 211, 211, 0.8)\">police</span> first heard about Mr. <span style=\"background-color: rgba(105, 105, 105, 0.8)\">Griffith</span> being chased up 90th <span style=\"background-color: rgba(144, 238, 144, 0.8)\">Street</span> , according to law-enforcemnt sources , about two or three weeks ago , when <span style=\"background-color: rgba(255, 255, 255, 0.8)\">they</span> were requestioning some of the 30 to 40 white youths who had been at the birthday party attended by the three defendants on <span style=\"background-color: rgba(255, 0, 0, 0.8)\">Dec.</span> 19 . The <span style=\"background-color: rgba(245, 222, 179, 0.8)\">sources</span> said the defendants and others who had pursued Mr. <span style=\"background-color: rgba(106, 90, 205, 0.8)\">Griffith</span> and Mr. <span style=\"background-color: rgba(139, 69, 19, 0.8)\">Sandiford</span> had come back to the party after the <span style=\"background-color: rgba(255, 255, 224, 0.8)\">incident</span> and talked about <span style=\"background-color: rgba(255, 255, 224, 0.8)\">it</span> . According to these sources , <span style=\"background-color: rgba(127, 255, 212, 0.8)\">residents</span> of 90th <span style=\"background-color: rgba(144, 238, 144, 0.8)\">Street</span> were interviewed but said <span style=\"background-color: rgba(127, 255, 212, 0.8)\">they</span> had not witnessed any chase . Mr. <span style=\"background-color: rgba(143, 188, 143, 0.8)\">Lester</span> 's lawyer , Bryan F. Levinson , said <span style=\"background-color: rgba(143, 188, 143, 0.8)\">he</span> had heard about the `` 90th Street <span style=\"background-color: rgba(165, 42, 42, 0.8)\">version</span> '' regarding Mr. Griffith in the last two weeks or so and believed that <span style=\"background-color: rgba(165, 42, 42, 0.8)\">it</span> was `` probably what happened . He said that , if <span style=\"background-color: rgba(165, 42, 42, 0.8)\">it</span> were true , <span style=\"background-color: rgba(165, 42, 42, 0.8)\">it</span> undermined `` <span style=\"background-color: rgba(139, 69, 19, 0.8)\">Sandiford</span> 's whole <span style=\"background-color: rgba(0, 250, 154, 0.8)\">story</span> and makes <span style=\"background-color: rgba(165, 42, 42, 0.8)\">it</span> kind of ludicrous ."
      ],
      "text/plain": [
       "<IPython.core.display.HTML object>"
      ]
     },
     "execution_count": 63,
     "metadata": {},
     "output_type": "execute_result"
    }
   ],
   "source": [
    "rand_colors = np.random.choice(util.color_wheel, len(stanford_corefs))\n",
    "sentences = []\n",
    "for sent_idx, sent_toks in enumerate(sents_list):\n",
    "    sentence = ' '.join(sent_toks)\n",
    "\n",
    "    for ent_id, entity in enumerate(stanford_corefs):\n",
    "#         ent_id = int(entity['id'].replace('E', ''))\n",
    "        \n",
    "        ## \n",
    "        sent_mentions = list(filter(lambda x: x.sentence == sent_idx, entity['mentions']))\n",
    "        entidx_list = list(map(lambda x: x.head, sent_mentions))\n",
    "        # entidx_list = list(map(lambda x: list(range(x['start'], x['end'])), sent_mentions))\n",
    "        # entidx_list = list(itertools.chain.from_iterable(entidx_list))\n",
    "    \n",
    "        sentence = util.html_replace_list(entidx_list, sentence, sent_toks, util.make_rgb(rand_colors[ent_id], .8))\n",
    "    sentences.append(sentence.replace('$', ''))\n",
    "    \n",
    "HTML(' '.join(sentences))"
   ]
  },
  {
   "cell_type": "markdown",
   "metadata": {},
   "source": [
    "# Extract Named Entities"
   ]
  },
  {
   "cell_type": "code",
   "execution_count": 64,
   "metadata": {},
   "outputs": [],
   "source": [
    "try:\n",
    "    from allennlp.predictors.predictor import Predictor\n",
    "    ner_predictor = Predictor.from_path(\"https://s3-us-west-2.amazonaws.com/allennlp/models/ner-model-2018.12.18.tar.gz\")\n",
    "    ner_output = ner_predictor.predict(sentence=clean_doc)\n",
    "except:\n",
    "    pass"
   ]
  },
  {
   "cell_type": "code",
   "execution_count": 77,
   "metadata": {},
   "outputs": [
    {
     "data": {
      "text/plain": [
       "<module 'parsing_util' from '../scripts\\\\parsing_util.py'>"
      ]
     },
     "execution_count": 77,
     "metadata": {},
     "output_type": "execute_result"
    }
   ],
   "source": [
    "reload(parsing_util)"
   ]
  },
  {
   "cell_type": "code",
   "execution_count": 79,
   "metadata": {},
   "outputs": [],
   "source": [
    "### stanford\n",
    "named_entity_clusters = parsing_util.extract_and_merge_ners(named_ents_list, sents_list, stanford_corefs)"
   ]
  },
  {
   "cell_type": "markdown",
   "metadata": {},
   "source": [
    "# Find Source"
   ]
  },
  {
   "cell_type": "markdown",
   "metadata": {},
   "source": [
    "\\begin{enumerate}\n",
    "\\item quote-mark QUOTE quote-mark [,] verb [modifier]\n",
    "[determiner] [title] name\n",
    "\n",
    "e.g. \"blah blah\", said again the journalist John Smith.\n",
    "\n",
    "\\item name [, up to 60 characters ,] verb [:|that] quote-mark\n",
    "QUOTE quote-mark\n",
    "\n",
    "e.g. John Smith, supporting AFG, said: \"blah blah\".\n",
    "\n",
    "\\item quote-mark QUOTE quote-mark [; or ,] [title] name\n",
    "[modifier] verb\n",
    "\n",
    "\\end{enumerate}"
   ]
  },
  {
   "cell_type": "code",
   "execution_count": 110,
   "metadata": {},
   "outputs": [
    {
     "data": {
      "text/html": [
       "LEAD : Both houses of the State Legislature , facing increasing public pressure and investigations by half a dozen prosecutors , voted overwhelmingly today for stricter ethics rules governing themselves and other officials . Governor <span style=\"background-color: rgba(144, 238, 144, 0.8)\">Cuomo</span> , who for months has called for tighter ethics rules , <span style=\"background-color: rgba(255, 165, 0, 0.8)\">said</span> tonight that he wanted to review the specifics of the 70-page bill before deciding whether to sign it . The vote came as weeks of mounting tension from corruption investigations and disputes between the Governor and the Legislature seemed to boil over here in emotion and anger that reached into the highest levels of state government . Tears From a Senator A senior lawmaker , John J. <span style=\"background-color: rgba(188, 143, 143, 0.8)\">Marchi</span> , wept in the Senate chamber today as he ended an impassioned defense of fellow legislators . '' There is so much goodness here , '' <span style=\"background-color: rgba(139, 69, 19, 0.8)\">said</span> Senator <span style=\"background-color: rgba(188, 143, 143, 0.8)\">Marchi</span> , a Staten Island Republican , drawing an outpouring of applause . I am proud of this house . The ethics bill - voted by 57 to 0 in the Senate and 142 to 1 in the Assembly - would require greater financial disclosure by legislators , their aides and all state officials in policy-making positions . It would restrict their appearances before state agencies on behalf of law clients and would establish panels with subpoena power to review conflict-of-interest and ethics complaints . The lone dissenting vote was cast by Assemblyman Robert J. <span style=\"background-color: rgba(188, 143, 143, 0.8)\">Connor</span> , a New City Democrat , who called the bill an `` overreaction to overblown media attention to ethics in government . The ethics vote by no means ended the feeling of siege here . Throughout the Capitol , aides to the Governor and Assembly Speaker Mel <span style=\"background-color: rgba(255, 165, 0, 0.8)\">Miller</span> continued to spread nasty rumors about each other - part of the underside of what has become a high-stakes contest of wills between Mr. <span style=\"background-color: rgba(144, 238, 144, 0.8)\">Cuomo</span> and the Legislature . Money for Commission Lawmakers have refused to allocate the  5 million Mr. <span style=\"background-color: rgba(144, 238, 144, 0.8)\">Cuomo</span> wants for a commission <span style=\"background-color: rgba(144, 238, 144, 0.8)\">he</span> has named to investigate government ethics . In its place , they have suggested that the inquiry be conducted by the State Investigation Commission , the majority of whose members are named by the Legislature . So strong were the emotions that <span style=\"background-color: rgba(144, 238, 144, 0.8)\">Cuomo</span> aides privately accused the Speaker of having told reporters that the Governor opposed the State Investigation Commission because it had investigated his son <span style=\"background-color: rgba(139, 69, 19, 0.8)\">Andrew</span> . And aides to Mr. <span style=\"background-color: rgba(255, 165, 0, 0.8)\">Miller</span> , a Brooklyn Democrat , privately suggested that the Governor 's advisers had pressed television stations to run stories about the Speaker 's past connections as a lawyer for a company eventually implicated in New York City 's corruption scandals . Mr. <span style=\"background-color: rgba(144, 238, 144, 0.8)\">Cuomo</span> not only held to his pledge that he would raise the  5 million for his commission from private sources if he had to , but even suggested he already had the source - `` a very wealthy guy whose name you 'd recognize immediately who called and said , ` Do n't worry about the  5 million . But even some members of the commission questioned whether it was legal to raise the money from private sources . ' Check With the Chairman ' Of the panel that the Legislature wants to conduct the inquiry , the State Investigation Commission , the Governor said , `` I do n't believe it wants this undertaking - all you need to do is check with the chairman . But when asked for comment , the chairman , David G. <span style=\"background-color: rgba(139, 69, 19, 0.8)\">Trager</span> , released a statement by the full commission reaffirming earlier remarks in which it said it would be willing and well prepared to assume the undertaking . Lost amid the swell of accusations and resentment was the state budget , which was still not resolved today , seven days past the legal deadline for its adoption . The ethics bill voted today does not address recent payroll abuses laid in particular to the Senate Democrats , headed by State Senator Manfred <span style=\"background-color: rgba(127, 255, 212, 0.8)\">Ohrenstein</span> of Manhattan . Prosecutors say they are looking at whether several Democratic Senate candidates were provided campaign aides at government expense . However , the Legislature named a special commission today to look at such potential abuses and recommend guidelines . The three named were Carol <span style=\"background-color: rgba(255, 239, 213, 0.8)\">Bellamy</span> , the former president of the New York City Council and a former state senator ; former Gov. Malcolm A. <span style=\"background-color: rgba(0, 0, 139, 0.8)\">Wilson</span> , and Robert B. <span style=\"background-color: rgba(128, 0, 0, 0.8)\">McKay</span> , former dean of the New York University School of Law . Major Provisions Most of the major provisions of the ethics bill would take effect on Jan. 1 , 1989 , one day after the term of the current Legislature expires . The bill requires disclosure of outside salaries , gifts , loans and other compensation , as well as property and investment holdings - mostly in cases in which those items exceed  1,000 . The bill also requires disclosure by officials ' spouses and children under the age of 18 . But because of a recent revision , not all the information reported will be open to public scrutiny . Citizen-advocacy groups complained that while the bill limited officials ' appearances before state agencies , it did not completely rule them out . In addition , the bill does not limit appearances by law partners of an official - something earlier measures would have done . And it sets no conflict-of-interest restrictions on local officials of political parties . But lawmakers , clearly relieved at being able to claim they had passed an ethics bill , called it the most important measure of its kind here in more than a decade . Mr. <span style=\"background-color: rgba(255, 165, 0, 0.8)\">Miller</span> , the Speaker , standing at the podium of Assembly chamber , signed the bill only seconds after its passage and dispatched an aide to rush it to the Governor . Get it out of here ! '' he said ."
      ],
      "text/plain": [
       "<IPython.core.display.HTML object>"
      ]
     },
     "execution_count": 110,
     "metadata": {},
     "output_type": "execute_result"
    }
   ],
   "source": [
    "rand_colors = np.random.choice(util.color_wheel, len(named_entity_clusters) * 2)\n",
    "html_sentences = []\n",
    "for sent_idx, sent_toks in enumerate(sents_list):\n",
    "    sentence = ' '.join(sent_toks)\n",
    "    for ent_id, (entity_name, entity_dict) in enumerate(named_entity_clusters.items()):\n",
    "        ## entity mentions\n",
    "        sent_mentions = list(filter(lambda x: x.sentence == sent_idx, entity_dict['mentions']))\n",
    "        entidx_list = list(map(lambda x: x.head, sent_mentions))\n",
    "        sentence = util.html_replace_list(entidx_list, sentence, sent_toks, util.make_rgb(rand_colors[ent_id], .8))\n",
    "        ## speaking verbs\n",
    "        sent_mentions = list(filter(lambda x: x['sentence'] == sent_idx, entity_dict['speaking_vbs']))\n",
    "        vbidx_list = list(map(lambda x: x['verb_idx'], sent_mentions))\n",
    "        sentence = util.html_replace_list(vbidx_list, sentence, sent_toks, util.make_rgb(rand_colors[ent_id+2], .8))\n",
    "        \n",
    "    html_sentences.append(sentence.replace('$', ''))\n",
    "#     if sent_idx == 4:\n",
    "#         break\n",
    "    \n",
    "HTML(' '.join(html_sentences))"
   ]
  },
  {
   "cell_type": "code",
   "execution_count": 363,
   "metadata": {},
   "outputs": [],
   "source": [
    "from tqdm import tqdm_notebook as tqdm"
   ]
  },
  {
   "cell_type": "code",
   "execution_count": 604,
   "metadata": {},
   "outputs": [],
   "source": [
    "import copy"
   ]
  },
  {
   "cell_type": "code",
   "execution_count": 682,
   "metadata": {},
   "outputs": [
    {
     "data": {
      "application/vnd.jupyter.widget-view+json": {
       "model_id": "c789fdacbbcf4766beffa05d1edc6981",
       "version_major": 2,
       "version_minor": 0
      },
      "text/plain": [
       "HBox(children=(IntProgress(value=0, max=2172), HTML(value='')))"
      ]
     },
     "metadata": {},
     "output_type": "display_data"
    }
   ],
   "source": [
    "def full_groupby(l, key=lambda x: x):\n",
    "    d = defaultdict(list)\n",
    "    for item in l:\n",
    "        d[key(item)].append(item)\n",
    "    return d.items()\n",
    "\n",
    "stanford_files = glob.glob('../data/news-article-flatlist/stanford-parses/*')\n",
    "source_summary_output = []\n",
    "source_sentences_output = []\n",
    "for idx, stanford_parse in tqdm( enumerate(stanford_files), total=len(stanford_files)):\n",
    "    fn = os.path.basename(stanford_parse).replace('.txt.xml', '')\n",
    "    data = open(stanford_parse, encoding='utf-8').read()\n",
    "    doc_etree = ET.fromstring(data)\n",
    "    ## parse\n",
    "    sents_list, named_ents_list, lemmas, pos_tags, deps = parsing_util.parse_etree(doc_etree)\n",
    "    stanford_corefs = parsing_util.convert_coref(doc_etree=doc_etree, sentences=sents_list)\n",
    "    ## group\n",
    "    named_entity_clusters = parsing_util.extract_and_merge_ners(named_ents_list, sents_list, stanford_corefs)\n",
    "    named_entity_clusters = parsing_util.extract_quotes_for_each_ner(named_entity_clusters, lemmas, pos_tags, deps)\n",
    "    \n",
    "    ## get source sentences \n",
    "    source_sentences = defaultdict(lambda: defaultdict(list))\n",
    "    for source_name, mentions in list(filter(lambda x: len(x[1]['speaking_vbs']) > 0, named_entity_clusters.items())):\n",
    "        for sentence_idx, sentence_mentions in full_groupby(mentions['mentions'], key=lambda x: x.sentence):\n",
    "            sentence = copy.copy(sents_list[sentence_idx])\n",
    "            sentence_mentions = list(sentence_mentions)\n",
    "            for m in sentence_mentions:\n",
    "                sentence = sentence[:m.head] + ['<SOURCE>' + sentence[m.head] + '</SOURCE>'] + sentence[m.head+1:]\n",
    "            \n",
    "            ## note the speaking verb\n",
    "            speaking_verbs_in_sentence = list(filter(lambda x: x['sentence'] == sentence_idx, mentions['speaking_vbs']))\n",
    "            for vb in speaking_verbs_in_sentence:\n",
    "                sentence = sentence[:vb['verb_idx']] + ['<VERB>' + sentence[vb['verb_idx']] + '</VERB>'] + sentence[vb['verb_idx'] + 1:] \n",
    "            \n",
    "            ## clean up for double-mentions\n",
    "            sentence = ' '.join(sentence).replace('<SOURCE><SOURCE>', '<SOURCE>')\n",
    "            sentence = sentence.replace('</SOURCE></SOURCE>', '</SOURCE>')\n",
    "            \n",
    "            source_sentences[source_name]['sentences'].append(sentence)\n",
    "            source_sentences[source_name]['sentence_ids'].append(sentence_idx)\n",
    "            \n",
    "    source_sentences_output.append({\n",
    "        \"source_sentences\": source_sentences,\n",
    "        \"doc_id\": fn\n",
    "    })\n",
    "    \n",
    "    ## record \n",
    "    summ = list(map(lambda x: {\n",
    "        'fn': fn,\n",
    "        'name': x[0],\n",
    "        'num_quotes': len(x[1]['speaking_vbs']),\n",
    "        'num_mentions': len(x[1]['mentions'])\n",
    "    }, named_entity_clusters.items()))\n",
    "    source_summary_output.append(summ)"
   ]
  },
  {
   "cell_type": "code",
   "execution_count": null,
   "metadata": {},
   "outputs": [],
   "source": []
  },
  {
   "cell_type": "code",
   "execution_count": 683,
   "metadata": {},
   "outputs": [],
   "source": [
    "import numpy as np"
   ]
  },
  {
   "cell_type": "code",
   "execution_count": 684,
   "metadata": {},
   "outputs": [],
   "source": [
    "shuffed_sentences = sorted(source_sentences_output, key=lambda x: np.random.random())"
   ]
  },
  {
   "cell_type": "code",
   "execution_count": 685,
   "metadata": {},
   "outputs": [
    {
     "data": {
      "text/plain": [
       "{'source_sentences': defaultdict(<function __main__.<lambda>()>,\n",
       "             {'Edwin Meese': defaultdict(list,\n",
       "                          {'sentences': ['Mr. Regan noted that the admiral had told him , the President and Attorney General Edwin <SOURCE>Meese</SOURCE> 3d last November that he had only general knowledge about the diversion .',\n",
       "                            \"In contrast to Attorney General <SOURCE>Meese</SOURCE> , who testified this week that he could not remember many consequential developments , Mr. Regan described his `` vivid recollection '' of events last November after the Iran arms sales were disclosed .\",\n",
       "                            \"A questioner today noted , for example , that one of the main reasons President Reagan had instructed Mr. <SOURCE>Meese</SOURCE> last November to begin a fact-finding inquiry into the arms deals was to resolve the discrepancy in Administration officials ' accounts of the nature of a 1985 shipment from Israel to Iran .\",\n",
       "                            'But Mr. Regan said Mr. <SOURCE>Meese</SOURCE> never asked what <SOURCE>he</SOURCE> or the President knew about the matter .',\n",
       "                            'Shortly afterward , according to the testimony , Admiral Poindexter went to the Oval Office and , in the presence of Mr. Regan , Vice President Bush and Mr. <SOURCE>Meese</SOURCE> , submitted his resignation to the President .',\n",
       "                            \"Confusing Aspect of Testimony One confusing aspect of Mr. Regan 's testimony today and that of Mr. <SOURCE>Meese</SOURCE> earlier in the week concerns the way Colonel North and Admiral Poindexter left the White House staff .\",\n",
       "                            'But both Mr. Regan and Mr. <SOURCE>Meese</SOURCE> said there was no intention to treat the two men differently .'],\n",
       "                           'sentence_ids': [9, 24, 25, 28, 55, 60, 65]})}),\n",
       " 'doc_id': '1e117114-c916-11e9-a8d7-b831b5755f6c'}"
      ]
     },
     "execution_count": 685,
     "metadata": {},
     "output_type": "execute_result"
    }
   ],
   "source": [
    "datapoint"
   ]
  },
  {
   "cell_type": "code",
   "execution_count": null,
   "metadata": {},
   "outputs": [],
   "source": []
  },
  {
   "cell_type": "code",
   "execution_count": 702,
   "metadata": {
    "scrolled": false
   },
   "outputs": [],
   "source": [
    "from IPython.display import clear_output\n",
    "from IPython.display import HTML, display\n",
    "\n",
    "display_in_console = False\n",
    "\n",
    "## apply labels\n",
    "html_output = []\n",
    "labels = []\n",
    "shuffed_sentences_sample = shuffed_sentences[:10]\n",
    "for idx, datapoint in enumerate(shuffed_sentences_sample):\n",
    "    doc_id = datapoint['doc_id']\n",
    "    first_par = \"\"\n",
    "    if doc_id in a1_df:\n",
    "        first_par = ' '.join(a1_df.loc[doc_id].strip().split('\\n')[0:2])\n",
    "        \n",
    "    for person, sentences in datapoint['source_sentences'].items():\n",
    "        sentences_str = list(map(lambda x: x.strip(), sentences['sentences']))\n",
    "        sentences_str = list(filter(lambda x: x[0]<5 or '<VERB>' in x[1], enumerate(sentences_str)))\n",
    "        sentences_str = list(map(lambda x: x[1], sentences_str))\n",
    "        first_sentences = ' ... '.join(sentences_str)\n",
    "\n",
    "        ## replace person\n",
    "        first_sentences = (first_sentences\n",
    "                               .replace('<SOURCE>', '<span style=\"background-color: #FFFF00\">')\n",
    "                               .replace('</SOURCE>', '</span>')\n",
    "                          )\n",
    "        ## replace verb\n",
    "        first_sentences = (first_sentences\n",
    "                               .replace('<VERB>', '<span style=\"background-color: #ADD8E6\">')\n",
    "                               .replace('</VERB>', '</span>')\n",
    "                          )\n",
    "        html = (\n",
    "            '<h3>person: ' + person + '</h3>' +\n",
    "            '<br><br><b>paragraph:</b><br>' + first_par +\n",
    "            '<br><br><b>sentence:</b><br>' + first_sentences\n",
    "        )\n",
    "        if display_in_console:\n",
    "            html = HTML(html)\n",
    "            display(html)\n",
    "            label = input()\n",
    "            labels.append({\n",
    "                \"doc_id\": doc_id,\n",
    "                \"person\": person,\n",
    "                \"sentences\": ' '.join(sentences),\n",
    "                'sentence_ids': sentences['sentence_ids'],\n",
    "                \"label\": label\n",
    "            })\n",
    "            clear_output() ## clear ipython output\n",
    "            \n",
    "        else:\n",
    "            html_output.append({\n",
    "                \"doc_id\": doc_id,\n",
    "                \"person\": person,\n",
    "                'sentence_ids': sorted(sentences['sentence_ids']),\n",
    "                \"html\": html\n",
    "            })"
   ]
  },
  {
   "cell_type": "code",
   "execution_count": 704,
   "metadata": {},
   "outputs": [],
   "source": [
    "import json\n",
    "json.dump(html_output, open('../app/data/first-batch-unmarked.json', 'w'))"
   ]
  },
  {
   "cell_type": "code",
   "execution_count": 709,
   "metadata": {},
   "outputs": [
    {
     "data": {
      "text/plain": [
       "'person: Junior Bush<br><br><b>paragraph:</b><br>President Bush ordered the start of a war against Iraq on Wednesday night, and American forces poised on the country\\'s southern border and at sea began strikes to disarm the country, including an apparently unsuccessful attempt to kill Saddam Hussein. Mr. Bush addressed the nation from the Oval Office at 10:15 p.m. Wednesday night, about 45 minutes after the first attacks were reported against an installation in Baghdad where American intelligence believed Mr. Hussein and his top leadership were meeting. \\'\\'On my orders, coalition forces have begun striking selected targets of military importance to undermine Saddam Hussein\\'s ability to wage war,\\'\\' the president said.<br><br><b>sentence:</b><br>President <span style=\"background-color: #FFFF00\">Bush</span> ordered the start of a war against Iraq on Wednesday night , and American forces poised on the country \\'s southern border and at sea began strikes to disarm the country , including an apparently unsuccessful attempt to kill Saddam Hussein . ... Mr. <span style=\"background-color: #FFFF00\">Bush</span> addressed the nation from the Oval Office at 10:15 p.m. Wednesday night , about 45 minutes after the first attacks were reported against an installation in Baghdad where American intelligence believed Mr. Hussein and his top leadership were meeting . \\'\\' ... Mr. <span style=\"background-color: #FFFF00\">Bush</span> sought to tamp down expectations of a quick victory with few casualties by warning that the battles in the days ahead `` could be longer and more difficult than some predict . ... He denounced `` Junior <span style=\"background-color: #FFFF00\">Bush</span> \\'\\' and promised the Iraqi people a victory . ... During a nearly four-hour meeting at the White House late Wednesday afternoon -- participants included Vice President Cheney ; George Tenet , the director of central intelligence ; Donald H. Rumsfeld , the secretary of defense ; and Condoleezza Rice , the national security adviser -- Mr. <span style=\"background-color: #FFFF00\">Bush</span> decided to act on fresh intelligence indicating an opportunity to decapitate the country \\'s leadership early in the war . ... In <span style=\"background-color: #FFFF00\">his</span> speech , Mr. <span style=\"background-color: #FFFF00\">Bush</span> <span style=\"background-color: #ADD8E6\"><span style=\"background-color: #ADD8E6\">said</span></span> 35 nations support the United States . ... Now that the conflict has come , the only way to limit its duration is to apply decisive force , \\'\\' Mr. <span style=\"background-color: #FFFF00\">Bush</span> <span style=\"background-color: #ADD8E6\"><span style=\"background-color: #ADD8E6\">said</span></span> . ... On my orders , coalition forces have begun striking selected targets of military importance to undermine Saddam Hussein \\'s ability to wage war , \\'\\' the <span style=\"background-color: #FFFF00\">president</span> <span style=\"background-color: #ADD8E6\">said</span> . ... We choose to meet that threat now , where it arises , before it can appear suddenly in our skies and cities , \\'\\' the <span style=\"background-color: #FFFF00\">president</span> <span style=\"background-color: #ADD8E6\">said</span> then .'"
      ]
     },
     "execution_count": 709,
     "metadata": {},
     "output_type": "execute_result"
    }
   ],
   "source": [
    "html_output[0]['html']"
   ]
  },
  {
   "cell_type": "code",
   "execution_count": 489,
   "metadata": {},
   "outputs": [],
   "source": [
    "## actor (nongovernment, non-official \"NGO\")\n",
    "##### ia: individual actor (unaffiliated)\n",
    "##### iald: individual actor defense lawyer\n",
    "##### ialp: individual actors prosecutor lawyer\n",
    "##### ga: group actor\n",
    "##### gal: group actor lawyer\n",
    "\n",
    "## w: witness\n",
    "##### wc: casual witness, bystander. Not hurt by actions.\n",
    "##### wa: witness actor (usually a demonstrator or protestor)\n",
    "##### wl: witness' lawyer\n",
    "##### wj: witness, jury member\n",
    "##### wo: witness, other\n",
    "\n",
    "## victim\n",
    "##### v: victim\n",
    "##### vl: victim lawyer\n",
    "##### vr: victim relative\n",
    "##### vs: victim spokesman\n",
    "##### vo: victim, other\n",
    "\n",
    "## g: government official\n",
    "##### ged: government official, decision-maker (executive branch)\n",
    "##### geds: government official, decision-maker -- supporting action\n",
    "##### geda: government official, decision-maker -- against action\n",
    "##### ged-amb: government official, decision-maker -- ambivalent\n",
    "##### gedi: government official, decision-maker -- informational\n",
    "##### gesd: government official, spokesman defending\n",
    "##### gesi: government official, spokesman informational\n",
    "##### gelp: government lawyer, prosecutor\n",
    "##### geld: government lawyer, defender\n",
    "##### geas: government advisor -- supporting\n",
    "##### geaa: government advisor -- against\n",
    "##### geai: government advisor -- informational\n",
    "##### gews: government witness -- supporting action or main character\n",
    "##### gewa: government witness -- against action or main character\n",
    "##### gewb: government whistle blower\n",
    "##### geei: government nonpartisan expert, informational\n",
    "\n",
    "##### gld: government official, decision-maker (legislative branch)\n",
    "##### glds: government official, decision-maker -- supporting action\n",
    "##### glda: government official, decision-maker -- against action\n",
    "##### gld-amb: government official, decision-maker -- ambivalent\n",
    "##### gldi: government official, decision-maker -- informational\n",
    "##### glsd: government official, spokesman defending\n",
    "##### glsi: government official, spokesman informational\n",
    "##### gle: government nonpartisan expert\n",
    "\n",
    "##### gjd: government official, decision-maker (judicial branch)\n",
    "##### gjds: government official, decision-maker -- supporting action\n",
    "##### gjda: government official, decision-maker -- against action\n",
    "##### gjd-amb: government official, decision-maker -- ambivalent\n",
    "##### gjdi: government official, decision-maker -- informational\n",
    "##### gje: government nonpartisan expert (an expert witness?)\n",
    "\n",
    "##### go: government, other\n",
    "\n",
    "\n",
    "## c: corporate official\n",
    "##### cd: corporate official, decision-maker (actor)\n",
    "##### cl: corporate official, lawyer\n",
    "##### cs: corporate official, spokesman\n",
    "##### cw: corporate official, witness\n",
    "\n",
    "## n: ngo\n",
    "##### ne: NGO expert (not actively involved in story)\n",
    "##### nea: NGO expert against (not actively involved in story)\n",
    "##### nes: NGO expert supporting (not actively involved in story)\n",
    "##### na: NGO actor (actively involved in story)\n",
    "##### naa: NGO actor against (actively involved in story)\n",
    "##### nas: NGO actor supporting (actively involved in story)\n",
    "##### no: NGO other\n",
    "\n",
    "## a: academic\n",
    "##### ae: academic expert (can include doctors)\n",
    "######## aes: academic expert, supporting\n",
    "######## aeo: academic expert, opposing\n",
    "##### aa: academic actor (can include doctors)\n",
    "##### ao: other academic\n",
    "\n",
    "##### e: other expert\n",
    "##### p: poll result\n",
    "\n",
    "\n",
    "\n",
    "\n",
    "\n",
    "\n",
    "#################\n",
    "\n",
    "### actor: key player in events who has autonomy and decision-making.\n",
    "### official: an actor that has a role in discussions but not complete autonomy.\n",
    "### witness/victim: observer who does not have autonomy or broader knowledge of events but is communicating. maybe closer\n",
    "###### to the action than \n",
    "## expert: a figure with broad knowledge\n",
    "\n",
    "### lawyer -- witness, official, or actor?\n",
    "### press secretary -- official? \n",
    "\n",
    "## tagged batch: ../data/tags/2019-10-04__226-tags__official-witness-actor.json\n",
    "# official, witness, actor tags applied"
   ]
  },
  {
   "cell_type": "code",
   "execution_count": 547,
   "metadata": {},
   "outputs": [],
   "source": [
    "import json"
   ]
  },
  {
   "cell_type": "code",
   "execution_count": 549,
   "metadata": {},
   "outputs": [],
   "source": [
    "json.dump(labels, open('../data/tags/2019-10-05__202-tags__full-set.json', 'w'))"
   ]
  },
  {
   "cell_type": "code",
   "execution_count": 554,
   "metadata": {},
   "outputs": [
    {
     "data": {
      "text/plain": [
       "(48,)"
      ]
     },
     "execution_count": 554,
     "metadata": {},
     "output_type": "execute_result"
    }
   ],
   "source": [
    "pd.DataFrame(labels)['doc_id'].value_counts().shape"
   ]
  },
  {
   "cell_type": "code",
   "execution_count": 555,
   "metadata": {},
   "outputs": [
    {
     "data": {
      "text/plain": [
       "'7e5f0a40-c916-11e9-8a77-b831b5755f6c'"
      ]
     },
     "execution_count": 555,
     "metadata": {},
     "output_type": "execute_result"
    }
   ],
   "source": [
    "doc_id"
   ]
  },
  {
   "cell_type": "code",
   "execution_count": 130,
   "metadata": {},
   "outputs": [],
   "source": [
    "all_output = list(itertools.chain.from_iterable(output))"
   ]
  },
  {
   "cell_type": "code",
   "execution_count": 133,
   "metadata": {},
   "outputs": [],
   "source": [
    "all_output_df = pd.DataFrame(all_output)"
   ]
  },
  {
   "cell_type": "code",
   "execution_count": 156,
   "metadata": {},
   "outputs": [],
   "source": [
    "%matplotlib inline"
   ]
  },
  {
   "cell_type": "code",
   "execution_count": 370,
   "metadata": {},
   "outputs": [],
   "source": [
    "plt.rc(\"font\", size=18)"
   ]
  },
  {
   "cell_type": "code",
   "execution_count": 374,
   "metadata": {},
   "outputs": [
    {
     "data": {
      "text/plain": [
       "Text(0.5, 0, 'Num Named Sources')"
      ]
     },
     "execution_count": 374,
     "metadata": {},
     "output_type": "execute_result"
    },
    {
     "data": {
      "image/png": "[encoded data removed]",
      "text/plain": [
       "<Figure size 432x288 with 1 Axes>"
      ]
     },
     "metadata": {
      "needs_background": "light"
     },
     "output_type": "display_data"
    }
   ],
   "source": [
    "ax = (all_output_df\n",
    "    .loc[lambda s: s['num_quotes'] > 0]\n",
    "    .groupby('fn')\n",
    "    .count()['name']\n",
    "    .hist(bins=20)\n",
    ")\n",
    "ax.spines['right'].set_visible(False)\n",
    "ax.spines['top'].set_visible(False)\n",
    "plt.grid()\n",
    "plt.ylabel(\"Perc. Articles\")\n",
    "plt.yticks([])\n",
    "# plt.title('Dist. over Num Named Sources by Article')\n",
    "plt.xlabel('Num Named Sources')"
   ]
  },
  {
   "cell_type": "code",
   "execution_count": 171,
   "metadata": {},
   "outputs": [
    {
     "name": "stderr",
     "output_type": "stream",
     "text": [
      "C:\\ProgramData\\Anaconda3\\lib\\site-packages\\IPython\\core\\interactiveshell.py:3057: DtypeWarning: Columns (1,4) have mixed types. Specify dtype option on import or set low_memory=False.\n",
      "  interactivity=interactivity, compiler=compiler, result=result)\n"
     ]
    }
   ],
   "source": [
    "full_df = pd.read_csv('../../newspaper-pages/notebooks/data/processed_train_time_balanced_df.csv')"
   ]
  },
  {
   "cell_type": "code",
   "execution_count": 195,
   "metadata": {},
   "outputs": [],
   "source": [
    "full_df['pub_date'] = pd.to_datetime(full_df['pub_date'])"
   ]
  },
  {
   "cell_type": "code",
   "execution_count": 301,
   "metadata": {
    "scrolled": true
   },
   "outputs": [],
   "source": [
    "date_df = (all_output_df\n",
    "    .assign(is_source=lambda df: (df['num_quotes']>0).astype(int))\n",
    "    .groupby('fn')['is_source']\n",
    "    .sum().to_frame()\n",
    "    .merge(\n",
    "        full_df[['id', 'pub_date']],\n",
    "        left_index=True,\n",
    "        right_on='id'\n",
    "    )\n",
    ")"
   ]
  },
  {
   "cell_type": "code",
   "execution_count": 376,
   "metadata": {},
   "outputs": [],
   "source": [
    "date_df['date_bin'] = pd.cut(date_df['pub_date'], 12)"
   ]
  },
  {
   "cell_type": "code",
   "execution_count": 385,
   "metadata": {},
   "outputs": [
    {
     "data": {
      "text/plain": [
       "Text(0, 0.5, '# Sources / Story')"
      ]
     },
     "execution_count": 385,
     "metadata": {},
     "output_type": "execute_result"
    },
    {
     "data": {
      "image/png": "[encoded data removed]",
      "text/plain": [
       "<Figure size 432x288 with 1 Axes>"
      ]
     },
     "metadata": {
      "needs_background": "light"
     },
     "output_type": "display_data"
    }
   ],
   "source": [
    "ax = date_df.boxplot(column='is_source', by='date_bin')\n",
    "ticklabels = list(map(lambda x: \n",
    "     re.findall('\\d{4}-\\d{2}', x.get_text())[0],\n",
    "     ax.get_xticklabels()\n",
    "))\n",
    "ax.spines['top'].set_visible(False)\n",
    "ax.spines['right'].set_visible(False)\n",
    "ax.set_xticklabels(ticklabels, rotation='vertical');\n",
    "plt.suptitle('')\n",
    "plt.title('') # Num Named-Sources Used Over Time\n",
    "plt.grid()\n",
    "plt.xlabel(\"\")\n",
    "plt.ylabel('# Sources / Story')"
   ]
  },
  {
   "cell_type": "code",
   "execution_count": 263,
   "metadata": {
    "scrolled": true
   },
   "outputs": [
    {
     "data": {
      "text/plain": [
       "fn\n",
       "7e280457-c916-11e9-94f6-b831b5755f6c    20\n",
       "53d48c37-c916-11e9-ae2d-b831b5755f6c    20\n",
       "8b331b09-c916-11e9-a913-b831b5755f6c    20\n",
       "61e64f96-c916-11e9-99b8-b831b5755f6c    19\n",
       "3d2e0c94-c916-11e9-a055-b831b5755f6c    18\n",
       "Name: is_source, dtype: int32"
      ]
     },
     "execution_count": 263,
     "metadata": {},
     "output_type": "execute_result"
    }
   ],
   "source": [
    "(all_output_df\n",
    "    .assign(is_source=lambda df: (df['num_quotes']>0).astype(int))\n",
    "    .groupby('fn')['is_source']\n",
    "    .sum()\n",
    "    .sort_values(ascending=False).head()\n",
    ")"
   ]
  },
  {
   "cell_type": "code",
   "execution_count": 294,
   "metadata": {},
   "outputs": [
    {
     "data": {
      "text/plain": [
       "Text(0.5, 1.0, 'word count per story')"
      ]
     },
     "execution_count": 294,
     "metadata": {},
     "output_type": "execute_result"
    },
    {
     "data": {
      "image/png": "[encoded data removed]",
      "text/plain": [
       "<Figure size 432x288 with 1 Axes>"
      ]
     },
     "metadata": {
      "needs_background": "light"
     },
     "output_type": "display_data"
    }
   ],
   "source": [
    "import matplotlib.pyplot as plt\n",
    "a1_df.str.split().str.len().hist(bins=50)\n",
    "plt.title('word count per story')"
   ]
  },
  {
   "cell_type": "code",
   "execution_count": 303,
   "metadata": {},
   "outputs": [
    {
     "data": {
      "text/plain": [
       "Text(0.5, 0, 'Number of Quotes')"
      ]
     },
     "execution_count": 303,
     "metadata": {},
     "output_type": "execute_result"
    },
    {
     "data": {
      "image/png": "[encoded data removed]",
      "text/plain": [
       "<Figure size 432x288 with 1 Axes>"
      ]
     },
     "metadata": {
      "needs_background": "light"
     },
     "output_type": "display_data"
    }
   ],
   "source": [
    "all_output_df['num_quotes'].loc[lambda s: s>0].hist(bins=50)\n",
    "plt.title('Hist. Over \"Num Quotes per Person\"')\n",
    "plt.ylabel(\"Number of People\")\n",
    "plt.xlabel(\"Number of Quotes\")"
   ]
  },
  {
   "cell_type": "code",
   "execution_count": 314,
   "metadata": {},
   "outputs": [
    {
     "data": {
      "text/plain": [
       "Text(0.5, 0, 'Num Stories person is quoted in')"
      ]
     },
     "execution_count": 314,
     "metadata": {},
     "output_type": "execute_result"
    },
    {
     "data": {
      "image/png": "[encoded data removed]",
      "text/plain": [
       "<Figure size 288x432 with 1 Axes>"
      ]
     },
     "metadata": {
      "needs_background": "light"
     },
     "output_type": "display_data"
    }
   ],
   "source": [
    "(all_output_df\n",
    "     .loc[lambda df: df['num_quotes']>0]['name']\n",
    "     .value_counts()\n",
    "     .head(20)\n",
    "     .iloc[::-1]\n",
    "     .plot(kind='barh', figsize=(4, 6))\n",
    ")\n",
    "plt.title(\"Top Quoted People\")\n",
    "plt.xlabel(\"Num Stories person is quoted in\")"
   ]
  },
  {
   "cell_type": "code",
   "execution_count": null,
   "metadata": {},
   "outputs": [],
   "source": []
  },
  {
   "cell_type": "code",
   "execution_count": null,
   "metadata": {},
   "outputs": [],
   "source": []
  },
  {
   "cell_type": "code",
   "execution_count": null,
   "metadata": {},
   "outputs": [],
   "source": []
  },
  {
   "cell_type": "code",
   "execution_count": null,
   "metadata": {},
   "outputs": [],
   "source": []
  },
  {
   "cell_type": "code",
   "execution_count": null,
   "metadata": {},
   "outputs": [],
   "source": []
  },
  {
   "cell_type": "code",
   "execution_count": 287,
   "metadata": {},
   "outputs": [
    {
     "data": {
      "text/plain": [
       "[<Element 'dep' at 0x00000238174BA818>,\n",
       " <Element 'dep' at 0x000002381749F958>,\n",
       " <Element 'dep' at 0x000002381749FE58>,\n",
       " <Element 'dep' at 0x000002381749FD68>]"
      ]
     },
     "execution_count": 287,
     "metadata": {},
     "output_type": "execute_result"
    }
   ],
   "source": [
    "deps[32][:4]"
   ]
  },
  {
   "cell_type": "code",
   "execution_count": 289,
   "metadata": {
    "scrolled": true
   },
   "outputs": [
    {
     "name": "stdout",
     "output_type": "stream",
     "text": [
      "<dep type=\"root\">\n",
      "            <governor idx=\"0\">ROOT</governor>\n",
      "            <dependent idx=\"17\">gave</dependent>\n",
      "          </dep>\n",
      "          <dep type=\"case\">\n",
      "            <governor idx=\"6\">conference</governor>\n",
      "            <dependent idx=\"1\">During</dependent>\n",
      "          </dep>\n",
      "          <dep type=\"det\">\n",
      "            <governor idx=\"3\">prisoners</governor>\n",
      "            <dependent idx=\"2\">the</dependent>\n",
      "          </dep>\n",
      "          <dep type=\"nmod:poss\">\n",
      "            <governor idx=\"6\">conference</governor>\n",
      "            <dependent idx=\"3\">prisoners</dependent>\n",
      "          </dep>\n",
      "          <dep type=\"case\">\n",
      "            <governor idx=\"3\">prisoners</governor>\n",
      "            <dependent idx=\"4\">'</dependent>\n",
      "          </dep>\n",
      "          <dep type=\"compound\">\n",
      "            <governor idx=\"6\">conference</governor>\n",
      "            <dependent idx=\"5\">news</dependent>\n",
      "          </dep>\n",
      "          <dep type=\"nmod:during\">\n",
      "            <governor idx=\"17\">gave</governor>\n",
      "            <dependent idx=\"6\">conference</dependent>\n",
      "          </dep>\n",
      "          <dep type=\"punct\">\n",
      "            <governor idx=\"17\">gave</governor>\n",
      "            <dependent idx=\"7\">,</dependent>\n",
      "          </dep>\n",
      "          <dep type=\"det\">\n",
      "            <governor idx=\"10\">pilot</governor>\n",
      "            <dependent idx=\"8\">an</dependent>\n",
      "          </dep>\n",
      "          <dep type=\"amod\">\n",
      "            <governor idx=\"10\">pilot</governor>\n",
      "            <dependent idx=\"9\">Iraqi</dependent>\n",
      "          </dep>\n",
      "          <dep type=\"nsubj\">\n",
      "            <governor idx=\"17\">gave</governor>\n",
      "            <dependent idx=\"10\">pilot</dependent>\n",
      "          </dep>\n",
      "          <dep type=\"punct\">\n",
      "            <governor idx=\"10\">pilot</governor>\n",
      "            <dependent idx=\"11\">,</dependent>\n",
      "          </dep>\n",
      "          <dep type=\"compound\">\n",
      "            <governor idx=\"15\">Fahad</governor>\n",
      "            <dependent idx=\"12\">Lieut.</dependent>\n",
      "          </dep>\n",
      "          <dep type=\"compound\">\n",
      "            <governor idx=\"15\">Fahad</governor>\n",
      "            <dependent idx=\"13\">Abdel</dependent>\n",
      "          </dep>\n",
      "          <dep type=\"compound\">\n",
      "            <governor idx=\"15\">Fahad</governor>\n",
      "            <dependent idx=\"14\">Ali</dependent>\n",
      "          </dep>\n",
      "          <dep type=\"appos\">\n",
      "            <governor idx=\"10\">pilot</governor>\n",
      "            <dependent idx=\"15\">Fahad</dependent>\n",
      "          </dep>\n",
      "          <dep type=\"punct\">\n",
      "            <governor idx=\"10\">pilot</governor>\n",
      "            <dependent idx=\"16\">,</dependent>\n",
      "          </dep>\n",
      "          <dep type=\"det\">\n",
      "            <governor idx=\"19\">description</governor>\n",
      "            <dependent idx=\"18\">a</dependent>\n",
      "          </dep>\n",
      "          <dep type=\"nsubj\">\n",
      "            <governor idx=\"29\">consistent</governor>\n",
      "            <dependent idx=\"19\">description</dependent>\n",
      "          </dep>\n",
      "          <dep type=\"case\">\n",
      "            <governor idx=\"22\">way</governor>\n",
      "            <dependent idx=\"20\">of</dependent>\n",
      "          </dep>\n",
      "          <dep type=\"det\">\n",
      "            <governor idx=\"22\">way</governor>\n",
      "            <dependent idx=\"21\">the</dependent>\n",
      "          </dep>\n",
      "          <dep type=\"nmod:of\">\n",
      "            <governor idx=\"19\">description</governor>\n",
      "            <dependent idx=\"22\">way</dependent>\n",
      "          </dep>\n",
      "          <dep extra=\"true\" type=\"dobj\">\n",
      "            <governor idx=\"25\">shot</governor>\n",
      "            <dependent idx=\"22\">way</dependent>\n",
      "          </dep>\n",
      "          <dep type=\"nsubjpass\">\n",
      "            <governor idx=\"25\">shot</governor>\n",
      "            <dependent idx=\"23\">he</dependent>\n",
      "          </dep>\n",
      "          <dep type=\"auxpass\">\n",
      "            <governor idx=\"25\">shot</governor>\n",
      "            <dependent idx=\"24\">was</dependent>\n",
      "          </dep>\n",
      "          <dep type=\"acl:relcl\">\n",
      "            <governor idx=\"22\">way</governor>\n",
      "            <dependent idx=\"25\">shot</dependent>\n",
      "          </dep>\n",
      "          <dep type=\"compound:prt\">\n",
      "            <governor idx=\"25\">shot</governor>\n",
      "            <dependent idx=\"26\">down</dependent>\n",
      "          </dep>\n",
      "          <dep type=\"ref\">\n",
      "            <governor idx=\"22\">way</governor>\n",
      "            <dependent idx=\"27\">that</dependent>\n",
      "          </dep>\n",
      "          <dep type=\"cop\">\n",
      "            <governor idx=\"29\">consistent</governor>\n",
      "            <dependent idx=\"28\">was</dependent>\n",
      "          </dep>\n",
      "          <dep type=\"ccomp\">\n",
      "            <governor idx=\"17\">gave</governor>\n",
      "            <dependent idx=\"29\">consistent</dependent>\n",
      "          </dep>\n",
      "          <dep type=\"case\">\n",
      "            <governor idx=\"33\">use</governor>\n",
      "            <dependent idx=\"30\">with</dependent>\n",
      "          </dep>\n",
      "          <dep type=\"det\">\n",
      "            <governor idx=\"33\">use</governor>\n",
      "            <dependent idx=\"31\">the</dependent>\n",
      "          </dep>\n",
      "          <dep type=\"amod\">\n",
      "            <governor idx=\"33\">use</governor>\n",
      "            <dependent idx=\"32\">successful</dependent>\n",
      "          </dep>\n",
      "          <dep type=\"nmod:with\">\n",
      "            <governor idx=\"29\">consistent</governor>\n",
      "            <dependent idx=\"33\">use</dependent>\n",
      "          </dep>\n",
      "          <dep type=\"case\">\n",
      "            <governor idx=\"38\">system</governor>\n",
      "            <dependent idx=\"34\">of</dependent>\n",
      "          </dep>\n",
      "          <dep type=\"det\">\n",
      "            <governor idx=\"38\">system</governor>\n",
      "            <dependent idx=\"35\">an</dependent>\n",
      "          </dep>\n",
      "          <dep type=\"amod\">\n",
      "            <governor idx=\"38\">system</governor>\n",
      "            <dependent idx=\"36\">advanced</dependent>\n",
      "          </dep>\n",
      "          <dep type=\"compound\">\n",
      "            <governor idx=\"38\">system</governor>\n",
      "            <dependent idx=\"37\">missile</dependent>\n",
      "          </dep>\n",
      "          <dep type=\"nmod:of\">\n",
      "            <governor idx=\"33\">use</governor>\n",
      "            <dependent idx=\"38\">system</dependent>\n",
      "          </dep>\n",
      "          <dep type=\"case\">\n",
      "            <governor idx=\"41\">Hawk</governor>\n",
      "            <dependent idx=\"39\">like</dependent>\n",
      "          </dep>\n",
      "          <dep type=\"det\">\n",
      "            <governor idx=\"41\">Hawk</governor>\n",
      "            <dependent idx=\"40\">the</dependent>\n",
      "          </dep>\n",
      "          <dep type=\"nmod:like\">\n",
      "            <governor idx=\"29\">consistent</governor>\n",
      "            <dependent idx=\"41\">Hawk</dependent>\n",
      "          </dep>\n",
      "          <dep type=\"punct\">\n",
      "            <governor idx=\"17\">gave</governor>\n",
      "            <dependent idx=\"42\">.</dependent>\n",
      "          </dep>\n",
      "        \n"
     ]
    }
   ],
   "source": [
    "print(''.join(map(lambda x: ET.tostring(x).decode('utf-8'), deps[32])))"
   ]
  },
  {
   "cell_type": "code",
   "execution_count": 281,
   "metadata": {
    "scrolled": true
   },
   "outputs": [
    {
     "data": {
      "text/plain": [
       "['During',\n",
       " 'the',\n",
       " 'prisoners',\n",
       " \"'\",\n",
       " 'news',\n",
       " 'conference',\n",
       " ',',\n",
       " 'an',\n",
       " 'Iraqi',\n",
       " 'pilot',\n",
       " ',',\n",
       " 'Lieut.',\n",
       " 'Abdel',\n",
       " 'Ali',\n",
       " 'Fahad',\n",
       " ',',\n",
       " 'gave',\n",
       " 'a',\n",
       " 'description',\n",
       " 'of',\n",
       " 'the',\n",
       " 'way',\n",
       " 'he',\n",
       " 'was',\n",
       " 'shot',\n",
       " 'down',\n",
       " 'that',\n",
       " 'was',\n",
       " 'consistent',\n",
       " 'with',\n",
       " 'the',\n",
       " 'successful',\n",
       " 'use',\n",
       " 'of',\n",
       " 'an',\n",
       " 'advanced',\n",
       " 'missile',\n",
       " 'system',\n",
       " 'like',\n",
       " 'the',\n",
       " 'Hawk',\n",
       " '.']"
      ]
     },
     "execution_count": 281,
     "metadata": {},
     "output_type": "execute_result"
    }
   ],
   "source": [
    "sents_list[32]"
   ]
  },
  {
   "cell_type": "code",
   "execution_count": 279,
   "metadata": {},
   "outputs": [
    {
     "data": {
      "text/plain": [
       "<Entity: {'name': 'Abdel Ali Fahad', 'start': 12, 'end': 14, 'head': 14, 'sentence': 32}>"
      ]
     },
     "execution_count": 279,
     "metadata": {},
     "output_type": "execute_result"
    }
   ],
   "source": [
    "(pd.DataFrame(named_entity_clusters)\n",
    "    .T.loc[lambda df: df['speaking_vbs'].str.len() > 0]\n",
    "    ['first_mention'].iloc[0] #.iteritems()\n",
    ")"
   ]
  },
  {
   "cell_type": "code",
   "execution_count": null,
   "metadata": {},
   "outputs": [],
   "source": []
  },
  {
   "cell_type": "code",
   "execution_count": null,
   "metadata": {},
   "outputs": [],
   "source": []
  },
  {
   "cell_type": "code",
   "execution_count": null,
   "metadata": {},
   "outputs": [],
   "source": []
  },
  {
   "cell_type": "code",
   "execution_count": null,
   "metadata": {},
   "outputs": [],
   "source": []
  },
  {
   "cell_type": "code",
   "execution_count": null,
   "metadata": {},
   "outputs": [],
   "source": []
  },
  {
   "cell_type": "code",
   "execution_count": 629,
   "metadata": {},
   "outputs": [
    {
     "name": "stdout",
     "output_type": "stream",
     "text": [
      "<dep type=\"nsubj\">\n",
      "            <governor idx=\"9\">see</governor>\n",
      "            <dependent idx=\"3\">Vote</dependent>\n",
      "          </dep>\n",
      "          <dep type=\"nsubj\">\n",
      "            <governor idx=\"9\">see</governor>\n",
      "            <dependent idx=\"8\">I</dependent>\n",
      "          </dep>\n",
      "          <dep type=\"dobj\">\n",
      "            <governor idx=\"9\">see</governor>\n",
      "            <dependent idx=\"10\">it</dependent>\n",
      "          </dep>\n",
      "          <dep type=\"nsubj\">\n",
      "            <governor idx=\"29\">said</governor>\n",
      "            <dependent idx=\"18\">leadership</dependent>\n",
      "          </dep>\n",
      "          <dep extra=\"true\" type=\"nsubj\">\n",
      "            <governor idx=\"48\">irritated</governor>\n",
      "            <dependent idx=\"18\">leadership</dependent>\n",
      "          </dep>\n",
      "          <dep type=\"nsubj\">\n",
      "            <governor idx=\"21\">given</governor>\n",
      "            <dependent idx=\"19\">I</dependent>\n",
      "          </dep>\n",
      "          <dep type=\"dobj\">\n",
      "            <governor idx=\"29\">said</governor>\n",
      "            <dependent idx=\"31\">Lugar</dependent>\n",
      "          </dep>\n",
      "          <dep type=\"dobj\">\n",
      "            <governor idx=\"48\">irritated</governor>\n",
      "            <dependent idx=\"50\">Republicans</dependent>\n",
      "          </dep>\n",
      "          \n"
     ]
    }
   ],
   "source": [
    "print(''.join(list(map(lambda x: ET.tostring(x).decode('utf-8'), list(filter(lambda x: x.attrib['type'] in ('nsubj', 'dobj'), deps[5]))))))"
   ]
  },
  {
   "cell_type": "code",
   "execution_count": 630,
   "metadata": {},
   "outputs": [],
   "source": [
    "nsubjs = list(filter(lambda x: x.attrib['type'] in ('nsubj', 'dobj'), deps[5]))"
   ]
  },
  {
   "cell_type": "code",
   "execution_count": 634,
   "metadata": {},
   "outputs": [],
   "source": [
    "speaking_deps = list(filter(lambda x:\n",
    "          (x.findtext('governor') in ['said']) and \n",
    "          (x.find('dependent').attrib.get('idx', '') == str(31)) \n",
    "    , nsubjs))"
   ]
  },
  {
   "cell_type": "code",
   "execution_count": 635,
   "metadata": {},
   "outputs": [
    {
     "data": {
      "text/plain": [
       "[<Element 'dep' at 0x00000280EC7DE3B8>]"
      ]
     },
     "execution_count": 635,
     "metadata": {},
     "output_type": "execute_result"
    }
   ],
   "source": [
    "speaking_deps"
   ]
  },
  {
   "cell_type": "code",
   "execution_count": null,
   "metadata": {},
   "outputs": [],
   "source": []
  },
  {
   "cell_type": "code",
   "execution_count": null,
   "metadata": {},
   "outputs": [],
   "source": []
  },
  {
   "cell_type": "code",
   "execution_count": null,
   "metadata": {},
   "outputs": [],
   "source": []
  },
  {
   "cell_type": "code",
   "execution_count": null,
   "metadata": {},
   "outputs": [],
   "source": []
  },
  {
   "cell_type": "code",
   "execution_count": null,
   "metadata": {},
   "outputs": [],
   "source": []
  },
  {
   "cell_type": "code",
   "execution_count": null,
   "metadata": {},
   "outputs": [],
   "source": []
  },
  {
   "cell_type": "code",
   "execution_count": null,
   "metadata": {},
   "outputs": [],
   "source": []
  },
  {
   "cell_type": "code",
   "execution_count": null,
   "metadata": {},
   "outputs": [],
   "source": []
  },
  {
   "cell_type": "markdown",
   "metadata": {},
   "source": [
    "# Extract Modifiers and Appositives to noun"
   ]
  },
  {
   "cell_type": "code",
   "execution_count": 16,
   "metadata": {},
   "outputs": [
    {
     "name": "stderr",
     "output_type": "stream",
     "text": [
      "WARNING:allennlp.nn.initializers:Did not use initialization regex that was passed: .*bias_hh.*\n",
      "WARNING:allennlp.nn.initializers:Did not use initialization regex that was passed: .*bias_ih.*\n",
      "WARNING:allennlp.nn.initializers:Did not use initialization regex that was passed: .*weight_ih.*\n",
      "WARNING:allennlp.nn.initializers:Did not use initialization regex that was passed: .*weight_hh.*\n"
     ]
    }
   ],
   "source": [
    "dep_parser = Predictor.from_path(\"https://s3-us-west-2.amazonaws.com/allennlp/models/biaffine-dependency-parser-ptb-2018.08.23.tar.gz\")"
   ]
  },
  {
   "cell_type": "code",
   "execution_count": 21,
   "metadata": {},
   "outputs": [],
   "source": [
    "output = dep_parser.predict(\n",
    "  sentence=\"Gary D. Bass , executive director of O.M.B. Watch , a research and advocacy group that monitors the Oﬃce of Management and Budget , said the projected surplus was no more genuine than ” the proverbial pot of gold at the end of the rainbow .\"\n",
    ")"
   ]
  },
  {
   "cell_type": "code",
   "execution_count": 23,
   "metadata": {},
   "outputs": [
    {
     "data": {
      "text/plain": [
       "dict_keys(['arc_loss', 'tag_loss', 'loss', 'words', 'pos', 'predicted_dependencies', 'predicted_heads', 'hierplane_tree'])"
      ]
     },
     "execution_count": 23,
     "metadata": {},
     "output_type": "execute_result"
    }
   ],
   "source": [
    "output.keys()"
   ]
  },
  {
   "cell_type": "code",
   "execution_count": 25,
   "metadata": {},
   "outputs": [
    {
     "data": {
      "text/plain": [
       "46"
      ]
     },
     "execution_count": 25,
     "metadata": {},
     "output_type": "execute_result"
    }
   ],
   "source": [
    "len(output['predicted_heads'])"
   ]
  },
  {
   "cell_type": "code",
   "execution_count": 27,
   "metadata": {},
   "outputs": [
    {
     "data": {
      "text/plain": [
       "['nn', 'nn', 'nsubj', 'punct', 'amod']"
      ]
     },
     "execution_count": 27,
     "metadata": {},
     "output_type": "execute_result"
    }
   ],
   "source": [
    "output['predicted_dependencies'][:5]"
   ]
  },
  {
   "cell_type": "code",
   "execution_count": null,
   "metadata": {},
   "outputs": [],
   "source": [
    "output['hierplane_tree']['root']['children']"
   ]
  },
  {
   "cell_type": "code",
   "execution_count": null,
   "metadata": {},
   "outputs": [],
   "source": []
  },
  {
   "cell_type": "code",
   "execution_count": null,
   "metadata": {},
   "outputs": [],
   "source": []
  },
  {
   "cell_type": "code",
   "execution_count": null,
   "metadata": {},
   "outputs": [],
   "source": []
  },
  {
   "cell_type": "code",
   "execution_count": null,
   "metadata": {},
   "outputs": [],
   "source": []
  },
  {
   "cell_type": "code",
   "execution_count": null,
   "metadata": {},
   "outputs": [],
   "source": []
  },
  {
   "cell_type": "code",
   "execution_count": 401,
   "metadata": {},
   "outputs": [],
   "source": [
    "import Orange\n",
    "\n",
    "data = Orange.data.Table(\"iris\")\n",
    "learner = Orange.classification.CN2UnorderedLearner()\n",
    "\n",
    "# consider up to 10 solution streams at one time\n",
    "learner.rule_finder.search_algorithm.beam_width = 10\n",
    "\n",
    "# continuous value space is constrained to reduce computation time\n",
    "learner.rule_finder.search_strategy.constrain_continuous = True\n",
    "\n",
    "# found rules must cover at least 15 examples\n",
    "learner.rule_finder.general_validator.min_covered_examples = 1\n",
    "\n",
    "# found rules may combine at most 2 selectors (conditions)\n",
    "learner.rule_finder.general_validator.max_rule_length = 2\n",
    "\n",
    "classifier = learner(data)"
   ]
  }
 ],
 "metadata": {
  "hide_input": false,
  "kernelspec": {
   "display_name": "Python 3",
   "language": "python",
   "name": "python3"
  },
  "language_info": {
   "codemirror_mode": {
    "name": "ipython",
    "version": 3
   },
   "file_extension": ".py",
   "mimetype": "text/x-python",
   "name": "python",
   "nbconvert_exporter": "python",
   "pygments_lexer": "ipython3",
   "version": "3.7.3"
  },
  "latex_envs": {
   "LaTeX_envs_menu_present": true,
   "autoclose": false,
   "autocomplete": true,
   "bibliofile": "biblio.bib",
   "cite_by": "apalike",
   "current_citInitial": 1,
   "eqLabelWithNumbers": true,
   "eqNumInitial": 1,
   "hotkeys": {
    "equation": "Ctrl-E",
    "itemize": "Ctrl-I"
   },
   "labels_anchors": false,
   "latex_user_defs": false,
   "report_style_numbering": false,
   "user_envs_cfg": false
  }
 },
 "nbformat": 4,
 "nbformat_minor": 2
}
