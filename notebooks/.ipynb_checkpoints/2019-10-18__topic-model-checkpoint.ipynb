{
 "cells": [
  {
   "cell_type": "code",
   "execution_count": 3,
   "metadata": {},
   "outputs": [],
   "source": [
    "import pandas as pd\n",
    "import glob, os, sys\n",
    "import xml.etree.ElementTree as ET\n",
    "from tqdm import tqdm_notebook as tqdm\n",
    "from importlib import reload\n",
    "import numpy as np\n",
    "from matplotlib import pyplot as plt\n",
    "import json\n",
    "from collections import defaultdict"
   ]
  },
  {
   "cell_type": "code",
   "execution_count": 5,
   "metadata": {},
   "outputs": [],
   "source": [
    "sys.path.append('../models/topic_model/')"
   ]
  },
  {
   "cell_type": "code",
   "execution_count": 6,
   "metadata": {},
   "outputs": [],
   "source": [
    "import pickle\n",
    "from sampler import BOW_Source_GibbsSampler"
   ]
  },
  {
   "cell_type": "markdown",
   "metadata": {},
   "source": [
    "# Explore Early Results"
   ]
  },
  {
   "cell_type": "code",
   "execution_count": 396,
   "metadata": {},
   "outputs": [],
   "source": [
    "sampler = pickle.load(open('../models/topic_model/trained-sampled-iter-40.pkl', 'rb'))"
   ]
  },
  {
   "cell_type": "code",
   "execution_count": 397,
   "metadata": {},
   "outputs": [],
   "source": [
    "vocab = open('../models/topic_model/input_data/vocab.txt').read().split('\\n')\n",
    "topic_df = pd.DataFrame(sampler.vocab_by_wordtopic__word_counts, index=vocab)\n",
    "topic_df = topic_df/topic_df.sum(axis=0)"
   ]
  },
  {
   "cell_type": "code",
   "execution_count": 398,
   "metadata": {},
   "outputs": [],
   "source": [
    "import numpy as np \n",
    "from scipy.stats import entropy\n",
    "from IPython.display import HTML\n",
    "\n",
    "## get top words by topic\n",
    "top_words_by_topic = []\n",
    "for i in topic_df.columns:\n",
    "    sorted_topics = topic_df[i].sort_values(ascending=False).iloc[10:20]\n",
    "    top_words_by_topic.append(list(sorted_topics.index))\n",
    "\n",
    "## reformat into an HTML table for easier reading\n",
    "ncols = 10\n",
    "table = []\n",
    "row = []\n",
    "for topic, words in enumerate(top_words_by_topic):\n",
    "    subtable_header = '<th>%s</th>' % words[0].upper()\n",
    "    subtable_body = ''.join(list(map(lambda elem: '<tr><td>%s</td></tr>' % elem, words[1:])))\n",
    "    subtable = '<table><tr>%s</tr>%s</table>' % (subtable_header, subtable_body)\n",
    "    row.append(subtable)    \n",
    "    if (topic % ncols == (ncols - 1)) or (topic == len(top_words_by_topic) - 1) :\n",
    "        table.append('\\n'.join(list(map(lambda elem: '<td>%s</td>' % elem, row))))\n",
    "        row = []"
   ]
  },
  {
   "cell_type": "code",
   "execution_count": 399,
   "metadata": {},
   "outputs": [],
   "source": [
    "sorted_topic_df = pd.DataFrame(top_words_by_topic).T\n",
    "header = sorted_topic_df.loc[0].values\n",
    "sorted_topic_df = sorted_topic_df.iloc[1:,:]\n",
    "sorted_topic_df.columns= header"
   ]
  },
  {
   "cell_type": "markdown",
   "metadata": {},
   "source": [
    "# Top Topics"
   ]
  },
  {
   "cell_type": "code",
   "execution_count": 400,
   "metadata": {},
   "outputs": [
    {
     "data": {
      "text/html": [
       "<table><tr><td><table><tr><th>WORK</th></tr><tr><td>proposal</td></tr><tr><td>school</td></tr><tr><td>issue</td></tr><tr><td>attack</td></tr><tr><td>court</td></tr><tr><td>security</td></tr><tr><td>need</td></tr><tr><td>line</td></tr><tr><td>hospital</td></tr></table></td>\n",
       "<td><table><tr><th>JUST</th></tr><tr><td>political</td></tr><tr><td>leader</td></tr><tr><td>meeting</td></tr><tr><td>think</td></tr><tr><td>head</td></tr><tr><td>office</td></tr><tr><td>program</td></tr><tr><td>health</td></tr><tr><td>believe</td></tr></table></td>\n",
       "<td><table><tr><th>LIKE</th></tr><tr><td>money</td></tr><tr><td>power</td></tr><tr><td>change</td></tr><tr><td>problem</td></tr><tr><td>just</td></tr><tr><td>week</td></tr><tr><td>people</td></tr><tr><td>require</td></tr><tr><td>expect</td></tr></table></td>\n",
       "<td><table><tr><th>KNOW</th></tr><tr><td>make</td></tr><tr><td>month</td></tr><tr><td>price</td></tr><tr><td>time</td></tr><tr><td>senior</td></tr><tr><td>change</td></tr><tr><td>need</td></tr><tr><td>settlement</td></tr><tr><td>legislation</td></tr></table></td>\n",
       "<td><table><tr><th>TIME</th></tr><tr><td>decision</td></tr><tr><td>public</td></tr><tr><td>tell</td></tr><tr><td>vote</td></tr><tr><td>team</td></tr><tr><td>government</td></tr><tr><td>evidence</td></tr><tr><td>city</td></tr><tr><td>help</td></tr></table></td>\n",
       "<td><table><tr><th>INTERVIEW</th></tr><tr><td>work</td></tr><tr><td>time</td></tr><tr><td>chief</td></tr><tr><td>spokesman</td></tr><tr><td>chairman</td></tr><tr><td>group</td></tr><tr><td>state</td></tr><tr><td>company</td></tr><tr><td>way</td></tr></table></td>\n",
       "<td><table><tr><th>COME</th></tr><tr><td>meet</td></tr><tr><td>force</td></tr><tr><td>plan</td></tr><tr><td>office</td></tr><tr><td>school</td></tr><tr><td>child</td></tr><tr><td>kill</td></tr><tr><td>country</td></tr><tr><td>government</td></tr></table></td>\n",
       "<td><table><tr><th>COMPANY</th></tr><tr><td>force</td></tr><tr><td>issue</td></tr><tr><td>government</td></tr><tr><td>agree</td></tr><tr><td>ally</td></tr><tr><td>lawyer</td></tr><tr><td>demand</td></tr><tr><td>measure</td></tr><tr><td>day</td></tr></table></td>\n",
       "<td><table><tr><th>OFFICIAL</th></tr><tr><td>today</td></tr><tr><td>base</td></tr><tr><td>use</td></tr><tr><td>come</td></tr><tr><td>know</td></tr><tr><td>home</td></tr><tr><td>company</td></tr><tr><td>think</td></tr><tr><td>make</td></tr></table></td>\n",
       "<td><table><tr><th>TODAY</th></tr><tr><td>force</td></tr><tr><td>make</td></tr><tr><td>government</td></tr><tr><td>political</td></tr><tr><td>lead</td></tr><tr><td>begin</td></tr><tr><td>help</td></tr><tr><td>child</td></tr><tr><td>people</td></tr></table></td></tr><tr><td><table><tr><th>TIME</th></tr><tr><td>office</td></tr><tr><td>woman</td></tr><tr><td>today</td></tr><tr><td>government</td></tr><tr><td>appear</td></tr><tr><td>man</td></tr><tr><td>need</td></tr><tr><td>force</td></tr><tr><td>law</td></tr></table></td>\n",
       "<td><table><tr><th>SPOKESMAN</th></tr><tr><td>executive</td></tr><tr><td>percent</td></tr><tr><td>lawyer</td></tr><tr><td>just</td></tr><tr><td>today</td></tr><tr><td>campaign</td></tr><tr><td>recall</td></tr><tr><td>case</td></tr><tr><td>thing</td></tr></table></td>\n",
       "<td><table><tr><th>DRUG</th></tr><tr><td>american</td></tr><tr><td>day</td></tr><tr><td>political</td></tr><tr><td>make</td></tr><tr><td>include</td></tr><tr><td>group</td></tr><tr><td>plan</td></tr><tr><td>decision</td></tr><tr><td>increase</td></tr></table></td>\n",
       "<td><table><tr><th>LIKE</th></tr><tr><td>time</td></tr><tr><td>way</td></tr><tr><td>war</td></tr><tr><td>just</td></tr><tr><td>state</td></tr><tr><td>business</td></tr><tr><td>include</td></tr><tr><td>local</td></tr><tr><td>remain</td></tr></table></td>\n",
       "<td><table><tr><th>STATE</th></tr><tr><td>million</td></tr><tr><td>nuclear</td></tr><tr><td>come</td></tr><tr><td>like</td></tr><tr><td>official</td></tr><tr><td>death</td></tr><tr><td>report</td></tr><tr><td>think</td></tr><tr><td>sell</td></tr></table></td>\n",
       "<td><table><tr><th>MEMBER</th></tr><tr><td>percent</td></tr><tr><td>time</td></tr><tr><td>company</td></tr><tr><td>family</td></tr><tr><td>home</td></tr><tr><td>leader</td></tr><tr><td>month</td></tr><tr><td>state</td></tr><tr><td>come</td></tr></table></td>\n",
       "<td><table><tr><th>WORK</th></tr><tr><td>face</td></tr><tr><td>rule</td></tr><tr><td>include</td></tr><tr><td>rate</td></tr><tr><td>plan</td></tr><tr><td>million</td></tr><tr><td>report</td></tr><tr><td>make</td></tr><tr><td>provide</td></tr></table></td>\n",
       "<td><table><tr><th>BEGIN</th></tr><tr><td>industry</td></tr><tr><td>market</td></tr><tr><td>today</td></tr><tr><td>military</td></tr><tr><td>offer</td></tr><tr><td>people</td></tr><tr><td>report</td></tr><tr><td>month</td></tr><tr><td>lead</td></tr></table></td>\n",
       "<td><table><tr><th>WEEK</th></tr><tr><td>close</td></tr><tr><td>government</td></tr><tr><td>decision</td></tr><tr><td>worker</td></tr><tr><td>vote</td></tr><tr><td>people</td></tr><tr><td>use</td></tr><tr><td>leave</td></tr><tr><td>group</td></tr></table></td>\n",
       "<td><table><tr><th>PEOPLE</th></tr><tr><td>plan</td></tr><tr><td>leave</td></tr><tr><td>know</td></tr><tr><td>think</td></tr><tr><td>believe</td></tr><tr><td>include</td></tr><tr><td>government</td></tr><tr><td>issue</td></tr><tr><td>time</td></tr></table></td></tr><tr><td><table><tr><th>LAW</th></tr><tr><td>million</td></tr><tr><td>vote</td></tr><tr><td>way</td></tr><tr><td>court</td></tr><tr><td>effort</td></tr><tr><td>begin</td></tr><tr><td>plan</td></tr><tr><td>nation</td></tr><tr><td>billion</td></tr></table></td>\n",
       "<td><table><tr><th>LEAVE</th></tr><tr><td>make</td></tr><tr><td>lead</td></tr><tr><td>pay</td></tr><tr><td>case</td></tr><tr><td>percent</td></tr><tr><td>billion</td></tr><tr><td>city</td></tr><tr><td>report</td></tr><tr><td>recent</td></tr></table></td>\n",
       "<td><table><tr><th>MILITARY</th></tr><tr><td>policy</td></tr><tr><td>school</td></tr><tr><td>plan</td></tr><tr><td>police</td></tr><tr><td>attack</td></tr><tr><td>report</td></tr><tr><td>case</td></tr><tr><td>political</td></tr><tr><td>end</td></tr></table></td>\n",
       "<td><table><tr><th>AMERICAN</th></tr><tr><td>issue</td></tr><tr><td>today</td></tr><tr><td>day</td></tr><tr><td>work</td></tr><tr><td>country</td></tr><tr><td>city</td></tr><tr><td>agency</td></tr><tr><td>add</td></tr><tr><td>company</td></tr></table></td>\n",
       "<td><table><tr><th>PLAN</th></tr><tr><td>today</td></tr><tr><td>leave</td></tr><tr><td>town</td></tr><tr><td>government</td></tr><tr><td>report</td></tr><tr><td>cost</td></tr><tr><td>leader</td></tr><tr><td>political</td></tr><tr><td>just</td></tr></table></td></tr></table>"
      ],
      "text/plain": [
       "<IPython.core.display.HTML object>"
      ]
     },
     "execution_count": 400,
     "metadata": {},
     "output_type": "execute_result"
    }
   ],
   "source": [
    "HTML('<table>' + ''.join(list(map(lambda row: '<tr>%s</tr>' % row, table))) + '</table>')"
   ]
  },
  {
   "cell_type": "code",
   "execution_count": 401,
   "metadata": {},
   "outputs": [],
   "source": [
    "roles = open('../models/topic_model/input_data/roles.txt').read().split('\\n')\n",
    "roles[-1] = 'other'"
   ]
  },
  {
   "cell_type": "markdown",
   "metadata": {},
   "source": [
    "# Topics per Source-Type"
   ]
  },
  {
   "cell_type": "code",
   "execution_count": 402,
   "metadata": {},
   "outputs": [],
   "source": [
    "sourcetype_by_topic = pd.DataFrame(sampler.sourcetype_by_wordtopic__wordtopic_counts, index=roles).T"
   ]
  },
  {
   "cell_type": "markdown",
   "metadata": {},
   "source": [
    "PMI:\n",
    "\n",
    "$$pmi(x, y) = log \\frac{p(x, y)}{p(x)p(y)}$$"
   ]
  },
  {
   "cell_type": "code",
   "execution_count": 403,
   "metadata": {},
   "outputs": [],
   "source": [
    "p_topic = sourcetype_by_topic.sum(axis=1).pipe(lambda s: s/s.sum())\n",
    "p_source = sourcetype_by_topic.sum(axis=0).pipe(lambda s: s/s.sum())"
   ]
  },
  {
   "cell_type": "code",
   "execution_count": 404,
   "metadata": {},
   "outputs": [],
   "source": [
    "p_source_topic = sourcetype_by_topic / sourcetype_by_topic.sum().sum()"
   ]
  },
  {
   "cell_type": "code",
   "execution_count": 405,
   "metadata": {},
   "outputs": [],
   "source": [
    "pmi_sourcetype = pd.DataFrame(columns=sourcetype_by_topic.columns, index=sourcetype_by_topic.index)"
   ]
  },
  {
   "cell_type": "code",
   "execution_count": 406,
   "metadata": {},
   "outputs": [
    {
     "data": {
      "text/plain": [
       "0.0003829704249442658"
      ]
     },
     "execution_count": 406,
     "metadata": {},
     "output_type": "execute_result"
    }
   ],
   "source": [
    "p_source_topic[source][topic]"
   ]
  },
  {
   "cell_type": "code",
   "execution_count": 407,
   "metadata": {},
   "outputs": [],
   "source": [
    "for source in sourcetype_by_topic.columns:\n",
    "    for topic in sourcetype_by_topic.index:\n",
    "        pmi_sourcetype.at[topic, source] = np.log(p_source_topic[source][topic]) - np.log(p_topic[topic]) - np.log(p_source[source])"
   ]
  },
  {
   "cell_type": "code",
   "execution_count": 408,
   "metadata": {
    "scrolled": false
   },
   "outputs": [
    {
     "name": "stdout",
     "output_type": "stream",
     "text": [
      "government-decision-maker\n",
      "    topic 7: company, force, issue...\n",
      "    topic 16: work, face, rule...\n",
      "    topic 18: week, close, government...\n",
      "\n",
      "\n",
      "government-spokesman\n",
      "    topic 9: today, force, make...\n",
      "    topic 21: leave, make, lead...\n",
      "    topic 22: military, policy, school...\n",
      "\n",
      "\n",
      "government-advisor\n",
      "    topic 16: work, face, rule...\n",
      "    topic 3: know, make, month...\n",
      "    topic 20: law, million, vote...\n",
      "\n",
      "\n",
      "academic-other\n",
      "    topic 16: work, face, rule...\n",
      "    topic 21: leave, make, lead...\n",
      "    topic 22: military, policy, school...\n",
      "\n",
      "\n",
      "actor-doctor\n",
      "    topic 20: law, million, vote...\n",
      "    topic 12: drug, american, day...\n",
      "    topic 6: come, meet, force...\n",
      "\n",
      "\n",
      "corporate-lawyer\n",
      "    topic 13: like, time, way...\n",
      "    topic 18: week, close, government...\n",
      "    topic 16: work, face, rule...\n",
      "\n",
      "\n",
      "corporate-spokesman\n",
      "    topic 22: military, policy, school...\n",
      "    topic 16: work, face, rule...\n",
      "    topic 2: like, money, power...\n",
      "\n",
      "\n",
      "ngo-expert\n",
      "    topic 13: like, time, way...\n",
      "    topic 22: military, policy, school...\n",
      "    topic 3: know, make, month...\n",
      "\n",
      "\n",
      "...\n"
     ]
    }
   ],
   "source": [
    "for col in sourcetype_by_topic.columns[:8]:\n",
    "    print(col)\n",
    "    for topic in (\n",
    "#         sourcetype_by_topic\n",
    "#             .pipe(lambda df: df / df.sum(axis=0))[col]\n",
    "    pmi_sourcetype[col]\n",
    "        .sort_values(ascending=False)\n",
    "            .head(3)\n",
    "            .index\n",
    "    ):\n",
    "        print(\n",
    "            '    topic ' + str(topic) + ': ' + \n",
    "                ', '.join([sorted_topic_df.columns[topic]] + sorted_topic_df.iloc[:, topic].tolist()[:2]) + \n",
    "                '...'\n",
    "        )\n",
    "    print()\n",
    "    print()\n",
    "print('...')"
   ]
  },
  {
   "cell_type": "markdown",
   "metadata": {},
   "source": [
    "# Source-types per document"
   ]
  },
  {
   "cell_type": "code",
   "execution_count": 409,
   "metadata": {},
   "outputs": [],
   "source": [
    "docid2idx_map = list(map(lambda x: x['doc_id'],  sampler.docs))\n",
    "\n",
    "doc_to_source_map = {}\n",
    "for doc in sampler.docs:\n",
    "    if doc['doc_id'] not in doc_to_source_map:\n",
    "        doc_to_source_map[doc['doc_id']] = doc['source_map']\n",
    "\n",
    "source_to_sourcetype_df = (pd.Series(sampler.source_to_source_type)\n",
    "     .apply(lambda x: roles[x])\n",
    "     .reset_index()\n",
    "     .rename(columns={'level_0':'doc_idx', 'level_1':'source_id', 0:'source_role'})\n",
    "     .assign(doc_id=lambda df: df['doc_idx'].apply(lambda x: docid2idx_map[x]))\n",
    "     .assign(source_name=lambda df: df.apply(lambda x: doc_to_source_map[x['doc_id']].get(x['source_id']), axis=1))\n",
    "     .loc[lambda df: df['source_name'].notnull()]\n",
    ")"
   ]
  },
  {
   "cell_type": "code",
   "execution_count": 412,
   "metadata": {},
   "outputs": [
    {
     "data": {
      "text/html": [
       "<div>\n",
       "<style scoped>\n",
       "    .dataframe tbody tr th:only-of-type {\n",
       "        vertical-align: middle;\n",
       "    }\n",
       "\n",
       "    .dataframe tbody tr th {\n",
       "        vertical-align: top;\n",
       "    }\n",
       "\n",
       "    .dataframe thead th {\n",
       "        text-align: right;\n",
       "    }\n",
       "</style>\n",
       "<table border=\"1\" class=\"dataframe\">\n",
       "  <thead>\n",
       "    <tr style=\"text-align: right;\">\n",
       "      <th></th>\n",
       "      <th>doc_idx</th>\n",
       "      <th>source_id</th>\n",
       "      <th>source_role</th>\n",
       "      <th>doc_id</th>\n",
       "      <th>source_name</th>\n",
       "    </tr>\n",
       "  </thead>\n",
       "  <tbody>\n",
       "    <tr>\n",
       "      <th>0</th>\n",
       "      <td>0</td>\n",
       "      <td>S_0_0</td>\n",
       "      <td>academic-actor</td>\n",
       "      <td>1dab5d59-c916-11e9-a6c2-b831b5755f6c</td>\n",
       "      <td>David R. Obey</td>\n",
       "    </tr>\n",
       "    <tr>\n",
       "      <th>1</th>\n",
       "      <td>1</td>\n",
       "      <td>S_1_0</td>\n",
       "      <td>actor-doctor</td>\n",
       "      <td>1dab5d62-c916-11e9-ba39-b831b5755f6c</td>\n",
       "      <td>John Cardinal O'Connor</td>\n",
       "    </tr>\n",
       "    <tr>\n",
       "      <th>2</th>\n",
       "      <td>1</td>\n",
       "      <td>S_1_1</td>\n",
       "      <td>ngo-actor</td>\n",
       "      <td>1dab5d62-c916-11e9-ba39-b831b5755f6c</td>\n",
       "      <td>Chaim Herzog</td>\n",
       "    </tr>\n",
       "    <tr>\n",
       "      <th>3</th>\n",
       "      <td>1</td>\n",
       "      <td>S_1_2</td>\n",
       "      <td>government-advisor</td>\n",
       "      <td>1dab5d62-c916-11e9-ba39-b831b5755f6c</td>\n",
       "      <td>Yitzhak Shamir</td>\n",
       "    </tr>\n",
       "    <tr>\n",
       "      <th>4</th>\n",
       "      <td>1</td>\n",
       "      <td>S_1_3</td>\n",
       "      <td>corporate-decision-maker</td>\n",
       "      <td>1dab5d62-c916-11e9-ba39-b831b5755f6c</td>\n",
       "      <td>Teddy Kollek</td>\n",
       "    </tr>\n",
       "  </tbody>\n",
       "</table>\n",
       "</div>"
      ],
      "text/plain": [
       "   doc_idx source_id               source_role  \\\n",
       "0        0     S_0_0            academic-actor   \n",
       "1        1     S_1_0              actor-doctor   \n",
       "2        1     S_1_1                 ngo-actor   \n",
       "3        1     S_1_2        government-advisor   \n",
       "4        1     S_1_3  corporate-decision-maker   \n",
       "\n",
       "                                 doc_id             source_name  \n",
       "0  1dab5d59-c916-11e9-a6c2-b831b5755f6c           David R. Obey  \n",
       "1  1dab5d62-c916-11e9-ba39-b831b5755f6c  John Cardinal O'Connor  \n",
       "2  1dab5d62-c916-11e9-ba39-b831b5755f6c            Chaim Herzog  \n",
       "3  1dab5d62-c916-11e9-ba39-b831b5755f6c          Yitzhak Shamir  \n",
       "4  1dab5d62-c916-11e9-ba39-b831b5755f6c            Teddy Kollek  "
      ]
     },
     "execution_count": 412,
     "metadata": {},
     "output_type": "execute_result"
    }
   ],
   "source": [
    "source_to_sourcetype_df.head()"
   ]
  },
  {
   "cell_type": "code",
   "execution_count": 421,
   "metadata": {},
   "outputs": [],
   "source": [
    "samples_to_labels = (source_to_sourcetype_df\n",
    " .merge(legit_tags.to_frame('label').reset_index(), left_on=['doc_id', 'source_name'], right_on=['doc_id', 'person'])\n",
    ")[['source_role', 'label']]"
   ]
  },
  {
   "cell_type": "markdown",
   "metadata": {},
   "source": [
    "# Doc-Type per Source-Type"
   ]
  },
  {
   "cell_type": "code",
   "execution_count": 35,
   "metadata": {},
   "outputs": [
    {
     "data": {
      "text/html": [
       "<div>\n",
       "<style scoped>\n",
       "    .dataframe tbody tr th:only-of-type {\n",
       "        vertical-align: middle;\n",
       "    }\n",
       "\n",
       "    .dataframe tbody tr th {\n",
       "        vertical-align: top;\n",
       "    }\n",
       "\n",
       "    .dataframe thead th {\n",
       "        text-align: right;\n",
       "    }\n",
       "</style>\n",
       "<table border=\"1\" class=\"dataframe\">\n",
       "  <thead>\n",
       "    <tr style=\"text-align: right;\">\n",
       "      <th></th>\n",
       "      <th>government-decision-maker</th>\n",
       "      <th>government-spokesman</th>\n",
       "      <th>government-advisor</th>\n",
       "      <th>academic-other</th>\n",
       "      <th>actor-doctor</th>\n",
       "      <th>corporate-lawyer</th>\n",
       "      <th>corporate-spokesman</th>\n",
       "      <th>ngo-expert</th>\n",
       "      <th>academic-actor</th>\n",
       "      <th>actor-member</th>\n",
       "      <th>...</th>\n",
       "      <th>actor-leader</th>\n",
       "      <th>government-lawyer</th>\n",
       "      <th>witness-casual</th>\n",
       "      <th>actor-lawyer</th>\n",
       "      <th>actor-individual</th>\n",
       "      <th>corporate-decision-maker</th>\n",
       "      <th>victim-relative</th>\n",
       "      <th>government-witness</th>\n",
       "      <th>corporate-victim</th>\n",
       "      <th>other</th>\n",
       "    </tr>\n",
       "  </thead>\n",
       "  <tbody>\n",
       "    <tr>\n",
       "      <th>0</th>\n",
       "      <td>487.0</td>\n",
       "      <td>237.0</td>\n",
       "      <td>229.0</td>\n",
       "      <td>333.0</td>\n",
       "      <td>203.0</td>\n",
       "      <td>210.0</td>\n",
       "      <td>164.0</td>\n",
       "      <td>153.0</td>\n",
       "      <td>125.0</td>\n",
       "      <td>260.0</td>\n",
       "      <td>...</td>\n",
       "      <td>284.0</td>\n",
       "      <td>167.0</td>\n",
       "      <td>281.0</td>\n",
       "      <td>172.0</td>\n",
       "      <td>183.0</td>\n",
       "      <td>158.0</td>\n",
       "      <td>147.0</td>\n",
       "      <td>200.0</td>\n",
       "      <td>156.0</td>\n",
       "      <td>391.0</td>\n",
       "    </tr>\n",
       "    <tr>\n",
       "      <th>1</th>\n",
       "      <td>334.0</td>\n",
       "      <td>209.0</td>\n",
       "      <td>218.0</td>\n",
       "      <td>273.0</td>\n",
       "      <td>279.0</td>\n",
       "      <td>302.0</td>\n",
       "      <td>244.0</td>\n",
       "      <td>333.0</td>\n",
       "      <td>289.0</td>\n",
       "      <td>258.0</td>\n",
       "      <td>...</td>\n",
       "      <td>454.0</td>\n",
       "      <td>213.0</td>\n",
       "      <td>210.0</td>\n",
       "      <td>216.0</td>\n",
       "      <td>179.0</td>\n",
       "      <td>255.0</td>\n",
       "      <td>202.0</td>\n",
       "      <td>183.0</td>\n",
       "      <td>158.0</td>\n",
       "      <td>395.0</td>\n",
       "    </tr>\n",
       "    <tr>\n",
       "      <th>2</th>\n",
       "      <td>239.0</td>\n",
       "      <td>132.0</td>\n",
       "      <td>187.0</td>\n",
       "      <td>329.0</td>\n",
       "      <td>364.0</td>\n",
       "      <td>242.0</td>\n",
       "      <td>153.0</td>\n",
       "      <td>283.0</td>\n",
       "      <td>403.0</td>\n",
       "      <td>326.0</td>\n",
       "      <td>...</td>\n",
       "      <td>354.0</td>\n",
       "      <td>229.0</td>\n",
       "      <td>272.0</td>\n",
       "      <td>188.0</td>\n",
       "      <td>289.0</td>\n",
       "      <td>181.0</td>\n",
       "      <td>224.0</td>\n",
       "      <td>213.0</td>\n",
       "      <td>157.0</td>\n",
       "      <td>284.0</td>\n",
       "    </tr>\n",
       "    <tr>\n",
       "      <th>3</th>\n",
       "      <td>471.0</td>\n",
       "      <td>188.0</td>\n",
       "      <td>316.0</td>\n",
       "      <td>353.0</td>\n",
       "      <td>317.0</td>\n",
       "      <td>285.0</td>\n",
       "      <td>263.0</td>\n",
       "      <td>616.0</td>\n",
       "      <td>433.0</td>\n",
       "      <td>378.0</td>\n",
       "      <td>...</td>\n",
       "      <td>416.0</td>\n",
       "      <td>450.0</td>\n",
       "      <td>297.0</td>\n",
       "      <td>212.0</td>\n",
       "      <td>424.0</td>\n",
       "      <td>267.0</td>\n",
       "      <td>196.0</td>\n",
       "      <td>240.0</td>\n",
       "      <td>310.0</td>\n",
       "      <td>471.0</td>\n",
       "    </tr>\n",
       "    <tr>\n",
       "      <th>4</th>\n",
       "      <td>358.0</td>\n",
       "      <td>209.0</td>\n",
       "      <td>230.0</td>\n",
       "      <td>271.0</td>\n",
       "      <td>333.0</td>\n",
       "      <td>369.0</td>\n",
       "      <td>174.0</td>\n",
       "      <td>261.0</td>\n",
       "      <td>203.0</td>\n",
       "      <td>219.0</td>\n",
       "      <td>...</td>\n",
       "      <td>455.0</td>\n",
       "      <td>285.0</td>\n",
       "      <td>292.0</td>\n",
       "      <td>246.0</td>\n",
       "      <td>397.0</td>\n",
       "      <td>218.0</td>\n",
       "      <td>253.0</td>\n",
       "      <td>209.0</td>\n",
       "      <td>195.0</td>\n",
       "      <td>470.0</td>\n",
       "    </tr>\n",
       "  </tbody>\n",
       "</table>\n",
       "<p>5 rows × 25 columns</p>\n",
       "</div>"
      ],
      "text/plain": [
       "   government-decision-maker  government-spokesman  government-advisor  \\\n",
       "0                      487.0                 237.0               229.0   \n",
       "1                      334.0                 209.0               218.0   \n",
       "2                      239.0                 132.0               187.0   \n",
       "3                      471.0                 188.0               316.0   \n",
       "4                      358.0                 209.0               230.0   \n",
       "\n",
       "   academic-other  actor-doctor  corporate-lawyer  corporate-spokesman  \\\n",
       "0           333.0         203.0             210.0                164.0   \n",
       "1           273.0         279.0             302.0                244.0   \n",
       "2           329.0         364.0             242.0                153.0   \n",
       "3           353.0         317.0             285.0                263.0   \n",
       "4           271.0         333.0             369.0                174.0   \n",
       "\n",
       "   ngo-expert  academic-actor  actor-member  ...  actor-leader  \\\n",
       "0       153.0           125.0         260.0  ...         284.0   \n",
       "1       333.0           289.0         258.0  ...         454.0   \n",
       "2       283.0           403.0         326.0  ...         354.0   \n",
       "3       616.0           433.0         378.0  ...         416.0   \n",
       "4       261.0           203.0         219.0  ...         455.0   \n",
       "\n",
       "   government-lawyer  witness-casual  actor-lawyer  actor-individual  \\\n",
       "0              167.0           281.0         172.0             183.0   \n",
       "1              213.0           210.0         216.0             179.0   \n",
       "2              229.0           272.0         188.0             289.0   \n",
       "3              450.0           297.0         212.0             424.0   \n",
       "4              285.0           292.0         246.0             397.0   \n",
       "\n",
       "   corporate-decision-maker  victim-relative  government-witness  \\\n",
       "0                     158.0            147.0               200.0   \n",
       "1                     255.0            202.0               183.0   \n",
       "2                     181.0            224.0               213.0   \n",
       "3                     267.0            196.0               240.0   \n",
       "4                     218.0            253.0               209.0   \n",
       "\n",
       "   corporate-victim  other  \n",
       "0             156.0  391.0  \n",
       "1             158.0  395.0  \n",
       "2             157.0  284.0  \n",
       "3             310.0  471.0  \n",
       "4             195.0  470.0  \n",
       "\n",
       "[5 rows x 25 columns]"
      ]
     },
     "execution_count": 35,
     "metadata": {},
     "output_type": "execute_result"
    }
   ],
   "source": [
    "doctype_by_sourcetype = pd.DataFrame(sampler.sourcetype_by_doctype__source_counts, columns=roles)\n",
    "doctype_by_sourcetype.head()"
   ]
  },
  {
   "cell_type": "code",
   "execution_count": null,
   "metadata": {},
   "outputs": [],
   "source": []
  },
  {
   "cell_type": "code",
   "execution_count": null,
   "metadata": {},
   "outputs": [],
   "source": []
  },
  {
   "cell_type": "code",
   "execution_count": null,
   "metadata": {},
   "outputs": [],
   "source": []
  },
  {
   "cell_type": "code",
   "execution_count": null,
   "metadata": {},
   "outputs": [],
   "source": []
  },
  {
   "cell_type": "markdown",
   "metadata": {},
   "source": [
    "# Label for Validation"
   ]
  },
  {
   "cell_type": "code",
   "execution_count": 204,
   "metadata": {},
   "outputs": [],
   "source": [
    "doc_html = []\n",
    "with open('../data/news-article-flatlist/html-for-sources/doc_html.json') as f:\n",
    "    for line in f.readlines():\n",
    "        doc_html.append(json.loads(line.strip()))"
   ]
  },
  {
   "cell_type": "code",
   "execution_count": 205,
   "metadata": {},
   "outputs": [],
   "source": [
    "doc_id2html = {}\n",
    "for html in doc_html:\n",
    "    doc_id2html[html['doc_id']] = html"
   ]
  },
  {
   "cell_type": "code",
   "execution_count": 206,
   "metadata": {},
   "outputs": [],
   "source": [
    "from IPython.display import HTML"
   ]
  },
  {
   "cell_type": "code",
   "execution_count": 207,
   "metadata": {},
   "outputs": [
    {
     "data": {
      "text/html": [
       "<h3>source: Charles Cossentino</h3><b>article's lead paragraph:</b><br>LEAD : A winter storm , combined with unusually high tides and gale-force winds , caused extensive damage along the Southern coast yesterday before sweeping northward into the New York metropolitan area . The New York area prepared for coastal flooding , icy roads and slow going in the rush hour this morning , as many commuters end their New Year 's holiday . ''...<br><br><b>source's sentences:</b><br>Luckily we have n't had any serious problems , '' <span style=\"background-color: #ADD8E6\"><span style=\"background-color: #ADD8E6\">said</span></span> Sgt. Charles <span style=\"background-color: #FFFF00\">Cossentino</span> of the Port Authority of New York and New Jersey 's Police Department . ... <span style=\"background-color: #FFFF00\">He</span> <span style=\"background-color: #ADD8E6\">said</span> air traffic at the city 's three major aiports was also light because of the holiday . ... Most people seem to stay at home on New Year 's Day , '' <span style=\"background-color: #FFFF00\">he</span> <span style=\"background-color: #ADD8E6\">said</span> . ... We 've also put an additional 300 workers on the midnight to 8 A.M. shift , '' <span style=\"background-color: #FFFF00\">he</span> <span style=\"background-color: #ADD8E6\">said</span> . ... <span style=\"background-color: #FFFF00\">He</span> warned that if the snow did turn to rain overnight , there would probably be street flooding this morning . ... But we 'll worry about that later , '' <span style=\"background-color: #FFFF00\">he</span> <span style=\"background-color: #ADD8E6\">said</span> .<br><br><b>label:</b><br><span style=\"background-color: #F9C1AF\">corporate-analyst</span>"
      ],
      "text/plain": [
       "<IPython.core.display.HTML object>"
      ]
     },
     "execution_count": 207,
     "metadata": {},
     "output_type": "execute_result"
    }
   ],
   "source": [
    "HTML(doc_html[13]['html'])"
   ]
  },
  {
   "cell_type": "code",
   "execution_count": null,
   "metadata": {},
   "outputs": [],
   "source": []
  },
  {
   "cell_type": "code",
   "execution_count": null,
   "metadata": {},
   "outputs": [],
   "source": []
  },
  {
   "cell_type": "markdown",
   "metadata": {},
   "source": [
    "# Manual Check"
   ]
  },
  {
   "cell_type": "code",
   "execution_count": 213,
   "metadata": {},
   "outputs": [],
   "source": [
    "marked_files = glob.glob('../app/data/batch-marked*')"
   ]
  },
  {
   "cell_type": "code",
   "execution_count": 222,
   "metadata": {},
   "outputs": [],
   "source": [
    "tags = []\n",
    "for marked_file in marked_files:\n",
    "    tags.extend(json.load(open(marked_file)))"
   ]
  },
  {
   "cell_type": "code",
   "execution_count": 223,
   "metadata": {},
   "outputs": [],
   "source": [
    "## load them into a dataframe and parse out nonlegit sources.\n",
    "tags_df = pd.DataFrame(tags)\n",
    "legit_tagged_sources = (\n",
    "    tags_df\n",
    "        .groupby(['doc_id', 'person'])[['question_class', 'label']]\n",
    "        .apply(lambda df: dict(df.itertuples(index=False)))\n",
    "        .apply(pd.Series)\n",
    "        .fillna('')\n",
    "        .loc[lambda df: df['error'] == 'legit']\n",
    ")\n",
    "legit_tagged_sources = (\n",
    "    legit_tagged_sources\n",
    "        .reset_index()\n",
    "        .assign(person=lambda df: df['person'].str.replace('-', ' '))\n",
    "        .set_index(['doc_id', 'person'])\n",
    ")\n",
    "role = (\n",
    "    legit_tagged_sources\n",
    "        [list(filter(lambda x: '-role' in x, legit_tagged_sources.columns))]\n",
    "        .apply(lambda x: x[x != ''][0], axis=1)\n",
    ")\n",
    "affil = legit_tagged_sources['affiliation']\n",
    "legit_tags = affil + '-' + role"
   ]
  },
  {
   "cell_type": "code",
   "execution_count": 237,
   "metadata": {},
   "outputs": [],
   "source": [
    "model_labeled = {}\n",
    "with open('../data/news-article-flatlist/model-labeled-sources/doc_html.json') as f:\n",
    "    for line in f.readlines():\n",
    "        doc = json.loads(line.strip())\n",
    "        doc.pop('doc_sentences')\n",
    "        doc_id = doc['doc_id']\n",
    "        model_labeled[doc_id] = doc"
   ]
  },
  {
   "cell_type": "code",
   "execution_count": 265,
   "metadata": {},
   "outputs": [],
   "source": [
    "legit_tags_df = legit_tags.reset_index()"
   ]
  },
  {
   "cell_type": "code",
   "execution_count": 267,
   "metadata": {},
   "outputs": [
    {
     "data": {
      "text/html": [
       "<div>\n",
       "<style scoped>\n",
       "    .dataframe tbody tr th:only-of-type {\n",
       "        vertical-align: middle;\n",
       "    }\n",
       "\n",
       "    .dataframe tbody tr th {\n",
       "        vertical-align: top;\n",
       "    }\n",
       "\n",
       "    .dataframe thead th {\n",
       "        text-align: right;\n",
       "    }\n",
       "</style>\n",
       "<table border=\"1\" class=\"dataframe\">\n",
       "  <thead>\n",
       "    <tr style=\"text-align: right;\">\n",
       "      <th></th>\n",
       "      <th>doc_id</th>\n",
       "      <th>person</th>\n",
       "      <th>0</th>\n",
       "    </tr>\n",
       "  </thead>\n",
       "  <tbody>\n",
       "    <tr>\n",
       "      <th>58</th>\n",
       "      <td>2afdb68a-c916-11e9-a2b5-b831b5755f6c</td>\n",
       "      <td>David E. Skaggs</td>\n",
       "      <td>government-decision-maker</td>\n",
       "    </tr>\n",
       "    <tr>\n",
       "      <th>107</th>\n",
       "      <td>4dceffe9-c916-11e9-b704-b831b5755f6c</td>\n",
       "      <td>Raighne Davidson</td>\n",
       "      <td>witness-casual</td>\n",
       "    </tr>\n",
       "    <tr>\n",
       "      <th>128</th>\n",
       "      <td>5bafe4bc-c916-11e9-b06e-b831b5755f6c</td>\n",
       "      <td>David Bar Illan</td>\n",
       "      <td>government-spokesman</td>\n",
       "    </tr>\n",
       "    <tr>\n",
       "      <th>172</th>\n",
       "      <td>8b1609d8-c916-11e9-b5c1-b831b5755f6c</td>\n",
       "      <td>David Ritz</td>\n",
       "      <td>academic-other</td>\n",
       "    </tr>\n",
       "  </tbody>\n",
       "</table>\n",
       "</div>"
      ],
      "text/plain": [
       "                                   doc_id            person  \\\n",
       "58   2afdb68a-c916-11e9-a2b5-b831b5755f6c   David E. Skaggs   \n",
       "107  4dceffe9-c916-11e9-b704-b831b5755f6c  Raighne Davidson   \n",
       "128  5bafe4bc-c916-11e9-b06e-b831b5755f6c   David Bar Illan   \n",
       "172  8b1609d8-c916-11e9-b5c1-b831b5755f6c        David Ritz   \n",
       "\n",
       "                             0  \n",
       "58   government-decision-maker  \n",
       "107             witness-casual  \n",
       "128       government-spokesman  \n",
       "172             academic-other  "
      ]
     },
     "execution_count": 267,
     "metadata": {},
     "output_type": "execute_result"
    }
   ],
   "source": [
    "legit_tags_df.loc[lambda df: df['person'].str.contains('David')]"
   ]
  },
  {
   "cell_type": "code",
   "execution_count": 269,
   "metadata": {},
   "outputs": [],
   "source": [
    "input_data_df = pd.DataFrame(sampler.docs)"
   ]
  },
  {
   "cell_type": "code",
   "execution_count": 279,
   "metadata": {},
   "outputs": [
    {
     "data": {
      "text/plain": [
       "0    27428\n",
       "Name: source_labels, dtype: int64"
      ]
     },
     "execution_count": 279,
     "metadata": {},
     "output_type": "execute_result"
    }
   ],
   "source": [
    "input_data_df['source_labels'].apply(lambda x: len(x)).value_counts()"
   ]
  },
  {
   "cell_type": "code",
   "execution_count": null,
   "metadata": {},
   "outputs": [],
   "source": []
  },
  {
   "cell_type": "code",
   "execution_count": null,
   "metadata": {},
   "outputs": [],
   "source": []
  },
  {
   "cell_type": "markdown",
   "metadata": {},
   "source": [
    "# Load new processed data"
   ]
  },
  {
   "cell_type": "code",
   "execution_count": 288,
   "metadata": {},
   "outputs": [],
   "source": [
    "import sys"
   ]
  },
  {
   "cell_type": "code",
   "execution_count": 289,
   "metadata": {},
   "outputs": [],
   "source": [
    "sys.path.append('../models/topic_model/')"
   ]
  },
  {
   "cell_type": "code",
   "execution_count": 295,
   "metadata": {},
   "outputs": [],
   "source": [
    "import process_data_for_tm"
   ]
  },
  {
   "cell_type": "code",
   "execution_count": 353,
   "metadata": {},
   "outputs": [],
   "source": [
    "label_dir = '../data/news-article-flatlist/labels'\n",
    "role_file = '../models/topic_model/input_data_with_labels/roles.txt'"
   ]
  },
  {
   "cell_type": "code",
   "execution_count": null,
   "metadata": {},
   "outputs": [],
   "source": [
    "process_data_for_tm.read_roles()"
   ]
  },
  {
   "cell_type": "code",
   "execution_count": 371,
   "metadata": {},
   "outputs": [],
   "source": [
    "processed_texts = []\n",
    "with open('../models/topic_model/input_data_with_labels/doc_source.json') as f:\n",
    "    for line in f.readlines():\n",
    "        processed_texts.append(json.loads(line.strip()))"
   ]
  },
  {
   "cell_type": "code",
   "execution_count": 356,
   "metadata": {},
   "outputs": [],
   "source": [
    "s_2_label_id = process_data_for_tm.read_roles(label_dir, role_file)"
   ]
  },
  {
   "cell_type": "code",
   "execution_count": 363,
   "metadata": {},
   "outputs": [],
   "source": [
    "for text in processed_texts:\n",
    "    doc_id = text['doc_id']\n",
    "    ## attach labels to document\n",
    "    text['source_labels'] = {}\n",
    "    if doc_id in s_2_label_id:\n",
    "        source_name_2_labels = s_2_label_id[doc_id]\n",
    "        source_name_2_id = {v:k for k,v in text['source_map'].items()}\n",
    "        for source_name, label_id in source_name_2_labels.items():\n",
    "            if source_name in source_name_2_id:\n",
    "                text['source_labels'][source_name_2_id[source_name]] = label_id"
   ]
  },
  {
   "cell_type": "code",
   "execution_count": 370,
   "metadata": {},
   "outputs": [],
   "source": [
    "with open('../models/topic_model/input_data_with_labels/doc_source.json', 'w') as f:\n",
    "    for text in processed_texts:\n",
    "        f.write(json.dumps(text))\n",
    "        f.write('\\n')"
   ]
  },
  {
   "cell_type": "code",
   "execution_count": null,
   "metadata": {},
   "outputs": [],
   "source": []
  },
  {
   "cell_type": "code",
   "execution_count": null,
   "metadata": {},
   "outputs": [],
   "source": []
  },
  {
   "cell_type": "code",
   "execution_count": null,
   "metadata": {},
   "outputs": [],
   "source": []
  },
  {
   "cell_type": "code",
   "execution_count": null,
   "metadata": {},
   "outputs": [],
   "source": []
  },
  {
   "cell_type": "code",
   "execution_count": null,
   "metadata": {},
   "outputs": [],
   "source": []
  },
  {
   "cell_type": "code",
   "execution_count": null,
   "metadata": {},
   "outputs": [],
   "source": []
  },
  {
   "cell_type": "code",
   "execution_count": 464,
   "metadata": {},
   "outputs": [],
   "source": [
    "from tqdm import tqdm_notebook as tqdm"
   ]
  },
  {
   "cell_type": "code",
   "execution_count": 524,
   "metadata": {},
   "outputs": [
    {
     "data": {
      "application/vnd.jupyter.widget-view+json": {
       "model_id": "4dff42666285466ba76a6ec775ff5d22",
       "version_major": 2,
       "version_minor": 0
      },
      "text/plain": [
       "HBox(children=(IntProgress(value=0, max=8028), HTML(value='')))"
      ]
     },
     "metadata": {},
     "output_type": "display_data"
    }
   ],
   "source": [
    "parsed_htmls = []\n",
    "with open('../data/news-article-flatlist/html-for-sources/doc_html.json') as f:\n",
    "    for line in tqdm(f.readlines()):\n",
    "        parsed_html = json.loads(line.strip())\n",
    "        if parsed_html['doc_id'] in final_docs:\n",
    "            parsed_html['done'] = False\n",
    "            k = client.key('source-annotation-unmarked', parsed_html['doc_id'] + '-' + parsed_html['person'])\n",
    "            e = datastore.Entity(k, exclude_from_indexes=['sentence_ids', 'html'])\n",
    "            e.update(parsed_html)\n",
    "            client.put(e)\n",
    "            \n",
    "            parsed_htmls.append(parsed_html)"
   ]
  },
  {
   "cell_type": "code",
   "execution_count": 459,
   "metadata": {},
   "outputs": [],
   "source": [
    "e = datastore.Entity(k, exclude_from_indexes=['sentence_ids', 'html'])"
   ]
  },
  {
   "cell_type": "code",
   "execution_count": 460,
   "metadata": {},
   "outputs": [],
   "source": [
    "e.update(parsed_html)"
   ]
  },
  {
   "cell_type": "code",
   "execution_count": 453,
   "metadata": {},
   "outputs": [],
   "source": [
    "from google.cloud import datastore"
   ]
  },
  {
   "cell_type": "code",
   "execution_count": 455,
   "metadata": {},
   "outputs": [],
   "source": [
    "import os\n",
    "os.environ['GOOGLE_APPLICATION_CREDENTIALS'] = 'C:/Users/alexa/google-cloud/usc-research-c087445cf499.json'\n",
    "\n",
    "client = datastore.Client()"
   ]
  },
  {
   "cell_type": "code",
   "execution_count": null,
   "metadata": {},
   "outputs": [],
   "source": [
    "client.key()"
   ]
  },
  {
   "cell_type": "code",
   "execution_count": null,
   "metadata": {},
   "outputs": [],
   "source": []
  },
  {
   "cell_type": "code",
   "execution_count": null,
   "metadata": {},
   "outputs": [],
   "source": []
  },
  {
   "cell_type": "code",
   "execution_count": 532,
   "metadata": {},
   "outputs": [],
   "source": [
    "q = client.query(kind='source-annotation-unmarked')\n",
    "q.add_filter('done', '=', False)"
   ]
  },
  {
   "cell_type": "code",
   "execution_count": 533,
   "metadata": {},
   "outputs": [],
   "source": [
    "unfinished = list(q.fetch())"
   ]
  },
  {
   "cell_type": "code",
   "execution_count": null,
   "metadata": {},
   "outputs": [],
   "source": []
  },
  {
   "cell_type": "code",
   "execution_count": null,
   "metadata": {},
   "outputs": [],
   "source": []
  },
  {
   "cell_type": "code",
   "execution_count": 536,
   "metadata": {},
   "outputs": [],
   "source": [
    "q = client.query(kind='source-annotation-marked')\n",
    "marked = list(q.fetch())"
   ]
  },
  {
   "cell_type": "code",
   "execution_count": 566,
   "metadata": {},
   "outputs": [],
   "source": [
    "template_df = pd.DataFrame(index=t_df.index, columns=t_df.columns).assign(question_class=t_df['question_class'])"
   ]
  },
  {
   "cell_type": "code",
   "execution_count": 603,
   "metadata": {},
   "outputs": [],
   "source": [
    "affil_role_mapper = {'government': 2,\n",
    " 'victim': 3,\n",
    " 'academic': 4,\n",
    " 'witness': 5,\n",
    " 'corporate': 9,\n",
    " 'ngo': 10}\n",
    "\n",
    "def make_datapoint(doc_id, person, affiliation, role):\n",
    "    output_df = template_df.copy()\n",
    "    output_df['doc_id'] = doc_id\n",
    "    output_df['person'] = person\n",
    "    \n",
    "    ###\n",
    "    output_df.at[0, 'label'] = 'legit'\n",
    "    output_df.at[1, 'label'] = affiliation\n",
    "    output_df.at[affil_role_mapper[affiliation], 'label'] = role\n",
    "    \n",
    "    ##\n",
    "    output_dict = output_df.to_dict(orient='rows')\n",
    "    \n",
    "    ## pop nans:\n",
    "    for datum in output_dict:\n",
    "        to_pop = []\n",
    "        for key in datum:\n",
    "            if isinstance(datum[key], float) and np.isnan(datum[key]):\n",
    "                to_pop.append(key)\n",
    "        for key in to_pop:\n",
    "            datum.pop(key)\n",
    "\n",
    "    return output_dict"
   ]
  },
  {
   "cell_type": "code",
   "execution_count": 631,
   "metadata": {},
   "outputs": [
    {
     "data": {
      "text/html": [
       "<h3>source: Daniel C. Maguire</h3><b>article's lead paragraph:</b><br>LEAD : Some Roman Catholic theologians in the United States dissented sharply yesterday from parts of the Vatican 's new document on human reproduction , especially its opposition to the use of artificial means to fertilize a woman 's egg with her husband 's sperm . Other theologians and representatives of the church hierarchy in this country expressed support for the Vatican position ....<br><br><b>source's sentences:</b><br>At the other end of the theological spectrum was Daniel C. <span style=\"background-color: #FFFF00\">Maguire</span> , a professor of moral theology at Marquette University in Milwaukee . ... The Vatican is squandering its moral authority on issues where it has no privileged knowledge or expertise , '' <span style=\"background-color: #ADD8E6\"><span style=\"background-color: #ADD8E6\">said</span></span> Professor <span style=\"background-color: #FFFF00\">Maguire</span> , who is active in Catholics for a Free Choice , an organization that favors abortion rights . ... Mainstream Catholic Theology Rather than setting the agenda on reproductive issues , Professor <span style=\"background-color: #FFFF00\">Maguire</span> <span style=\"background-color: #ADD8E6\"><span style=\"background-color: #ADD8E6\">said</span></span> , `` the Vatican is running behind mainstream Catholic theology . ... In approaching the subject of human reproduction , Professor <span style=\"background-color: #FFFF00\">Maguire</span> <span style=\"background-color: #ADD8E6\"><span style=\"background-color: #ADD8E6\">said</span></span> , the Vatican should weigh such issues as the needs of infertile parents and the requirements of a just society . ... This is another example of celibate men pronouncing on the reproductive rights of women , when women 's voices have not been heard , '' <span style=\"background-color: #FFFF00\">he</span> <span style=\"background-color: #ADD8E6\">said</span> ."
      ],
      "text/plain": [
       "<IPython.core.display.HTML object>"
      ]
     },
     "metadata": {},
     "output_type": "display_data"
    }
   ],
   "source": [
    "t1 = list(filter(is_academic_expert, parsed_htmls))\n",
    "display(HTML(t1[2]['html'].replace('$', '')))"
   ]
  },
  {
   "cell_type": "code",
   "execution_count": null,
   "metadata": {},
   "outputs": [],
   "source": [
    "is_academic_expert = lambda x: 'university' in x['html'].lower() and 'professor' in x['html'].lower()"
   ]
  },
  {
   "cell_type": "code",
   "execution_count": 646,
   "metadata": {},
   "outputs": [],
   "source": [
    "def is_government_decision_maker(x):\n",
    "    text = x['html'].lower()\n",
    "    if 'senator' in text:\n",
    "        return True\n",
    "    if 'representative' in text:\n",
    "        if 'democrat' in text or 'republican' in text:\n",
    "            return True\n",
    "    if (\n",
    "        ('prime minister' in text or 'white house' in text or 'president' in text) \n",
    "            and \n",
    "        ('advisor' not in text and 'spokesman' not in text and 'spokeswoman' not in text and 'company' not in text and 'board' not in text)\n",
    "    ):\n",
    "        return True\n",
    "    else:\n",
    "        return False"
   ]
  },
  {
   "cell_type": "code",
   "execution_count": null,
   "metadata": {},
   "outputs": [],
   "source": [
    "t1 = list(filter(is_academic_expert, parsed_htmls))\n",
    "display(HTML(t1[2]['html'].replace('$', '')))"
   ]
  },
  {
   "cell_type": "code",
   "execution_count": 648,
   "metadata": {},
   "outputs": [],
   "source": [
    "t2 = list(filter(is_government_decision_maker, unfinished))"
   ]
  },
  {
   "cell_type": "code",
   "execution_count": 650,
   "metadata": {},
   "outputs": [
    {
     "data": {
      "text/html": [
       "<h3>source: Kathy Pherson</h3><b>article's lead paragraph:</b><br>LEAD : One of President Reagan 's most trusted advisers , former Senator Paul Laxalt , said today that he did not think Mr. Reagan was yet prepared to condemn the reasoning that led to the Iran arms deal . This impression squares with the views of other advisers who have talked to Mr. Reagan in the last week as he has searched for a way to address the Iran issue that would help him salvage the remaining 23 months of his Presidency ....<br><br><b>source's sentences:</b><br>Kathy <span style=\"background-color: #FFFF00\">Pherson</span> , a C.I.A. spokeswoman , <span style=\"background-color: #ADD8E6\">said</span> tonight that Mr. Gates had not declared any intention to withdraw from consideration ."
      ],
      "text/plain": [
       "<IPython.core.display.HTML object>"
      ]
     },
     "metadata": {},
     "output_type": "display_data"
    }
   ],
   "source": [
    "display(HTML(t2[4]['html'].replace('$', '')))"
   ]
  },
  {
   "cell_type": "code",
   "execution_count": null,
   "metadata": {},
   "outputs": [],
   "source": []
  },
  {
   "cell_type": "code",
   "execution_count": null,
   "metadata": {},
   "outputs": [],
   "source": []
  },
  {
   "cell_type": "code",
   "execution_count": null,
   "metadata": {},
   "outputs": [],
   "source": []
  },
  {
   "cell_type": "code",
   "execution_count": null,
   "metadata": {},
   "outputs": [],
   "source": []
  },
  {
   "cell_type": "code",
   "execution_count": null,
   "metadata": {},
   "outputs": [],
   "source": []
  },
  {
   "cell_type": "code",
   "execution_count": null,
   "metadata": {},
   "outputs": [],
   "source": []
  },
  {
   "cell_type": "markdown",
   "metadata": {},
   "source": [
    "# some clean up"
   ]
  },
  {
   "cell_type": "code",
   "execution_count": 468,
   "metadata": {},
   "outputs": [],
   "source": [
    "t = client.query()\n",
    "all_entities= list(t.fetch())\n",
    "k = all_entities[0].key\n",
    "t = list(map(lambda k: k.key, all_entities))\n",
    "long_keys =  list(filter(lambda x: len(x.flat_path)>2, t))\n",
    "for key in long_keys:\n",
    "    client.delete(key)"
   ]
  }
 ],
 "metadata": {
  "hide_input": false,
  "kernelspec": {
   "display_name": "Python 3",
   "language": "python",
   "name": "python3"
  },
  "language_info": {
   "codemirror_mode": {
    "name": "ipython",
    "version": 3
   },
   "file_extension": ".py",
   "mimetype": "text/x-python",
   "name": "python",
   "nbconvert_exporter": "python",
   "pygments_lexer": "ipython3",
   "version": "3.7.3"
  },
  "latex_envs": {
   "LaTeX_envs_menu_present": true,
   "autoclose": false,
   "autocomplete": true,
   "bibliofile": "biblio.bib",
   "cite_by": "apalike",
   "current_citInitial": 1,
   "eqLabelWithNumbers": true,
   "eqNumInitial": 1,
   "hotkeys": {
    "equation": "Ctrl-E",
    "itemize": "Ctrl-I"
   },
   "labels_anchors": false,
   "latex_user_defs": false,
   "report_style_numbering": false,
   "user_envs_cfg": false
  }
 },
 "nbformat": 4,
 "nbformat_minor": 2
}
