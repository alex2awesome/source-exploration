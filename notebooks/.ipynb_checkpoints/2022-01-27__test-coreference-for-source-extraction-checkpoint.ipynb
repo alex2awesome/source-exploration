{
 "cells": [
  {
   "cell_type": "code",
   "execution_count": 545,
   "metadata": {},
   "outputs": [],
   "source": [
    "import sqlite3\n",
    "import pandas as pd \n",
    "import sys\n",
    "from IPython.display import display, HTML\n",
    "sys.path.insert(0, '../../edit-pathways/util/')\n",
    "import util_newssniffer_parsing as unp \n",
    "import spacy\n",
    "import neuralcoref\n",
    "\n",
    "# nlp = spacy.load('en_core_web_sm')"
   ]
  },
  {
   "cell_type": "markdown",
   "metadata": {},
   "source": [
    "# Try seeing if neuralcoref will help"
   ]
  },
  {
   "cell_type": "code",
   "execution_count": 546,
   "metadata": {},
   "outputs": [
    {
     "data": {
      "text/plain": [
       "'Deepika has a dog. The movie star loves a dog. The movie star has always been fond of animals'"
      ]
     },
     "execution_count": 546,
     "metadata": {},
     "output_type": "execute_result"
    }
   ],
   "source": [
    "# Let's try before using the conversion dictionary:\n",
    "try:\n",
    "    nlp.remove_pipe('neuralcoref')\n",
    "except:\n",
    "    pass\n",
    "\n",
    "neuralcoref.add_to_pipe(nlp, max_dist=500, conv_dict={'Deepika': ['entity']})\n",
    "doc = nlp(u'Deepika has a dog. She loves him. The movie star has always been fond of animals')\n",
    "doc._.coref_resolved"
   ]
  },
  {
   "cell_type": "code",
   "execution_count": 3,
   "metadata": {},
   "outputs": [
    {
     "data": {
      "text/plain": [
       "[Deepika: [Deepika, She, him, The movie star]]"
      ]
     },
     "execution_count": 3,
     "metadata": {},
     "output_type": "execute_result"
    }
   ],
   "source": [
    "doc._.coref_clusters"
   ]
  },
  {
   "cell_type": "code",
   "execution_count": 6,
   "metadata": {},
   "outputs": [],
   "source": [
    "db_path = '../../edit-pathways/data/diffengine-diffs/spark-output/nyt-matched-sentences.db'\n",
    "db_path = '../../edit-pathways/data/diffengine-diffs/db/newssniffer-nytimes.db'"
   ]
  },
  {
   "cell_type": "code",
   "execution_count": 7,
   "metadata": {},
   "outputs": [],
   "source": [
    "conn = sqlite3.connect(db_path)\n",
    "df = pd.read_sql('SELECT * from entryversion limit 5', con=conn)"
   ]
  },
  {
   "cell_type": "code",
   "execution_count": 8,
   "metadata": {},
   "outputs": [],
   "source": [
    "t = df['summary'][0].replace('</p><p>', ' ')"
   ]
  },
  {
   "cell_type": "code",
   "execution_count": 9,
   "metadata": {},
   "outputs": [],
   "source": [
    "doc = nlp(t)"
   ]
  },
  {
   "cell_type": "code",
   "execution_count": null,
   "metadata": {
    "scrolled": true
   },
   "outputs": [],
   "source": [
    "doc._.coref_clusters"
   ]
  },
  {
   "cell_type": "code",
   "execution_count": 60,
   "metadata": {},
   "outputs": [],
   "source": [
    "s_pre = df['summary'][0].split('</p><p>')\n",
    "s_fixed = [] \n",
    "for s in s_pre:\n",
    "    doc = nlp(s)\n",
    "    s_fixed.append(doc._.coref_resolved)"
   ]
  },
  {
   "cell_type": "code",
   "execution_count": 61,
   "metadata": {},
   "outputs": [],
   "source": [
    "htmls = []\n",
    "for s_o, s_n in zip(s_pre, s_fixed):\n",
    "    v_o, v_n = unp.html_compare_sentences(s_o, s_n)\n",
    "    htmls.append((v_o, v_n))"
   ]
  },
  {
   "cell_type": "code",
   "execution_count": 65,
   "metadata": {
    "scrolled": false
   },
   "outputs": [
    {
     "data": {
      "text/html": [
       "<table><tr><td>In Silicon Valley , Apple just won big against Samsung in the patent lawsuit of the year , after trading claims and counterclaims of pilfered product ideas . Across the country , in a federal court in Florida , an inventor named Mark Stadnyk is waging a different kind of patent warfare — an ambitious and perhaps quixotic legal foray .</td><td>In Silicon Valley , Apple just won big against Samsung in the patent lawsuit of the year , after trading claims and counterclaims of pilfered product ideas . Across the country , in a federal court in Florida , an inventor named Mark Stadnyk is waging a different kind of patent warfare — an ambitious and perhaps quixotic legal foray .</td></tr><tr><td>Mr. Stadnyk , who holds a patent on a motorcycle windshield , is suing the United States government , aiming to head off a patent law that he says will favor big companies and hurt lone inventors like <span style=\"background-color:rgba(255,0,0,0.3)\">himself</span>  .</td><td>Mr. Stadnyk , who holds a patent on a motorcycle windshield , is suing the United States government , aiming to head off a patent law that he says will favor big companies and hurt lone inventors like  <span style=\"background-color:rgba(0,255,0,0.3)\">he</span> .</td></tr><tr><td>Represented by a prominent Washington lawyer , Mr. Stadnyk filed a suit last month that challenges the constitutionality of legislation that Congress passed last fall , the America Invents Act . Mr. Stadnyk and <span style=\"background-color:rgba(255,0,0,0.3)\">his</span>   lawyer — along with some academics , entrepreneurs and venture capitalists — assert that       the   legislation           is a triumph of corporate lobbying power over the founders ’ wishes , and that <span style=\"background-color:rgba(255,0,0,0.3)\">it</span>                     threatens America ’s stature as the world ’s leading innovator .</td><td>Represented by a prominent Washington lawyer , Mr. Stadnyk filed a suit last month that challenges the constitutionality of legislation that Congress passed last fall , the America Invents Act . Mr. Stadnyk and  <span style=\"background-color:rgba(0,255,0,0.3)\">Mr.</span> <span style=\"background-color:rgba(0,255,0,0.3)\">Stadnyk</span> lawyer — along with some academics , entrepreneurs and venture capitalists — assert that <span style=\"background-color:rgba(0,255,0,0.3)\">a</span> <span style=\"background-color:rgba(0,255,0,0.3)\">suit</span> <span style=\"background-color:rgba(0,255,0,0.3)\">last</span> <span style=\"background-color:rgba(0,255,0,0.3)\">month</span> <span style=\"background-color:rgba(0,255,0,0.3)\">that</span> <span style=\"background-color:rgba(0,255,0,0.3)\">challenges</span> the <span style=\"background-color:rgba(0,255,0,0.3)\">constitutionality</span> <span style=\"background-color:rgba(0,255,0,0.3)\">of</span> legislation <span style=\"background-color:rgba(0,255,0,0.3)\">that</span> <span style=\"background-color:rgba(0,255,0,0.3)\">Congress</span> <span style=\"background-color:rgba(0,255,0,0.3)\">passed</span> <span style=\"background-color:rgba(0,255,0,0.3)\">last</span> <span style=\"background-color:rgba(0,255,0,0.3)\">fall</span> <span style=\"background-color:rgba(0,255,0,0.3)\">,</span> <span style=\"background-color:rgba(0,255,0,0.3)\">the</span> <span style=\"background-color:rgba(0,255,0,0.3)\">America</span> <span style=\"background-color:rgba(0,255,0,0.3)\">Invents</span> <span style=\"background-color:rgba(0,255,0,0.3)\">Act</span> is a triumph of corporate lobbying power over the founders ’ wishes , and that  <span style=\"background-color:rgba(0,255,0,0.3)\">a</span> <span style=\"background-color:rgba(0,255,0,0.3)\">suit</span> <span style=\"background-color:rgba(0,255,0,0.3)\">last</span> <span style=\"background-color:rgba(0,255,0,0.3)\">month</span> <span style=\"background-color:rgba(0,255,0,0.3)\">that</span> <span style=\"background-color:rgba(0,255,0,0.3)\">challenges</span> <span style=\"background-color:rgba(0,255,0,0.3)\">the</span> <span style=\"background-color:rgba(0,255,0,0.3)\">constitutionality</span> <span style=\"background-color:rgba(0,255,0,0.3)\">of</span> <span style=\"background-color:rgba(0,255,0,0.3)\">legislation</span> <span style=\"background-color:rgba(0,255,0,0.3)\">that</span> <span style=\"background-color:rgba(0,255,0,0.3)\">Congress</span> <span style=\"background-color:rgba(0,255,0,0.3)\">passed</span> <span style=\"background-color:rgba(0,255,0,0.3)\">last</span> <span style=\"background-color:rgba(0,255,0,0.3)\">fall</span> <span style=\"background-color:rgba(0,255,0,0.3)\">,</span> <span style=\"background-color:rgba(0,255,0,0.3)\">the</span> <span style=\"background-color:rgba(0,255,0,0.3)\">America</span> <span style=\"background-color:rgba(0,255,0,0.3)\">Invents</span> <span style=\"background-color:rgba(0,255,0,0.3)\">Act</span> threatens America ’s stature as the world ’s leading innovator .</td></tr><tr><td>The present system , one of the nation ’s oldest patent principles and called “ first to invent , ” relies on lab notebooks , e - mails and early prototypes to establish the date of invention . The impending law would overturn that by awarding patents to the inventors who are “ first to file ” with the United States Patent and Trademark Office .</td><td>The present system , one of the nation ’s oldest patent principles and called “ first to invent , ” relies on lab notebooks , e - mails and early prototypes to establish the date of invention . The impending law would overturn that by awarding patents to the inventors who are “ first to file ” with the United States Patent and Trademark Office .</td></tr><tr><td>Mr. Stadnyk , 48 , a garage inventor who stumbled into the world of patents after he bought a powerful new motorcycle and wanted to avoid being battered by the wind when riding at 60 miles an hour , even with a windshield . <span style=\"background-color:rgba(255,0,0,0.3)\">He</span>  devised a system of brackets and gears to adjust the height and angle of <span style=\"background-color:rgba(255,0,0,0.3)\">the</span>  windshield and the gap between it and <span style=\"background-color:rgba(255,0,0,0.3)\">the</span>    motorcycle . With <span style=\"background-color:rgba(255,0,0,0.3)\">his</span>  system , he says , the rider feels a flutter of breeze instead of jolting winds and turbulence .</td><td>Mr. Stadnyk , 48 , a garage inventor who stumbled into the world of patents after he bought a powerful new motorcycle and wanted to avoid being battered by the wind when riding at 60 miles an hour , even with a windshield .  <span style=\"background-color:rgba(0,255,0,0.3)\">he</span> devised a system of brackets and gears to adjust the height and angle of  <span style=\"background-color:rgba(0,255,0,0.3)\">a</span> windshield and the gap between it and  <span style=\"background-color:rgba(0,255,0,0.3)\">a</span> <span style=\"background-color:rgba(0,255,0,0.3)\">powerful</span> <span style=\"background-color:rgba(0,255,0,0.3)\">new</span> motorcycle . With  <span style=\"background-color:rgba(0,255,0,0.3)\">he</span> system , he says , the rider feels a flutter of breeze instead of jolting winds and turbulence .</td></tr></table>"
      ],
      "text/plain": [
       "<IPython.core.display.HTML object>"
      ]
     },
     "metadata": {},
     "output_type": "display_data"
    }
   ],
   "source": [
    "all_html = [] # '<table>%s</table>'\n",
    "for v_o, v_n in htmls[:5]:\n",
    "    all_html.append('<tr><td>%s</td><td>%s</td></tr>' % (v_o, v_n))\n",
    "display(HTML('<table>%s</table>' % ''.join(all_html)))"
   ]
  },
  {
   "cell_type": "markdown",
   "metadata": {},
   "source": [
    "# AllenNLP Coref"
   ]
  },
  {
   "cell_type": "code",
   "execution_count": null,
   "metadata": {
    "scrolled": true
   },
   "outputs": [],
   "source": [
    "from allennlp.predictors.predictor import Predictor\n",
    "\n",
    "model_url = 'https://storage.googleapis.com/allennlp-public-models/coref-spanbert-large-2020.02.27.tar.gz'\n",
    "predictor = Predictor.from_path(model_url)  # load the model"
   ]
  },
  {
   "cell_type": "code",
   "execution_count": 547,
   "metadata": {},
   "outputs": [
    {
     "name": "stdout",
     "output_type": "stream",
     "text": [
      "[[[0, 2], [6, 6], [13, 13]], [[6, 8], [15, 15]]]\n",
      "Eva and Martha didn't want Eva and Martha's friend Jenny to feel lonely so Eva and Martha invited their friend Jenny to the party.\n"
     ]
    }
   ],
   "source": [
    "text = \"Eva and Martha didn't want their friend Jenny to feel lonely so they invited her to the party.\"\n",
    "prediction = predictor.predict(document=text)  # get the prediction\n",
    "\n",
    "print(prediction['clusters'])  # list of clusters (the indices of spaCy tokens)\n",
    "# [[[0, 2], [6, 6], [13, 13]], [[6, 8], [15, 15]]]\n",
    "\n",
    "print(predictor.coref_resolved(text))  # resolved text"
   ]
  },
  {
   "cell_type": "code",
   "execution_count": 119,
   "metadata": {},
   "outputs": [],
   "source": [
    "pred = predictor.predict(t)"
   ]
  },
  {
   "cell_type": "code",
   "execution_count": 122,
   "metadata": {},
   "outputs": [],
   "source": [
    "t_r = predictor.coref_resolved(t)"
   ]
  },
  {
   "cell_type": "code",
   "execution_count": 125,
   "metadata": {},
   "outputs": [],
   "source": [
    "q = util.get_quotes_method_2(text=t_r, cluster=True, resolve_coref=False, greedyness=.4, max_dist=150)"
   ]
  },
  {
   "cell_type": "code",
   "execution_count": 548,
   "metadata": {},
   "outputs": [],
   "source": [
    "from typing import List\n",
    "from spacy.tokens import Doc, Span\n",
    "\n",
    "def core_logic_part(document: Doc, coref: List[int], resolved: List[str], mention_span: Span):\n",
    "    final_token = document[coref[1]]\n",
    "    if final_token.tag_ in [\"PRP$\", \"POS\"]:\n",
    "        resolved[coref[0]] = mention_span.text + \"'s\" + final_token.whitespace_\n",
    "    else:\n",
    "        resolved[coref[0]] = mention_span.text + final_token.whitespace_\n",
    "    for i in range(coref[0] + 1, coref[1] + 1):\n",
    "        resolved[i] = \"\"\n",
    "    return resolved\n",
    "\n",
    "def get_span_noun_indices(doc: Doc, cluster: List[List[int]]) -> List[int]:\n",
    "    spans = [doc[span[0]:span[1]+1] for span in cluster]\n",
    "    span_ents = [span.ents for span in spans ]\n",
    "    spans_pos = [[token.pos_ for token in span] for span in spans]\n",
    "    span_noun_indices = [\n",
    "        i for i, (span_pos, span_ents) in enumerate(zip(spans_pos, span_ents))\n",
    "        if any(pos in span_pos for pos in ['NOUN', 'PROPN'])\n",
    "#         and len(span_ents) > 0 \n",
    "    ]\n",
    "    return span_noun_indices\n",
    "\n",
    "def get_cluster_head(doc: Doc, cluster: List[List[int]], noun_indices: List[int]):\n",
    "    head_idx = noun_indices[0]\n",
    "    head_start, head_end = cluster[head_idx]\n",
    "    head_span = doc[head_start:head_end+1]\n",
    "    return head_span, [head_start, head_end]\n",
    "\n",
    "def is_containing_other_spans(span: List[int], all_spans: List[List[int]]):\n",
    "    return any([s[0] >= span[0] and s[1] <= span[1] and s != span for s in all_spans])\n",
    "\n",
    "\n",
    "def improved_replace_corefs(document, clusters):\n",
    "    resolved = list(tok.text_with_ws for tok in document)\n",
    "    all_spans = [span for cluster in clusters for span in cluster]  # flattened list of all spans\n",
    "\n",
    "    for cluster in clusters:\n",
    "        noun_indices = get_span_noun_indices(document, cluster)\n",
    "\n",
    "        if noun_indices:\n",
    "            mention_span, mention = get_cluster_head(document, cluster, noun_indices)\n",
    "\n",
    "            for coref in cluster:\n",
    "                if coref != mention and not is_containing_other_spans(coref, all_spans):\n",
    "                    core_logic_part(document, coref, resolved, mention_span)\n",
    "\n",
    "    return \"\".join(resolved)"
   ]
  },
  {
   "cell_type": "code",
   "execution_count": 549,
   "metadata": {},
   "outputs": [],
   "source": [
    "from copy import deepcopy\n",
    "import neuralcoref\n",
    "import en_core_web_sm\n",
    "\n",
    "from abc import ABC, abstractmethod\n",
    "from os import environ\n",
    "from warnings import warn\n",
    "from typing import Dict, List\n",
    "from spacy.tokens import Doc\n",
    "\n",
    "\n",
    "class IntersectionStrategy(ABC):\n",
    "\n",
    "    def __init__(self, allen_model, hugging_model):\n",
    "        self.allen_clusters = []\n",
    "        self.hugging_clusters = []\n",
    "        self.allen_model = allen_model\n",
    "        self.hugging_model = hugging_model\n",
    "        self.document = []\n",
    "        self.doc = None\n",
    "\n",
    "    @abstractmethod\n",
    "    def get_intersected_clusters(self):\n",
    "        raise NotImplementedError\n",
    "\n",
    "    @staticmethod\n",
    "    def get_span_noun_indices(doc: Doc, cluster: List[List[int]]):\n",
    "        spans = [doc[span[0]:span[1]+1] for span in cluster]\n",
    "        spans_pos = [[token.pos_ for token in span] for span in spans]\n",
    "        span_noun_indices = [i for i, span_pos in enumerate(spans_pos)\n",
    "            if any(pos in span_pos for pos in ['NOUN', 'PROPN'])]\n",
    "        return span_noun_indices\n",
    "\n",
    "    @staticmethod\n",
    "    def get_cluster_head(doc: Doc, cluster: List[List[int]], noun_indices: List[int]):\n",
    "        head_idx = noun_indices[0]\n",
    "        head_start, head_end = cluster[head_idx]\n",
    "        head_span = doc[head_start:head_end+1]\n",
    "        return head_span, [head_start, head_end]\n",
    "\n",
    "    @staticmethod\n",
    "    def is_containing_other_spans(span: List[int], all_spans: List[List[int]]):\n",
    "        return any([s[0] >= span[0] and s[1] <= span[1] and s != span for s in all_spans])\n",
    "\n",
    "    def coref_resolved_improved(self, doc: Doc, clusters: List[List[List[int]]]):\n",
    "        resolved = [tok.text_with_ws for tok in doc]\n",
    "        all_spans = [span for cluster in clusters for span in cluster]  # flattened list of all spans\n",
    "\n",
    "        for cluster in clusters:\n",
    "            noun_indices = self.get_span_noun_indices(doc, cluster)\n",
    "            if noun_indices:\n",
    "                mention_span, mention = self.get_cluster_head(doc, cluster, noun_indices)\n",
    "\n",
    "                for coref in cluster:\n",
    "                    if coref != mention and not self.is_containing_other_spans(coref, all_spans):\n",
    "                        final_token = doc[coref[1]]\n",
    "                        if final_token.tag_ in [\"PRP$\", \"POS\"]:\n",
    "                            resolved[coref[0]] = mention_span.text + \"'s\" + final_token.whitespace_\n",
    "                        else:\n",
    "                            resolved[coref[0]] = mention_span.text + final_token.whitespace_\n",
    "\n",
    "                        for i in range(coref[0] + 1, coref[1] + 1):\n",
    "                            resolved[i] = \"\"\n",
    "\n",
    "        return \"\".join(resolved)\n",
    "\n",
    "    def clusters(self, text):\n",
    "        self.acquire_models_clusters(text)\n",
    "        return self.get_intersected_clusters()\n",
    "\n",
    "    def resolve_coreferences(self, text: str):\n",
    "        clusters = self.clusters(text)\n",
    "        resolved_text = self.coref_resolved_improved(self.doc, clusters)\n",
    "        return resolved_text\n",
    "\n",
    "    def acquire_models_clusters(self, text: str):\n",
    "        allen_prediction = self.allen_model.predict(text)\n",
    "        self.allen_clusters = allen_prediction['clusters']\n",
    "        self.document = allen_prediction['document']\n",
    "        self.doc = self.hugging_model(text)\n",
    "        hugging_clusters = self._transform_huggingface_answer_to_allen_list_of_clusters()\n",
    "        self.hugging_clusters = hugging_clusters\n",
    "\n",
    "    def _transform_huggingface_answer_to_allen_list_of_clusters(self):\n",
    "        list_of_clusters = []\n",
    "        for cluster in self.doc._.coref_clusters:\n",
    "            list_of_clusters.append([])\n",
    "            for span in cluster:\n",
    "                list_of_clusters[-1].append([span[0].i, span[-1].i])\n",
    "        return list_of_clusters\n",
    "\n",
    "\n",
    "class PartialIntersectionStrategy(IntersectionStrategy):\n",
    "    def get_intersected_clusters(self):\n",
    "        intersected_clusters = []\n",
    "        for allen_cluster in self.allen_clusters:\n",
    "            intersected_cluster = []\n",
    "            for hugging_cluster in self.hugging_clusters:\n",
    "                allen_set = set(tuple([tuple(span) for span in allen_cluster]))\n",
    "                hugging_set = set(tuple([tuple(span) for span in hugging_cluster]))\n",
    "                intersect = sorted([list(el) for el in allen_set.intersection(hugging_set)])\n",
    "                if len(intersect) > 1:\n",
    "                    intersected_cluster += intersect\n",
    "            if intersected_cluster:\n",
    "                intersected_clusters.append(intersected_cluster)\n",
    "        return intersected_clusters\n",
    "\n",
    "class FuzzyIntersectionStrategy(PartialIntersectionStrategy):\n",
    "    \"\"\" Is treated as a PartialIntersectionStrategy, yet first must map AllenNLP spans and Huggingface spans. \"\"\"\n",
    "\n",
    "    @staticmethod\n",
    "    def flatten_cluster(list_of_clusters):\n",
    "        return [span for cluster in list_of_clusters for span in cluster]\n",
    "\n",
    "    def _check_whether_spans_are_within_range(self, allen_span, hugging_span):\n",
    "        allen_range = range(allen_span[0], allen_span[1]+1)\n",
    "        hugging_range = range(hugging_span[0], hugging_span[1]+1)\n",
    "        allen_within = allen_span[0] in hugging_range and allen_span[1] in hugging_range\n",
    "        hugging_within = hugging_span[0] in allen_range and hugging_span[1] in allen_range\n",
    "        return allen_within or hugging_within\n",
    "\n",
    "    def _add_span_to_list_dict(self, allen_span, hugging_span):\n",
    "        if (allen_span[1]-allen_span[0] > hugging_span[1]-hugging_span[0]):\n",
    "            self._add_element(allen_span, hugging_span)\n",
    "        else:\n",
    "            self._add_element(hugging_span, allen_span)\n",
    "\n",
    "    def _add_element(self, key_span, val_span):\n",
    "        if tuple(key_span) in self.swap_dict_list.keys():\n",
    "            self.swap_dict_list[tuple(key_span)].append(tuple(val_span))\n",
    "        else:\n",
    "            self.swap_dict_list[tuple(key_span)] = [tuple(val_span)]\n",
    "\n",
    "    def _filter_out_swap_dict(self):\n",
    "        swap_dict = {}\n",
    "        for key, vals in self.swap_dict_list.items():\n",
    "            if self.swap_dict_list[key] != vals[0]:\n",
    "                swap_dict[key] = sorted(vals, key=lambda x: x[1]-x[0], reverse=True)[0]\n",
    "        return swap_dict\n",
    "\n",
    "    def _swap_mapped_spans(self, list_of_clusters, model_dict):\n",
    "        for cluster_idx, cluster in enumerate(list_of_clusters):\n",
    "            for span_idx, span in enumerate(cluster):\n",
    "                if tuple(span) in model_dict.keys():\n",
    "                    list_of_clusters[cluster_idx][span_idx] = list(model_dict[tuple(span)])\n",
    "        return list_of_clusters\n",
    "\n",
    "    def get_mapped_spans_in_lists_of_clusters(self):\n",
    "        self.swap_dict_list = {}\n",
    "        for allen_span in self.flatten_cluster(self.allen_clusters):\n",
    "            for hugging_span in self.flatten_cluster(self.hugging_clusters):\n",
    "                if self._check_whether_spans_are_within_range(allen_span, hugging_span):\n",
    "                    self._add_span_to_list_dict(allen_span, hugging_span)\n",
    "        swap_dict = self._filter_out_swap_dict()\n",
    "\n",
    "        allen_clusters_mapped = self._swap_mapped_spans(deepcopy(self.allen_clusters), swap_dict)\n",
    "        hugging_clusters_mapped = self._swap_mapped_spans(deepcopy(self.hugging_clusters), swap_dict)\n",
    "        return allen_clusters_mapped, hugging_clusters_mapped\n",
    "\n",
    "    def get_intersected_clusters(self):\n",
    "        allen_clusters_mapped, hugging_clusters_mapped = self.get_mapped_spans_in_lists_of_clusters()\n",
    "        self.allen_clusters = allen_clusters_mapped\n",
    "        self.hugging_clusters = hugging_clusters_mapped\n",
    "        return super().get_intersected_clusters()"
   ]
  },
  {
   "cell_type": "code",
   "execution_count": 551,
   "metadata": {},
   "outputs": [],
   "source": [
    "fuzzy = FuzzyIntersectionStrategy(predictor, nlp)"
   ]
  },
  {
   "cell_type": "code",
   "execution_count": 721,
   "metadata": {},
   "outputs": [],
   "source": [
    "# clusters = predictor.predict(t)['clusters']\n",
    "doc = nlp(t)"
   ]
  },
  {
   "cell_type": "code",
   "execution_count": 553,
   "metadata": {},
   "outputs": [],
   "source": [
    "c = fuzzy.clusters(t)"
   ]
  },
  {
   "cell_type": "markdown",
   "metadata": {},
   "source": [
    "## extract quotes using replaced document"
   ]
  },
  {
   "cell_type": "code",
   "execution_count": 521,
   "metadata": {},
   "outputs": [],
   "source": [
    "t_int = improved_replace_corefs(doc, c)\n",
    "t_r_imp = improved_replace_corefs(doc, clusters)\n",
    "q1 = util.get_quotes_method_2(text=t_int, cluster=False, resolve_coref=False, greedyness=.4, max_dist=150)"
   ]
  },
  {
   "cell_type": "code",
   "execution_count": 524,
   "metadata": {},
   "outputs": [
    {
     "data": {
      "text/plain": [
       "dict_keys(['legislation', 'the legislation', 'sales', 'Yearly sales', 'inventor', 'an inventor', 'opponents', 'they', 'Stadnyk', 'Mr. Stadnyk', 'who', 'Boxer', 'Senator Barbara Boxer', 'Massey', 'Jonathan S. Massey', \"Jonathan S. Massey's background\", 'suit', 'experts', 'the suit', 'some legal experts', 'Rai', 'Arti K. Rai', 'Lemley', 'Mark A. Lemley', 'he', 'The new law', 'the time', 'Perlman', 'Mr. Perlman', 'Lauder', 'Gary Lauder', 'Mark Stadnyk', \"Mark Stadnyk's\", 'Patty', 'Obama', 'William J. Brennan Jr.', 'Laurence H. Tribe', 'Al Gore', 'Bush', 'Gore', 'Barbara Boxer', 'Stephen G. Perlman'])"
      ]
     },
     "execution_count": 524,
     "metadata": {},
     "output_type": "execute_result"
    }
   ],
   "source": [
    "q1.keys()"
   ]
  },
  {
   "cell_type": "code",
   "execution_count": 527,
   "metadata": {
    "scrolled": true
   },
   "outputs": [],
   "source": [
    "doc = nlp(t_int)"
   ]
  },
  {
   "cell_type": "code",
   "execution_count": 528,
   "metadata": {
    "scrolled": true
   },
   "outputs": [
    {
     "name": "stdout",
     "output_type": "stream",
     "text": [
      "In Silicon Valley, Apple just won big against Samsung in the patent lawsuit of the year, after trading claims and counterclaims of pilfered product ideas.\n",
      "\n",
      "Across the country, in a federal court in Florida, an inventor named Mark Stadnyk is waging a different kind of patent warfare — an ambitious and perhaps quixotic legal foray.\n",
      "\n",
      "Mr. Stadnyk, who holds a patent on a motorcycle windshield, is suing the United States government, aiming to head off a patent law that the legislation says will favor big companies and hurt lone inventors like an inventor named Mark Stadnyk.\n",
      "\n",
      "Represented by a prominent Washington lawyer, an inventor named Mark Stadnyk filed a suit last month that challenges the constitutionality of legislation that Congress passed last fall, the legislation.\n",
      "\n",
      "Mr. Stadnyk and an inventor named Mark Stadnyk's lawyer — along with some academics, entrepreneurs and venture capitalists\n",
      "\n",
      "— assert that the legislation is a triumph of corporate lobbying power over the founders’ wishes, and that the legislation threatens the United States government’s stature as the world’s leading innovator.\n",
      "\n",
      "The present system, one of the nation’s oldest patent principles and called “first to invent,” relies on lab notebooks, e-mails and early prototypes to establish the date of invention.\n",
      "\n",
      "the legislation would overturn that by awarding patents to the inventors who are “first to file” with the United States Patent and Trademark Office.\n",
      "\n",
      "Mr. Stadnyk, 48, a garage inventor who stumbled into the world of patents after he bought a powerful new motorcycle and wanted to avoid being battered by the wind when riding at 60 miles an hour, even with a windshield.\n",
      "\n",
      "an inventor named Mark Stadnyk devised a system of brackets and gears to adjust the height and angle of the windshield and the gap between it and a powerful new motorcycle.\n",
      "\n",
      "With an inventor named Mark Stadnyk's system, an inventor named Mark Stadnyk says, the rider feels a flutter of breeze instead of jolting winds and turbulence.\n",
      "\n",
      "Mr. Stadnyk, who describes an inventor named Mark Stadnyk's invention style as “rough hacking with chunks of metal,” founded an inventor named Mark Stadnyk's company, MadStad Engineering, in 2006, and as sales picked up, an inventor named Mark Stadnyk stopped working as a computer consultant to devote an inventor named Mark Stadnyk to the business.\n",
      "\n",
      "Today, MadStad employs eight people, including Mr. Stadnyk and his wife, Patty.\n",
      "\n",
      "an inventor named Mark Stadnyk's adjustable windshield systems, priced from $100 to $320, are now used on dozens of makes and models of motorcycles, and are sold through dealers in Australia, Britain and Spain, as well as the United States government.\n",
      "\n",
      "Yearly sales, an inventor named Mark Stadnyk said, are more than $500,000 and growing briskly.\n",
      "\n",
      "an inventor named Mark Stadnyk holds three patents, and an inventor named Mark Stadnyk speaks of a patented idea as a uniquely human property right.\n",
      "\n",
      "“\n",
      "\n",
      "It came out of your mind,” an inventor named Mark Stadnyk explained.\n",
      "\n",
      "“\n",
      "\n",
      "It’s not property you bought or inherited.”\n",
      "\n",
      "an inventor named Mark Stadnyk became interested in the legislation as the legislation proceeded.\n",
      "\n",
      "an inventor named Mark Stadnyk says an inventor named Mark Stadnyk studied the proposals and the legislation, read blogs and reached out to Washington lawyers and academics who raised the issue of the legislation's constitutionality.\n",
      "\n",
      "A grass-roots activist, an inventor named Mark Stadnyk even made a couple of YouTube videos.\n",
      "\n",
      "The shift to a first-to-file system, scheduled to take effect next March, is intended to simplify and streamline the current system, which can invite protracted litigation between competing inventors.\n",
      "\n",
      "The switch would also put the United States government in harmony with patent offices in Europe, Japan and elsewhere, allowing Japan and elsewhere to share information and potentially ease the strain on overburdened patent examiners worldwide.\n",
      "\n",
      "The efficiency argument is the mainstream view of corporate America and Washington policy makers.\n",
      "\n",
      "President Obama declared that the legislation would cut “the red tape that stops too many inventors and entrepreneurs from quickly turning new ideas into thriving businesses — which holds our whole economy back.\n",
      "\n",
      "”\n",
      "\n",
      "But opponents say the legislation will give big companies a huge advantage over start-ups and small inventors.\n",
      "\n",
      "Large corporations have deep pockets and armies of lawyers to write up and file patents, they say, and the legislation will touch off a paper chase to the patent office instead of a race to innovate.\n",
      "\n",
      "Yet the opponents are in the minority.\n",
      "\n",
      "And there is genuine debate about how much garage inventors and fledgling companies contribute to innovation and economic growth these days.\n",
      "\n",
      "an inventor named Mark Stadnyk sees an inventor named Mark Stadnyk's courtroom quest as the intellectual property equivalent of the recent constitutional challenge to the President Obama administration’s health insurance overhaul, in legislation that was narrowly upheld by the Supreme Court.\n",
      "\n",
      "“\n",
      "\n",
      "Others took on Obamacare, and this is my fight,” said Mr. Stadnyk, who lives in Ridge Manor,\n",
      "\n",
      "Fla. “\n",
      "\n",
      "Somebody’s got to do something.\n",
      "\n",
      "” Mr. Stadnyk, who says an inventor named Mark Stadnyk is a conservative, warns of the danger of the patent legislation in populist, antigovernment terms.\n",
      "\n",
      "“\n",
      "\n",
      "My property would be given away by the United States government under the legislation,” an inventor named Mark Stadnyk said.\n",
      "\n",
      "Yet there are liberals among the law’s critics as well.\n",
      "\n",
      "Mr. Stadnyk’s Washington-based lawyer in the suit is Jonathan S. Massey.\n",
      "\n",
      "A graduate of Harvard Law School, Jonathan S. Massey was a clerk for the liberal Supreme Court Justice William J. Brennan Jr., and is a protégé of Laurence H. Tribe, a leading professor of constitutional law at Harvard.\n",
      "\n",
      "Jonathan S. Massey worked on the case presented to the Supreme Court on behalf of former Vice President Al Gore in Bush v. Gore, an appeal that lost and effectively settled the 2000 presidential election.\n",
      "\n",
      "the legislation was a byproduct of years of lobbying and eventual compromise, especially by major technology and pharmaceutical companies.\n",
      "\n",
      "the legislation was approved overwhelmingly in both the House and the Senate.\n",
      "\n",
      "Few focused on the potential of a constitutional problem.\n",
      "\n",
      "Senator Barbara Boxer, Democrat of California, was an exception.\n",
      "\n",
      "Speaking on the Senate floor last year, Senator Barbara Boxer, Democrat of California said, “I strongly disagree with changing the core principle of the United States government's patent system — awarding a patent to the true inventor — for the sake of perceived administrative ease.\n",
      "\n",
      "”\n",
      "\n",
      "Senator Barbara Boxer, Democrat of California went on to say that the Constitution singles out and grants exclusive rights to individuals with new, useful ideas.\n",
      "\n",
      "“\n",
      "\n",
      "the United States government are the only country in the world,” Senator Barbara Boxer, Democrat of California said, “whose Constitution specifically mentions ‘inventor.\n",
      "\n",
      "’ \n",
      "\n",
      "” Jonathan S. Massey says Jonathan S. Massey became involved in the legislative debate and the suit because of Jonathan S. Massey's background in constitutional law.\n",
      "\n",
      "the legislation, Jonathan S. Massey said, “violates the text and the original understanding of the Constitution.\n",
      "\n",
      "”\n",
      "\n",
      "In the suit, the United States government has until Thursday to reply.\n",
      "\n",
      "Jonathan S. Massey declined to say who would provide financial support if the case proceeded through appeals and higher courts.\n",
      "\n",
      "As a matter of confidentiality and courtroom tactics, Jonathan S. Massey said Jonathan S. Massey did not want to let “the other side know the size of my resources.\n",
      "\n",
      "” the suit, according to some legal experts, faces long odds.\n",
      "\n",
      "The courts, they say, have treated the section of the Constitution that concerns intellectual property rights as utilitarian doctrine subject to Congressional interpretation.\n",
      "\n",
      "“\n",
      "\n",
      "Congress is fairly free to do as Congress sees fit to promote innovation,” said Arti K. Rai, a professor at Duke University School of Law and a former senior official in the patent office.\n",
      "\n",
      "Mark A. Lemley, a professor at Stanford Law School, said the constitutional challenge “is the legal equivalent of fringe science.\n",
      "\n",
      "”\n",
      "\n",
      "“\n",
      "\n",
      "There are people who didn’t like the outcome of the legislation, and people who didn’t like the outcome of the patent legislation may be right in not liking the outcome,” Mark A. Lemley, a professor at Stanford Law School said.\n",
      "\n",
      "“\n",
      "\n",
      "But that doesn’t make it unconstitutional.\n",
      "\n",
      "”\n",
      "\n",
      "In Silicon Valley, Stephen G. Perlman, a high-tech inventor and entrepreneur, worries about the legislation practical effect.\n",
      "\n",
      "His invention factory, Rearden, has produced a series of innovations and spinoff companies, including ones that make the technology for fine-grain computer-generated facial imagery used in Hollywood, and another company whose data-handling software generates photo-realistic, high-speed play for online gamers on tablet computers.\n",
      "\n",
      "The new law, he said, with its emphasis on speed, could well make it more difficult to wait before filing an application, to take the time to experiment over years, and to confidentially show early concepts to investors to raise money.\n",
      "\n",
      "“\n",
      "\n",
      "I’m scared that the legislation is a threat to the survival of our species\n",
      "\n",
      "— people who do fundamental, long-term invention,” Mr. Perlman said.\n",
      "\n",
      "Gary Lauder, a venture capitalist, said the legislation had the logic of trying to make the patent system more efficient and less prone to litigation.\n",
      "\n",
      "But he is a critic.\n",
      "\n",
      "“\n",
      "\n",
      "the legislation favors large companies at the expense of small ones,” Gary Lauder, a venture capitalist said.\n",
      "\n",
      "“\n",
      "\n",
      "There wasn’t enough advocacy for unborn companies.\n",
      "\n",
      "And partly as a result of our current patent system, we do have a huge amount of innovation in the United States government.\n",
      "\n",
      "”\n",
      "\n"
     ]
    }
   ],
   "source": [
    "for s in doc.sents:\n",
    "    print(s)\n",
    "    print()"
   ]
  },
  {
   "cell_type": "markdown",
   "metadata": {},
   "source": [
    "# Use coref-clusters to merge extracted sources"
   ]
  },
  {
   "cell_type": "code",
   "execution_count": 554,
   "metadata": {},
   "outputs": [],
   "source": [
    "from collections import defaultdict\n",
    "from spacy.tokens import Token"
   ]
  },
  {
   "cell_type": "code",
   "execution_count": 555,
   "metadata": {},
   "outputs": [],
   "source": [
    "doc = nlp(t)"
   ]
  },
  {
   "cell_type": "code",
   "execution_count": 723,
   "metadata": {},
   "outputs": [],
   "source": [
    "def get_span(k):\n",
    "    if isinstance(k, Span):\n",
    "        span = [k.start, k.end]\n",
    "    elif isinstance(k, Token):\n",
    "        span = [k.i, k.i + 1]\n",
    "    return span"
   ]
  },
  {
   "cell_type": "code",
   "execution_count": 844,
   "metadata": {},
   "outputs": [],
   "source": [
    "## extract quotes\n",
    "def extract_quotes_from_nsubj(doc, return_dict=False):\n",
    "    entities = defaultdict(lambda: {'background sentence': [], 'quote sentence': []})\n",
    "    spans = []\n",
    "    signifiers = [' say ', ' said ', ' says ', ' according to ']\n",
    "    ## get quotes\n",
    "    to_break = False\n",
    "    for s_idx, sent in enumerate(doc.sents):\n",
    "        ## \n",
    "        text_sentence = ' '.join([word.text for word in sent]).strip()\n",
    "\n",
    "        ## hack to pick up common phrasal signifiers\n",
    "        if 'according to' in text_sentence:\n",
    "            sent = nlp(text_sentence.replace('according to', 'said'))\n",
    "\n",
    "        ## extract all nsubj of VERB if VERB is 'said', 'says' or 'say'\n",
    "        for possible_subject in sent:\n",
    "            if (\n",
    "                possible_subject.dep_ == 'nsubj' and \n",
    "                possible_subject.head.pos_ == 'VERB' and \n",
    "                possible_subject.head.text in ('say', 'says', 'said')\n",
    "            ):\n",
    "                # map subject to a noun phrase or named entity\n",
    "                found = False\n",
    "                if possible_subject.text.lower() in ['he', 'she', 'they']:\n",
    "                    subj_to_use = possible_subject\n",
    "                    found = True\n",
    "\n",
    "                if not found:\n",
    "                    for named_ent in sent.ents:\n",
    "                        if ent.label_ == 'PERSON':\n",
    "                            if possible_subject in ent:\n",
    "                                found = True\n",
    "                                subj_to_use = ent\n",
    "\n",
    "                if not found:\n",
    "                    for noun_phrase in sent.noun_chunks:\n",
    "                        if possible_subject in noun_phrase:\n",
    "                            subj_to_use = noun_phrase\n",
    "                            found = True\n",
    "\n",
    "                if not found:\n",
    "                    subj_to_use = possible_subject\n",
    "\n",
    "                subj_span = tuple(get_span(subj_to_use))\n",
    "                spans.append(subj_span)\n",
    "                entities[subj_span]['quote sentence'].append((s_idx, sent))\n",
    "                entities[subj_span]['span_text'] = subj_to_use\n",
    "    \n",
    "    if return_dict:\n",
    "        return entities \n",
    "    else:\n",
    "        return spans\n",
    "    # get background\n",
    "    # for s_idx, sent in enumerate(doc.sents):\n",
    "    #     if s_idx not in seen:\n",
    "    #         # get person-entities\n",
    "    #         for ent in sent.ents:\n",
    "    #             if ent.label_ == 'PERSON':\n",
    "    #                 entities[ent]['background sentence'].append((s_idx, sent))"
   ]
  },
  {
   "cell_type": "code",
   "execution_count": 726,
   "metadata": {},
   "outputs": [],
   "source": [
    "span_to_head_mapper = {}\n",
    "head_to_span_mapper = defaultdict(list)\n",
    "for cluster in c:\n",
    "    noun_indices = get_span_noun_indices(doc, cluster)\n",
    "\n",
    "    if noun_indices:\n",
    "        mention_span, mention = get_cluster_head(doc, cluster, noun_indices)\n",
    "        for span in cluster:\n",
    "            span_to_head_mapper[tuple(span)] = tuple(mention)\n",
    "            head_to_span_mapper[tuple(mention)].append(tuple(span))"
   ]
  },
  {
   "cell_type": "markdown",
   "metadata": {},
   "source": [
    "# Try backtracking from Named Entities (PERSON) first"
   ]
  },
  {
   "cell_type": "code",
   "execution_count": 727,
   "metadata": {},
   "outputs": [],
   "source": [
    "person_ents = []\n",
    "for s_idx, sent in enumerate(doc.sents):\n",
    "    # get person-entities\n",
    "    for ent in sent.ents:\n",
    "        if ent.label_ == 'PERSON':\n",
    "            person_ents.append({\n",
    "                's_idx': s_idx, \n",
    "                'ent': ent.text,\n",
    "                'sent': sent.text,\n",
    "                'span': tuple(get_span(ent))\n",
    "            })"
   ]
  },
  {
   "cell_type": "code",
   "execution_count": 728,
   "metadata": {},
   "outputs": [
    {
     "data": {
      "text/plain": [
       "Mark Stadnyk"
      ]
     },
     "execution_count": 728,
     "metadata": {},
     "output_type": "execute_result"
    }
   ],
   "source": [
    "doc[42:44]"
   ]
  },
  {
   "cell_type": "code",
   "execution_count": 729,
   "metadata": {
    "scrolled": true
   },
   "outputs": [
    {
     "data": {
      "text/html": [
       "<div>\n",
       "<style scoped>\n",
       "    .dataframe tbody tr th:only-of-type {\n",
       "        vertical-align: middle;\n",
       "    }\n",
       "\n",
       "    .dataframe tbody tr th {\n",
       "        vertical-align: top;\n",
       "    }\n",
       "\n",
       "    .dataframe thead th {\n",
       "        text-align: right;\n",
       "    }\n",
       "</style>\n",
       "<table border=\"1\" class=\"dataframe\">\n",
       "  <thead>\n",
       "    <tr style=\"text-align: right;\">\n",
       "      <th></th>\n",
       "      <th>s_idx</th>\n",
       "      <th>ent</th>\n",
       "      <th>sent</th>\n",
       "      <th>span</th>\n",
       "      <th>extracted</th>\n",
       "    </tr>\n",
       "  </thead>\n",
       "  <tbody>\n",
       "    <tr>\n",
       "      <th>0</th>\n",
       "      <td>1</td>\n",
       "      <td>Mark Stadnyk</td>\n",
       "      <td>Across the country, in a federal court in Flor...</td>\n",
       "      <td>(42, 44)</td>\n",
       "      <td>Mark Stadnyk</td>\n",
       "    </tr>\n",
       "    <tr>\n",
       "      <th>1</th>\n",
       "      <td>2</td>\n",
       "      <td>Stadnyk</td>\n",
       "      <td>Mr. Stadnyk, who holds a patent on a motorcycl...</td>\n",
       "      <td>(62, 63)</td>\n",
       "      <td>Stadnyk</td>\n",
       "    </tr>\n",
       "  </tbody>\n",
       "</table>\n",
       "</div>"
      ],
      "text/plain": [
       "   s_idx           ent                                               sent  \\\n",
       "0      1  Mark Stadnyk  Across the country, in a federal court in Flor...   \n",
       "1      2       Stadnyk  Mr. Stadnyk, who holds a patent on a motorcycl...   \n",
       "\n",
       "       span     extracted  \n",
       "0  (42, 44)  Mark Stadnyk  \n",
       "1  (62, 63)       Stadnyk  "
      ]
     },
     "execution_count": 729,
     "metadata": {},
     "output_type": "execute_result"
    }
   ],
   "source": [
    "import pandas as pd \n",
    "person_ents_df = pd.DataFrame(person_ents)\n",
    "(person_ents_df\n",
    " .assign(extracted=lambda df: df.apply(lambda x: doc[x['span'][0]:x['span'][1]].text, axis=1))\n",
    " .head(2)\n",
    ")"
   ]
  },
  {
   "cell_type": "code",
   "execution_count": 730,
   "metadata": {},
   "outputs": [],
   "source": [
    "span_to_head_mapper_spacy_corr = {\n",
    "    (k[0], k[1]+1): (v[0], v[1]+1) for k, v in span_to_head_mapper.items()\n",
    "}\n",
    "head_to_span_mapper_spacy_corr = {\n",
    "    (k[0], k[1] + 1): list(map(lambda x: (x[0], x[1] + 1), v)) for k, v in head_to_span_mapper.items()\n",
    "}"
   ]
  },
  {
   "cell_type": "code",
   "execution_count": 731,
   "metadata": {
    "scrolled": true
   },
   "outputs": [],
   "source": [
    "span_to_head_mapper_strs = {doc[k[0]:k[1]+1]: doc[v[0]:v[1]+1] for k,v in span_to_head_mapper.items()}"
   ]
  },
  {
   "cell_type": "code",
   "execution_count": 732,
   "metadata": {},
   "outputs": [],
   "source": [
    "# 1. extract all named entities\n",
    "# 2. fuzzy match named entities with coreference cluster heads\n",
    "# 3. cluster named entities by lexical overlap, extract NE head to use as singular head\n",
    "# 4. merge all coreference/cluster identities\n",
    "# 5. extract all quoted entites and merge these with any member of the NEs/coreference cluster"
   ]
  },
  {
   "cell_type": "code",
   "execution_count": 733,
   "metadata": {},
   "outputs": [],
   "source": [
    "head_keys = list(head_to_span_mapper_spacy_corr.keys())"
   ]
  },
  {
   "cell_type": "code",
   "execution_count": 734,
   "metadata": {},
   "outputs": [],
   "source": [
    "def fuzzy_span_match(s1, s2):\n",
    "    if (s1[0] <= s2[0]) and (s1[1] >= s2[0]):\n",
    "        return True\n",
    "    if (s1[0] <= s2[1]) and (s1[1] >= s2[1]):\n",
    "        return True    \n",
    "    return False"
   ]
  },
  {
   "cell_type": "code",
   "execution_count": 735,
   "metadata": {},
   "outputs": [
    {
     "data": {
      "text/plain": [
       "<module 'util' from '../scripts/util.py'>"
      ]
     },
     "execution_count": 735,
     "metadata": {},
     "output_type": "execute_result"
    }
   ],
   "source": [
    "reload(util)"
   ]
  },
  {
   "cell_type": "code",
   "execution_count": 736,
   "metadata": {
    "scrolled": true
   },
   "outputs": [],
   "source": [
    "name_c = util.cluster_by_last_name_equality(person_ents_df['ent'])\n",
    "_, h_to_c, _, c_to_h = util.get_name_cluster_head_by_length(name_c)"
   ]
  },
  {
   "cell_type": "code",
   "execution_count": 737,
   "metadata": {},
   "outputs": [],
   "source": [
    "def flatten_list_of_lists(l_of_l):\n",
    "    return [i for s in l_of_l for i in s]"
   ]
  },
  {
   "cell_type": "code",
   "execution_count": 741,
   "metadata": {},
   "outputs": [],
   "source": [
    "s = list(doc.sents)"
   ]
  },
  {
   "cell_type": "code",
   "execution_count": 826,
   "metadata": {},
   "outputs": [],
   "source": [
    "def get_sent_idx_from_sent(sent, doc=None, sents=None):\n",
    "    if sents is None:\n",
    "        sents = doc.sents\n",
    "    s = list(filter(lambda x: sent == x[1], enumerate(sents)))\n",
    "    return s[0][0]"
   ]
  },
  {
   "cell_type": "code",
   "execution_count": 856,
   "metadata": {},
   "outputs": [],
   "source": [
    "t = (\n",
    "    person_ents_df\n",
    "     .assign(coref_heads = lambda df: \n",
    "         df['span'].apply(lambda x: list(filter(lambda y: fuzzy_span_match(x, y), head_keys)))\n",
    "    )\n",
    "     .assign(name_head=pd.Series(c_to_h).sort_index())\n",
    "     .assign(all_corefs=lambda df: \n",
    "         df['coref_heads']\n",
    "             .apply(lambda x: list(map(lambda y: head_to_span_mapper_spacy_corr[y], x)))\n",
    "             .apply(lambda x: flatten_list_of_lists(x))\n",
    "    )\n",
    "    .groupby('name_head')\n",
    "    .aggregate(list)\n",
    "    .drop('coref_heads', axis=1)\n",
    "    .assign(all_corefs=lambda df: df['all_corefs'].apply(flatten_list_of_lists))\n",
    "    .rename(columns={\n",
    "        's_idx': 'ne_sent_idxs', \n",
    "        'sent': 'ne_sent', \n",
    "        'span': 'ne_span', \n",
    "        'all_corefs': 'coref_span',\n",
    "        'ent': 'ne_ent'\n",
    "    })\n",
    "    .assign(coref_sent_idxs=lambda df: df['coref_span'].apply(\n",
    "        lambda x: list(map(lambda y: get_sent_idx_from_sent(doc[y[0]:y[1]].sent, doc), x)))\n",
    "           )\n",
    ")"
   ]
  },
  {
   "cell_type": "code",
   "execution_count": 857,
   "metadata": {},
   "outputs": [],
   "source": [
    "q= extract_quotes_from_nsubj(doc, return_dict=True)"
   ]
  },
  {
   "cell_type": "code",
   "execution_count": 858,
   "metadata": {},
   "outputs": [],
   "source": [
    "quote_spans = list(q.keys())"
   ]
  },
  {
   "cell_type": "code",
   "execution_count": 861,
   "metadata": {},
   "outputs": [
    {
     "data": {
      "text/html": [
       "<div>\n",
       "<style scoped>\n",
       "    .dataframe tbody tr th:only-of-type {\n",
       "        vertical-align: middle;\n",
       "    }\n",
       "\n",
       "    .dataframe tbody tr th {\n",
       "        vertical-align: top;\n",
       "    }\n",
       "\n",
       "    .dataframe thead th {\n",
       "        text-align: right;\n",
       "    }\n",
       "</style>\n",
       "<table border=\"1\" class=\"dataframe\">\n",
       "  <thead>\n",
       "    <tr style=\"text-align: right;\">\n",
       "      <th></th>\n",
       "      <th>ne_sent_idxs</th>\n",
       "      <th>ne_ent</th>\n",
       "      <th>ne_sent</th>\n",
       "      <th>ne_span</th>\n",
       "      <th>coref_span</th>\n",
       "      <th>coref_sent_idxs</th>\n",
       "    </tr>\n",
       "    <tr>\n",
       "      <th>name_head</th>\n",
       "      <th></th>\n",
       "      <th></th>\n",
       "      <th></th>\n",
       "      <th></th>\n",
       "      <th></th>\n",
       "      <th></th>\n",
       "    </tr>\n",
       "  </thead>\n",
       "  <tbody>\n",
       "    <tr>\n",
       "      <th>0</th>\n",
       "      <td>[1, 2, 3, 4, 8, 11, 12, 15, 21, 33, 35, 38, 42]</td>\n",
       "      <td>[Mark Stadnyk, Stadnyk, Stadnyk, Stadnyk, Stad...</td>\n",
       "      <td>[Across the country, in a federal court in Flo...</td>\n",
       "      <td>[(42, 44), (62, 63), (109, 110), (133, 134), (...</td>\n",
       "      <td>[(39, 44), (88, 89), (99, 100), (108, 110), (1...</td>\n",
       "      <td>[1, 2, 2, 3, 4, 15, 15, 21, 22, 22, 23, 33, 33...</td>\n",
       "    </tr>\n",
       "  </tbody>\n",
       "</table>\n",
       "</div>"
      ],
      "text/plain": [
       "                                              ne_sent_idxs  \\\n",
       "name_head                                                    \n",
       "0          [1, 2, 3, 4, 8, 11, 12, 15, 21, 33, 35, 38, 42]   \n",
       "\n",
       "                                                      ne_ent  \\\n",
       "name_head                                                      \n",
       "0          [Mark Stadnyk, Stadnyk, Stadnyk, Stadnyk, Stad...   \n",
       "\n",
       "                                                     ne_sent  \\\n",
       "name_head                                                      \n",
       "0          [Across the country, in a federal court in Flo...   \n",
       "\n",
       "                                                     ne_span  \\\n",
       "name_head                                                      \n",
       "0          [(42, 44), (62, 63), (109, 110), (133, 134), (...   \n",
       "\n",
       "                                                  coref_span  \\\n",
       "name_head                                                      \n",
       "0          [(39, 44), (88, 89), (99, 100), (108, 110), (1...   \n",
       "\n",
       "                                             coref_sent_idxs  \n",
       "name_head                                                     \n",
       "0          [1, 2, 2, 3, 4, 15, 15, 21, 22, 22, 23, 33, 33...  "
      ]
     },
     "execution_count": 861,
     "metadata": {},
     "output_type": "execute_result"
    }
   ],
   "source": [
    "t.head(1)"
   ]
  },
  {
   "cell_type": "code",
   "execution_count": 898,
   "metadata": {},
   "outputs": [],
   "source": [
    "not_found = []\n",
    "for q_span in quote_spans:\n",
    "    match = t.pipe(lambda df: \n",
    "        pd.concat([\n",
    "           df['ne_span'].apply(lambda x: any(map(lambda y: fuzzy_span_match(q_span, y), x))),\n",
    "           df['coref_span'].apply(lambda x: any(map(lambda y: fuzzy_span_match(q_span, y), x))),\n",
    "        ], axis=1).any(axis=1).loc[lambda s: s]\n",
    "    )\n",
    "    \n",
    "    # \n",
    "    if len(match) == 0:\n",
    "        not_found.append(q_span)"
   ]
  },
  {
   "cell_type": "code",
   "execution_count": 899,
   "metadata": {},
   "outputs": [
    {
     "data": {
      "text/plain": [
       "[(683, 684),\n",
       " (717, 718),\n",
       " (843, 844),\n",
       " (1055, 1056),\n",
       " (1123, 1124),\n",
       " (0, 2),\n",
       " (1256, 1257),\n",
       " (1470, 1471)]"
      ]
     },
     "execution_count": 899,
     "metadata": {},
     "output_type": "execute_result"
    }
   ],
   "source": [
    "not_found"
   ]
  },
  {
   "cell_type": "code",
   "execution_count": 904,
   "metadata": {},
   "outputs": [
    {
     "data": {
      "text/plain": [
       "she"
      ]
     },
     "execution_count": 904,
     "metadata": {},
     "output_type": "execute_result"
    }
   ],
   "source": [
    "i = not_found[3]\n",
    "doc[i[0]:i[1]]"
   ]
  },
  {
   "cell_type": "code",
   "execution_count": 905,
   "metadata": {},
   "outputs": [
    {
     "data": {
      "text/plain": [
       "Speaking on the Senate floor last year, she said, “I strongly disagree with changing the core principle of our patent system — awarding a patent to the true inventor — for the sake of perceived administrative ease."
      ]
     },
     "execution_count": 905,
     "metadata": {},
     "output_type": "execute_result"
    }
   ],
   "source": [
    "doc[i[0]:i[1]].sent"
   ]
  },
  {
   "cell_type": "code",
   "execution_count": 906,
   "metadata": {
    "scrolled": true
   },
   "outputs": [
    {
     "data": {
      "text/plain": [
       "In Silicon Valley, Apple just won big against Samsung in the patent lawsuit of the year, after trading claims and counterclaims of pilfered product ideas. Across the country, in a federal court in Florida, an inventor named Mark Stadnyk is waging a different kind of patent warfare — an ambitious and perhaps quixotic legal foray. Mr. Stadnyk, who holds a patent on a motorcycle windshield, is suing the United States government, aiming to head off a patent law that he says will favor big companies and hurt lone inventors like himself. Represented by a prominent Washington lawyer, Mr. Stadnyk filed a suit last month that challenges the constitutionality of legislation that Congress passed last fall, the America Invents Act. Mr. Stadnyk and his lawyer — along with some academics, entrepreneurs and venture capitalists — assert that the legislation is a triumph of corporate lobbying power over the founders’ wishes, and that it threatens America’s stature as the world’s leading innovator. The present system, one of the nation’s oldest patent principles and called “first to invent,” relies on lab notebooks, e-mails and early prototypes to establish the date of invention. The impending law would overturn that by awarding patents to the inventors who are “first to file” with the United States Patent and Trademark Office. Mr. Stadnyk, 48, a garage inventor who stumbled into the world of patents after he bought a powerful new motorcycle and wanted to avoid being battered by the wind when riding at 60 miles an hour, even with a windshield. He devised a system of brackets and gears to adjust the height and angle of the windshield and the gap between it and the motorcycle. With his system, he says, the rider feels a flutter of breeze instead of jolting winds and turbulence. Mr. Stadnyk, who describes his invention style as “rough hacking with chunks of metal,” founded his company, MadStad Engineering, in 2006, and as sales picked up, he stopped working as a computer consultant to devote himself to the business. Today, MadStad employs eight people, including Mr. Stadnyk and his wife, Patty. His adjustable windshield systems, priced from $100 to $320, are now used on dozens of makes and models of motorcycles, and are sold through dealers in Australia, Britain and Spain, as well as the United States. Yearly sales, he said, are more than $500,000 and growing briskly. Mr. Stadnyk holds three patents, and he speaks of a patented idea as a uniquely human property right. “It came out of your mind,” he explained. “It’s not property you bought or inherited.” Mr. Stadnyk became interested in the patent legislation as it proceeded. He says he studied the proposals and the law, read blogs and reached out to Washington lawyers and academics who raised the issue of its constitutionality. A grass-roots activist, he even made a couple of YouTube videos. The shift to a first-to-file system, scheduled to take effect next March, is intended to simplify and streamline the current system, which can invite protracted litigation between competing inventors. The switch would also put the United States in harmony with patent offices in Europe, Japan and elsewhere, allowing them to share information and potentially ease the strain on overburdened patent examiners worldwide. The efficiency argument is the mainstream view of corporate America and Washington policy makers. President Obama declared that the new law would cut “the red tape that stops too many inventors and entrepreneurs from quickly turning new ideas into thriving businesses — which holds our whole economy back.” But opponents say it will give big companies a huge advantage over start-ups and small inventors. Large corporations have deep pockets and armies of lawyers to write up and file patents, they say, and the new law will touch off a paper chase to the patent office instead of a race to innovate. Yet the opponents are in the minority. And there is genuine debate about how much garage inventors and fledgling companies contribute to innovation and economic growth these days. Mr. Stadnyk sees his courtroom quest as the intellectual property equivalent of the recent constitutional challenge to the Obama administration’s health insurance overhaul, in legislation that was narrowly upheld by the Supreme Court. “Others took on Obamacare, and this is my fight,” said Mr. Stadnyk, who lives in Ridge Manor, Fla. “Somebody’s got to do something.” Mr. Stadnyk, who says he is a conservative, warns of the danger of the patent legislation in populist, antigovernment terms. “My property would be given away by the government under this new law,” he said. Yet there are liberals among the law’s critics as well. Mr. Stadnyk’s Washington-based lawyer in the suit is Jonathan S. Massey. A graduate of Harvard Law School, Mr. Massey was a clerk for the liberal Supreme Court Justice William J. Brennan Jr., and is a protégé of Laurence H. Tribe, a leading professor of constitutional law at Harvard. Mr. Massey worked on the case presented to the Supreme Court on behalf of former Vice President Al Gore in Bush v. Gore, an appeal that lost and effectively settled the 2000 presidential election. The America Invents Act was a byproduct of years of lobbying and eventual compromise, especially by major technology and pharmaceutical companies. The new patent law was approved overwhelmingly in both the House and the Senate. Few focused on the potential of a constitutional problem. Senator Barbara Boxer, Democrat of California, was an exception. Speaking on the Senate floor last year, she said, “I strongly disagree with changing the core principle of our patent system — awarding a patent to the true inventor — for the sake of perceived administrative ease.” Ms. Boxer went on to say that the Constitution singles out and grants exclusive rights to individuals with new, useful ideas. “We are the only country in the world,” she said, “whose Constitution specifically mentions ‘inventor.’ ” Mr. Massey says he became involved in the legislative debate and this suit because of his background in constitutional law. The new patent law, he said, “violates the text and the original understanding of the Constitution.” In the suit, the government has until Thursday to reply. Mr. Massey declined to say who would provide financial support if the case proceeded through appeals and higher courts. As a matter of confidentiality and courtroom tactics, he said he did not want to let “the other side know the size of my resources.” The suit, according to some legal experts, faces long odds. The courts, they say, have treated the section of the Constitution that concerns intellectual property rights as utilitarian doctrine subject to Congressional interpretation. “Congress is fairly free to do as it sees fit to promote innovation,” said Arti K. Rai, a professor at Duke University School of Law and a former senior official in the patent office. Mark A. Lemley, a professor at Stanford Law School, said the constitutional challenge “is the legal equivalent of fringe science.” “There are people who didn’t like the outcome of the patent legislation, and they may be right in not liking the outcome,” he said. “But that doesn’t make it unconstitutional.” In Silicon Valley, Stephen G. Perlman, a high-tech inventor and entrepreneur, worries about the law’s practical effect. His invention factory, Rearden, has produced a series of innovations and spinoff companies, including ones that make the technology for fine-grain computer-generated facial imagery used in Hollywood, and another company whose data-handling software generates photo-realistic, high-speed play for online gamers on tablet computers. The new law, he said, with its emphasis on speed, could well make it more difficult to wait before filing an application, to take the time to experiment over years, and to confidentially show early concepts to investors to raise money. “I’m scared that this law is a threat to the survival of our species — people who do fundamental, long-term invention,” Mr. Perlman said. Gary Lauder, a venture capitalist, said the new law had the logic of trying to make the patent system more efficient and less prone to litigation. But he is a critic. “This law favors large companies at the expense of small ones,” Mr. Lauder said. “There wasn’t enough advocacy for unborn companies. And partly as a result of our current patent system, we do have a huge amount of innovation in America.”"
      ]
     },
     "execution_count": 906,
     "metadata": {},
     "output_type": "execute_result"
    }
   ],
   "source": [
    "doc"
   ]
  },
  {
   "cell_type": "code",
   "execution_count": null,
   "metadata": {},
   "outputs": [],
   "source": []
  },
  {
   "cell_type": "code",
   "execution_count": null,
   "metadata": {},
   "outputs": [],
   "source": []
  },
  {
   "cell_type": "code",
   "execution_count": null,
   "metadata": {},
   "outputs": [],
   "source": []
  },
  {
   "cell_type": "code",
   "execution_count": 869,
   "metadata": {},
   "outputs": [
    {
     "data": {
      "text/plain": [
       "name_head\n",
       "0     False\n",
       "7     False\n",
       "10    False\n",
       "16    False\n",
       "18    False\n",
       "19    False\n",
       "21    False\n",
       "22    False\n",
       "24    False\n",
       "28    False\n",
       "29    False\n",
       "30    False\n",
       "31    False\n",
       "33     True\n",
       "Name: coref_span, dtype: bool"
      ]
     },
     "execution_count": 869,
     "metadata": {},
     "output_type": "execute_result"
    }
   ],
   "source": [
    "t['coref_span'].apply(lambda x: any(map(lambda y: fuzzy_span_match(q_span, y), x)))"
   ]
  },
  {
   "cell_type": "code",
   "execution_count": null,
   "metadata": {},
   "outputs": [],
   "source": []
  },
  {
   "cell_type": "code",
   "execution_count": null,
   "metadata": {},
   "outputs": [],
   "source": []
  },
  {
   "cell_type": "code",
   "execution_count": null,
   "metadata": {},
   "outputs": [],
   "source": []
  },
  {
   "cell_type": "code",
   "execution_count": null,
   "metadata": {},
   "outputs": [],
   "source": []
  },
  {
   "cell_type": "code",
   "execution_count": null,
   "metadata": {},
   "outputs": [],
   "source": []
  },
  {
   "cell_type": "code",
   "execution_count": null,
   "metadata": {},
   "outputs": [],
   "source": []
  },
  {
   "cell_type": "code",
   "execution_count": 560,
   "metadata": {
    "scrolled": true
   },
   "outputs": [],
   "source": [
    "cluster_mapper = defaultdict(list)\n",
    "seen = set()\n",
    "for k in entities.keys():\n",
    "    if k in span_to_head_mapper:\n",
    "        referent_span = span_to_head_mapper[k]\n",
    "        cluster_mapper[(referent_span[0], referent_span[1] + 1)].append(k)\n",
    "        seen.add(k)\n",
    "\n",
    "for k in entities.keys():\n",
    "    if k not in seen:\n",
    "        cluster_mapper[k].append(k)"
   ]
  },
  {
   "cell_type": "code",
   "execution_count": 561,
   "metadata": {},
   "outputs": [],
   "source": [
    "from importlib import reload\n",
    "import parsing_util"
   ]
  },
  {
   "cell_type": "code",
   "execution_count": 562,
   "metadata": {},
   "outputs": [
    {
     "data": {
      "text/plain": [
       "<module 'parsing_util' from '../scripts/parsing_util.py'>"
      ]
     },
     "execution_count": 562,
     "metadata": {},
     "output_type": "execute_result"
    }
   ],
   "source": [
    "reload(parsing_util)"
   ]
  },
  {
   "cell_type": "code",
   "execution_count": 563,
   "metadata": {},
   "outputs": [],
   "source": [
    "def merge_clusters(entities, clusters=None, cluster_mapper=None):\n",
    "    if cluster_mapper == None:\n",
    "        cluster_mapper = {}\n",
    "        for cluster in clusters:\n",
    "            key = max(cluster, key=lambda x: len(x))\n",
    "            cluster_mapper[key] = cluster\n",
    "\n",
    "    # group for output\n",
    "    entities_clustered = defaultdict(lambda: {'background sentence': [], 'quote sentence': [], 'span_text': []})\n",
    "    for c_key, cluster in cluster_mapper.items():\n",
    "        for c_i in cluster:\n",
    "            for part in ['background sentence', 'quote sentence', 'span_text']:\n",
    "                to_add = entities[c_i][part]\n",
    "                if isinstance(to_add, list):\n",
    "                    entities_clustered[c_key][part].extend(to_add)\n",
    "                else:\n",
    "                    entities_clustered[c_key][part].append(to_add)\n",
    "    \n",
    "    ## \n",
    "    return entities_clustered"
   ]
  },
  {
   "cell_type": "code",
   "execution_count": 564,
   "metadata": {
    "scrolled": true
   },
   "outputs": [],
   "source": [
    "entities = merge_clusters(entities, cluster_mapper=cluster_mapper)"
   ]
  },
  {
   "cell_type": "code",
   "execution_count": 565,
   "metadata": {},
   "outputs": [],
   "source": [
    "def convert_entities_dict_to_text(entities, doc):\n",
    "    output_entities = {}\n",
    "    for k, v in entities.items():\n",
    "        key_text = doc[k[0]: k[1]].text\n",
    "        q_sent, ms = [], []\n",
    "        for q in v['quote sentence']:\n",
    "            q_sent.append((q[0], q[1].text))\n",
    "        for m in v['span_text']:\n",
    "            ms.append(m.text)\n",
    "        output_entities[key_text] = {'quote sentence': q_sent, 'entity mentions': ms, 'background sentence': []}\n",
    "    return output_entities "
   ]
  },
  {
   "cell_type": "code",
   "execution_count": 566,
   "metadata": {
    "scrolled": true
   },
   "outputs": [
    {
     "data": {
      "text/plain": [
       "{'the America Invents Act': {'quote sentence': [(2,\n",
       "    'Mr. Stadnyk, who holds a patent on a motorcycle windshield, is suing the United States government, aiming to head off a patent law that he says will favor big companies and hurt lone inventors like himself.')],\n",
       "  'entity mentions': ['he'],\n",
       "  'background sentence': []},\n",
       " 'an inventor named Mark Stadnyk': {'quote sentence': [(10,\n",
       "    'With his system, he says, the rider feels a flutter of breeze instead of jolting winds and turbulence.'),\n",
       "   (14, 'Yearly sales, he said, are more than $500,000 and growing briskly.'),\n",
       "   (22,\n",
       "    'He says he studied the proposals and the law, read blogs and reached out to Washington lawyers and academics who raised the issue of its constitutionality.'),\n",
       "   (40,\n",
       "    'My property would be given away by the government under this new law,” he said.')],\n",
       "  'entity mentions': ['he', 'he', 'He', 'he'],\n",
       "  'background sentence': []},\n",
       " 'Senator Barbara Boxer, Democrat of California': {'quote sentence': [(49,\n",
       "    'Speaking on the Senate floor last year, she said, “I strongly disagree with changing the core principle of our patent system — awarding a patent to the true inventor — for the sake of perceived administrative ease.'),\n",
       "   (53,\n",
       "    'We are the only country in the world,” she said, “whose Constitution specifically mentions')],\n",
       "  'entity mentions': ['she', 'she'],\n",
       "  'background sentence': []},\n",
       " 'Jonathan S. Massey': {'quote sentence': [(57,\n",
       "    'The new patent law, he said, “violates the text and the original understanding of the Constitution.'),\n",
       "   (61,\n",
       "    'As a matter of confidentiality and courtroom tactics, he said he did not want to let “the other side know the size of my resources.')],\n",
       "  'entity mentions': ['he', 'he'],\n",
       "  'background sentence': []},\n",
       " 'Mark A. Lemley, a professor at Stanford Law School': {'quote sentence': [(70,\n",
       "    'There are people who didn’t like the outcome of the patent legislation, and they may be right in not liking the outcome,” he said.')],\n",
       "  'entity mentions': ['he'],\n",
       "  'background sentence': []},\n",
       " 'opponents': {'quote sentence': [(29,\n",
       "    'But opponents say it will give big companies a huge advantage over start-ups and small inventors.')],\n",
       "  'entity mentions': ['opponents'],\n",
       "  'background sentence': []},\n",
       " '': {'quote sentence': [(76,\n",
       "    'The new law, he said, with its emphasis on speed, could well make it more difficult to wait before filing an application, to take the time to experiment over years, and to confidentially show early concepts to investors to raise money.')],\n",
       "  'entity mentions': ['he'],\n",
       "  'background sentence': []},\n",
       " 'Mr. Stadnyk': {'quote sentence': [(35,\n",
       "    'Others took on Obamacare, and this is my fight,” said Mr. Stadnyk, who lives in Ridge Manor,')],\n",
       "  'entity mentions': ['Mr. Stadnyk'],\n",
       "  'background sentence': []},\n",
       " 'who': {'quote sentence': [(38,\n",
       "    '” Mr. Stadnyk, who says he is a conservative, warns of the danger of the patent legislation in populist, antigovernment terms.')],\n",
       "  'entity mentions': ['who'],\n",
       "  'background sentence': []},\n",
       " 'Mr. Massey': {'quote sentence': [(56,\n",
       "    '” Mr. Massey says he became involved in the legislative debate and this suit because of his background in constitutional law.')],\n",
       "  'entity mentions': ['Mr. Massey'],\n",
       "  'background sentence': []},\n",
       " 'In Silicon': {'quote sentence': [(63,\n",
       "    'The suit , said some legal experts , faces long odds .')],\n",
       "  'entity mentions': ['The suit'],\n",
       "  'background sentence': []},\n",
       " 'Arti K. Rai': {'quote sentence': [(66,\n",
       "    'Congress is fairly free to do as it sees fit to promote innovation,” said Arti K. Rai, a professor at Duke University School of Law and a former senior official in the patent office.')],\n",
       "  'entity mentions': ['Arti K. Rai'],\n",
       "  'background sentence': []},\n",
       " 'Mark A. Lemley': {'quote sentence': [(67,\n",
       "    'Mark A. Lemley, a professor at Stanford Law School, said the constitutional challenge “is the legal equivalent of fringe science.')],\n",
       "  'entity mentions': ['Mark A. Lemley'],\n",
       "  'background sentence': []},\n",
       " 'Mr. Perlman': {'quote sentence': [(79,\n",
       "    '— people who do fundamental, long-term invention,” Mr. Perlman said.')],\n",
       "  'entity mentions': ['Mr. Perlman'],\n",
       "  'background sentence': []},\n",
       " 'Gary Lauder': {'quote sentence': [(80,\n",
       "    'Gary Lauder, a venture capitalist, said the new law had the logic of trying to make the patent system more efficient and less prone to litigation.')],\n",
       "  'entity mentions': ['Gary Lauder'],\n",
       "  'background sentence': []},\n",
       " 'Mr. Lauder': {'quote sentence': [(83,\n",
       "    'This law favors large companies at the expense of small ones,” Mr. Lauder said.')],\n",
       "  'entity mentions': ['Mr. Lauder'],\n",
       "  'background sentence': []}}"
      ]
     },
     "execution_count": 566,
     "metadata": {},
     "output_type": "execute_result"
    }
   ],
   "source": [
    "convert_entities_dict_to_text(entities, doc)"
   ]
  },
  {
   "cell_type": "code",
   "execution_count": 567,
   "metadata": {},
   "outputs": [
    {
     "data": {
      "text/plain": [
       "defaultdict(<function __main__.merge_clusters.<locals>.<lambda>()>,\n",
       "            {(127, 131): {'background sentence': [],\n",
       "              'quote sentence': [(2,\n",
       "                Mr. Stadnyk, who holds a patent on a motorcycle windshield, is suing the United States government, aiming to head off a patent law that he says will favor big companies and hurt lone inventors like himself.)],\n",
       "              'span_text': [he]},\n",
       "             (39, 44): {'background sentence': [],\n",
       "              'quote sentence': [(10,\n",
       "                With his system, he says, the rider feels a flutter of breeze instead of jolting winds and turbulence.),\n",
       "               (14,\n",
       "                Yearly sales, he said, are more than $500,000 and growing briskly.),\n",
       "               (22,\n",
       "                He says he studied the proposals and the law, read blogs and reached out to Washington lawyers and academics who raised the issue of its constitutionality.),\n",
       "               (40,\n",
       "                My property would be given away by the government under this new law,” he said.)],\n",
       "              'span_text': [he, he, He, he]},\n",
       "             (1035, 1042): {'background sentence': [],\n",
       "              'quote sentence': [(49,\n",
       "                Speaking on the Senate floor last year, she said, “I strongly disagree with changing the core principle of our patent system — awarding a patent to the true inventor — for the sake of perceived administrative ease.),\n",
       "               (53,\n",
       "                We are the only country in the world,” she said, “whose Constitution specifically mentions)],\n",
       "              'span_text': [she, she]},\n",
       "             (906, 909): {'background sentence': [],\n",
       "              'quote sentence': [(57,\n",
       "                The new patent law, he said, “violates the text and the original understanding of the Constitution.),\n",
       "               (61,\n",
       "                As a matter of confidentiality and courtroom tactics, he said he did not want to let “the other side know the size of my resources.)],\n",
       "              'span_text': [he, he]},\n",
       "             (1318, 1328): {'background sentence': [],\n",
       "              'quote sentence': [(70,\n",
       "                There are people who didn’t like the outcome of the patent legislation, and they may be right in not liking the outcome,” he said.)],\n",
       "              'span_text': [he]},\n",
       "             (683, 684): {'background sentence': [],\n",
       "              'quote sentence': [(29,\n",
       "                But opponents say it will give big companies a huge advantage over start-ups and small inventors.)],\n",
       "              'span_text': [opponents]},\n",
       "             (717, 717): {'background sentence': [],\n",
       "              'quote sentence': [(30,\n",
       "                Large corporations have deep pockets and armies of lawyers to write up and file patents, they say, and the new law will touch off a paper chase to the patent office instead of a race to innovate.)],\n",
       "              'span_text': [they]},\n",
       "             (821, 823): {'background sentence': [],\n",
       "              'quote sentence': [(35,\n",
       "                Others took on Obamacare, and this is my fight,” said Mr. Stadnyk, who lives in Ridge Manor,)],\n",
       "              'span_text': [Mr. Stadnyk]},\n",
       "             (843, 844): {'background sentence': [],\n",
       "              'quote sentence': [(38,\n",
       "                ” Mr. Stadnyk, who says he is a conservative, warns of the danger of the patent legislation in populist, antigovernment terms.)],\n",
       "              'span_text': [who]},\n",
       "             (1137, 1139): {'background sentence': [],\n",
       "              'quote sentence': [(56,\n",
       "                ” Mr. Massey says he became involved in the legislative debate and this suit because of his background in constitutional law.)],\n",
       "              'span_text': [Mr. Massey]},\n",
       "             (0, 2): {'background sentence': [],\n",
       "              'quote sentence': [(63,\n",
       "                The suit , said some legal experts , faces long odds .)],\n",
       "              'span_text': [The suit]},\n",
       "             (1256, 1256): {'background sentence': [],\n",
       "              'quote sentence': [(64,\n",
       "                The courts, they say, have treated the section of the Constitution that concerns intellectual property rights as utilitarian doctrine subject to Congressional interpretation.)],\n",
       "              'span_text': [they]},\n",
       "             (1296, 1299): {'background sentence': [],\n",
       "              'quote sentence': [(66,\n",
       "                Congress is fairly free to do as it sees fit to promote innovation,” said Arti K. Rai, a professor at Duke University School of Law and a former senior official in the patent office.)],\n",
       "              'span_text': [Arti K. Rai]},\n",
       "             (1318, 1321): {'background sentence': [],\n",
       "              'quote sentence': [(67,\n",
       "                Mark A. Lemley, a professor at Stanford Law School, said the constitutional challenge “is the legal equivalent of fringe science.)],\n",
       "              'span_text': [Mark A. Lemley]},\n",
       "             (1470, 1470): {'background sentence': [],\n",
       "              'quote sentence': [(76,\n",
       "                The new law, he said, with its emphasis on speed, could well make it more difficult to wait before filing an application, to take the time to experiment over years, and to confidentially show early concepts to investors to raise money.)],\n",
       "              'span_text': [he]},\n",
       "             (1541, 1543): {'background sentence': [],\n",
       "              'quote sentence': [(79,\n",
       "                — people who do fundamental, long-term invention,” Mr. Perlman said.)],\n",
       "              'span_text': [Mr. Perlman]},\n",
       "             (1545, 1547): {'background sentence': [],\n",
       "              'quote sentence': [(80,\n",
       "                Gary Lauder, a venture capitalist, said the new law had the logic of trying to make the patent system more efficient and less prone to litigation.)],\n",
       "              'span_text': [Gary Lauder]},\n",
       "             (1594, 1596): {'background sentence': [],\n",
       "              'quote sentence': [(83,\n",
       "                This law favors large companies at the expense of small ones,” Mr. Lauder said.)],\n",
       "              'span_text': [Mr. Lauder]}})"
      ]
     },
     "execution_count": 567,
     "metadata": {},
     "output_type": "execute_result"
    }
   ],
   "source": [
    "entities"
   ]
  },
  {
   "cell_type": "code",
   "execution_count": null,
   "metadata": {},
   "outputs": [],
   "source": []
  },
  {
   "cell_type": "code",
   "execution_count": null,
   "metadata": {},
   "outputs": [],
   "source": []
  },
  {
   "cell_type": "code",
   "execution_count": null,
   "metadata": {},
   "outputs": [],
   "source": []
  },
  {
   "cell_type": "code",
   "execution_count": null,
   "metadata": {},
   "outputs": [],
   "source": []
  },
  {
   "cell_type": "code",
   "execution_count": null,
   "metadata": {},
   "outputs": [],
   "source": []
  },
  {
   "cell_type": "code",
   "execution_count": null,
   "metadata": {},
   "outputs": [],
   "source": []
  },
  {
   "cell_type": "code",
   "execution_count": null,
   "metadata": {},
   "outputs": [],
   "source": []
  },
  {
   "cell_type": "code",
   "execution_count": null,
   "metadata": {},
   "outputs": [],
   "source": []
  },
  {
   "cell_type": "code",
   "execution_count": null,
   "metadata": {},
   "outputs": [],
   "source": []
  },
  {
   "cell_type": "code",
   "execution_count": null,
   "metadata": {},
   "outputs": [],
   "source": []
  },
  {
   "cell_type": "code",
   "execution_count": null,
   "metadata": {},
   "outputs": [],
   "source": []
  },
  {
   "cell_type": "code",
   "execution_count": null,
   "metadata": {},
   "outputs": [],
   "source": []
  },
  {
   "cell_type": "code",
   "execution_count": null,
   "metadata": {},
   "outputs": [],
   "source": []
  },
  {
   "cell_type": "markdown",
   "metadata": {},
   "source": [
    "# Extract quotes from some documents"
   ]
  },
  {
   "cell_type": "code",
   "execution_count": 2,
   "metadata": {},
   "outputs": [],
   "source": [
    "sys.path.insert(0, '../scripts/')\n",
    "sys.path.insert(0, '../')"
   ]
  },
  {
   "cell_type": "code",
   "execution_count": 3,
   "metadata": {},
   "outputs": [],
   "source": [
    "import util"
   ]
  },
  {
   "cell_type": "code",
   "execution_count": 11,
   "metadata": {},
   "outputs": [],
   "source": [
    "t2 = t.replace('</p><p>', ' ')"
   ]
  },
  {
   "cell_type": "code",
   "execution_count": 17,
   "metadata": {},
   "outputs": [],
   "source": [
    "quotes = util.get_quotes_method_2(text=t2, cluster=True, resolve_coref=True, greedyness=.4, max_dist=150)"
   ]
  },
  {
   "cell_type": "code",
   "execution_count": 18,
   "metadata": {
    "scrolled": true
   },
   "outputs": [
    {
     "data": {
      "text/plain": [
       "defaultdict(<function util.cluster_entities_method_1.<locals>.<lambda>()>,\n",
       "            {'he': {'background sentence': [],\n",
       "              'quote sentence': [(2,\n",
       "                'Mr. Stadnyk , who holds a patent on a motorcycle windshield , is suing the United States government , aiming to head off a patent law that he says will favor big companies and hurt lone inventors like himself .'),\n",
       "               (2,\n",
       "                'Mr. Stadnyk , who holds a patent on a motorcycle windshield , is suing the United States government , aiming to head off a patent law that he says will favor big companies and hurt lone inventors like himself .'),\n",
       "               (9,\n",
       "                'With he system , he says , the rider feels a flutter of breeze instead of jolting winds and turbulence .'),\n",
       "               (9,\n",
       "                'With he system , he says , the rider feels a flutter of breeze instead of jolting winds and turbulence .'),\n",
       "               (9,\n",
       "                'With he system , he says , the rider feels a flutter of breeze instead of jolting winds and turbulence .'),\n",
       "               (13,\n",
       "                'Yearly sales , he said , are more than $ 500,000 and growing briskly .'),\n",
       "               (13,\n",
       "                'Yearly sales , he said , are more than $ 500,000 and growing briskly .'),\n",
       "               (40,\n",
       "                'My property would be given away by the government under this new law , ” he said .'),\n",
       "               (40,\n",
       "                'My property would be given away by the government under this new law , ” he said .'),\n",
       "               (58,\n",
       "                'The new patent law , he said , “ violates the text and the original understanding of the Constitution .'),\n",
       "               (58,\n",
       "                'The new patent law , he said , “ violates the text and the original understanding of the Constitution .'),\n",
       "               (73,\n",
       "                'and they may be right in not liking the outcome , ” he said .'),\n",
       "               (73,\n",
       "                'and they may be right in not liking the outcome , ” he said .'),\n",
       "               (80,\n",
       "                'The new law , he said , with its emphasis on speed , could well make it more difficult to wait before filing an application , to take the time to experiment over years , and to confidentially show early concepts to investors to raise money .'),\n",
       "               (80,\n",
       "                'The new law , he said , with its emphasis on speed , could well make it more difficult to wait before filing an application , to take the time to experiment over years , and to confidentially show early concepts to investors to raise money .')]},\n",
       "             'the United States government': {'background sentence': [],\n",
       "              'quote sentence': [(2,\n",
       "                'Mr. Stadnyk , who holds a patent on a motorcycle windshield , is suing the United States government , aiming to head off a patent law that he says will favor big companies and hurt lone inventors like himself .'),\n",
       "               (9,\n",
       "                'With he system , he says , the rider feels a flutter of breeze instead of jolting winds and turbulence .'),\n",
       "               (40,\n",
       "                'My property would be given away by the government under this new law , ” he said .'),\n",
       "               (58,\n",
       "                'The new patent law , he said , “ violates the text and the original understanding of the Constitution .'),\n",
       "               (58,\n",
       "                'The new patent law , he said , “ violates the text and the original understanding of the Constitution .'),\n",
       "               (58,\n",
       "                'The new patent law , he said , “ violates the text and the original understanding of the Constitution .'),\n",
       "               (73,\n",
       "                'and they may be right in not liking the outcome , ” he said .'),\n",
       "               (80,\n",
       "                'The new law , he said , with its emphasis on speed , could well make it more difficult to wait before filing an application , to take the time to experiment over years , and to confidentially show early concepts to investors to raise money .')]},\n",
       "             'Mark Stadnyk': {'background sentence': [(3, '”'),\n",
       "               (4, '”'),\n",
       "               (7, '”'),\n",
       "               (10, '”'),\n",
       "               (11, '”'),\n",
       "               (14, '”'),\n",
       "               (14, '”'),\n",
       "               (20, '”'),\n",
       "               (22, '”'),\n",
       "               (32, '”'),\n",
       "               (32, '”'),\n",
       "               (43, '”'),\n",
       "               (1, '”')],\n",
       "              'quote sentence': [(21,\n",
       "                'Mr. Stadnyk says Mr. Stadnyk studied the proposals and the law , read blogs and reached out to Washington lawyers and academics who raised the issue of its constitutionality .'),\n",
       "               (34,\n",
       "                'Others took on Obamacare , and this is my fight , ” said Mr. Stadnyk , who lives in Ridge Manor ,'),\n",
       "               (21,\n",
       "                'Mr. Stadnyk says Mr. Stadnyk studied the proposals and the law , read blogs and reached out to Washington lawyers and academics who raised the issue of its constitutionality .'),\n",
       "               (21,\n",
       "                'Mr. Stadnyk says Mr. Stadnyk studied the proposals and the law , read blogs and reached out to Washington lawyers and academics who raised the issue of its constitutionality .'),\n",
       "               (34,\n",
       "                'Others took on Obamacare , and this is my fight , ” said Mr. Stadnyk , who lives in Ridge Manor ,')]},\n",
       "             'opponents': {'background sentence': [],\n",
       "              'quote sentence': [(28,\n",
       "                'But opponents say it will give big companies a huge advantage over start - ups and small inventors .'),\n",
       "               (28,\n",
       "                'But opponents say it will give big companies a huge advantage over start - ups and small inventors .')]},\n",
       "             'Large corporations': {'background sentence': [],\n",
       "              'quote sentence': [(29,\n",
       "                'Large corporations have deep pockets and armies of lawyers to write up and file patents , Large corporations say , and the new law will touch off a paper chase to the patent office instead of a race to innovate .'),\n",
       "               (29,\n",
       "                'Large corporations have deep pockets and armies of lawyers to write up and file patents , Large corporations say , and the new law will touch off a paper chase to the patent office instead of a race to innovate .'),\n",
       "               (29,\n",
       "                'Large corporations have deep pockets and armies of lawyers to write up and file patents , Large corporations say , and the new law will touch off a paper chase to the patent office instead of a race to innovate .')]},\n",
       "             'who': {'background sentence': [],\n",
       "              'quote sentence': [(38,\n",
       "                'Mr. Stadnyk , who says he is a conservative , warns of the danger of the patent legislation in populist , antigovernment terms .'),\n",
       "               (38,\n",
       "                'Mr. Stadnyk , who says he is a conservative , warns of the danger of the patent legislation in populist , antigovernment terms .')]},\n",
       "             'Senator Barbara Boxer': {'background sentence': [(52, '”'),\n",
       "               (49, '”')],\n",
       "              'quote sentence': [(50,\n",
       "                'Speaking on the Senate floor last year , Senator Barbara Boxer , Democrat of California said , “ I strongly disagree with changing the core principle of our patent system — awarding a patent to the true inventor — for the sake of perceived administrative ease .'),\n",
       "               (54,\n",
       "                'We are the only country in the world , ” Ms. Boxer said , “ whose Constitution specifically mentions ‘ inventor .'),\n",
       "               (50,\n",
       "                'Speaking on the Senate floor last year , Senator Barbara Boxer , Democrat of California said , “ I strongly disagree with changing the core principle of our patent system — awarding a patent to the true inventor — for the sake of perceived administrative ease .'),\n",
       "               (54,\n",
       "                'We are the only country in the world , ” Ms. Boxer said , “ whose Constitution specifically mentions ‘ inventor .')]},\n",
       "             'Jonathan S. Massey': {'background sentence': [(43, '”'),\n",
       "               (44, '”'),\n",
       "               (45, '”'),\n",
       "               (61, '”')],\n",
       "              'quote sentence': [(57,\n",
       "                'Jonathan S. Massey says he became involved in the legislative debate and this suit because of he background in constitutional law .'),\n",
       "               (62,\n",
       "                'As a matter of confidentiality and courtroom tactics , Jonathan S. Massey said Jonathan S. Massey did not want to let “ the other side know the size of my resources .'),\n",
       "               (57,\n",
       "                'Jonathan S. Massey says he became involved in the legislative debate and this suit because of he background in constitutional law .'),\n",
       "               (62,\n",
       "                'As a matter of confidentiality and courtroom tactics , Jonathan S. Massey said Jonathan S. Massey did not want to let “ the other side know the size of my resources .'),\n",
       "               (62,\n",
       "                'As a matter of confidentiality and courtroom tactics , Jonathan S. Massey said Jonathan S. Massey did not want to let “ the other side know the size of my resources .')]},\n",
       "             'The new patent law': {'background sentence': [],\n",
       "              'quote sentence': [(58,\n",
       "                'The new patent law , he said , “ violates the text and the original understanding of the Constitution .'),\n",
       "               (64,\n",
       "                'The suit , according to some legal experts , faces long odds .'),\n",
       "               (65,\n",
       "                'The courts , The courts say , have treated the section of the Constitution that concerns intellectual property rights as utilitarian doctrine subject to Congressional interpretation .'),\n",
       "               (65,\n",
       "                'The courts , The courts say , have treated the section of the Constitution that concerns intellectual property rights as utilitarian doctrine subject to Congressional interpretation .'),\n",
       "               (80,\n",
       "                'The new law , he said , with its emphasis on speed , could well make it more difficult to wait before filing an application , to take the time to experiment over years , and to confidentially show early concepts to investors to raise money .')]},\n",
       "             'suit': {'background sentence': [],\n",
       "              'quote sentence': [(64,\n",
       "                'The suit , according to some legal experts , faces long odds .')]},\n",
       "             'some legal experts': {'background sentence': [],\n",
       "              'quote sentence': [(64,\n",
       "                'The suit , according to some legal experts , faces long odds .'),\n",
       "               (64,\n",
       "                'The suit , according to some legal experts , faces long odds .')]},\n",
       "             'courts': {'background sentence': [],\n",
       "              'quote sentence': [(65,\n",
       "                'The courts , The courts say , have treated the section of the Constitution that concerns intellectual property rights as utilitarian doctrine subject to Congressional interpretation .')]},\n",
       "             'Arti K. Rai': {'background sentence': [],\n",
       "              'quote sentence': [(67,\n",
       "                'Congress is fairly free to do as it sees fit to promote innovation , ” said Arti K. Rai , a professor at Duke University School of Law and a former senior official in the patent office .'),\n",
       "               (67,\n",
       "                'Congress is fairly free to do as it sees fit to promote innovation , ” said Arti K. Rai , a professor at Duke University School of Law and a former senior official in the patent office .')]},\n",
       "             'Mark A. Lemley': {'background sentence': [],\n",
       "              'quote sentence': [(68,\n",
       "                'Mark A. Lemley , a professor at Stanford Law School , said the constitutional challenge “ is the legal equivalent of fringe science .'),\n",
       "               (68,\n",
       "                'Mark A. Lemley , a professor at Stanford Law School , said the constitutional challenge “ is the legal equivalent of fringe science .')]},\n",
       "             'they': {'background sentence': [],\n",
       "              'quote sentence': [(73,\n",
       "                'and they may be right in not liking the outcome , ” he said .')]},\n",
       "             'Stephen G. Perlman': {'background sentence': [(77, '”')],\n",
       "              'quote sentence': [(83,\n",
       "                'scared that this law is a threat to the survival of our species — people who do fundamental , long - term invention , ” Mr. Perlman said .'),\n",
       "               (83,\n",
       "                'scared that this law is a threat to the survival of our species — people who do fundamental , long - term invention , ” Mr. Perlman said .')]},\n",
       "             'Gary Lauder': {'background sentence': [],\n",
       "              'quote sentence': [(84,\n",
       "                'Gary Lauder , a venture capitalist , said this law had the logic of trying to make the patent system more efficient and less prone to litigation .'),\n",
       "               (86,\n",
       "                '“ this law favors large companies at the expense of small ones , ” Mr. Lauder said .'),\n",
       "               (84,\n",
       "                'Gary Lauder , a venture capitalist , said this law had the logic of trying to make the patent system more efficient and less prone to litigation .'),\n",
       "               (86,\n",
       "                '“ this law favors large companies at the expense of small ones , ” Mr. Lauder said .')]},\n",
       "             'Patty': {'background sentence': [(11, '”')],\n",
       "              'quote sentence': []},\n",
       "             'Obama': {'background sentence': [(26, '”'), (32, '”')],\n",
       "              'quote sentence': []},\n",
       "             'William J. Brennan Jr.': {'background sentence': [(44, '”')],\n",
       "              'quote sentence': []},\n",
       "             'Laurence H. Tribe': {'background sentence': [(44, '”')],\n",
       "              'quote sentence': []},\n",
       "             'Al Gore': {'background sentence': [(45, '”'), (45, '”')],\n",
       "              'quote sentence': []},\n",
       "             'Bush': {'background sentence': [(45, '”')],\n",
       "              'quote sentence': []}})"
      ]
     },
     "execution_count": 18,
     "metadata": {},
     "output_type": "execute_result"
    }
   ],
   "source": [
    "quotes"
   ]
  },
  {
   "cell_type": "code",
   "execution_count": 19,
   "metadata": {},
   "outputs": [
    {
     "data": {
      "text/plain": [
       "dict_keys(['he', 'the United States government', 'Mark Stadnyk', 'opponents', 'Large corporations', 'who', 'Senator Barbara Boxer', 'Jonathan S. Massey', 'The new patent law', 'suit', 'some legal experts', 'courts', 'Arti K. Rai', 'Mark A. Lemley', 'they', 'Stephen G. Perlman', 'Gary Lauder', 'Patty', 'Obama', 'William J. Brennan Jr.', 'Laurence H. Tribe', 'Al Gore', 'Bush'])"
      ]
     },
     "execution_count": 19,
     "metadata": {},
     "output_type": "execute_result"
    }
   ],
   "source": [
    "quotes.keys()"
   ]
  },
  {
   "cell_type": "code",
   "execution_count": 20,
   "metadata": {},
   "outputs": [
    {
     "data": {
      "text/plain": [
       "{'background sentence': [(3, '”'),\n",
       "  (4, '”'),\n",
       "  (7, '”'),\n",
       "  (10, '”'),\n",
       "  (11, '”'),\n",
       "  (14, '”'),\n",
       "  (14, '”'),\n",
       "  (20, '”'),\n",
       "  (22, '”'),\n",
       "  (32, '”'),\n",
       "  (32, '”'),\n",
       "  (43, '”'),\n",
       "  (1, '”')],\n",
       " 'quote sentence': [(21,\n",
       "   'Mr. Stadnyk says Mr. Stadnyk studied the proposals and the law , read blogs and reached out to Washington lawyers and academics who raised the issue of its constitutionality .'),\n",
       "  (34,\n",
       "   'Others took on Obamacare , and this is my fight , ” said Mr. Stadnyk , who lives in Ridge Manor ,'),\n",
       "  (21,\n",
       "   'Mr. Stadnyk says Mr. Stadnyk studied the proposals and the law , read blogs and reached out to Washington lawyers and academics who raised the issue of its constitutionality .'),\n",
       "  (21,\n",
       "   'Mr. Stadnyk says Mr. Stadnyk studied the proposals and the law , read blogs and reached out to Washington lawyers and academics who raised the issue of its constitutionality .'),\n",
       "  (34,\n",
       "   'Others took on Obamacare , and this is my fight , ” said Mr. Stadnyk , who lives in Ridge Manor ,')]}"
      ]
     },
     "execution_count": 20,
     "metadata": {},
     "output_type": "execute_result"
    }
   ],
   "source": [
    "quotes['Mark Stadnyk']"
   ]
  },
  {
   "cell_type": "code",
   "execution_count": 27,
   "metadata": {},
   "outputs": [
    {
     "data": {
      "text/plain": [
       "{'he': {'background sentence': [],\n",
       "  'quote sentence': [(2,\n",
       "    'Mr. Stadnyk , who holds a patent on a motorcycle windshield , is suing the United States government , aiming to head off a patent law that he says will favor big companies and hurt lone inventors like himself .'),\n",
       "   (9,\n",
       "    'With he system , he says , the rider feels a flutter of breeze instead of jolting winds and turbulence .'),\n",
       "   (13,\n",
       "    'Yearly sales , he said , are more than $ 500,000 and growing briskly .'),\n",
       "   (40,\n",
       "    'My property would be given away by the government under this new law , ” he said .'),\n",
       "   (58,\n",
       "    'The new patent law , he said , “ violates the text and the original understanding of the Constitution .'),\n",
       "   (73, 'and they may be right in not liking the outcome , ” he said .'),\n",
       "   (80,\n",
       "    'The new law , he said , with its emphasis on speed , could well make it more difficult to wait before filing an application , to take the time to experiment over years , and to confidentially show early concepts to investors to raise money .')]},\n",
       " 'the United States government': {'background sentence': [],\n",
       "  'quote sentence': [(2,\n",
       "    'Mr. Stadnyk , who holds a patent on a motorcycle windshield , is suing the United States government , aiming to head off a patent law that he says will favor big companies and hurt lone inventors like himself .'),\n",
       "   (9,\n",
       "    'With he system , he says , the rider feels a flutter of breeze instead of jolting winds and turbulence .'),\n",
       "   (40,\n",
       "    'My property would be given away by the government under this new law , ” he said .'),\n",
       "   (58,\n",
       "    'The new patent law , he said , “ violates the text and the original understanding of the Constitution .'),\n",
       "   (73, 'and they may be right in not liking the outcome , ” he said .'),\n",
       "   (80,\n",
       "    'The new law , he said , with its emphasis on speed , could well make it more difficult to wait before filing an application , to take the time to experiment over years , and to confidentially show early concepts to investors to raise money .')]},\n",
       " 'Mark Stadnyk': {'background sentence': [(3, '”'),\n",
       "   (4, '”'),\n",
       "   (7, '”'),\n",
       "   (10, '”'),\n",
       "   (11, '”'),\n",
       "   (14, '”'),\n",
       "   (20, '”'),\n",
       "   (22, '”'),\n",
       "   (32, '”'),\n",
       "   (43, '”'),\n",
       "   (1, '”')],\n",
       "  'quote sentence': [(21,\n",
       "    'Mr. Stadnyk says Mr. Stadnyk studied the proposals and the law , read blogs and reached out to Washington lawyers and academics who raised the issue of its constitutionality .'),\n",
       "   (34,\n",
       "    'Others took on Obamacare , and this is my fight , ” said Mr. Stadnyk , who lives in Ridge Manor ,')]},\n",
       " 'opponents': {'background sentence': [],\n",
       "  'quote sentence': [(28,\n",
       "    'But opponents say it will give big companies a huge advantage over start - ups and small inventors .')]},\n",
       " 'Large corporations': {'background sentence': [],\n",
       "  'quote sentence': [(29,\n",
       "    'Large corporations have deep pockets and armies of lawyers to write up and file patents , Large corporations say , and the new law will touch off a paper chase to the patent office instead of a race to innovate .')]},\n",
       " 'who': {'background sentence': [],\n",
       "  'quote sentence': [(38,\n",
       "    'Mr. Stadnyk , who says he is a conservative , warns of the danger of the patent legislation in populist , antigovernment terms .')]},\n",
       " 'Senator Barbara Boxer': {'background sentence': [(52, '”'), (49, '”')],\n",
       "  'quote sentence': [(50,\n",
       "    'Speaking on the Senate floor last year , Senator Barbara Boxer , Democrat of California said , “ I strongly disagree with changing the core principle of our patent system — awarding a patent to the true inventor — for the sake of perceived administrative ease .'),\n",
       "   (54,\n",
       "    'We are the only country in the world , ” Ms. Boxer said , “ whose Constitution specifically mentions ‘ inventor .')]},\n",
       " 'Jonathan S. Massey': {'background sentence': [(43, '”'),\n",
       "   (44, '”'),\n",
       "   (45, '”'),\n",
       "   (61, '”')],\n",
       "  'quote sentence': [(57,\n",
       "    'Jonathan S. Massey says he became involved in the legislative debate and this suit because of he background in constitutional law .'),\n",
       "   (62,\n",
       "    'As a matter of confidentiality and courtroom tactics , Jonathan S. Massey said Jonathan S. Massey did not want to let “ the other side know the size of my resources .')]},\n",
       " 'The new patent law': {'background sentence': [],\n",
       "  'quote sentence': [(58,\n",
       "    'The new patent law , he said , “ violates the text and the original understanding of the Constitution .'),\n",
       "   (64, 'The suit , according to some legal experts , faces long odds .'),\n",
       "   (65,\n",
       "    'The courts , The courts say , have treated the section of the Constitution that concerns intellectual property rights as utilitarian doctrine subject to Congressional interpretation .'),\n",
       "   (80,\n",
       "    'The new law , he said , with its emphasis on speed , could well make it more difficult to wait before filing an application , to take the time to experiment over years , and to confidentially show early concepts to investors to raise money .')]},\n",
       " 'suit': {'background sentence': [],\n",
       "  'quote sentence': [(64,\n",
       "    'The suit , according to some legal experts , faces long odds .')]},\n",
       " 'some legal experts': {'background sentence': [],\n",
       "  'quote sentence': [(64,\n",
       "    'The suit , according to some legal experts , faces long odds .')]},\n",
       " 'courts': {'background sentence': [],\n",
       "  'quote sentence': [(65,\n",
       "    'The courts , The courts say , have treated the section of the Constitution that concerns intellectual property rights as utilitarian doctrine subject to Congressional interpretation .')]},\n",
       " 'Arti K. Rai': {'background sentence': [],\n",
       "  'quote sentence': [(67,\n",
       "    'Congress is fairly free to do as it sees fit to promote innovation , ” said Arti K. Rai , a professor at Duke University School of Law and a former senior official in the patent office .')]},\n",
       " 'Mark A. Lemley': {'background sentence': [],\n",
       "  'quote sentence': [(68,\n",
       "    'Mark A. Lemley , a professor at Stanford Law School , said the constitutional challenge “ is the legal equivalent of fringe science .')]},\n",
       " 'they': {'background sentence': [],\n",
       "  'quote sentence': [(73,\n",
       "    'and they may be right in not liking the outcome , ” he said .')]},\n",
       " 'Stephen G. Perlman': {'background sentence': [(77, '”')],\n",
       "  'quote sentence': [(83,\n",
       "    'scared that this law is a threat to the survival of our species — people who do fundamental , long - term invention , ” Mr. Perlman said .')]},\n",
       " 'Gary Lauder': {'background sentence': [],\n",
       "  'quote sentence': [(84,\n",
       "    'Gary Lauder , a venture capitalist , said this law had the logic of trying to make the patent system more efficient and less prone to litigation .'),\n",
       "   (86,\n",
       "    '“ this law favors large companies at the expense of small ones , ” Mr. Lauder said .')]},\n",
       " 'Patty': {'background sentence': [(11, '”')], 'quote sentence': []},\n",
       " 'Obama': {'background sentence': [(26, '”'), (32, '”')],\n",
       "  'quote sentence': []},\n",
       " 'William J. Brennan Jr.': {'background sentence': [(44, '”')],\n",
       "  'quote sentence': []},\n",
       " 'Laurence H. Tribe': {'background sentence': [(44, '”')],\n",
       "  'quote sentence': []},\n",
       " 'Al Gore': {'background sentence': [(45, '”')], 'quote sentence': []},\n",
       " 'Bush': {'background sentence': [(45, '”')], 'quote sentence': []}}"
      ]
     },
     "execution_count": 27,
     "metadata": {},
     "output_type": "execute_result"
    }
   ],
   "source": [
    "deduped_output"
   ]
  },
  {
   "cell_type": "code",
   "execution_count": null,
   "metadata": {},
   "outputs": [],
   "source": []
  },
  {
   "cell_type": "code",
   "execution_count": null,
   "metadata": {},
   "outputs": [],
   "source": []
  },
  {
   "cell_type": "code",
   "execution_count": 38,
   "metadata": {},
   "outputs": [
    {
     "data": {
      "text/plain": [
       "a dog"
      ]
     },
     "execution_count": 38,
     "metadata": {},
     "output_type": "execute_result"
    }
   ],
   "source": [
    "doc = nlp(u'My sister has a dog. She loves him')\n",
    "\n",
    "doc._.coref_clusters\n",
    "doc._.coref_clusters[1].mentions\n",
    "doc._.coref_clusters[1].mentions[-1]\n",
    "doc._.coref_clusters[1].mentions[-1]._.coref_cluster.main"
   ]
  },
  {
   "cell_type": "code",
   "execution_count": 39,
   "metadata": {},
   "outputs": [
    {
     "data": {
      "text/plain": [
       "him"
      ]
     },
     "execution_count": 39,
     "metadata": {},
     "output_type": "execute_result"
    }
   ],
   "source": [
    "doc._.coref_clusters[1].mentions[-1]"
   ]
  },
  {
   "cell_type": "code",
   "execution_count": 35,
   "metadata": {},
   "outputs": [],
   "source": [
    "doc._.coref_clusters[1].mentions[-1] = 'her'"
   ]
  },
  {
   "cell_type": "code",
   "execution_count": 40,
   "metadata": {},
   "outputs": [
    {
     "data": {
      "text/plain": [
       "[a dog, him]"
      ]
     },
     "execution_count": 40,
     "metadata": {},
     "output_type": "execute_result"
    }
   ],
   "source": [
    "doc._.coref_clusters[1].mentions"
   ]
  },
  {
   "cell_type": "code",
   "execution_count": 41,
   "metadata": {},
   "outputs": [
    {
     "data": {
      "text/plain": [
       "{My sister: {My sister: 1.3110305070877075},\n",
       " a dog: {a dog: 1.804752230644226, My sister: -1.6715972423553467},\n",
       " She: {She: 0.09481996297836304,\n",
       "  My sister: 7.786711692810059,\n",
       "  a dog: -1.1784329414367676},\n",
       " him: {him: -1.4293134212493896,\n",
       "  My sister: 2.0916330814361572,\n",
       "  a dog: 3.683906316757202,\n",
       "  She: -3.400832176208496}}"
      ]
     },
     "execution_count": 41,
     "metadata": {},
     "output_type": "execute_result"
    }
   ],
   "source": [
    "doc._.coref_scores"
   ]
  },
  {
   "cell_type": "code",
   "execution_count": 54,
   "metadata": {},
   "outputs": [
    {
     "data": {
      "text/plain": [
       "'My sister has a dog. My sister loves a dog'"
      ]
     },
     "execution_count": 54,
     "metadata": {},
     "output_type": "execute_result"
    }
   ],
   "source": [
    "doc._.coref_resolved"
   ]
  },
  {
   "cell_type": "code",
   "execution_count": 43,
   "metadata": {},
   "outputs": [],
   "source": [
    "long_doc = nlp(t2)"
   ]
  },
  {
   "cell_type": "code",
   "execution_count": 96,
   "metadata": {},
   "outputs": [],
   "source": [
    "s = long_doc._.coref_scores"
   ]
  },
  {
   "cell_type": "code",
   "execution_count": 98,
   "metadata": {},
   "outputs": [
    {
     "data": {
      "text/plain": [
       "[Mr. Stadnyk: [an inventor named Mark Stadnyk, he, himself, Mr. Stadnyk, his],\n",
       " a suit last month that challenges the constitutionality of legislation that Congress passed last fall, the America Invents Act: [a suit last month that challenges the constitutionality of legislation that Congress passed last fall, the America Invents Act, the legislation, it],\n",
       " he: [he, He, his, he, his, his, he, himself, His, he, he],\n",
       " a powerful new motorcycle: [a powerful new motorcycle, the motorcycle],\n",
       " a windshield: [a windshield, the windshield],\n",
       " MadStad: [MadStad, his],\n",
       " the United States: [the United States, the United States],\n",
       " Mr. Stadnyk: [Mr. Stadnyk, he, Mr. Stadnyk, He, he, its, he],\n",
       " the patent legislation: [the patent legislation, it],\n",
       " the law: [the law, the new law, the new law, this new law, The new patent law, The new patent law],\n",
       " Washington: [Washington, Washington],\n",
       " Japan and elsewhere: [Japan and elsewhere, them],\n",
       " America: [America, America],\n",
       " President Obama: [President Obama, Obama],\n",
       " the new law would cut “the red tape that stops too many inventors and entrepreneurs from quickly turning new ideas into thriving businesses — which holds our whole economy back: [the new law would cut “the red tape that stops too many inventors and entrepreneurs from quickly turning new ideas into thriving businesses — which holds our whole economy back, it],\n",
       " “: [“, “],\n",
       " Large corporations: [Large corporations, they],\n",
       " Mr. Stadnyk: [Mr. Stadnyk, his],\n",
       " the Supreme Court: [the Supreme Court, the Supreme Court],\n",
       " he: [he, he],\n",
       " Jonathan S. Massey: [Jonathan S. Massey, Mr. Massey, Mr. Massey],\n",
       " Ms. Boxer: [Senator Barbara Boxer, Democrat of California, she, Ms. Boxer, she],\n",
       " our: [our, We],\n",
       " the Constitution: [the Constitution, the Constitution, the Constitution],\n",
       " Mr. Massey: [Mr. Massey, he, his, he, Mr. Massey, he, he],\n",
       " this suit: [this suit, the suit, The suit],\n",
       " “: [“, “],\n",
       " The courts: [The courts, they],\n",
       " Congress: [Congress, it],\n",
       " Mark A. Lemley, a professor at Stanford Law School: [Mark A. Lemley, a professor at Stanford Law School, he],\n",
       " people who didn’t like the outcome of the patent legislation: [people who didn’t like the outcome of the patent legislation, they],\n",
       " that: [that, it],\n",
       " the law’s: [the law’s, this law, the new law, This law],\n",
       " His: [His, he],\n",
       " ’m: [’m, he],\n",
       " our: [our, our, we],\n",
       " Mr. Lauder: [Gary Lauder, a venture capitalist, Mr. Lauder]]"
      ]
     },
     "execution_count": 98,
     "metadata": {},
     "output_type": "execute_result"
    }
   ],
   "source": [
    "long_doc._.coref_clusters"
   ]
  },
  {
   "cell_type": "code",
   "execution_count": 60,
   "metadata": {},
   "outputs": [
    {
     "data": {
      "text/plain": [
       "My sister has a dog. She loves him"
      ]
     },
     "execution_count": 60,
     "metadata": {},
     "output_type": "execute_result"
    }
   ],
   "source": [
    "doc"
   ]
  },
  {
   "cell_type": "code",
   "execution_count": 75,
   "metadata": {},
   "outputs": [],
   "source": [
    "s = doc._.coref_clusters[0].mentions[1]"
   ]
  },
  {
   "cell_type": "code",
   "execution_count": 76,
   "metadata": {},
   "outputs": [
    {
     "data": {
      "text/plain": [
       "6"
      ]
     },
     "execution_count": 76,
     "metadata": {},
     "output_type": "execute_result"
    }
   ],
   "source": [
    "s.start"
   ]
  },
  {
   "cell_type": "code",
   "execution_count": 77,
   "metadata": {},
   "outputs": [
    {
     "data": {
      "text/plain": [
       "7"
      ]
     },
     "execution_count": 77,
     "metadata": {},
     "output_type": "execute_result"
    }
   ],
   "source": [
    "s.end"
   ]
  },
  {
   "cell_type": "code",
   "execution_count": 94,
   "metadata": {},
   "outputs": [
    {
     "data": {
      "text/plain": [
       "She"
      ]
     },
     "execution_count": 94,
     "metadata": {},
     "output_type": "execute_result"
    }
   ],
   "source": [
    "doc[s.start:s.end]"
   ]
  },
  {
   "cell_type": "code",
   "execution_count": null,
   "metadata": {},
   "outputs": [],
   "source": []
  },
  {
   "cell_type": "code",
   "execution_count": null,
   "metadata": {},
   "outputs": [],
   "source": []
  },
  {
   "cell_type": "code",
   "execution_count": null,
   "metadata": {},
   "outputs": [],
   "source": []
  },
  {
   "cell_type": "code",
   "execution_count": null,
   "metadata": {},
   "outputs": [],
   "source": []
  },
  {
   "cell_type": "code",
   "execution_count": 33,
   "metadata": {},
   "outputs": [],
   "source": [
    "import unidecode\n",
    "doc = nlp(unidecode.unidecode(t2))"
   ]
  },
  {
   "cell_type": "code",
   "execution_count": 34,
   "metadata": {},
   "outputs": [
    {
     "data": {
      "text/plain": [
       "[In Silicon Valley, Apple just won big against Samsung in the patent lawsuit of the year, after trading claims and counterclaims of pilfered product ideas.,\n",
       " Across the country, in a federal court in Florida, an inventor named Mark Stadnyk is waging a different kind of patent warfare -- an ambitious and perhaps quixotic legal foray.,\n",
       " Mr. Stadnyk, who holds a patent on a motorcycle windshield, is suing the United States government, aiming to head off a patent law that he says will favor big companies and hurt lone inventors like himself.,\n",
       " Represented by a prominent Washington lawyer, Mr. Stadnyk filed a suit last month that challenges the constitutionality of legislation that Congress passed last fall, the America Invents Act.,\n",
       " Mr. Stadnyk and his lawyer -- along with some academics, entrepreneurs and venture capitalists -- assert that the legislation is a triumph of corporate lobbying power over the founders' wishes, and that it threatens America's stature as the world's leading innovator.,\n",
       " The present system, one of the nation's oldest patent principles and called \"first to invent,\" relies on lab notebooks, e-mails and early prototypes to establish the date of invention.,\n",
       " The impending law would overturn that by awarding patents to the inventors who are \"first to file\" with the United States Patent and Trademark Office.,\n",
       " Mr. Stadnyk, 48, a garage inventor who stumbled into the world of patents after he bought a powerful new motorcycle and wanted to avoid being battered by the wind when riding at 60 miles an hour, even with a windshield.,\n",
       " He devised a system of brackets and gears to adjust the height and angle of the windshield and the gap between it and the motorcycle.,\n",
       " With his system, he says, the rider feels a flutter of breeze instead of jolting winds and turbulence.,\n",
       " Mr. Stadnyk, who describes his invention style as \"rough hacking with chunks of metal,\" founded his company, MadStad Engineering, in 2006, and as sales picked up, he stopped working as a computer consultant to devote himself to the business.,\n",
       " Today, MadStad employs eight people, including Mr. Stadnyk and his wife, Patty.,\n",
       " His adjustable windshield systems, priced from $100 to $320, are now used on dozens of makes and models of motorcycles, and are sold through dealers in Australia, Britain and Spain, as well as the United States.,\n",
       " Yearly sales, he said, are more than $500,000 and growing briskly.,\n",
       " Mr. Stadnyk holds three patents, and he speaks of a patented idea as a uniquely human property right.,\n",
       " \",\n",
       " It came out of your mind,\" he explained.,\n",
       " \",\n",
       " It's not property you bought or inherited.,\n",
       " \",\n",
       " Mr. Stadnyk became interested in the patent legislation as it proceeded.,\n",
       " He says he studied the proposals and the law, read blogs and reached out to Washington lawyers and academics who raised the issue of its constitutionality.,\n",
       " A grass-roots activist, he even made a couple of YouTube videos.,\n",
       " The shift to a first-to-file system, scheduled to take effect next March, is intended to simplify and streamline the current system, which can invite protracted litigation between competing inventors.,\n",
       " The switch would also put the United States in harmony with patent offices in Europe, Japan and elsewhere, allowing them to share information and potentially ease the strain on overburdened patent examiners worldwide.,\n",
       " The efficiency argument is the mainstream view of corporate America and Washington policy makers.,\n",
       " President Obama declared that the new law would cut \"the red tape that stops too many inventors and entrepreneurs from quickly turning new ideas into thriving businesses -- which holds our whole economy back.,\n",
       " \",\n",
       " But opponents say it will give big companies a huge advantage over start-ups and small inventors.,\n",
       " Large corporations have deep pockets and armies of lawyers to write up and file patents, they say, and the new law will touch off a paper chase to the patent office instead of a race to innovate.,\n",
       " Yet the opponents are in the minority.,\n",
       " And there is genuine debate about how much garage inventors and fledgling companies contribute to innovation and economic growth these days.,\n",
       " Mr. Stadnyk sees his courtroom quest as the intellectual property equivalent of the recent constitutional challenge to the Obama administration's health insurance overhaul, in legislation that was narrowly upheld by the Supreme Court.,\n",
       " \",\n",
       " Others took on Obamacare, and this is my fight,\" said Mr. Stadnyk, who lives in Ridge Manor,,\n",
       " Fla. \",\n",
       " Somebody's got to do something.,\n",
       " \",\n",
       " Mr. Stadnyk, who says he is a conservative, warns of the danger of the patent legislation in populist, antigovernment terms.,\n",
       " \",\n",
       " My property would be given away by the government under this new law,\" he said.,\n",
       " Yet there are liberals among the law's critics as well.,\n",
       " Mr. Stadnyk's Washington-based lawyer in the suit is Jonathan S. Massey.,\n",
       " A graduate of Harvard Law School, Mr. Massey was a clerk for the liberal Supreme Court Justice William J. Brennan Jr., and is a protege of Laurence H. Tribe, a leading professor of constitutional law at Harvard.,\n",
       " Mr. Massey worked on the case presented to the Supreme Court on behalf of former Vice President Al Gore in Bush v. Gore, an appeal that lost and effectively settled the 2000 presidential election.,\n",
       " The America Invents Act was a byproduct of years of lobbying and eventual compromise, especially by major technology and pharmaceutical companies.,\n",
       " The new patent law was approved overwhelmingly in both the House and the Senate.,\n",
       " Few focused on the potential of a constitutional problem.,\n",
       " Senator Barbara Boxer, Democrat of California, was an exception.,\n",
       " Speaking on the Senate floor last year, she said, \"I strongly disagree with changing the core principle of our patent system -- awarding a patent to the true inventor -- for the sake of perceived administrative ease.,\n",
       " \",\n",
       " Ms. Boxer went on to say that the Constitution singles out and grants exclusive rights to individuals with new, useful ideas.,\n",
       " \",\n",
       " We are the only country in the world,\" she said, \"whose Constitution specifically mentions 'inventor.',\n",
       " \",\n",
       " Mr. Massey says he became involved in the legislative debate and this suit because of his background in constitutional law.,\n",
       " The new patent law, he said, \"violates the text and the original understanding of the Constitution.,\n",
       " \",\n",
       " In the suit, the government has until Thursday to reply.,\n",
       " Mr. Massey declined to say who would provide financial support if the case proceeded through appeals and higher courts.,\n",
       " As a matter of confidentiality and courtroom tactics, he said he did not want to let \"the other side know the size of my resources.,\n",
       " \",\n",
       " The suit, according to some legal experts, faces long odds.,\n",
       " The courts, they say, have treated the section of the Constitution that concerns intellectual property rights as utilitarian doctrine subject to Congressional interpretation.,\n",
       " \",\n",
       " Congress is fairly free to do as it sees fit to promote innovation,\" said Arti K. Rai, a professor at Duke University School of Law and a former senior official in the patent office.,\n",
       " Mark A. Lemley, a professor at Stanford Law School, said the constitutional challenge \"is the legal equivalent of fringe science.,\n",
       " \",\n",
       " \",\n",
       " There are people who didn't like the outcome of the patent legislation, and they may be right in not liking the outcome,\" he said.,\n",
       " \",\n",
       " But that doesn't make it unconstitutional.,\n",
       " \",\n",
       " In Silicon Valley, Stephen G. Perlman, a high-tech inventor and entrepreneur, worries about the law's practical effect.,\n",
       " His invention factory, Rearden, has produced a series of innovations and spinoff companies, including ones that make the technology for fine-grain computer-generated facial imagery used in Hollywood, and another company whose data-handling software generates photo-realistic, high-speed play for online gamers on tablet computers.,\n",
       " The new law, he said, with its emphasis on speed, could well make it more difficult to wait before filing an application, to take the time to experiment over years, and to confidentially show early concepts to investors to raise money.,\n",
       " \",\n",
       " I'm scared that this law is a threat to the survival of our species -- people who do fundamental, long-term invention,\" Mr. Perlman said.,\n",
       " Gary Lauder, a venture capitalist, said the new law had the logic of trying to make the patent system more efficient and less prone to litigation.,\n",
       " But he is a critic.,\n",
       " \",\n",
       " This law favors large companies at the expense of small ones,\" Mr. Lauder said.,\n",
       " \",\n",
       " There wasn't enough advocacy for unborn companies.,\n",
       " And partly as a result of our current patent system, we do have a huge amount of innovation in America.,\n",
       " \"]"
      ]
     },
     "execution_count": 34,
     "metadata": {},
     "output_type": "execute_result"
    }
   ],
   "source": [
    "list(doc.sents)"
   ]
  },
  {
   "cell_type": "code",
   "execution_count": null,
   "metadata": {},
   "outputs": [],
   "source": []
  },
  {
   "cell_type": "code",
   "execution_count": null,
   "metadata": {},
   "outputs": [],
   "source": []
  },
  {
   "cell_type": "code",
   "execution_count": 652,
   "metadata": {},
   "outputs": [],
   "source": [
    "article_batch = pd.read_sql('SELECT * from entryversion where version = 0 limit 500', con=conn)"
   ]
  },
  {
   "cell_type": "code",
   "execution_count": 657,
   "metadata": {},
   "outputs": [],
   "source": [
    "from tqdm.auto import tqdm"
   ]
  },
  {
   "cell_type": "code",
   "execution_count": null,
   "metadata": {},
   "outputs": [],
   "source": [
    "all_named_ents = []\n",
    "for a in tqdm(article_batch['summary']):\n",
    "    doc = nlp(a)\n",
    "    person_ents = list(set(filter(lambda x: x.label_ == 'PERSON', doc.ents)))\n",
    "    all_named_ents.extend(person_ents)"
   ]
  },
  {
   "cell_type": "code",
   "execution_count": 665,
   "metadata": {},
   "outputs": [],
   "source": [
    "names = list(set(map(lambda x: x.text, all_named_ents)))"
   ]
  },
  {
   "cell_type": "code",
   "execution_count": null,
   "metadata": {},
   "outputs": [],
   "source": []
  }
 ],
 "metadata": {
  "hide_input": false,
  "kernelspec": {
   "display_name": "Python 3",
   "language": "python",
   "name": "python3"
  },
  "language_info": {
   "codemirror_mode": {
    "name": "ipython",
    "version": 3
   },
   "file_extension": ".py",
   "mimetype": "text/x-python",
   "name": "python",
   "nbconvert_exporter": "python",
   "pygments_lexer": "ipython3",
   "version": "3.7.6"
  }
 },
 "nbformat": 4,
 "nbformat_minor": 4
}
