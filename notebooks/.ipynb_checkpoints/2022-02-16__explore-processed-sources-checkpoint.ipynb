{
 "cells": [
  {
   "cell_type": "code",
   "execution_count": 67,
   "metadata": {},
   "outputs": [],
   "source": [
    "import pickle\n",
    "import pandas as pd \n",
    "import bokeh.palettes as palettes\n",
    "import sys\n",
    "sys.path.insert(0, '../scripts/')\n",
    "import coref_resolution_util as c"
   ]
  },
  {
   "cell_type": "code",
   "execution_count": 116,
   "metadata": {},
   "outputs": [],
   "source": [
    "from more_itertools import unique_everseen\n",
    "from copy import deepcopy\n",
    "from IPython.display import display, HTML"
   ]
  },
  {
   "cell_type": "code",
   "execution_count": 101,
   "metadata": {},
   "outputs": [
    {
     "data": {
      "text/plain": [
       "<module 'coref_resolution_util' from '../scripts/coref_resolution_util.py'>"
      ]
     },
     "execution_count": 101,
     "metadata": {},
     "output_type": "execute_result"
    }
   ],
   "source": [
    "from importlib import reload\n",
    "reload(c)"
   ]
  },
  {
   "cell_type": "code",
   "execution_count": 129,
   "metadata": {},
   "outputs": [],
   "source": [
    "fname = '../data/output/newssniffer-nytimes/output_chunk__start-15_end-2015.pkl'\n",
    "with open(fname, 'rb') as f:\n",
    "    processed = pickle.load(f)"
   ]
  },
  {
   "cell_type": "code",
   "execution_count": 133,
   "metadata": {},
   "outputs": [],
   "source": [
    "processed_df = pd.DataFrame(processed).drop_duplicates('entry_id')"
   ]
  },
  {
   "cell_type": "code",
   "execution_count": 135,
   "metadata": {},
   "outputs": [
    {
     "data": {
      "text/plain": [
       "entry_id                                                  548021\n",
       "version                                                        0\n",
       "quote_idxes                 head_span  head_s_idx  \\\n",
       "head_ref...\n",
       "sent_parse     [[SANTIAGO, ,, Chile, —], [They, appear, at, t...\n",
       "Name: 0, dtype: object"
      ]
     },
     "execution_count": 135,
     "metadata": {},
     "output_type": "execute_result"
    }
   ],
   "source": [
    "processed_df.iloc[0]"
   ]
  },
  {
   "cell_type": "code",
   "execution_count": 137,
   "metadata": {},
   "outputs": [],
   "source": [
    "idx = 0\n",
    "q = processed_df.iloc[idx]['quote_idxes']\n",
    "s = processed_df.iloc[idx]['sent_parse']\n",
    "l = list(map(len, s))"
   ]
  },
  {
   "cell_type": "code",
   "execution_count": 176,
   "metadata": {},
   "outputs": [],
   "source": [
    "if len(q) < 10:\n",
    "    cmap = palettes.Set3_11\n",
    "elif len(q) < 20:\n",
    "    cmap = list(unique_everseen(palettes.Set3_11 + palettes.Spectral11))\n",
    "else:\n",
    "    cmap = list(unique_everseen( palettes.Set3_11 + palettes.Spectral11 + palettes.Category20_20))\n",
    "\n",
    "comp_mapper = {i:idx for idx, i in enumerate(q.index.tolist())}\n",
    "source_idx_head_mapper = (\n",
    " q\n",
    " .assign(head=lambda df: df.apply(lambda x: ' '.join(s[x['head_s_idx']][\n",
    "        x['head_span'][0] - sum(l[:x['head_s_idx']]):\n",
    "        x['head_span'][1] - sum(l[:x['head_s_idx']])\n",
    "    ]\n",
    "    ), axis=1 ))\n",
    "    ['head'].to_dict()\n",
    ")\n",
    "\n",
    "span_df = (\n",
    " q\n",
    " .assign(q=lambda df: df.apply(lambda x: \n",
    "   list(map(lambda y: {'source': x.name, 'sent': y[0], 'span': y[1], 'type': 'quote'}, x['quote_chunks'] )), axis=1))\n",
    " .assign(b=lambda df: df.apply(lambda x: \n",
    "   list(map(lambda y: {'source': x.name, 'sent': y[0], 'span': y[1], 'type': 'background'}, x['background_chunks'] )), axis=1))\n",
    " .apply(lambda x: x['q'] + x['b'], axis=1)\n",
    " .pipe(lambda s: pd.DataFrame(c.flatten_list_of_lists(s.tolist())))\n",
    " .sort_values('sent', ascending=False)\n",
    " .assign(head=lambda df: df['source'].map(source_idx_head_mapper))\n",
    " .assign(source=lambda df: df['source'].map(comp_mapper))\n",
    ")"
   ]
  },
  {
   "cell_type": "code",
   "execution_count": 195,
   "metadata": {},
   "outputs": [
    {
     "data": {
      "text/plain": [
       "0"
      ]
     },
     "execution_count": 195,
     "metadata": {},
     "output_type": "execute_result"
    }
   ],
   "source": [
    "source_idx"
   ]
  },
  {
   "cell_type": "code",
   "execution_count": 196,
   "metadata": {
    "scrolled": true
   },
   "outputs": [
    {
     "data": {
      "text/html": [
       "<div>\n",
       "<style scoped>\n",
       "    .dataframe tbody tr th:only-of-type {\n",
       "        vertical-align: middle;\n",
       "    }\n",
       "\n",
       "    .dataframe tbody tr th {\n",
       "        vertical-align: top;\n",
       "    }\n",
       "\n",
       "    .dataframe thead th {\n",
       "        text-align: right;\n",
       "    }\n",
       "</style>\n",
       "<table border=\"1\" class=\"dataframe\">\n",
       "  <thead>\n",
       "    <tr style=\"text-align: right;\">\n",
       "      <th></th>\n",
       "      <th>source</th>\n",
       "      <th>sent</th>\n",
       "      <th>span</th>\n",
       "      <th>type</th>\n",
       "      <th>head</th>\n",
       "    </tr>\n",
       "  </thead>\n",
       "  <tbody>\n",
       "    <tr>\n",
       "      <th>22</th>\n",
       "      <td>3</td>\n",
       "      <td>75</td>\n",
       "      <td>(1400, 1401)</td>\n",
       "      <td>quote</td>\n",
       "      <td>Luis Parra</td>\n",
       "    </tr>\n",
       "    <tr>\n",
       "      <th>23</th>\n",
       "      <td>3</td>\n",
       "      <td>74</td>\n",
       "      <td>(1400, 1401)</td>\n",
       "      <td>quote</td>\n",
       "      <td>Luis Parra</td>\n",
       "    </tr>\n",
       "    <tr>\n",
       "      <th>24</th>\n",
       "      <td>3</td>\n",
       "      <td>73</td>\n",
       "      <td>(1400, 1401)</td>\n",
       "      <td>quote</td>\n",
       "      <td>Luis Parra</td>\n",
       "    </tr>\n",
       "    <tr>\n",
       "      <th>15</th>\n",
       "      <td>0</td>\n",
       "      <td>69</td>\n",
       "      <td>(1323, 1324)</td>\n",
       "      <td>quote</td>\n",
       "      <td>Marta Cisterna</td>\n",
       "    </tr>\n",
       "    <tr>\n",
       "      <th>1</th>\n",
       "      <td>0</td>\n",
       "      <td>68</td>\n",
       "      <td>(1323, 1324)</td>\n",
       "      <td>quote</td>\n",
       "      <td>Marta Cisterna</td>\n",
       "    </tr>\n",
       "    <tr>\n",
       "      <th>13</th>\n",
       "      <td>0</td>\n",
       "      <td>67</td>\n",
       "      <td>(1323, 1324)</td>\n",
       "      <td>quote</td>\n",
       "      <td>Marta Cisterna</td>\n",
       "    </tr>\n",
       "    <tr>\n",
       "      <th>2</th>\n",
       "      <td>0</td>\n",
       "      <td>66</td>\n",
       "      <td>(1323, 1324)</td>\n",
       "      <td>quote</td>\n",
       "      <td>Marta Cisterna</td>\n",
       "    </tr>\n",
       "    <tr>\n",
       "      <th>12</th>\n",
       "      <td>0</td>\n",
       "      <td>62</td>\n",
       "      <td>(1176, 1177)</td>\n",
       "      <td>quote</td>\n",
       "      <td>Marta Cisterna</td>\n",
       "    </tr>\n",
       "    <tr>\n",
       "      <th>17</th>\n",
       "      <td>0</td>\n",
       "      <td>61</td>\n",
       "      <td>(1176, 1177)</td>\n",
       "      <td>quote</td>\n",
       "      <td>Marta Cisterna</td>\n",
       "    </tr>\n",
       "    <tr>\n",
       "      <th>5</th>\n",
       "      <td>0</td>\n",
       "      <td>60</td>\n",
       "      <td>(1176, 1177)</td>\n",
       "      <td>quote</td>\n",
       "      <td>Marta Cisterna</td>\n",
       "    </tr>\n",
       "    <tr>\n",
       "      <th>8</th>\n",
       "      <td>0</td>\n",
       "      <td>59</td>\n",
       "      <td>(1176, 1177)</td>\n",
       "      <td>quote</td>\n",
       "      <td>Marta Cisterna</td>\n",
       "    </tr>\n",
       "    <tr>\n",
       "      <th>14</th>\n",
       "      <td>0</td>\n",
       "      <td>58</td>\n",
       "      <td>(1176, 1177)</td>\n",
       "      <td>quote</td>\n",
       "      <td>Marta Cisterna</td>\n",
       "    </tr>\n",
       "    <tr>\n",
       "      <th>6</th>\n",
       "      <td>0</td>\n",
       "      <td>55</td>\n",
       "      <td>(1109, 1110)</td>\n",
       "      <td>quote</td>\n",
       "      <td>Marta Cisterna</td>\n",
       "    </tr>\n",
       "    <tr>\n",
       "      <th>25</th>\n",
       "      <td>3</td>\n",
       "      <td>52</td>\n",
       "      <td>(1043, 1045)</td>\n",
       "      <td>quote</td>\n",
       "      <td>Luis Parra</td>\n",
       "    </tr>\n",
       "    <tr>\n",
       "      <th>19</th>\n",
       "      <td>2</td>\n",
       "      <td>46</td>\n",
       "      <td>(941, 942)</td>\n",
       "      <td>quote</td>\n",
       "      <td>Matías Sotelo</td>\n",
       "    </tr>\n",
       "    <tr>\n",
       "      <th>20</th>\n",
       "      <td>2</td>\n",
       "      <td>45</td>\n",
       "      <td>(889, 890)</td>\n",
       "      <td>quote</td>\n",
       "      <td>Matías Sotelo</td>\n",
       "    </tr>\n",
       "    <tr>\n",
       "      <th>21</th>\n",
       "      <td>2</td>\n",
       "      <td>44</td>\n",
       "      <td>(857, 859)</td>\n",
       "      <td>background</td>\n",
       "      <td>Matías Sotelo</td>\n",
       "    </tr>\n",
       "    <tr>\n",
       "      <th>18</th>\n",
       "      <td>1</td>\n",
       "      <td>42</td>\n",
       "      <td>(832, 834)</td>\n",
       "      <td>quote</td>\n",
       "      <td>Germán Chau</td>\n",
       "    </tr>\n",
       "    <tr>\n",
       "      <th>11</th>\n",
       "      <td>0</td>\n",
       "      <td>27</td>\n",
       "      <td>(506, 507)</td>\n",
       "      <td>quote</td>\n",
       "      <td>Marta Cisterna</td>\n",
       "    </tr>\n",
       "    <tr>\n",
       "      <th>10</th>\n",
       "      <td>0</td>\n",
       "      <td>26</td>\n",
       "      <td>(506, 507)</td>\n",
       "      <td>quote</td>\n",
       "      <td>Marta Cisterna</td>\n",
       "    </tr>\n",
       "    <tr>\n",
       "      <th>4</th>\n",
       "      <td>0</td>\n",
       "      <td>25</td>\n",
       "      <td>(506, 507)</td>\n",
       "      <td>quote</td>\n",
       "      <td>Marta Cisterna</td>\n",
       "    </tr>\n",
       "    <tr>\n",
       "      <th>7</th>\n",
       "      <td>0</td>\n",
       "      <td>24</td>\n",
       "      <td>(506, 507)</td>\n",
       "      <td>quote</td>\n",
       "      <td>Marta Cisterna</td>\n",
       "    </tr>\n",
       "    <tr>\n",
       "      <th>0</th>\n",
       "      <td>0</td>\n",
       "      <td>23</td>\n",
       "      <td>(506, 507)</td>\n",
       "      <td>quote</td>\n",
       "      <td>Marta Cisterna</td>\n",
       "    </tr>\n",
       "    <tr>\n",
       "      <th>9</th>\n",
       "      <td>0</td>\n",
       "      <td>8</td>\n",
       "      <td>(176, 178)</td>\n",
       "      <td>quote</td>\n",
       "      <td>Marta Cisterna</td>\n",
       "    </tr>\n",
       "    <tr>\n",
       "      <th>16</th>\n",
       "      <td>0</td>\n",
       "      <td>7</td>\n",
       "      <td>(176, 178)</td>\n",
       "      <td>quote</td>\n",
       "      <td>Marta Cisterna</td>\n",
       "    </tr>\n",
       "    <tr>\n",
       "      <th>3</th>\n",
       "      <td>0</td>\n",
       "      <td>6</td>\n",
       "      <td>(176, 178)</td>\n",
       "      <td>quote</td>\n",
       "      <td>Marta Cisterna</td>\n",
       "    </tr>\n",
       "  </tbody>\n",
       "</table>\n",
       "</div>"
      ],
      "text/plain": [
       "    source  sent          span        type            head\n",
       "22       3    75  (1400, 1401)       quote      Luis Parra\n",
       "23       3    74  (1400, 1401)       quote      Luis Parra\n",
       "24       3    73  (1400, 1401)       quote      Luis Parra\n",
       "15       0    69  (1323, 1324)       quote  Marta Cisterna\n",
       "1        0    68  (1323, 1324)       quote  Marta Cisterna\n",
       "13       0    67  (1323, 1324)       quote  Marta Cisterna\n",
       "2        0    66  (1323, 1324)       quote  Marta Cisterna\n",
       "12       0    62  (1176, 1177)       quote  Marta Cisterna\n",
       "17       0    61  (1176, 1177)       quote  Marta Cisterna\n",
       "5        0    60  (1176, 1177)       quote  Marta Cisterna\n",
       "8        0    59  (1176, 1177)       quote  Marta Cisterna\n",
       "14       0    58  (1176, 1177)       quote  Marta Cisterna\n",
       "6        0    55  (1109, 1110)       quote  Marta Cisterna\n",
       "25       3    52  (1043, 1045)       quote      Luis Parra\n",
       "19       2    46    (941, 942)       quote   Matías Sotelo\n",
       "20       2    45    (889, 890)       quote   Matías Sotelo\n",
       "21       2    44    (857, 859)  background   Matías Sotelo\n",
       "18       1    42    (832, 834)       quote     Germán Chau\n",
       "11       0    27    (506, 507)       quote  Marta Cisterna\n",
       "10       0    26    (506, 507)       quote  Marta Cisterna\n",
       "4        0    25    (506, 507)       quote  Marta Cisterna\n",
       "7        0    24    (506, 507)       quote  Marta Cisterna\n",
       "0        0    23    (506, 507)       quote  Marta Cisterna\n",
       "9        0     8    (176, 178)       quote  Marta Cisterna\n",
       "16       0     7    (176, 178)       quote  Marta Cisterna\n",
       "3        0     6    (176, 178)       quote  Marta Cisterna"
      ]
     },
     "execution_count": 196,
     "metadata": {},
     "output_type": "execute_result"
    }
   ],
   "source": [
    "span_df"
   ]
  },
  {
   "cell_type": "code",
   "execution_count": 197,
   "metadata": {},
   "outputs": [],
   "source": [
    "import numpy as np "
   ]
  },
  {
   "cell_type": "code",
   "execution_count": 200,
   "metadata": {},
   "outputs": [],
   "source": [
    "s_html = deepcopy(s)\n",
    "old_s_idx = None\n",
    "# quotes and backgrounds\n",
    "for idx, (source_idx, sent_idx, quote_span, quote_type, head) in span_df.iterrows():\n",
    "    if old_s_idx != sent_idx:\n",
    "        adj = sum(l[:sent_idx])\n",
    "    sent, adj = c.format_span_with_word_list(adj=adj, sent=s[sent_idx], span=quote_span, bold=True)\n",
    "    s_html[sent_idx] = {\n",
    "        'sent':' '.join(sent),\n",
    "        'type': quote_type.upper(),\n",
    "        'head': head,\n",
    "        'color': cmap[source_idx],\n",
    "        'source_idx': source_idx\n",
    "    }\n",
    "\n",
    "# regular\n",
    "for s_idx, sent in enumerate(s_html):\n",
    "    if isinstance(sent, list):\n",
    "        s_html[s_idx] = {\n",
    "            'sent': ' '.join(sent), \n",
    "            'type': '',\n",
    "            'source_idx': 'null'\n",
    "        }"
   ]
  },
  {
   "cell_type": "code",
   "execution_count": 183,
   "metadata": {
    "scrolled": true
   },
   "outputs": [
    {
     "ename": "TypeError",
     "evalue": "sequence item 0: expected str instance, dict found",
     "output_type": "error",
     "traceback": [
      "\u001b[0;31m---------------------------------------------------------------------------\u001b[0m",
      "\u001b[0;31mTypeError\u001b[0m                                 Traceback (most recent call last)",
      "\u001b[0;32m<ipython-input-183-01c8383edfa2>\u001b[0m in \u001b[0;36m<module>\u001b[0;34m\u001b[0m\n\u001b[0;32m----> 1\u001b[0;31m \u001b[0mdisplay\u001b[0m\u001b[0;34m(\u001b[0m\u001b[0mHTML\u001b[0m\u001b[0;34m(\u001b[0m\u001b[0;34m'<br><br>'\u001b[0m\u001b[0;34m.\u001b[0m\u001b[0mjoin\u001b[0m\u001b[0;34m(\u001b[0m\u001b[0ms_html\u001b[0m\u001b[0;34m)\u001b[0m\u001b[0;34m.\u001b[0m\u001b[0mreplace\u001b[0m\u001b[0;34m(\u001b[0m\u001b[0;34m'$'\u001b[0m\u001b[0;34m,\u001b[0m \u001b[0;34m'\\$'\u001b[0m\u001b[0;34m)\u001b[0m\u001b[0;34m)\u001b[0m\u001b[0;34m)\u001b[0m\u001b[0;34m\u001b[0m\u001b[0;34m\u001b[0m\u001b[0m\n\u001b[0m",
      "\u001b[0;31mTypeError\u001b[0m: sequence item 0: expected str instance, dict found"
     ]
    }
   ],
   "source": [
    "display(HTML('<br><br>'.join(s_html).replace('$', '\\$')))"
   ]
  },
  {
   "cell_type": "code",
   "execution_count": 201,
   "metadata": {},
   "outputs": [],
   "source": [
    "import json\n",
    "with open('../app/data/test-json.json', 'w') as f:\n",
    "    json.dump(s_html, f)"
   ]
  },
  {
   "cell_type": "code",
   "execution_count": null,
   "metadata": {},
   "outputs": [],
   "source": []
  },
  {
   "cell_type": "code",
   "execution_count": null,
   "metadata": {},
   "outputs": [],
   "source": []
  },
  {
   "cell_type": "code",
   "execution_count": null,
   "metadata": {},
   "outputs": [],
   "source": []
  }
 ],
 "metadata": {
  "hide_input": false,
  "kernelspec": {
   "display_name": "Python 3",
   "language": "python",
   "name": "python3"
  },
  "language_info": {
   "codemirror_mode": {
    "name": "ipython",
    "version": 3
   },
   "file_extension": ".py",
   "mimetype": "text/x-python",
   "name": "python",
   "nbconvert_exporter": "python",
   "pygments_lexer": "ipython3",
   "version": "3.7.6"
  }
 },
 "nbformat": 4,
 "nbformat_minor": 4
}
