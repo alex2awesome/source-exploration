{
 "cells": [
  {
   "cell_type": "code",
   "execution_count": 70,
   "metadata": {},
   "outputs": [],
   "source": [
    "import os\n",
    "import pandas as pd\n",
    "import glob\n",
    "from tqdm import tqdm_notebook as tqdm\n",
    "import xml.etree.ElementTree as ET\n",
    "import sys\n",
    "sys.path.append('../scripts/')\n",
    "import util\n",
    "import parsing_util"
   ]
  },
  {
   "cell_type": "code",
   "execution_count": 71,
   "metadata": {},
   "outputs": [],
   "source": [
    "from importlib import reload"
   ]
  },
  {
   "cell_type": "code",
   "execution_count": 72,
   "metadata": {},
   "outputs": [
    {
     "data": {
      "text/plain": [
       "<module 'parsing_util' from '../scripts\\\\parsing_util.py'>"
      ]
     },
     "execution_count": 72,
     "metadata": {},
     "output_type": "execute_result"
    }
   ],
   "source": [
    "reload(parsing_util)"
   ]
  },
  {
   "cell_type": "code",
   "execution_count": 7,
   "metadata": {},
   "outputs": [],
   "source": [
    "annotation_frames = '../models/metoo_icwsm2019/data/annotated_connotation_frames/'"
   ]
  },
  {
   "cell_type": "code",
   "execution_count": 9,
   "metadata": {},
   "outputs": [
    {
     "data": {
      "text/plain": [
       "['agency_power.csv',\n",
       " 'full_frame_info.txt',\n",
       " 'README_agency_power.md',\n",
       " 'readme_annotation_frames.txt']"
      ]
     },
     "execution_count": 9,
     "metadata": {},
     "output_type": "execute_result"
    }
   ],
   "source": [
    "os.listdir(annotation_frames)"
   ]
  },
  {
   "cell_type": "code",
   "execution_count": 16,
   "metadata": {},
   "outputs": [],
   "source": [
    "annotations_df = pd.read_csv(os.path.join(annotation_frames, 'full_frame_info.txt'), sep='\\t')"
   ]
  },
  {
   "cell_type": "code",
   "execution_count": 17,
   "metadata": {},
   "outputs": [
    {
     "data": {
      "text/html": [
       "<div>\n",
       "<style scoped>\n",
       "    .dataframe tbody tr th:only-of-type {\n",
       "        vertical-align: middle;\n",
       "    }\n",
       "\n",
       "    .dataframe tbody tr th {\n",
       "        vertical-align: top;\n",
       "    }\n",
       "\n",
       "    .dataframe thead th {\n",
       "        text-align: right;\n",
       "    }\n",
       "</style>\n",
       "<table border=\"1\" class=\"dataframe\">\n",
       "  <thead>\n",
       "    <tr style=\"text-align: right;\">\n",
       "      <th></th>\n",
       "      <th>verb</th>\n",
       "      <th>Perspective(wo)</th>\n",
       "      <th>Perspective(ws)</th>\n",
       "      <th>Perspective(so)</th>\n",
       "      <th>Effect(o)</th>\n",
       "      <th>Effect(s)</th>\n",
       "      <th>Value(o)</th>\n",
       "      <th>Value(s)</th>\n",
       "      <th>State(o)</th>\n",
       "      <th>State(s)</th>\n",
       "      <th>Perspective(ro)</th>\n",
       "      <th>Perspective(rs)</th>\n",
       "      <th>Perspective(os)</th>\n",
       "    </tr>\n",
       "  </thead>\n",
       "  <tbody>\n",
       "    <tr>\n",
       "      <th>0</th>\n",
       "      <td>have</td>\n",
       "      <td>0.366667</td>\n",
       "      <td>0.333333</td>\n",
       "      <td>0.466667</td>\n",
       "      <td>0.066667</td>\n",
       "      <td>0.200000</td>\n",
       "      <td>0.466667</td>\n",
       "      <td>0.600000</td>\n",
       "      <td>0.066667</td>\n",
       "      <td>0.366667</td>\n",
       "      <td>0.400000</td>\n",
       "      <td>0.366667</td>\n",
       "      <td>0.066667</td>\n",
       "    </tr>\n",
       "    <tr>\n",
       "      <th>1</th>\n",
       "      <td>say</td>\n",
       "      <td>0.000000</td>\n",
       "      <td>0.166667</td>\n",
       "      <td>0.066667</td>\n",
       "      <td>0.133333</td>\n",
       "      <td>0.066667</td>\n",
       "      <td>0.066667</td>\n",
       "      <td>1.000000</td>\n",
       "      <td>0.000000</td>\n",
       "      <td>0.100000</td>\n",
       "      <td>0.033333</td>\n",
       "      <td>0.266667</td>\n",
       "      <td>0.000000</td>\n",
       "    </tr>\n",
       "    <tr>\n",
       "      <th>2</th>\n",
       "      <td>make</td>\n",
       "      <td>-0.066667</td>\n",
       "      <td>0.100000</td>\n",
       "      <td>0.100000</td>\n",
       "      <td>0.466667</td>\n",
       "      <td>-0.066667</td>\n",
       "      <td>0.200000</td>\n",
       "      <td>1.000000</td>\n",
       "      <td>0.000000</td>\n",
       "      <td>0.166667</td>\n",
       "      <td>-0.033333</td>\n",
       "      <td>0.200000</td>\n",
       "      <td>0.000000</td>\n",
       "    </tr>\n",
       "    <tr>\n",
       "      <th>3</th>\n",
       "      <td>take</td>\n",
       "      <td>0.500000</td>\n",
       "      <td>0.600000</td>\n",
       "      <td>0.800000</td>\n",
       "      <td>0.133333</td>\n",
       "      <td>0.600000</td>\n",
       "      <td>0.466667</td>\n",
       "      <td>0.600000</td>\n",
       "      <td>0.033333</td>\n",
       "      <td>0.666667</td>\n",
       "      <td>0.500000</td>\n",
       "      <td>0.566667</td>\n",
       "      <td>0.066667</td>\n",
       "    </tr>\n",
       "    <tr>\n",
       "      <th>4</th>\n",
       "      <td>go</td>\n",
       "      <td>0.066667</td>\n",
       "      <td>0.133333</td>\n",
       "      <td>0.200000</td>\n",
       "      <td>0.000000</td>\n",
       "      <td>0.066667</td>\n",
       "      <td>-0.066667</td>\n",
       "      <td>0.466667</td>\n",
       "      <td>-0.100000</td>\n",
       "      <td>0.033333</td>\n",
       "      <td>0.066667</td>\n",
       "      <td>0.066667</td>\n",
       "      <td>-0.100000</td>\n",
       "    </tr>\n",
       "  </tbody>\n",
       "</table>\n",
       "</div>"
      ],
      "text/plain": [
       "   verb  Perspective(wo)  Perspective(ws)  Perspective(so)  Effect(o)  \\\n",
       "0  have         0.366667         0.333333         0.466667   0.066667   \n",
       "1   say         0.000000         0.166667         0.066667   0.133333   \n",
       "2  make        -0.066667         0.100000         0.100000   0.466667   \n",
       "3  take         0.500000         0.600000         0.800000   0.133333   \n",
       "4    go         0.066667         0.133333         0.200000   0.000000   \n",
       "\n",
       "   Effect(s)  Value(o)  Value(s)  State(o)  State(s)  Perspective(ro)  \\\n",
       "0   0.200000  0.466667  0.600000  0.066667  0.366667         0.400000   \n",
       "1   0.066667  0.066667  1.000000  0.000000  0.100000         0.033333   \n",
       "2  -0.066667  0.200000  1.000000  0.000000  0.166667        -0.033333   \n",
       "3   0.600000  0.466667  0.600000  0.033333  0.666667         0.500000   \n",
       "4   0.066667 -0.066667  0.466667 -0.100000  0.033333         0.066667   \n",
       "\n",
       "   Perspective(rs)  Perspective(os)  \n",
       "0         0.366667         0.066667  \n",
       "1         0.266667         0.000000  \n",
       "2         0.200000         0.000000  \n",
       "3         0.566667         0.066667  \n",
       "4         0.066667        -0.100000  "
      ]
     },
     "execution_count": 17,
     "metadata": {},
     "output_type": "execute_result"
    }
   ],
   "source": [
    "annotations_df.head()"
   ]
  },
  {
   "cell_type": "code",
   "execution_count": 25,
   "metadata": {},
   "outputs": [],
   "source": [
    "# os.listdir('../data/news-article-flatlist/stanford-parses/')"
   ]
  },
  {
   "cell_type": "code",
   "execution_count": 73,
   "metadata": {},
   "outputs": [
    {
     "data": {
      "application/vnd.jupyter.widget-view+json": {
       "model_id": "972dfaa812ff46548f8387a5924c0e5d",
       "version_major": 2,
       "version_minor": 0
      },
      "text/plain": [
       "HBox(children=(IntProgress(value=0, max=2172), HTML(value='')))"
      ]
     },
     "metadata": {},
     "output_type": "display_data"
    },
    {
     "name": "stdout",
     "output_type": "stream",
     "text": [
      "\n"
     ]
    }
   ],
   "source": [
    "stanford_files = glob.glob('../data/news-article-flatlist/stanford-parses/*')\n",
    "source_verbs_output = []\n",
    "\n",
    "for stanford_parse in tqdm( stanford_files, total=len(stanford_files)):\n",
    "    fn = os.path.basename(stanford_parse).replace('.txt.xml', '')\n",
    "    data = open(stanford_parse, encoding='utf-8').read()\n",
    "    doc_etree = ET.fromstring(data)\n",
    "    \n",
    "    ## parse\n",
    "    sents_list, named_ents_list, lemmas, pos_tags, deps = parsing_util.parse_etree(doc_etree)\n",
    "    stanford_corefs = parsing_util.convert_coref(doc_etree=doc_etree, sentences=sents_list)\n",
    "    \n",
    "    ## group\n",
    "    named_entity_clusters = parsing_util.extract_and_merge_ners(named_ents_list, sents_list, stanford_corefs)\n",
    "    named_entity_clusters = parsing_util.extract_quotes_for_each_ner(named_entity_clusters, lemmas, pos_tags, deps)\n",
    "    \n",
    "    ## get all verbs associated with sources\n",
    "    for source_name, mentions in list(filter(lambda x: len(x[1]['speaking_vbs']) > 0, named_entity_clusters.items())):\n",
    "        for vb in mentions['all_vbs']:\n",
    "            vb_lemm = lemmas[vb['sentence']][vb['verb_idx']]\n",
    "            source_verbs_output.append({\n",
    "                \"source\": source_name,\n",
    "                \"doc_id\": fn,\n",
    "                \"verb_lemma\": vb_lemm\n",
    "            })"
   ]
  },
  {
   "cell_type": "code",
   "execution_count": 57,
   "metadata": {},
   "outputs": [],
   "source": [
    "source_verbs_output_df = pd.DataFrame(source_verbs_output)"
   ]
  },
  {
   "cell_type": "code",
   "execution_count": 63,
   "metadata": {},
   "outputs": [
    {
     "data": {
      "text/plain": [
       "say              22846\n",
       "have              1457\n",
       "tell              1094\n",
       "add                679\n",
       "make               657\n",
       "call               573\n",
       "take               552\n",
       "do                 545\n",
       "want               506\n",
       "ask                474\n",
       "go                 470\n",
       "know               456\n",
       "think              444\n",
       "see                365\n",
       "try                355\n",
       "get                336\n",
       "write              331\n",
       "give               330\n",
       "leave              309\n",
       "speak              307\n",
       "be                 301\n",
       "meet               294\n",
       "believe            291\n",
       "come               286\n",
       "become             284\n",
       "find               276\n",
       "seem               276\n",
       "describe           270\n",
       "begin              268\n",
       "recall             252\n",
       "                 ...  \n",
       "expert               4\n",
       "mad                  4\n",
       "overcome             4\n",
       "justify              4\n",
       "foreigner            4\n",
       "prepared             4\n",
       "71                   4\n",
       "impressed            4\n",
       "overrule             4\n",
       "jewish               4\n",
       "strip                4\n",
       "exception            4\n",
       "bloom                4\n",
       "halt                 4\n",
       "home                 4\n",
       "frame                4\n",
       "left                 4\n",
       "cancel               4\n",
       "moonlight            4\n",
       "exit                 4\n",
       "spy                  4\n",
       "freeze               4\n",
       "enrich               4\n",
       "eligible             4\n",
       "honest               4\n",
       "central              4\n",
       "uncomfortable        4\n",
       "grope                4\n",
       "heap                 4\n",
       "product              4\n",
       "Name: verb_lemma, Length: 1173, dtype: int64"
      ]
     },
     "execution_count": 63,
     "metadata": {},
     "output_type": "execute_result"
    }
   ],
   "source": [
    "source_verbs_output_df['verb_lemma'].value_counts().loc[lambda s: s>3]"
   ]
  },
  {
   "cell_type": "code",
   "execution_count": null,
   "metadata": {},
   "outputs": [],
   "source": []
  }
 ],
 "metadata": {
  "hide_input": false,
  "kernelspec": {
   "display_name": "Python 3",
   "language": "python",
   "name": "python3"
  },
  "language_info": {
   "codemirror_mode": {
    "name": "ipython",
    "version": 3
   },
   "file_extension": ".py",
   "mimetype": "text/x-python",
   "name": "python",
   "nbconvert_exporter": "python",
   "pygments_lexer": "ipython3",
   "version": "3.7.3"
  },
  "latex_envs": {
   "LaTeX_envs_menu_present": true,
   "autoclose": false,
   "autocomplete": true,
   "bibliofile": "biblio.bib",
   "cite_by": "apalike",
   "current_citInitial": 1,
   "eqLabelWithNumbers": true,
   "eqNumInitial": 1,
   "hotkeys": {
    "equation": "Ctrl-E",
    "itemize": "Ctrl-I"
   },
   "labels_anchors": false,
   "latex_user_defs": false,
   "report_style_numbering": false,
   "user_envs_cfg": false
  }
 },
 "nbformat": 4,
 "nbformat_minor": 2
}
