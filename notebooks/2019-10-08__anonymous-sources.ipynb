{
 "cells": [
  {
   "cell_type": "code",
   "execution_count": 26,
   "metadata": {},
   "outputs": [],
   "source": [
    "import glob, os, sys\n",
    "import xml.etree.ElementTree as ET\n",
    "from tqdm import tqdm_notebook as tqdm\n",
    "sys.path.append('../scripts/')\n",
    "import util\n",
    "import parsing_util\n",
    "import pandas as pd"
   ]
  },
  {
   "cell_type": "code",
   "execution_count": 18,
   "metadata": {},
   "outputs": [
    {
     "data": {
      "application/vnd.jupyter.widget-view+json": {
       "model_id": "03c14784f63e41fb977ebce757d49469",
       "version_major": 2,
       "version_minor": 0
      },
      "text/plain": [
       "HBox(children=(IntProgress(value=0, max=2172), HTML(value='')))"
      ]
     },
     "metadata": {},
     "output_type": "display_data"
    }
   ],
   "source": [
    "stanford_files = glob.glob('../data/news-article-flatlist/stanford-parses/*')\n",
    "source_summary_output = []\n",
    "source_sentences_output = []\n",
    "for idx, stanford_parse in tqdm( enumerate(stanford_files), total=len(stanford_files)):\n",
    "    fn = os.path.basename(stanford_parse).replace('.txt.xml', '')\n",
    "    data = open(stanford_parse, encoding='utf-8').read()\n",
    "    doc_etree = ET.fromstring(data)\n",
    "    ## parse\n",
    "    sents_list, named_ents_list, lemmas, pos_tags, deps = parsing_util.parse_etree(doc_etree)\n",
    "    stanford_corefs = parsing_util.convert_coref(doc_etree=doc_etree, sentences=sents_list)\n",
    "    if len(list(filter(lambda x: \n",
    "#                        'unnamed' in x or \n",
    "                       'anonymous' in x, lemmas))) > 0:\n",
    "        break"
   ]
  },
  {
   "cell_type": "code",
   "execution_count": 24,
   "metadata": {},
   "outputs": [
    {
     "data": {
      "text/plain": [
       "['csvs.tar.gz',\n",
       " 'docs',\n",
       " 'dtd',\n",
       " 'index.html',\n",
       " 'tools',\n",
       " 'unprocessed_full_data_df.csv']"
      ]
     },
     "execution_count": 24,
     "metadata": {},
     "output_type": "execute_result"
    }
   ],
   "source": [
    "os.listdir('../../newspaper-pages/nyt_corpus/')"
   ]
  },
  {
   "cell_type": "code",
   "execution_count": null,
   "metadata": {},
   "outputs": [],
   "source": []
  },
  {
   "cell_type": "code",
   "execution_count": 27,
   "metadata": {},
   "outputs": [
    {
     "name": "stderr",
     "output_type": "stream",
     "text": [
      "C:\\ProgramData\\Anaconda3\\lib\\site-packages\\IPython\\core\\interactiveshell.py:3057: DtypeWarning: Columns (1,4,7) have mixed types. Specify dtype option on import or set low_memory=False.\n",
      "  interactivity=interactivity, compiler=compiler, result=result)\n"
     ]
    }
   ],
   "source": [
    "full_df = pd.read_csv('../../newspaper-pages/nyt_corpus/unprocessed_full_data_df.csv')"
   ]
  },
  {
   "cell_type": "code",
   "execution_count": 29,
   "metadata": {},
   "outputs": [
    {
     "data": {
      "text/plain": [
       "Index(['pub_date', 'alternate_url', 'banner', 'body', 'column_name',\n",
       "       'correction_date', 'dsk', 'feature_page', 'headline', 'id',\n",
       "       'online_sections', 'print_column', 'print_page_number', 'print_section',\n",
       "       'print_section_and_page', 'publication_day_of_month',\n",
       "       'publication_day_of_week', 'publication_month', 'publication_year',\n",
       "       'series_name', 'slug'],\n",
       "      dtype='object')"
      ]
     },
     "execution_count": 29,
     "metadata": {},
     "output_type": "execute_result"
    }
   ],
   "source": [
    "full_df.columns"
   ]
  },
  {
   "cell_type": "code",
   "execution_count": null,
   "metadata": {},
   "outputs": [],
   "source": [
    "\n"
   ]
  }
 ],
 "metadata": {
  "hide_input": false,
  "kernelspec": {
   "display_name": "Python 3",
   "language": "python",
   "name": "python3"
  },
  "language_info": {
   "codemirror_mode": {
    "name": "ipython",
    "version": 3
   },
   "file_extension": ".py",
   "mimetype": "text/x-python",
   "name": "python",
   "nbconvert_exporter": "python",
   "pygments_lexer": "ipython3",
   "version": "3.7.3"
  },
  "latex_envs": {
   "LaTeX_envs_menu_present": true,
   "autoclose": false,
   "autocomplete": true,
   "bibliofile": "biblio.bib",
   "cite_by": "apalike",
   "current_citInitial": 1,
   "eqLabelWithNumbers": true,
   "eqNumInitial": 1,
   "hotkeys": {
    "equation": "Ctrl-E",
    "itemize": "Ctrl-I"
   },
   "labels_anchors": false,
   "latex_user_defs": false,
   "report_style_numbering": false,
   "user_envs_cfg": false
  }
 },
 "nbformat": 4,
 "nbformat_minor": 2
}
