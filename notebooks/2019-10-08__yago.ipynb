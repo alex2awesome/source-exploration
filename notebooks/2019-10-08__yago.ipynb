{
 "cells": [
  {
   "cell_type": "code",
   "execution_count": 186,
   "metadata": {},
   "outputs": [],
   "source": [
    "import pandas as pd\n",
    "import glob, os, sys\n",
    "import xml.etree.ElementTree as ET\n",
    "from tqdm import tqdm_notebook as tqdm\n",
    "sys.path.append('../scripts/')\n",
    "import util\n",
    "import parsing_util\n",
    "from SPARQLWrapper import SPARQLWrapper, JSON\n",
    "from IPython.display import HTML, display, display_html\n",
    "import json\n",
    "import pyperclip\n",
    "import numpy as np"
   ]
  },
  {
   "cell_type": "code",
   "execution_count": 83,
   "metadata": {},
   "outputs": [
    {
     "data": {
      "application/vnd.jupyter.widget-view+json": {
       "model_id": "2a8ca80b340642ffa228602f82cd58b0",
       "version_major": 2,
       "version_minor": 0
      },
      "text/plain": [
       "HBox(children=(IntProgress(value=0, max=2172), HTML(value='')))"
      ]
     },
     "metadata": {},
     "output_type": "display_data"
    },
    {
     "name": "stdout",
     "output_type": "stream",
     "text": [
      "\n"
     ]
    }
   ],
   "source": [
    "stanford_files = glob.glob('../data/news-article-flatlist/stanford-parses/*')\n",
    "source_summary_output = []\n",
    "source_sentences_output = []\n",
    "for idx, stanford_parse in tqdm( enumerate(stanford_files), total=len(stanford_files)):\n",
    "    \n",
    "    if idx  > 3:\n",
    "        break"
   ]
  },
  {
   "cell_type": "code",
   "execution_count": 103,
   "metadata": {},
   "outputs": [],
   "source": [
    "sent_idx = 5\n",
    "sent_to_ents = list(zip(sents_list[sent_idx], named_ents_list[sent_idx]))\n",
    "orgs = get_contiguous_organizations(sent_to_ents)"
   ]
  },
  {
   "cell_type": "code",
   "execution_count": 187,
   "metadata": {},
   "outputs": [
    {
     "data": {
      "text/html": [
       "<div>\n",
       "<style scoped>\n",
       "    .dataframe tbody tr th:only-of-type {\n",
       "        vertical-align: middle;\n",
       "    }\n",
       "\n",
       "    .dataframe tbody tr th {\n",
       "        vertical-align: top;\n",
       "    }\n",
       "\n",
       "    .dataframe thead th {\n",
       "        text-align: right;\n",
       "    }\n",
       "</style>\n",
       "<table border=\"1\" class=\"dataframe\">\n",
       "  <thead>\n",
       "    <tr style=\"text-align: right;\">\n",
       "      <th></th>\n",
       "      <th>organization</th>\n",
       "      <th>type</th>\n",
       "      <th>val</th>\n",
       "    </tr>\n",
       "  </thead>\n",
       "  <tbody>\n",
       "    <tr>\n",
       "      <th>0</th>\n",
       "      <td>{'type': 'uri', 'value': 'http://yago-knowledg...</td>\n",
       "      <td>{'type': 'uri', 'value': 'http://www.w3.org/20...</td>\n",
       "      <td>http://www.w3.org/2002/07/owl#Thing</td>\n",
       "    </tr>\n",
       "    <tr>\n",
       "      <th>1</th>\n",
       "      <td>{'type': 'uri', 'value': 'http://yago-knowledg...</td>\n",
       "      <td>{'type': 'uri', 'value': 'http://yago-knowledg...</td>\n",
       "      <td>/wordnet_geographical_area_108574314</td>\n",
       "    </tr>\n",
       "    <tr>\n",
       "      <th>2</th>\n",
       "      <td>{'type': 'uri', 'value': 'http://yago-knowledg...</td>\n",
       "      <td>{'type': 'uri', 'value': 'http://yago-knowledg...</td>\n",
       "      <td>/wordnet_location_100027167</td>\n",
       "    </tr>\n",
       "    <tr>\n",
       "      <th>3</th>\n",
       "      <td>{'type': 'uri', 'value': 'http://yago-knowledg...</td>\n",
       "      <td>{'type': 'uri', 'value': 'http://yago-knowledg...</td>\n",
       "      <td>/yagoGeoEntity</td>\n",
       "    </tr>\n",
       "    <tr>\n",
       "      <th>4</th>\n",
       "      <td>{'type': 'uri', 'value': 'http://yago-knowledg...</td>\n",
       "      <td>{'type': 'uri', 'value': 'http://yago-knowledg...</td>\n",
       "      <td>/wordnet_physical_entity_100001930</td>\n",
       "    </tr>\n",
       "  </tbody>\n",
       "</table>\n",
       "</div>"
      ],
      "text/plain": [
       "                                        organization  \\\n",
       "0  {'type': 'uri', 'value': 'http://yago-knowledg...   \n",
       "1  {'type': 'uri', 'value': 'http://yago-knowledg...   \n",
       "2  {'type': 'uri', 'value': 'http://yago-knowledg...   \n",
       "3  {'type': 'uri', 'value': 'http://yago-knowledg...   \n",
       "4  {'type': 'uri', 'value': 'http://yago-knowledg...   \n",
       "\n",
       "                                                type  \\\n",
       "0  {'type': 'uri', 'value': 'http://www.w3.org/20...   \n",
       "1  {'type': 'uri', 'value': 'http://yago-knowledg...   \n",
       "2  {'type': 'uri', 'value': 'http://yago-knowledg...   \n",
       "3  {'type': 'uri', 'value': 'http://yago-knowledg...   \n",
       "4  {'type': 'uri', 'value': 'http://yago-knowledg...   \n",
       "\n",
       "                                    val  \n",
       "0   http://www.w3.org/2002/07/owl#Thing  \n",
       "1  /wordnet_geographical_area_108574314  \n",
       "2           /wordnet_location_100027167  \n",
       "3                        /yagoGeoEntity  \n",
       "4    /wordnet_physical_entity_100001930  "
      ]
     },
     "execution_count": 187,
     "metadata": {},
     "output_type": "execute_result"
    }
   ],
   "source": [
    "query_yago_for_organization(orgs[1]).head()"
   ]
  },
  {
   "cell_type": "markdown",
   "metadata": {},
   "source": [
    "# Look at tagged files"
   ]
  },
  {
   "cell_type": "code",
   "execution_count": 113,
   "metadata": {},
   "outputs": [],
   "source": [
    "tagged_files = glob.glob('../app/data/*-marke*')\n",
    "tags = []\n",
    "for f in tagged_files:\n",
    "    tags.extend(json.load(open(f)))\n",
    "\n",
    "tags_df = pd.DataFrame(tags)\n",
    "legit_tagged_sources = (\n",
    "    tags_df\n",
    "        .groupby('person')[['question_class', 'label']]\n",
    "        .apply(lambda df: dict(df.itertuples(index=False)))\n",
    "        .apply(pd.Series)\n",
    "        .fillna('')\n",
    "        .loc[lambda df: df['error'] == 'legit']\n",
    ")\n",
    "\n",
    "legit_tagged_sources = (\n",
    "    legit_tagged_sources\n",
    "        .reset_index()\n",
    "        .assign(person=lambda df: df['person'].str.replace('-', ' '))\n",
    ")"
   ]
  },
  {
   "cell_type": "code",
   "execution_count": 167,
   "metadata": {},
   "outputs": [
    {
     "data": {
      "text/html": [
       "<div>\n",
       "<style scoped>\n",
       "    .dataframe tbody tr th:only-of-type {\n",
       "        vertical-align: middle;\n",
       "    }\n",
       "\n",
       "    .dataframe tbody tr th {\n",
       "        vertical-align: top;\n",
       "    }\n",
       "\n",
       "    .dataframe thead th {\n",
       "        text-align: right;\n",
       "    }\n",
       "</style>\n",
       "<table border=\"1\" class=\"dataframe\">\n",
       "  <thead>\n",
       "    <tr style=\"text-align: right;\">\n",
       "      <th></th>\n",
       "      <th>person</th>\n",
       "      <th>error</th>\n",
       "      <th>affiliation</th>\n",
       "      <th>gov-branch</th>\n",
       "      <th>gov-person-role</th>\n",
       "      <th>victim-person-role</th>\n",
       "      <th>academic-person-role</th>\n",
       "      <th>witness-person-role</th>\n",
       "      <th>actor-affiliation-type</th>\n",
       "      <th>actor-individual-person-role</th>\n",
       "      <th>actor-group-person-role</th>\n",
       "      <th>corporate-person-role</th>\n",
       "      <th>lawyer-role</th>\n",
       "      <th>ngo-person-role</th>\n",
       "      <th>stance</th>\n",
       "      <th>current</th>\n",
       "    </tr>\n",
       "  </thead>\n",
       "  <tbody>\n",
       "    <tr>\n",
       "      <th>0</th>\n",
       "      <td>Adolfo Calero</td>\n",
       "      <td>legit</td>\n",
       "      <td>actor</td>\n",
       "      <td></td>\n",
       "      <td></td>\n",
       "      <td></td>\n",
       "      <td></td>\n",
       "      <td></td>\n",
       "      <td>group</td>\n",
       "      <td></td>\n",
       "      <td>leader</td>\n",
       "      <td></td>\n",
       "      <td></td>\n",
       "      <td></td>\n",
       "      <td>informational</td>\n",
       "      <td>current</td>\n",
       "    </tr>\n",
       "    <tr>\n",
       "      <th>1</th>\n",
       "      <td>Adrian Ostfeld</td>\n",
       "      <td>legit</td>\n",
       "      <td>academic</td>\n",
       "      <td></td>\n",
       "      <td></td>\n",
       "      <td></td>\n",
       "      <td>other</td>\n",
       "      <td></td>\n",
       "      <td></td>\n",
       "      <td></td>\n",
       "      <td></td>\n",
       "      <td></td>\n",
       "      <td></td>\n",
       "      <td></td>\n",
       "      <td>informational</td>\n",
       "      <td>current</td>\n",
       "    </tr>\n",
       "    <tr>\n",
       "      <th>2</th>\n",
       "      <td>Alan Cranston</td>\n",
       "      <td>legit</td>\n",
       "      <td>government</td>\n",
       "      <td>legislative</td>\n",
       "      <td>decision-maker</td>\n",
       "      <td></td>\n",
       "      <td></td>\n",
       "      <td></td>\n",
       "      <td></td>\n",
       "      <td></td>\n",
       "      <td></td>\n",
       "      <td></td>\n",
       "      <td></td>\n",
       "      <td></td>\n",
       "      <td>opposing</td>\n",
       "      <td></td>\n",
       "    </tr>\n",
       "    <tr>\n",
       "      <th>3</th>\n",
       "      <td>Albert R. Brashear</td>\n",
       "      <td>legit</td>\n",
       "      <td>government</td>\n",
       "      <td>executive</td>\n",
       "      <td>spokesman</td>\n",
       "      <td></td>\n",
       "      <td></td>\n",
       "      <td></td>\n",
       "      <td></td>\n",
       "      <td></td>\n",
       "      <td></td>\n",
       "      <td></td>\n",
       "      <td></td>\n",
       "      <td></td>\n",
       "      <td>supporting</td>\n",
       "      <td></td>\n",
       "    </tr>\n",
       "    <tr>\n",
       "      <th>4</th>\n",
       "      <td>Allan Hoffenblum</td>\n",
       "      <td>legit</td>\n",
       "      <td>corporate</td>\n",
       "      <td></td>\n",
       "      <td></td>\n",
       "      <td></td>\n",
       "      <td></td>\n",
       "      <td></td>\n",
       "      <td></td>\n",
       "      <td></td>\n",
       "      <td></td>\n",
       "      <td>analyst</td>\n",
       "      <td></td>\n",
       "      <td></td>\n",
       "      <td>informational</td>\n",
       "      <td>current</td>\n",
       "    </tr>\n",
       "  </tbody>\n",
       "</table>\n",
       "</div>"
      ],
      "text/plain": [
       "               person  error affiliation   gov-branch gov-person-role  \\\n",
       "0       Adolfo Calero  legit       actor                                \n",
       "1      Adrian Ostfeld  legit    academic                                \n",
       "2       Alan Cranston  legit  government  legislative  decision-maker   \n",
       "3  Albert R. Brashear  legit  government    executive       spokesman   \n",
       "4    Allan Hoffenblum  legit   corporate                                \n",
       "\n",
       "  victim-person-role academic-person-role witness-person-role  \\\n",
       "0                                                               \n",
       "1                                   other                       \n",
       "2                                                               \n",
       "3                                                               \n",
       "4                                                               \n",
       "\n",
       "  actor-affiliation-type actor-individual-person-role actor-group-person-role  \\\n",
       "0                  group                                               leader   \n",
       "1                                                                               \n",
       "2                                                                               \n",
       "3                                                                               \n",
       "4                                                                               \n",
       "\n",
       "  corporate-person-role lawyer-role ngo-person-role         stance  current  \n",
       "0                                                    informational  current  \n",
       "1                                                    informational  current  \n",
       "2                                                         opposing           \n",
       "3                                                       supporting           \n",
       "4               analyst                              informational  current  "
      ]
     },
     "execution_count": 167,
     "metadata": {},
     "output_type": "execute_result"
    }
   ],
   "source": [
    "legit_tagged_sources.head()"
   ]
  },
  {
   "cell_type": "code",
   "execution_count": 168,
   "metadata": {
    "scrolled": true
   },
   "outputs": [
    {
     "data": {
      "text/html": [
       "<div>\n",
       "<style scoped>\n",
       "    .dataframe tbody tr th:only-of-type {\n",
       "        vertical-align: middle;\n",
       "    }\n",
       "\n",
       "    .dataframe tbody tr th {\n",
       "        vertical-align: top;\n",
       "    }\n",
       "\n",
       "    .dataframe thead th {\n",
       "        text-align: right;\n",
       "    }\n",
       "</style>\n",
       "<table border=\"1\" class=\"dataframe\">\n",
       "  <thead>\n",
       "    <tr style=\"text-align: right;\">\n",
       "      <th></th>\n",
       "      <th>doc_id</th>\n",
       "      <th>label</th>\n",
       "      <th>person</th>\n",
       "      <th>question_class</th>\n",
       "    </tr>\n",
       "  </thead>\n",
       "  <tbody>\n",
       "    <tr>\n",
       "      <th>0</th>\n",
       "      <td>84ba3ba0-c916-11e9-b04b-b831b5755f6c</td>\n",
       "      <td>legit</td>\n",
       "      <td>Junior-Bush</td>\n",
       "      <td>error</td>\n",
       "    </tr>\n",
       "    <tr>\n",
       "      <th>1</th>\n",
       "      <td>84ba3ba0-c916-11e9-b04b-b831b5755f6c</td>\n",
       "      <td>government</td>\n",
       "      <td>Junior-Bush</td>\n",
       "      <td>affiliation</td>\n",
       "    </tr>\n",
       "    <tr>\n",
       "      <th>2</th>\n",
       "      <td>84ba3ba0-c916-11e9-b04b-b831b5755f6c</td>\n",
       "      <td>executive</td>\n",
       "      <td>Junior-Bush</td>\n",
       "      <td>gov-branch</td>\n",
       "    </tr>\n",
       "    <tr>\n",
       "      <th>3</th>\n",
       "      <td>84ba3ba0-c916-11e9-b04b-b831b5755f6c</td>\n",
       "      <td>decision-maker</td>\n",
       "      <td>Junior-Bush</td>\n",
       "      <td>gov-person-role</td>\n",
       "    </tr>\n",
       "    <tr>\n",
       "      <th>4</th>\n",
       "      <td>84ba3ba0-c916-11e9-b04b-b831b5755f6c</td>\n",
       "      <td>NaN</td>\n",
       "      <td>Junior-Bush</td>\n",
       "      <td>victim-person-role</td>\n",
       "    </tr>\n",
       "  </tbody>\n",
       "</table>\n",
       "</div>"
      ],
      "text/plain": [
       "                                 doc_id           label       person  \\\n",
       "0  84ba3ba0-c916-11e9-b04b-b831b5755f6c           legit  Junior-Bush   \n",
       "1  84ba3ba0-c916-11e9-b04b-b831b5755f6c      government  Junior-Bush   \n",
       "2  84ba3ba0-c916-11e9-b04b-b831b5755f6c       executive  Junior-Bush   \n",
       "3  84ba3ba0-c916-11e9-b04b-b831b5755f6c  decision-maker  Junior-Bush   \n",
       "4  84ba3ba0-c916-11e9-b04b-b831b5755f6c             NaN  Junior-Bush   \n",
       "\n",
       "       question_class  \n",
       "0               error  \n",
       "1         affiliation  \n",
       "2          gov-branch  \n",
       "3     gov-person-role  \n",
       "4  victim-person-role  "
      ]
     },
     "execution_count": 168,
     "metadata": {},
     "output_type": "execute_result"
    }
   ],
   "source": [
    "tags_df.head()"
   ]
  },
  {
   "cell_type": "code",
   "execution_count": 149,
   "metadata": {},
   "outputs": [],
   "source": [
    "untagged_files = glob.glob('../app/data/*-unmarke*')"
   ]
  },
  {
   "cell_type": "code",
   "execution_count": 156,
   "metadata": {},
   "outputs": [],
   "source": [
    "untagged_df = pd.concat([pd.DataFrame(json.load(open(f))) for f in untagged_files])"
   ]
  },
  {
   "cell_type": "code",
   "execution_count": 173,
   "metadata": {},
   "outputs": [
    {
     "data": {
      "text/plain": [
       "41          David Bar Illan\n",
       "180    Sheila Evans Tranumn\n",
       "205        Yossi Ben Aharon\n",
       "Name: person, dtype: object"
      ]
     },
     "execution_count": 173,
     "metadata": {},
     "output_type": "execute_result"
    }
   ],
   "source": [
    "(legit_tagged_sources['person']\n",
    " .loc[lambda s: ~s.isin(untagged_df['person'])]\n",
    ")"
   ]
  },
  {
   "cell_type": "code",
   "execution_count": 176,
   "metadata": {},
   "outputs": [],
   "source": [
    "legit_tagged_sources_full = legit_tagged_sources.merge(untagged_df, how='left', left_on='person', right_on='person')"
   ]
  },
  {
   "cell_type": "code",
   "execution_count": 194,
   "metadata": {},
   "outputs": [
    {
     "data": {
      "text/html": [
       "<h3>person: Fyodor M. Burlatsky</h3><b>lead paragraph:</b><br>LEAD: American diplomats here are bracing for an explosive increase in Soviet emigration to the United States under a law now being drafted that would lift long-standing restrictions on who can leave the country. <br><br><b>sentence:</b><br>Fyodor M. <span style=\"background-color: #FFFF00\">Burlatsky</span> , chairman of the Soviet Human Rights Commission , <span style=\"background-color: #ADD8E6\">said</span> the proposed changes had been approved by the Government and are likely to be presented to the Supreme Soviet , the revamped national legislature , later this year ."
      ],
      "text/plain": [
       "<IPython.core.display.HTML object>"
      ]
     },
     "metadata": {},
     "output_type": "display_data"
    }
   ],
   "source": [
    "display(HTML(\n",
    "    legit_tagged_sources_full\n",
    "        .loc[lambda df: df['affiliation']=='ngo']\n",
    "        .iloc[2]['html']\n",
    "))"
   ]
  },
  {
   "cell_type": "code",
   "execution_count": 205,
   "metadata": {},
   "outputs": [],
   "source": [
    "stanford_dir = \"../data/news-article-flatlist/stanford-parses/\"\n",
    "stanford_parse_output = {}\n",
    "for doc_id in (legit_tagged_sources_full\n",
    "#                 .loc[lambda df: df['affiliation'].isin(['ngo', 'government', 'academic'])]\n",
    "                .loc[:, 'doc_id']\n",
    "                .dropna()\n",
    "                .unique()\n",
    "              ):\n",
    "    stanford_parse_file = os.path.join(stanford_dir, doc_id) + '.txt.xml'\n",
    "    sources, sents_list, named_ents_list,deps = parse_stanford_and_get_people(stanford_parse_file)\n",
    "    stanford_parse_output[doc_id] = {\n",
    "        \"sources\": sources,\n",
    "        \"sents_list\": sents_list,\n",
    "        \"NER_list\": named_ents_list,\n",
    "        \"deps_list\": deps\n",
    "    }"
   ]
  },
  {
   "cell_type": "code",
   "execution_count": 282,
   "metadata": {},
   "outputs": [],
   "source": [
    "from collections import defaultdict"
   ]
  },
  {
   "cell_type": "code",
   "execution_count": 296,
   "metadata": {},
   "outputs": [],
   "source": [
    "affiliation_to_orgs = defaultdict(set)\n",
    "for source, doc_id, sentence_ids, affiliation in (\n",
    "    legit_tagged_sources_full\n",
    "             .loc[:, ['person', 'doc_id', 'sentence_ids', 'affiliation']]\n",
    "             .dropna()\n",
    "             .itertuples(index=False)\n",
    "):\n",
    "    for sentence_id in sentence_ids:\n",
    "        sent_to_ents = list(zip(\n",
    "            stanford_parse_output[doc_id]['sents_list'][sentence_id],\n",
    "            stanford_parse_output[doc_id]['NER_list'][sentence_id]\n",
    "        ))\n",
    "        orgs = get_contiguous_organizations(sent_to_ents)\n",
    "        affiliation_to_orgs[affiliation] |= set(orgs)\n",
    "        break"
   ]
  },
  {
   "cell_type": "code",
   "execution_count": null,
   "metadata": {},
   "outputs": [],
   "source": []
  },
  {
   "cell_type": "code",
   "execution_count": 323,
   "metadata": {},
   "outputs": [
    {
     "data": {
      "text/plain": [
       "'Yousef Sayigh'"
      ]
     },
     "execution_count": 323,
     "metadata": {},
     "output_type": "execute_result"
    }
   ],
   "source": [
    "source"
   ]
  },
  {
   "cell_type": "code",
   "execution_count": 326,
   "metadata": {},
   "outputs": [
    {
     "data": {
      "text/plain": [
       "{'mentions': [<Entity: {'name': 'Yousef Sayigh', 'start': 15, 'end': 16, 'head': 16, 'sentence': 28}>],\n",
       " 'first_mention': <Entity: {'name': 'Yousef Sayigh', 'start': 15, 'end': 16, 'head': 16, 'sentence': 28}>,\n",
       " 'speaking_vbs': [{'sentence': 28, 'verb_idx': 26}],\n",
       " 'all_vbs': [{'sentence': 28, 'verb_idx': 26}]}"
      ]
     },
     "execution_count": 326,
     "metadata": {},
     "output_type": "execute_result"
    }
   ],
   "source": [
    "stanford_parse_output[doc_id]['sources'][source]"
   ]
  },
  {
   "cell_type": "code",
   "execution_count": 300,
   "metadata": {
    "scrolled": true
   },
   "outputs": [
    {
     "data": {
      "text/plain": [
       "\"Any improvement in the economic situation will be felt by Hamas , too , '' Yousef Sayigh , a senior economic adviser to the P.L.O. , said at a seminar here on Tuesday .\""
      ]
     },
     "execution_count": 300,
     "metadata": {},
     "output_type": "execute_result"
    }
   ],
   "source": [
    "' '.join(stanford_parse_output[doc_id]['sents_list'][sentence_id])"
   ]
  },
  {
   "cell_type": "code",
   "execution_count": 305,
   "metadata": {},
   "outputs": [
    {
     "name": "stdout",
     "output_type": "stream",
     "text": [
      "<dep type=\"root\">\n",
      "            <governor idx=\"0\">ROOT</governor>\n",
      "            <dependent idx=\"27\">said</dependent>\n",
      "          </dep>\n",
      "          \n"
     ]
    }
   ],
   "source": [
    "print(ET.tostring(stanford_parse_output[doc_id]['deps_list'][sentence_id][0]).decode('utf-8'))"
   ]
  },
  {
   "cell_type": "code",
   "execution_count": null,
   "metadata": {},
   "outputs": [],
   "source": []
  },
  {
   "cell_type": "code",
   "execution_count": 331,
   "metadata": {},
   "outputs": [
    {
     "data": {
      "text/plain": [
       "{'type': 'root',\n",
       " 'governor': 'ROOT',\n",
       " 'governor-idx': '0',\n",
       " 'dependent': 'said',\n",
       " 'dependent-idx': '27'}"
      ]
     },
     "execution_count": 331,
     "metadata": {},
     "output_type": "execute_result"
    }
   ],
   "source": [
    "parsing_util.parse_dep(stanford_parse_output[doc_id]['deps_list'][sentence_id][0])"
   ]
  },
  {
   "cell_type": "code",
   "execution_count": 327,
   "metadata": {},
   "outputs": [
    {
     "data": {
      "text/plain": [
       "{'idx': '27'}"
      ]
     },
     "execution_count": 327,
     "metadata": {},
     "output_type": "execute_result"
    }
   ],
   "source": [
    "stanford_parse_output[doc_id]['deps_list'][sentence_id][0].find('.//governor')\n",
    "stanford_parse_output[doc_id]['deps_list'][sentence_id][0].find('.//dependent').attrib"
   ]
  },
  {
   "cell_type": "code",
   "execution_count": 394,
   "metadata": {},
   "outputs": [],
   "source": [
    "exploded_df = (pd.Series(affiliation_to_orgs)\n",
    " .apply(list)\n",
    " .to_frame()\n",
    " .assign(len=lambda df: df[0].str.len())\n",
    " .assign(full_arr=lambda df: df.apply(lambda x: np.pad(np.array(x[0]), (0, df['len'].max()-x['len']), 'constant' ), axis=1))\n",
    " ['full_arr']\n",
    " .pipe(lambda s: pd.DataFrame(s.to_dict()))\n",
    " .replace('0', '')\n",
    ")"
   ]
  },
  {
   "cell_type": "code",
   "execution_count": 400,
   "metadata": {},
   "outputs": [],
   "source": [
    "pyperclip.copy(exploded_df.iloc[:8, 4:].to_latex(index=False))"
   ]
  },
  {
   "cell_type": "code",
   "execution_count": 354,
   "metadata": {
    "scrolled": true
   },
   "outputs": [],
   "source": [
    "pd.options.display.max_colwidth=500\n",
    "pyperclip.copy(pd.Series(affiliation_to_orgs).apply(list).to_frame().T.iloc[:,:4].to_latex(escape=False, index=False))"
   ]
  },
  {
   "cell_type": "code",
   "execution_count": 402,
   "metadata": {},
   "outputs": [
    {
     "data": {
      "application/vnd.jupyter.widget-view+json": {
       "model_id": "0e1ca842a5044000a45cbd130eff53b7",
       "version_major": 2,
       "version_minor": 0
      },
      "text/plain": [
       "HBox(children=(IntProgress(value=0, max=7), HTML(value='')))"
      ]
     },
     "metadata": {},
     "output_type": "display_data"
    },
    {
     "data": {
      "application/vnd.jupyter.widget-view+json": {
       "model_id": "5cad8209344a441db762dd29f0a5b056",
       "version_major": 2,
       "version_minor": 0
      },
      "text/plain": [
       "HBox(children=(IntProgress(value=0, max=2), HTML(value='')))"
      ]
     },
     "metadata": {},
     "output_type": "display_data"
    },
    {
     "data": {
      "application/vnd.jupyter.widget-view+json": {
       "model_id": "beb1047d94774f59903df63f9377748e",
       "version_major": 2,
       "version_minor": 0
      },
      "text/plain": [
       "HBox(children=(IntProgress(value=0, max=22), HTML(value='')))"
      ]
     },
     "metadata": {},
     "output_type": "display_data"
    },
    {
     "data": {
      "application/vnd.jupyter.widget-view+json": {
       "model_id": "5d2cdf69d85b4245af8c9be737efcd18",
       "version_major": 2,
       "version_minor": 0
      },
      "text/plain": [
       "HBox(children=(IntProgress(value=0, max=32), HTML(value='')))"
      ]
     },
     "metadata": {},
     "output_type": "display_data"
    },
    {
     "data": {
      "application/vnd.jupyter.widget-view+json": {
       "model_id": "aa16499e833f462ca85d8c9782856b27",
       "version_major": 2,
       "version_minor": 0
      },
      "text/plain": [
       "HBox(children=(IntProgress(value=0, max=13), HTML(value='')))"
      ]
     },
     "metadata": {},
     "output_type": "display_data"
    },
    {
     "data": {
      "application/vnd.jupyter.widget-view+json": {
       "model_id": "aab6670c553342929ab33aea382bc254",
       "version_major": 2,
       "version_minor": 0
      },
      "text/plain": [
       "HBox(children=(IntProgress(value=0, max=5), HTML(value='')))"
      ]
     },
     "metadata": {},
     "output_type": "display_data"
    },
    {
     "data": {
      "application/vnd.jupyter.widget-view+json": {
       "model_id": "53939b051a174dc6b88c61575640f6da",
       "version_major": 2,
       "version_minor": 0
      },
      "text/plain": [
       "HBox(children=(IntProgress(value=0, max=1), HTML(value='')))"
      ]
     },
     "metadata": {},
     "output_type": "display_data"
    },
    {
     "data": {
      "application/vnd.jupyter.widget-view+json": {
       "model_id": "b290494a3613407997d0d856c79124ce",
       "version_major": 2,
       "version_minor": 0
      },
      "text/plain": [
       "HBox(children=(IntProgress(value=0, max=25), HTML(value='')))"
      ]
     },
     "metadata": {},
     "output_type": "display_data"
    },
    {
     "name": "stdout",
     "output_type": "stream",
     "text": [
      "\n"
     ]
    }
   ],
   "source": [
    "yago_output = {}\n",
    "for affil, org_list in tqdm(affiliation_to_orgs.items()):\n",
    "    for org in tqdm(org_list):\n",
    "        yago_output[org] = query_yago_for_organization(org)"
   ]
  },
  {
   "cell_type": "code",
   "execution_count": 406,
   "metadata": {},
   "outputs": [
    {
     "data": {
      "text/plain": [
       "True     51\n",
       "False    47\n",
       "dtype: int64"
      ]
     },
     "execution_count": 406,
     "metadata": {},
     "output_type": "execute_result"
    }
   ],
   "source": [
    "pyperclip.copy((pd.Series(yago_output)\n",
    " .apply(lambda x: x.shape[0])\n",
    " .pipe(lambda s: s>0)\n",
    " .value_counts()\n",
    ").to_latex())\n",
    "\n",
    "(pd.Series(yago_output)\n",
    " .apply(lambda x: x.shape[0])\n",
    " .pipe(lambda s: s>0)\n",
    " .value_counts()\n",
    ")"
   ]
  },
  {
   "cell_type": "code",
   "execution_count": 412,
   "metadata": {},
   "outputs": [],
   "source": [
    "pyperclip.copy((pd.Series(yago_output)\n",
    " .apply(lambda x: x.shape[0])\n",
    " .loc[lambda s: s==0].head(8).to_latex()\n",
    "))"
   ]
  },
  {
   "cell_type": "code",
   "execution_count": 280,
   "metadata": {},
   "outputs": [],
   "source": [
    "yago_mapping_flat = {}\n",
    "for groupname, yago_out in yago_output.items():\n",
    "    yago_mapping_flat[groupname] = (yago_out\n",
    "                                    .get('val', pd.Series())\n",
    "                                    .astype(str)\n",
    "                                    .str.replace('http://www.w3.org/2002/07/', '')\n",
    "                                    .str.replace('/', '')\n",
    "                                    .unique().tolist()\n",
    "                                   )"
   ]
  },
  {
   "cell_type": "code",
   "execution_count": 427,
   "metadata": {},
   "outputs": [
    {
     "data": {
      "text/plain": [
       "Republican Party                  [owl#Thing, wikicat_Politi...\n",
       "Esmor                                                        []\n",
       "Legislature                                                  []\n",
       "Yale University Medical School                               []\n",
       "Palestinian Authority                                        []\n",
       "dtype: object"
      ]
     },
     "execution_count": 427,
     "metadata": {},
     "output_type": "execute_result"
    }
   ],
   "source": [
    "pd.Series(yago_mapping_flat).head()"
   ]
  },
  {
   "cell_type": "code",
   "execution_count": null,
   "metadata": {},
   "outputs": [],
   "source": []
  },
  {
   "cell_type": "code",
   "execution_count": null,
   "metadata": {},
   "outputs": [],
   "source": []
  },
  {
   "cell_type": "markdown",
   "metadata": {},
   "source": [
    "1 kilobyte (KB) = 1,024 bytes\n",
    "\n",
    "1 megabyte (MB) = 1,048,576 bytes\n",
    "\n",
    "1 gigabyte (GB) = 1,073,741,824 bytes"
   ]
  },
  {
   "cell_type": "code",
   "execution_count": 439,
   "metadata": {},
   "outputs": [
    {
     "data": {
      "text/plain": [
       "1073741824"
      ]
     },
     "execution_count": 439,
     "metadata": {},
     "output_type": "execute_result"
    }
   ],
   "source": [
    "1024 ** 3"
   ]
  },
  {
   "cell_type": "code",
   "execution_count": 441,
   "metadata": {
    "scrolled": true
   },
   "outputs": [
    {
     "data": {
      "text/html": [
       "<div>\n",
       "<style scoped>\n",
       "    .dataframe tbody tr th:only-of-type {\n",
       "        vertical-align: middle;\n",
       "    }\n",
       "\n",
       "    .dataframe tbody tr th {\n",
       "        vertical-align: top;\n",
       "    }\n",
       "\n",
       "    .dataframe thead th {\n",
       "        text-align: right;\n",
       "    }\n",
       "</style>\n",
       "<table border=\"1\" class=\"dataframe\">\n",
       "  <thead>\n",
       "    <tr style=\"text-align: right;\">\n",
       "      <th></th>\n",
       "      <th>file</th>\n",
       "      <th>fn</th>\n",
       "      <th>size</th>\n",
       "    </tr>\n",
       "  </thead>\n",
       "  <tbody>\n",
       "    <tr>\n",
       "      <th>0</th>\n",
       "      <td>D:/newspaper-front-page-pr...</td>\n",
       "      <td>yago3.1_entire_tsv.7z</td>\n",
       "      <td>18.04</td>\n",
       "    </tr>\n",
       "    <tr>\n",
       "      <th>1</th>\n",
       "      <td>D:/newspaper-front-page-pr...</td>\n",
       "      <td>yagoConteXtFacts_ar.tsv</td>\n",
       "      <td>0.76</td>\n",
       "    </tr>\n",
       "    <tr>\n",
       "      <th>2</th>\n",
       "      <td>D:/newspaper-front-page-pr...</td>\n",
       "      <td>yagoConteXtFacts_de.tsv</td>\n",
       "      <td>4.97</td>\n",
       "    </tr>\n",
       "    <tr>\n",
       "      <th>3</th>\n",
       "      <td>D:/newspaper-front-page-pr...</td>\n",
       "      <td>yagoConteXtFacts_en.tsv</td>\n",
       "      <td>15.53</td>\n",
       "    </tr>\n",
       "    <tr>\n",
       "      <th>4</th>\n",
       "      <td>D:/newspaper-front-page-pr...</td>\n",
       "      <td>yagoConteXtFacts_es.tsv</td>\n",
       "      <td>3.56</td>\n",
       "    </tr>\n",
       "    <tr>\n",
       "      <th>5</th>\n",
       "      <td>D:/newspaper-front-page-pr...</td>\n",
       "      <td>yagoConteXtFacts_fa.tsv</td>\n",
       "      <td>0.59</td>\n",
       "    </tr>\n",
       "    <tr>\n",
       "      <th>6</th>\n",
       "      <td>D:/newspaper-front-page-pr...</td>\n",
       "      <td>yagoConteXtFacts_fr.tsv</td>\n",
       "      <td>0.57</td>\n",
       "    </tr>\n",
       "    <tr>\n",
       "      <th>7</th>\n",
       "      <td>D:/newspaper-front-page-pr...</td>\n",
       "      <td>yagoConteXtFacts_it.tsv</td>\n",
       "      <td>3.62</td>\n",
       "    </tr>\n",
       "    <tr>\n",
       "      <th>8</th>\n",
       "      <td>D:/newspaper-front-page-pr...</td>\n",
       "      <td>yagoConteXtFacts_nl.tsv</td>\n",
       "      <td>2.42</td>\n",
       "    </tr>\n",
       "    <tr>\n",
       "      <th>9</th>\n",
       "      <td>D:/newspaper-front-page-pr...</td>\n",
       "      <td>yagoConteXtFacts_pl.tsv</td>\n",
       "      <td>2.46</td>\n",
       "    </tr>\n",
       "    <tr>\n",
       "      <th>10</th>\n",
       "      <td>D:/newspaper-front-page-pr...</td>\n",
       "      <td>yagoConteXtFacts_ro.tsv</td>\n",
       "      <td>0.63</td>\n",
       "    </tr>\n",
       "    <tr>\n",
       "      <th>11</th>\n",
       "      <td>D:/newspaper-front-page-pr...</td>\n",
       "      <td>yagoDateFacts.tsv</td>\n",
       "      <td>0.40</td>\n",
       "    </tr>\n",
       "    <tr>\n",
       "      <th>12</th>\n",
       "      <td>D:/newspaper-front-page-pr...</td>\n",
       "      <td>yagoDBpediaClasses.tsv</td>\n",
       "      <td>0.10</td>\n",
       "    </tr>\n",
       "    <tr>\n",
       "      <th>13</th>\n",
       "      <td>D:/newspaper-front-page-pr...</td>\n",
       "      <td>yagoDBpediaInstances.tsv</td>\n",
       "      <td>0.34</td>\n",
       "    </tr>\n",
       "    <tr>\n",
       "      <th>14</th>\n",
       "      <td>D:/newspaper-front-page-pr...</td>\n",
       "      <td>yagoFacts.tsv</td>\n",
       "      <td>0.95</td>\n",
       "    </tr>\n",
       "    <tr>\n",
       "      <th>15</th>\n",
       "      <td>D:/newspaper-front-page-pr...</td>\n",
       "      <td>yagoGeonamesClasses.tsv</td>\n",
       "      <td>0.00</td>\n",
       "    </tr>\n",
       "    <tr>\n",
       "      <th>16</th>\n",
       "      <td>D:/newspaper-front-page-pr...</td>\n",
       "      <td>yagoGeonamesClasses_old.tsv</td>\n",
       "      <td>0.00</td>\n",
       "    </tr>\n",
       "    <tr>\n",
       "      <th>17</th>\n",
       "      <td>D:/newspaper-front-page-pr...</td>\n",
       "      <td>yagoGeonamesClassIds.tsv</td>\n",
       "      <td>0.00</td>\n",
       "    </tr>\n",
       "    <tr>\n",
       "      <th>18</th>\n",
       "      <td>D:/newspaper-front-page-pr...</td>\n",
       "      <td>yagoGeonamesEntityIds.tsv</td>\n",
       "      <td>0.03</td>\n",
       "    </tr>\n",
       "    <tr>\n",
       "      <th>19</th>\n",
       "      <td>D:/newspaper-front-page-pr...</td>\n",
       "      <td>yagoGeonamesGlosses.tsv</td>\n",
       "      <td>0.00</td>\n",
       "    </tr>\n",
       "    <tr>\n",
       "      <th>20</th>\n",
       "      <td>D:/newspaper-front-page-pr...</td>\n",
       "      <td>yagoGeonamesOnlyData.tsv</td>\n",
       "      <td>4.12</td>\n",
       "    </tr>\n",
       "    <tr>\n",
       "      <th>21</th>\n",
       "      <td>D:/newspaper-front-page-pr...</td>\n",
       "      <td>yagoGeonamesTypes.tsv</td>\n",
       "      <td>0.73</td>\n",
       "    </tr>\n",
       "    <tr>\n",
       "      <th>22</th>\n",
       "      <td>D:/newspaper-front-page-pr...</td>\n",
       "      <td>yagoGeonamesTypesSources.tsv</td>\n",
       "      <td>0.00</td>\n",
       "    </tr>\n",
       "    <tr>\n",
       "      <th>23</th>\n",
       "      <td>D:/newspaper-front-page-pr...</td>\n",
       "      <td>yagoInfoboxAttributeSource...</td>\n",
       "      <td>0.19</td>\n",
       "    </tr>\n",
       "    <tr>\n",
       "      <th>24</th>\n",
       "      <td>D:/newspaper-front-page-pr...</td>\n",
       "      <td>yagoInfoboxAttributeSource...</td>\n",
       "      <td>1.72</td>\n",
       "    </tr>\n",
       "    <tr>\n",
       "      <th>25</th>\n",
       "      <td>D:/newspaper-front-page-pr...</td>\n",
       "      <td>yagoInfoboxAttributeSource...</td>\n",
       "      <td>8.72</td>\n",
       "    </tr>\n",
       "    <tr>\n",
       "      <th>26</th>\n",
       "      <td>D:/newspaper-front-page-pr...</td>\n",
       "      <td>yagoInfoboxAttributeSource...</td>\n",
       "      <td>0.03</td>\n",
       "    </tr>\n",
       "    <tr>\n",
       "      <th>27</th>\n",
       "      <td>D:/newspaper-front-page-pr...</td>\n",
       "      <td>yagoInfoboxAttributeSource...</td>\n",
       "      <td>0.98</td>\n",
       "    </tr>\n",
       "    <tr>\n",
       "      <th>28</th>\n",
       "      <td>D:/newspaper-front-page-pr...</td>\n",
       "      <td>yagoInfoboxAttributeSource...</td>\n",
       "      <td>2.78</td>\n",
       "    </tr>\n",
       "    <tr>\n",
       "      <th>29</th>\n",
       "      <td>D:/newspaper-front-page-pr...</td>\n",
       "      <td>yagoInfoboxAttributeSource...</td>\n",
       "      <td>0.18</td>\n",
       "    </tr>\n",
       "    <tr>\n",
       "      <th>...</th>\n",
       "      <td>...</td>\n",
       "      <td>...</td>\n",
       "      <td>...</td>\n",
       "    </tr>\n",
       "    <tr>\n",
       "      <th>81</th>\n",
       "      <td>D:/newspaper-front-page-pr...</td>\n",
       "      <td>yagoRedirectLabels_es.tsv</td>\n",
       "      <td>0.09</td>\n",
       "    </tr>\n",
       "    <tr>\n",
       "      <th>82</th>\n",
       "      <td>D:/newspaper-front-page-pr...</td>\n",
       "      <td>yagoRedirectLabels_fa.tsv</td>\n",
       "      <td>0.09</td>\n",
       "    </tr>\n",
       "    <tr>\n",
       "      <th>83</th>\n",
       "      <td>D:/newspaper-front-page-pr...</td>\n",
       "      <td>yagoRedirectLabels_fr.tsv</td>\n",
       "      <td>0.07</td>\n",
       "    </tr>\n",
       "    <tr>\n",
       "      <th>84</th>\n",
       "      <td>D:/newspaper-front-page-pr...</td>\n",
       "      <td>yagoRedirectLabels_it.tsv</td>\n",
       "      <td>0.03</td>\n",
       "    </tr>\n",
       "    <tr>\n",
       "      <th>85</th>\n",
       "      <td>D:/newspaper-front-page-pr...</td>\n",
       "      <td>yagoRedirectLabels_nl.tsv</td>\n",
       "      <td>0.03</td>\n",
       "    </tr>\n",
       "    <tr>\n",
       "      <th>86</th>\n",
       "      <td>D:/newspaper-front-page-pr...</td>\n",
       "      <td>yagoRedirectLabels_pl.tsv</td>\n",
       "      <td>0.02</td>\n",
       "    </tr>\n",
       "    <tr>\n",
       "      <th>87</th>\n",
       "      <td>D:/newspaper-front-page-pr...</td>\n",
       "      <td>yagoRedirectLabels_ro.tsv</td>\n",
       "      <td>0.03</td>\n",
       "    </tr>\n",
       "    <tr>\n",
       "      <th>88</th>\n",
       "      <td>D:/newspaper-front-page-pr...</td>\n",
       "      <td>yagoSchema.tsv</td>\n",
       "      <td>0.00</td>\n",
       "    </tr>\n",
       "    <tr>\n",
       "      <th>89</th>\n",
       "      <td>D:/newspaper-front-page-pr...</td>\n",
       "      <td>yagoSimpleTaxonomy.tsv</td>\n",
       "      <td>0.05</td>\n",
       "    </tr>\n",
       "    <tr>\n",
       "      <th>90</th>\n",
       "      <td>D:/newspaper-front-page-pr...</td>\n",
       "      <td>yagoSimpleTypes.tsv</td>\n",
       "      <td>1.53</td>\n",
       "    </tr>\n",
       "    <tr>\n",
       "      <th>91</th>\n",
       "      <td>D:/newspaper-front-page-pr...</td>\n",
       "      <td>yagoSources.tsv</td>\n",
       "      <td>33.88</td>\n",
       "    </tr>\n",
       "    <tr>\n",
       "      <th>92</th>\n",
       "      <td>D:/newspaper-front-page-pr...</td>\n",
       "      <td>yagoStatistics.tsv</td>\n",
       "      <td>0.00</td>\n",
       "    </tr>\n",
       "    <tr>\n",
       "      <th>93</th>\n",
       "      <td>D:/newspaper-front-page-pr...</td>\n",
       "      <td>yagoTaxonomy.tsv</td>\n",
       "      <td>0.20</td>\n",
       "    </tr>\n",
       "    <tr>\n",
       "      <th>94</th>\n",
       "      <td>D:/newspaper-front-page-pr...</td>\n",
       "      <td>yagoTransitiveType.tsv</td>\n",
       "      <td>17.13</td>\n",
       "    </tr>\n",
       "    <tr>\n",
       "      <th>95</th>\n",
       "      <td>D:/newspaper-front-page-pr...</td>\n",
       "      <td>yagoTypes.tsv</td>\n",
       "      <td>2.21</td>\n",
       "    </tr>\n",
       "    <tr>\n",
       "      <th>96</th>\n",
       "      <td>D:/newspaper-front-page-pr...</td>\n",
       "      <td>yagoTypesSources.tsv</td>\n",
       "      <td>4.68</td>\n",
       "    </tr>\n",
       "    <tr>\n",
       "      <th>97</th>\n",
       "      <td>D:/newspaper-front-page-pr...</td>\n",
       "      <td>yagoWikidataInstances.tsv</td>\n",
       "      <td>0.46</td>\n",
       "    </tr>\n",
       "    <tr>\n",
       "      <th>98</th>\n",
       "      <td>D:/newspaper-front-page-pr...</td>\n",
       "      <td>yagoWikipediaInfo_ar.tsv</td>\n",
       "      <td>0.22</td>\n",
       "    </tr>\n",
       "    <tr>\n",
       "      <th>99</th>\n",
       "      <td>D:/newspaper-front-page-pr...</td>\n",
       "      <td>yagoWikipediaInfo_de.tsv</td>\n",
       "      <td>1.82</td>\n",
       "    </tr>\n",
       "    <tr>\n",
       "      <th>100</th>\n",
       "      <td>D:/newspaper-front-page-pr...</td>\n",
       "      <td>yagoWikipediaInfo_en.tsv</td>\n",
       "      <td>4.95</td>\n",
       "    </tr>\n",
       "    <tr>\n",
       "      <th>101</th>\n",
       "      <td>D:/newspaper-front-page-pr...</td>\n",
       "      <td>yagoWikipediaInfo_es.tsv</td>\n",
       "      <td>1.01</td>\n",
       "    </tr>\n",
       "    <tr>\n",
       "      <th>102</th>\n",
       "      <td>D:/newspaper-front-page-pr...</td>\n",
       "      <td>yagoWikipediaInfo_fa.tsv</td>\n",
       "      <td>0.23</td>\n",
       "    </tr>\n",
       "    <tr>\n",
       "      <th>103</th>\n",
       "      <td>D:/newspaper-front-page-pr...</td>\n",
       "      <td>yagoWikipediaInfo_fr.tsv</td>\n",
       "      <td>1.74</td>\n",
       "    </tr>\n",
       "    <tr>\n",
       "      <th>104</th>\n",
       "      <td>D:/newspaper-front-page-pr...</td>\n",
       "      <td>yagoWikipediaInfo_it.tsv</td>\n",
       "      <td>0.98</td>\n",
       "    </tr>\n",
       "    <tr>\n",
       "      <th>105</th>\n",
       "      <td>D:/newspaper-front-page-pr...</td>\n",
       "      <td>yagoWikipediaInfo_nl.tsv</td>\n",
       "      <td>0.69</td>\n",
       "    </tr>\n",
       "    <tr>\n",
       "      <th>106</th>\n",
       "      <td>D:/newspaper-front-page-pr...</td>\n",
       "      <td>yagoWikipediaInfo_pl.tsv</td>\n",
       "      <td>0.79</td>\n",
       "    </tr>\n",
       "    <tr>\n",
       "      <th>107</th>\n",
       "      <td>D:/newspaper-front-page-pr...</td>\n",
       "      <td>yagoWikipediaInfo_ro.tsv</td>\n",
       "      <td>0.17</td>\n",
       "    </tr>\n",
       "    <tr>\n",
       "      <th>108</th>\n",
       "      <td>D:/newspaper-front-page-pr...</td>\n",
       "      <td>yagoWordnetDomainHierarchy...</td>\n",
       "      <td>0.00</td>\n",
       "    </tr>\n",
       "    <tr>\n",
       "      <th>109</th>\n",
       "      <td>D:/newspaper-front-page-pr...</td>\n",
       "      <td>yagoWordnetDomains.tsv</td>\n",
       "      <td>0.01</td>\n",
       "    </tr>\n",
       "    <tr>\n",
       "      <th>110</th>\n",
       "      <td>D:/newspaper-front-page-pr...</td>\n",
       "      <td>yagoWordnetIds.tsv</td>\n",
       "      <td>0.00</td>\n",
       "    </tr>\n",
       "  </tbody>\n",
       "</table>\n",
       "<p>111 rows × 3 columns</p>\n",
       "</div>"
      ],
      "text/plain": [
       "                              file                             fn   size\n",
       "0    D:/newspaper-front-page-pr...          yago3.1_entire_tsv.7z  18.04\n",
       "1    D:/newspaper-front-page-pr...        yagoConteXtFacts_ar.tsv   0.76\n",
       "2    D:/newspaper-front-page-pr...        yagoConteXtFacts_de.tsv   4.97\n",
       "3    D:/newspaper-front-page-pr...        yagoConteXtFacts_en.tsv  15.53\n",
       "4    D:/newspaper-front-page-pr...        yagoConteXtFacts_es.tsv   3.56\n",
       "5    D:/newspaper-front-page-pr...        yagoConteXtFacts_fa.tsv   0.59\n",
       "6    D:/newspaper-front-page-pr...        yagoConteXtFacts_fr.tsv   0.57\n",
       "7    D:/newspaper-front-page-pr...        yagoConteXtFacts_it.tsv   3.62\n",
       "8    D:/newspaper-front-page-pr...        yagoConteXtFacts_nl.tsv   2.42\n",
       "9    D:/newspaper-front-page-pr...        yagoConteXtFacts_pl.tsv   2.46\n",
       "10   D:/newspaper-front-page-pr...        yagoConteXtFacts_ro.tsv   0.63\n",
       "11   D:/newspaper-front-page-pr...              yagoDateFacts.tsv   0.40\n",
       "12   D:/newspaper-front-page-pr...         yagoDBpediaClasses.tsv   0.10\n",
       "13   D:/newspaper-front-page-pr...       yagoDBpediaInstances.tsv   0.34\n",
       "14   D:/newspaper-front-page-pr...                  yagoFacts.tsv   0.95\n",
       "15   D:/newspaper-front-page-pr...        yagoGeonamesClasses.tsv   0.00\n",
       "16   D:/newspaper-front-page-pr...    yagoGeonamesClasses_old.tsv   0.00\n",
       "17   D:/newspaper-front-page-pr...       yagoGeonamesClassIds.tsv   0.00\n",
       "18   D:/newspaper-front-page-pr...      yagoGeonamesEntityIds.tsv   0.03\n",
       "19   D:/newspaper-front-page-pr...        yagoGeonamesGlosses.tsv   0.00\n",
       "20   D:/newspaper-front-page-pr...       yagoGeonamesOnlyData.tsv   4.12\n",
       "21   D:/newspaper-front-page-pr...          yagoGeonamesTypes.tsv   0.73\n",
       "22   D:/newspaper-front-page-pr...   yagoGeonamesTypesSources.tsv   0.00\n",
       "23   D:/newspaper-front-page-pr...  yagoInfoboxAttributeSource...   0.19\n",
       "24   D:/newspaper-front-page-pr...  yagoInfoboxAttributeSource...   1.72\n",
       "25   D:/newspaper-front-page-pr...  yagoInfoboxAttributeSource...   8.72\n",
       "26   D:/newspaper-front-page-pr...  yagoInfoboxAttributeSource...   0.03\n",
       "27   D:/newspaper-front-page-pr...  yagoInfoboxAttributeSource...   0.98\n",
       "28   D:/newspaper-front-page-pr...  yagoInfoboxAttributeSource...   2.78\n",
       "29   D:/newspaper-front-page-pr...  yagoInfoboxAttributeSource...   0.18\n",
       "..                             ...                            ...    ...\n",
       "81   D:/newspaper-front-page-pr...      yagoRedirectLabels_es.tsv   0.09\n",
       "82   D:/newspaper-front-page-pr...      yagoRedirectLabels_fa.tsv   0.09\n",
       "83   D:/newspaper-front-page-pr...      yagoRedirectLabels_fr.tsv   0.07\n",
       "84   D:/newspaper-front-page-pr...      yagoRedirectLabels_it.tsv   0.03\n",
       "85   D:/newspaper-front-page-pr...      yagoRedirectLabels_nl.tsv   0.03\n",
       "86   D:/newspaper-front-page-pr...      yagoRedirectLabels_pl.tsv   0.02\n",
       "87   D:/newspaper-front-page-pr...      yagoRedirectLabels_ro.tsv   0.03\n",
       "88   D:/newspaper-front-page-pr...                 yagoSchema.tsv   0.00\n",
       "89   D:/newspaper-front-page-pr...         yagoSimpleTaxonomy.tsv   0.05\n",
       "90   D:/newspaper-front-page-pr...            yagoSimpleTypes.tsv   1.53\n",
       "91   D:/newspaper-front-page-pr...                yagoSources.tsv  33.88\n",
       "92   D:/newspaper-front-page-pr...             yagoStatistics.tsv   0.00\n",
       "93   D:/newspaper-front-page-pr...               yagoTaxonomy.tsv   0.20\n",
       "94   D:/newspaper-front-page-pr...         yagoTransitiveType.tsv  17.13\n",
       "95   D:/newspaper-front-page-pr...                  yagoTypes.tsv   2.21\n",
       "96   D:/newspaper-front-page-pr...           yagoTypesSources.tsv   4.68\n",
       "97   D:/newspaper-front-page-pr...      yagoWikidataInstances.tsv   0.46\n",
       "98   D:/newspaper-front-page-pr...       yagoWikipediaInfo_ar.tsv   0.22\n",
       "99   D:/newspaper-front-page-pr...       yagoWikipediaInfo_de.tsv   1.82\n",
       "100  D:/newspaper-front-page-pr...       yagoWikipediaInfo_en.tsv   4.95\n",
       "101  D:/newspaper-front-page-pr...       yagoWikipediaInfo_es.tsv   1.01\n",
       "102  D:/newspaper-front-page-pr...       yagoWikipediaInfo_fa.tsv   0.23\n",
       "103  D:/newspaper-front-page-pr...       yagoWikipediaInfo_fr.tsv   1.74\n",
       "104  D:/newspaper-front-page-pr...       yagoWikipediaInfo_it.tsv   0.98\n",
       "105  D:/newspaper-front-page-pr...       yagoWikipediaInfo_nl.tsv   0.69\n",
       "106  D:/newspaper-front-page-pr...       yagoWikipediaInfo_pl.tsv   0.79\n",
       "107  D:/newspaper-front-page-pr...       yagoWikipediaInfo_ro.tsv   0.17\n",
       "108  D:/newspaper-front-page-pr...  yagoWordnetDomainHierarchy...   0.00\n",
       "109  D:/newspaper-front-page-pr...         yagoWordnetDomains.tsv   0.01\n",
       "110  D:/newspaper-front-page-pr...             yagoWordnetIds.tsv   0.00\n",
       "\n",
       "[111 rows x 3 columns]"
      ]
     },
     "execution_count": 441,
     "metadata": {},
     "output_type": "execute_result"
    }
   ],
   "source": [
    "(pd.Series(glob.glob('D:/newspaper-front-page-project/yago/*'))\n",
    " .to_frame('file')\n",
    " .assign(fn=lambda df: df['file'].apply(os.path.basename))\n",
    " .assign(size=lambda df: df['file'].apply(lambda x: os.path.getsize(x) / (1024**3)).round(2))\n",
    ")"
   ]
  },
  {
   "cell_type": "code",
   "execution_count": 454,
   "metadata": {},
   "outputs": [],
   "source": [
    "yago_labels = pd.read_csv('D:/newspaper-front-page-project/yago/yagoLabels.tsv', sep='\\t')"
   ]
  },
  {
   "cell_type": "code",
   "execution_count": 457,
   "metadata": {},
   "outputs": [],
   "source": [
    "yago_labels.columns = ['id', 'entity', 'relation', 'label', 'useless']"
   ]
  },
  {
   "cell_type": "code",
   "execution_count": 459,
   "metadata": {},
   "outputs": [
    {
     "data": {
      "text/html": [
       "<div>\n",
       "<style scoped>\n",
       "    .dataframe tbody tr th:only-of-type {\n",
       "        vertical-align: middle;\n",
       "    }\n",
       "\n",
       "    .dataframe tbody tr th {\n",
       "        vertical-align: top;\n",
       "    }\n",
       "\n",
       "    .dataframe thead th {\n",
       "        text-align: right;\n",
       "    }\n",
       "</style>\n",
       "<table border=\"1\" class=\"dataframe\">\n",
       "  <thead>\n",
       "    <tr style=\"text-align: right;\">\n",
       "      <th></th>\n",
       "      <th>id</th>\n",
       "      <th>entity</th>\n",
       "      <th>relation</th>\n",
       "      <th>label</th>\n",
       "      <th>useless</th>\n",
       "    </tr>\n",
       "  </thead>\n",
       "  <tbody>\n",
       "    <tr>\n",
       "      <th>0</th>\n",
       "      <td>&lt;id_fOrMgmH8cn_UVh_o6kCJ3c...</td>\n",
       "      <td>&lt;Buffalo_Bill_Gun&gt;</td>\n",
       "      <td>skos:prefLabel</td>\n",
       "      <td>Buffalo Bill Gun@eng</td>\n",
       "      <td>NaN</td>\n",
       "    </tr>\n",
       "    <tr>\n",
       "      <th>1</th>\n",
       "      <td>&lt;id_Wb68!v3Sw4_UVh_Kaw39yg...</td>\n",
       "      <td>&lt;Swimming_at_the_2012_Euro...</td>\n",
       "      <td>skos:prefLabel</td>\n",
       "      <td>Swimming at the 2012 Europ...</td>\n",
       "      <td>NaN</td>\n",
       "    </tr>\n",
       "    <tr>\n",
       "      <th>2</th>\n",
       "      <td>&lt;id_rvwwOm6XOw_UVh_UgHXAnj...</td>\n",
       "      <td>&lt;wordnet_superfecta_100507...</td>\n",
       "      <td>skos:prefLabel</td>\n",
       "      <td>superfecta@eng</td>\n",
       "      <td>NaN</td>\n",
       "    </tr>\n",
       "    <tr>\n",
       "      <th>3</th>\n",
       "      <td>&lt;id_9kw08I9o?t_UVh_AD0Jd0e...</td>\n",
       "      <td>&lt;Gornje_Biosko&gt;</td>\n",
       "      <td>skos:prefLabel</td>\n",
       "      <td>Gornje Biosko@eng</td>\n",
       "      <td>NaN</td>\n",
       "    </tr>\n",
       "    <tr>\n",
       "      <th>4</th>\n",
       "      <td>&lt;id_avA9jfopqk_UVh_Wy2d3mV...</td>\n",
       "      <td>&lt;nl/Ondermarck_(familie)&gt;</td>\n",
       "      <td>skos:prefLabel</td>\n",
       "      <td>Ondermarck (familie)@eng</td>\n",
       "      <td>NaN</td>\n",
       "    </tr>\n",
       "  </tbody>\n",
       "</table>\n",
       "</div>"
      ],
      "text/plain": [
       "                              id                         entity  \\\n",
       "0  <id_fOrMgmH8cn_UVh_o6kCJ3c...             <Buffalo_Bill_Gun>   \n",
       "1  <id_Wb68!v3Sw4_UVh_Kaw39yg...  <Swimming_at_the_2012_Euro...   \n",
       "2  <id_rvwwOm6XOw_UVh_UgHXAnj...  <wordnet_superfecta_100507...   \n",
       "3  <id_9kw08I9o?t_UVh_AD0Jd0e...                <Gornje_Biosko>   \n",
       "4  <id_avA9jfopqk_UVh_Wy2d3mV...      <nl/Ondermarck_(familie)>   \n",
       "\n",
       "         relation                          label  useless  \n",
       "0  skos:prefLabel           Buffalo Bill Gun@eng      NaN  \n",
       "1  skos:prefLabel  Swimming at the 2012 Europ...      NaN  \n",
       "2  skos:prefLabel                 superfecta@eng      NaN  \n",
       "3  skos:prefLabel              Gornje Biosko@eng      NaN  \n",
       "4  skos:prefLabel       Ondermarck (familie)@eng      NaN  "
      ]
     },
     "execution_count": 459,
     "metadata": {},
     "output_type": "execute_result"
    }
   ],
   "source": [
    "yago_labels.head()"
   ]
  },
  {
   "cell_type": "code",
   "execution_count": 464,
   "metadata": {},
   "outputs": [],
   "source": [
    "del yago_labels"
   ]
  },
  {
   "cell_type": "code",
   "execution_count": null,
   "metadata": {},
   "outputs": [],
   "source": []
  },
  {
   "cell_type": "code",
   "execution_count": null,
   "metadata": {},
   "outputs": [],
   "source": []
  },
  {
   "cell_type": "code",
   "execution_count": null,
   "metadata": {},
   "outputs": [],
   "source": [
    "yago_facts = pd.read_csv('D:/newspaper-front-page-project/yago/yagoFacts.tsv', sep='\\t')"
   ]
  },
  {
   "cell_type": "code",
   "execution_count": 449,
   "metadata": {},
   "outputs": [],
   "source": [
    "yago_facts.columns = ['id', 'predicate', 'relation', 'object', 'useless']"
   ]
  },
  {
   "cell_type": "code",
   "execution_count": 452,
   "metadata": {},
   "outputs": [
    {
     "data": {
      "text/plain": [
       "<isLocatedIn>       3074176\n",
       "<isCitizenOf>       2141725\n",
       "<hasGender>         1972842\n",
       "<isAffiliatedTo>    1204540\n",
       "<wasBornIn>          848846\n",
       "Name: relation, dtype: int64"
      ]
     },
     "execution_count": 452,
     "metadata": {},
     "output_type": "execute_result"
    }
   ],
   "source": [
    "yago_facts['relation'].value_counts().head()"
   ]
  },
  {
   "cell_type": "code",
   "execution_count": null,
   "metadata": {},
   "outputs": [],
   "source": []
  }
 ],
 "metadata": {
  "hide_input": false,
  "kernelspec": {
   "display_name": "Python 3",
   "language": "python",
   "name": "python3"
  },
  "language_info": {
   "codemirror_mode": {
    "name": "ipython",
    "version": 3
   },
   "file_extension": ".py",
   "mimetype": "text/x-python",
   "name": "python",
   "nbconvert_exporter": "python",
   "pygments_lexer": "ipython3",
   "version": "3.7.3"
  },
  "latex_envs": {
   "LaTeX_envs_menu_present": true,
   "autoclose": false,
   "autocomplete": true,
   "bibliofile": "biblio.bib",
   "cite_by": "apalike",
   "current_citInitial": 1,
   "eqLabelWithNumbers": true,
   "eqNumInitial": 1,
   "hotkeys": {
    "equation": "Ctrl-E",
    "itemize": "Ctrl-I"
   },
   "labels_anchors": false,
   "latex_user_defs": false,
   "report_style_numbering": false,
   "user_envs_cfg": false
  }
 },
 "nbformat": 4,
 "nbformat_minor": 2
}
