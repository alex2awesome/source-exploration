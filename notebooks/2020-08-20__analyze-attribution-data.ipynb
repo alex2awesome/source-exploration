{
 "cells": [
  {
   "cell_type": "code",
   "execution_count": 21,
   "metadata": {},
   "outputs": [],
   "source": [
    "import sys\n",
    "sys.path.insert(0, '..')\n",
    "import models_neural.quote_attribution.classification_models as cm \n",
    "import json\n",
    "import attrdict\n",
    "from models_neural.src.config_helper import TransformersConfig\n",
    "import pandas as pd \n",
    "import zipfile\n",
    "import models_neural.quote_attribution.utils_dataset as ud"
   ]
  },
  {
   "cell_type": "code",
   "execution_count": 22,
   "metadata": {},
   "outputs": [],
   "source": [
    "from importlib import reload"
   ]
  },
  {
   "cell_type": "code",
   "execution_count": 23,
   "metadata": {},
   "outputs": [
    {
     "data": {
      "text/plain": [
       "<module 'models_neural.quote_attribution.utils_dataset' from '../models_neural/quote_attribution/utils_dataset.py'>"
      ]
     },
     "execution_count": 23,
     "metadata": {},
     "output_type": "execute_result"
    }
   ],
   "source": [
    "reload(ud)"
   ]
  },
  {
   "cell_type": "code",
   "execution_count": 24,
   "metadata": {},
   "outputs": [],
   "source": [
    "SourceQA, SourceClassifier = cm.SourceQA, cm.SourceClassifier\n",
    "SourceQADataModule, SourceClassificationDataModule = ud.SourceQADataModule, ud.SourceClassificationDataModule"
   ]
  },
  {
   "cell_type": "code",
   "execution_count": 25,
   "metadata": {},
   "outputs": [],
   "source": [
    "remote = False\n",
    "if remote:\n",
    "    data_fn = 'our-annotated-data__stage-2.tsv'\n",
    "    config_out = 'config-%s.json' % \"Stage 2: Quote Attribution. Our dataset only.\"\n",
    "else:\n",
    "    data_fn = '../models_neural/quote_attribution/data/our-annotated-data__stage-2.tsv'\n",
    "    config_out = '../models_neural/quote_attribution/config-sentence-classification.json'\n",
    "data_df = pd.read_csv(data_fn, sep='\\t', header=None)"
   ]
  },
  {
   "cell_type": "code",
   "execution_count": 26,
   "metadata": {},
   "outputs": [],
   "source": [
    "with open(config_out) as f:\n",
    "    config_dict = json.load(f)\n",
    "\n",
    "config_dict = attrdict.AttrDict(config_dict)\n",
    "config_dict.pretrained_files_s3 = config_dict.pretrained_model_path\n",
    "config_dict.model_type = 'roberta'\n",
    "config_dict.shuffle_data = False"
   ]
  },
  {
   "cell_type": "code",
   "execution_count": 89,
   "metadata": {},
   "outputs": [],
   "source": [
    "config_dict.downsample_negative_data = 1"
   ]
  },
  {
   "cell_type": "code",
   "execution_count": 94,
   "metadata": {},
   "outputs": [],
   "source": [
    "config_dict.num_documents = None"
   ]
  },
  {
   "cell_type": "code",
   "execution_count": 95,
   "metadata": {},
   "outputs": [],
   "source": [
    "data_model = SourceClassificationDataModule(\n",
    "    config=config_dict,\n",
    "    data_fp=data_fn,\n",
    "    model_type='roberta',\n",
    "    max_length_seq=2048,\n",
    "    pretrained_model_path=config_dict.pretrained_model_path,\n",
    "    batch_size=1,\n",
    "    spacy_path='en_core_web_lg'\n",
    ")"
   ]
  },
  {
   "cell_type": "code",
   "execution_count": 96,
   "metadata": {},
   "outputs": [
    {
     "data": {
      "application/vnd.jupyter.widget-view+json": {
       "model_id": "f00b14cde0ef4affa5821d492135d3cf",
       "version_major": 2,
       "version_minor": 0
      },
      "text/plain": [
       "  0%|          | 0/335 [00:00<?, ?it/s]"
      ]
     },
     "metadata": {},
     "output_type": "display_data"
    },
    {
     "name": "stdout",
     "output_type": "stream",
     "text": [
      "not found Pacific Tsunami Warning Center, test...\n",
      "not found The Sydney Morning Herald, test...\n",
      "not found Río Paya cooperative, test...\n",
      "not found Peninsula , test...\n",
      "not found “ Today ” show, test...\n",
      "not found ICE, test...\n",
      "not found Canesius Ndayimanisha, test...\n",
      "not found MoMA PS1, test...\n"
     ]
    }
   ],
   "source": [
    "dataset = data_model.get_dataset()"
   ]
  },
  {
   "cell_type": "code",
   "execution_count": 97,
   "metadata": {},
   "outputs": [
    {
     "data": {
      "text/plain": [
       "29906"
      ]
     },
     "execution_count": 97,
     "metadata": {},
     "output_type": "execute_result"
    }
   ],
   "source": [
    "len(dataset)"
   ]
  },
  {
   "cell_type": "code",
   "execution_count": 101,
   "metadata": {},
   "outputs": [
    {
     "data": {
      "text/plain": [
       "True     14953\n",
       "False    14953\n",
       "dtype: int64"
      ]
     },
     "execution_count": 101,
     "metadata": {},
     "output_type": "execute_result"
    }
   ],
   "source": [
    "pd.Series(list(map(lambda x: x['label'], dataset))).value_counts()"
   ]
  },
  {
   "cell_type": "code",
   "execution_count": 107,
   "metadata": {},
   "outputs": [
    {
     "data": {
      "text/plain": [
       "False    13697\n",
       "True      2096\n",
       "Name: 0, dtype: int64"
      ]
     },
     "execution_count": 107,
     "metadata": {},
     "output_type": "execute_result"
    }
   ],
   "source": [
    "import unidecode\n",
    "data_df[0].apply(unidecode.unidecode).pipe(lambda s: s == '\"').value_counts()"
   ]
  },
  {
   "cell_type": "code",
   "execution_count": 113,
   "metadata": {},
   "outputs": [],
   "source": [
    "t = pd.DataFrame(dataset.input).loc[lambda df: df['label'] == True]"
   ]
  },
  {
   "cell_type": "code",
   "execution_count": 116,
   "metadata": {},
   "outputs": [
    {
     "data": {
      "text/plain": [
       "0        [0, 5226, 18718, 111, 2236, 163, 9298, 530, 93...\n",
       "53       [0, 5226, 18718, 111, 2236, 6823, 23791, 565, ...\n",
       "130      [0, 5226, 18718, 111, 2236, 83, 9823, 14, 5, 1...\n",
       "173      [0, 5226, 18718, 111, 2236, 1261, 16, 4568, 13...\n",
       "286      [0, 5226, 18718, 111, 2236, 15123, 1889, 387, ...\n",
       "                               ...                        \n",
       "29601    [0, 5226, 18718, 111, 2236, 18683, 5809, 38, 6...\n",
       "29632    [0, 5226, 18718, 111, 2236, 38, 1301, 448, 521...\n",
       "29684    [0, 5226, 18718, 111, 2236, 96, 5, 2625, 81, 2...\n",
       "29736    [0, 5226, 18718, 111, 2236, 20, 2903, 539, 34,...\n",
       "29872    [0, 5226, 18718, 111, 2236, 7135, 21850, 2156,...\n",
       "Name: doc_tokens, Length: 322, dtype: object"
      ]
     },
     "execution_count": 116,
     "metadata": {},
     "output_type": "execute_result"
    }
   ],
   "source": [
    "t['doc_tokens'].drop_duplicates()"
   ]
  },
  {
   "cell_type": "code",
   "execution_count": 124,
   "metadata": {},
   "outputs": [
    {
     "data": {
      "text/plain": [
       "'<s> journalist passive - voice A firearm that the authorities said was used on Sunday in a mass shooting at a nightclub in Orlando, Fla., is a descendant of one of the world</s><s> ’s most widely distributed and familiar infantry weapons, and a type of rifle that has been involved in previous mass shootings in the United States.</s><s> Chief John Mina of the Orlando Police Department said the gunman ’s weapons included a handgun and an “ AR-15 - type assault rifle.</s><s> ”</s><s> The first AR-15s were designed in the 1950s by Eugene M. Stoner, a Marine and inventor, who developed the weapon to military standards and for military service.</s><s> It was an atypical rifle for its time, seemingly futuristic, and made partly with lightweight plastics and aluminum that traditionalists scorned.</s><s> It fired a small - caliber, high - velocity bullet — the.223</s><s> — that was also considered revolutionary.</s><s> The rifle was capable, via a selector lever, of semiautomatic or automatic fire.</s><s> In the 1960s, under Defense Secretary Robert S. McNamara, the Pentagon bought vast quantities of the rifle, calling it the M-16, for American ground troops in Vietnam.</s><s> The M-16 ’s firepower and reputation for lethality were necessary, in Mr. McNamara ’s view, to counter the Kalashnikov assault rifles carried by the North Vietnamese Army and Vietcong.</s><s> In this way, the M-16 and the Kalashnikov became a related pair, the assault rifle of the West springing into service as a response to the more widely distributed assault rifle of the East.</s><s> A half - century later, AR-15s and M-16s are made in varied forms by multiple manufacturers, and updated versions, including the M-4 carbine, remain the standard shoulder - fired weapon for most American service members and many allies.</s><s> Civilian versions have many trade and model names, but are generally referred to as AR-15s, although this name is a rough description and does not indicate whether a particular specimen of the rifle is capable of both semiautomatic fire and automatic fire, or is semiautomatic only.</s><s> The police have not said whether the weapon recovered in Orlando was capable of automatic fire.</s><s> Such questions are politically contentious, although depending on a shooter ’s skill and the situation, they can sometimes be moot, as aimed semiautomatic fire from a competent shooter can be far more dangerous than automatic fire, which is harder to control and is often inaccurate.</s><s> AR-15s that fire only on semiautomatic are generally legal in the United States, and are widely owned by assault - rifle enthusiasts.</s><s> They are also sometimes used in crimes, and have been involved in some of the most deadly mass shootings in American history, including the massacre in December in San Bernardino, Calif., which killed 14 people, and the attack in 2012 at Sandy Hook Elementary School in Newtown, Conn., which killed 26 people, 20 of them children.</s><s> ( That gunman also killed his mother at home before driving to the school. )</s><s> The AR-15 ’s once unfamiliar cartridge — now commonly called 5.56 - millimeter rather than.223 — also became a military standard, and the rifle - and - cartridge combination can cause serious wounds, though the damage is determined partly by the type of bullet fired.</s><s> Investigators in Orlando have yet to provide details on the bullets that were fired in the attack.</s>'"
      ]
     },
     "execution_count": 124,
     "metadata": {},
     "output_type": "execute_result"
    }
   ],
   "source": [
    "tokenizer.decode(t['doc_tokens'].drop_duplicates().iloc[2])"
   ]
  },
  {
   "cell_type": "code",
   "execution_count": 125,
   "metadata": {},
   "outputs": [
    {
     "data": {
      "text/html": [
       "<div>\n",
       "<style scoped>\n",
       "    .dataframe tbody tr th:only-of-type {\n",
       "        vertical-align: middle;\n",
       "    }\n",
       "\n",
       "    .dataframe tbody tr th {\n",
       "        vertical-align: top;\n",
       "    }\n",
       "\n",
       "    .dataframe thead th {\n",
       "        text-align: right;\n",
       "    }\n",
       "</style>\n",
       "<table border=\"1\" class=\"dataframe\">\n",
       "  <thead>\n",
       "    <tr style=\"text-align: right;\">\n",
       "      <th></th>\n",
       "      <th>source_ind_tokens</th>\n",
       "      <th>sentence_ind_tokens</th>\n",
       "      <th>doc_tokens</th>\n",
       "      <th>label</th>\n",
       "      <th>doc_idx</th>\n",
       "      <th>sent_idx</th>\n",
       "      <th>annotated_source</th>\n",
       "      <th>candidate_source</th>\n",
       "    </tr>\n",
       "  </thead>\n",
       "  <tbody>\n",
       "    <tr>\n",
       "      <th>0</th>\n",
       "      <td>[0, 0, 0, 0, 0, 0, 0, 0, 0, 0, 0, 0, 0, 0, 0, ...</td>\n",
       "      <td>[1, 1, 1, 1, 1, 1, 1, 1, 1, 1, 0, 0, 0, 0, 0, ...</td>\n",
       "      <td>[0, 5226, 18718, 111, 2236, 163, 9298, 530, 93...</td>\n",
       "      <td>True</td>\n",
       "      <td>/train/902</td>\n",
       "      <td>NaN</td>\n",
       "      <td>None</td>\n",
       "      <td>None</td>\n",
       "    </tr>\n",
       "    <tr>\n",
       "      <th>3</th>\n",
       "      <td>[0, 0, 0, 0, 0, 0, 0, 0, 0, 0, 0, 0, 0, 0, 0, ...</td>\n",
       "      <td>[0, 0, 0, 0, 0, 0, 0, 0, 0, 0, 0, 0, 0, 0, 0, ...</td>\n",
       "      <td>[0, 5226, 18718, 111, 2236, 163, 9298, 530, 93...</td>\n",
       "      <td>True</td>\n",
       "      <td>/train/902</td>\n",
       "      <td>NaN</td>\n",
       "      <td>None</td>\n",
       "      <td>None</td>\n",
       "    </tr>\n",
       "    <tr>\n",
       "      <th>6</th>\n",
       "      <td>[0, 0, 0, 0, 0, 0, 0, 0, 0, 0, 0, 0, 0, 0, 0, ...</td>\n",
       "      <td>[0, 0, 0, 0, 0, 0, 0, 0, 0, 0, 0, 0, 0, 0, 0, ...</td>\n",
       "      <td>[0, 5226, 18718, 111, 2236, 163, 9298, 530, 93...</td>\n",
       "      <td>True</td>\n",
       "      <td>/train/902</td>\n",
       "      <td>NaN</td>\n",
       "      <td>None</td>\n",
       "      <td>None</td>\n",
       "    </tr>\n",
       "    <tr>\n",
       "      <th>7</th>\n",
       "      <td>[0, 0, 0, 0, 0, 0, 0, 0, 0, 0, 0, 0, 0, 0, 0, ...</td>\n",
       "      <td>[0, 0, 0, 0, 0, 0, 0, 0, 0, 0, 0, 0, 0, 0, 0, ...</td>\n",
       "      <td>[0, 5226, 18718, 111, 2236, 163, 9298, 530, 93...</td>\n",
       "      <td>True</td>\n",
       "      <td>/train/902</td>\n",
       "      <td>NaN</td>\n",
       "      <td>None</td>\n",
       "      <td>None</td>\n",
       "    </tr>\n",
       "    <tr>\n",
       "      <th>8</th>\n",
       "      <td>[0, 0, 0, 0, 0, 0, 0, 0, 0, 0, 0, 0, 0, 0, 0, ...</td>\n",
       "      <td>[0, 0, 0, 0, 0, 0, 0, 0, 0, 0, 0, 0, 0, 0, 0, ...</td>\n",
       "      <td>[0, 5226, 18718, 111, 2236, 163, 9298, 530, 93...</td>\n",
       "      <td>True</td>\n",
       "      <td>/train/902</td>\n",
       "      <td>NaN</td>\n",
       "      <td>None</td>\n",
       "      <td>None</td>\n",
       "    </tr>\n",
       "    <tr>\n",
       "      <th>...</th>\n",
       "      <td>...</td>\n",
       "      <td>...</td>\n",
       "      <td>...</td>\n",
       "      <td>...</td>\n",
       "      <td>...</td>\n",
       "      <td>...</td>\n",
       "      <td>...</td>\n",
       "      <td>...</td>\n",
       "    </tr>\n",
       "    <tr>\n",
       "      <th>29899</th>\n",
       "      <td>[0, 0, 0, 0, 0, 0, 0, 0, 0, 0, 0, 0, 0, 0, 0, ...</td>\n",
       "      <td>[0, 0, 0, 0, 0, 0, 0, 0, 0, 0, 0, 0, 0, 0, 0, ...</td>\n",
       "      <td>[0, 5226, 18718, 111, 2236, 7135, 21850, 2156,...</td>\n",
       "      <td>True</td>\n",
       "      <td>/train/716</td>\n",
       "      <td>NaN</td>\n",
       "      <td>Elizabeth Holmes</td>\n",
       "      <td>Elizabeth Holmes</td>\n",
       "    </tr>\n",
       "    <tr>\n",
       "      <th>29900</th>\n",
       "      <td>[0, 0, 0, 0, 0, 0, 0, 0, 0, 0, 0, 0, 0, 0, 0, ...</td>\n",
       "      <td>[0, 0, 0, 0, 0, 0, 0, 0, 0, 0, 0, 0, 0, 0, 0, ...</td>\n",
       "      <td>[0, 5226, 18718, 111, 2236, 7135, 21850, 2156,...</td>\n",
       "      <td>True</td>\n",
       "      <td>/train/716</td>\n",
       "      <td>NaN</td>\n",
       "      <td>Elizabeth Holmes</td>\n",
       "      <td>Elizabeth Holmes</td>\n",
       "    </tr>\n",
       "    <tr>\n",
       "      <th>29902</th>\n",
       "      <td>[0, 0, 0, 0, 0, 0, 0, 0, 0, 0, 0, 0, 0, 0, 0, ...</td>\n",
       "      <td>[0, 0, 0, 0, 0, 0, 0, 0, 0, 0, 0, 0, 0, 0, 0, ...</td>\n",
       "      <td>[0, 5226, 18718, 111, 2236, 7135, 21850, 2156,...</td>\n",
       "      <td>True</td>\n",
       "      <td>/train/716</td>\n",
       "      <td>NaN</td>\n",
       "      <td>company spokesman</td>\n",
       "      <td>company spokesman</td>\n",
       "    </tr>\n",
       "    <tr>\n",
       "      <th>29903</th>\n",
       "      <td>[0, 0, 0, 0, 0, 0, 0, 0, 0, 0, 0, 0, 0, 0, 0, ...</td>\n",
       "      <td>[0, 0, 0, 0, 0, 0, 0, 0, 0, 0, 0, 0, 0, 0, 0, ...</td>\n",
       "      <td>[0, 5226, 18718, 111, 2236, 7135, 21850, 2156,...</td>\n",
       "      <td>True</td>\n",
       "      <td>/train/716</td>\n",
       "      <td>NaN</td>\n",
       "      <td>None</td>\n",
       "      <td>None</td>\n",
       "    </tr>\n",
       "    <tr>\n",
       "      <th>29904</th>\n",
       "      <td>[0, 0, 0, 0, 0, 0, 0, 0, 0, 0, 0, 0, 0, 0, 0, ...</td>\n",
       "      <td>[0, 0, 0, 0, 0, 0, 0, 0, 0, 0, 0, 0, 0, 0, 0, ...</td>\n",
       "      <td>[0, 5226, 18718, 111, 2236, 7135, 21850, 2156,...</td>\n",
       "      <td>True</td>\n",
       "      <td>/train/716</td>\n",
       "      <td>NaN</td>\n",
       "      <td>None</td>\n",
       "      <td>None</td>\n",
       "    </tr>\n",
       "  </tbody>\n",
       "</table>\n",
       "<p>14953 rows × 8 columns</p>\n",
       "</div>"
      ],
      "text/plain": [
       "                                       source_ind_tokens  \\\n",
       "0      [0, 0, 0, 0, 0, 0, 0, 0, 0, 0, 0, 0, 0, 0, 0, ...   \n",
       "3      [0, 0, 0, 0, 0, 0, 0, 0, 0, 0, 0, 0, 0, 0, 0, ...   \n",
       "6      [0, 0, 0, 0, 0, 0, 0, 0, 0, 0, 0, 0, 0, 0, 0, ...   \n",
       "7      [0, 0, 0, 0, 0, 0, 0, 0, 0, 0, 0, 0, 0, 0, 0, ...   \n",
       "8      [0, 0, 0, 0, 0, 0, 0, 0, 0, 0, 0, 0, 0, 0, 0, ...   \n",
       "...                                                  ...   \n",
       "29899  [0, 0, 0, 0, 0, 0, 0, 0, 0, 0, 0, 0, 0, 0, 0, ...   \n",
       "29900  [0, 0, 0, 0, 0, 0, 0, 0, 0, 0, 0, 0, 0, 0, 0, ...   \n",
       "29902  [0, 0, 0, 0, 0, 0, 0, 0, 0, 0, 0, 0, 0, 0, 0, ...   \n",
       "29903  [0, 0, 0, 0, 0, 0, 0, 0, 0, 0, 0, 0, 0, 0, 0, ...   \n",
       "29904  [0, 0, 0, 0, 0, 0, 0, 0, 0, 0, 0, 0, 0, 0, 0, ...   \n",
       "\n",
       "                                     sentence_ind_tokens  \\\n",
       "0      [1, 1, 1, 1, 1, 1, 1, 1, 1, 1, 0, 0, 0, 0, 0, ...   \n",
       "3      [0, 0, 0, 0, 0, 0, 0, 0, 0, 0, 0, 0, 0, 0, 0, ...   \n",
       "6      [0, 0, 0, 0, 0, 0, 0, 0, 0, 0, 0, 0, 0, 0, 0, ...   \n",
       "7      [0, 0, 0, 0, 0, 0, 0, 0, 0, 0, 0, 0, 0, 0, 0, ...   \n",
       "8      [0, 0, 0, 0, 0, 0, 0, 0, 0, 0, 0, 0, 0, 0, 0, ...   \n",
       "...                                                  ...   \n",
       "29899  [0, 0, 0, 0, 0, 0, 0, 0, 0, 0, 0, 0, 0, 0, 0, ...   \n",
       "29900  [0, 0, 0, 0, 0, 0, 0, 0, 0, 0, 0, 0, 0, 0, 0, ...   \n",
       "29902  [0, 0, 0, 0, 0, 0, 0, 0, 0, 0, 0, 0, 0, 0, 0, ...   \n",
       "29903  [0, 0, 0, 0, 0, 0, 0, 0, 0, 0, 0, 0, 0, 0, 0, ...   \n",
       "29904  [0, 0, 0, 0, 0, 0, 0, 0, 0, 0, 0, 0, 0, 0, 0, ...   \n",
       "\n",
       "                                              doc_tokens  label     doc_idx  \\\n",
       "0      [0, 5226, 18718, 111, 2236, 163, 9298, 530, 93...   True  /train/902   \n",
       "3      [0, 5226, 18718, 111, 2236, 163, 9298, 530, 93...   True  /train/902   \n",
       "6      [0, 5226, 18718, 111, 2236, 163, 9298, 530, 93...   True  /train/902   \n",
       "7      [0, 5226, 18718, 111, 2236, 163, 9298, 530, 93...   True  /train/902   \n",
       "8      [0, 5226, 18718, 111, 2236, 163, 9298, 530, 93...   True  /train/902   \n",
       "...                                                  ...    ...         ...   \n",
       "29899  [0, 5226, 18718, 111, 2236, 7135, 21850, 2156,...   True  /train/716   \n",
       "29900  [0, 5226, 18718, 111, 2236, 7135, 21850, 2156,...   True  /train/716   \n",
       "29902  [0, 5226, 18718, 111, 2236, 7135, 21850, 2156,...   True  /train/716   \n",
       "29903  [0, 5226, 18718, 111, 2236, 7135, 21850, 2156,...   True  /train/716   \n",
       "29904  [0, 5226, 18718, 111, 2236, 7135, 21850, 2156,...   True  /train/716   \n",
       "\n",
       "       sent_idx   annotated_source   candidate_source  \n",
       "0           NaN               None               None  \n",
       "3           NaN               None               None  \n",
       "6           NaN               None               None  \n",
       "7           NaN               None               None  \n",
       "8           NaN               None               None  \n",
       "...         ...                ...                ...  \n",
       "29899       NaN   Elizabeth Holmes   Elizabeth Holmes  \n",
       "29900       NaN   Elizabeth Holmes   Elizabeth Holmes  \n",
       "29902       NaN  company spokesman  company spokesman  \n",
       "29903       NaN               None               None  \n",
       "29904       NaN               None               None  \n",
       "\n",
       "[14953 rows x 8 columns]"
      ]
     },
     "execution_count": 125,
     "metadata": {},
     "output_type": "execute_result"
    }
   ],
   "source": [
    "t"
   ]
  },
  {
   "cell_type": "code",
   "execution_count": null,
   "metadata": {},
   "outputs": [],
   "source": []
  },
  {
   "cell_type": "code",
   "execution_count": null,
   "metadata": {},
   "outputs": [],
   "source": []
  },
  {
   "cell_type": "code",
   "execution_count": null,
   "metadata": {},
   "outputs": [],
   "source": []
  },
  {
   "cell_type": "code",
   "execution_count": null,
   "metadata": {},
   "outputs": [],
   "source": []
  },
  {
   "cell_type": "code",
   "execution_count": null,
   "metadata": {},
   "outputs": [],
   "source": []
  },
  {
   "cell_type": "code",
   "execution_count": 36,
   "metadata": {},
   "outputs": [],
   "source": [
    "true_examples = list(filter(lambda x: x['label'] == True, data_model.test_dataset))"
   ]
  },
  {
   "cell_type": "code",
   "execution_count": null,
   "metadata": {},
   "outputs": [],
   "source": []
  },
  {
   "cell_type": "code",
   "execution_count": 40,
   "metadata": {},
   "outputs": [],
   "source": [
    "from transformers import AutoTokenizer"
   ]
  },
  {
   "cell_type": "code",
   "execution_count": 41,
   "metadata": {},
   "outputs": [],
   "source": [
    "tokenizer= AutoTokenizer.from_pretrained('/Users/alex/.cache/torch/transformers/named-models/roberta-base-expanded-embeddings')"
   ]
  },
  {
   "cell_type": "code",
   "execution_count": 42,
   "metadata": {
    "scrolled": true
   },
   "outputs": [
    {
     "data": {
      "text/plain": [
       "'<s> journalist passive - voice In a rare display of internal strife, the opinion department of The Wall Street Journal openly antagonized the paper ’s news staff Thursday by publishing a tersely worded note to readers just days after it found itself on the receiving end of a sharply worded critique signed by hundreds of newsroom employees.</s><s> Turmoil inside the buttoned - up newsroom had been brewing for more than a month before the clash spilled into the view of the paper ’s readership.</s><s> The latest skirmish started Tuesday, when nearly 300 of The Journal ’s news staff members sent a sharply worded letter to the paper ’s publisher, Almar Latour, condemning the opinion desk</s><s> ’s</s><s> “ lack of fact - checking and transparency.</s><s> ”</s><s> The letter cited several examples of essays published by the opinion section, which is operated separately from the newsroom, that included factual errors, among them a June 16 article by Vice President Mike Pence.</s><s> The essay, with the headline “ There Is n’t a Coronavirus ‘ Second Wave, ’ ” was ultimately corrected.</s><s> The letter highlighted how the newsroom ’s own reporting more than a week earlier was at odds with Mr. Pence ’s claims.</s><s> “ Opinion articles often make assertions that are contradicted by WSJ reporting, ” the letter said.</s><s> In the unadorned style typical of Journal articles, the 1,400 - word note documented what it said were several other fact - checking lapses in opinion essays.</s><s> The letter also said a contributor to the opinion section had endangered one of The Journal ’s Middle East - based journalists when the contributor “ falsely claimed in a tweet ” that the reporter had ties to the Muslim Brotherhood.</s><s> The reporter, Summer Said, cited the tweet, since deleted, from the contributor, Andy Ngo, in October 2018.</s><s> Mr. Ngo, a conservative journalist, has written several opinion articles for The Journal, including a 2018 piece that cited prominent displays of Islamic dress on the streets of London as an example of “ failed multiculturalism.</s><s> ”</s><s> “</s><s> The safety of our reporter was put at risk by this false claim because she worked frequently in Saudi Arabia, which views the Brotherhood as an enemy, ” the letter read.</s><s> “ Members of the newsroom were told that the Opinion page agreed to stop using this contributor, ” the letter continued, “ but months later he was back writing for the section, suggesting that even endangering a WSJ employee by publishing misinformation is n’t a serious infraction.</s><s> ”</s><s> Dow Jones, the publisher of The Journal, declined to comment on the matter.</s><s> The editorial board shot back on Thursday.</s><s> Instead of responding directly to the newsroom, it addressed its note to the paper</s><s> ’s readers.</s><s> “</s><s> In the spirit of collegiality, we wo n’t respond in kind to the letter signers, ” it said.</s><s> “</s><s> Their anxieties are n’t our responsibility in any case.</s><s> ”</s><s> The board described the in - house unrest by saying that “ it was probably inevitable that the wave of progressive cancel culture would arrive at the Journal, as it has at nearly every other cultural, business, academic and journalistic institution.</s><s> ”</s><s> The four - paragraph response did not address the accusations of factual inaccuracy.</s><s> “</s><s> The opinion pages will continue to publish contributors who speak their minds, ” it said, adding that their work had become “ more important than ever in what is a culture of growing progressive conformity and intolerance.</s><s> ”</s><s> Lauren Weber, a reporter at The Journal, said on Twitter, “ To call the letter, which I signed, an example of ‘ cancel culture ’ is a gross mischaracterization.</s><s> ”</s><s> The opinion desk has been overseen by the editorial page editor Paul Gigot for nearly two decades.</s><s> Mr. Gigot declined to comment beyond the note.</s><s> The Journal ’s editorial board ultimately answers to Rupert Murdoch, the owner of The Journal since 2007.</s><s> He also controls Fox News through his other business,</s><s> Fox Corp. Mr. Murdoch declined to comment.</s><s> Mr. Latour, who in May was named the publisher of The Journal and the chief executive of its parent company, Dow Jones, declined to comment.</s><s> The Journal is one of many media organizations, including The Times, The Philadelphia Inquirer, The Los Angeles Times, Fox News, Hearst and Condé Nast, where staff members have questioned leadership at a time of widespread protests against racism and police brutality prompted by the killing in May of George Floyd, a Black man in Minneapolis who died after a white police officer pressed a knee to his neck.</s><s> The Times ’s editorial page editor, James Bennet, resigned last month after roughly 1,000 of the paper</s><s> ’s staff members signed a letter protesting the publication of an Op - Ed by a United States senator calling for a military response to domestic civil unrest.</s><s> At The Journal, a group identifying itself as “ members of the WSJ newsroom ” said in a June 23 letter to the editor in chief, Matt Murray, that the paper must “ encourage more muscular reporting about race and social inequities, ” and called for fundamental changes in its news coverage.</s><s> That note came two weeks after more than 150 newsroom employees sent a letter to Journal leaders saying the paper ’s coverage of race was “ problematic ” and that its staff was not diverse enough.</s><s> A week before that, Journal reporters and editors sent a letter requesting that the paper ’s previous editor in chief, Gerard Baker, who had stayed on as a news columnist, be reassigned to the opinion section.</s><s> Faulting columns he had written on race, the letter said his work had violated newsroom standards.</s><s> Mr. Baker was moved to the opinion staff the day after the letter was sent.</s><s> Bill Grueskin, a former editor at The Journal, said there had been a longstanding beef between the paper ’s news and opinion desks, adding that those on the news side would often “ grumble quietly ” about the editorials.</s><s> “</s><s> Not so much because of the politics</s><s>, ” he said, “ but because of their issues with accuracy and leaps of logic.</s><s> ”</s><s> He chided the editorial board</s><s> ’s response as “ indicative of the very problems the newsroom cited</s><s> — it ’s inaccurate.</s><s> ”</s><s> He added, “ The newsroom is n’t trying to ‘ cancel ’ anyone. ”</s><s> Referring to the board ’s letter to readers, he said, “</s><s> And it failed to address the most serious failing, which is that they continued to publish pieces by someone who endangered a staffer ’s safety and career.</s><s> ”</s><s> The Journal ’s newsroom employees said in the Tuesday letter that the opinion desk</s><s> ’s</s><s> factual inaccuracies and lack of fairness had gotten in the way of their ability to do their jobs.</s><s> “</s><s> Many readers already can not tell the difference between reporting and Opinion, ” it read.</s><s> “</s><s> Some of us have been told by sources that they wo n’t talk to us because they do n’t trust that the WSJ is independent of the editorial page ; many of us have heard sources and readers complain about the paper</s><s> ’s ‘ bias ’ as a result of what they ’ ve read in Opinion.</s><s> ”</s>'"
      ]
     },
     "execution_count": 42,
     "metadata": {},
     "output_type": "execute_result"
    }
   ],
   "source": [
    "tokenizer.decode(data_model.test_dataset[0]['doc_tokens'])"
   ]
  },
  {
   "cell_type": "code",
   "execution_count": 85,
   "metadata": {},
   "outputs": [
    {
     "data": {
      "text/plain": [
       "array(['/test/825', '/test/561', '/test/589', '/test/931', '/test/580',\n",
       "       '/test/381', '/test/377', '/test/803', '/test/560', '/test/497',\n",
       "       '/test/460', '/test/946', '/test/929', '/test/27', '/test/597',\n",
       "       '/test/849', '/test/496', '/test/31', '/test/590', '/test/10',\n",
       "       '/test/388', '/test/907', '/test/824', '/test/16', '/test/32',\n",
       "       '/test/903', '/test/498', '/test/581', '/test/393', '/test/454',\n",
       "       '/test/488'], dtype=object)"
      ]
     },
     "execution_count": 85,
     "metadata": {},
     "output_type": "execute_result"
    }
   ],
   "source": [
    "pd.DataFrame(true_examples)['doc_idx'].unique()"
   ]
  },
  {
   "cell_type": "code",
   "execution_count": 48,
   "metadata": {},
   "outputs": [
    {
     "data": {
      "text/plain": [
       "6"
      ]
     },
     "execution_count": 48,
     "metadata": {},
     "output_type": "execute_result"
    }
   ],
   "source": [
    "true_examples[0]['source_ind_tokens']"
   ]
  },
  {
   "cell_type": "code",
   "execution_count": 53,
   "metadata": {},
   "outputs": [],
   "source": [
    "true_examples_with_zero_source = list(filter(lambda x: sum(x['source_ind_tokens'])== 0, true_examples))"
   ]
  },
  {
   "cell_type": "code",
   "execution_count": 57,
   "metadata": {},
   "outputs": [
    {
     "data": {
      "text/plain": [
       "'None'"
      ]
     },
     "execution_count": 57,
     "metadata": {},
     "output_type": "execute_result"
    }
   ],
   "source": [
    "true_examples_with_zero_source[0]['annotated_source']"
   ]
  },
  {
   "cell_type": "code",
   "execution_count": 60,
   "metadata": {},
   "outputs": [
    {
     "data": {
      "text/plain": [
       "'None'"
      ]
     },
     "execution_count": 60,
     "metadata": {},
     "output_type": "execute_result"
    }
   ],
   "source": [
    "true_examples_with_zero_source[0]['candidate_source']"
   ]
  },
  {
   "cell_type": "code",
   "execution_count": 74,
   "metadata": {},
   "outputs": [
    {
     "data": {
      "text/plain": [
       "1151               <s>\n",
       "1152     Revolutionary\n",
       "1153              acts\n",
       "1154              come\n",
       "1155                at\n",
       "1156                 a\n",
       "1157              cost\n",
       "1158                 .\n",
       "1159              </s>\n",
       "Name: 0, dtype: object"
      ]
     },
     "execution_count": 74,
     "metadata": {},
     "output_type": "execute_result"
    }
   ],
   "source": [
    "pd.concat([\n",
    "    pd.Series(true_examples_with_zero_source[0]['doc_tokens']),\n",
    "    pd.Series(true_examples_with_zero_source[0]['sentence_ind_tokens']),\n",
    "], axis=1).loc[lambda df: df[1] == 1][0].apply(tokenizer.decode)"
   ]
  },
  {
   "cell_type": "code",
   "execution_count": 75,
   "metadata": {},
   "outputs": [
    {
     "data": {
      "text/plain": [
       "150"
      ]
     },
     "execution_count": 75,
     "metadata": {},
     "output_type": "execute_result"
    }
   ],
   "source": [
    "len(true_examples)"
   ]
  },
  {
   "cell_type": "code",
   "execution_count": 78,
   "metadata": {},
   "outputs": [
    {
     "data": {
      "text/plain": [
       "1                                 3          c\n",
       "\\tBambang Soelistyo               /test/776  1    2\n",
       "\\tEnvironmental officials         /test/172  1    1\n",
       " Federal Aviation Administration  /test/497  1    1\n",
       "2010 study                        /test/27   1    2\n",
       "2011 United Nations report        /test/597  1    1\n",
       "                                                 ..\n",
       "white house fact sheet            /test/448  1    1\n",
       "witnesses                         /test/404  1    1\n",
       "woman                             /test/10   1    1\n",
       "Édouard Philippe                  /test/789  1    1\n",
       "“ Today ” show                    /test/549  1    8\n",
       "Name: c, Length: 783, dtype: int64"
      ]
     },
     "execution_count": 78,
     "metadata": {},
     "output_type": "execute_result"
    }
   ],
   "source": [
    "data_df.loc[lambda df: df[3].str.contains('/test/')].assign(c=1).groupby([1, 3])['c'].value_counts()"
   ]
  },
  {
   "cell_type": "code",
   "execution_count": null,
   "metadata": {},
   "outputs": [],
   "source": []
  },
  {
   "cell_type": "code",
   "execution_count": null,
   "metadata": {},
   "outputs": [],
   "source": []
  },
  {
   "cell_type": "code",
   "execution_count": null,
   "metadata": {},
   "outputs": [],
   "source": []
  },
  {
   "cell_type": "code",
   "execution_count": null,
   "metadata": {},
   "outputs": [],
   "source": []
  },
  {
   "cell_type": "code",
   "execution_count": 29,
   "metadata": {},
   "outputs": [
    {
     "data": {
      "text/html": [
       "<div>\n",
       "<style scoped>\n",
       "    .dataframe tbody tr th:only-of-type {\n",
       "        vertical-align: middle;\n",
       "    }\n",
       "\n",
       "    .dataframe tbody tr th {\n",
       "        vertical-align: top;\n",
       "    }\n",
       "\n",
       "    .dataframe thead th {\n",
       "        text-align: right;\n",
       "    }\n",
       "</style>\n",
       "<table border=\"1\" class=\"dataframe\">\n",
       "  <thead>\n",
       "    <tr style=\"text-align: right;\">\n",
       "      <th></th>\n",
       "      <th>0</th>\n",
       "      <th>1</th>\n",
       "      <th>2</th>\n",
       "      <th>3</th>\n",
       "    </tr>\n",
       "  </thead>\n",
       "  <tbody>\n",
       "    <tr>\n",
       "      <th>162</th>\n",
       "      <td>China is canceling plans to build more than 10...</td>\n",
       "      <td>China</td>\n",
       "      <td>0</td>\n",
       "      <td>/test/903</td>\n",
       "    </tr>\n",
       "    <tr>\n",
       "      <th>163</th>\n",
       "      <td>The announcement , made by China ’s National E...</td>\n",
       "      <td>China ’s National Energy Administration</td>\n",
       "      <td>1</td>\n",
       "      <td>/test/903</td>\n",
       "    </tr>\n",
       "    <tr>\n",
       "      <th>164</th>\n",
       "      <td>That includes dozens of projects in 13 provinc...</td>\n",
       "      <td>China ’s National Energy Administration</td>\n",
       "      <td>2</td>\n",
       "      <td>/test/903</td>\n",
       "    </tr>\n",
       "    <tr>\n",
       "      <th>165</th>\n",
       "      <td>Those projects alone would have had a combined...</td>\n",
       "      <td>Greenpeace</td>\n",
       "      <td>3</td>\n",
       "      <td>/test/903</td>\n",
       "    </tr>\n",
       "    <tr>\n",
       "      <th>166</th>\n",
       "      <td>The cancellations make it likelier that China ...</td>\n",
       "      <td>None</td>\n",
       "      <td>4</td>\n",
       "      <td>/test/903</td>\n",
       "    </tr>\n",
       "    <tr>\n",
       "      <th>...</th>\n",
       "      <td>...</td>\n",
       "      <td>...</td>\n",
       "      <td>...</td>\n",
       "      <td>...</td>\n",
       "    </tr>\n",
       "    <tr>\n",
       "      <th>15677</th>\n",
       "      <td>Thousands of family members and fellow miners ...</td>\n",
       "      <td>None</td>\n",
       "      <td>22</td>\n",
       "      <td>/test/740</td>\n",
       "    </tr>\n",
       "    <tr>\n",
       "      <th>15678</th>\n",
       "      <td>The precise number of miners still underground...</td>\n",
       "      <td>None</td>\n",
       "      <td>23</td>\n",
       "      <td>/test/740</td>\n",
       "    </tr>\n",
       "    <tr>\n",
       "      <th>15679</th>\n",
       "      <td>Mr. Yildiz said on Tuesday that 787 workers we...</td>\n",
       "      <td>Taner Yildiz</td>\n",
       "      <td>24</td>\n",
       "      <td>/test/740</td>\n",
       "    </tr>\n",
       "    <tr>\n",
       "      <th>15680</th>\n",
       "      <td>Turkey ’s disaster management agency estimated...</td>\n",
       "      <td>disaster management agency</td>\n",
       "      <td>25</td>\n",
       "      <td>/test/740</td>\n",
       "    </tr>\n",
       "    <tr>\n",
       "      <th>15681</th>\n",
       "      <td>As the death toll mounted , rescuers used a co...</td>\n",
       "      <td>news reports</td>\n",
       "      <td>26</td>\n",
       "      <td>/test/740</td>\n",
       "    </tr>\n",
       "  </tbody>\n",
       "</table>\n",
       "<p>4121 rows × 4 columns</p>\n",
       "</div>"
      ],
      "text/plain": [
       "                                                       0  \\\n",
       "162    China is canceling plans to build more than 10...   \n",
       "163    The announcement , made by China ’s National E...   \n",
       "164    That includes dozens of projects in 13 provinc...   \n",
       "165    Those projects alone would have had a combined...   \n",
       "166    The cancellations make it likelier that China ...   \n",
       "...                                                  ...   \n",
       "15677  Thousands of family members and fellow miners ...   \n",
       "15678  The precise number of miners still underground...   \n",
       "15679  Mr. Yildiz said on Tuesday that 787 workers we...   \n",
       "15680  Turkey ’s disaster management agency estimated...   \n",
       "15681  As the death toll mounted , rescuers used a co...   \n",
       "\n",
       "                                             1   2          3  \n",
       "162                                      China   0  /test/903  \n",
       "163    China ’s National Energy Administration   1  /test/903  \n",
       "164    China ’s National Energy Administration   2  /test/903  \n",
       "165                                 Greenpeace   3  /test/903  \n",
       "166                                       None   4  /test/903  \n",
       "...                                        ...  ..        ...  \n",
       "15677                                     None  22  /test/740  \n",
       "15678                                     None  23  /test/740  \n",
       "15679                             Taner Yildiz  24  /test/740  \n",
       "15680               disaster management agency  25  /test/740  \n",
       "15681                             news reports  26  /test/740  \n",
       "\n",
       "[4121 rows x 4 columns]"
      ]
     },
     "execution_count": 29,
     "metadata": {},
     "output_type": "execute_result"
    }
   ],
   "source": [
    "data_df.loc[lambda df: df[3].str.contains('/test/')]"
   ]
  },
  {
   "cell_type": "code",
   "execution_count": null,
   "metadata": {},
   "outputs": [],
   "source": []
  },
  {
   "cell_type": "code",
   "execution_count": null,
   "metadata": {},
   "outputs": [],
   "source": [
    "for idx, sample in tqdm(enumerate(data_model.test_dataset), total=len(data_model.test_dataset)):\n",
    "    sample = data_model.collate_fn([sample])"
   ]
  }
 ],
 "metadata": {
  "hide_input": false,
  "kernelspec": {
   "display_name": "Python 3",
   "language": "python",
   "name": "python3"
  },
  "language_info": {
   "codemirror_mode": {
    "name": "ipython",
    "version": 3
   },
   "file_extension": ".py",
   "mimetype": "text/x-python",
   "name": "python",
   "nbconvert_exporter": "python",
   "pygments_lexer": "ipython3",
   "version": "3.7.6"
  }
 },
 "nbformat": 4,
 "nbformat_minor": 4
}
