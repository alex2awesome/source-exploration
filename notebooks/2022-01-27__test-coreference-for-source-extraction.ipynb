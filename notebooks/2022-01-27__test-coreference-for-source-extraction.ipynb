{
 "cells": [
  {
   "cell_type": "code",
   "execution_count": 1,
   "metadata": {},
   "outputs": [],
   "source": [
    "import sqlite3\n",
    "import pandas as pd \n",
    "import sys\n",
    "from IPython.display import display, HTML\n",
    "sys.path.insert(0, '../../edit-pathways/util/')\n",
    "sys.path.insert(0, '../scripts/')\n",
    "import util_newssniffer_parsing as unp \n",
    "import spacy\n",
    "import neuralcoref\n",
    "# nlp = spacy.load('en_core_web_sm')"
   ]
  },
  {
   "cell_type": "code",
   "execution_count": 2,
   "metadata": {},
   "outputs": [],
   "source": [
    "nlp = spacy.load('en_core_web_lg')"
   ]
  },
  {
   "cell_type": "markdown",
   "metadata": {},
   "source": [
    "# Try seeing if neuralcoref will help"
   ]
  },
  {
   "cell_type": "code",
   "execution_count": 546,
   "metadata": {},
   "outputs": [
    {
     "data": {
      "text/plain": [
       "'Deepika has a dog. The movie star loves a dog. The movie star has always been fond of animals'"
      ]
     },
     "execution_count": 546,
     "metadata": {},
     "output_type": "execute_result"
    }
   ],
   "source": [
    "# Let's try before using the conversion dictionary:\n",
    "try:\n",
    "    nlp.remove_pipe('neuralcoref')\n",
    "except:\n",
    "    pass\n",
    "\n",
    "neuralcoref.add_to_pipe(nlp, max_dist=500, conv_dict={'Deepika': ['entity']})\n",
    "doc = nlp(u'Deepika has a dog. She loves him. The movie star has always been fond of animals')\n",
    "doc._.coref_resolved"
   ]
  },
  {
   "cell_type": "code",
   "execution_count": 3,
   "metadata": {},
   "outputs": [
    {
     "data": {
      "text/plain": [
       "[Deepika: [Deepika, She, him, The movie star]]"
      ]
     },
     "execution_count": 3,
     "metadata": {},
     "output_type": "execute_result"
    }
   ],
   "source": [
    "doc._.coref_clusters"
   ]
  },
  {
   "cell_type": "code",
   "execution_count": 7,
   "metadata": {},
   "outputs": [],
   "source": [
    "db_path = '../../edit-pathways/data/diffengine-diffs/spark-output/nyt-matched-sentences.db'\n",
    "db_path = '../../edit-pathways/data/diffengine-diffs/db/newssniffer-nytimes.db'\n",
    "conn = sqlite3.connect(db_path)\n",
    "df = pd.read_sql('SELECT * from entryversion limit 5', con=conn)\n",
    "t = df['summary'][0].replace('</p><p>', ' ')"
   ]
  },
  {
   "cell_type": "code",
   "execution_count": 9,
   "metadata": {},
   "outputs": [],
   "source": [
    "doc = nlp(t)"
   ]
  },
  {
   "cell_type": "code",
   "execution_count": null,
   "metadata": {
    "scrolled": true
   },
   "outputs": [],
   "source": [
    "doc._.coref_clusters"
   ]
  },
  {
   "cell_type": "code",
   "execution_count": 60,
   "metadata": {},
   "outputs": [],
   "source": [
    "s_pre = df['summary'][0].split('</p><p>')\n",
    "s_fixed = [] \n",
    "for s in s_pre:\n",
    "    doc = nlp(s)\n",
    "    s_fixed.append(doc._.coref_resolved)"
   ]
  },
  {
   "cell_type": "code",
   "execution_count": 61,
   "metadata": {},
   "outputs": [],
   "source": [
    "htmls = []\n",
    "for s_o, s_n in zip(s_pre, s_fixed):\n",
    "    v_o, v_n = unp.html_compare_sentences(s_o, s_n)\n",
    "    htmls.append((v_o, v_n))"
   ]
  },
  {
   "cell_type": "code",
   "execution_count": 65,
   "metadata": {
    "scrolled": false
   },
   "outputs": [
    {
     "data": {
      "text/html": [
       "<table><tr><td>In Silicon Valley , Apple just won big against Samsung in the patent lawsuit of the year , after trading claims and counterclaims of pilfered product ideas . Across the country , in a federal court in Florida , an inventor named Mark Stadnyk is waging a different kind of patent warfare — an ambitious and perhaps quixotic legal foray .</td><td>In Silicon Valley , Apple just won big against Samsung in the patent lawsuit of the year , after trading claims and counterclaims of pilfered product ideas . Across the country , in a federal court in Florida , an inventor named Mark Stadnyk is waging a different kind of patent warfare — an ambitious and perhaps quixotic legal foray .</td></tr><tr><td>Mr. Stadnyk , who holds a patent on a motorcycle windshield , is suing the United States government , aiming to head off a patent law that he says will favor big companies and hurt lone inventors like <span style=\"background-color:rgba(255,0,0,0.3)\">himself</span>  .</td><td>Mr. Stadnyk , who holds a patent on a motorcycle windshield , is suing the United States government , aiming to head off a patent law that he says will favor big companies and hurt lone inventors like  <span style=\"background-color:rgba(0,255,0,0.3)\">he</span> .</td></tr><tr><td>Represented by a prominent Washington lawyer , Mr. Stadnyk filed a suit last month that challenges the constitutionality of legislation that Congress passed last fall , the America Invents Act . Mr. Stadnyk and <span style=\"background-color:rgba(255,0,0,0.3)\">his</span>   lawyer — along with some academics , entrepreneurs and venture capitalists — assert that       the   legislation           is a triumph of corporate lobbying power over the founders ’ wishes , and that <span style=\"background-color:rgba(255,0,0,0.3)\">it</span>                     threatens America ’s stature as the world ’s leading innovator .</td><td>Represented by a prominent Washington lawyer , Mr. Stadnyk filed a suit last month that challenges the constitutionality of legislation that Congress passed last fall , the America Invents Act . Mr. Stadnyk and  <span style=\"background-color:rgba(0,255,0,0.3)\">Mr.</span> <span style=\"background-color:rgba(0,255,0,0.3)\">Stadnyk</span> lawyer — along with some academics , entrepreneurs and venture capitalists — assert that <span style=\"background-color:rgba(0,255,0,0.3)\">a</span> <span style=\"background-color:rgba(0,255,0,0.3)\">suit</span> <span style=\"background-color:rgba(0,255,0,0.3)\">last</span> <span style=\"background-color:rgba(0,255,0,0.3)\">month</span> <span style=\"background-color:rgba(0,255,0,0.3)\">that</span> <span style=\"background-color:rgba(0,255,0,0.3)\">challenges</span> the <span style=\"background-color:rgba(0,255,0,0.3)\">constitutionality</span> <span style=\"background-color:rgba(0,255,0,0.3)\">of</span> legislation <span style=\"background-color:rgba(0,255,0,0.3)\">that</span> <span style=\"background-color:rgba(0,255,0,0.3)\">Congress</span> <span style=\"background-color:rgba(0,255,0,0.3)\">passed</span> <span style=\"background-color:rgba(0,255,0,0.3)\">last</span> <span style=\"background-color:rgba(0,255,0,0.3)\">fall</span> <span style=\"background-color:rgba(0,255,0,0.3)\">,</span> <span style=\"background-color:rgba(0,255,0,0.3)\">the</span> <span style=\"background-color:rgba(0,255,0,0.3)\">America</span> <span style=\"background-color:rgba(0,255,0,0.3)\">Invents</span> <span style=\"background-color:rgba(0,255,0,0.3)\">Act</span> is a triumph of corporate lobbying power over the founders ’ wishes , and that  <span style=\"background-color:rgba(0,255,0,0.3)\">a</span> <span style=\"background-color:rgba(0,255,0,0.3)\">suit</span> <span style=\"background-color:rgba(0,255,0,0.3)\">last</span> <span style=\"background-color:rgba(0,255,0,0.3)\">month</span> <span style=\"background-color:rgba(0,255,0,0.3)\">that</span> <span style=\"background-color:rgba(0,255,0,0.3)\">challenges</span> <span style=\"background-color:rgba(0,255,0,0.3)\">the</span> <span style=\"background-color:rgba(0,255,0,0.3)\">constitutionality</span> <span style=\"background-color:rgba(0,255,0,0.3)\">of</span> <span style=\"background-color:rgba(0,255,0,0.3)\">legislation</span> <span style=\"background-color:rgba(0,255,0,0.3)\">that</span> <span style=\"background-color:rgba(0,255,0,0.3)\">Congress</span> <span style=\"background-color:rgba(0,255,0,0.3)\">passed</span> <span style=\"background-color:rgba(0,255,0,0.3)\">last</span> <span style=\"background-color:rgba(0,255,0,0.3)\">fall</span> <span style=\"background-color:rgba(0,255,0,0.3)\">,</span> <span style=\"background-color:rgba(0,255,0,0.3)\">the</span> <span style=\"background-color:rgba(0,255,0,0.3)\">America</span> <span style=\"background-color:rgba(0,255,0,0.3)\">Invents</span> <span style=\"background-color:rgba(0,255,0,0.3)\">Act</span> threatens America ’s stature as the world ’s leading innovator .</td></tr><tr><td>The present system , one of the nation ’s oldest patent principles and called “ first to invent , ” relies on lab notebooks , e - mails and early prototypes to establish the date of invention . The impending law would overturn that by awarding patents to the inventors who are “ first to file ” with the United States Patent and Trademark Office .</td><td>The present system , one of the nation ’s oldest patent principles and called “ first to invent , ” relies on lab notebooks , e - mails and early prototypes to establish the date of invention . The impending law would overturn that by awarding patents to the inventors who are “ first to file ” with the United States Patent and Trademark Office .</td></tr><tr><td>Mr. Stadnyk , 48 , a garage inventor who stumbled into the world of patents after he bought a powerful new motorcycle and wanted to avoid being battered by the wind when riding at 60 miles an hour , even with a windshield . <span style=\"background-color:rgba(255,0,0,0.3)\">He</span>  devised a system of brackets and gears to adjust the height and angle of <span style=\"background-color:rgba(255,0,0,0.3)\">the</span>  windshield and the gap between it and <span style=\"background-color:rgba(255,0,0,0.3)\">the</span>    motorcycle . With <span style=\"background-color:rgba(255,0,0,0.3)\">his</span>  system , he says , the rider feels a flutter of breeze instead of jolting winds and turbulence .</td><td>Mr. Stadnyk , 48 , a garage inventor who stumbled into the world of patents after he bought a powerful new motorcycle and wanted to avoid being battered by the wind when riding at 60 miles an hour , even with a windshield .  <span style=\"background-color:rgba(0,255,0,0.3)\">he</span> devised a system of brackets and gears to adjust the height and angle of  <span style=\"background-color:rgba(0,255,0,0.3)\">a</span> windshield and the gap between it and  <span style=\"background-color:rgba(0,255,0,0.3)\">a</span> <span style=\"background-color:rgba(0,255,0,0.3)\">powerful</span> <span style=\"background-color:rgba(0,255,0,0.3)\">new</span> motorcycle . With  <span style=\"background-color:rgba(0,255,0,0.3)\">he</span> system , he says , the rider feels a flutter of breeze instead of jolting winds and turbulence .</td></tr></table>"
      ],
      "text/plain": [
       "<IPython.core.display.HTML object>"
      ]
     },
     "metadata": {},
     "output_type": "display_data"
    }
   ],
   "source": [
    "all_html = [] # '<table>%s</table>'\n",
    "for v_o, v_n in htmls[:5]:\n",
    "    all_html.append('<tr><td>%s</td><td>%s</td></tr>' % (v_o, v_n))\n",
    "display(HTML('<table>%s</table>' % ''.join(all_html)))"
   ]
  },
  {
   "cell_type": "markdown",
   "metadata": {},
   "source": [
    "# AllenNLP Coref"
   ]
  },
  {
   "cell_type": "code",
   "execution_count": null,
   "metadata": {
    "scrolled": true
   },
   "outputs": [],
   "source": [
    "from allennlp.predictors.predictor import Predictor\n",
    "\n",
    "model_url = 'https://storage.googleapis.com/allennlp-public-models/coref-spanbert-large-2020.02.27.tar.gz'\n",
    "predictor = Predictor.from_path(model_url)  # load the model"
   ]
  },
  {
   "cell_type": "code",
   "execution_count": 547,
   "metadata": {},
   "outputs": [
    {
     "name": "stdout",
     "output_type": "stream",
     "text": [
      "[[[0, 2], [6, 6], [13, 13]], [[6, 8], [15, 15]]]\n",
      "Eva and Martha didn't want Eva and Martha's friend Jenny to feel lonely so Eva and Martha invited their friend Jenny to the party.\n"
     ]
    }
   ],
   "source": [
    "text = \"Eva and Martha didn't want their friend Jenny to feel lonely so they invited her to the party.\"\n",
    "prediction = predictor.predict(document=text)  # get the prediction\n",
    "\n",
    "print(prediction['clusters'])  # list of clusters (the indices of spaCy tokens)\n",
    "# [[[0, 2], [6, 6], [13, 13]], [[6, 8], [15, 15]]]\n",
    "\n",
    "print(predictor.coref_resolved(text))  # resolved text"
   ]
  },
  {
   "cell_type": "code",
   "execution_count": 119,
   "metadata": {},
   "outputs": [],
   "source": [
    "pred = predictor.predict(t)"
   ]
  },
  {
   "cell_type": "code",
   "execution_count": 122,
   "metadata": {},
   "outputs": [],
   "source": [
    "t_r = predictor.coref_resolved(t)"
   ]
  },
  {
   "cell_type": "code",
   "execution_count": 125,
   "metadata": {},
   "outputs": [],
   "source": [
    "q = util.get_quotes_method_2(text=t_r, cluster=True, resolve_coref=False, greedyness=.4, max_dist=150)"
   ]
  },
  {
   "cell_type": "code",
   "execution_count": 721,
   "metadata": {},
   "outputs": [],
   "source": [
    "# clusters = predictor.predict(t)['clusters']\n",
    "doc = nlp(t)"
   ]
  },
  {
   "cell_type": "code",
   "execution_count": 1510,
   "metadata": {},
   "outputs": [],
   "source": [
    "fuzzy = FuzzyIntersectionStrategy(predictor, nlp)\n",
    "c = fuzzy.clusters(t)"
   ]
  },
  {
   "cell_type": "markdown",
   "metadata": {},
   "source": [
    "## extract quotes using replaced document"
   ]
  },
  {
   "cell_type": "code",
   "execution_count": 521,
   "metadata": {},
   "outputs": [],
   "source": [
    "t_int = improved_replace_corefs(doc, c)\n",
    "t_r_imp = improved_replace_corefs(doc, clusters)\n",
    "q1 = util.get_quotes_method_2(text=t_int, cluster=False, resolve_coref=False, greedyness=.4, max_dist=150)"
   ]
  },
  {
   "cell_type": "code",
   "execution_count": 527,
   "metadata": {
    "scrolled": true
   },
   "outputs": [],
   "source": [
    "doc = nlp(t_int)"
   ]
  },
  {
   "cell_type": "code",
   "execution_count": 528,
   "metadata": {
    "scrolled": true
   },
   "outputs": [
    {
     "name": "stdout",
     "output_type": "stream",
     "text": [
      "In Silicon Valley, Apple just won big against Samsung in the patent lawsuit of the year, after trading claims and counterclaims of pilfered product ideas.\n",
      "\n",
      "Across the country, in a federal court in Florida, an inventor named Mark Stadnyk is waging a different kind of patent warfare — an ambitious and perhaps quixotic legal foray.\n",
      "\n",
      "Mr. Stadnyk, who holds a patent on a motorcycle windshield, is suing the United States government, aiming to head off a patent law that the legislation says will favor big companies and hurt lone inventors like an inventor named Mark Stadnyk.\n",
      "\n",
      "Represented by a prominent Washington lawyer, an inventor named Mark Stadnyk filed a suit last month that challenges the constitutionality of legislation that Congress passed last fall, the legislation.\n",
      "\n",
      "Mr. Stadnyk and an inventor named Mark Stadnyk's lawyer — along with some academics, entrepreneurs and venture capitalists\n",
      "\n",
      "— assert that the legislation is a triumph of corporate lobbying power over the founders’ wishes, and that the legislation threatens the United States government’s stature as the world’s leading innovator.\n",
      "\n",
      "The present system, one of the nation’s oldest patent principles and called “first to invent,” relies on lab notebooks, e-mails and early prototypes to establish the date of invention.\n",
      "\n",
      "the legislation would overturn that by awarding patents to the inventors who are “first to file” with the United States Patent and Trademark Office.\n",
      "\n",
      "Mr. Stadnyk, 48, a garage inventor who stumbled into the world of patents after he bought a powerful new motorcycle and wanted to avoid being battered by the wind when riding at 60 miles an hour, even with a windshield.\n",
      "\n",
      "an inventor named Mark Stadnyk devised a system of brackets and gears to adjust the height and angle of the windshield and the gap between it and a powerful new motorcycle.\n",
      "\n",
      "With an inventor named Mark Stadnyk's system, an inventor named Mark Stadnyk says, the rider feels a flutter of breeze instead of jolting winds and turbulence.\n",
      "\n",
      "Mr. Stadnyk, who describes an inventor named Mark Stadnyk's invention style as “rough hacking with chunks of metal,” founded an inventor named Mark Stadnyk's company, MadStad Engineering, in 2006, and as sales picked up, an inventor named Mark Stadnyk stopped working as a computer consultant to devote an inventor named Mark Stadnyk to the business.\n",
      "\n",
      "Today, MadStad employs eight people, including Mr. Stadnyk and his wife, Patty.\n",
      "\n",
      "an inventor named Mark Stadnyk's adjustable windshield systems, priced from $100 to $320, are now used on dozens of makes and models of motorcycles, and are sold through dealers in Australia, Britain and Spain, as well as the United States government.\n",
      "\n",
      "Yearly sales, an inventor named Mark Stadnyk said, are more than $500,000 and growing briskly.\n",
      "\n",
      "an inventor named Mark Stadnyk holds three patents, and an inventor named Mark Stadnyk speaks of a patented idea as a uniquely human property right.\n",
      "\n",
      "“\n",
      "\n",
      "It came out of your mind,” an inventor named Mark Stadnyk explained.\n",
      "\n",
      "“\n",
      "\n",
      "It’s not property you bought or inherited.”\n",
      "\n",
      "an inventor named Mark Stadnyk became interested in the legislation as the legislation proceeded.\n",
      "\n",
      "an inventor named Mark Stadnyk says an inventor named Mark Stadnyk studied the proposals and the legislation, read blogs and reached out to Washington lawyers and academics who raised the issue of the legislation's constitutionality.\n",
      "\n",
      "A grass-roots activist, an inventor named Mark Stadnyk even made a couple of YouTube videos.\n",
      "\n",
      "The shift to a first-to-file system, scheduled to take effect next March, is intended to simplify and streamline the current system, which can invite protracted litigation between competing inventors.\n",
      "\n",
      "The switch would also put the United States government in harmony with patent offices in Europe, Japan and elsewhere, allowing Japan and elsewhere to share information and potentially ease the strain on overburdened patent examiners worldwide.\n",
      "\n",
      "The efficiency argument is the mainstream view of corporate America and Washington policy makers.\n",
      "\n",
      "President Obama declared that the legislation would cut “the red tape that stops too many inventors and entrepreneurs from quickly turning new ideas into thriving businesses — which holds our whole economy back.\n",
      "\n",
      "”\n",
      "\n",
      "But opponents say the legislation will give big companies a huge advantage over start-ups and small inventors.\n",
      "\n",
      "Large corporations have deep pockets and armies of lawyers to write up and file patents, they say, and the legislation will touch off a paper chase to the patent office instead of a race to innovate.\n",
      "\n",
      "Yet the opponents are in the minority.\n",
      "\n",
      "And there is genuine debate about how much garage inventors and fledgling companies contribute to innovation and economic growth these days.\n",
      "\n",
      "an inventor named Mark Stadnyk sees an inventor named Mark Stadnyk's courtroom quest as the intellectual property equivalent of the recent constitutional challenge to the President Obama administration’s health insurance overhaul, in legislation that was narrowly upheld by the Supreme Court.\n",
      "\n",
      "“\n",
      "\n",
      "Others took on Obamacare, and this is my fight,” said Mr. Stadnyk, who lives in Ridge Manor,\n",
      "\n",
      "Fla. “\n",
      "\n",
      "Somebody’s got to do something.\n",
      "\n",
      "” Mr. Stadnyk, who says an inventor named Mark Stadnyk is a conservative, warns of the danger of the patent legislation in populist, antigovernment terms.\n",
      "\n",
      "“\n",
      "\n",
      "My property would be given away by the United States government under the legislation,” an inventor named Mark Stadnyk said.\n",
      "\n",
      "Yet there are liberals among the law’s critics as well.\n",
      "\n",
      "Mr. Stadnyk’s Washington-based lawyer in the suit is Jonathan S. Massey.\n",
      "\n",
      "A graduate of Harvard Law School, Jonathan S. Massey was a clerk for the liberal Supreme Court Justice William J. Brennan Jr., and is a protégé of Laurence H. Tribe, a leading professor of constitutional law at Harvard.\n",
      "\n",
      "Jonathan S. Massey worked on the case presented to the Supreme Court on behalf of former Vice President Al Gore in Bush v. Gore, an appeal that lost and effectively settled the 2000 presidential election.\n",
      "\n",
      "the legislation was a byproduct of years of lobbying and eventual compromise, especially by major technology and pharmaceutical companies.\n",
      "\n",
      "the legislation was approved overwhelmingly in both the House and the Senate.\n",
      "\n",
      "Few focused on the potential of a constitutional problem.\n",
      "\n",
      "Senator Barbara Boxer, Democrat of California, was an exception.\n",
      "\n",
      "Speaking on the Senate floor last year, Senator Barbara Boxer, Democrat of California said, “I strongly disagree with changing the core principle of the United States government's patent system — awarding a patent to the true inventor — for the sake of perceived administrative ease.\n",
      "\n",
      "”\n",
      "\n",
      "Senator Barbara Boxer, Democrat of California went on to say that the Constitution singles out and grants exclusive rights to individuals with new, useful ideas.\n",
      "\n",
      "“\n",
      "\n",
      "the United States government are the only country in the world,” Senator Barbara Boxer, Democrat of California said, “whose Constitution specifically mentions ‘inventor.\n",
      "\n",
      "’ \n",
      "\n",
      "” Jonathan S. Massey says Jonathan S. Massey became involved in the legislative debate and the suit because of Jonathan S. Massey's background in constitutional law.\n",
      "\n",
      "the legislation, Jonathan S. Massey said, “violates the text and the original understanding of the Constitution.\n",
      "\n",
      "”\n",
      "\n",
      "In the suit, the United States government has until Thursday to reply.\n",
      "\n",
      "Jonathan S. Massey declined to say who would provide financial support if the case proceeded through appeals and higher courts.\n",
      "\n",
      "As a matter of confidentiality and courtroom tactics, Jonathan S. Massey said Jonathan S. Massey did not want to let “the other side know the size of my resources.\n",
      "\n",
      "” the suit, according to some legal experts, faces long odds.\n",
      "\n",
      "The courts, they say, have treated the section of the Constitution that concerns intellectual property rights as utilitarian doctrine subject to Congressional interpretation.\n",
      "\n",
      "“\n",
      "\n",
      "Congress is fairly free to do as Congress sees fit to promote innovation,” said Arti K. Rai, a professor at Duke University School of Law and a former senior official in the patent office.\n",
      "\n",
      "Mark A. Lemley, a professor at Stanford Law School, said the constitutional challenge “is the legal equivalent of fringe science.\n",
      "\n",
      "”\n",
      "\n",
      "“\n",
      "\n",
      "There are people who didn’t like the outcome of the legislation, and people who didn’t like the outcome of the patent legislation may be right in not liking the outcome,” Mark A. Lemley, a professor at Stanford Law School said.\n",
      "\n",
      "“\n",
      "\n",
      "But that doesn’t make it unconstitutional.\n",
      "\n",
      "”\n",
      "\n",
      "In Silicon Valley, Stephen G. Perlman, a high-tech inventor and entrepreneur, worries about the legislation practical effect.\n",
      "\n",
      "His invention factory, Rearden, has produced a series of innovations and spinoff companies, including ones that make the technology for fine-grain computer-generated facial imagery used in Hollywood, and another company whose data-handling software generates photo-realistic, high-speed play for online gamers on tablet computers.\n",
      "\n",
      "The new law, he said, with its emphasis on speed, could well make it more difficult to wait before filing an application, to take the time to experiment over years, and to confidentially show early concepts to investors to raise money.\n",
      "\n",
      "“\n",
      "\n",
      "I’m scared that the legislation is a threat to the survival of our species\n",
      "\n",
      "— people who do fundamental, long-term invention,” Mr. Perlman said.\n",
      "\n",
      "Gary Lauder, a venture capitalist, said the legislation had the logic of trying to make the patent system more efficient and less prone to litigation.\n",
      "\n",
      "But he is a critic.\n",
      "\n",
      "“\n",
      "\n",
      "the legislation favors large companies at the expense of small ones,” Gary Lauder, a venture capitalist said.\n",
      "\n",
      "“\n",
      "\n",
      "There wasn’t enough advocacy for unborn companies.\n",
      "\n",
      "And partly as a result of our current patent system, we do have a huge amount of innovation in the United States government.\n",
      "\n",
      "”\n",
      "\n"
     ]
    }
   ],
   "source": [
    "for s in doc.sents:\n",
    "    print(s)\n",
    "    print()"
   ]
  },
  {
   "cell_type": "markdown",
   "metadata": {},
   "source": [
    "# Use coref-clusters to merge extracted sources"
   ]
  },
  {
   "cell_type": "code",
   "execution_count": 555,
   "metadata": {},
   "outputs": [],
   "source": [
    "doc = nlp(t)"
   ]
  },
  {
   "cell_type": "markdown",
   "metadata": {},
   "source": [
    "# Try backtracking from Named Entities (PERSON) first"
   ]
  },
  {
   "cell_type": "code",
   "execution_count": 3,
   "metadata": {},
   "outputs": [],
   "source": [
    "import coref_resolution_util"
   ]
  },
  {
   "cell_type": "code",
   "execution_count": 11,
   "metadata": {},
   "outputs": [
    {
     "data": {
      "text/plain": [
       "<module 'coref_resolution_util' from '../scripts/coref_resolution_util.py'>"
      ]
     },
     "execution_count": 11,
     "metadata": {},
     "output_type": "execute_result"
    }
   ],
   "source": [
    "from importlib import reload\n",
    "reload(coref_resolution_util)"
   ]
  },
  {
   "cell_type": "code",
   "execution_count": null,
   "metadata": {},
   "outputs": [],
   "source": [
    "import sqlite3\n",
    "import pandas as pd \n",
    "import sys\n",
    "from IPython.display import display, HTML\n",
    "sys.path.insert(0, '../../edit-pathways/util/')\n",
    "sys.path.insert(0, '../scripts/')\n",
    "import util_newssniffer_parsing as unp \n",
    "import spacy\n",
    "import neuralcoref\n",
    "\n",
    "conn = sqlite3.connect(db_path)\n",
    "df = pd.read_sql('SELECT * from entryversion limit 5', con=conn)\n",
    "t = df['summary'][0].replace('</p><p>', ' ')"
   ]
  },
  {
   "cell_type": "code",
   "execution_count": 14,
   "metadata": {
    "scrolled": true
   },
   "outputs": [],
   "source": [
    "quote_idxes, sent_words, sent_lens = coref_resolution_util.perform_quote_extraction_and_clustering(t)"
   ]
  },
  {
   "cell_type": "code",
   "execution_count": null,
   "metadata": {},
   "outputs": [],
   "source": []
  },
  {
   "cell_type": "code",
   "execution_count": null,
   "metadata": {},
   "outputs": [],
   "source": []
  },
  {
   "cell_type": "code",
   "execution_count": null,
   "metadata": {},
   "outputs": [],
   "source": []
  },
  {
   "cell_type": "code",
   "execution_count": null,
   "metadata": {},
   "outputs": [],
   "source": []
  },
  {
   "cell_type": "code",
   "execution_count": null,
   "metadata": {},
   "outputs": [],
   "source": []
  },
  {
   "cell_type": "code",
   "execution_count": 1508,
   "metadata": {},
   "outputs": [
    {
     "data": {
      "text/html": [
       "In Silicon Valley , Apple just won big against Samsung in the patent lawsuit of the year , after trading claims and counterclaims of pilfered product ideas .<br><br>Across the country , in a federal court in Florida , an inventor named Mark Stadnyk is waging a different kind of patent warfare — an ambitious and perhaps quixotic legal foray .<br><br>Mr. Stadnyk , who holds a patent on a motorcycle windshield , is suing the United States government , aiming to head off a patent law that he says will favor big companies and hurt lone inventors like himself .<br><br>Represented by a prominent Washington lawyer , Mr. Stadnyk filed a suit last month that challenges the constitutionality of legislation that Congress passed last fall , the America Invents Act .<br><br>Mr. Stadnyk and his lawyer — along with some academics , entrepreneurs and venture capitalists<br><br>— assert that the legislation is a triumph of corporate lobbying power over the founders ’ wishes , and that it threatens America ’s stature as the world ’s leading innovator .<br><br>The present system , one of the nation ’s oldest patent principles and called “ first to invent , ” relies on lab notebooks , e - mails and early prototypes to establish the date of invention .<br><br>The impending law would overturn that by awarding patents to the inventors who are “ first to file ” with the United States Patent and Trademark Office .<br><br>Mr. Stadnyk , 48 , a garage inventor who stumbled into the world of patents after he bought a powerful new motorcycle and wanted to avoid being battered by the wind when riding at 60 miles an hour , even with a windshield .<br><br>He devised a system of brackets and gears to adjust the height and angle of the windshield and the gap between it and the motorcycle .<br><br>With his system , he says , the rider feels a flutter of breeze instead of jolting winds and turbulence .<br><br>Mr. Stadnyk , who describes his invention style as “ rough hacking with chunks of metal , ” founded his company , MadStad Engineering , in 2006 , and as sales picked up , he stopped working as a computer consultant to devote himself to the business .<br><br>Today , MadStad employs eight people , including Mr. Stadnyk and his wife , Patty .<br><br>His adjustable windshield systems , priced from \\$ 100 to \\$ 320 , are now used on dozens of makes and models of motorcycles , and are sold through dealers in Australia , Britain and Spain , as well as the United States .<br><br>Yearly sales , he said , are more than \\$ 500,000 and growing briskly .<br><br>Mr. Stadnyk holds three patents , and he speaks of a patented idea as a uniquely human property right .<br><br>“<br><br>It came out of your mind , ” he explained .<br><br>“<br><br>It ’s not property you bought or inherited .<br><br>”<br><br>Mr. Stadnyk became interested in the patent legislation as it proceeded .<br><br>He says he studied the proposals and the law , read blogs and reached out to Washington lawyers and academics who raised the issue of its constitutionality .<br><br>A grass - roots activist , he even made a couple of YouTube videos .<br><br>The shift to a first - to - file system , scheduled to take effect next March , is intended to simplify and streamline the current system , which can invite protracted litigation between competing inventors .<br><br>The switch would also put the United States in harmony with patent offices in Europe , Japan and elsewhere , allowing them to share information and potentially ease the strain on overburdened patent examiners worldwide .<br><br>The efficiency argument is the mainstream view of corporate America and Washington policy makers .<br><br>President Obama declared that the new law would cut “ the red tape that stops too many inventors and entrepreneurs from quickly turning new ideas into thriving businesses — which holds our whole economy back .<br><br>”<br><br>But opponents say it will give big companies a huge advantage over start - ups and small inventors .<br><br>Large corporations have deep pockets and armies of lawyers to write up and file patents , they say , and the new law will touch off a paper chase to the patent office instead of a race to innovate .<br><br>Yet the opponents are in the minority .<br><br>And there is genuine debate about how much garage inventors and fledgling companies contribute to innovation and economic growth these days .<br><br>Mr. Stadnyk sees his courtroom quest as the intellectual property equivalent of the recent constitutional challenge to the Obama administration ’s health insurance overhaul , in legislation that was narrowly upheld by the Supreme Court .<br><br>“<br><br>Others took on Obamacare , and this is my fight , ” said Mr. Stadnyk , who lives in Ridge Manor ,<br><br>Fla. “<br><br>Somebody ’s got to do something .<br><br>” Mr. Stadnyk , who says he is a conservative , warns of the danger of the patent legislation in populist , antigovernment terms .<br><br>“<br><br>My property would be given away by the government under this new law , ” he said .<br><br>Yet there are liberals among the law ’s critics as well .<br><br>Mr. Stadnyk ’s Washington - based lawyer in the suit is Jonathan S. Massey .<br><br>A graduate of Harvard Law School , Mr. Massey was a clerk for the liberal Supreme Court Justice William J. Brennan Jr. , and is a protégé of Laurence H. Tribe , a leading professor of constitutional law at Harvard .<br><br>Mr. Massey worked on the case presented to the Supreme Court on behalf of former Vice President Al Gore in Bush v. Gore , an appeal that lost and effectively settled the 2000 presidential election .<br><br>The America Invents Act was a byproduct of years of lobbying and eventual compromise , especially by major technology and pharmaceutical companies .<br><br>The new patent law was approved overwhelmingly in both the House and the Senate .<br><br>Few focused on the potential of a constitutional problem .<br><br>Senator Barbara Boxer , Democrat of California , was an exception .<br><br>Speaking on the Senate floor last year , she said , “ I strongly disagree with changing the core principle of our patent system — awarding a patent to the true inventor — for the sake of perceived administrative ease .<br><br>”<br><br>Ms. Boxer went on to say that the Constitution singles out and grants exclusive rights to individuals with new , useful ideas .<br><br>“<br><br>We are the only country in the world , ” she said , “ whose Constitution specifically mentions<br><br>‘ inventor .<br><br>’  <br><br>” Mr. Massey says he became involved in the legislative debate and this suit because of his background in constitutional law .<br><br>The new patent law , he said , “ violates the text and the original understanding of the Constitution .<br><br>”<br><br>In the suit , the government has until Thursday to reply .<br><br>Mr. Massey declined to say who would provide financial support if the case proceeded through appeals and higher courts .<br><br>As a matter of confidentiality and courtroom tactics , he said he did not want to let “ the other side know the size of my resources .<br><br>”<br><br>The suit , according to some legal experts , faces long odds .<br><br>The courts , they say , have treated the section of the Constitution that concerns intellectual property rights as utilitarian doctrine subject to Congressional interpretation .<br><br>“<br><br>Congress is fairly free to do as it sees fit to promote innovation , ” said Arti K. Rai , a professor at Duke University School of Law and a former senior official in the patent office .<br><br>Mark A. Lemley , a professor at Stanford Law School , said the constitutional challenge “ is the legal equivalent of fringe science .<br><br>”<br><br>“<br><br>There are people who did n’t like the outcome of the patent legislation , and they may be right in not liking the outcome , ” he said .<br><br>“<br><br>But that does n’t make it unconstitutional .<br><br>”<br><br>In Silicon Valley , Stephen G. Perlman , a high - tech inventor and entrepreneur , worries about the law ’s practical effect .<br><br>His invention factory , Rearden , has produced a series of innovations and spinoff companies , including ones that make the technology for fine - grain computer - generated facial imagery used in Hollywood , and another company whose data - handling software generates photo - realistic , high - speed play for online gamers on tablet computers .<br><br>The new law , he said , with its emphasis on speed , could well make it more difficult to wait before filing an application , to take the time to experiment over years , and to confidentially show early concepts to investors to raise money .<br><br>“<br><br>I ’m scared that this law is a threat to the survival of our species<br><br>— people who do fundamental , long - term invention , ” Mr. Perlman said .<br><br><span style=\"background-color: Gold\">Gary Lauder , a venture capitalist , said the new law had the logic of trying to make the patent system more efficient and less prone to litigation .</span><br><br>But he is a critic .<br><br>“<br><br><span style=\"background-color: Gold\">This law favors large companies at the expense of small ones , ” <span style=\"background-color: HotPink\">Mr. Lauder</span> said .</span><br><br><span style=\"background-color: Gold\">“</span><br><br><span style=\"background-color: Gold\">There was n’t enough advocacy for unborn companies .</span><br><br><span style=\"background-color: Gold\">And partly as a result of our current patent system , we do have a huge amount of innovation in America .</span><br><br>”"
      ],
      "text/plain": [
       "<IPython.core.display.HTML object>"
      ]
     },
     "metadata": {},
     "output_type": "display_data"
    }
   ],
   "source": [
    "back_span_col = 'Crimson'\n",
    "back_sent_col = 'DarkSeaGreen'\n",
    "quote_sent_col = 'Gold'\n",
    "quote_span_col = 'HotPink'\n",
    "head_span_col = 'Lime'\n",
    "\n",
    "t2 = t.iloc[13]\n",
    "\n",
    "q_sents = set(map(lambda x: x[0], t2['quote_chunks']))\n",
    "b_sents = set(map(lambda x: x[0], t2['background_chunks']))\n",
    "\n",
    "all_sents_html = []\n",
    "for s_idx, sent in enumerate(sent_words):\n",
    "    adj = sum(sent_lens[:s_idx])\n",
    "    if s_idx == t2['head_s_idx']:\n",
    "        sent, adj = format_span_with_word_list(adj, sent, t2['head_span'], head_span_col)\n",
    "    # format sentence\n",
    "    if s_idx in q_sents:\n",
    "        q_chunks = list(filter(lambda x: x[0] == s_idx, t2['quote_chunks']))\n",
    "        for _, q_span in q_chunks:\n",
    "            sent, adj = format_span_with_word_list(adj, sent, q_span, quote_span_col)\n",
    "        sent = format_sent_with_word_list(sent, quote_sent_col)\n",
    "    elif s_idx in b_sents:\n",
    "        b_chunks = list(filter(lambda x: x[0] == s_idx, t2['background_chunks']))\n",
    "        for _, b_span in b_chunks:\n",
    "            sent, adj = format_span_with_word_list(adj, sent, b_span, back_span_col)\n",
    "        sent = format_sent_with_word_list(sent, back_sent_col)\n",
    "    else:\n",
    "        sent = ' '.join(sent)\n",
    "    all_sents_html.append(sent)\n",
    "\n",
    "display(HTML('<br><br>'.join(all_sents_html).replace('$', '\\$')))"
   ]
  },
  {
   "cell_type": "code",
   "execution_count": 1484,
   "metadata": {},
   "outputs": [
    {
     "data": {
      "text/plain": [
       "Barbara Boxer"
      ]
     },
     "execution_count": 1484,
     "metadata": {},
     "output_type": "execute_result"
    }
   ],
   "source": [
    "doc[t2['head_span'][0]:t2['head_span'][1]]"
   ]
  },
  {
   "cell_type": "code",
   "execution_count": null,
   "metadata": {},
   "outputs": [],
   "source": [
    "doc[t2['head_span'][0]:t2['head_span'][1]]"
   ]
  },
  {
   "cell_type": "code",
   "execution_count": null,
   "metadata": {},
   "outputs": [],
   "source": []
  },
  {
   "cell_type": "code",
   "execution_count": null,
   "metadata": {},
   "outputs": [],
   "source": []
  },
  {
   "cell_type": "code",
   "execution_count": null,
   "metadata": {},
   "outputs": [],
   "source": []
  },
  {
   "cell_type": "code",
   "execution_count": null,
   "metadata": {},
   "outputs": [],
   "source": []
  },
  {
   "cell_type": "code",
   "execution_count": null,
   "metadata": {},
   "outputs": [],
   "source": []
  },
  {
   "cell_type": "code",
   "execution_count": null,
   "metadata": {},
   "outputs": [],
   "source": []
  },
  {
   "cell_type": "code",
   "execution_count": null,
   "metadata": {},
   "outputs": [],
   "source": []
  },
  {
   "cell_type": "code",
   "execution_count": null,
   "metadata": {},
   "outputs": [],
   "source": []
  },
  {
   "cell_type": "code",
   "execution_count": null,
   "metadata": {},
   "outputs": [],
   "source": []
  },
  {
   "cell_type": "code",
   "execution_count": null,
   "metadata": {},
   "outputs": [],
   "source": []
  },
  {
   "cell_type": "code",
   "execution_count": null,
   "metadata": {},
   "outputs": [],
   "source": []
  },
  {
   "cell_type": "markdown",
   "metadata": {},
   "source": [
    "# Checks"
   ]
  },
  {
   "cell_type": "code",
   "execution_count": 1211,
   "metadata": {},
   "outputs": [
    {
     "data": {
      "text/plain": [
       "In Silicon Valley, Stephen G. Perlman, a high-tech inventor and entrepreneur, worries about the law’s practical effect."
      ]
     },
     "execution_count": 1211,
     "metadata": {},
     "output_type": "execute_result"
    }
   ],
   "source": [
    "list(doc.sents)[74]"
   ]
  },
  {
   "cell_type": "code",
   "execution_count": 1218,
   "metadata": {},
   "outputs": [],
   "source": [
    "q = extract_quotes_from_nsubj(doc, return_dict=True)"
   ]
  },
  {
   "cell_type": "code",
   "execution_count": null,
   "metadata": {},
   "outputs": [],
   "source": [
    "for possible_subject in list(doc.sents)[74]:\n",
    "#     if possible_subject.text == 'Perlman':\n",
    "#         break\n",
    "#     print(possible_subject)\n",
    "#     print(possible_subject.pos_)\n",
    "#     print()\n",
    "    if (\n",
    "        possible_subject.dep_ == 'nsubj' and \n",
    "        possible_subject.head.pos_ == 'VERB'\n",
    "    ):\n",
    "        print(possible_subject)\n",
    "    \n",
    "#     if False:\n",
    "#         if (\n",
    "#             possible_subject.dep_ == 'nsubj' and \n",
    "#             possible_subject.head.pos_ == 'VERB' and \n",
    "#             possible_subject.head.text in (\n",
    "#                 'say', 'says', 'said', \n",
    "#                 'describe', 'describes', 'described', \n",
    "#                 'claims', 'claims', 'claimed', \n",
    "#                 'explained', 'explains', 'explain',\n",
    "#                 'mentioned', 'mentions', 'mention',\n",
    "#                 'articulated', 'articulates', 'articulate',\n",
    "#                 'called', 'calls', 'call',\n",
    "#                 'declared', 'declares', 'declare',\n",
    "#                 'worried', 'worries', 'worry',\n",
    "#            )\n",
    "#         ):\n",
    "#             print(possible_subject)"
   ]
  },
  {
   "cell_type": "code",
   "execution_count": 1228,
   "metadata": {},
   "outputs": [
    {
     "data": {
      "text/plain": [
       "worries"
      ]
     },
     "execution_count": 1228,
     "metadata": {},
     "output_type": "execute_result"
    }
   ],
   "source": [
    "possible_subject.head"
   ]
  },
  {
   "cell_type": "code",
   "execution_count": 1230,
   "metadata": {},
   "outputs": [
    {
     "data": {
      "text/plain": [
       "'NOUN'"
      ]
     },
     "execution_count": 1230,
     "metadata": {},
     "output_type": "execute_result"
    }
   ],
   "source": [
    "possible_subject.head.pos_"
   ]
  },
  {
   "cell_type": "code",
   "execution_count": null,
   "metadata": {},
   "outputs": [],
   "source": []
  },
  {
   "cell_type": "code",
   "execution_count": null,
   "metadata": {},
   "outputs": [],
   "source": []
  },
  {
   "cell_type": "code",
   "execution_count": null,
   "metadata": {},
   "outputs": [],
   "source": []
  },
  {
   "cell_type": "code",
   "execution_count": null,
   "metadata": {},
   "outputs": [],
   "source": []
  },
  {
   "cell_type": "code",
   "execution_count": null,
   "metadata": {},
   "outputs": [],
   "source": []
  },
  {
   "cell_type": "code",
   "execution_count": null,
   "metadata": {},
   "outputs": [],
   "source": []
  },
  {
   "cell_type": "code",
   "execution_count": null,
   "metadata": {},
   "outputs": [],
   "source": []
  },
  {
   "cell_type": "code",
   "execution_count": null,
   "metadata": {},
   "outputs": [],
   "source": []
  },
  {
   "cell_type": "code",
   "execution_count": null,
   "metadata": {},
   "outputs": [],
   "source": []
  },
  {
   "cell_type": "code",
   "execution_count": null,
   "metadata": {},
   "outputs": [],
   "source": []
  },
  {
   "cell_type": "code",
   "execution_count": null,
   "metadata": {},
   "outputs": [],
   "source": []
  },
  {
   "cell_type": "code",
   "execution_count": null,
   "metadata": {},
   "outputs": [],
   "source": []
  },
  {
   "cell_type": "code",
   "execution_count": null,
   "metadata": {},
   "outputs": [],
   "source": []
  },
  {
   "cell_type": "code",
   "execution_count": null,
   "metadata": {},
   "outputs": [],
   "source": []
  },
  {
   "cell_type": "code",
   "execution_count": null,
   "metadata": {},
   "outputs": [],
   "source": []
  },
  {
   "cell_type": "code",
   "execution_count": null,
   "metadata": {},
   "outputs": [],
   "source": []
  },
  {
   "cell_type": "code",
   "execution_count": null,
   "metadata": {},
   "outputs": [],
   "source": []
  },
  {
   "cell_type": "code",
   "execution_count": 560,
   "metadata": {
    "scrolled": true
   },
   "outputs": [],
   "source": [
    "cluster_mapper = defaultdict(list)\n",
    "seen = set()\n",
    "for k in entities.keys():\n",
    "    if k in span_to_head_mapper:\n",
    "        referent_span = span_to_head_mapper[k]\n",
    "        cluster_mapper[(referent_span[0], referent_span[1] + 1)].append(k)\n",
    "        seen.add(k)\n",
    "\n",
    "for k in entities.keys():\n",
    "    if k not in seen:\n",
    "        cluster_mapper[k].append(k)"
   ]
  },
  {
   "cell_type": "code",
   "execution_count": 561,
   "metadata": {},
   "outputs": [],
   "source": [
    "from importlib import reload\n",
    "import parsing_util"
   ]
  },
  {
   "cell_type": "code",
   "execution_count": 562,
   "metadata": {},
   "outputs": [
    {
     "data": {
      "text/plain": [
       "<module 'parsing_util' from '../scripts/parsing_util.py'>"
      ]
     },
     "execution_count": 562,
     "metadata": {},
     "output_type": "execute_result"
    }
   ],
   "source": [
    "reload(parsing_util)"
   ]
  },
  {
   "cell_type": "code",
   "execution_count": 563,
   "metadata": {},
   "outputs": [],
   "source": [
    "def merge_clusters(entities, clusters=None, cluster_mapper=None):\n",
    "    if cluster_mapper == None:\n",
    "        cluster_mapper = {}\n",
    "        for cluster in clusters:\n",
    "            key = max(cluster, key=lambda x: len(x))\n",
    "            cluster_mapper[key] = cluster\n",
    "\n",
    "    # group for output\n",
    "    entities_clustered = defaultdict(lambda: {'background sentence': [], 'quote sentence': [], 'span_text': []})\n",
    "    for c_key, cluster in cluster_mapper.items():\n",
    "        for c_i in cluster:\n",
    "            for part in ['background sentence', 'quote sentence', 'span_text']:\n",
    "                to_add = entities[c_i][part]\n",
    "                if isinstance(to_add, list):\n",
    "                    entities_clustered[c_key][part].extend(to_add)\n",
    "                else:\n",
    "                    entities_clustered[c_key][part].append(to_add)\n",
    "    \n",
    "    ## \n",
    "    return entities_clustered"
   ]
  },
  {
   "cell_type": "code",
   "execution_count": 564,
   "metadata": {
    "scrolled": true
   },
   "outputs": [],
   "source": [
    "entities = merge_clusters(entities, cluster_mapper=cluster_mapper)"
   ]
  },
  {
   "cell_type": "code",
   "execution_count": 565,
   "metadata": {},
   "outputs": [],
   "source": [
    "def convert_entities_dict_to_text(entities, doc):\n",
    "    output_entities = {}\n",
    "    for k, v in entities.items():\n",
    "        key_text = doc[k[0]: k[1]].text\n",
    "        q_sent, ms = [], []\n",
    "        for q in v['quote sentence']:\n",
    "            q_sent.append((q[0], q[1].text))\n",
    "        for m in v['span_text']:\n",
    "            ms.append(m.text)\n",
    "        output_entities[key_text] = {'quote sentence': q_sent, 'entity mentions': ms, 'background sentence': []}\n",
    "    return output_entities "
   ]
  },
  {
   "cell_type": "code",
   "execution_count": 566,
   "metadata": {
    "scrolled": true
   },
   "outputs": [
    {
     "data": {
      "text/plain": [
       "{'the America Invents Act': {'quote sentence': [(2,\n",
       "    'Mr. Stadnyk, who holds a patent on a motorcycle windshield, is suing the United States government, aiming to head off a patent law that he says will favor big companies and hurt lone inventors like himself.')],\n",
       "  'entity mentions': ['he'],\n",
       "  'background sentence': []},\n",
       " 'an inventor named Mark Stadnyk': {'quote sentence': [(10,\n",
       "    'With his system, he says, the rider feels a flutter of breeze instead of jolting winds and turbulence.'),\n",
       "   (14, 'Yearly sales, he said, are more than $500,000 and growing briskly.'),\n",
       "   (22,\n",
       "    'He says he studied the proposals and the law, read blogs and reached out to Washington lawyers and academics who raised the issue of its constitutionality.'),\n",
       "   (40,\n",
       "    'My property would be given away by the government under this new law,” he said.')],\n",
       "  'entity mentions': ['he', 'he', 'He', 'he'],\n",
       "  'background sentence': []},\n",
       " 'Senator Barbara Boxer, Democrat of California': {'quote sentence': [(49,\n",
       "    'Speaking on the Senate floor last year, she said, “I strongly disagree with changing the core principle of our patent system — awarding a patent to the true inventor — for the sake of perceived administrative ease.'),\n",
       "   (53,\n",
       "    'We are the only country in the world,” she said, “whose Constitution specifically mentions')],\n",
       "  'entity mentions': ['she', 'she'],\n",
       "  'background sentence': []},\n",
       " 'Jonathan S. Massey': {'quote sentence': [(57,\n",
       "    'The new patent law, he said, “violates the text and the original understanding of the Constitution.'),\n",
       "   (61,\n",
       "    'As a matter of confidentiality and courtroom tactics, he said he did not want to let “the other side know the size of my resources.')],\n",
       "  'entity mentions': ['he', 'he'],\n",
       "  'background sentence': []},\n",
       " 'Mark A. Lemley, a professor at Stanford Law School': {'quote sentence': [(70,\n",
       "    'There are people who didn’t like the outcome of the patent legislation, and they may be right in not liking the outcome,” he said.')],\n",
       "  'entity mentions': ['he'],\n",
       "  'background sentence': []},\n",
       " 'opponents': {'quote sentence': [(29,\n",
       "    'But opponents say it will give big companies a huge advantage over start-ups and small inventors.')],\n",
       "  'entity mentions': ['opponents'],\n",
       "  'background sentence': []},\n",
       " '': {'quote sentence': [(76,\n",
       "    'The new law, he said, with its emphasis on speed, could well make it more difficult to wait before filing an application, to take the time to experiment over years, and to confidentially show early concepts to investors to raise money.')],\n",
       "  'entity mentions': ['he'],\n",
       "  'background sentence': []},\n",
       " 'Mr. Stadnyk': {'quote sentence': [(35,\n",
       "    'Others took on Obamacare, and this is my fight,” said Mr. Stadnyk, who lives in Ridge Manor,')],\n",
       "  'entity mentions': ['Mr. Stadnyk'],\n",
       "  'background sentence': []},\n",
       " 'who': {'quote sentence': [(38,\n",
       "    '” Mr. Stadnyk, who says he is a conservative, warns of the danger of the patent legislation in populist, antigovernment terms.')],\n",
       "  'entity mentions': ['who'],\n",
       "  'background sentence': []},\n",
       " 'Mr. Massey': {'quote sentence': [(56,\n",
       "    '” Mr. Massey says he became involved in the legislative debate and this suit because of his background in constitutional law.')],\n",
       "  'entity mentions': ['Mr. Massey'],\n",
       "  'background sentence': []},\n",
       " 'In Silicon': {'quote sentence': [(63,\n",
       "    'The suit , said some legal experts , faces long odds .')],\n",
       "  'entity mentions': ['The suit'],\n",
       "  'background sentence': []},\n",
       " 'Arti K. Rai': {'quote sentence': [(66,\n",
       "    'Congress is fairly free to do as it sees fit to promote innovation,” said Arti K. Rai, a professor at Duke University School of Law and a former senior official in the patent office.')],\n",
       "  'entity mentions': ['Arti K. Rai'],\n",
       "  'background sentence': []},\n",
       " 'Mark A. Lemley': {'quote sentence': [(67,\n",
       "    'Mark A. Lemley, a professor at Stanford Law School, said the constitutional challenge “is the legal equivalent of fringe science.')],\n",
       "  'entity mentions': ['Mark A. Lemley'],\n",
       "  'background sentence': []},\n",
       " 'Mr. Perlman': {'quote sentence': [(79,\n",
       "    '— people who do fundamental, long-term invention,” Mr. Perlman said.')],\n",
       "  'entity mentions': ['Mr. Perlman'],\n",
       "  'background sentence': []},\n",
       " 'Gary Lauder': {'quote sentence': [(80,\n",
       "    'Gary Lauder, a venture capitalist, said the new law had the logic of trying to make the patent system more efficient and less prone to litigation.')],\n",
       "  'entity mentions': ['Gary Lauder'],\n",
       "  'background sentence': []},\n",
       " 'Mr. Lauder': {'quote sentence': [(83,\n",
       "    'This law favors large companies at the expense of small ones,” Mr. Lauder said.')],\n",
       "  'entity mentions': ['Mr. Lauder'],\n",
       "  'background sentence': []}}"
      ]
     },
     "execution_count": 566,
     "metadata": {},
     "output_type": "execute_result"
    }
   ],
   "source": [
    "convert_entities_dict_to_text(entities, doc)"
   ]
  },
  {
   "cell_type": "code",
   "execution_count": 567,
   "metadata": {},
   "outputs": [
    {
     "data": {
      "text/plain": [
       "defaultdict(<function __main__.merge_clusters.<locals>.<lambda>()>,\n",
       "            {(127, 131): {'background sentence': [],\n",
       "              'quote sentence': [(2,\n",
       "                Mr. Stadnyk, who holds a patent on a motorcycle windshield, is suing the United States government, aiming to head off a patent law that he says will favor big companies and hurt lone inventors like himself.)],\n",
       "              'span_text': [he]},\n",
       "             (39, 44): {'background sentence': [],\n",
       "              'quote sentence': [(10,\n",
       "                With his system, he says, the rider feels a flutter of breeze instead of jolting winds and turbulence.),\n",
       "               (14,\n",
       "                Yearly sales, he said, are more than $500,000 and growing briskly.),\n",
       "               (22,\n",
       "                He says he studied the proposals and the law, read blogs and reached out to Washington lawyers and academics who raised the issue of its constitutionality.),\n",
       "               (40,\n",
       "                My property would be given away by the government under this new law,” he said.)],\n",
       "              'span_text': [he, he, He, he]},\n",
       "             (1035, 1042): {'background sentence': [],\n",
       "              'quote sentence': [(49,\n",
       "                Speaking on the Senate floor last year, she said, “I strongly disagree with changing the core principle of our patent system — awarding a patent to the true inventor — for the sake of perceived administrative ease.),\n",
       "               (53,\n",
       "                We are the only country in the world,” she said, “whose Constitution specifically mentions)],\n",
       "              'span_text': [she, she]},\n",
       "             (906, 909): {'background sentence': [],\n",
       "              'quote sentence': [(57,\n",
       "                The new patent law, he said, “violates the text and the original understanding of the Constitution.),\n",
       "               (61,\n",
       "                As a matter of confidentiality and courtroom tactics, he said he did not want to let “the other side know the size of my resources.)],\n",
       "              'span_text': [he, he]},\n",
       "             (1318, 1328): {'background sentence': [],\n",
       "              'quote sentence': [(70,\n",
       "                There are people who didn’t like the outcome of the patent legislation, and they may be right in not liking the outcome,” he said.)],\n",
       "              'span_text': [he]},\n",
       "             (683, 684): {'background sentence': [],\n",
       "              'quote sentence': [(29,\n",
       "                But opponents say it will give big companies a huge advantage over start-ups and small inventors.)],\n",
       "              'span_text': [opponents]},\n",
       "             (717, 717): {'background sentence': [],\n",
       "              'quote sentence': [(30,\n",
       "                Large corporations have deep pockets and armies of lawyers to write up and file patents, they say, and the new law will touch off a paper chase to the patent office instead of a race to innovate.)],\n",
       "              'span_text': [they]},\n",
       "             (821, 823): {'background sentence': [],\n",
       "              'quote sentence': [(35,\n",
       "                Others took on Obamacare, and this is my fight,” said Mr. Stadnyk, who lives in Ridge Manor,)],\n",
       "              'span_text': [Mr. Stadnyk]},\n",
       "             (843, 844): {'background sentence': [],\n",
       "              'quote sentence': [(38,\n",
       "                ” Mr. Stadnyk, who says he is a conservative, warns of the danger of the patent legislation in populist, antigovernment terms.)],\n",
       "              'span_text': [who]},\n",
       "             (1137, 1139): {'background sentence': [],\n",
       "              'quote sentence': [(56,\n",
       "                ” Mr. Massey says he became involved in the legislative debate and this suit because of his background in constitutional law.)],\n",
       "              'span_text': [Mr. Massey]},\n",
       "             (0, 2): {'background sentence': [],\n",
       "              'quote sentence': [(63,\n",
       "                The suit , said some legal experts , faces long odds .)],\n",
       "              'span_text': [The suit]},\n",
       "             (1256, 1256): {'background sentence': [],\n",
       "              'quote sentence': [(64,\n",
       "                The courts, they say, have treated the section of the Constitution that concerns intellectual property rights as utilitarian doctrine subject to Congressional interpretation.)],\n",
       "              'span_text': [they]},\n",
       "             (1296, 1299): {'background sentence': [],\n",
       "              'quote sentence': [(66,\n",
       "                Congress is fairly free to do as it sees fit to promote innovation,” said Arti K. Rai, a professor at Duke University School of Law and a former senior official in the patent office.)],\n",
       "              'span_text': [Arti K. Rai]},\n",
       "             (1318, 1321): {'background sentence': [],\n",
       "              'quote sentence': [(67,\n",
       "                Mark A. Lemley, a professor at Stanford Law School, said the constitutional challenge “is the legal equivalent of fringe science.)],\n",
       "              'span_text': [Mark A. Lemley]},\n",
       "             (1470, 1470): {'background sentence': [],\n",
       "              'quote sentence': [(76,\n",
       "                The new law, he said, with its emphasis on speed, could well make it more difficult to wait before filing an application, to take the time to experiment over years, and to confidentially show early concepts to investors to raise money.)],\n",
       "              'span_text': [he]},\n",
       "             (1541, 1543): {'background sentence': [],\n",
       "              'quote sentence': [(79,\n",
       "                — people who do fundamental, long-term invention,” Mr. Perlman said.)],\n",
       "              'span_text': [Mr. Perlman]},\n",
       "             (1545, 1547): {'background sentence': [],\n",
       "              'quote sentence': [(80,\n",
       "                Gary Lauder, a venture capitalist, said the new law had the logic of trying to make the patent system more efficient and less prone to litigation.)],\n",
       "              'span_text': [Gary Lauder]},\n",
       "             (1594, 1596): {'background sentence': [],\n",
       "              'quote sentence': [(83,\n",
       "                This law favors large companies at the expense of small ones,” Mr. Lauder said.)],\n",
       "              'span_text': [Mr. Lauder]}})"
      ]
     },
     "execution_count": 567,
     "metadata": {},
     "output_type": "execute_result"
    }
   ],
   "source": [
    "entities"
   ]
  },
  {
   "cell_type": "code",
   "execution_count": null,
   "metadata": {},
   "outputs": [],
   "source": []
  },
  {
   "cell_type": "code",
   "execution_count": null,
   "metadata": {},
   "outputs": [],
   "source": []
  },
  {
   "cell_type": "code",
   "execution_count": null,
   "metadata": {},
   "outputs": [],
   "source": []
  },
  {
   "cell_type": "code",
   "execution_count": null,
   "metadata": {},
   "outputs": [],
   "source": []
  },
  {
   "cell_type": "code",
   "execution_count": null,
   "metadata": {},
   "outputs": [],
   "source": []
  },
  {
   "cell_type": "code",
   "execution_count": null,
   "metadata": {},
   "outputs": [],
   "source": []
  },
  {
   "cell_type": "code",
   "execution_count": null,
   "metadata": {},
   "outputs": [],
   "source": []
  },
  {
   "cell_type": "code",
   "execution_count": null,
   "metadata": {},
   "outputs": [],
   "source": []
  },
  {
   "cell_type": "code",
   "execution_count": null,
   "metadata": {},
   "outputs": [],
   "source": []
  },
  {
   "cell_type": "code",
   "execution_count": null,
   "metadata": {},
   "outputs": [],
   "source": []
  },
  {
   "cell_type": "code",
   "execution_count": null,
   "metadata": {},
   "outputs": [],
   "source": []
  },
  {
   "cell_type": "code",
   "execution_count": null,
   "metadata": {},
   "outputs": [],
   "source": []
  },
  {
   "cell_type": "code",
   "execution_count": null,
   "metadata": {},
   "outputs": [],
   "source": []
  },
  {
   "cell_type": "markdown",
   "metadata": {},
   "source": [
    "# Extract quotes from some documents"
   ]
  },
  {
   "cell_type": "code",
   "execution_count": 2,
   "metadata": {},
   "outputs": [],
   "source": [
    "sys.path.insert(0, '../scripts/')\n",
    "sys.path.insert(0, '../')"
   ]
  },
  {
   "cell_type": "code",
   "execution_count": 3,
   "metadata": {},
   "outputs": [],
   "source": [
    "import util"
   ]
  },
  {
   "cell_type": "code",
   "execution_count": 11,
   "metadata": {},
   "outputs": [],
   "source": [
    "t2 = t.replace('</p><p>', ' ')"
   ]
  },
  {
   "cell_type": "code",
   "execution_count": 17,
   "metadata": {},
   "outputs": [],
   "source": [
    "quotes = util.get_quotes_method_2(text=t2, cluster=True, resolve_coref=True, greedyness=.4, max_dist=150)"
   ]
  },
  {
   "cell_type": "code",
   "execution_count": 18,
   "metadata": {
    "scrolled": true
   },
   "outputs": [
    {
     "data": {
      "text/plain": [
       "defaultdict(<function util.cluster_entities_method_1.<locals>.<lambda>()>,\n",
       "            {'he': {'background sentence': [],\n",
       "              'quote sentence': [(2,\n",
       "                'Mr. Stadnyk , who holds a patent on a motorcycle windshield , is suing the United States government , aiming to head off a patent law that he says will favor big companies and hurt lone inventors like himself .'),\n",
       "               (2,\n",
       "                'Mr. Stadnyk , who holds a patent on a motorcycle windshield , is suing the United States government , aiming to head off a patent law that he says will favor big companies and hurt lone inventors like himself .'),\n",
       "               (9,\n",
       "                'With he system , he says , the rider feels a flutter of breeze instead of jolting winds and turbulence .'),\n",
       "               (9,\n",
       "                'With he system , he says , the rider feels a flutter of breeze instead of jolting winds and turbulence .'),\n",
       "               (9,\n",
       "                'With he system , he says , the rider feels a flutter of breeze instead of jolting winds and turbulence .'),\n",
       "               (13,\n",
       "                'Yearly sales , he said , are more than $ 500,000 and growing briskly .'),\n",
       "               (13,\n",
       "                'Yearly sales , he said , are more than $ 500,000 and growing briskly .'),\n",
       "               (40,\n",
       "                'My property would be given away by the government under this new law , ” he said .'),\n",
       "               (40,\n",
       "                'My property would be given away by the government under this new law , ” he said .'),\n",
       "               (58,\n",
       "                'The new patent law , he said , “ violates the text and the original understanding of the Constitution .'),\n",
       "               (58,\n",
       "                'The new patent law , he said , “ violates the text and the original understanding of the Constitution .'),\n",
       "               (73,\n",
       "                'and they may be right in not liking the outcome , ” he said .'),\n",
       "               (73,\n",
       "                'and they may be right in not liking the outcome , ” he said .'),\n",
       "               (80,\n",
       "                'The new law , he said , with its emphasis on speed , could well make it more difficult to wait before filing an application , to take the time to experiment over years , and to confidentially show early concepts to investors to raise money .'),\n",
       "               (80,\n",
       "                'The new law , he said , with its emphasis on speed , could well make it more difficult to wait before filing an application , to take the time to experiment over years , and to confidentially show early concepts to investors to raise money .')]},\n",
       "             'the United States government': {'background sentence': [],\n",
       "              'quote sentence': [(2,\n",
       "                'Mr. Stadnyk , who holds a patent on a motorcycle windshield , is suing the United States government , aiming to head off a patent law that he says will favor big companies and hurt lone inventors like himself .'),\n",
       "               (9,\n",
       "                'With he system , he says , the rider feels a flutter of breeze instead of jolting winds and turbulence .'),\n",
       "               (40,\n",
       "                'My property would be given away by the government under this new law , ” he said .'),\n",
       "               (58,\n",
       "                'The new patent law , he said , “ violates the text and the original understanding of the Constitution .'),\n",
       "               (58,\n",
       "                'The new patent law , he said , “ violates the text and the original understanding of the Constitution .'),\n",
       "               (58,\n",
       "                'The new patent law , he said , “ violates the text and the original understanding of the Constitution .'),\n",
       "               (73,\n",
       "                'and they may be right in not liking the outcome , ” he said .'),\n",
       "               (80,\n",
       "                'The new law , he said , with its emphasis on speed , could well make it more difficult to wait before filing an application , to take the time to experiment over years , and to confidentially show early concepts to investors to raise money .')]},\n",
       "             'Mark Stadnyk': {'background sentence': [(3, '”'),\n",
       "               (4, '”'),\n",
       "               (7, '”'),\n",
       "               (10, '”'),\n",
       "               (11, '”'),\n",
       "               (14, '”'),\n",
       "               (14, '”'),\n",
       "               (20, '”'),\n",
       "               (22, '”'),\n",
       "               (32, '”'),\n",
       "               (32, '”'),\n",
       "               (43, '”'),\n",
       "               (1, '”')],\n",
       "              'quote sentence': [(21,\n",
       "                'Mr. Stadnyk says Mr. Stadnyk studied the proposals and the law , read blogs and reached out to Washington lawyers and academics who raised the issue of its constitutionality .'),\n",
       "               (34,\n",
       "                'Others took on Obamacare , and this is my fight , ” said Mr. Stadnyk , who lives in Ridge Manor ,'),\n",
       "               (21,\n",
       "                'Mr. Stadnyk says Mr. Stadnyk studied the proposals and the law , read blogs and reached out to Washington lawyers and academics who raised the issue of its constitutionality .'),\n",
       "               (21,\n",
       "                'Mr. Stadnyk says Mr. Stadnyk studied the proposals and the law , read blogs and reached out to Washington lawyers and academics who raised the issue of its constitutionality .'),\n",
       "               (34,\n",
       "                'Others took on Obamacare , and this is my fight , ” said Mr. Stadnyk , who lives in Ridge Manor ,')]},\n",
       "             'opponents': {'background sentence': [],\n",
       "              'quote sentence': [(28,\n",
       "                'But opponents say it will give big companies a huge advantage over start - ups and small inventors .'),\n",
       "               (28,\n",
       "                'But opponents say it will give big companies a huge advantage over start - ups and small inventors .')]},\n",
       "             'Large corporations': {'background sentence': [],\n",
       "              'quote sentence': [(29,\n",
       "                'Large corporations have deep pockets and armies of lawyers to write up and file patents , Large corporations say , and the new law will touch off a paper chase to the patent office instead of a race to innovate .'),\n",
       "               (29,\n",
       "                'Large corporations have deep pockets and armies of lawyers to write up and file patents , Large corporations say , and the new law will touch off a paper chase to the patent office instead of a race to innovate .'),\n",
       "               (29,\n",
       "                'Large corporations have deep pockets and armies of lawyers to write up and file patents , Large corporations say , and the new law will touch off a paper chase to the patent office instead of a race to innovate .')]},\n",
       "             'who': {'background sentence': [],\n",
       "              'quote sentence': [(38,\n",
       "                'Mr. Stadnyk , who says he is a conservative , warns of the danger of the patent legislation in populist , antigovernment terms .'),\n",
       "               (38,\n",
       "                'Mr. Stadnyk , who says he is a conservative , warns of the danger of the patent legislation in populist , antigovernment terms .')]},\n",
       "             'Senator Barbara Boxer': {'background sentence': [(52, '”'),\n",
       "               (49, '”')],\n",
       "              'quote sentence': [(50,\n",
       "                'Speaking on the Senate floor last year , Senator Barbara Boxer , Democrat of California said , “ I strongly disagree with changing the core principle of our patent system — awarding a patent to the true inventor — for the sake of perceived administrative ease .'),\n",
       "               (54,\n",
       "                'We are the only country in the world , ” Ms. Boxer said , “ whose Constitution specifically mentions ‘ inventor .'),\n",
       "               (50,\n",
       "                'Speaking on the Senate floor last year , Senator Barbara Boxer , Democrat of California said , “ I strongly disagree with changing the core principle of our patent system — awarding a patent to the true inventor — for the sake of perceived administrative ease .'),\n",
       "               (54,\n",
       "                'We are the only country in the world , ” Ms. Boxer said , “ whose Constitution specifically mentions ‘ inventor .')]},\n",
       "             'Jonathan S. Massey': {'background sentence': [(43, '”'),\n",
       "               (44, '”'),\n",
       "               (45, '”'),\n",
       "               (61, '”')],\n",
       "              'quote sentence': [(57,\n",
       "                'Jonathan S. Massey says he became involved in the legislative debate and this suit because of he background in constitutional law .'),\n",
       "               (62,\n",
       "                'As a matter of confidentiality and courtroom tactics , Jonathan S. Massey said Jonathan S. Massey did not want to let “ the other side know the size of my resources .'),\n",
       "               (57,\n",
       "                'Jonathan S. Massey says he became involved in the legislative debate and this suit because of he background in constitutional law .'),\n",
       "               (62,\n",
       "                'As a matter of confidentiality and courtroom tactics , Jonathan S. Massey said Jonathan S. Massey did not want to let “ the other side know the size of my resources .'),\n",
       "               (62,\n",
       "                'As a matter of confidentiality and courtroom tactics , Jonathan S. Massey said Jonathan S. Massey did not want to let “ the other side know the size of my resources .')]},\n",
       "             'The new patent law': {'background sentence': [],\n",
       "              'quote sentence': [(58,\n",
       "                'The new patent law , he said , “ violates the text and the original understanding of the Constitution .'),\n",
       "               (64,\n",
       "                'The suit , according to some legal experts , faces long odds .'),\n",
       "               (65,\n",
       "                'The courts , The courts say , have treated the section of the Constitution that concerns intellectual property rights as utilitarian doctrine subject to Congressional interpretation .'),\n",
       "               (65,\n",
       "                'The courts , The courts say , have treated the section of the Constitution that concerns intellectual property rights as utilitarian doctrine subject to Congressional interpretation .'),\n",
       "               (80,\n",
       "                'The new law , he said , with its emphasis on speed , could well make it more difficult to wait before filing an application , to take the time to experiment over years , and to confidentially show early concepts to investors to raise money .')]},\n",
       "             'suit': {'background sentence': [],\n",
       "              'quote sentence': [(64,\n",
       "                'The suit , according to some legal experts , faces long odds .')]},\n",
       "             'some legal experts': {'background sentence': [],\n",
       "              'quote sentence': [(64,\n",
       "                'The suit , according to some legal experts , faces long odds .'),\n",
       "               (64,\n",
       "                'The suit , according to some legal experts , faces long odds .')]},\n",
       "             'courts': {'background sentence': [],\n",
       "              'quote sentence': [(65,\n",
       "                'The courts , The courts say , have treated the section of the Constitution that concerns intellectual property rights as utilitarian doctrine subject to Congressional interpretation .')]},\n",
       "             'Arti K. Rai': {'background sentence': [],\n",
       "              'quote sentence': [(67,\n",
       "                'Congress is fairly free to do as it sees fit to promote innovation , ” said Arti K. Rai , a professor at Duke University School of Law and a former senior official in the patent office .'),\n",
       "               (67,\n",
       "                'Congress is fairly free to do as it sees fit to promote innovation , ” said Arti K. Rai , a professor at Duke University School of Law and a former senior official in the patent office .')]},\n",
       "             'Mark A. Lemley': {'background sentence': [],\n",
       "              'quote sentence': [(68,\n",
       "                'Mark A. Lemley , a professor at Stanford Law School , said the constitutional challenge “ is the legal equivalent of fringe science .'),\n",
       "               (68,\n",
       "                'Mark A. Lemley , a professor at Stanford Law School , said the constitutional challenge “ is the legal equivalent of fringe science .')]},\n",
       "             'they': {'background sentence': [],\n",
       "              'quote sentence': [(73,\n",
       "                'and they may be right in not liking the outcome , ” he said .')]},\n",
       "             'Stephen G. Perlman': {'background sentence': [(77, '”')],\n",
       "              'quote sentence': [(83,\n",
       "                'scared that this law is a threat to the survival of our species — people who do fundamental , long - term invention , ” Mr. Perlman said .'),\n",
       "               (83,\n",
       "                'scared that this law is a threat to the survival of our species — people who do fundamental , long - term invention , ” Mr. Perlman said .')]},\n",
       "             'Gary Lauder': {'background sentence': [],\n",
       "              'quote sentence': [(84,\n",
       "                'Gary Lauder , a venture capitalist , said this law had the logic of trying to make the patent system more efficient and less prone to litigation .'),\n",
       "               (86,\n",
       "                '“ this law favors large companies at the expense of small ones , ” Mr. Lauder said .'),\n",
       "               (84,\n",
       "                'Gary Lauder , a venture capitalist , said this law had the logic of trying to make the patent system more efficient and less prone to litigation .'),\n",
       "               (86,\n",
       "                '“ this law favors large companies at the expense of small ones , ” Mr. Lauder said .')]},\n",
       "             'Patty': {'background sentence': [(11, '”')],\n",
       "              'quote sentence': []},\n",
       "             'Obama': {'background sentence': [(26, '”'), (32, '”')],\n",
       "              'quote sentence': []},\n",
       "             'William J. Brennan Jr.': {'background sentence': [(44, '”')],\n",
       "              'quote sentence': []},\n",
       "             'Laurence H. Tribe': {'background sentence': [(44, '”')],\n",
       "              'quote sentence': []},\n",
       "             'Al Gore': {'background sentence': [(45, '”'), (45, '”')],\n",
       "              'quote sentence': []},\n",
       "             'Bush': {'background sentence': [(45, '”')],\n",
       "              'quote sentence': []}})"
      ]
     },
     "execution_count": 18,
     "metadata": {},
     "output_type": "execute_result"
    }
   ],
   "source": [
    "quotes"
   ]
  },
  {
   "cell_type": "code",
   "execution_count": 19,
   "metadata": {},
   "outputs": [
    {
     "data": {
      "text/plain": [
       "dict_keys(['he', 'the United States government', 'Mark Stadnyk', 'opponents', 'Large corporations', 'who', 'Senator Barbara Boxer', 'Jonathan S. Massey', 'The new patent law', 'suit', 'some legal experts', 'courts', 'Arti K. Rai', 'Mark A. Lemley', 'they', 'Stephen G. Perlman', 'Gary Lauder', 'Patty', 'Obama', 'William J. Brennan Jr.', 'Laurence H. Tribe', 'Al Gore', 'Bush'])"
      ]
     },
     "execution_count": 19,
     "metadata": {},
     "output_type": "execute_result"
    }
   ],
   "source": [
    "quotes.keys()"
   ]
  },
  {
   "cell_type": "code",
   "execution_count": 20,
   "metadata": {},
   "outputs": [
    {
     "data": {
      "text/plain": [
       "{'background sentence': [(3, '”'),\n",
       "  (4, '”'),\n",
       "  (7, '”'),\n",
       "  (10, '”'),\n",
       "  (11, '”'),\n",
       "  (14, '”'),\n",
       "  (14, '”'),\n",
       "  (20, '”'),\n",
       "  (22, '”'),\n",
       "  (32, '”'),\n",
       "  (32, '”'),\n",
       "  (43, '”'),\n",
       "  (1, '”')],\n",
       " 'quote sentence': [(21,\n",
       "   'Mr. Stadnyk says Mr. Stadnyk studied the proposals and the law , read blogs and reached out to Washington lawyers and academics who raised the issue of its constitutionality .'),\n",
       "  (34,\n",
       "   'Others took on Obamacare , and this is my fight , ” said Mr. Stadnyk , who lives in Ridge Manor ,'),\n",
       "  (21,\n",
       "   'Mr. Stadnyk says Mr. Stadnyk studied the proposals and the law , read blogs and reached out to Washington lawyers and academics who raised the issue of its constitutionality .'),\n",
       "  (21,\n",
       "   'Mr. Stadnyk says Mr. Stadnyk studied the proposals and the law , read blogs and reached out to Washington lawyers and academics who raised the issue of its constitutionality .'),\n",
       "  (34,\n",
       "   'Others took on Obamacare , and this is my fight , ” said Mr. Stadnyk , who lives in Ridge Manor ,')]}"
      ]
     },
     "execution_count": 20,
     "metadata": {},
     "output_type": "execute_result"
    }
   ],
   "source": [
    "quotes['Mark Stadnyk']"
   ]
  },
  {
   "cell_type": "code",
   "execution_count": 27,
   "metadata": {},
   "outputs": [
    {
     "data": {
      "text/plain": [
       "{'he': {'background sentence': [],\n",
       "  'quote sentence': [(2,\n",
       "    'Mr. Stadnyk , who holds a patent on a motorcycle windshield , is suing the United States government , aiming to head off a patent law that he says will favor big companies and hurt lone inventors like himself .'),\n",
       "   (9,\n",
       "    'With he system , he says , the rider feels a flutter of breeze instead of jolting winds and turbulence .'),\n",
       "   (13,\n",
       "    'Yearly sales , he said , are more than $ 500,000 and growing briskly .'),\n",
       "   (40,\n",
       "    'My property would be given away by the government under this new law , ” he said .'),\n",
       "   (58,\n",
       "    'The new patent law , he said , “ violates the text and the original understanding of the Constitution .'),\n",
       "   (73, 'and they may be right in not liking the outcome , ” he said .'),\n",
       "   (80,\n",
       "    'The new law , he said , with its emphasis on speed , could well make it more difficult to wait before filing an application , to take the time to experiment over years , and to confidentially show early concepts to investors to raise money .')]},\n",
       " 'the United States government': {'background sentence': [],\n",
       "  'quote sentence': [(2,\n",
       "    'Mr. Stadnyk , who holds a patent on a motorcycle windshield , is suing the United States government , aiming to head off a patent law that he says will favor big companies and hurt lone inventors like himself .'),\n",
       "   (9,\n",
       "    'With he system , he says , the rider feels a flutter of breeze instead of jolting winds and turbulence .'),\n",
       "   (40,\n",
       "    'My property would be given away by the government under this new law , ” he said .'),\n",
       "   (58,\n",
       "    'The new patent law , he said , “ violates the text and the original understanding of the Constitution .'),\n",
       "   (73, 'and they may be right in not liking the outcome , ” he said .'),\n",
       "   (80,\n",
       "    'The new law , he said , with its emphasis on speed , could well make it more difficult to wait before filing an application , to take the time to experiment over years , and to confidentially show early concepts to investors to raise money .')]},\n",
       " 'Mark Stadnyk': {'background sentence': [(3, '”'),\n",
       "   (4, '”'),\n",
       "   (7, '”'),\n",
       "   (10, '”'),\n",
       "   (11, '”'),\n",
       "   (14, '”'),\n",
       "   (20, '”'),\n",
       "   (22, '”'),\n",
       "   (32, '”'),\n",
       "   (43, '”'),\n",
       "   (1, '”')],\n",
       "  'quote sentence': [(21,\n",
       "    'Mr. Stadnyk says Mr. Stadnyk studied the proposals and the law , read blogs and reached out to Washington lawyers and academics who raised the issue of its constitutionality .'),\n",
       "   (34,\n",
       "    'Others took on Obamacare , and this is my fight , ” said Mr. Stadnyk , who lives in Ridge Manor ,')]},\n",
       " 'opponents': {'background sentence': [],\n",
       "  'quote sentence': [(28,\n",
       "    'But opponents say it will give big companies a huge advantage over start - ups and small inventors .')]},\n",
       " 'Large corporations': {'background sentence': [],\n",
       "  'quote sentence': [(29,\n",
       "    'Large corporations have deep pockets and armies of lawyers to write up and file patents , Large corporations say , and the new law will touch off a paper chase to the patent office instead of a race to innovate .')]},\n",
       " 'who': {'background sentence': [],\n",
       "  'quote sentence': [(38,\n",
       "    'Mr. Stadnyk , who says he is a conservative , warns of the danger of the patent legislation in populist , antigovernment terms .')]},\n",
       " 'Senator Barbara Boxer': {'background sentence': [(52, '”'), (49, '”')],\n",
       "  'quote sentence': [(50,\n",
       "    'Speaking on the Senate floor last year , Senator Barbara Boxer , Democrat of California said , “ I strongly disagree with changing the core principle of our patent system — awarding a patent to the true inventor — for the sake of perceived administrative ease .'),\n",
       "   (54,\n",
       "    'We are the only country in the world , ” Ms. Boxer said , “ whose Constitution specifically mentions ‘ inventor .')]},\n",
       " 'Jonathan S. Massey': {'background sentence': [(43, '”'),\n",
       "   (44, '”'),\n",
       "   (45, '”'),\n",
       "   (61, '”')],\n",
       "  'quote sentence': [(57,\n",
       "    'Jonathan S. Massey says he became involved in the legislative debate and this suit because of he background in constitutional law .'),\n",
       "   (62,\n",
       "    'As a matter of confidentiality and courtroom tactics , Jonathan S. Massey said Jonathan S. Massey did not want to let “ the other side know the size of my resources .')]},\n",
       " 'The new patent law': {'background sentence': [],\n",
       "  'quote sentence': [(58,\n",
       "    'The new patent law , he said , “ violates the text and the original understanding of the Constitution .'),\n",
       "   (64, 'The suit , according to some legal experts , faces long odds .'),\n",
       "   (65,\n",
       "    'The courts , The courts say , have treated the section of the Constitution that concerns intellectual property rights as utilitarian doctrine subject to Congressional interpretation .'),\n",
       "   (80,\n",
       "    'The new law , he said , with its emphasis on speed , could well make it more difficult to wait before filing an application , to take the time to experiment over years , and to confidentially show early concepts to investors to raise money .')]},\n",
       " 'suit': {'background sentence': [],\n",
       "  'quote sentence': [(64,\n",
       "    'The suit , according to some legal experts , faces long odds .')]},\n",
       " 'some legal experts': {'background sentence': [],\n",
       "  'quote sentence': [(64,\n",
       "    'The suit , according to some legal experts , faces long odds .')]},\n",
       " 'courts': {'background sentence': [],\n",
       "  'quote sentence': [(65,\n",
       "    'The courts , The courts say , have treated the section of the Constitution that concerns intellectual property rights as utilitarian doctrine subject to Congressional interpretation .')]},\n",
       " 'Arti K. Rai': {'background sentence': [],\n",
       "  'quote sentence': [(67,\n",
       "    'Congress is fairly free to do as it sees fit to promote innovation , ” said Arti K. Rai , a professor at Duke University School of Law and a former senior official in the patent office .')]},\n",
       " 'Mark A. Lemley': {'background sentence': [],\n",
       "  'quote sentence': [(68,\n",
       "    'Mark A. Lemley , a professor at Stanford Law School , said the constitutional challenge “ is the legal equivalent of fringe science .')]},\n",
       " 'they': {'background sentence': [],\n",
       "  'quote sentence': [(73,\n",
       "    'and they may be right in not liking the outcome , ” he said .')]},\n",
       " 'Stephen G. Perlman': {'background sentence': [(77, '”')],\n",
       "  'quote sentence': [(83,\n",
       "    'scared that this law is a threat to the survival of our species — people who do fundamental , long - term invention , ” Mr. Perlman said .')]},\n",
       " 'Gary Lauder': {'background sentence': [],\n",
       "  'quote sentence': [(84,\n",
       "    'Gary Lauder , a venture capitalist , said this law had the logic of trying to make the patent system more efficient and less prone to litigation .'),\n",
       "   (86,\n",
       "    '“ this law favors large companies at the expense of small ones , ” Mr. Lauder said .')]},\n",
       " 'Patty': {'background sentence': [(11, '”')], 'quote sentence': []},\n",
       " 'Obama': {'background sentence': [(26, '”'), (32, '”')],\n",
       "  'quote sentence': []},\n",
       " 'William J. Brennan Jr.': {'background sentence': [(44, '”')],\n",
       "  'quote sentence': []},\n",
       " 'Laurence H. Tribe': {'background sentence': [(44, '”')],\n",
       "  'quote sentence': []},\n",
       " 'Al Gore': {'background sentence': [(45, '”')], 'quote sentence': []},\n",
       " 'Bush': {'background sentence': [(45, '”')], 'quote sentence': []}}"
      ]
     },
     "execution_count": 27,
     "metadata": {},
     "output_type": "execute_result"
    }
   ],
   "source": [
    "deduped_output"
   ]
  },
  {
   "cell_type": "code",
   "execution_count": null,
   "metadata": {},
   "outputs": [],
   "source": []
  },
  {
   "cell_type": "code",
   "execution_count": null,
   "metadata": {},
   "outputs": [],
   "source": []
  },
  {
   "cell_type": "code",
   "execution_count": 38,
   "metadata": {},
   "outputs": [
    {
     "data": {
      "text/plain": [
       "a dog"
      ]
     },
     "execution_count": 38,
     "metadata": {},
     "output_type": "execute_result"
    }
   ],
   "source": [
    "doc = nlp(u'My sister has a dog. She loves him')\n",
    "\n",
    "doc._.coref_clusters\n",
    "doc._.coref_clusters[1].mentions\n",
    "doc._.coref_clusters[1].mentions[-1]\n",
    "doc._.coref_clusters[1].mentions[-1]._.coref_cluster.main"
   ]
  },
  {
   "cell_type": "code",
   "execution_count": 39,
   "metadata": {},
   "outputs": [
    {
     "data": {
      "text/plain": [
       "him"
      ]
     },
     "execution_count": 39,
     "metadata": {},
     "output_type": "execute_result"
    }
   ],
   "source": [
    "doc._.coref_clusters[1].mentions[-1]"
   ]
  },
  {
   "cell_type": "code",
   "execution_count": 35,
   "metadata": {},
   "outputs": [],
   "source": [
    "doc._.coref_clusters[1].mentions[-1] = 'her'"
   ]
  },
  {
   "cell_type": "code",
   "execution_count": 40,
   "metadata": {},
   "outputs": [
    {
     "data": {
      "text/plain": [
       "[a dog, him]"
      ]
     },
     "execution_count": 40,
     "metadata": {},
     "output_type": "execute_result"
    }
   ],
   "source": [
    "doc._.coref_clusters[1].mentions"
   ]
  },
  {
   "cell_type": "code",
   "execution_count": 41,
   "metadata": {},
   "outputs": [
    {
     "data": {
      "text/plain": [
       "{My sister: {My sister: 1.3110305070877075},\n",
       " a dog: {a dog: 1.804752230644226, My sister: -1.6715972423553467},\n",
       " She: {She: 0.09481996297836304,\n",
       "  My sister: 7.786711692810059,\n",
       "  a dog: -1.1784329414367676},\n",
       " him: {him: -1.4293134212493896,\n",
       "  My sister: 2.0916330814361572,\n",
       "  a dog: 3.683906316757202,\n",
       "  She: -3.400832176208496}}"
      ]
     },
     "execution_count": 41,
     "metadata": {},
     "output_type": "execute_result"
    }
   ],
   "source": [
    "doc._.coref_scores"
   ]
  },
  {
   "cell_type": "code",
   "execution_count": 54,
   "metadata": {},
   "outputs": [
    {
     "data": {
      "text/plain": [
       "'My sister has a dog. My sister loves a dog'"
      ]
     },
     "execution_count": 54,
     "metadata": {},
     "output_type": "execute_result"
    }
   ],
   "source": [
    "doc._.coref_resolved"
   ]
  },
  {
   "cell_type": "code",
   "execution_count": 43,
   "metadata": {},
   "outputs": [],
   "source": [
    "long_doc = nlp(t2)"
   ]
  },
  {
   "cell_type": "code",
   "execution_count": 96,
   "metadata": {},
   "outputs": [],
   "source": [
    "s = long_doc._.coref_scores"
   ]
  },
  {
   "cell_type": "code",
   "execution_count": 98,
   "metadata": {},
   "outputs": [
    {
     "data": {
      "text/plain": [
       "[Mr. Stadnyk: [an inventor named Mark Stadnyk, he, himself, Mr. Stadnyk, his],\n",
       " a suit last month that challenges the constitutionality of legislation that Congress passed last fall, the America Invents Act: [a suit last month that challenges the constitutionality of legislation that Congress passed last fall, the America Invents Act, the legislation, it],\n",
       " he: [he, He, his, he, his, his, he, himself, His, he, he],\n",
       " a powerful new motorcycle: [a powerful new motorcycle, the motorcycle],\n",
       " a windshield: [a windshield, the windshield],\n",
       " MadStad: [MadStad, his],\n",
       " the United States: [the United States, the United States],\n",
       " Mr. Stadnyk: [Mr. Stadnyk, he, Mr. Stadnyk, He, he, its, he],\n",
       " the patent legislation: [the patent legislation, it],\n",
       " the law: [the law, the new law, the new law, this new law, The new patent law, The new patent law],\n",
       " Washington: [Washington, Washington],\n",
       " Japan and elsewhere: [Japan and elsewhere, them],\n",
       " America: [America, America],\n",
       " President Obama: [President Obama, Obama],\n",
       " the new law would cut “the red tape that stops too many inventors and entrepreneurs from quickly turning new ideas into thriving businesses — which holds our whole economy back: [the new law would cut “the red tape that stops too many inventors and entrepreneurs from quickly turning new ideas into thriving businesses — which holds our whole economy back, it],\n",
       " “: [“, “],\n",
       " Large corporations: [Large corporations, they],\n",
       " Mr. Stadnyk: [Mr. Stadnyk, his],\n",
       " the Supreme Court: [the Supreme Court, the Supreme Court],\n",
       " he: [he, he],\n",
       " Jonathan S. Massey: [Jonathan S. Massey, Mr. Massey, Mr. Massey],\n",
       " Ms. Boxer: [Senator Barbara Boxer, Democrat of California, she, Ms. Boxer, she],\n",
       " our: [our, We],\n",
       " the Constitution: [the Constitution, the Constitution, the Constitution],\n",
       " Mr. Massey: [Mr. Massey, he, his, he, Mr. Massey, he, he],\n",
       " this suit: [this suit, the suit, The suit],\n",
       " “: [“, “],\n",
       " The courts: [The courts, they],\n",
       " Congress: [Congress, it],\n",
       " Mark A. Lemley, a professor at Stanford Law School: [Mark A. Lemley, a professor at Stanford Law School, he],\n",
       " people who didn’t like the outcome of the patent legislation: [people who didn’t like the outcome of the patent legislation, they],\n",
       " that: [that, it],\n",
       " the law’s: [the law’s, this law, the new law, This law],\n",
       " His: [His, he],\n",
       " ’m: [’m, he],\n",
       " our: [our, our, we],\n",
       " Mr. Lauder: [Gary Lauder, a venture capitalist, Mr. Lauder]]"
      ]
     },
     "execution_count": 98,
     "metadata": {},
     "output_type": "execute_result"
    }
   ],
   "source": [
    "long_doc._.coref_clusters"
   ]
  },
  {
   "cell_type": "code",
   "execution_count": 60,
   "metadata": {},
   "outputs": [
    {
     "data": {
      "text/plain": [
       "My sister has a dog. She loves him"
      ]
     },
     "execution_count": 60,
     "metadata": {},
     "output_type": "execute_result"
    }
   ],
   "source": [
    "doc"
   ]
  },
  {
   "cell_type": "code",
   "execution_count": 75,
   "metadata": {},
   "outputs": [],
   "source": [
    "s = doc._.coref_clusters[0].mentions[1]"
   ]
  },
  {
   "cell_type": "code",
   "execution_count": 76,
   "metadata": {},
   "outputs": [
    {
     "data": {
      "text/plain": [
       "6"
      ]
     },
     "execution_count": 76,
     "metadata": {},
     "output_type": "execute_result"
    }
   ],
   "source": [
    "s.start"
   ]
  },
  {
   "cell_type": "code",
   "execution_count": 77,
   "metadata": {},
   "outputs": [
    {
     "data": {
      "text/plain": [
       "7"
      ]
     },
     "execution_count": 77,
     "metadata": {},
     "output_type": "execute_result"
    }
   ],
   "source": [
    "s.end"
   ]
  },
  {
   "cell_type": "code",
   "execution_count": 94,
   "metadata": {},
   "outputs": [
    {
     "data": {
      "text/plain": [
       "She"
      ]
     },
     "execution_count": 94,
     "metadata": {},
     "output_type": "execute_result"
    }
   ],
   "source": [
    "doc[s.start:s.end]"
   ]
  },
  {
   "cell_type": "code",
   "execution_count": null,
   "metadata": {},
   "outputs": [],
   "source": []
  },
  {
   "cell_type": "code",
   "execution_count": null,
   "metadata": {},
   "outputs": [],
   "source": []
  },
  {
   "cell_type": "code",
   "execution_count": null,
   "metadata": {},
   "outputs": [],
   "source": []
  },
  {
   "cell_type": "code",
   "execution_count": null,
   "metadata": {},
   "outputs": [],
   "source": []
  },
  {
   "cell_type": "code",
   "execution_count": 33,
   "metadata": {},
   "outputs": [],
   "source": [
    "import unidecode\n",
    "doc = nlp(unidecode.unidecode(t2))"
   ]
  },
  {
   "cell_type": "code",
   "execution_count": 652,
   "metadata": {},
   "outputs": [],
   "source": [
    "article_batch = pd.read_sql('SELECT * from entryversion where version = 0 limit 500', con=conn)"
   ]
  },
  {
   "cell_type": "code",
   "execution_count": 657,
   "metadata": {},
   "outputs": [],
   "source": [
    "from tqdm.auto import tqdm"
   ]
  },
  {
   "cell_type": "code",
   "execution_count": null,
   "metadata": {},
   "outputs": [],
   "source": [
    "all_named_ents = []\n",
    "for a in tqdm(article_batch['summary']):\n",
    "    doc = nlp(a)\n",
    "    person_ents = list(set(filter(lambda x: x.label_ == 'PERSON', doc.ents)))\n",
    "    all_named_ents.extend(person_ents)"
   ]
  },
  {
   "cell_type": "code",
   "execution_count": 665,
   "metadata": {},
   "outputs": [],
   "source": [
    "names = list(set(map(lambda x: x.text, all_named_ents)))"
   ]
  },
  {
   "cell_type": "code",
   "execution_count": null,
   "metadata": {},
   "outputs": [],
   "source": []
  }
 ],
 "metadata": {
  "hide_input": false,
  "kernelspec": {
   "display_name": "Python 3",
   "language": "python",
   "name": "python3"
  },
  "language_info": {
   "codemirror_mode": {
    "name": "ipython",
    "version": 3
   },
   "file_extension": ".py",
   "mimetype": "text/x-python",
   "name": "python",
   "nbconvert_exporter": "python",
   "pygments_lexer": "ipython3",
   "version": "3.7.6"
  }
 },
 "nbformat": 4,
 "nbformat_minor": 4
}
