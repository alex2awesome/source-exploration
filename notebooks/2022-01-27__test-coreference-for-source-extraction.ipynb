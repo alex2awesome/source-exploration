{
 "cells": [
  {
   "cell_type": "code",
   "execution_count": 47,
   "metadata": {},
   "outputs": [],
   "source": [
    "import sqlite3\n",
    "import pandas as pd \n",
    "import sys\n",
    "from IPython.display import display, HTML\n",
    "sys.path.insert(0, '../../edit-pathways/util/')\n",
    "sys.path.insert(0, '../scripts/')\n",
    "import util_newssniffer_parsing as unp \n",
    "import spacy\n",
    "import neuralcoref\n",
    "# nlp = spacy.load('en_core_web_sm')"
   ]
  },
  {
   "cell_type": "code",
   "execution_count": 2,
   "metadata": {},
   "outputs": [],
   "source": [
    "nlp = spacy.load('en_core_web_lg')"
   ]
  },
  {
   "cell_type": "markdown",
   "metadata": {},
   "source": [
    "# Try seeing if neuralcoref will help"
   ]
  },
  {
   "cell_type": "code",
   "execution_count": 546,
   "metadata": {},
   "outputs": [
    {
     "data": {
      "text/plain": [
       "'Deepika has a dog. The movie star loves a dog. The movie star has always been fond of animals'"
      ]
     },
     "execution_count": 546,
     "metadata": {},
     "output_type": "execute_result"
    }
   ],
   "source": [
    "# Let's try before using the conversion dictionary:\n",
    "try:\n",
    "    nlp.remove_pipe('neuralcoref')\n",
    "except:\n",
    "    pass\n",
    "\n",
    "neuralcoref.add_to_pipe(nlp, max_dist=500, conv_dict={'Deepika': ['entity']})\n",
    "doc = nlp(u'Deepika has a dog. She loves him. The movie star has always been fond of animals')\n",
    "doc._.coref_resolved"
   ]
  },
  {
   "cell_type": "code",
   "execution_count": 3,
   "metadata": {},
   "outputs": [
    {
     "data": {
      "text/plain": [
       "[Deepika: [Deepika, She, him, The movie star]]"
      ]
     },
     "execution_count": 3,
     "metadata": {},
     "output_type": "execute_result"
    }
   ],
   "source": [
    "doc._.coref_clusters"
   ]
  },
  {
   "cell_type": "code",
   "execution_count": 122,
   "metadata": {},
   "outputs": [],
   "source": [
    "db_path = '../../edit-pathways/data/diffengine-diffs/spark-output/nyt-matched-sentences.db'\n",
    "db_path = '../../edit-pathways/data/diffengine-diffs/db/newssniffer-nytimes.db'\n",
    "conn = sqlite3.connect(db_path)\n",
    "df = pd.read_sql('SELECT * from entryversion where version=0 limit 2000', con=conn)\n",
    "t = df['summary'][0].replace('</p><p>', ' ')"
   ]
  },
  {
   "cell_type": "code",
   "execution_count": 9,
   "metadata": {},
   "outputs": [],
   "source": [
    "doc = nlp(t)"
   ]
  },
  {
   "cell_type": "code",
   "execution_count": null,
   "metadata": {
    "scrolled": true
   },
   "outputs": [],
   "source": [
    "doc._.coref_clusters"
   ]
  },
  {
   "cell_type": "code",
   "execution_count": 60,
   "metadata": {},
   "outputs": [],
   "source": [
    "s_pre = df['summary'][0].split('</p><p>')\n",
    "s_fixed = [] \n",
    "for s in s_pre:\n",
    "    doc = nlp(s)\n",
    "    s_fixed.append(doc._.coref_resolved)"
   ]
  },
  {
   "cell_type": "code",
   "execution_count": 61,
   "metadata": {},
   "outputs": [],
   "source": [
    "htmls = []\n",
    "for s_o, s_n in zip(s_pre, s_fixed):\n",
    "    v_o, v_n = unp.html_compare_sentences(s_o, s_n)\n",
    "    htmls.append((v_o, v_n))"
   ]
  },
  {
   "cell_type": "code",
   "execution_count": 65,
   "metadata": {
    "scrolled": false
   },
   "outputs": [
    {
     "data": {
      "text/html": [
       "<table><tr><td>In Silicon Valley , Apple just won big against Samsung in the patent lawsuit of the year , after trading claims and counterclaims of pilfered product ideas . Across the country , in a federal court in Florida , an inventor named Mark Stadnyk is waging a different kind of patent warfare — an ambitious and perhaps quixotic legal foray .</td><td>In Silicon Valley , Apple just won big against Samsung in the patent lawsuit of the year , after trading claims and counterclaims of pilfered product ideas . Across the country , in a federal court in Florida , an inventor named Mark Stadnyk is waging a different kind of patent warfare — an ambitious and perhaps quixotic legal foray .</td></tr><tr><td>Mr. Stadnyk , who holds a patent on a motorcycle windshield , is suing the United States government , aiming to head off a patent law that he says will favor big companies and hurt lone inventors like <span style=\"background-color:rgba(255,0,0,0.3)\">himself</span>  .</td><td>Mr. Stadnyk , who holds a patent on a motorcycle windshield , is suing the United States government , aiming to head off a patent law that he says will favor big companies and hurt lone inventors like  <span style=\"background-color:rgba(0,255,0,0.3)\">he</span> .</td></tr><tr><td>Represented by a prominent Washington lawyer , Mr. Stadnyk filed a suit last month that challenges the constitutionality of legislation that Congress passed last fall , the America Invents Act . Mr. Stadnyk and <span style=\"background-color:rgba(255,0,0,0.3)\">his</span>   lawyer — along with some academics , entrepreneurs and venture capitalists — assert that       the   legislation           is a triumph of corporate lobbying power over the founders ’ wishes , and that <span style=\"background-color:rgba(255,0,0,0.3)\">it</span>                     threatens America ’s stature as the world ’s leading innovator .</td><td>Represented by a prominent Washington lawyer , Mr. Stadnyk filed a suit last month that challenges the constitutionality of legislation that Congress passed last fall , the America Invents Act . Mr. Stadnyk and  <span style=\"background-color:rgba(0,255,0,0.3)\">Mr.</span> <span style=\"background-color:rgba(0,255,0,0.3)\">Stadnyk</span> lawyer — along with some academics , entrepreneurs and venture capitalists — assert that <span style=\"background-color:rgba(0,255,0,0.3)\">a</span> <span style=\"background-color:rgba(0,255,0,0.3)\">suit</span> <span style=\"background-color:rgba(0,255,0,0.3)\">last</span> <span style=\"background-color:rgba(0,255,0,0.3)\">month</span> <span style=\"background-color:rgba(0,255,0,0.3)\">that</span> <span style=\"background-color:rgba(0,255,0,0.3)\">challenges</span> the <span style=\"background-color:rgba(0,255,0,0.3)\">constitutionality</span> <span style=\"background-color:rgba(0,255,0,0.3)\">of</span> legislation <span style=\"background-color:rgba(0,255,0,0.3)\">that</span> <span style=\"background-color:rgba(0,255,0,0.3)\">Congress</span> <span style=\"background-color:rgba(0,255,0,0.3)\">passed</span> <span style=\"background-color:rgba(0,255,0,0.3)\">last</span> <span style=\"background-color:rgba(0,255,0,0.3)\">fall</span> <span style=\"background-color:rgba(0,255,0,0.3)\">,</span> <span style=\"background-color:rgba(0,255,0,0.3)\">the</span> <span style=\"background-color:rgba(0,255,0,0.3)\">America</span> <span style=\"background-color:rgba(0,255,0,0.3)\">Invents</span> <span style=\"background-color:rgba(0,255,0,0.3)\">Act</span> is a triumph of corporate lobbying power over the founders ’ wishes , and that  <span style=\"background-color:rgba(0,255,0,0.3)\">a</span> <span style=\"background-color:rgba(0,255,0,0.3)\">suit</span> <span style=\"background-color:rgba(0,255,0,0.3)\">last</span> <span style=\"background-color:rgba(0,255,0,0.3)\">month</span> <span style=\"background-color:rgba(0,255,0,0.3)\">that</span> <span style=\"background-color:rgba(0,255,0,0.3)\">challenges</span> <span style=\"background-color:rgba(0,255,0,0.3)\">the</span> <span style=\"background-color:rgba(0,255,0,0.3)\">constitutionality</span> <span style=\"background-color:rgba(0,255,0,0.3)\">of</span> <span style=\"background-color:rgba(0,255,0,0.3)\">legislation</span> <span style=\"background-color:rgba(0,255,0,0.3)\">that</span> <span style=\"background-color:rgba(0,255,0,0.3)\">Congress</span> <span style=\"background-color:rgba(0,255,0,0.3)\">passed</span> <span style=\"background-color:rgba(0,255,0,0.3)\">last</span> <span style=\"background-color:rgba(0,255,0,0.3)\">fall</span> <span style=\"background-color:rgba(0,255,0,0.3)\">,</span> <span style=\"background-color:rgba(0,255,0,0.3)\">the</span> <span style=\"background-color:rgba(0,255,0,0.3)\">America</span> <span style=\"background-color:rgba(0,255,0,0.3)\">Invents</span> <span style=\"background-color:rgba(0,255,0,0.3)\">Act</span> threatens America ’s stature as the world ’s leading innovator .</td></tr><tr><td>The present system , one of the nation ’s oldest patent principles and called “ first to invent , ” relies on lab notebooks , e - mails and early prototypes to establish the date of invention . The impending law would overturn that by awarding patents to the inventors who are “ first to file ” with the United States Patent and Trademark Office .</td><td>The present system , one of the nation ’s oldest patent principles and called “ first to invent , ” relies on lab notebooks , e - mails and early prototypes to establish the date of invention . The impending law would overturn that by awarding patents to the inventors who are “ first to file ” with the United States Patent and Trademark Office .</td></tr><tr><td>Mr. Stadnyk , 48 , a garage inventor who stumbled into the world of patents after he bought a powerful new motorcycle and wanted to avoid being battered by the wind when riding at 60 miles an hour , even with a windshield . <span style=\"background-color:rgba(255,0,0,0.3)\">He</span>  devised a system of brackets and gears to adjust the height and angle of <span style=\"background-color:rgba(255,0,0,0.3)\">the</span>  windshield and the gap between it and <span style=\"background-color:rgba(255,0,0,0.3)\">the</span>    motorcycle . With <span style=\"background-color:rgba(255,0,0,0.3)\">his</span>  system , he says , the rider feels a flutter of breeze instead of jolting winds and turbulence .</td><td>Mr. Stadnyk , 48 , a garage inventor who stumbled into the world of patents after he bought a powerful new motorcycle and wanted to avoid being battered by the wind when riding at 60 miles an hour , even with a windshield .  <span style=\"background-color:rgba(0,255,0,0.3)\">he</span> devised a system of brackets and gears to adjust the height and angle of  <span style=\"background-color:rgba(0,255,0,0.3)\">a</span> windshield and the gap between it and  <span style=\"background-color:rgba(0,255,0,0.3)\">a</span> <span style=\"background-color:rgba(0,255,0,0.3)\">powerful</span> <span style=\"background-color:rgba(0,255,0,0.3)\">new</span> motorcycle . With  <span style=\"background-color:rgba(0,255,0,0.3)\">he</span> system , he says , the rider feels a flutter of breeze instead of jolting winds and turbulence .</td></tr></table>"
      ],
      "text/plain": [
       "<IPython.core.display.HTML object>"
      ]
     },
     "metadata": {},
     "output_type": "display_data"
    }
   ],
   "source": [
    "all_html = [] # '<table>%s</table>'\n",
    "for v_o, v_n in htmls[:5]:\n",
    "    all_html.append('<tr><td>%s</td><td>%s</td></tr>' % (v_o, v_n))\n",
    "display(HTML('<table>%s</table>' % ''.join(all_html)))"
   ]
  },
  {
   "cell_type": "markdown",
   "metadata": {},
   "source": [
    "# AllenNLP Coref"
   ]
  },
  {
   "cell_type": "code",
   "execution_count": null,
   "metadata": {
    "scrolled": true
   },
   "outputs": [],
   "source": [
    "from allennlp.predictors.predictor import Predictor\n",
    "\n",
    "model_url = 'https://storage.googleapis.com/allennlp-public-models/coref-spanbert-large-2020.02.27.tar.gz'\n",
    "predictor = Predictor.from_path(model_url)  # load the model"
   ]
  },
  {
   "cell_type": "code",
   "execution_count": 547,
   "metadata": {},
   "outputs": [
    {
     "name": "stdout",
     "output_type": "stream",
     "text": [
      "[[[0, 2], [6, 6], [13, 13]], [[6, 8], [15, 15]]]\n",
      "Eva and Martha didn't want Eva and Martha's friend Jenny to feel lonely so Eva and Martha invited their friend Jenny to the party.\n"
     ]
    }
   ],
   "source": [
    "text = \"Eva and Martha didn't want their friend Jenny to feel lonely so they invited her to the party.\"\n",
    "prediction = predictor.predict(document=text)  # get the prediction\n",
    "\n",
    "print(prediction['clusters'])  # list of clusters (the indices of spaCy tokens)\n",
    "# [[[0, 2], [6, 6], [13, 13]], [[6, 8], [15, 15]]]\n",
    "\n",
    "print(predictor.coref_resolved(text))  # resolved text"
   ]
  },
  {
   "cell_type": "code",
   "execution_count": 119,
   "metadata": {},
   "outputs": [],
   "source": [
    "pred = predictor.predict(t)"
   ]
  },
  {
   "cell_type": "code",
   "execution_count": 122,
   "metadata": {},
   "outputs": [],
   "source": [
    "t_r = predictor.coref_resolved(t)"
   ]
  },
  {
   "cell_type": "code",
   "execution_count": 125,
   "metadata": {},
   "outputs": [],
   "source": [
    "q = util.get_quotes_method_2(text=t_r, cluster=True, resolve_coref=False, greedyness=.4, max_dist=150)"
   ]
  },
  {
   "cell_type": "code",
   "execution_count": 721,
   "metadata": {},
   "outputs": [],
   "source": [
    "# clusters = predictor.predict(t)['clusters']\n",
    "doc = nlp(t)"
   ]
  },
  {
   "cell_type": "code",
   "execution_count": 1510,
   "metadata": {},
   "outputs": [],
   "source": [
    "fuzzy = FuzzyIntersectionStrategy(predictor, nlp)\n",
    "c = fuzzy.clusters(t)"
   ]
  },
  {
   "cell_type": "markdown",
   "metadata": {},
   "source": [
    "## extract quotes using replaced document"
   ]
  },
  {
   "cell_type": "code",
   "execution_count": 521,
   "metadata": {},
   "outputs": [],
   "source": [
    "t_int = improved_replace_corefs(doc, c)\n",
    "t_r_imp = improved_replace_corefs(doc, clusters)\n",
    "q1 = util.get_quotes_method_2(text=t_int, cluster=False, resolve_coref=False, greedyness=.4, max_dist=150)"
   ]
  },
  {
   "cell_type": "code",
   "execution_count": 527,
   "metadata": {
    "scrolled": true
   },
   "outputs": [],
   "source": [
    "doc = nlp(t_int)"
   ]
  },
  {
   "cell_type": "code",
   "execution_count": 528,
   "metadata": {
    "scrolled": true
   },
   "outputs": [
    {
     "name": "stdout",
     "output_type": "stream",
     "text": [
      "In Silicon Valley, Apple just won big against Samsung in the patent lawsuit of the year, after trading claims and counterclaims of pilfered product ideas.\n",
      "\n",
      "Across the country, in a federal court in Florida, an inventor named Mark Stadnyk is waging a different kind of patent warfare — an ambitious and perhaps quixotic legal foray.\n",
      "\n",
      "Mr. Stadnyk, who holds a patent on a motorcycle windshield, is suing the United States government, aiming to head off a patent law that the legislation says will favor big companies and hurt lone inventors like an inventor named Mark Stadnyk.\n",
      "\n",
      "Represented by a prominent Washington lawyer, an inventor named Mark Stadnyk filed a suit last month that challenges the constitutionality of legislation that Congress passed last fall, the legislation.\n",
      "\n",
      "Mr. Stadnyk and an inventor named Mark Stadnyk's lawyer — along with some academics, entrepreneurs and venture capitalists\n",
      "\n",
      "— assert that the legislation is a triumph of corporate lobbying power over the founders’ wishes, and that the legislation threatens the United States government’s stature as the world’s leading innovator.\n",
      "\n",
      "The present system, one of the nation’s oldest patent principles and called “first to invent,” relies on lab notebooks, e-mails and early prototypes to establish the date of invention.\n",
      "\n",
      "the legislation would overturn that by awarding patents to the inventors who are “first to file” with the United States Patent and Trademark Office.\n",
      "\n",
      "Mr. Stadnyk, 48, a garage inventor who stumbled into the world of patents after he bought a powerful new motorcycle and wanted to avoid being battered by the wind when riding at 60 miles an hour, even with a windshield.\n",
      "\n",
      "an inventor named Mark Stadnyk devised a system of brackets and gears to adjust the height and angle of the windshield and the gap between it and a powerful new motorcycle.\n",
      "\n",
      "With an inventor named Mark Stadnyk's system, an inventor named Mark Stadnyk says, the rider feels a flutter of breeze instead of jolting winds and turbulence.\n",
      "\n",
      "Mr. Stadnyk, who describes an inventor named Mark Stadnyk's invention style as “rough hacking with chunks of metal,” founded an inventor named Mark Stadnyk's company, MadStad Engineering, in 2006, and as sales picked up, an inventor named Mark Stadnyk stopped working as a computer consultant to devote an inventor named Mark Stadnyk to the business.\n",
      "\n",
      "Today, MadStad employs eight people, including Mr. Stadnyk and his wife, Patty.\n",
      "\n",
      "an inventor named Mark Stadnyk's adjustable windshield systems, priced from $100 to $320, are now used on dozens of makes and models of motorcycles, and are sold through dealers in Australia, Britain and Spain, as well as the United States government.\n",
      "\n",
      "Yearly sales, an inventor named Mark Stadnyk said, are more than $500,000 and growing briskly.\n",
      "\n",
      "an inventor named Mark Stadnyk holds three patents, and an inventor named Mark Stadnyk speaks of a patented idea as a uniquely human property right.\n",
      "\n",
      "“\n",
      "\n",
      "It came out of your mind,” an inventor named Mark Stadnyk explained.\n",
      "\n",
      "“\n",
      "\n",
      "It’s not property you bought or inherited.”\n",
      "\n",
      "an inventor named Mark Stadnyk became interested in the legislation as the legislation proceeded.\n",
      "\n",
      "an inventor named Mark Stadnyk says an inventor named Mark Stadnyk studied the proposals and the legislation, read blogs and reached out to Washington lawyers and academics who raised the issue of the legislation's constitutionality.\n",
      "\n",
      "A grass-roots activist, an inventor named Mark Stadnyk even made a couple of YouTube videos.\n",
      "\n",
      "The shift to a first-to-file system, scheduled to take effect next March, is intended to simplify and streamline the current system, which can invite protracted litigation between competing inventors.\n",
      "\n",
      "The switch would also put the United States government in harmony with patent offices in Europe, Japan and elsewhere, allowing Japan and elsewhere to share information and potentially ease the strain on overburdened patent examiners worldwide.\n",
      "\n",
      "The efficiency argument is the mainstream view of corporate America and Washington policy makers.\n",
      "\n",
      "President Obama declared that the legislation would cut “the red tape that stops too many inventors and entrepreneurs from quickly turning new ideas into thriving businesses — which holds our whole economy back.\n",
      "\n",
      "”\n",
      "\n",
      "But opponents say the legislation will give big companies a huge advantage over start-ups and small inventors.\n",
      "\n",
      "Large corporations have deep pockets and armies of lawyers to write up and file patents, they say, and the legislation will touch off a paper chase to the patent office instead of a race to innovate.\n",
      "\n",
      "Yet the opponents are in the minority.\n",
      "\n",
      "And there is genuine debate about how much garage inventors and fledgling companies contribute to innovation and economic growth these days.\n",
      "\n",
      "an inventor named Mark Stadnyk sees an inventor named Mark Stadnyk's courtroom quest as the intellectual property equivalent of the recent constitutional challenge to the President Obama administration’s health insurance overhaul, in legislation that was narrowly upheld by the Supreme Court.\n",
      "\n",
      "“\n",
      "\n",
      "Others took on Obamacare, and this is my fight,” said Mr. Stadnyk, who lives in Ridge Manor,\n",
      "\n",
      "Fla. “\n",
      "\n",
      "Somebody’s got to do something.\n",
      "\n",
      "” Mr. Stadnyk, who says an inventor named Mark Stadnyk is a conservative, warns of the danger of the patent legislation in populist, antigovernment terms.\n",
      "\n",
      "“\n",
      "\n",
      "My property would be given away by the United States government under the legislation,” an inventor named Mark Stadnyk said.\n",
      "\n",
      "Yet there are liberals among the law’s critics as well.\n",
      "\n",
      "Mr. Stadnyk’s Washington-based lawyer in the suit is Jonathan S. Massey.\n",
      "\n",
      "A graduate of Harvard Law School, Jonathan S. Massey was a clerk for the liberal Supreme Court Justice William J. Brennan Jr., and is a protégé of Laurence H. Tribe, a leading professor of constitutional law at Harvard.\n",
      "\n",
      "Jonathan S. Massey worked on the case presented to the Supreme Court on behalf of former Vice President Al Gore in Bush v. Gore, an appeal that lost and effectively settled the 2000 presidential election.\n",
      "\n",
      "the legislation was a byproduct of years of lobbying and eventual compromise, especially by major technology and pharmaceutical companies.\n",
      "\n",
      "the legislation was approved overwhelmingly in both the House and the Senate.\n",
      "\n",
      "Few focused on the potential of a constitutional problem.\n",
      "\n",
      "Senator Barbara Boxer, Democrat of California, was an exception.\n",
      "\n",
      "Speaking on the Senate floor last year, Senator Barbara Boxer, Democrat of California said, “I strongly disagree with changing the core principle of the United States government's patent system — awarding a patent to the true inventor — for the sake of perceived administrative ease.\n",
      "\n",
      "”\n",
      "\n",
      "Senator Barbara Boxer, Democrat of California went on to say that the Constitution singles out and grants exclusive rights to individuals with new, useful ideas.\n",
      "\n",
      "“\n",
      "\n",
      "the United States government are the only country in the world,” Senator Barbara Boxer, Democrat of California said, “whose Constitution specifically mentions ‘inventor.\n",
      "\n",
      "’ \n",
      "\n",
      "” Jonathan S. Massey says Jonathan S. Massey became involved in the legislative debate and the suit because of Jonathan S. Massey's background in constitutional law.\n",
      "\n",
      "the legislation, Jonathan S. Massey said, “violates the text and the original understanding of the Constitution.\n",
      "\n",
      "”\n",
      "\n",
      "In the suit, the United States government has until Thursday to reply.\n",
      "\n",
      "Jonathan S. Massey declined to say who would provide financial support if the case proceeded through appeals and higher courts.\n",
      "\n",
      "As a matter of confidentiality and courtroom tactics, Jonathan S. Massey said Jonathan S. Massey did not want to let “the other side know the size of my resources.\n",
      "\n",
      "” the suit, according to some legal experts, faces long odds.\n",
      "\n",
      "The courts, they say, have treated the section of the Constitution that concerns intellectual property rights as utilitarian doctrine subject to Congressional interpretation.\n",
      "\n",
      "“\n",
      "\n",
      "Congress is fairly free to do as Congress sees fit to promote innovation,” said Arti K. Rai, a professor at Duke University School of Law and a former senior official in the patent office.\n",
      "\n",
      "Mark A. Lemley, a professor at Stanford Law School, said the constitutional challenge “is the legal equivalent of fringe science.\n",
      "\n",
      "”\n",
      "\n",
      "“\n",
      "\n",
      "There are people who didn’t like the outcome of the legislation, and people who didn’t like the outcome of the patent legislation may be right in not liking the outcome,” Mark A. Lemley, a professor at Stanford Law School said.\n",
      "\n",
      "“\n",
      "\n",
      "But that doesn’t make it unconstitutional.\n",
      "\n",
      "”\n",
      "\n",
      "In Silicon Valley, Stephen G. Perlman, a high-tech inventor and entrepreneur, worries about the legislation practical effect.\n",
      "\n",
      "His invention factory, Rearden, has produced a series of innovations and spinoff companies, including ones that make the technology for fine-grain computer-generated facial imagery used in Hollywood, and another company whose data-handling software generates photo-realistic, high-speed play for online gamers on tablet computers.\n",
      "\n",
      "The new law, he said, with its emphasis on speed, could well make it more difficult to wait before filing an application, to take the time to experiment over years, and to confidentially show early concepts to investors to raise money.\n",
      "\n",
      "“\n",
      "\n",
      "I’m scared that the legislation is a threat to the survival of our species\n",
      "\n",
      "— people who do fundamental, long-term invention,” Mr. Perlman said.\n",
      "\n",
      "Gary Lauder, a venture capitalist, said the legislation had the logic of trying to make the patent system more efficient and less prone to litigation.\n",
      "\n",
      "But he is a critic.\n",
      "\n",
      "“\n",
      "\n",
      "the legislation favors large companies at the expense of small ones,” Gary Lauder, a venture capitalist said.\n",
      "\n",
      "“\n",
      "\n",
      "There wasn’t enough advocacy for unborn companies.\n",
      "\n",
      "And partly as a result of our current patent system, we do have a huge amount of innovation in the United States government.\n",
      "\n",
      "”\n",
      "\n"
     ]
    }
   ],
   "source": [
    "for s in doc.sents:\n",
    "    print(s)\n",
    "    print()"
   ]
  },
  {
   "cell_type": "markdown",
   "metadata": {},
   "source": [
    "# Use coref-clusters to merge extracted sources"
   ]
  },
  {
   "cell_type": "code",
   "execution_count": 555,
   "metadata": {},
   "outputs": [],
   "source": [
    "doc = nlp(t)"
   ]
  },
  {
   "cell_type": "markdown",
   "metadata": {},
   "source": [
    "# Get News Categories"
   ]
  },
  {
   "cell_type": "code",
   "execution_count": 68,
   "metadata": {},
   "outputs": [],
   "source": [
    "import pandas as pd \n",
    "all_the_news = pd.read_csv('../data/articles3.csv', index_col=0)"
   ]
  },
  {
   "cell_type": "code",
   "execution_count": 71,
   "metadata": {},
   "outputs": [],
   "source": [
    "from urllib import parse"
   ]
  },
  {
   "cell_type": "code",
   "execution_count": 76,
   "metadata": {},
   "outputs": [
    {
     "data": {
      "text/plain": [
       "www.npr.org            11937\n",
       "web.archive.org        11169\n",
       "www.reuters.com        10710\n",
       "www.vox.com             4947\n",
       "www.theguardian.com     3808\n",
       "Name: url, dtype: int64"
      ]
     },
     "execution_count": 76,
     "metadata": {},
     "output_type": "execute_result"
    }
   ],
   "source": [
    "all_the_news['url'].apply(parse.urlparse).str.get(1).value_counts()"
   ]
  },
  {
   "cell_type": "code",
   "execution_count": 82,
   "metadata": {},
   "outputs": [
    {
     "data": {
      "text/plain": [
       "False    42357\n",
       "True       214\n",
       "Name: url, dtype: int64"
      ]
     },
     "execution_count": 82,
     "metadata": {},
     "output_type": "execute_result"
    }
   ],
   "source": [
    "all_the_news['url'].str.lower().str.contains('crime').value_counts()"
   ]
  },
  {
   "cell_type": "code",
   "execution_count": 85,
   "metadata": {},
   "outputs": [],
   "source": [
    "discourse_df = pd.read_csv('../../controlled-sequence-gen/data/news-discourse-training-data.csv')"
   ]
  },
  {
   "cell_type": "code",
   "execution_count": 109,
   "metadata": {},
   "outputs": [],
   "source": [
    "from collections import Counter\n",
    "c = Counter()\n",
    "for fname in discourse_df['file'].str.split('/'):\n",
    "    c.update(fname)"
   ]
  },
  {
   "cell_type": "code",
   "execution_count": 118,
   "metadata": {},
   "outputs": [
    {
     "data": {
      "text/plain": [
       "False    17839\n",
       "True       312\n",
       "Name: name, dtype: int64"
      ]
     },
     "execution_count": 118,
     "metadata": {},
     "output_type": "execute_result"
    }
   ],
   "source": [
    "discourse_df['name'].str.startswith('D').value_counts()"
   ]
  },
  {
   "cell_type": "code",
   "execution_count": 119,
   "metadata": {},
   "outputs": [
    {
     "data": {
      "text/plain": [
       "False    17793\n",
       "True       358\n",
       "Name: name, dtype: int64"
      ]
     },
     "execution_count": 119,
     "metadata": {},
     "output_type": "execute_result"
    }
   ],
   "source": [
    "discourse_df['name'].str.startswith('C').value_counts()"
   ]
  },
  {
   "cell_type": "code",
   "execution_count": 120,
   "metadata": {},
   "outputs": [
    {
     "data": {
      "text/plain": [
       "False    17839\n",
       "True       312\n",
       "Name: name, dtype: int64"
      ]
     },
     "execution_count": 120,
     "metadata": {},
     "output_type": "execute_result"
    }
   ],
   "source": [
    "discourse_df['name'].str.startswith('D').value_counts()"
   ]
  },
  {
   "cell_type": "code",
   "execution_count": 121,
   "metadata": {},
   "outputs": [
    {
     "data": {
      "text/plain": [
       "False    17875\n",
       "True       276\n",
       "Name: name, dtype: int64"
      ]
     },
     "execution_count": 121,
     "metadata": {},
     "output_type": "execute_result"
    }
   ],
   "source": [
    "discourse_df['name'].str.startswith('B').value_counts()"
   ]
  },
  {
   "cell_type": "code",
   "execution_count": 84,
   "metadata": {},
   "outputs": [
    {
     "data": {
      "text/html": [
       "<div>\n",
       "<style scoped>\n",
       "    .dataframe tbody tr th:only-of-type {\n",
       "        vertical-align: middle;\n",
       "    }\n",
       "\n",
       "    .dataframe tbody tr th {\n",
       "        vertical-align: top;\n",
       "    }\n",
       "\n",
       "    .dataframe thead th {\n",
       "        text-align: right;\n",
       "    }\n",
       "</style>\n",
       "<table border=\"1\" class=\"dataframe\">\n",
       "  <thead>\n",
       "    <tr style=\"text-align: right;\">\n",
       "      <th></th>\n",
       "      <th>id</th>\n",
       "      <th>title</th>\n",
       "      <th>publication</th>\n",
       "      <th>author</th>\n",
       "      <th>date</th>\n",
       "      <th>year</th>\n",
       "      <th>month</th>\n",
       "      <th>url</th>\n",
       "      <th>content</th>\n",
       "    </tr>\n",
       "  </thead>\n",
       "  <tbody>\n",
       "    <tr>\n",
       "      <th>103492</th>\n",
       "      <td>151947</td>\n",
       "      <td>American Crime Story season three to tackle Gi...</td>\n",
       "      <td>Guardian</td>\n",
       "      <td>Benjamin Lee</td>\n",
       "      <td>2016-10-18</td>\n",
       "      <td>2016.0</td>\n",
       "      <td>10.0</td>\n",
       "      <td>https://www.theguardian.com/tv-and-radio/2016/...</td>\n",
       "      <td>American Crime Story has been renewed for a th...</td>\n",
       "    </tr>\n",
       "    <tr>\n",
       "      <th>103779</th>\n",
       "      <td>152341</td>\n",
       "      <td>US blacklists more Russian businessmen and com...</td>\n",
       "      <td>Guardian</td>\n",
       "      <td>NaN</td>\n",
       "      <td>2016-12-20</td>\n",
       "      <td>2016.0</td>\n",
       "      <td>12.0</td>\n",
       "      <td>https://www.theguardian.com/world/2016/dec/20/...</td>\n",
       "      <td>The United States has blacklisted seven Russia...</td>\n",
       "    </tr>\n",
       "    <tr>\n",
       "      <th>104067</th>\n",
       "      <td>152707</td>\n",
       "      <td>’Anti-white’ graffiti in gentrifying LA neighb...</td>\n",
       "      <td>Guardian</td>\n",
       "      <td>Rory Carroll</td>\n",
       "      <td>2016-11-04</td>\n",
       "      <td>2016.0</td>\n",
       "      <td>11.0</td>\n",
       "      <td>https://www.theguardian.com/us-news/2016/nov/0...</td>\n",
       "      <td>Police in Los Angeles are investigating the va...</td>\n",
       "    </tr>\n",
       "    <tr>\n",
       "      <th>104166</th>\n",
       "      <td>152836</td>\n",
       "      <td>Police in England and Wales consider making mi...</td>\n",
       "      <td>Guardian</td>\n",
       "      <td>Mark Townsend</td>\n",
       "      <td>2016-09-10</td>\n",
       "      <td>2016.0</td>\n",
       "      <td>9.0</td>\n",
       "      <td>https://www.theguardian.com/society/2016/sep/1...</td>\n",
       "      <td>Police forces across England and Wales are con...</td>\n",
       "    </tr>\n",
       "    <tr>\n",
       "      <th>104429</th>\n",
       "      <td>153183</td>\n",
       "      <td>The Night Of review: a good crime drama that f...</td>\n",
       "      <td>Guardian</td>\n",
       "      <td>Brian Moylan</td>\n",
       "      <td>2016-07-09</td>\n",
       "      <td>2016.0</td>\n",
       "      <td>7.0</td>\n",
       "      <td>https://www.theguardian.com/tv-and-radio/2016/...</td>\n",
       "      <td>No one can say that The Night Of isn’t good te...</td>\n",
       "    </tr>\n",
       "    <tr>\n",
       "      <th>...</th>\n",
       "      <td>...</td>\n",
       "      <td>...</td>\n",
       "      <td>...</td>\n",
       "      <td>...</td>\n",
       "      <td>...</td>\n",
       "      <td>...</td>\n",
       "      <td>...</td>\n",
       "      <td>...</td>\n",
       "      <td>...</td>\n",
       "    </tr>\n",
       "    <tr>\n",
       "      <th>145527</th>\n",
       "      <td>217422</td>\n",
       "      <td>A man confessed to punching a baby boy to deat...</td>\n",
       "      <td>Washington Post</td>\n",
       "      <td>Kristine Guerra</td>\n",
       "      <td>2016-12-04</td>\n",
       "      <td>2016.0</td>\n",
       "      <td>12.0</td>\n",
       "      <td>https://web.archive.org/web/20161205004132/htt...</td>\n",
       "      <td>Kenneth Johnson had confessed that he pun...</td>\n",
       "    </tr>\n",
       "    <tr>\n",
       "      <th>145547</th>\n",
       "      <td>217448</td>\n",
       "      <td>The crimes against them were terrifying, but t...</td>\n",
       "      <td>Washington Post</td>\n",
       "      <td>Amy Brittain</td>\n",
       "      <td>2016-12-04</td>\n",
       "      <td>2016.0</td>\n",
       "      <td>12.0</td>\n",
       "      <td>https://web.archive.org/web/20161206001457/htt...</td>\n",
       "      <td>CITY | This is part of a continuing series...</td>\n",
       "    </tr>\n",
       "    <tr>\n",
       "      <th>145726</th>\n",
       "      <td>217681</td>\n",
       "      <td>Dylann Roof guilty on 33 counts of federal hat...</td>\n",
       "      <td>Washington Post</td>\n",
       "      <td>Dustin Waters</td>\n",
       "      <td>2016-12-15</td>\n",
       "      <td>2016.0</td>\n",
       "      <td>12.0</td>\n",
       "      <td>https://web.archive.org/web/20161216005217/htt...</td>\n",
       "      <td>CHARLESTON, S. C.  —   Dylann Storm ...</td>\n",
       "    </tr>\n",
       "    <tr>\n",
       "      <th>145793</th>\n",
       "      <td>217769</td>\n",
       "      <td>A dad was awakened by his toddler’s crying. He...</td>\n",
       "      <td>Washington Post</td>\n",
       "      <td>Amy B Wang</td>\n",
       "      <td>2016-12-18</td>\n",
       "      <td>2016.0</td>\n",
       "      <td>12.0</td>\n",
       "      <td>https://web.archive.org/web/20161219001336/htt...</td>\n",
       "      <td>Around 2:30 a. m. last Thursday, a father...</td>\n",
       "    </tr>\n",
       "    <tr>\n",
       "      <th>145918</th>\n",
       "      <td>217924</td>\n",
       "      <td>Woman gave birth inside a Walmart bathroom and...</td>\n",
       "      <td>Washington Post</td>\n",
       "      <td>Kristine Guerra</td>\n",
       "      <td>2016-12-24</td>\n",
       "      <td>2016.0</td>\n",
       "      <td>12.0</td>\n",
       "      <td>https://web.archive.org/web/20161225004744/htt...</td>\n",
       "      <td>Police in rural Louisiana say a Walmart e...</td>\n",
       "    </tr>\n",
       "  </tbody>\n",
       "</table>\n",
       "<p>214 rows × 9 columns</p>\n",
       "</div>"
      ],
      "text/plain": [
       "            id                                              title  \\\n",
       "103492  151947  American Crime Story season three to tackle Gi...   \n",
       "103779  152341  US blacklists more Russian businessmen and com...   \n",
       "104067  152707  ’Anti-white’ graffiti in gentrifying LA neighb...   \n",
       "104166  152836  Police in England and Wales consider making mi...   \n",
       "104429  153183  The Night Of review: a good crime drama that f...   \n",
       "...        ...                                                ...   \n",
       "145527  217422  A man confessed to punching a baby boy to deat...   \n",
       "145547  217448  The crimes against them were terrifying, but t...   \n",
       "145726  217681  Dylann Roof guilty on 33 counts of federal hat...   \n",
       "145793  217769  A dad was awakened by his toddler’s crying. He...   \n",
       "145918  217924  Woman gave birth inside a Walmart bathroom and...   \n",
       "\n",
       "            publication           author        date    year  month  \\\n",
       "103492         Guardian     Benjamin Lee  2016-10-18  2016.0   10.0   \n",
       "103779         Guardian              NaN  2016-12-20  2016.0   12.0   \n",
       "104067         Guardian     Rory Carroll  2016-11-04  2016.0   11.0   \n",
       "104166         Guardian    Mark Townsend  2016-09-10  2016.0    9.0   \n",
       "104429         Guardian     Brian Moylan  2016-07-09  2016.0    7.0   \n",
       "...                 ...              ...         ...     ...    ...   \n",
       "145527  Washington Post  Kristine Guerra  2016-12-04  2016.0   12.0   \n",
       "145547  Washington Post     Amy Brittain  2016-12-04  2016.0   12.0   \n",
       "145726  Washington Post    Dustin Waters  2016-12-15  2016.0   12.0   \n",
       "145793  Washington Post       Amy B Wang  2016-12-18  2016.0   12.0   \n",
       "145918  Washington Post  Kristine Guerra  2016-12-24  2016.0   12.0   \n",
       "\n",
       "                                                      url  \\\n",
       "103492  https://www.theguardian.com/tv-and-radio/2016/...   \n",
       "103779  https://www.theguardian.com/world/2016/dec/20/...   \n",
       "104067  https://www.theguardian.com/us-news/2016/nov/0...   \n",
       "104166  https://www.theguardian.com/society/2016/sep/1...   \n",
       "104429  https://www.theguardian.com/tv-and-radio/2016/...   \n",
       "...                                                   ...   \n",
       "145527  https://web.archive.org/web/20161205004132/htt...   \n",
       "145547  https://web.archive.org/web/20161206001457/htt...   \n",
       "145726  https://web.archive.org/web/20161216005217/htt...   \n",
       "145793  https://web.archive.org/web/20161219001336/htt...   \n",
       "145918  https://web.archive.org/web/20161225004744/htt...   \n",
       "\n",
       "                                                  content  \n",
       "103492  American Crime Story has been renewed for a th...  \n",
       "103779  The United States has blacklisted seven Russia...  \n",
       "104067  Police in Los Angeles are investigating the va...  \n",
       "104166  Police forces across England and Wales are con...  \n",
       "104429  No one can say that The Night Of isn’t good te...  \n",
       "...                                                   ...  \n",
       "145527       Kenneth Johnson had confessed that he pun...  \n",
       "145547      CITY | This is part of a continuing series...  \n",
       "145726            CHARLESTON, S. C.  —   Dylann Storm ...  \n",
       "145793       Around 2:30 a. m. last Thursday, a father...  \n",
       "145918       Police in rural Louisiana say a Walmart e...  \n",
       "\n",
       "[214 rows x 9 columns]"
      ]
     },
     "execution_count": 84,
     "metadata": {},
     "output_type": "execute_result"
    }
   ],
   "source": [
    "all_the_news.loc[lambda df: df['url'].str.lower().str.contains('crime')]"
   ]
  },
  {
   "cell_type": "code",
   "execution_count": null,
   "metadata": {},
   "outputs": [],
   "source": [
    "df['url'].str.split('/').str.get(6).value_counts()"
   ]
  },
  {
   "cell_type": "code",
   "execution_count": null,
   "metadata": {},
   "outputs": [],
   "source": []
  },
  {
   "cell_type": "code",
   "execution_count": null,
   "metadata": {},
   "outputs": [],
   "source": []
  },
  {
   "cell_type": "code",
   "execution_count": null,
   "metadata": {},
   "outputs": [],
   "source": []
  },
  {
   "cell_type": "markdown",
   "metadata": {},
   "source": [
    "# Try backtracking from Named Entities (PERSON) first"
   ]
  },
  {
   "cell_type": "code",
   "execution_count": 3,
   "metadata": {},
   "outputs": [],
   "source": [
    "import coref_resolution_util"
   ]
  },
  {
   "cell_type": "code",
   "execution_count": 11,
   "metadata": {},
   "outputs": [
    {
     "data": {
      "text/plain": [
       "<module 'coref_resolution_util' from '../scripts/coref_resolution_util.py'>"
      ]
     },
     "execution_count": 11,
     "metadata": {},
     "output_type": "execute_result"
    }
   ],
   "source": [
    "from importlib import reload\n",
    "reload(coref_resolution_util)"
   ]
  },
  {
   "cell_type": "code",
   "execution_count": 41,
   "metadata": {
    "scrolled": true
   },
   "outputs": [],
   "source": [
    "import sqlite3\n",
    "import pandas as pd \n",
    "import sys\n",
    "from IPython.display import display, HTML\n",
    "sys.path.insert(0, '../../edit-pathways/util/')\n",
    "sys.path.insert(0, '../scripts/')\n",
    "import util_newssniffer_parsing as unp \n",
    "import spacy\n",
    "import neuralcoref\n",
    "\n",
    "conn = sqlite3.connect(db_path)\n",
    "df = pd.read_sql('''\n",
    "    SELECT *\n",
    "    FROM entryversion \n",
    "    WHERE num_versions < 40\n",
    "    AND LENGTH(summary) < 9000\n",
    "    LIMIT 10\n",
    "''', con=conn)\n",
    "t = df['summary'][0].replace('</p><p>', ' ')"
   ]
  },
  {
   "cell_type": "code",
   "execution_count": 14,
   "metadata": {
    "scrolled": true
   },
   "outputs": [],
   "source": [
    "quote_idxes, sent_words, sent_lens = coref_resolution_util.perform_quote_extraction_and_clustering(t)"
   ]
  },
  {
   "cell_type": "code",
   "execution_count": 15,
   "metadata": {},
   "outputs": [],
   "source": [
    "import transformers"
   ]
  },
  {
   "cell_type": "code",
   "execution_count": 18,
   "metadata": {},
   "outputs": [],
   "source": [
    "p = coref_resolution_util.get_predictor()"
   ]
  },
  {
   "cell_type": "code",
   "execution_count": 1508,
   "metadata": {},
   "outputs": [
    {
     "data": {
      "text/html": [
       "In Silicon Valley , Apple just won big against Samsung in the patent lawsuit of the year , after trading claims and counterclaims of pilfered product ideas .<br><br>Across the country , in a federal court in Florida , an inventor named Mark Stadnyk is waging a different kind of patent warfare — an ambitious and perhaps quixotic legal foray .<br><br>Mr. Stadnyk , who holds a patent on a motorcycle windshield , is suing the United States government , aiming to head off a patent law that he says will favor big companies and hurt lone inventors like himself .<br><br>Represented by a prominent Washington lawyer , Mr. Stadnyk filed a suit last month that challenges the constitutionality of legislation that Congress passed last fall , the America Invents Act .<br><br>Mr. Stadnyk and his lawyer — along with some academics , entrepreneurs and venture capitalists<br><br>— assert that the legislation is a triumph of corporate lobbying power over the founders ’ wishes , and that it threatens America ’s stature as the world ’s leading innovator .<br><br>The present system , one of the nation ’s oldest patent principles and called “ first to invent , ” relies on lab notebooks , e - mails and early prototypes to establish the date of invention .<br><br>The impending law would overturn that by awarding patents to the inventors who are “ first to file ” with the United States Patent and Trademark Office .<br><br>Mr. Stadnyk , 48 , a garage inventor who stumbled into the world of patents after he bought a powerful new motorcycle and wanted to avoid being battered by the wind when riding at 60 miles an hour , even with a windshield .<br><br>He devised a system of brackets and gears to adjust the height and angle of the windshield and the gap between it and the motorcycle .<br><br>With his system , he says , the rider feels a flutter of breeze instead of jolting winds and turbulence .<br><br>Mr. Stadnyk , who describes his invention style as “ rough hacking with chunks of metal , ” founded his company , MadStad Engineering , in 2006 , and as sales picked up , he stopped working as a computer consultant to devote himself to the business .<br><br>Today , MadStad employs eight people , including Mr. Stadnyk and his wife , Patty .<br><br>His adjustable windshield systems , priced from \\$ 100 to \\$ 320 , are now used on dozens of makes and models of motorcycles , and are sold through dealers in Australia , Britain and Spain , as well as the United States .<br><br>Yearly sales , he said , are more than \\$ 500,000 and growing briskly .<br><br>Mr. Stadnyk holds three patents , and he speaks of a patented idea as a uniquely human property right .<br><br>“<br><br>It came out of your mind , ” he explained .<br><br>“<br><br>It ’s not property you bought or inherited .<br><br>”<br><br>Mr. Stadnyk became interested in the patent legislation as it proceeded .<br><br>He says he studied the proposals and the law , read blogs and reached out to Washington lawyers and academics who raised the issue of its constitutionality .<br><br>A grass - roots activist , he even made a couple of YouTube videos .<br><br>The shift to a first - to - file system , scheduled to take effect next March , is intended to simplify and streamline the current system , which can invite protracted litigation between competing inventors .<br><br>The switch would also put the United States in harmony with patent offices in Europe , Japan and elsewhere , allowing them to share information and potentially ease the strain on overburdened patent examiners worldwide .<br><br>The efficiency argument is the mainstream view of corporate America and Washington policy makers .<br><br>President Obama declared that the new law would cut “ the red tape that stops too many inventors and entrepreneurs from quickly turning new ideas into thriving businesses — which holds our whole economy back .<br><br>”<br><br>But opponents say it will give big companies a huge advantage over start - ups and small inventors .<br><br>Large corporations have deep pockets and armies of lawyers to write up and file patents , they say , and the new law will touch off a paper chase to the patent office instead of a race to innovate .<br><br>Yet the opponents are in the minority .<br><br>And there is genuine debate about how much garage inventors and fledgling companies contribute to innovation and economic growth these days .<br><br>Mr. Stadnyk sees his courtroom quest as the intellectual property equivalent of the recent constitutional challenge to the Obama administration ’s health insurance overhaul , in legislation that was narrowly upheld by the Supreme Court .<br><br>“<br><br>Others took on Obamacare , and this is my fight , ” said Mr. Stadnyk , who lives in Ridge Manor ,<br><br>Fla. “<br><br>Somebody ’s got to do something .<br><br>” Mr. Stadnyk , who says he is a conservative , warns of the danger of the patent legislation in populist , antigovernment terms .<br><br>“<br><br>My property would be given away by the government under this new law , ” he said .<br><br>Yet there are liberals among the law ’s critics as well .<br><br>Mr. Stadnyk ’s Washington - based lawyer in the suit is Jonathan S. Massey .<br><br>A graduate of Harvard Law School , Mr. Massey was a clerk for the liberal Supreme Court Justice William J. Brennan Jr. , and is a protégé of Laurence H. Tribe , a leading professor of constitutional law at Harvard .<br><br>Mr. Massey worked on the case presented to the Supreme Court on behalf of former Vice President Al Gore in Bush v. Gore , an appeal that lost and effectively settled the 2000 presidential election .<br><br>The America Invents Act was a byproduct of years of lobbying and eventual compromise , especially by major technology and pharmaceutical companies .<br><br>The new patent law was approved overwhelmingly in both the House and the Senate .<br><br>Few focused on the potential of a constitutional problem .<br><br>Senator Barbara Boxer , Democrat of California , was an exception .<br><br>Speaking on the Senate floor last year , she said , “ I strongly disagree with changing the core principle of our patent system — awarding a patent to the true inventor — for the sake of perceived administrative ease .<br><br>”<br><br>Ms. Boxer went on to say that the Constitution singles out and grants exclusive rights to individuals with new , useful ideas .<br><br>“<br><br>We are the only country in the world , ” she said , “ whose Constitution specifically mentions<br><br>‘ inventor .<br><br>’  <br><br>” Mr. Massey says he became involved in the legislative debate and this suit because of his background in constitutional law .<br><br>The new patent law , he said , “ violates the text and the original understanding of the Constitution .<br><br>”<br><br>In the suit , the government has until Thursday to reply .<br><br>Mr. Massey declined to say who would provide financial support if the case proceeded through appeals and higher courts .<br><br>As a matter of confidentiality and courtroom tactics , he said he did not want to let “ the other side know the size of my resources .<br><br>”<br><br>The suit , according to some legal experts , faces long odds .<br><br>The courts , they say , have treated the section of the Constitution that concerns intellectual property rights as utilitarian doctrine subject to Congressional interpretation .<br><br>“<br><br>Congress is fairly free to do as it sees fit to promote innovation , ” said Arti K. Rai , a professor at Duke University School of Law and a former senior official in the patent office .<br><br>Mark A. Lemley , a professor at Stanford Law School , said the constitutional challenge “ is the legal equivalent of fringe science .<br><br>”<br><br>“<br><br>There are people who did n’t like the outcome of the patent legislation , and they may be right in not liking the outcome , ” he said .<br><br>“<br><br>But that does n’t make it unconstitutional .<br><br>”<br><br>In Silicon Valley , Stephen G. Perlman , a high - tech inventor and entrepreneur , worries about the law ’s practical effect .<br><br>His invention factory , Rearden , has produced a series of innovations and spinoff companies , including ones that make the technology for fine - grain computer - generated facial imagery used in Hollywood , and another company whose data - handling software generates photo - realistic , high - speed play for online gamers on tablet computers .<br><br>The new law , he said , with its emphasis on speed , could well make it more difficult to wait before filing an application , to take the time to experiment over years , and to confidentially show early concepts to investors to raise money .<br><br>“<br><br>I ’m scared that this law is a threat to the survival of our species<br><br>— people who do fundamental , long - term invention , ” Mr. Perlman said .<br><br><span style=\"background-color: Gold\">Gary Lauder , a venture capitalist , said the new law had the logic of trying to make the patent system more efficient and less prone to litigation .</span><br><br>But he is a critic .<br><br>“<br><br><span style=\"background-color: Gold\">This law favors large companies at the expense of small ones , ” <span style=\"background-color: HotPink\">Mr. Lauder</span> said .</span><br><br><span style=\"background-color: Gold\">“</span><br><br><span style=\"background-color: Gold\">There was n’t enough advocacy for unborn companies .</span><br><br><span style=\"background-color: Gold\">And partly as a result of our current patent system , we do have a huge amount of innovation in America .</span><br><br>”"
      ],
      "text/plain": [
       "<IPython.core.display.HTML object>"
      ]
     },
     "metadata": {},
     "output_type": "display_data"
    }
   ],
   "source": [
    "back_span_col = 'Crimson'\n",
    "back_sent_col = 'DarkSeaGreen'\n",
    "quote_sent_col = 'Gold'\n",
    "quote_span_col = 'HotPink'\n",
    "head_span_col = 'Lime'\n",
    "\n",
    "t2 = t.iloc[13]\n",
    "\n",
    "q_sents = set(map(lambda x: x[0], t2['quote_chunks']))\n",
    "b_sents = set(map(lambda x: x[0], t2['background_chunks']))\n",
    "\n",
    "all_sents_html = []\n",
    "for s_idx, sent in enumerate(sent_words):\n",
    "    adj = sum(sent_lens[:s_idx])\n",
    "    if s_idx == t2['head_s_idx']:\n",
    "        sent, adj = format_span_with_word_list(adj, sent, t2['head_span'], head_span_col)\n",
    "    # format sentence\n",
    "    if s_idx in q_sents:\n",
    "        q_chunks = list(filter(lambda x: x[0] == s_idx, t2['quote_chunks']))\n",
    "        for _, q_span in q_chunks:\n",
    "            sent, adj = format_span_with_word_list(adj, sent, q_span, quote_span_col)\n",
    "        sent = format_sent_with_word_list(sent, quote_sent_col)\n",
    "    elif s_idx in b_sents:\n",
    "        b_chunks = list(filter(lambda x: x[0] == s_idx, t2['background_chunks']))\n",
    "        for _, b_span in b_chunks:\n",
    "            sent, adj = format_span_with_word_list(adj, sent, b_span, back_span_col)\n",
    "        sent = format_sent_with_word_list(sent, back_sent_col)\n",
    "    else:\n",
    "        sent = ' '.join(sent)\n",
    "    all_sents_html.append(sent)\n",
    "\n",
    "display(HTML('<br><br>'.join(all_sents_html).replace('$', '\\$')))"
   ]
  },
  {
   "cell_type": "code",
   "execution_count": 1484,
   "metadata": {},
   "outputs": [
    {
     "data": {
      "text/plain": [
       "Barbara Boxer"
      ]
     },
     "execution_count": 1484,
     "metadata": {},
     "output_type": "execute_result"
    }
   ],
   "source": [
    "doc[t2['head_span'][0]:t2['head_span'][1]]"
   ]
  },
  {
   "cell_type": "code",
   "execution_count": null,
   "metadata": {},
   "outputs": [],
   "source": [
    "doc[t2['head_span'][0]:t2['head_span'][1]]"
   ]
  },
  {
   "cell_type": "markdown",
   "metadata": {},
   "source": [
    "# Classify News Articles for Source Extraction"
   ]
  },
  {
   "cell_type": "code",
   "execution_count": 124,
   "metadata": {},
   "outputs": [
    {
     "data": {
      "text/html": [
       "<div>\n",
       "<style scoped>\n",
       "    .dataframe tbody tr th:only-of-type {\n",
       "        vertical-align: middle;\n",
       "    }\n",
       "\n",
       "    .dataframe tbody tr th {\n",
       "        vertical-align: top;\n",
       "    }\n",
       "\n",
       "    .dataframe thead th {\n",
       "        text-align: right;\n",
       "    }\n",
       "</style>\n",
       "<table border=\"1\" class=\"dataframe\">\n",
       "  <thead>\n",
       "    <tr style=\"text-align: right;\">\n",
       "      <th></th>\n",
       "      <th>COUNT()</th>\n",
       "    </tr>\n",
       "  </thead>\n",
       "  <tbody>\n",
       "    <tr>\n",
       "      <th>0</th>\n",
       "      <td>87556</td>\n",
       "    </tr>\n",
       "  </tbody>\n",
       "</table>\n",
       "</div>"
      ],
      "text/plain": [
       "   COUNT()\n",
       "0    87556"
      ]
     },
     "execution_count": 124,
     "metadata": {},
     "output_type": "execute_result"
    }
   ],
   "source": [
    "pd.read_sql('SELECT COUNT() from entryversion where version = 0', con=conn)"
   ]
  },
  {
   "cell_type": "code",
   "execution_count": 135,
   "metadata": {},
   "outputs": [],
   "source": [
    "import fasttext\n",
    "from string import punctuation"
   ]
  },
  {
   "cell_type": "code",
   "execution_count": 136,
   "metadata": {},
   "outputs": [],
   "source": [
    "def replace_punct(s):\n",
    "    for p in punctuation:\n",
    "        s = s.replace(p, ' ')\n",
    "    s = ' '.join(s.split())\n",
    "    return s"
   ]
  },
  {
   "cell_type": "code",
   "execution_count": 127,
   "metadata": {},
   "outputs": [
    {
     "name": "stderr",
     "output_type": "stream",
     "text": [
      "Warning : `load_model` does not return WordVectorModel or SupervisedModel any more, but a `FastText` object which is very similar.\n"
     ]
    }
   ],
   "source": [
    "fasttext_model = fasttext.load_model('../data/fasttext-data/model_news-classification.bin')"
   ]
  },
  {
   "cell_type": "code",
   "execution_count": 129,
   "metadata": {},
   "outputs": [
    {
     "data": {
      "text/plain": [
       "<fasttext.FastText._FastText at 0x7ff01aa40950>"
      ]
     },
     "execution_count": 129,
     "metadata": {},
     "output_type": "execute_result"
    }
   ],
   "source": [
    "fasttext_model"
   ]
  },
  {
   "cell_type": "code",
   "execution_count": 139,
   "metadata": {},
   "outputs": [],
   "source": [
    "df = pd.read_sql('SELECT * from entryversion where version = 0', con=conn)"
   ]
  },
  {
   "cell_type": "code",
   "execution_count": 204,
   "metadata": {},
   "outputs": [],
   "source": [
    "text_df = (\n",
    "    df\n",
    "     .set_index('entry_id')\n",
    "     [['title', 'summary']]\n",
    "     .fillna('')\n",
    "     .apply(lambda df: df['title'] + '. ' + df['summary'], axis=1)\n",
    "     .loc[lambda s: s.str.len() < 9000]\n",
    "     .str.replace('\\n', ' ')\n",
    "     .str.replace('</p>', ' ')\n",
    "     .str.replace('<p>', ' ')\n",
    "     .str.split()\n",
    "     .str.join(' ')\n",
    ")\n",
    "\n",
    "topic_labels = (\n",
    "    text_df\n",
    "     # preprocess\n",
    "     .str.lower()\n",
    "     .apply(replace_punct)\n",
    "     .str.strip()\n",
    "     # predict\n",
    "     .apply(fasttext_model.predict)\n",
    "     # format output\n",
    "     .to_frame('output')\n",
    "     .assign(\n",
    "         y_pred=lambda df: \n",
    "             df['output']\n",
    "                 .str.get(0)\n",
    "                 .str.get(0)\n",
    "                 .str.replace('__label__', '')\n",
    "                 .str.strip()\n",
    "            )\n",
    "     .assign(y_prob=lambda df: df['output'].str.get(1).apply(lambda x: x[0] if len(x) > 0 else np.nan))\n",
    "     [['y_pred', 'y_prob']]\n",
    ")"
   ]
  },
  {
   "cell_type": "code",
   "execution_count": 205,
   "metadata": {},
   "outputs": [
    {
     "data": {
      "text/plain": [
       "Other          30115\n",
       "Elections       6403\n",
       "Labor           2862\n",
       "Safety          1487\n",
       "Disaster        1391\n",
       "Environment      102\n",
       "Name: y_pred, dtype: int64"
      ]
     },
     "execution_count": 205,
     "metadata": {},
     "output_type": "execute_result"
    }
   ],
   "source": [
    "(topic_labels\n",
    " .loc[lambda df: df['y_prob'] > .9]\n",
    " ['y_pred']\n",
    " .value_counts()\n",
    ")"
   ]
  },
  {
   "cell_type": "code",
   "execution_count": 206,
   "metadata": {},
   "outputs": [],
   "source": [
    "pred_df = (\n",
    " topic_labels\n",
    " .loc[lambda df: df['y_prob'] > .9]\n",
    " ['y_pred']\n",
    " .loc[lambda s: s != 'Other']\n",
    " .to_frame()\n",
    " .merge(text_df.to_frame('text'), left_index=True, right_index=True)\n",
    ")"
   ]
  },
  {
   "cell_type": "code",
   "execution_count": 207,
   "metadata": {},
   "outputs": [
    {
     "data": {
      "text/plain": [
       "'One-Fifth of China’s Farmland Is Polluted, State Report Finds. BEIJING — The Chinese government released a report on Thursday that said nearly one-fifth of its arable land was polluted, a finding certain to raise questions about the toxic results of China’s rapid industrialization, its lack of regulations over commercial interests and the consequences for the national food chain. The report, issued by the Ministry of Environmental Protection and the Ministry of Land Resources, said 16.1 percent of the country’s soil was polluted, including 19.4 percent of farmland. The report was based on a study done from April 2005 to last December on more than 240 square miles of land across mainland China, according to Xinhua, the state news agency. The report said that “the main pollution source is human industrial and agricultural activities,” according to Xinhua. More specifically, factory waste products, irrigation of land by polluted water, the improper use of fertilizers and pesticides, and livestock breeding have all resulted in tainted farmland, the report said. The study found that 82.8 percent of the polluted land was contaminated by inorganic material. The three most common pollutants found were cadmium, nickel and arsenic, and the levels of these materials in the soil had risen sharply since land studies in 1986 and 1990. The level of cadmium had risen by 50 percent in the southwest and in coastal areas and by 10 percent to 40 percent in other regions, Xinhua reported. The soil in southern China is more heavily polluted than in the north. The report confirms spreading fears among many officials and ordinary Chinese that the country’s soil has been in severe decline. Its numbers also indicate a more serious problem than statistics in a book published in early 2013 by the Ministry of Environmental Protection, “Soil Pollution and Physical Health,” which said one-sixth of China’s arable land, or nearly 50 million acres, was polluted. Officials have become increasingly vocal about the problem in the last year. In December, a vice minister of land and resources, Wang Shiyuan, said at a news conference that eight million acres of land across China, equal to the size of Maryland, were so polluted that farming should not be allowed on it. Hunan Province, in central China, has some of the worst soil pollution because it is one of China’s top producers of nonferrous metals. But the province is also one of China’s biggest rice-growing areas, producing 16 percent of the country’s rice in 2012, according to one market research company. Officials in Guangdong Province last year found that some batches of rice had excessive levels of cadmium, which set off alarms across the country. Most of the tainted rice was from Hunan. The findings of another recent nationwide soil survey were never shared with the public, with officials calling them a “state secret.” That survey ended in 2010, according to environmental advocates who have been pushing for the results to be released.'"
      ]
     },
     "execution_count": 207,
     "metadata": {},
     "output_type": "execute_result"
    }
   ],
   "source": [
    "pred_df.loc[lambda df: df['y_pred'] == 'Environment'].iloc[5]['text']"
   ]
  },
  {
   "cell_type": "code",
   "execution_count": 208,
   "metadata": {},
   "outputs": [],
   "source": [
    "n = 200\n",
    "w = pred_df['y_pred'].value_counts().pipe(lambda s: n/s).to_frame('w')"
   ]
  },
  {
   "cell_type": "code",
   "execution_count": 210,
   "metadata": {},
   "outputs": [],
   "source": [
    "df_to_score = (pred_df\n",
    " .merge(w, left_on='y_pred', right_index=True)\n",
    " .pipe(lambda df: \n",
    "     df.sample(1000, weights=df['w'])\n",
    "       )\n",
    " .drop('w', axis=1)\n",
    ")"
   ]
  },
  {
   "cell_type": "code",
   "execution_count": 195,
   "metadata": {},
   "outputs": [
    {
     "name": "stdout",
     "output_type": "stream",
     "text": [
      "articles3.csv                    news-categories-training-df.csv\r\n",
      "\u001b[34mfasttext-data\u001b[m\u001b[m/                   \u001b[34mnyt_corpus\u001b[m\u001b[m/\r\n",
      "\u001b[34mnews-article-flatlist\u001b[m\u001b[m/           \u001b[34moutput\u001b[m\u001b[m/\r\n"
     ]
    }
   ],
   "source": [
    "ls ../data"
   ]
  },
  {
   "cell_type": "code",
   "execution_count": 212,
   "metadata": {},
   "outputs": [],
   "source": [
    "df_to_score.to_csv('../data/nytimes-articles-to-extract-sources.csv')"
   ]
  },
  {
   "cell_type": "code",
   "execution_count": 213,
   "metadata": {},
   "outputs": [
    {
     "name": "stdout",
     "output_type": "stream",
     "text": [
      "entry_id,y_pred,text\r\n",
      "963359,Environment,\"Great Barrier Reef Is Not ‘in Danger’ but Needs Care, U.N. Experts Say. SYDNEY, Australia — Despite threats to the Great Barrier Reef from climate change and human activity, United Nations conservation experts stopped short of recommending on Friday that the reef, a World Heritage site, be classified as “in danger.” Even so, the overall outlook for the reef remains poor, and Australia should improve its management of it, the World Heritage Center and the International Union for Conservation of Nature said in their report. The document cited climate change, water pollution and the impact of coastal development as major threats. In particular, scientists and conservationists have sharply criticized plans to expand the Abbot Point coal-loading port in Queensland, which would involve the dumping of dredge spoils in waters near the reef, which includes 1,050 islands and stretches along almost the entire eastern coast of Queensland. The experts’ recommendation, published in Paris, now goes to a vote by the World Heritage Committee, which includes representatives of 21 countries and is scheduled to meet next month in Bonn, Germany. Greg Hunt, the Australian environment minister, said on Friday that the government was committed to a 35-year plan to restore the reef to good health, a fact noted in the recommendation. “We have listened intently and responded directly to the concerns from the Australian community, the World Heritage Committee and their technical advisers,” Mr. Hunt said in a statement. He said the national government and the state of Queensland should invest about $1.5 billion in the reef over the next decade. But conservationists have criticized the government of Prime Minister Tony Abbott for supporting the expansion of the port and the Galilee Basin coal mines that use it. Under pressure from environmentalists, Mr. Hunt has said the government will permanently ban the dumping of dredge spoils from new port projects in the Great Barrier Reef Marine Park. But the ban would not cover dredging to maintain the depth of existing shipping channels and ports, which could still dump more than a million tons of sludge a year in reef waters, according to Jon C. Day, who was a director at the Great Barrier Reef Marine Park Authority from 1998 to 2014. WWF-Australia, an environmental advocacy group, said in a statement that the United Nations was placing Australia on probation. “The draft decision acknowledges progress, but keeps the pressure on the Australian government to turn their commitments into real actions and results, or find themselves having to explain to the World Heritage Committee in 2017 why they’ve failed to meet their commitments,” the statement said. The group said the government had not allocated enough money to the reef protection plan.\"\r\n",
      "1554591,Elections,\"Trump Endorses G.O.P. Fight to Keep Gerrymandered Congressional Map. WASHINGTON — President Trump added his voice on Saturday to the continued conservative outcry over the court-ordered redistricting of the Pennsylvania congressional map, calling the decision “very unfair to Republicans and to our country.” “Democrat judges have totally redrawn election lines in the great State of Pennsylvania,” Mr. Trump wrote on Twitter. “This is very unfair to Republicans and to our country as a whole. Must be appealed to the United States Supreme Court ASAP!” The Supreme Court this month denied a request from Pennsylvania Republicans to stop the state’s highest court from requiring lawmakers to redraw the map of the state’s 18 House districts. The new map, released by the state court this past week, effectively eliminates the Republican advantage in Pennsylvania, endangering several incumbent Republican seats and bolstering Democrat standings in two open races. Pennsylvania is typically a swing state in statewide elections, and the new map, if it stands, could play a crucial role in efforts by the Democratic Party to gain control of the House in the midterm elections. In January, the Pennsylvania Supreme Court, ruling along party lines, struck down the congressional district map. The court said its partisan gerrymandering “clearly, plainly and palpably” violated the state constitution, and stepped in to draw the map when Republicans and Gov. Tom Wolf, a Democrat, could not agree on a version. Republican lawmakers in the state have refused to accept the court’s decision, asking the Supreme Court to again intervene and block the court-ordered map from taking place. They have also filed a federal lawsuit in Pennsylvania, arguing that the state court violated its constitutional authority by getting rid of the old map and drawing a new one. One Republican lawmaker has also circulated a proposal to impeach the Democrat justices who served as the 5-to-2 majority in the ruling, and the president pro tempore of the State Senate, Joe Scarnati, has publicly floated the idea of filing ethics complaints against two Democrat justices who expressed opinions on gerrymandering before the January ruling.\"\r\n",
      "1023601,Environment,\"Environmentalists Praise Wildlife Measures in Trans-Pacific Trade Pact. WASHINGTON — Environmentalists praised wildlife protections included in the sweeping Trans-Pacific Partnership trade deal announced Monday, calling them groundbreaking. They said the pact would strengthen international environmental enforcement agreements and could go a long way to diminish the illegal trade in certain plants and animals. Those measures represent a major breakthrough on one of the most divisive issues in the contentious trade negotiations, as well as a significant victory for the Obama administration, which had pushed for strong environmental provisions against the objections of most other countries taking part in the 12-nation deal. “The provisions in the Trans-Pacific Partnership go beyond what we have seen in other trade agreements,” said David McCauley, senior vice president for policy and government affairs at the World Wildlife Federation, which was among several advocacy groups that had worked closely with the administration on the final language. “We see this as a very big deal.” Environmentalists had criticized the Obama administration after a draft of the environmental chapter of the trade agreement, made public in January 2014, appeared to signal that the United States was retreating on a variety of environmental measures in order to advance a trade deal that has been a top priority for President Obama. In particular, the draft showed that Michael Froman, the United States trade representative, had pushed for but failed to achieve a requirement that the pact’s signers abide by existing environmental treaties, which have few enforcement provisions. But the final deal includes that requirement along with new methods of enforcement. It also places new limits on wildlife trafficking and subsidies for illegal fishing. The United States and several of the Asian countries participating in the trade deal are sources and crucial markets for illegal animal parts like African rhinoceros horns, ivory and tiger bones. In Asia, some exotic animal parts end up as meals or in medicine shops, where they are sold as cures for various ailments including impotence. In Western countries, some smuggled items, like lion heads, end up in living rooms as trophies. Worldwide, the illegal trade is estimated at about $20 billion a year by Interpol, the international police agency. The agreement complements the Convention on International Trade in Endangered Species of Wild Fauna and Flora, also known as Cites. The Cites agreement provides a list of animals and plants for which international trade is banned or restricted, and it is the world’s primary treaty to protect wildlife, with roughly 175 countries as members. Under provisions in the Trans-Pacific Partnership, countries would be required to enforce laws and regulations to protect wildlife covered under the Cites agreement from illegal smuggling, or risk economic sanctions. The agreement goes further by requiring countries to take action to protect any wildlife, even if it is not covered under Cites, if the wildlife has been illegally taken from any country. United States law enforcement officials say that smugglers have often considered themselves safe from prosecution after their goods left the countries of origin, because the destination countries typically did not pursue investigations. By contrast, the wildlife provisions of the trade agreement require cooperation among law enforcement agencies across international borders and require that the agencies share information to help investigate international criminal gangs involved in wildlife trafficking. The trade agreement also includes what some environmental groups and trade officials call historic measures to protect against overfishing, which causes losses estimated at $10 billion to $23 billion a year because of depleted stocks. Under the agreement, countries would agree to prohibit some subsidies that they provide to their fishing fleets. United States trade officials said the measure was a major concession for several countries that have large fishing industries. Environmental advocacy groups, while praising the wildlife language in the Trans-Pacific Partnership, said that the impact would be only as good as participants’ willingness to enforce it. “There has to be vigilance in monitoring the agreements and making sure that countries live up to their end of the bargain,” said Glenn Prickett, chief external affairs officer for the Nature Conservancy.\"\r\n",
      "1699199,Disaster,\"Americans Are Moving Closer to Nature, and Into Fire Zones. Want climate news in your inbox? Sign up here for Climate Fwd:, our email newsletter. The deadly wildfires that are devastating communities in parts of Northern and Southern California first ignited in an expanding part of the American landscape: not in forests, not in cities, but in the areas that experts call the wildland-urban interface. It is the transition zone between wildlands — such as forests, grasslands and scrublands — and human development. Researchers say that wildfires pose the greatest risk to people along the wildland-urban interface. This is partly because the homes in those areas butt up against the vegetation that can fuel fires, putting their occupants in significant danger. And there are more fires in those areas because of the presence of humans, who often ignite them. Despite the risks, an increasing number of Americans are living in the wildland-urban interface. There were 12.7 million more houses and 25 million more people living in these zones in 2010 than in 1990. In a few places, like New England, the numbers have increased as forested land has retaken abandoned farmland: The wildlands have encroached on people. But in California, where roughly one million homes were built in the wildland-urban interface over that time period, it’s because people are moving into these areas. At the same time, because of climate change, the state’s dry periods have become hotter and drier, increasing fire risk. It isn’t easy to generalize why people are moving into these regions, said Anu Kramer, a postdoctoral researcher at the University of Wisconsin-Madison. Some move to live closer to nature, others to avoid government regulations or find a lower cost of living. There are also indigenous communities and people who work the land. “We’re talking timber-dependent or ranching communities that really spend a lot more time interfacing with that land and have a lot more of their livelihood tied to it,” said Travis Paveglio, an assistant professor of natural resource sociology at the University of Idaho. Northwest of Los Angeles, the Woolsey Fire has ripped through densely populated areas in cities like Thousand Oaks and Malibu, and other areas that some researchers call the wildland-urban intermix. It is a type of wildland-urban interface where areas of housing and vegetation commingle. Fire has not deterred development in these types of areas, nor redevelopment. Using aerial photos, researchers looked at how many buildings were rebuilt in California after wildfires. In 29 fires between 1970 and 2009, 49 percent of burned buildings were rebuilt within six years, said Miranda H. Mockrin, a research scientist with the United States Forest Service. For 11 of those fires, data was available for a 25-year span after the fire. Researchers found that 94 percent of damaged buildings had been rebuilt, although they couldn’t tell whether the original owners or someone else had done the rebuilding. “In general for wildfire, as other hazards, there is a big push to sort of return to normal, to encourage rebuilding,” Dr. Mockrin said. California already has what Dr. Mockrin calls some of the strictest fire regulations in the country. Since 1991, a structure built in the wildland-urban interface “has to be made up of noncombustible materials, noncombustible roof, closed eaves,” said Jonathan Cox, a division chief with the California Department of Forestry and Fire Protection. The regulations are on top of any local requirements. But those rules don’t apply to buildings constructed before 1991. According to Zillow, the average home in California was built in the 1950s. “What we don’t have is retrofit programs,” said Max Moritz, a cooperative extension specialist in wildfire at the Bren School of Environmental Science and Management at the University of California, Santa Barbara. “We retrofit for earthquake safety. And there’s public funding for mitigating flood exposure. But we don’t do that for fire.” There have been efforts in recent years to create “fire-adapted communities” that are better situated to handle fires. “We know these lands are dangerous,” Chief Cox said. “We know they’re susceptible to fire. How we build on these lands is an important consideration as we move forward.” For more news on climate and the environment, follow @NYTClimate on Twitter.\"\r\n",
      "1444009,Disaster,\"Hurricane Brings a Display of a President Anything but Disengaged. WASHINGTON — President Trump wrapped up a sparkling late-summer weekend at Camp David on Sunday. But his Twitter feed and the photos and statements released by the White House indicated that he did little other than monitor the catastrophic storm in Texas. On Friday, as Hurricane Harvey began lashing the Gulf Coast, and throughout the weekend, Mr. Trump posted regular updates on the status of the storm and praise for the government’s response. He held two teleconferences with members of his cabinet, announced that he would travel to Texas on Tuesday, and signed a federal disaster proclamation for the state. It was a calculated display of energetic presidential leadership — one hardly unique to the Trump administration. But it also revealed a president who was genuinely engaged by the drama unfolding in Texas, certainly more so than he has been by other pressing issues facing his administration, like tax reform or a repeal of the Affordable Care Act. Largely lost in the howling of the storm was the fierce criticism, from Republicans as well as Democrats, of Mr. Trump’s announcement late on Friday night that he had pardoned Joe Arpaio, the former Arizona sheriff. The timing seemed anything but coincidental, with cable news channels switching to wall-to-wall coverage as the hurricane approached. Once he dispensed with that piece of business, Mr. Trump dug in on the storm. But other off-key moments followed. At times, Mr. Trump’s tweets conveyed an unabashed excitement even as a humanitarian crisis overwhelmed Houston and other flooded cities. “Wow,” he tweeted on Sunday morning. “Now experts are calling #Harvey a once in 500 year flood! We have an all out effort going, and going well!” An hour earlier, he noted, “Many people are now saying that this is the worst storm/hurricane they have ever seen. Good news is that we have great talent on the ground.” Mr. Trump did not wait long to start doling out praise. On Saturday, as relief efforts were just gearing up, the president tweeted to the administrator of the Federal Emergency Management Agency, Brock Long, “You are doing a great job — the world is watching! Be safe.” That echoed President George W. Bush’s premature endorsement of his FEMA chief, Michael Brown — “Brownie, you’re doing a heck of a job” — after Hurricane Katrina inundated New Orleans in August 2005. The government’s relief effort, of course, was subsequently botched, and Mr. Bush’s attaboy came back to haunt him. Hurricane Harvey is the first natural disaster of Mr. Trump’s presidency, and the White House is keenly attuned to the political risks of handling it poorly. When Senator Charles E. Grassley, Republican of Iowa, warned Mr. Trump not to repeat the mistakes of Katrina, the president fired back on Twitter, “@Chuck Grassley — got your message loud and clear.” “We have fantastic people on the ground,” he added, “got there long before #Harvey. So far, so good!” One thing that may help the Trump administration’s response is the hard-won history that some of its leaders have with Katrina. Mr. Trump’s homeland security adviser, Thomas P. Bossert, was working for FEMA when the hurricane struck, and later ran Mr. Bush’s emergency preparedness office. The agency’s current administrator, Mr. Long, was head of FEMA’s hurricane program at the time of Katrina. On Friday, Mr. Bossert said the hurricane was on the minds of everyone in the administration. “That experience is still in their memory,” he told reporters. “It’s still in their experience, their muscle memory. And what we’ve done has gotten a lot better as a government.” Mr. Bossert suggested that disaster relief, with its focus on rapid response and logistics, was well suited to Mr. Trump. “This is right up President Trump’s alley,” he said. “His questions weren’t about geopolitical issues or about large political consequences. His questions were about, ‘Are you doing what it takes to help the people who are going to be affected by this storm?’” On Friday and Saturday, the White House distributed photos of Mr. Trump being briefed on storm preparations and relief efforts. At Camp David, the president ran the meetings remotely, speaking from a television screen to aides who were in the Situation Room. He was alone at a desk, wearing a jacket but no tie, and a white baseball cap emblazoned with the letters USA. Administrations typically project an air of activity and resolve during natural disasters. After the calamitous earthquake in Haiti in 2010, the Obama White House issued a stream of fact sheets, statements and Flickr photos to convey the image of a president pulling every lever to help the people there. Mr. Obama dispatched one of his closest aides, Denis R. McDonough, to the capital, Port-au-Prince, to personally oversee the relief effort. Mr. Obama won credit for that performance. But only four months later, he was faulted for what critics said was his slow-footed response to the BP oil spill in the Gulf of Mexico. Mr. Trump’s presidency has been unusual so far in the lack of major external crises, either at home or abroad. Critics have questioned how he would handle a major test, and his response to Hurricane Harvey may offer a blueprint. His decision to go to Camp David raised some eyebrows, though Mr. Bossert pointed out that the presidential retreat was “45 minutes up the road” from the White House and was equipped with communications facilities that would keep the president in constant contact with his staff. Given Mr. Trump’s schedule there — and his stream of tweets about it — it is not clear that he would have done much differently if he had stayed in the White House for the weekend. As with his vacation in Bedminster, N.J., the line between work and leisure is often blurry for him. While the storm clearly dominated the president’s time, he also found time to promote a book by another hard-line law enforcement official, Sheriff David A. Clarke of Milwaukee, take a shot at Missouri’s Democratic senator, Claire McCaskill, repeat a threat to terminate the North American Free Trade Agreement, and reiterate his determination to build a wall on the Mexican border, saying on Twitter that Mexico would pay for it “through reimbursement/other.”\"\r\n",
      "666727,Labor,\"Discussing Furlough Concerns at Military Bases, Hagel Has ‘No Good News’. JOINT BASE CHARLESTON, S.C. — Sandra Walker chose respectful tones as she spoke, but there was iron in her voice when she confronted Defense Secretary Chuck Hagel about sacrificing 11 days of pay because Congress and President Obama can’t agree on taxes and spending. A mother of six – three are still at home – Ms. Walker is a Defense Department civilian employee who trains personnel at the 628th Medical Group at this base, home to Air Force cargo planes and the Navy’s nuclear propulsion school. Like hundreds of thousands of Pentagon civilians, she began a furlough this month that will keep her home without pay one day a week until Oct. 1. “I’ve taken a second job to compensate,” she said. As if that was not challenge enough, her growing worry is that partisan stalemate in Washington will linger, the Pentagon budget will be slashed further – and massive layoffs will result. “Will we be protected in the security of our jobs, in our retirement?” she asked the defense secretary. The news from Mr. Hagel was grim. “I’ve got to be honest with you,” he said, explaining that if the forced spending reductions, called the sequester, are not lifted, the Pentagon will confront $52 billion in more cuts for 2014. “If we have to do that, we’ll probably be beyond furloughs. We’re going to have to eliminate some jobs.” Over three days visiting military bases of all four armed services across the southeastern United States this week, Mr. Hagel, a former Nebraska senator, told everyone that compromise in Washington is unlikely. “There’s no good news,” he said in Charleston to military personnel and civilian Defense Department employees. “Sequestration is a mindless, irresponsible process,” he said. “You know it, I know it. And I'm hoping that our leaders in Washington will eventually get that and come to some policy resolution. I used to be in that business. I’m not in that business anymore.” The audiences in Charleston, Fort Bragg, N.C., and Naval Air Station Jacksonville, Fla., were courteous, and some expressed gratitude that the defense secretary had traveled outside of Washington to personally deliver the dark financial forecast. But they did not hide their frustration. Their recurring lament was that lost in the loud debate over the budget in Washington are the countless ways that sequestration harms rank-and-file soldiers, civilians and families. Clair Riggle is a civilian employee at Womack Army Medical Center at Fort Bragg. (Her husband is a soldier at the post and, like all active-duty personnel, was exempt from the salary cuts.) “I have been hit by the furloughs, and they’re inconvenient and difficult,” she said. “But what bothers me more is the effect it has on our children.” Teachers across the Defense Department school system are civilians and so also fall under the furlough order. “So within the first month of school, the children will have missed a whole week of school,” Ms. Riggle told the defense secretary. “So I’m just wondering what’s going to be done about the education requirements, the standard of education? What’s going to be done for our children?” Mr. Hagel said that 800,000 Defense Department civilians could have been slapped with furloughs but that 150,000 received exemptions – mostly for reasons of safety of the force, equipment and installations. Teachers received a partial exemption, and are furloughed less than a week, with instructions to take those days off in bulk before the school year begins. Some programs, like Advance Placement preparation classes, were exempted, Mr. Hagel said. Some along Mr. Hagel’s route expressed frustration at the irony of how furloughs may, in the end, cost the government even more. At Naval Air Station Jacksonville, Mr. Hagel toured the Fleet Readiness Center Southeast, where F/A-18 warplanes are stripped to the fuselage and rebuilt, a program to extend their combat life to 10,000 flying hours from the original 8,000 -- all to save money. The wrench-turners, welders and electricians are civilians and subject to the furloughs. But the warplanes are refurbished under a strict contract with punitive deadlines,so expensive overtime is likely to be approved to make up for those lost days at regular pay, base officials said. After leaving the factory floor, Mr. Hagel toured the naval air station’s commissary, which now is closed on Mondays because its 110 civilian employees take their furlough days together. Inside the commissary, which serves 80,000 people a week, Mr. Hagel was stopped at the meat counter by Joel Logue, 74, a retired Navy senior chief who drives to Jacksonville each Monday to volunteer at the base hospital. Monday was his shopping day for groceries at the veterans’ discount. But no longer. “Can you fix that?” Mr. Logue asked. “We’re doing our best to get this back on track,” Mr. Hagel said. Some aspects of base life here do appearto be working at cross-purposes in the current spending environment. Because the sequester affects different government spending accounts in varying ways, Larry Bentley, the commissary director, told Mr. Hagel of Defense Department plans to build a new, larger facility next year at a cost of $45 million. The construction has not been cancelled – yet. After an era of fire-hose spending following the attacks of Sept. 11, 2001, the Pentagon had already embarked on budget reductions of $487 billion over a decade. Then Mr. Obama and Congress agreed on a poison-pill plan of across-the-board, additional cuts that were set up to be so severe that they would force Congress toward a comprehensive taxes-and-spending plan. But that has not happened. So the Pentagon was hit with another $37 billion in cuts this year, and may face $52 billion more next. During his tour, Mr. Hagel unveiled one new method to cut the Pentagon budget, announcing plans to reduce by 20 percent the spending for the office of the secretary of defense, for the military’s Joint Staff and for the armed services’ headquarters. Those reductions are expected to reap up to $2 billion in savings over five years across budget requests that will hover around $500 billion a year. That may play well in Washington. But that announcement, like Mr. Hagel’s statements that he and other political appointees were voluntarily taking 20 percent pay cuts for the furlough period, were greeted by eye-rolling and head-shaking from some in the audiences. It was clear that troops and civilian employees, many of whom live paycheck-to-paycheck, believe the Washington power elite never strain in meeting the rent, even with a salary reduction of an equal percentage.\"\r\n",
      "1473229,Environment,\"Trump Names Former Texas Regulator as White House Environmental Adviser. President Trump has nominated a former top Texas environmental regulator, who has argued that carbon dioxide is a harmless gas that should not be regulated, to be the White House senior adviser on environmental policy. The former regulator, Kathleen Hartnett White, will lead the Council on Environmental Quality if confirmed by the Senate. Currently she serves as a senior fellow at the Texas Public Policy Foundation, a free-market think tank. She previously served as the chairwoman of the Texas Commission on Environmental Quality under Rick Perry, who was governor at the time and is now the Energy Secretary. “Throughout her career Kathleen has served Texans as a strong leader, in particular by ensuring that Texans have the energy and natural resources they need to prosper,” Brooke Rollins, president of the Texas Public Policy Foundation, said in a statement. The appointment is the latest in a series of disputed environmental nominations. This week, Mr. Trump nominated Barry Lee Myers, the chief executive of AccuWeather, a for-profit weather forecasting company, to lead the National Oceanic and Atmospheric Administration. Last week, the president nominated Andrew Wheeler, a coal lobbyist, to be deputy administrator of the Environmental Protection Agency. Environmentalists say Mr. Trump is stacking agencies with those who either reject the scientific consensus that human-made emissions cause climate change or lack the scientific qualifications for their jobs. “Now you have a full house for the fossil fuel industry,” said Christy Goldfuss, who served as managing director of the White House environmental council under former President Obama. She called Mrs. White’s appointment particularly troubling, citing a piece she wrote entitled, “Fossil Fuels: The Moral Case.” In it, Mrs. White argued that labeling carbon dioxide emissions as a pollutant is “absurd” and asserted that it should be considered the “gas of life.” Mrs. White also has called renewable energy “unreliable and parasitic,” described global warming as “a creed, a faith, a dogma that has little to do with science,” and asserted that science does not dictate policy in democracies. Conservatives, including those who accept the established science of climate change, said they believe Mrs. White is a good choice for the job. “I don’t think that she’s right on climate science,” said Eli Lehrer, president of the R Street Institute, a conservative think tank that has argued in favor of a carbon tax. But Mr. Lehrer also said he hoped that Mrs. White will support the Trump administration’s moves to reverse the Obama administration’s effort to regulate power plant emissions under the Clean Power Plan. He said he is also optimistic that Mrs. White will help roll back other rules, including one that governs how the Environmental Protection Agency protects waterways. “Her instincts on working to remove burdensome regulation, I expect, are largely right,” Mr. Lehrer said. Democrats, meanwhile, have begun to question the choice of Mr. Myers to lead NOAA. The administration, which is the country’s chef agency on atmospheric science, falls under the Department of Commerce and is responsible for weather forecasting, climate modeling and ocean services. Senator Brian Schatz, Democrat of Hawaii, said in a statement that as head of a for-profit weather forecasting service, Mr. Myers essentially viewed NOAA as a direct competitor, since the agency provides forecasts for free. He said Mr. Myers would likely face conflicts of interest as administrator and called the nomination a “questionable choice.”\"\r\n",
      "666360,Safety,\"Steam Detected at Damaged Fukushima Reactor. TOKYO — The operator of the tsunami-ravaged Fukushima Daiichi nuclear power plant stood ready Thursday to inject boric acid into one of its most heavily damaged reactors after it found steam emanating from the reactor building. The preventive measure would stave off criticality, or an uncontrolled nuclear chain reaction, in the reactor’s damaged core. The incident has brought the Fukushima site’s vulnerable state into sharp relief, more than two years after its reactors suffered multiple meltdowns when its cooling systems were overwhelmed by a powerful tsunami. A recent jump in levels of radioactive cesium and tritium in the groundwater at the coastal plant, along with suggestions that the groundwater is leaking into the Pacific, has also raised alarms over the continued environmental threat posed by the plant. Remote camera footage Thursday showed steam escaping from the top of the No. 3 reactor’s primary containment, which houses its fuel vessel, according to the Tokyo Electric Power Company, or Tepco. A worker who checked the footage Thursday morning noticed the steam, said Hiroki Kawamata, a spokesman for the operator. Mr. Kawamata said officials were unsure what was generating the steam, and hypothesized that rainwater seeping into the containment may have turned to vapor. Extremely high levels of radiation in the now roofless upper sections of the No. 3 reactor building – destroyed in a hydrogen explosion that rocked the reactor during the early days of the 2011 disaster – make it too dangerous for workers to approach. But workers are standing by to inject boric acid into the reactor from the outside at any signs of further trouble, such as a rapid rise in temperature or radiation parameters, he said. Such spikes would raise the chilling possibility of fission in the reactor’s damaged fuel, most which is thought to have melted and slumped to the bottom of its containment after the hydrogen explosion, one of several at the site in 2011. Boric acid would slow that rate of fission, preventing criticality. Temperature and radiation levels at the reactor appear stable so far, Mr. Kawamata stressed. Any fresh trouble at the No. 3 reactor is especially worrying because it contains highly lethal mixed uranium-plutonium oxide fuel. The upper floors of the reactor also house its fuel pool, which stores over 500 fuel rods. The reactor complex’s basement, meanwhile, is flooded with highly radioactive water. The No. 3 reactor’s damaged core, like the cores of two other crippled reactors at the site, is being cooled by water that is pumped into the reactor, filtered and recycled. But in April, the cooling system at No. 3 shut down for hours. Tepco later said a rat had somehow short-circuited a vital switchboard, possibly by gnawing on cables. More than 100,000 people fled their homes in the wake of the meltdowns at Fukushima, the world’s worst nuclear crisis since the Chernobyl disaster in 1986. While many areas are beginning to be repopulated, the residents’ return has been overshadowed by the continued mishaps at the plant.\"\r\n",
      "1142289,Elections,\"A Trump-Sanders Coalition? Nah.. Donald Trump has gone from blaming Bernie Sanders’s supporters for disruptions at his rallies to making overtures to them — saying Sanders has been “treated terribly by the Democrats,” saying that he would harvest attacks on Hillary Clinton from Sanders’s speeches, and even urging Sanders to run as an independent. And, to take it further, CNN reported Friday that “Trump campaign manager Corey Lewandowski said the campaign is ready to bring into the fold anyone in the ‘feel the Bern’ movement who is not inclined to support Clinton in the general election.” The network quoted Lewandowski as saying: “You have two candidates in Donald Trump and Bernie Sanders which have reignited a group of people who have been disenfranchised and disappointed with the way Washington, D.C., and career politicians have run the country … Bernie Sanders has large crowds — not as large as Mr. Trump’s, but large crowds — and so there is a level of excitement there for people about his messaging and we will bring those people in.” This is a fascinating political ploy, but rife with folly. First, it is important to acknowledge that both movements are born of the same populist source: white working- and middle-class voters’ fear, anger, anxiety and disappointment over what they see as a broken political system, beholden to moneyed interests and oblivious to their pain, suffering and rage. According to a Pew Research Center report published on March 31, Trump’s supporters are more likely than supporters of his Republican opponents to say that life in the United States has gotten worse for people like them compared with 50 years ago, and Sanders’s supporters were more likely than Clinton’s supporters to say the same. But still, there was a 40-point gap between the percentage of Trump and Sanders supporters agreeing with that sentiment. This is a largely white American lament. A majority of white voters believe that things have gotten worse, while a majority of black voters and a plurality of Hispanic voters believe that things have gotten better for people like them in the last 50 years. It is these more optimistic minorities who have formed the bedrock of Clinton’s support and pushed her within striking distance of securing the nomination. Furthermore, the Pew report found that Trump’s and Sanders’s supporters were the most likely on their respective sides of the ideological divide to be angry at the government; believe that the economic system unfairly favors powerful interests; and are more isolationist, believing that America’s involvement in global problems makes those problems worse. And lastly, there is an implicit, or even explicit, critique of President Obama present in both camps, which seem to see him as a disappointment: either as feckless or fainthearted, either because he went too far or not far enough, either because he was not tough enough with our international adversaries or not tough enough with his congressional opponents. This view of the Obama presidency as, at best, a disappointment, or at worst, a failure, is a pernicious and unsupportable lie that did quite a bit to sour minorities on Sanders and to rally opposition to Trump. Obama wasn’t perfect. He didn’t accomplish all that he thought he would or could. He made mistakes. But, all told, he was true to the deliberative, center-left pragmatist that he has always been. Indeed, according to PolitiFact, Obama has kept twice as many promises as he has broken. He was never a superhero, but some of the hurt feelings come from him allowing people to believe that he was. As Obama wrote in the prologue to “The Audacity of Hope”: “I serve as a blank screen on which people of vastly different political stripes project their own views.” The thing is, he did not become what some people projected. He remained himself. That said, these Trump and Sanders supporters are looking at the dragon from different vantage points and seeing fundamentally different dangers. Trump’s supporters seem to see a country in decline, a government that is out of control and incompetent, an influx of immigrants that represent an existential threat and a culture that is hamstrung by political correctness. Conversely, Sanders’s supporters see a democracy slipping into oligarchy, a country that has utterly failed to keep pace with its global peers on social structure issues — economic equality, taxation, health care and education — and has gone completely off the rails on many others, like criminal justice and mass incarceration. These are not crowds that are likely to lie down together. Indeed, I would imagine that Trump’s brand of xenophobia, racism, Islamophobia, misogyny and fascism would not go down easily with the faction of left progressives that swell the ranks of Sanders’s supporters. Indeed, The Washington Post reported in March: “Polling shows little evidence that Trump has a shot to win large pockets of Sanders voters in November, should Clinton maintain her lead and win the Democratic nomination. Among Democratic-leaning voters who … prefer Sanders to win the party nod, only 13 percent have a favorable view of Trump, compared to 86 unfavorable, according to a Washington Post-ABC News national poll earlier this month.” If these numbers are correct, any substantial Trump-Sanders coalition is a nonstarter.\"\r\n"
     ]
    }
   ],
   "source": [
    "! head ../data/nytimes-articles-to-extract-sources.csv"
   ]
  },
  {
   "cell_type": "code",
   "execution_count": null,
   "metadata": {},
   "outputs": [],
   "source": []
  },
  {
   "cell_type": "code",
   "execution_count": null,
   "metadata": {},
   "outputs": [],
   "source": []
  },
  {
   "cell_type": "code",
   "execution_count": null,
   "metadata": {},
   "outputs": [],
   "source": []
  },
  {
   "cell_type": "code",
   "execution_count": null,
   "metadata": {},
   "outputs": [],
   "source": []
  },
  {
   "cell_type": "code",
   "execution_count": null,
   "metadata": {},
   "outputs": [],
   "source": []
  },
  {
   "cell_type": "markdown",
   "metadata": {},
   "source": [
    "# Checks"
   ]
  },
  {
   "cell_type": "code",
   "execution_count": 1211,
   "metadata": {},
   "outputs": [
    {
     "data": {
      "text/plain": [
       "In Silicon Valley, Stephen G. Perlman, a high-tech inventor and entrepreneur, worries about the law’s practical effect."
      ]
     },
     "execution_count": 1211,
     "metadata": {},
     "output_type": "execute_result"
    }
   ],
   "source": [
    "list(doc.sents)[74]"
   ]
  },
  {
   "cell_type": "code",
   "execution_count": 1218,
   "metadata": {},
   "outputs": [],
   "source": [
    "q = extract_quotes_from_nsubj(doc, return_dict=True)"
   ]
  },
  {
   "cell_type": "code",
   "execution_count": null,
   "metadata": {},
   "outputs": [],
   "source": [
    "for possible_subject in list(doc.sents)[74]:\n",
    "#     if possible_subject.text == 'Perlman':\n",
    "#         break\n",
    "#     print(possible_subject)\n",
    "#     print(possible_subject.pos_)\n",
    "#     print()\n",
    "    if (\n",
    "        possible_subject.dep_ == 'nsubj' and \n",
    "        possible_subject.head.pos_ == 'VERB'\n",
    "    ):\n",
    "        print(possible_subject)\n",
    "    \n",
    "#     if False:\n",
    "#         if (\n",
    "#             possible_subject.dep_ == 'nsubj' and \n",
    "#             possible_subject.head.pos_ == 'VERB' and \n",
    "#             possible_subject.head.text in (\n",
    "#                 'say', 'says', 'said', \n",
    "#                 'describe', 'describes', 'described', \n",
    "#                 'claims', 'claims', 'claimed', \n",
    "#                 'explained', 'explains', 'explain',\n",
    "#                 'mentioned', 'mentions', 'mention',\n",
    "#                 'articulated', 'articulates', 'articulate',\n",
    "#                 'called', 'calls', 'call',\n",
    "#                 'declared', 'declares', 'declare',\n",
    "#                 'worried', 'worries', 'worry',\n",
    "#            )\n",
    "#         ):\n",
    "#             print(possible_subject)"
   ]
  },
  {
   "cell_type": "code",
   "execution_count": 1228,
   "metadata": {},
   "outputs": [
    {
     "data": {
      "text/plain": [
       "worries"
      ]
     },
     "execution_count": 1228,
     "metadata": {},
     "output_type": "execute_result"
    }
   ],
   "source": [
    "possible_subject.head"
   ]
  },
  {
   "cell_type": "code",
   "execution_count": 1230,
   "metadata": {},
   "outputs": [
    {
     "data": {
      "text/plain": [
       "'NOUN'"
      ]
     },
     "execution_count": 1230,
     "metadata": {},
     "output_type": "execute_result"
    }
   ],
   "source": [
    "possible_subject.head.pos_"
   ]
  },
  {
   "cell_type": "code",
   "execution_count": null,
   "metadata": {},
   "outputs": [],
   "source": []
  },
  {
   "cell_type": "code",
   "execution_count": null,
   "metadata": {},
   "outputs": [],
   "source": []
  },
  {
   "cell_type": "code",
   "execution_count": null,
   "metadata": {},
   "outputs": [],
   "source": []
  },
  {
   "cell_type": "code",
   "execution_count": null,
   "metadata": {},
   "outputs": [],
   "source": []
  },
  {
   "cell_type": "code",
   "execution_count": null,
   "metadata": {},
   "outputs": [],
   "source": []
  },
  {
   "cell_type": "code",
   "execution_count": null,
   "metadata": {},
   "outputs": [],
   "source": []
  },
  {
   "cell_type": "code",
   "execution_count": null,
   "metadata": {},
   "outputs": [],
   "source": []
  },
  {
   "cell_type": "code",
   "execution_count": null,
   "metadata": {},
   "outputs": [],
   "source": []
  },
  {
   "cell_type": "code",
   "execution_count": null,
   "metadata": {},
   "outputs": [],
   "source": []
  },
  {
   "cell_type": "code",
   "execution_count": null,
   "metadata": {},
   "outputs": [],
   "source": []
  },
  {
   "cell_type": "code",
   "execution_count": null,
   "metadata": {},
   "outputs": [],
   "source": []
  },
  {
   "cell_type": "code",
   "execution_count": null,
   "metadata": {},
   "outputs": [],
   "source": []
  },
  {
   "cell_type": "code",
   "execution_count": null,
   "metadata": {},
   "outputs": [],
   "source": []
  },
  {
   "cell_type": "code",
   "execution_count": null,
   "metadata": {},
   "outputs": [],
   "source": []
  },
  {
   "cell_type": "code",
   "execution_count": null,
   "metadata": {},
   "outputs": [],
   "source": []
  },
  {
   "cell_type": "code",
   "execution_count": null,
   "metadata": {},
   "outputs": [],
   "source": []
  },
  {
   "cell_type": "code",
   "execution_count": null,
   "metadata": {},
   "outputs": [],
   "source": []
  },
  {
   "cell_type": "code",
   "execution_count": 560,
   "metadata": {
    "scrolled": true
   },
   "outputs": [],
   "source": [
    "cluster_mapper = defaultdict(list)\n",
    "seen = set()\n",
    "for k in entities.keys():\n",
    "    if k in span_to_head_mapper:\n",
    "        referent_span = span_to_head_mapper[k]\n",
    "        cluster_mapper[(referent_span[0], referent_span[1] + 1)].append(k)\n",
    "        seen.add(k)\n",
    "\n",
    "for k in entities.keys():\n",
    "    if k not in seen:\n",
    "        cluster_mapper[k].append(k)"
   ]
  },
  {
   "cell_type": "code",
   "execution_count": 561,
   "metadata": {},
   "outputs": [],
   "source": [
    "from importlib import reload\n",
    "import parsing_util"
   ]
  },
  {
   "cell_type": "code",
   "execution_count": 562,
   "metadata": {},
   "outputs": [
    {
     "data": {
      "text/plain": [
       "<module 'parsing_util' from '../scripts/parsing_util.py'>"
      ]
     },
     "execution_count": 562,
     "metadata": {},
     "output_type": "execute_result"
    }
   ],
   "source": [
    "reload(parsing_util)"
   ]
  },
  {
   "cell_type": "code",
   "execution_count": 563,
   "metadata": {},
   "outputs": [],
   "source": [
    "def merge_clusters(entities, clusters=None, cluster_mapper=None):\n",
    "    if cluster_mapper == None:\n",
    "        cluster_mapper = {}\n",
    "        for cluster in clusters:\n",
    "            key = max(cluster, key=lambda x: len(x))\n",
    "            cluster_mapper[key] = cluster\n",
    "\n",
    "    # group for output\n",
    "    entities_clustered = defaultdict(lambda: {'background sentence': [], 'quote sentence': [], 'span_text': []})\n",
    "    for c_key, cluster in cluster_mapper.items():\n",
    "        for c_i in cluster:\n",
    "            for part in ['background sentence', 'quote sentence', 'span_text']:\n",
    "                to_add = entities[c_i][part]\n",
    "                if isinstance(to_add, list):\n",
    "                    entities_clustered[c_key][part].extend(to_add)\n",
    "                else:\n",
    "                    entities_clustered[c_key][part].append(to_add)\n",
    "    \n",
    "    ## \n",
    "    return entities_clustered"
   ]
  },
  {
   "cell_type": "code",
   "execution_count": 564,
   "metadata": {
    "scrolled": true
   },
   "outputs": [],
   "source": [
    "entities = merge_clusters(entities, cluster_mapper=cluster_mapper)"
   ]
  },
  {
   "cell_type": "code",
   "execution_count": 565,
   "metadata": {},
   "outputs": [],
   "source": [
    "def convert_entities_dict_to_text(entities, doc):\n",
    "    output_entities = {}\n",
    "    for k, v in entities.items():\n",
    "        key_text = doc[k[0]: k[1]].text\n",
    "        q_sent, ms = [], []\n",
    "        for q in v['quote sentence']:\n",
    "            q_sent.append((q[0], q[1].text))\n",
    "        for m in v['span_text']:\n",
    "            ms.append(m.text)\n",
    "        output_entities[key_text] = {'quote sentence': q_sent, 'entity mentions': ms, 'background sentence': []}\n",
    "    return output_entities "
   ]
  },
  {
   "cell_type": "code",
   "execution_count": 566,
   "metadata": {
    "scrolled": true
   },
   "outputs": [
    {
     "data": {
      "text/plain": [
       "{'the America Invents Act': {'quote sentence': [(2,\n",
       "    'Mr. Stadnyk, who holds a patent on a motorcycle windshield, is suing the United States government, aiming to head off a patent law that he says will favor big companies and hurt lone inventors like himself.')],\n",
       "  'entity mentions': ['he'],\n",
       "  'background sentence': []},\n",
       " 'an inventor named Mark Stadnyk': {'quote sentence': [(10,\n",
       "    'With his system, he says, the rider feels a flutter of breeze instead of jolting winds and turbulence.'),\n",
       "   (14, 'Yearly sales, he said, are more than $500,000 and growing briskly.'),\n",
       "   (22,\n",
       "    'He says he studied the proposals and the law, read blogs and reached out to Washington lawyers and academics who raised the issue of its constitutionality.'),\n",
       "   (40,\n",
       "    'My property would be given away by the government under this new law,” he said.')],\n",
       "  'entity mentions': ['he', 'he', 'He', 'he'],\n",
       "  'background sentence': []},\n",
       " 'Senator Barbara Boxer, Democrat of California': {'quote sentence': [(49,\n",
       "    'Speaking on the Senate floor last year, she said, “I strongly disagree with changing the core principle of our patent system — awarding a patent to the true inventor — for the sake of perceived administrative ease.'),\n",
       "   (53,\n",
       "    'We are the only country in the world,” she said, “whose Constitution specifically mentions')],\n",
       "  'entity mentions': ['she', 'she'],\n",
       "  'background sentence': []},\n",
       " 'Jonathan S. Massey': {'quote sentence': [(57,\n",
       "    'The new patent law, he said, “violates the text and the original understanding of the Constitution.'),\n",
       "   (61,\n",
       "    'As a matter of confidentiality and courtroom tactics, he said he did not want to let “the other side know the size of my resources.')],\n",
       "  'entity mentions': ['he', 'he'],\n",
       "  'background sentence': []},\n",
       " 'Mark A. Lemley, a professor at Stanford Law School': {'quote sentence': [(70,\n",
       "    'There are people who didn’t like the outcome of the patent legislation, and they may be right in not liking the outcome,” he said.')],\n",
       "  'entity mentions': ['he'],\n",
       "  'background sentence': []},\n",
       " 'opponents': {'quote sentence': [(29,\n",
       "    'But opponents say it will give big companies a huge advantage over start-ups and small inventors.')],\n",
       "  'entity mentions': ['opponents'],\n",
       "  'background sentence': []},\n",
       " '': {'quote sentence': [(76,\n",
       "    'The new law, he said, with its emphasis on speed, could well make it more difficult to wait before filing an application, to take the time to experiment over years, and to confidentially show early concepts to investors to raise money.')],\n",
       "  'entity mentions': ['he'],\n",
       "  'background sentence': []},\n",
       " 'Mr. Stadnyk': {'quote sentence': [(35,\n",
       "    'Others took on Obamacare, and this is my fight,” said Mr. Stadnyk, who lives in Ridge Manor,')],\n",
       "  'entity mentions': ['Mr. Stadnyk'],\n",
       "  'background sentence': []},\n",
       " 'who': {'quote sentence': [(38,\n",
       "    '” Mr. Stadnyk, who says he is a conservative, warns of the danger of the patent legislation in populist, antigovernment terms.')],\n",
       "  'entity mentions': ['who'],\n",
       "  'background sentence': []},\n",
       " 'Mr. Massey': {'quote sentence': [(56,\n",
       "    '” Mr. Massey says he became involved in the legislative debate and this suit because of his background in constitutional law.')],\n",
       "  'entity mentions': ['Mr. Massey'],\n",
       "  'background sentence': []},\n",
       " 'In Silicon': {'quote sentence': [(63,\n",
       "    'The suit , said some legal experts , faces long odds .')],\n",
       "  'entity mentions': ['The suit'],\n",
       "  'background sentence': []},\n",
       " 'Arti K. Rai': {'quote sentence': [(66,\n",
       "    'Congress is fairly free to do as it sees fit to promote innovation,” said Arti K. Rai, a professor at Duke University School of Law and a former senior official in the patent office.')],\n",
       "  'entity mentions': ['Arti K. Rai'],\n",
       "  'background sentence': []},\n",
       " 'Mark A. Lemley': {'quote sentence': [(67,\n",
       "    'Mark A. Lemley, a professor at Stanford Law School, said the constitutional challenge “is the legal equivalent of fringe science.')],\n",
       "  'entity mentions': ['Mark A. Lemley'],\n",
       "  'background sentence': []},\n",
       " 'Mr. Perlman': {'quote sentence': [(79,\n",
       "    '— people who do fundamental, long-term invention,” Mr. Perlman said.')],\n",
       "  'entity mentions': ['Mr. Perlman'],\n",
       "  'background sentence': []},\n",
       " 'Gary Lauder': {'quote sentence': [(80,\n",
       "    'Gary Lauder, a venture capitalist, said the new law had the logic of trying to make the patent system more efficient and less prone to litigation.')],\n",
       "  'entity mentions': ['Gary Lauder'],\n",
       "  'background sentence': []},\n",
       " 'Mr. Lauder': {'quote sentence': [(83,\n",
       "    'This law favors large companies at the expense of small ones,” Mr. Lauder said.')],\n",
       "  'entity mentions': ['Mr. Lauder'],\n",
       "  'background sentence': []}}"
      ]
     },
     "execution_count": 566,
     "metadata": {},
     "output_type": "execute_result"
    }
   ],
   "source": [
    "convert_entities_dict_to_text(entities, doc)"
   ]
  },
  {
   "cell_type": "code",
   "execution_count": 567,
   "metadata": {},
   "outputs": [
    {
     "data": {
      "text/plain": [
       "defaultdict(<function __main__.merge_clusters.<locals>.<lambda>()>,\n",
       "            {(127, 131): {'background sentence': [],\n",
       "              'quote sentence': [(2,\n",
       "                Mr. Stadnyk, who holds a patent on a motorcycle windshield, is suing the United States government, aiming to head off a patent law that he says will favor big companies and hurt lone inventors like himself.)],\n",
       "              'span_text': [he]},\n",
       "             (39, 44): {'background sentence': [],\n",
       "              'quote sentence': [(10,\n",
       "                With his system, he says, the rider feels a flutter of breeze instead of jolting winds and turbulence.),\n",
       "               (14,\n",
       "                Yearly sales, he said, are more than $500,000 and growing briskly.),\n",
       "               (22,\n",
       "                He says he studied the proposals and the law, read blogs and reached out to Washington lawyers and academics who raised the issue of its constitutionality.),\n",
       "               (40,\n",
       "                My property would be given away by the government under this new law,” he said.)],\n",
       "              'span_text': [he, he, He, he]},\n",
       "             (1035, 1042): {'background sentence': [],\n",
       "              'quote sentence': [(49,\n",
       "                Speaking on the Senate floor last year, she said, “I strongly disagree with changing the core principle of our patent system — awarding a patent to the true inventor — for the sake of perceived administrative ease.),\n",
       "               (53,\n",
       "                We are the only country in the world,” she said, “whose Constitution specifically mentions)],\n",
       "              'span_text': [she, she]},\n",
       "             (906, 909): {'background sentence': [],\n",
       "              'quote sentence': [(57,\n",
       "                The new patent law, he said, “violates the text and the original understanding of the Constitution.),\n",
       "               (61,\n",
       "                As a matter of confidentiality and courtroom tactics, he said he did not want to let “the other side know the size of my resources.)],\n",
       "              'span_text': [he, he]},\n",
       "             (1318, 1328): {'background sentence': [],\n",
       "              'quote sentence': [(70,\n",
       "                There are people who didn’t like the outcome of the patent legislation, and they may be right in not liking the outcome,” he said.)],\n",
       "              'span_text': [he]},\n",
       "             (683, 684): {'background sentence': [],\n",
       "              'quote sentence': [(29,\n",
       "                But opponents say it will give big companies a huge advantage over start-ups and small inventors.)],\n",
       "              'span_text': [opponents]},\n",
       "             (717, 717): {'background sentence': [],\n",
       "              'quote sentence': [(30,\n",
       "                Large corporations have deep pockets and armies of lawyers to write up and file patents, they say, and the new law will touch off a paper chase to the patent office instead of a race to innovate.)],\n",
       "              'span_text': [they]},\n",
       "             (821, 823): {'background sentence': [],\n",
       "              'quote sentence': [(35,\n",
       "                Others took on Obamacare, and this is my fight,” said Mr. Stadnyk, who lives in Ridge Manor,)],\n",
       "              'span_text': [Mr. Stadnyk]},\n",
       "             (843, 844): {'background sentence': [],\n",
       "              'quote sentence': [(38,\n",
       "                ” Mr. Stadnyk, who says he is a conservative, warns of the danger of the patent legislation in populist, antigovernment terms.)],\n",
       "              'span_text': [who]},\n",
       "             (1137, 1139): {'background sentence': [],\n",
       "              'quote sentence': [(56,\n",
       "                ” Mr. Massey says he became involved in the legislative debate and this suit because of his background in constitutional law.)],\n",
       "              'span_text': [Mr. Massey]},\n",
       "             (0, 2): {'background sentence': [],\n",
       "              'quote sentence': [(63,\n",
       "                The suit , said some legal experts , faces long odds .)],\n",
       "              'span_text': [The suit]},\n",
       "             (1256, 1256): {'background sentence': [],\n",
       "              'quote sentence': [(64,\n",
       "                The courts, they say, have treated the section of the Constitution that concerns intellectual property rights as utilitarian doctrine subject to Congressional interpretation.)],\n",
       "              'span_text': [they]},\n",
       "             (1296, 1299): {'background sentence': [],\n",
       "              'quote sentence': [(66,\n",
       "                Congress is fairly free to do as it sees fit to promote innovation,” said Arti K. Rai, a professor at Duke University School of Law and a former senior official in the patent office.)],\n",
       "              'span_text': [Arti K. Rai]},\n",
       "             (1318, 1321): {'background sentence': [],\n",
       "              'quote sentence': [(67,\n",
       "                Mark A. Lemley, a professor at Stanford Law School, said the constitutional challenge “is the legal equivalent of fringe science.)],\n",
       "              'span_text': [Mark A. Lemley]},\n",
       "             (1470, 1470): {'background sentence': [],\n",
       "              'quote sentence': [(76,\n",
       "                The new law, he said, with its emphasis on speed, could well make it more difficult to wait before filing an application, to take the time to experiment over years, and to confidentially show early concepts to investors to raise money.)],\n",
       "              'span_text': [he]},\n",
       "             (1541, 1543): {'background sentence': [],\n",
       "              'quote sentence': [(79,\n",
       "                — people who do fundamental, long-term invention,” Mr. Perlman said.)],\n",
       "              'span_text': [Mr. Perlman]},\n",
       "             (1545, 1547): {'background sentence': [],\n",
       "              'quote sentence': [(80,\n",
       "                Gary Lauder, a venture capitalist, said the new law had the logic of trying to make the patent system more efficient and less prone to litigation.)],\n",
       "              'span_text': [Gary Lauder]},\n",
       "             (1594, 1596): {'background sentence': [],\n",
       "              'quote sentence': [(83,\n",
       "                This law favors large companies at the expense of small ones,” Mr. Lauder said.)],\n",
       "              'span_text': [Mr. Lauder]}})"
      ]
     },
     "execution_count": 567,
     "metadata": {},
     "output_type": "execute_result"
    }
   ],
   "source": [
    "entities"
   ]
  },
  {
   "cell_type": "code",
   "execution_count": null,
   "metadata": {},
   "outputs": [],
   "source": []
  },
  {
   "cell_type": "code",
   "execution_count": null,
   "metadata": {},
   "outputs": [],
   "source": []
  },
  {
   "cell_type": "code",
   "execution_count": null,
   "metadata": {},
   "outputs": [],
   "source": []
  },
  {
   "cell_type": "code",
   "execution_count": null,
   "metadata": {},
   "outputs": [],
   "source": []
  },
  {
   "cell_type": "code",
   "execution_count": null,
   "metadata": {},
   "outputs": [],
   "source": []
  },
  {
   "cell_type": "code",
   "execution_count": null,
   "metadata": {},
   "outputs": [],
   "source": []
  },
  {
   "cell_type": "code",
   "execution_count": null,
   "metadata": {},
   "outputs": [],
   "source": []
  },
  {
   "cell_type": "code",
   "execution_count": null,
   "metadata": {},
   "outputs": [],
   "source": []
  },
  {
   "cell_type": "code",
   "execution_count": null,
   "metadata": {},
   "outputs": [],
   "source": []
  },
  {
   "cell_type": "code",
   "execution_count": null,
   "metadata": {},
   "outputs": [],
   "source": []
  },
  {
   "cell_type": "code",
   "execution_count": null,
   "metadata": {},
   "outputs": [],
   "source": []
  },
  {
   "cell_type": "code",
   "execution_count": null,
   "metadata": {},
   "outputs": [],
   "source": []
  },
  {
   "cell_type": "code",
   "execution_count": null,
   "metadata": {},
   "outputs": [],
   "source": []
  },
  {
   "cell_type": "markdown",
   "metadata": {},
   "source": [
    "# Extract quotes from some documents"
   ]
  },
  {
   "cell_type": "code",
   "execution_count": 2,
   "metadata": {},
   "outputs": [],
   "source": [
    "sys.path.insert(0, '../scripts/')\n",
    "sys.path.insert(0, '../')"
   ]
  },
  {
   "cell_type": "code",
   "execution_count": 3,
   "metadata": {},
   "outputs": [],
   "source": [
    "import util"
   ]
  },
  {
   "cell_type": "code",
   "execution_count": 11,
   "metadata": {},
   "outputs": [],
   "source": [
    "t2 = t.replace('</p><p>', ' ')"
   ]
  },
  {
   "cell_type": "code",
   "execution_count": 17,
   "metadata": {},
   "outputs": [],
   "source": [
    "quotes = util.get_quotes_method_2(text=t2, cluster=True, resolve_coref=True, greedyness=.4, max_dist=150)"
   ]
  },
  {
   "cell_type": "code",
   "execution_count": 18,
   "metadata": {
    "scrolled": true
   },
   "outputs": [
    {
     "data": {
      "text/plain": [
       "defaultdict(<function util.cluster_entities_method_1.<locals>.<lambda>()>,\n",
       "            {'he': {'background sentence': [],\n",
       "              'quote sentence': [(2,\n",
       "                'Mr. Stadnyk , who holds a patent on a motorcycle windshield , is suing the United States government , aiming to head off a patent law that he says will favor big companies and hurt lone inventors like himself .'),\n",
       "               (2,\n",
       "                'Mr. Stadnyk , who holds a patent on a motorcycle windshield , is suing the United States government , aiming to head off a patent law that he says will favor big companies and hurt lone inventors like himself .'),\n",
       "               (9,\n",
       "                'With he system , he says , the rider feels a flutter of breeze instead of jolting winds and turbulence .'),\n",
       "               (9,\n",
       "                'With he system , he says , the rider feels a flutter of breeze instead of jolting winds and turbulence .'),\n",
       "               (9,\n",
       "                'With he system , he says , the rider feels a flutter of breeze instead of jolting winds and turbulence .'),\n",
       "               (13,\n",
       "                'Yearly sales , he said , are more than $ 500,000 and growing briskly .'),\n",
       "               (13,\n",
       "                'Yearly sales , he said , are more than $ 500,000 and growing briskly .'),\n",
       "               (40,\n",
       "                'My property would be given away by the government under this new law , ” he said .'),\n",
       "               (40,\n",
       "                'My property would be given away by the government under this new law , ” he said .'),\n",
       "               (58,\n",
       "                'The new patent law , he said , “ violates the text and the original understanding of the Constitution .'),\n",
       "               (58,\n",
       "                'The new patent law , he said , “ violates the text and the original understanding of the Constitution .'),\n",
       "               (73,\n",
       "                'and they may be right in not liking the outcome , ” he said .'),\n",
       "               (73,\n",
       "                'and they may be right in not liking the outcome , ” he said .'),\n",
       "               (80,\n",
       "                'The new law , he said , with its emphasis on speed , could well make it more difficult to wait before filing an application , to take the time to experiment over years , and to confidentially show early concepts to investors to raise money .'),\n",
       "               (80,\n",
       "                'The new law , he said , with its emphasis on speed , could well make it more difficult to wait before filing an application , to take the time to experiment over years , and to confidentially show early concepts to investors to raise money .')]},\n",
       "             'the United States government': {'background sentence': [],\n",
       "              'quote sentence': [(2,\n",
       "                'Mr. Stadnyk , who holds a patent on a motorcycle windshield , is suing the United States government , aiming to head off a patent law that he says will favor big companies and hurt lone inventors like himself .'),\n",
       "               (9,\n",
       "                'With he system , he says , the rider feels a flutter of breeze instead of jolting winds and turbulence .'),\n",
       "               (40,\n",
       "                'My property would be given away by the government under this new law , ” he said .'),\n",
       "               (58,\n",
       "                'The new patent law , he said , “ violates the text and the original understanding of the Constitution .'),\n",
       "               (58,\n",
       "                'The new patent law , he said , “ violates the text and the original understanding of the Constitution .'),\n",
       "               (58,\n",
       "                'The new patent law , he said , “ violates the text and the original understanding of the Constitution .'),\n",
       "               (73,\n",
       "                'and they may be right in not liking the outcome , ” he said .'),\n",
       "               (80,\n",
       "                'The new law , he said , with its emphasis on speed , could well make it more difficult to wait before filing an application , to take the time to experiment over years , and to confidentially show early concepts to investors to raise money .')]},\n",
       "             'Mark Stadnyk': {'background sentence': [(3, '”'),\n",
       "               (4, '”'),\n",
       "               (7, '”'),\n",
       "               (10, '”'),\n",
       "               (11, '”'),\n",
       "               (14, '”'),\n",
       "               (14, '”'),\n",
       "               (20, '”'),\n",
       "               (22, '”'),\n",
       "               (32, '”'),\n",
       "               (32, '”'),\n",
       "               (43, '”'),\n",
       "               (1, '”')],\n",
       "              'quote sentence': [(21,\n",
       "                'Mr. Stadnyk says Mr. Stadnyk studied the proposals and the law , read blogs and reached out to Washington lawyers and academics who raised the issue of its constitutionality .'),\n",
       "               (34,\n",
       "                'Others took on Obamacare , and this is my fight , ” said Mr. Stadnyk , who lives in Ridge Manor ,'),\n",
       "               (21,\n",
       "                'Mr. Stadnyk says Mr. Stadnyk studied the proposals and the law , read blogs and reached out to Washington lawyers and academics who raised the issue of its constitutionality .'),\n",
       "               (21,\n",
       "                'Mr. Stadnyk says Mr. Stadnyk studied the proposals and the law , read blogs and reached out to Washington lawyers and academics who raised the issue of its constitutionality .'),\n",
       "               (34,\n",
       "                'Others took on Obamacare , and this is my fight , ” said Mr. Stadnyk , who lives in Ridge Manor ,')]},\n",
       "             'opponents': {'background sentence': [],\n",
       "              'quote sentence': [(28,\n",
       "                'But opponents say it will give big companies a huge advantage over start - ups and small inventors .'),\n",
       "               (28,\n",
       "                'But opponents say it will give big companies a huge advantage over start - ups and small inventors .')]},\n",
       "             'Large corporations': {'background sentence': [],\n",
       "              'quote sentence': [(29,\n",
       "                'Large corporations have deep pockets and armies of lawyers to write up and file patents , Large corporations say , and the new law will touch off a paper chase to the patent office instead of a race to innovate .'),\n",
       "               (29,\n",
       "                'Large corporations have deep pockets and armies of lawyers to write up and file patents , Large corporations say , and the new law will touch off a paper chase to the patent office instead of a race to innovate .'),\n",
       "               (29,\n",
       "                'Large corporations have deep pockets and armies of lawyers to write up and file patents , Large corporations say , and the new law will touch off a paper chase to the patent office instead of a race to innovate .')]},\n",
       "             'who': {'background sentence': [],\n",
       "              'quote sentence': [(38,\n",
       "                'Mr. Stadnyk , who says he is a conservative , warns of the danger of the patent legislation in populist , antigovernment terms .'),\n",
       "               (38,\n",
       "                'Mr. Stadnyk , who says he is a conservative , warns of the danger of the patent legislation in populist , antigovernment terms .')]},\n",
       "             'Senator Barbara Boxer': {'background sentence': [(52, '”'),\n",
       "               (49, '”')],\n",
       "              'quote sentence': [(50,\n",
       "                'Speaking on the Senate floor last year , Senator Barbara Boxer , Democrat of California said , “ I strongly disagree with changing the core principle of our patent system — awarding a patent to the true inventor — for the sake of perceived administrative ease .'),\n",
       "               (54,\n",
       "                'We are the only country in the world , ” Ms. Boxer said , “ whose Constitution specifically mentions ‘ inventor .'),\n",
       "               (50,\n",
       "                'Speaking on the Senate floor last year , Senator Barbara Boxer , Democrat of California said , “ I strongly disagree with changing the core principle of our patent system — awarding a patent to the true inventor — for the sake of perceived administrative ease .'),\n",
       "               (54,\n",
       "                'We are the only country in the world , ” Ms. Boxer said , “ whose Constitution specifically mentions ‘ inventor .')]},\n",
       "             'Jonathan S. Massey': {'background sentence': [(43, '”'),\n",
       "               (44, '”'),\n",
       "               (45, '”'),\n",
       "               (61, '”')],\n",
       "              'quote sentence': [(57,\n",
       "                'Jonathan S. Massey says he became involved in the legislative debate and this suit because of he background in constitutional law .'),\n",
       "               (62,\n",
       "                'As a matter of confidentiality and courtroom tactics , Jonathan S. Massey said Jonathan S. Massey did not want to let “ the other side know the size of my resources .'),\n",
       "               (57,\n",
       "                'Jonathan S. Massey says he became involved in the legislative debate and this suit because of he background in constitutional law .'),\n",
       "               (62,\n",
       "                'As a matter of confidentiality and courtroom tactics , Jonathan S. Massey said Jonathan S. Massey did not want to let “ the other side know the size of my resources .'),\n",
       "               (62,\n",
       "                'As a matter of confidentiality and courtroom tactics , Jonathan S. Massey said Jonathan S. Massey did not want to let “ the other side know the size of my resources .')]},\n",
       "             'The new patent law': {'background sentence': [],\n",
       "              'quote sentence': [(58,\n",
       "                'The new patent law , he said , “ violates the text and the original understanding of the Constitution .'),\n",
       "               (64,\n",
       "                'The suit , according to some legal experts , faces long odds .'),\n",
       "               (65,\n",
       "                'The courts , The courts say , have treated the section of the Constitution that concerns intellectual property rights as utilitarian doctrine subject to Congressional interpretation .'),\n",
       "               (65,\n",
       "                'The courts , The courts say , have treated the section of the Constitution that concerns intellectual property rights as utilitarian doctrine subject to Congressional interpretation .'),\n",
       "               (80,\n",
       "                'The new law , he said , with its emphasis on speed , could well make it more difficult to wait before filing an application , to take the time to experiment over years , and to confidentially show early concepts to investors to raise money .')]},\n",
       "             'suit': {'background sentence': [],\n",
       "              'quote sentence': [(64,\n",
       "                'The suit , according to some legal experts , faces long odds .')]},\n",
       "             'some legal experts': {'background sentence': [],\n",
       "              'quote sentence': [(64,\n",
       "                'The suit , according to some legal experts , faces long odds .'),\n",
       "               (64,\n",
       "                'The suit , according to some legal experts , faces long odds .')]},\n",
       "             'courts': {'background sentence': [],\n",
       "              'quote sentence': [(65,\n",
       "                'The courts , The courts say , have treated the section of the Constitution that concerns intellectual property rights as utilitarian doctrine subject to Congressional interpretation .')]},\n",
       "             'Arti K. Rai': {'background sentence': [],\n",
       "              'quote sentence': [(67,\n",
       "                'Congress is fairly free to do as it sees fit to promote innovation , ” said Arti K. Rai , a professor at Duke University School of Law and a former senior official in the patent office .'),\n",
       "               (67,\n",
       "                'Congress is fairly free to do as it sees fit to promote innovation , ” said Arti K. Rai , a professor at Duke University School of Law and a former senior official in the patent office .')]},\n",
       "             'Mark A. Lemley': {'background sentence': [],\n",
       "              'quote sentence': [(68,\n",
       "                'Mark A. Lemley , a professor at Stanford Law School , said the constitutional challenge “ is the legal equivalent of fringe science .'),\n",
       "               (68,\n",
       "                'Mark A. Lemley , a professor at Stanford Law School , said the constitutional challenge “ is the legal equivalent of fringe science .')]},\n",
       "             'they': {'background sentence': [],\n",
       "              'quote sentence': [(73,\n",
       "                'and they may be right in not liking the outcome , ” he said .')]},\n",
       "             'Stephen G. Perlman': {'background sentence': [(77, '”')],\n",
       "              'quote sentence': [(83,\n",
       "                'scared that this law is a threat to the survival of our species — people who do fundamental , long - term invention , ” Mr. Perlman said .'),\n",
       "               (83,\n",
       "                'scared that this law is a threat to the survival of our species — people who do fundamental , long - term invention , ” Mr. Perlman said .')]},\n",
       "             'Gary Lauder': {'background sentence': [],\n",
       "              'quote sentence': [(84,\n",
       "                'Gary Lauder , a venture capitalist , said this law had the logic of trying to make the patent system more efficient and less prone to litigation .'),\n",
       "               (86,\n",
       "                '“ this law favors large companies at the expense of small ones , ” Mr. Lauder said .'),\n",
       "               (84,\n",
       "                'Gary Lauder , a venture capitalist , said this law had the logic of trying to make the patent system more efficient and less prone to litigation .'),\n",
       "               (86,\n",
       "                '“ this law favors large companies at the expense of small ones , ” Mr. Lauder said .')]},\n",
       "             'Patty': {'background sentence': [(11, '”')],\n",
       "              'quote sentence': []},\n",
       "             'Obama': {'background sentence': [(26, '”'), (32, '”')],\n",
       "              'quote sentence': []},\n",
       "             'William J. Brennan Jr.': {'background sentence': [(44, '”')],\n",
       "              'quote sentence': []},\n",
       "             'Laurence H. Tribe': {'background sentence': [(44, '”')],\n",
       "              'quote sentence': []},\n",
       "             'Al Gore': {'background sentence': [(45, '”'), (45, '”')],\n",
       "              'quote sentence': []},\n",
       "             'Bush': {'background sentence': [(45, '”')],\n",
       "              'quote sentence': []}})"
      ]
     },
     "execution_count": 18,
     "metadata": {},
     "output_type": "execute_result"
    }
   ],
   "source": [
    "quotes"
   ]
  },
  {
   "cell_type": "code",
   "execution_count": 19,
   "metadata": {},
   "outputs": [
    {
     "data": {
      "text/plain": [
       "dict_keys(['he', 'the United States government', 'Mark Stadnyk', 'opponents', 'Large corporations', 'who', 'Senator Barbara Boxer', 'Jonathan S. Massey', 'The new patent law', 'suit', 'some legal experts', 'courts', 'Arti K. Rai', 'Mark A. Lemley', 'they', 'Stephen G. Perlman', 'Gary Lauder', 'Patty', 'Obama', 'William J. Brennan Jr.', 'Laurence H. Tribe', 'Al Gore', 'Bush'])"
      ]
     },
     "execution_count": 19,
     "metadata": {},
     "output_type": "execute_result"
    }
   ],
   "source": [
    "quotes.keys()"
   ]
  },
  {
   "cell_type": "code",
   "execution_count": 20,
   "metadata": {},
   "outputs": [
    {
     "data": {
      "text/plain": [
       "{'background sentence': [(3, '”'),\n",
       "  (4, '”'),\n",
       "  (7, '”'),\n",
       "  (10, '”'),\n",
       "  (11, '”'),\n",
       "  (14, '”'),\n",
       "  (14, '”'),\n",
       "  (20, '”'),\n",
       "  (22, '”'),\n",
       "  (32, '”'),\n",
       "  (32, '”'),\n",
       "  (43, '”'),\n",
       "  (1, '”')],\n",
       " 'quote sentence': [(21,\n",
       "   'Mr. Stadnyk says Mr. Stadnyk studied the proposals and the law , read blogs and reached out to Washington lawyers and academics who raised the issue of its constitutionality .'),\n",
       "  (34,\n",
       "   'Others took on Obamacare , and this is my fight , ” said Mr. Stadnyk , who lives in Ridge Manor ,'),\n",
       "  (21,\n",
       "   'Mr. Stadnyk says Mr. Stadnyk studied the proposals and the law , read blogs and reached out to Washington lawyers and academics who raised the issue of its constitutionality .'),\n",
       "  (21,\n",
       "   'Mr. Stadnyk says Mr. Stadnyk studied the proposals and the law , read blogs and reached out to Washington lawyers and academics who raised the issue of its constitutionality .'),\n",
       "  (34,\n",
       "   'Others took on Obamacare , and this is my fight , ” said Mr. Stadnyk , who lives in Ridge Manor ,')]}"
      ]
     },
     "execution_count": 20,
     "metadata": {},
     "output_type": "execute_result"
    }
   ],
   "source": [
    "quotes['Mark Stadnyk']"
   ]
  },
  {
   "cell_type": "code",
   "execution_count": 27,
   "metadata": {},
   "outputs": [
    {
     "data": {
      "text/plain": [
       "{'he': {'background sentence': [],\n",
       "  'quote sentence': [(2,\n",
       "    'Mr. Stadnyk , who holds a patent on a motorcycle windshield , is suing the United States government , aiming to head off a patent law that he says will favor big companies and hurt lone inventors like himself .'),\n",
       "   (9,\n",
       "    'With he system , he says , the rider feels a flutter of breeze instead of jolting winds and turbulence .'),\n",
       "   (13,\n",
       "    'Yearly sales , he said , are more than $ 500,000 and growing briskly .'),\n",
       "   (40,\n",
       "    'My property would be given away by the government under this new law , ” he said .'),\n",
       "   (58,\n",
       "    'The new patent law , he said , “ violates the text and the original understanding of the Constitution .'),\n",
       "   (73, 'and they may be right in not liking the outcome , ” he said .'),\n",
       "   (80,\n",
       "    'The new law , he said , with its emphasis on speed , could well make it more difficult to wait before filing an application , to take the time to experiment over years , and to confidentially show early concepts to investors to raise money .')]},\n",
       " 'the United States government': {'background sentence': [],\n",
       "  'quote sentence': [(2,\n",
       "    'Mr. Stadnyk , who holds a patent on a motorcycle windshield , is suing the United States government , aiming to head off a patent law that he says will favor big companies and hurt lone inventors like himself .'),\n",
       "   (9,\n",
       "    'With he system , he says , the rider feels a flutter of breeze instead of jolting winds and turbulence .'),\n",
       "   (40,\n",
       "    'My property would be given away by the government under this new law , ” he said .'),\n",
       "   (58,\n",
       "    'The new patent law , he said , “ violates the text and the original understanding of the Constitution .'),\n",
       "   (73, 'and they may be right in not liking the outcome , ” he said .'),\n",
       "   (80,\n",
       "    'The new law , he said , with its emphasis on speed , could well make it more difficult to wait before filing an application , to take the time to experiment over years , and to confidentially show early concepts to investors to raise money .')]},\n",
       " 'Mark Stadnyk': {'background sentence': [(3, '”'),\n",
       "   (4, '”'),\n",
       "   (7, '”'),\n",
       "   (10, '”'),\n",
       "   (11, '”'),\n",
       "   (14, '”'),\n",
       "   (20, '”'),\n",
       "   (22, '”'),\n",
       "   (32, '”'),\n",
       "   (43, '”'),\n",
       "   (1, '”')],\n",
       "  'quote sentence': [(21,\n",
       "    'Mr. Stadnyk says Mr. Stadnyk studied the proposals and the law , read blogs and reached out to Washington lawyers and academics who raised the issue of its constitutionality .'),\n",
       "   (34,\n",
       "    'Others took on Obamacare , and this is my fight , ” said Mr. Stadnyk , who lives in Ridge Manor ,')]},\n",
       " 'opponents': {'background sentence': [],\n",
       "  'quote sentence': [(28,\n",
       "    'But opponents say it will give big companies a huge advantage over start - ups and small inventors .')]},\n",
       " 'Large corporations': {'background sentence': [],\n",
       "  'quote sentence': [(29,\n",
       "    'Large corporations have deep pockets and armies of lawyers to write up and file patents , Large corporations say , and the new law will touch off a paper chase to the patent office instead of a race to innovate .')]},\n",
       " 'who': {'background sentence': [],\n",
       "  'quote sentence': [(38,\n",
       "    'Mr. Stadnyk , who says he is a conservative , warns of the danger of the patent legislation in populist , antigovernment terms .')]},\n",
       " 'Senator Barbara Boxer': {'background sentence': [(52, '”'), (49, '”')],\n",
       "  'quote sentence': [(50,\n",
       "    'Speaking on the Senate floor last year , Senator Barbara Boxer , Democrat of California said , “ I strongly disagree with changing the core principle of our patent system — awarding a patent to the true inventor — for the sake of perceived administrative ease .'),\n",
       "   (54,\n",
       "    'We are the only country in the world , ” Ms. Boxer said , “ whose Constitution specifically mentions ‘ inventor .')]},\n",
       " 'Jonathan S. Massey': {'background sentence': [(43, '”'),\n",
       "   (44, '”'),\n",
       "   (45, '”'),\n",
       "   (61, '”')],\n",
       "  'quote sentence': [(57,\n",
       "    'Jonathan S. Massey says he became involved in the legislative debate and this suit because of he background in constitutional law .'),\n",
       "   (62,\n",
       "    'As a matter of confidentiality and courtroom tactics , Jonathan S. Massey said Jonathan S. Massey did not want to let “ the other side know the size of my resources .')]},\n",
       " 'The new patent law': {'background sentence': [],\n",
       "  'quote sentence': [(58,\n",
       "    'The new patent law , he said , “ violates the text and the original understanding of the Constitution .'),\n",
       "   (64, 'The suit , according to some legal experts , faces long odds .'),\n",
       "   (65,\n",
       "    'The courts , The courts say , have treated the section of the Constitution that concerns intellectual property rights as utilitarian doctrine subject to Congressional interpretation .'),\n",
       "   (80,\n",
       "    'The new law , he said , with its emphasis on speed , could well make it more difficult to wait before filing an application , to take the time to experiment over years , and to confidentially show early concepts to investors to raise money .')]},\n",
       " 'suit': {'background sentence': [],\n",
       "  'quote sentence': [(64,\n",
       "    'The suit , according to some legal experts , faces long odds .')]},\n",
       " 'some legal experts': {'background sentence': [],\n",
       "  'quote sentence': [(64,\n",
       "    'The suit , according to some legal experts , faces long odds .')]},\n",
       " 'courts': {'background sentence': [],\n",
       "  'quote sentence': [(65,\n",
       "    'The courts , The courts say , have treated the section of the Constitution that concerns intellectual property rights as utilitarian doctrine subject to Congressional interpretation .')]},\n",
       " 'Arti K. Rai': {'background sentence': [],\n",
       "  'quote sentence': [(67,\n",
       "    'Congress is fairly free to do as it sees fit to promote innovation , ” said Arti K. Rai , a professor at Duke University School of Law and a former senior official in the patent office .')]},\n",
       " 'Mark A. Lemley': {'background sentence': [],\n",
       "  'quote sentence': [(68,\n",
       "    'Mark A. Lemley , a professor at Stanford Law School , said the constitutional challenge “ is the legal equivalent of fringe science .')]},\n",
       " 'they': {'background sentence': [],\n",
       "  'quote sentence': [(73,\n",
       "    'and they may be right in not liking the outcome , ” he said .')]},\n",
       " 'Stephen G. Perlman': {'background sentence': [(77, '”')],\n",
       "  'quote sentence': [(83,\n",
       "    'scared that this law is a threat to the survival of our species — people who do fundamental , long - term invention , ” Mr. Perlman said .')]},\n",
       " 'Gary Lauder': {'background sentence': [],\n",
       "  'quote sentence': [(84,\n",
       "    'Gary Lauder , a venture capitalist , said this law had the logic of trying to make the patent system more efficient and less prone to litigation .'),\n",
       "   (86,\n",
       "    '“ this law favors large companies at the expense of small ones , ” Mr. Lauder said .')]},\n",
       " 'Patty': {'background sentence': [(11, '”')], 'quote sentence': []},\n",
       " 'Obama': {'background sentence': [(26, '”'), (32, '”')],\n",
       "  'quote sentence': []},\n",
       " 'William J. Brennan Jr.': {'background sentence': [(44, '”')],\n",
       "  'quote sentence': []},\n",
       " 'Laurence H. Tribe': {'background sentence': [(44, '”')],\n",
       "  'quote sentence': []},\n",
       " 'Al Gore': {'background sentence': [(45, '”')], 'quote sentence': []},\n",
       " 'Bush': {'background sentence': [(45, '”')], 'quote sentence': []}}"
      ]
     },
     "execution_count": 27,
     "metadata": {},
     "output_type": "execute_result"
    }
   ],
   "source": [
    "deduped_output"
   ]
  },
  {
   "cell_type": "code",
   "execution_count": null,
   "metadata": {},
   "outputs": [],
   "source": []
  },
  {
   "cell_type": "code",
   "execution_count": null,
   "metadata": {},
   "outputs": [],
   "source": []
  },
  {
   "cell_type": "code",
   "execution_count": 38,
   "metadata": {},
   "outputs": [
    {
     "data": {
      "text/plain": [
       "a dog"
      ]
     },
     "execution_count": 38,
     "metadata": {},
     "output_type": "execute_result"
    }
   ],
   "source": [
    "doc = nlp(u'My sister has a dog. She loves him')\n",
    "\n",
    "doc._.coref_clusters\n",
    "doc._.coref_clusters[1].mentions\n",
    "doc._.coref_clusters[1].mentions[-1]\n",
    "doc._.coref_clusters[1].mentions[-1]._.coref_cluster.main"
   ]
  },
  {
   "cell_type": "code",
   "execution_count": 39,
   "metadata": {},
   "outputs": [
    {
     "data": {
      "text/plain": [
       "him"
      ]
     },
     "execution_count": 39,
     "metadata": {},
     "output_type": "execute_result"
    }
   ],
   "source": [
    "doc._.coref_clusters[1].mentions[-1]"
   ]
  },
  {
   "cell_type": "code",
   "execution_count": 35,
   "metadata": {},
   "outputs": [],
   "source": [
    "doc._.coref_clusters[1].mentions[-1] = 'her'"
   ]
  },
  {
   "cell_type": "code",
   "execution_count": 40,
   "metadata": {},
   "outputs": [
    {
     "data": {
      "text/plain": [
       "[a dog, him]"
      ]
     },
     "execution_count": 40,
     "metadata": {},
     "output_type": "execute_result"
    }
   ],
   "source": [
    "doc._.coref_clusters[1].mentions"
   ]
  },
  {
   "cell_type": "code",
   "execution_count": 41,
   "metadata": {},
   "outputs": [
    {
     "data": {
      "text/plain": [
       "{My sister: {My sister: 1.3110305070877075},\n",
       " a dog: {a dog: 1.804752230644226, My sister: -1.6715972423553467},\n",
       " She: {She: 0.09481996297836304,\n",
       "  My sister: 7.786711692810059,\n",
       "  a dog: -1.1784329414367676},\n",
       " him: {him: -1.4293134212493896,\n",
       "  My sister: 2.0916330814361572,\n",
       "  a dog: 3.683906316757202,\n",
       "  She: -3.400832176208496}}"
      ]
     },
     "execution_count": 41,
     "metadata": {},
     "output_type": "execute_result"
    }
   ],
   "source": [
    "doc._.coref_scores"
   ]
  },
  {
   "cell_type": "code",
   "execution_count": 54,
   "metadata": {},
   "outputs": [
    {
     "data": {
      "text/plain": [
       "'My sister has a dog. My sister loves a dog'"
      ]
     },
     "execution_count": 54,
     "metadata": {},
     "output_type": "execute_result"
    }
   ],
   "source": [
    "doc._.coref_resolved"
   ]
  },
  {
   "cell_type": "code",
   "execution_count": 43,
   "metadata": {},
   "outputs": [],
   "source": [
    "long_doc = nlp(t2)"
   ]
  },
  {
   "cell_type": "code",
   "execution_count": 96,
   "metadata": {},
   "outputs": [],
   "source": [
    "s = long_doc._.coref_scores"
   ]
  },
  {
   "cell_type": "code",
   "execution_count": 98,
   "metadata": {},
   "outputs": [
    {
     "data": {
      "text/plain": [
       "[Mr. Stadnyk: [an inventor named Mark Stadnyk, he, himself, Mr. Stadnyk, his],\n",
       " a suit last month that challenges the constitutionality of legislation that Congress passed last fall, the America Invents Act: [a suit last month that challenges the constitutionality of legislation that Congress passed last fall, the America Invents Act, the legislation, it],\n",
       " he: [he, He, his, he, his, his, he, himself, His, he, he],\n",
       " a powerful new motorcycle: [a powerful new motorcycle, the motorcycle],\n",
       " a windshield: [a windshield, the windshield],\n",
       " MadStad: [MadStad, his],\n",
       " the United States: [the United States, the United States],\n",
       " Mr. Stadnyk: [Mr. Stadnyk, he, Mr. Stadnyk, He, he, its, he],\n",
       " the patent legislation: [the patent legislation, it],\n",
       " the law: [the law, the new law, the new law, this new law, The new patent law, The new patent law],\n",
       " Washington: [Washington, Washington],\n",
       " Japan and elsewhere: [Japan and elsewhere, them],\n",
       " America: [America, America],\n",
       " President Obama: [President Obama, Obama],\n",
       " the new law would cut “the red tape that stops too many inventors and entrepreneurs from quickly turning new ideas into thriving businesses — which holds our whole economy back: [the new law would cut “the red tape that stops too many inventors and entrepreneurs from quickly turning new ideas into thriving businesses — which holds our whole economy back, it],\n",
       " “: [“, “],\n",
       " Large corporations: [Large corporations, they],\n",
       " Mr. Stadnyk: [Mr. Stadnyk, his],\n",
       " the Supreme Court: [the Supreme Court, the Supreme Court],\n",
       " he: [he, he],\n",
       " Jonathan S. Massey: [Jonathan S. Massey, Mr. Massey, Mr. Massey],\n",
       " Ms. Boxer: [Senator Barbara Boxer, Democrat of California, she, Ms. Boxer, she],\n",
       " our: [our, We],\n",
       " the Constitution: [the Constitution, the Constitution, the Constitution],\n",
       " Mr. Massey: [Mr. Massey, he, his, he, Mr. Massey, he, he],\n",
       " this suit: [this suit, the suit, The suit],\n",
       " “: [“, “],\n",
       " The courts: [The courts, they],\n",
       " Congress: [Congress, it],\n",
       " Mark A. Lemley, a professor at Stanford Law School: [Mark A. Lemley, a professor at Stanford Law School, he],\n",
       " people who didn’t like the outcome of the patent legislation: [people who didn’t like the outcome of the patent legislation, they],\n",
       " that: [that, it],\n",
       " the law’s: [the law’s, this law, the new law, This law],\n",
       " His: [His, he],\n",
       " ’m: [’m, he],\n",
       " our: [our, our, we],\n",
       " Mr. Lauder: [Gary Lauder, a venture capitalist, Mr. Lauder]]"
      ]
     },
     "execution_count": 98,
     "metadata": {},
     "output_type": "execute_result"
    }
   ],
   "source": [
    "long_doc._.coref_clusters"
   ]
  },
  {
   "cell_type": "code",
   "execution_count": 60,
   "metadata": {},
   "outputs": [
    {
     "data": {
      "text/plain": [
       "My sister has a dog. She loves him"
      ]
     },
     "execution_count": 60,
     "metadata": {},
     "output_type": "execute_result"
    }
   ],
   "source": [
    "doc"
   ]
  },
  {
   "cell_type": "code",
   "execution_count": 75,
   "metadata": {},
   "outputs": [],
   "source": [
    "s = doc._.coref_clusters[0].mentions[1]"
   ]
  },
  {
   "cell_type": "code",
   "execution_count": 76,
   "metadata": {},
   "outputs": [
    {
     "data": {
      "text/plain": [
       "6"
      ]
     },
     "execution_count": 76,
     "metadata": {},
     "output_type": "execute_result"
    }
   ],
   "source": [
    "s.start"
   ]
  },
  {
   "cell_type": "code",
   "execution_count": 77,
   "metadata": {},
   "outputs": [
    {
     "data": {
      "text/plain": [
       "7"
      ]
     },
     "execution_count": 77,
     "metadata": {},
     "output_type": "execute_result"
    }
   ],
   "source": [
    "s.end"
   ]
  },
  {
   "cell_type": "code",
   "execution_count": 94,
   "metadata": {},
   "outputs": [
    {
     "data": {
      "text/plain": [
       "She"
      ]
     },
     "execution_count": 94,
     "metadata": {},
     "output_type": "execute_result"
    }
   ],
   "source": [
    "doc[s.start:s.end]"
   ]
  },
  {
   "cell_type": "code",
   "execution_count": null,
   "metadata": {},
   "outputs": [],
   "source": []
  },
  {
   "cell_type": "code",
   "execution_count": null,
   "metadata": {},
   "outputs": [],
   "source": []
  },
  {
   "cell_type": "code",
   "execution_count": null,
   "metadata": {},
   "outputs": [],
   "source": []
  },
  {
   "cell_type": "code",
   "execution_count": null,
   "metadata": {},
   "outputs": [],
   "source": []
  },
  {
   "cell_type": "code",
   "execution_count": 33,
   "metadata": {},
   "outputs": [],
   "source": [
    "import unidecode\n",
    "doc = nlp(unidecode.unidecode(t2))"
   ]
  },
  {
   "cell_type": "code",
   "execution_count": 652,
   "metadata": {},
   "outputs": [],
   "source": [
    "article_batch = pd.read_sql('SELECT * from entryversion where version = 0 limit 500', con=conn)"
   ]
  },
  {
   "cell_type": "code",
   "execution_count": 657,
   "metadata": {},
   "outputs": [],
   "source": [
    "from tqdm.auto import tqdm"
   ]
  },
  {
   "cell_type": "code",
   "execution_count": null,
   "metadata": {},
   "outputs": [],
   "source": [
    "all_named_ents = []\n",
    "for a in tqdm(article_batch['summary']):\n",
    "    doc = nlp(a)\n",
    "    person_ents = list(set(filter(lambda x: x.label_ == 'PERSON', doc.ents)))\n",
    "    all_named_ents.extend(person_ents)"
   ]
  },
  {
   "cell_type": "code",
   "execution_count": 665,
   "metadata": {},
   "outputs": [],
   "source": [
    "names = list(set(map(lambda x: x.text, all_named_ents)))"
   ]
  },
  {
   "cell_type": "code",
   "execution_count": null,
   "metadata": {},
   "outputs": [],
   "source": []
  }
 ],
 "metadata": {
  "hide_input": false,
  "kernelspec": {
   "display_name": "Python 3",
   "language": "python",
   "name": "python3"
  },
  "language_info": {
   "codemirror_mode": {
    "name": "ipython",
    "version": 3
   },
   "file_extension": ".py",
   "mimetype": "text/x-python",
   "name": "python",
   "nbconvert_exporter": "python",
   "pygments_lexer": "ipython3",
   "version": "3.7.6"
  }
 },
 "nbformat": 4,
 "nbformat_minor": 4
}
