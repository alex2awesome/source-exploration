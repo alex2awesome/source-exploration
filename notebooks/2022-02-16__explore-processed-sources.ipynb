{
 "cells": [
  {
   "cell_type": "code",
   "execution_count": 224,
   "metadata": {},
   "outputs": [
    {
     "data": {
      "text/plain": [
       "<module 'coref_resolution_util' from '../scripts/coref_resolution_util.py'>"
      ]
     },
     "execution_count": 224,
     "metadata": {},
     "output_type": "execute_result"
    }
   ],
   "source": [
    "import pickle\n",
    "import pandas as pd \n",
    "import bokeh.palettes as palettes\n",
    "import sys\n",
    "sys.path.insert(0, '../scripts/')\n",
    "import coref_resolution_util as c\n",
    "from more_itertools import unique_everseen\n",
    "from copy import deepcopy\n",
    "from IPython.display import display, HTML\n",
    "import numpy as np\n",
    "from importlib import reload\n",
    "reload(c)"
   ]
  },
  {
   "cell_type": "code",
   "execution_count": 225,
   "metadata": {},
   "outputs": [],
   "source": [
    "fname = '../data/output/newssniffer-nytimes/output_chunk__start-15_end-2015.pkl'\n",
    "with open(fname, 'rb') as f:\n",
    "    processed = pickle.load(f)"
   ]
  },
  {
   "cell_type": "code",
   "execution_count": 227,
   "metadata": {},
   "outputs": [],
   "source": [
    "processed_df = (\n",
    "    pd.DataFrame(processed)\n",
    "    .drop_duplicates('entry_id')\n",
    ")"
   ]
  },
  {
   "cell_type": "code",
   "execution_count": 137,
   "metadata": {},
   "outputs": [],
   "source": [
    "idx = 0\n",
    "q = processed_df.iloc[idx]['quote_idxes']\n",
    "s = processed_df.iloc[idx]['sent_parse']\n",
    "l = list(map(len, s))"
   ]
  },
  {
   "cell_type": "code",
   "execution_count": 176,
   "metadata": {},
   "outputs": [],
   "source": [
    "if len(q) < 10:\n",
    "    cmap = palettes.Set3_11\n",
    "elif len(q) < 20:\n",
    "    cmap = list(unique_everseen(palettes.Set3_11 + palettes.Spectral11))\n",
    "else:\n",
    "    cmap = list(unique_everseen( palettes.Set3_11 + palettes.Spectral11 + palettes.Category20_20))\n",
    "\n",
    "comp_mapper = {i:idx for idx, i in enumerate(q.index.tolist())}\n",
    "source_idx_head_mapper = (\n",
    " q\n",
    " .assign(head=lambda df: df.apply(lambda x: ' '.join(s[x['head_s_idx']][\n",
    "        x['head_span'][0] - sum(l[:x['head_s_idx']]):\n",
    "        x['head_span'][1] - sum(l[:x['head_s_idx']])\n",
    "    ]\n",
    "    ), axis=1 ))\n",
    "    ['head'].to_dict()\n",
    ")\n",
    "\n",
    "span_df = (\n",
    " q\n",
    " .assign(q=lambda df: df.apply(lambda x: \n",
    "   list(map(lambda y: {'source': x.name, 'sent': y[0], 'span': y[1], 'type': 'quote'}, x['quote_chunks'] )), axis=1))\n",
    " .assign(b=lambda df: df.apply(lambda x: \n",
    "   list(map(lambda y: {'source': x.name, 'sent': y[0], 'span': y[1], 'type': 'background'}, x['background_chunks'] )), axis=1))\n",
    " .apply(lambda x: x['q'] + x['b'], axis=1)\n",
    " .pipe(lambda s: pd.DataFrame(c.flatten_list_of_lists(s.tolist())))\n",
    " .sort_values('sent', ascending=False)\n",
    " .assign(head=lambda df: df['source'].map(source_idx_head_mapper))\n",
    " .assign(source=lambda df: df['source'].map(comp_mapper))\n",
    ")"
   ]
  },
  {
   "cell_type": "code",
   "execution_count": 202,
   "metadata": {},
   "outputs": [],
   "source": [
    "s_html = deepcopy(s)\n",
    "old_s_idx = None\n",
    "# quotes and backgrounds\n",
    "for idx, (source_idx, sent_idx, quote_span, quote_type, head) in span_df.iterrows():\n",
    "    if old_s_idx != sent_idx:\n",
    "        adj = sum(l[:sent_idx])\n",
    "    sent, adj = c.format_span_with_word_list(adj=adj, sent=s[sent_idx], span=quote_span, bold=True)\n",
    "    s_html[sent_idx] = {\n",
    "        'sent':' '.join(sent),\n",
    "        'type': quote_type.upper(),\n",
    "        'head': head,\n",
    "        'color': cmap[source_idx],\n",
    "        'source_idx': source_idx\n",
    "    }\n",
    "\n",
    "# regular\n",
    "for s_idx, sent in enumerate(s_html):\n",
    "    if isinstance(sent, list):\n",
    "        s_html[s_idx] = {\n",
    "            'sent': ' '.join(sent), \n",
    "            'type': '',\n",
    "            'source_idx': 'null'\n",
    "        }"
   ]
  },
  {
   "cell_type": "code",
   "execution_count": 183,
   "metadata": {
    "scrolled": true
   },
   "outputs": [
    {
     "ename": "TypeError",
     "evalue": "sequence item 0: expected str instance, dict found",
     "output_type": "error",
     "traceback": [
      "\u001b[0;31m---------------------------------------------------------------------------\u001b[0m",
      "\u001b[0;31mTypeError\u001b[0m                                 Traceback (most recent call last)",
      "\u001b[0;32m<ipython-input-183-01c8383edfa2>\u001b[0m in \u001b[0;36m<module>\u001b[0;34m\u001b[0m\n\u001b[0;32m----> 1\u001b[0;31m \u001b[0mdisplay\u001b[0m\u001b[0;34m(\u001b[0m\u001b[0mHTML\u001b[0m\u001b[0;34m(\u001b[0m\u001b[0;34m'<br><br>'\u001b[0m\u001b[0;34m.\u001b[0m\u001b[0mjoin\u001b[0m\u001b[0;34m(\u001b[0m\u001b[0ms_html\u001b[0m\u001b[0;34m)\u001b[0m\u001b[0;34m.\u001b[0m\u001b[0mreplace\u001b[0m\u001b[0;34m(\u001b[0m\u001b[0;34m'$'\u001b[0m\u001b[0;34m,\u001b[0m \u001b[0;34m'\\$'\u001b[0m\u001b[0;34m)\u001b[0m\u001b[0;34m)\u001b[0m\u001b[0;34m)\u001b[0m\u001b[0;34m\u001b[0m\u001b[0;34m\u001b[0m\u001b[0m\n\u001b[0m",
      "\u001b[0;31mTypeError\u001b[0m: sequence item 0: expected str instance, dict found"
     ]
    }
   ],
   "source": [
    "display(HTML('<br><br>'.join(s_html).replace('$', '\\$')))"
   ]
  },
  {
   "cell_type": "code",
   "execution_count": 203,
   "metadata": {},
   "outputs": [],
   "source": [
    "import json\n",
    "with open('../app/data/test-json.json', 'w') as f:\n",
    "    json.dump(s_html, f)"
   ]
  },
  {
   "cell_type": "code",
   "execution_count": null,
   "metadata": {},
   "outputs": [],
   "source": []
  },
  {
   "cell_type": "code",
   "execution_count": null,
   "metadata": {},
   "outputs": [],
   "source": []
  },
  {
   "cell_type": "markdown",
   "metadata": {},
   "source": [
    "# Examine output data"
   ]
  },
  {
   "cell_type": "code",
   "execution_count": 204,
   "metadata": {},
   "outputs": [],
   "source": [
    "with open('../app/data/output-json.json') as f:\n",
    "    t = json.load(f)"
   ]
  },
  {
   "cell_type": "code",
   "execution_count": 209,
   "metadata": {},
   "outputs": [
    {
     "data": {
      "text/plain": [
       "'1645483752.553241'"
      ]
     },
     "execution_count": 209,
     "metadata": {},
     "output_type": "execute_result"
    }
   ],
   "source": [
    "t.pop('start_time', '')"
   ]
  },
  {
   "cell_type": "code",
   "execution_count": 211,
   "metadata": {},
   "outputs": [],
   "source": [
    "sorted_keys = sorted(t.keys(), key=lambda x: int(x))"
   ]
  },
  {
   "cell_type": "code",
   "execution_count": 214,
   "metadata": {},
   "outputs": [],
   "source": [
    "t_list = list(map(lambda k: t[k], sorted_keys))"
   ]
  },
  {
   "cell_type": "code",
   "execution_count": 219,
   "metadata": {},
   "outputs": [
    {
     "data": {
      "text/html": [
       "<div>\n",
       "<style scoped>\n",
       "    .dataframe tbody tr th:only-of-type {\n",
       "        vertical-align: middle;\n",
       "    }\n",
       "\n",
       "    .dataframe tbody tr th {\n",
       "        vertical-align: top;\n",
       "    }\n",
       "\n",
       "    .dataframe thead th {\n",
       "        text-align: right;\n",
       "    }\n",
       "</style>\n",
       "<table border=\"1\" class=\"dataframe\">\n",
       "  <thead>\n",
       "    <tr style=\"text-align: right;\">\n",
       "      <th></th>\n",
       "      <th>s_idx</th>\n",
       "      <th>sentence</th>\n",
       "      <th>head</th>\n",
       "      <th>quote_type</th>\n",
       "      <th>error</th>\n",
       "      <th>affiliation</th>\n",
       "      <th>role</th>\n",
       "      <th>gender</th>\n",
       "      <th>race</th>\n",
       "      <th>age</th>\n",
       "      <th>education</th>\n",
       "    </tr>\n",
       "  </thead>\n",
       "  <tbody>\n",
       "    <tr>\n",
       "      <th>0</th>\n",
       "      <td>0</td>\n",
       "      <td>SANTIAGO , Chile —</td>\n",
       "      <td></td>\n",
       "      <td></td>\n",
       "      <td>No Errors</td>\n",
       "      <td></td>\n",
       "      <td></td>\n",
       "      <td></td>\n",
       "      <td></td>\n",
       "      <td></td>\n",
       "      <td></td>\n",
       "    </tr>\n",
       "    <tr>\n",
       "      <th>1</th>\n",
       "      <td>1</td>\n",
       "      <td>They appear at the student demonstrations that...</td>\n",
       "      <td></td>\n",
       "      <td></td>\n",
       "      <td>No Errors</td>\n",
       "      <td></td>\n",
       "      <td></td>\n",
       "      <td></td>\n",
       "      <td></td>\n",
       "      <td></td>\n",
       "      <td></td>\n",
       "    </tr>\n",
       "    <tr>\n",
       "      <th>2</th>\n",
       "      <td>2</td>\n",
       "      <td>They are not there to join the protests or int...</td>\n",
       "      <td></td>\n",
       "      <td></td>\n",
       "      <td>No Errors</td>\n",
       "      <td></td>\n",
       "      <td></td>\n",
       "      <td></td>\n",
       "      <td></td>\n",
       "      <td></td>\n",
       "      <td></td>\n",
       "    </tr>\n",
       "    <tr>\n",
       "      <th>3</th>\n",
       "      <td>3</td>\n",
       "      <td>This month , they are busier than ever .</td>\n",
       "      <td></td>\n",
       "      <td></td>\n",
       "      <td>No Errors</td>\n",
       "      <td></td>\n",
       "      <td></td>\n",
       "      <td></td>\n",
       "      <td></td>\n",
       "      <td></td>\n",
       "      <td></td>\n",
       "    </tr>\n",
       "    <tr>\n",
       "      <th>4</th>\n",
       "      <td>4</td>\n",
       "      <td>The volunteer observers , known as “ helmets ,...</td>\n",
       "      <td></td>\n",
       "      <td></td>\n",
       "      <td>No Errors</td>\n",
       "      <td></td>\n",
       "      <td></td>\n",
       "      <td></td>\n",
       "      <td></td>\n",
       "      <td></td>\n",
       "      <td></td>\n",
       "    </tr>\n",
       "  </tbody>\n",
       "</table>\n",
       "</div>"
      ],
      "text/plain": [
       "   s_idx                                           sentence head quote_type  \\\n",
       "0      0                                 SANTIAGO , Chile —                   \n",
       "1      1  They appear at the student demonstrations that...                   \n",
       "2      2  They are not there to join the protests or int...                   \n",
       "3      3           This month , they are busier than ever .                   \n",
       "4      4  The volunteer observers , known as “ helmets ,...                   \n",
       "\n",
       "       error affiliation role gender race age education  \n",
       "0  No Errors                                             \n",
       "1  No Errors                                             \n",
       "2  No Errors                                             \n",
       "3  No Errors                                             \n",
       "4  No Errors                                             "
      ]
     },
     "execution_count": 219,
     "metadata": {},
     "output_type": "execute_result"
    }
   ],
   "source": [
    "t_df = pd.DataFrame(t_list)\n",
    "t_df.head()"
   ]
  },
  {
   "cell_type": "code",
   "execution_count": 223,
   "metadata": {},
   "outputs": [
    {
     "data": {
      "text/html": [
       "<div>\n",
       "<style scoped>\n",
       "    .dataframe tbody tr th:only-of-type {\n",
       "        vertical-align: middle;\n",
       "    }\n",
       "\n",
       "    .dataframe tbody tr th {\n",
       "        vertical-align: top;\n",
       "    }\n",
       "\n",
       "    .dataframe thead th {\n",
       "        text-align: right;\n",
       "    }\n",
       "</style>\n",
       "<table border=\"1\" class=\"dataframe\">\n",
       "  <thead>\n",
       "    <tr style=\"text-align: right;\">\n",
       "      <th></th>\n",
       "      <th>affiliation</th>\n",
       "      <th>role</th>\n",
       "      <th>gender</th>\n",
       "      <th>race</th>\n",
       "      <th>age</th>\n",
       "      <th>education</th>\n",
       "    </tr>\n",
       "    <tr>\n",
       "      <th>head</th>\n",
       "      <th></th>\n",
       "      <th></th>\n",
       "      <th></th>\n",
       "      <th></th>\n",
       "      <th></th>\n",
       "      <th></th>\n",
       "    </tr>\n",
       "  </thead>\n",
       "  <tbody>\n",
       "    <tr>\n",
       "      <th></th>\n",
       "      <td>[]</td>\n",
       "      <td>[]</td>\n",
       "      <td>[]</td>\n",
       "      <td>[]</td>\n",
       "      <td>[]</td>\n",
       "      <td>[]</td>\n",
       "    </tr>\n",
       "    <tr>\n",
       "      <th>Germán Chau</th>\n",
       "      <td>[NGO]</td>\n",
       "      <td>[Decision Maker]</td>\n",
       "      <td>[]</td>\n",
       "      <td>[]</td>\n",
       "      <td>[66]</td>\n",
       "      <td>[]</td>\n",
       "    </tr>\n",
       "    <tr>\n",
       "      <th>Luis Parra</th>\n",
       "      <td>[, NGO]</td>\n",
       "      <td>[, Decision Maker]</td>\n",
       "      <td>[, Male]</td>\n",
       "      <td>[, Latinx]</td>\n",
       "      <td>[, 56]</td>\n",
       "      <td>[Law, ]</td>\n",
       "    </tr>\n",
       "    <tr>\n",
       "      <th>Marta Cisterna</th>\n",
       "      <td>[, NGO]</td>\n",
       "      <td>[, Informational]</td>\n",
       "      <td>[, Female]</td>\n",
       "      <td>[, Latinx]</td>\n",
       "      <td>[, 45]</td>\n",
       "      <td>[]</td>\n",
       "    </tr>\n",
       "    <tr>\n",
       "      <th>Matías Sotelo</th>\n",
       "      <td>[, NGO]</td>\n",
       "      <td>[, Decision Maker]</td>\n",
       "      <td>[, Male]</td>\n",
       "      <td>[, Latinx]</td>\n",
       "      <td>[, 23]</td>\n",
       "      <td>[, MD]</td>\n",
       "    </tr>\n",
       "  </tbody>\n",
       "</table>\n",
       "</div>"
      ],
      "text/plain": [
       "               affiliation                role      gender        race  \\\n",
       "head                                                                     \n",
       "                        []                  []          []          []   \n",
       "Germán Chau          [NGO]    [Decision Maker]          []          []   \n",
       "Luis Parra         [, NGO]  [, Decision Maker]    [, Male]  [, Latinx]   \n",
       "Marta Cisterna     [, NGO]   [, Informational]  [, Female]  [, Latinx]   \n",
       "Matías Sotelo      [, NGO]  [, Decision Maker]    [, Male]  [, Latinx]   \n",
       "\n",
       "                   age education  \n",
       "head                              \n",
       "                    []        []  \n",
       "Germán Chau       [66]        []  \n",
       "Luis Parra      [, 56]   [Law, ]  \n",
       "Marta Cisterna  [, 45]        []  \n",
       "Matías Sotelo   [, 23]    [, MD]  "
      ]
     },
     "execution_count": 223,
     "metadata": {},
     "output_type": "execute_result"
    }
   ],
   "source": [
    "(t_df\n",
    " .groupby('head')\n",
    " [['affiliation', 'role', 'gender', 'race', 'age', 'education']]\n",
    " .aggregate(list)\n",
    " .applymap(lambda x: list(set(x)))\n",
    ")"
   ]
  },
  {
   "cell_type": "code",
   "execution_count": null,
   "metadata": {},
   "outputs": [],
   "source": []
  },
  {
   "cell_type": "code",
   "execution_count": null,
   "metadata": {},
   "outputs": [],
   "source": []
  },
  {
   "cell_type": "code",
   "execution_count": null,
   "metadata": {},
   "outputs": [],
   "source": []
  },
  {
   "cell_type": "code",
   "execution_count": null,
   "metadata": {},
   "outputs": [],
   "source": []
  },
  {
   "cell_type": "code",
   "execution_count": null,
   "metadata": {},
   "outputs": [],
   "source": []
  },
  {
   "cell_type": "code",
   "execution_count": null,
   "metadata": {},
   "outputs": [],
   "source": []
  },
  {
   "cell_type": "code",
   "execution_count": null,
   "metadata": {},
   "outputs": [],
   "source": []
  }
 ],
 "metadata": {
  "hide_input": false,
  "kernelspec": {
   "display_name": "Python 3",
   "language": "python",
   "name": "python3"
  },
  "language_info": {
   "codemirror_mode": {
    "name": "ipython",
    "version": 3
   },
   "file_extension": ".py",
   "mimetype": "text/x-python",
   "name": "python",
   "nbconvert_exporter": "python",
   "pygments_lexer": "ipython3",
   "version": "3.7.6"
  }
 },
 "nbformat": 4,
 "nbformat_minor": 4
}
