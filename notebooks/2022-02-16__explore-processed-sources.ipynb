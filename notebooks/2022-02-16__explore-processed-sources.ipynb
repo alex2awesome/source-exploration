{
 "cells": [
  {
   "cell_type": "code",
   "execution_count": 29,
   "metadata": {},
   "outputs": [],
   "source": [
    "import pickle\n",
    "import pandas as pd \n",
    "import bokeh.palettes as palettes\n",
    "import sys\n",
    "sys.path.insert(0, '../scripts/')\n",
    "import coref_resolution_util as c\n",
    "import rules_method_num_3 as c\n",
    "from more_itertools import unique_everseen\n",
    "from copy import deepcopy\n",
    "from IPython.display import display, HTML\n",
    "import numpy as np\n",
    "from importlib import reload\n",
    "reload(c)\n",
    "import glob\n",
    "import json\n",
    "\n",
    "def generate_packet_to_annotate(q, s):\n",
    "    l = list(map(len, s))\n",
    "    if len(q) < 10:\n",
    "        cmap = palettes.Set3_11\n",
    "    elif len(q) < 20:\n",
    "        cmap = list(unique_everseen(palettes.Set3_11 + palettes.Spectral11))\n",
    "    else:\n",
    "        cmap = list(unique_everseen( palettes.Set3_11 + palettes.Spectral11 + palettes.Category20_20))\n",
    "\n",
    "    comp_mapper = {i:idx for idx, i in enumerate(q.index.tolist())}\n",
    "    source_idx_head_mapper = (\n",
    "     q\n",
    "     .assign(head=lambda df: df.apply(lambda x: ' '.join(s[x['head_s_idx']][\n",
    "            x['head_span'][0] - sum(l[:x['head_s_idx']]):\n",
    "            x['head_span'][1] - sum(l[:x['head_s_idx']])\n",
    "        ]\n",
    "        ), axis=1 ))\n",
    "        ['head'].to_dict()\n",
    "    )\n",
    "\n",
    "    span_df = (\n",
    "     q\n",
    "     .assign(q=lambda df: df.apply(lambda x: \n",
    "       list(map(lambda y: {'source': x.name, 'sent': y[0], 'span': y[1], 'type': 'quote'}, x['quote_chunks'] )), axis=1))\n",
    "     .assign(b=lambda df: df.apply(lambda x: \n",
    "       list(map(lambda y: {'source': x.name, 'sent': y[0], 'span': y[1], 'type': 'background'}, x['background_chunks'] )), axis=1))\n",
    "     .apply(lambda x: x['q'] + x['b'], axis=1)\n",
    "     .pipe(lambda s: pd.DataFrame(c.flatten_list_of_lists(s.tolist())))\n",
    "     .sort_values('sent', ascending=False)\n",
    "     .assign(head=lambda df: df['source'].map(source_idx_head_mapper))\n",
    "     .assign(source=lambda df: df['source'].map(comp_mapper))\n",
    "    )\n",
    "\n",
    "    s_html = deepcopy(s)\n",
    "    old_s_idx = None\n",
    "    # quotes and backgrounds\n",
    "    for idx, (source_idx, sent_idx, quote_span, quote_type, head) in span_df.iterrows():\n",
    "        if old_s_idx != sent_idx:\n",
    "            adj = sum(l[:sent_idx])\n",
    "        sent, adj = c.format_span_with_word_list(adj=adj, sent=s[sent_idx], span=quote_span, bold=True)\n",
    "        s_html[sent_idx] = {\n",
    "            'sent':' '.join(sent),\n",
    "            'type': quote_type.upper(),\n",
    "            'head': head,\n",
    "            'color': cmap[source_idx],\n",
    "            'source_idx': source_idx,            \n",
    "        }\n",
    "\n",
    "    # regular\n",
    "    for s_idx, sent in enumerate(s_html):\n",
    "        if isinstance(sent, list):\n",
    "            s_html[s_idx] = {\n",
    "                'sent': ' '.join(sent), \n",
    "                'type': '',\n",
    "                'source_idx': 'null',\n",
    "            }\n",
    "    \n",
    "    for s_idx in range(len(s_html)):\n",
    "        s_html[s_idx]['sent_idx'] = s_idx\n",
    "    \n",
    "    return s_html"
   ]
  },
  {
   "cell_type": "code",
   "execution_count": 6,
   "metadata": {},
   "outputs": [],
   "source": [
    "fs = glob.glob('../resources/data/output/news-categories-newssniffer/articles-sans-headlines/*')\n",
    "all_processed = []\n",
    "for fname in fs:\n",
    "    with open(fname, 'rb') as f:\n",
    "        processed = pickle.load(f)\n",
    "        all_processed.extend(processed)"
   ]
  },
  {
   "cell_type": "code",
   "execution_count": 7,
   "metadata": {},
   "outputs": [],
   "source": [
    "processed_df = (\n",
    "    pd.DataFrame(all_processed)\n",
    "    .drop_duplicates('entry_id')\n",
    ")"
   ]
  },
  {
   "cell_type": "code",
   "execution_count": 10,
   "metadata": {},
   "outputs": [],
   "source": [
    "import os \n",
    "from tqdm.auto import tqdm\n",
    "import sqlite3\n",
    "import pandas as pd "
   ]
  },
  {
   "cell_type": "code",
   "execution_count": 14,
   "metadata": {},
   "outputs": [],
   "source": [
    "! gunzip ../../edit-pathways/data/diffengine-diffs/db/newssniffer-nytimes.db.gz"
   ]
  },
  {
   "cell_type": "code",
   "execution_count": 15,
   "metadata": {},
   "outputs": [],
   "source": [
    "db_path = '../../edit-pathways/data/diffengine-diffs/db/newssniffer-nytimes.db'\n",
    "conn = sqlite3.connect(db_path)\n",
    "orig_data_entries = pd.read_sql(\n",
    "    '''SELECT * FROM entryversion \n",
    "        WHERE entry_id IN (%s) and version = 0\n",
    "    ''' % ', '.join(processed_df['entry_id'].astype(str)), con=conn)"
   ]
  },
  {
   "cell_type": "code",
   "execution_count": 16,
   "metadata": {
    "scrolled": true
   },
   "outputs": [],
   "source": [
    "data_df = processed_df.merge(\n",
    "    orig_data_entries[['entry_id', 'version', 'title', 'created', 'url']], \n",
    "    right_on=['entry_id', 'version'], \n",
    "    left_on=['entry_id', 'version']\n",
    ")"
   ]
  },
  {
   "cell_type": "code",
   "execution_count": 55,
   "metadata": {},
   "outputs": [],
   "source": [
    "import jsonlines\n",
    "annotated_data = list(jsonlines.open('../tasks/data_split_annotated_sources.jsonl'))\n",
    "doc_id_annotated_data = []\n",
    "for a in annotated_data:\n",
    "    a['doc_id'] = int(a['data'][0]['doc_id'])\n",
    "    doc_id_annotated_data.append(a)\n",
    "annotated_data_df = pd.DataFrame(doc_id_annotated_data)"
   ]
  },
  {
   "cell_type": "code",
   "execution_count": 57,
   "metadata": {},
   "outputs": [],
   "source": [
    "data_df_with_annotated = data_df.merge(annotated_data_df, left_index=True, right_on='doc_id')"
   ]
  },
  {
   "cell_type": "code",
   "execution_count": 70,
   "metadata": {},
   "outputs": [
    {
     "name": "stderr",
     "output_type": "stream",
     "text": [
      "/var/folders/89/6dsq1ymj63x009t6wpt25f9h0000gp/T/ipykernel_10736/1188513959.py:2: UserWarning: FixedFormatter should only be used together with FixedLocator\n",
      "  ax.set_xticklabels(labels=ax.get_xticklabels(), rotation=25);\n"
     ]
    },
    {
     "data": {
      "image/png": "[encoded data removed]",
      "text/plain": [
       "<Figure size 400x200 with 1 Axes>"
      ]
     },
     "metadata": {},
     "output_type": "display_data"
    }
   ],
   "source": [
    "ax = pd.to_datetime(data_df_with_annotated['created']).hist(bins=50, figsize=(4,2))\n",
    "ax.set_xticklabels(labels=ax.get_xticklabels(), rotation=25);"
   ]
  },
  {
   "cell_type": "code",
   "execution_count": 82,
   "metadata": {},
   "outputs": [],
   "source": [
    "data_df_with_annotated[['data', 'doc_id', 'url']].to_json(\n",
    "    '../tasks/annotated_sources_with_urls.jsonl', \n",
    "    orient='records', \n",
    "    lines=True\n",
    ")"
   ]
  },
  {
   "cell_type": "code",
   "execution_count": null,
   "metadata": {},
   "outputs": [],
   "source": []
  },
  {
   "cell_type": "code",
   "execution_count": null,
   "metadata": {},
   "outputs": [],
   "source": []
  },
  {
   "cell_type": "code",
   "execution_count": null,
   "metadata": {},
   "outputs": [],
   "source": []
  },
  {
   "cell_type": "code",
   "execution_count": null,
   "metadata": {},
   "outputs": [],
   "source": []
  },
  {
   "cell_type": "code",
   "execution_count": 327,
   "metadata": {},
   "outputs": [
    {
     "data": {
      "text/html": [
       "<div>\n",
       "<style scoped>\n",
       "    .dataframe tbody tr th:only-of-type {\n",
       "        vertical-align: middle;\n",
       "    }\n",
       "\n",
       "    .dataframe tbody tr th {\n",
       "        vertical-align: top;\n",
       "    }\n",
       "\n",
       "    .dataframe thead th {\n",
       "        text-align: right;\n",
       "    }\n",
       "</style>\n",
       "<table border=\"1\" class=\"dataframe\">\n",
       "  <thead>\n",
       "    <tr style=\"text-align: right;\">\n",
       "      <th></th>\n",
       "      <th>head_span</th>\n",
       "      <th>head_s_idx</th>\n",
       "      <th>quote_chunks</th>\n",
       "      <th>background_chunks</th>\n",
       "    </tr>\n",
       "    <tr>\n",
       "      <th>head_ref</th>\n",
       "      <th></th>\n",
       "      <th></th>\n",
       "      <th></th>\n",
       "      <th></th>\n",
       "    </tr>\n",
       "  </thead>\n",
       "  <tbody>\n",
       "    <tr>\n",
       "      <th>2</th>\n",
       "      <td>(683, 685)</td>\n",
       "      <td>27</td>\n",
       "      <td>[(32, (804, 805)), (30, (756, 757))]</td>\n",
       "      <td>[(33, (809, 810)), (34, (808, 810)), (27, (683...</td>\n",
       "    </tr>\n",
       "  </tbody>\n",
       "</table>\n",
       "</div>"
      ],
      "text/plain": [
       "           head_span  head_s_idx                          quote_chunks  \\\n",
       "head_ref                                                                 \n",
       "2         (683, 685)          27  [(32, (804, 805)), (30, (756, 757))]   \n",
       "\n",
       "                                          background_chunks  \n",
       "head_ref                                                     \n",
       "2         [(33, (809, 810)), (34, (808, 810)), (27, (683...  "
      ]
     },
     "execution_count": 327,
     "metadata": {},
     "output_type": "execute_result"
    }
   ],
   "source": [
    "data_df['quote_idxes'].iloc[0].loc[lambda df: df['quote_chunks'].str.len()>0]"
   ]
  },
  {
   "cell_type": "code",
   "execution_count": 355,
   "metadata": {},
   "outputs": [
    {
     "data": {
      "text/html": [
       "<div>\n",
       "<style scoped>\n",
       "    .dataframe tbody tr th:only-of-type {\n",
       "        vertical-align: middle;\n",
       "    }\n",
       "\n",
       "    .dataframe tbody tr th {\n",
       "        vertical-align: top;\n",
       "    }\n",
       "\n",
       "    .dataframe thead th {\n",
       "        text-align: right;\n",
       "    }\n",
       "</style>\n",
       "<table border=\"1\" class=\"dataframe\">\n",
       "  <thead>\n",
       "    <tr style=\"text-align: right;\">\n",
       "      <th></th>\n",
       "      <th>entry_id</th>\n",
       "      <th>version</th>\n",
       "      <th>quote_idxes</th>\n",
       "      <th>sent_parse</th>\n",
       "      <th>label</th>\n",
       "      <th>title</th>\n",
       "      <th>created</th>\n",
       "      <th>url</th>\n",
       "    </tr>\n",
       "  </thead>\n",
       "  <tbody>\n",
       "    <tr>\n",
       "      <th>0</th>\n",
       "      <td>1940909</td>\n",
       "      <td>0</td>\n",
       "      <td>head_span  head_s_idx            ...</td>\n",
       "      <td>[[A, two, -, day, rally, in, global, stocks, l...</td>\n",
       "      <td>Labor</td>\n",
       "      <td>Asian Markets Signal End to Global Rally: Live...</td>\n",
       "      <td>2020-05-06 04:38:00+00:00</td>\n",
       "      <td>https://www.nytimes.com/2020/05/06/business/st...</td>\n",
       "    </tr>\n",
       "  </tbody>\n",
       "</table>\n",
       "</div>"
      ],
      "text/plain": [
       "   entry_id  version                                        quote_idxes  \\\n",
       "0   1940909        0               head_span  head_s_idx            ...   \n",
       "\n",
       "                                          sent_parse  label  \\\n",
       "0  [[A, two, -, day, rally, in, global, stocks, l...  Labor   \n",
       "\n",
       "                                               title  \\\n",
       "0  Asian Markets Signal End to Global Rally: Live...   \n",
       "\n",
       "                     created  \\\n",
       "0  2020-05-06 04:38:00+00:00   \n",
       "\n",
       "                                                 url  \n",
       "0  https://www.nytimes.com/2020/05/06/business/st...  "
      ]
     },
     "execution_count": 355,
     "metadata": {},
     "output_type": "execute_result"
    }
   ],
   "source": [
    "data_df.head(1)"
   ]
  },
  {
   "cell_type": "code",
   "execution_count": 30,
   "metadata": {
    "scrolled": true
   },
   "outputs": [
    {
     "data": {
      "application/vnd.jupyter.widget-view+json": {
       "model_id": "5c8d2873c7bc4c45bdba8c74d7623f2b",
       "version_major": 2,
       "version_minor": 0
      },
      "text/plain": [
       "  0%|          | 0/957 [00:00<?, ?it/s]"
      ]
     },
     "metadata": {},
     "output_type": "display_data"
    }
   ],
   "source": [
    "for idx in tqdm(range(len(data_df))):\n",
    "    q = (\n",
    "        data_df\n",
    "         .iloc[idx]['quote_idxes']\n",
    "         .loc[lambda df: df['quote_chunks'].str.len() > 0]\n",
    "        )\n",
    "    if len(q) > 0:\n",
    "        s = data_df.iloc[idx]['sent_parse']\n",
    "        s_html = generate_packet_to_annotate(q, s)\n",
    "\n",
    "        dirname = '../app/data/input_data/%s' % int(idx / 50)\n",
    "        if not os.path.exists(dirname):\n",
    "            os.makedirs(dirname)\n",
    "\n",
    "\n",
    "        output_data = {}\n",
    "        output_data['html_data'] = s_html\n",
    "        output_data['label'] = data_df.iloc[idx]['label']\n",
    "        output_data['entry_id'] = int(data_df.iloc[idx]['entry_id'])\n",
    "        output_data['version'] = int(data_df.iloc[idx]['version'])\n",
    "        output_data['url'] = data_df.iloc[idx]['url']\n",
    "        output_data['published_date'] = data_df.iloc[idx]['created']\n",
    "        output_data['headline'] = data_df.iloc[idx]['title']\n",
    "        break\n",
    "        with open(dirname + '/to-annotate-%s.json' % idx, 'w') as f:\n",
    "            json.dump(output_data, f)"
   ]
  },
  {
   "cell_type": "code",
   "execution_count": null,
   "metadata": {},
   "outputs": [],
   "source": []
  },
  {
   "cell_type": "code",
   "execution_count": null,
   "metadata": {},
   "outputs": [],
   "source": []
  },
  {
   "cell_type": "code",
   "execution_count": null,
   "metadata": {},
   "outputs": [],
   "source": []
  },
  {
   "cell_type": "code",
   "execution_count": 341,
   "metadata": {},
   "outputs": [
    {
     "data": {
      "text/plain": [
       "Elections      215\n",
       "Disaster       179\n",
       "Labor          174\n",
       "Safety         152\n",
       "Environment     78\n",
       "Name: label, dtype: int64"
      ]
     },
     "execution_count": 341,
     "metadata": {},
     "output_type": "execute_result"
    }
   ],
   "source": [
    "(data_df\n",
    " .assign(num_quotes=lambda df: df['quote_idxes'].apply(lambda df: df['quote_chunks'].loc[lambda df: df.str.len() > 0].shape[0]))\n",
    " .loc[lambda df: df['num_quotes'] > 0]\n",
    " ['label'].value_counts()\n",
    ")"
   ]
  },
  {
   "cell_type": "code",
   "execution_count": null,
   "metadata": {},
   "outputs": [],
   "source": []
  },
  {
   "cell_type": "code",
   "execution_count": null,
   "metadata": {},
   "outputs": [],
   "source": []
  },
  {
   "cell_type": "code",
   "execution_count": 261,
   "metadata": {},
   "outputs": [],
   "source": [
    "to_annotate = glob.glob('../app/data/input_data/*/*')"
   ]
  },
  {
   "cell_type": "code",
   "execution_count": 264,
   "metadata": {},
   "outputs": [],
   "source": [
    "t = sorted(list(map(lambda x: x.split('-')[-1], to_annotate)), key=lambda x: int(x.replace('.json', '')))"
   ]
  },
  {
   "cell_type": "code",
   "execution_count": null,
   "metadata": {},
   "outputs": [],
   "source": []
  },
  {
   "cell_type": "code",
   "execution_count": null,
   "metadata": {},
   "outputs": [],
   "source": []
  },
  {
   "cell_type": "code",
   "execution_count": 183,
   "metadata": {
    "scrolled": true
   },
   "outputs": [
    {
     "ename": "TypeError",
     "evalue": "sequence item 0: expected str instance, dict found",
     "output_type": "error",
     "traceback": [
      "\u001b[0;31m---------------------------------------------------------------------------\u001b[0m",
      "\u001b[0;31mTypeError\u001b[0m                                 Traceback (most recent call last)",
      "\u001b[0;32m<ipython-input-183-01c8383edfa2>\u001b[0m in \u001b[0;36m<module>\u001b[0;34m\u001b[0m\n\u001b[0;32m----> 1\u001b[0;31m \u001b[0mdisplay\u001b[0m\u001b[0;34m(\u001b[0m\u001b[0mHTML\u001b[0m\u001b[0;34m(\u001b[0m\u001b[0;34m'<br><br>'\u001b[0m\u001b[0;34m.\u001b[0m\u001b[0mjoin\u001b[0m\u001b[0;34m(\u001b[0m\u001b[0ms_html\u001b[0m\u001b[0;34m)\u001b[0m\u001b[0;34m.\u001b[0m\u001b[0mreplace\u001b[0m\u001b[0;34m(\u001b[0m\u001b[0;34m'$'\u001b[0m\u001b[0;34m,\u001b[0m \u001b[0;34m'\\$'\u001b[0m\u001b[0;34m)\u001b[0m\u001b[0;34m)\u001b[0m\u001b[0;34m)\u001b[0m\u001b[0;34m\u001b[0m\u001b[0;34m\u001b[0m\u001b[0m\n\u001b[0m",
      "\u001b[0;31mTypeError\u001b[0m: sequence item 0: expected str instance, dict found"
     ]
    }
   ],
   "source": [
    "display(HTML('<br><br>'.join(s_html).replace('$', '\\$')))"
   ]
  },
  {
   "cell_type": "markdown",
   "metadata": {},
   "source": [
    "# Examine output data"
   ]
  },
  {
   "cell_type": "code",
   "execution_count": 273,
   "metadata": {},
   "outputs": [
    {
     "name": "stdout",
     "output_type": "stream",
     "text": [
      "annotated-0.json  annotated-2.json  annotated-4.json\r\n",
      "annotated-1.json  annotated-3.json\r\n"
     ]
    }
   ],
   "source": [
    "ls ../app/data/output_data/0/"
   ]
  },
  {
   "cell_type": "code",
   "execution_count": 274,
   "metadata": {},
   "outputs": [],
   "source": [
    "with open('../app/data/output_data/0/annotated-0.json') as f:\n",
    "    t = json.load(f)"
   ]
  },
  {
   "cell_type": "code",
   "execution_count": 276,
   "metadata": {},
   "outputs": [
    {
     "data": {
      "text/plain": [
       "{'0': {'s_idx': 0,\n",
       "  'sentence': 'Great Barrier Reef Is Not ‘ in Danger ’ but',\n",
       "  'head': '',\n",
       "  'quote_type': '',\n",
       "  'error': 'No Errors',\n",
       "  'affiliation': '',\n",
       "  'role': '',\n",
       "  'role_status': '',\n",
       "  'gender': '',\n",
       "  'race': '',\n",
       "  'age': '',\n",
       "  'education': ''},\n",
       " '1': {'s_idx': 1,\n",
       "  'sentence': 'Needs Care',\n",
       "  'head': 'Needs Care',\n",
       "  'quote_type': 'BACKGROUND',\n",
       "  'error': 'No Errors',\n",
       "  'affiliation': '',\n",
       "  'role': '',\n",
       "  'role_status': '',\n",
       "  'gender': '',\n",
       "  'race': '',\n",
       "  'age': '',\n",
       "  'education': ''},\n",
       " '2': {'s_idx': 2,\n",
       "  'sentence': ', U.N. Experts Say .',\n",
       "  'head': '',\n",
       "  'quote_type': '',\n",
       "  'error': 'No Errors',\n",
       "  'affiliation': '',\n",
       "  'role': '',\n",
       "  'role_status': '',\n",
       "  'gender': '',\n",
       "  'race': '',\n",
       "  'age': '',\n",
       "  'education': ''},\n",
       " '3': {'s_idx': 3,\n",
       "  'sentence': 'SYDNEY , Australia —',\n",
       "  'head': '',\n",
       "  'quote_type': '',\n",
       "  'error': 'No Errors',\n",
       "  'affiliation': '',\n",
       "  'role': '',\n",
       "  'role_status': '',\n",
       "  'gender': '',\n",
       "  'race': '',\n",
       "  'age': '',\n",
       "  'education': ''},\n",
       " '4': {'s_idx': 4,\n",
       "  'sentence': 'Despite threats to the Great Barrier Reef from climate change and human activity , United Nations conservation experts stopped short of recommending on Friday that the reef , a World Heritage site , be classified as “ in danger .',\n",
       "  'head': '',\n",
       "  'quote_type': '',\n",
       "  'error': 'No Errors',\n",
       "  'affiliation': '',\n",
       "  'role': '',\n",
       "  'role_status': '',\n",
       "  'gender': '',\n",
       "  'race': '',\n",
       "  'age': '',\n",
       "  'education': ''},\n",
       " '5': {'s_idx': 5,\n",
       "  'sentence': '”',\n",
       "  'head': '',\n",
       "  'quote_type': '',\n",
       "  'error': 'No Errors',\n",
       "  'affiliation': '',\n",
       "  'role': '',\n",
       "  'role_status': '',\n",
       "  'gender': '',\n",
       "  'race': '',\n",
       "  'age': '',\n",
       "  'education': ''},\n",
       " '6': {'s_idx': 6,\n",
       "  'sentence': 'Even so , the overall outlook for the reef remains poor , and Australia should improve its management of it , the World Heritage Center and the International Union for Conservation of Nature said in their report .',\n",
       "  'head': '',\n",
       "  'quote_type': '',\n",
       "  'error': 'No Errors',\n",
       "  'affiliation': '',\n",
       "  'role': '',\n",
       "  'role_status': '',\n",
       "  'gender': '',\n",
       "  'race': '',\n",
       "  'age': '',\n",
       "  'education': ''},\n",
       " '7': {'s_idx': 7,\n",
       "  'sentence': 'The document cited climate change , water pollution and the impact of coastal development as major threats .',\n",
       "  'head': '',\n",
       "  'quote_type': '',\n",
       "  'error': 'No Errors',\n",
       "  'affiliation': '',\n",
       "  'role': '',\n",
       "  'role_status': '',\n",
       "  'gender': '',\n",
       "  'race': '',\n",
       "  'age': '',\n",
       "  'education': ''},\n",
       " '8': {'s_idx': 8,\n",
       "  'sentence': 'In particular , scientists and conservationists have sharply criticized plans to expand the Abbot Point coal - loading port in Queensland , which would involve the dumping of dredge spoils in waters near the reef , which includes 1,050 islands and stretches along almost the entire eastern coast of Queensland .',\n",
       "  'head': '',\n",
       "  'quote_type': '',\n",
       "  'error': 'No Errors',\n",
       "  'affiliation': '',\n",
       "  'role': '',\n",
       "  'role_status': '',\n",
       "  'gender': '',\n",
       "  'race': '',\n",
       "  'age': '',\n",
       "  'education': ''},\n",
       " '9': {'s_idx': 9,\n",
       "  'sentence': 'The experts ’ recommendation , published in Paris , now goes to a vote by the World Heritage Committee , which includes representatives of 21 countries and is scheduled to meet next month in Bonn , Germany .',\n",
       "  'head': '',\n",
       "  'quote_type': '',\n",
       "  'error': 'No Errors',\n",
       "  'affiliation': '',\n",
       "  'role': '',\n",
       "  'role_status': '',\n",
       "  'gender': '',\n",
       "  'race': '',\n",
       "  'age': '',\n",
       "  'education': ''},\n",
       " '10': {'s_idx': 10,\n",
       "  'sentence': 'Greg Hunt , the Australian environment minister , said on Friday that the government was committed to a 35-year plan to restore the reef to good health , a fact noted in the recommendation .',\n",
       "  'head': 'Greg Hunt',\n",
       "  'quote_type': 'QUOTE',\n",
       "  'error': 'No Errors',\n",
       "  'affiliation': '',\n",
       "  'role': '',\n",
       "  'role_status': '',\n",
       "  'gender': '',\n",
       "  'race': '',\n",
       "  'age': '',\n",
       "  'education': ''},\n",
       " '11': {'s_idx': 11,\n",
       "  'sentence': '“',\n",
       "  'head': 'Greg Hunt',\n",
       "  'quote_type': 'QUOTE',\n",
       "  'error': 'No Errors',\n",
       "  'affiliation': 'Government',\n",
       "  'role': 'Decision Maker',\n",
       "  'role_status': 'Current',\n",
       "  'gender': 'Male',\n",
       "  'race': 'White',\n",
       "  'age': '50',\n",
       "  'education': 'Yale'},\n",
       " '12': {'s_idx': 12,\n",
       "  'sentence': 'We have listened intently and responded directly to the concerns from the Australian community , the World Heritage Committee and their technical advisers , ” Mr. Hunt said in a statement .',\n",
       "  'head': 'Greg Hunt',\n",
       "  'quote_type': 'QUOTE',\n",
       "  'error': 'No Errors',\n",
       "  'affiliation': '',\n",
       "  'role': '',\n",
       "  'role_status': '',\n",
       "  'gender': '',\n",
       "  'race': '',\n",
       "  'age': '',\n",
       "  'education': ''},\n",
       " '13': {'s_idx': 13,\n",
       "  'sentence': 'He said the national government and the state of Queensland should invest about $ 1.5 billion in the reef over the next decade .',\n",
       "  'head': 'Greg Hunt',\n",
       "  'quote_type': 'QUOTE',\n",
       "  'error': 'No Errors',\n",
       "  'affiliation': '',\n",
       "  'role': '',\n",
       "  'role_status': '',\n",
       "  'gender': '',\n",
       "  'race': '',\n",
       "  'age': '',\n",
       "  'education': ''},\n",
       " '14': {'s_idx': 14,\n",
       "  'sentence': 'But conservationists have criticized the government of Prime Minister Tony Abbott for supporting the expansion of the port and the Galilee Basin coal mines that use it .',\n",
       "  'head': 'Tony Abbott',\n",
       "  'quote_type': 'BACKGROUND',\n",
       "  'error': 'No Errors',\n",
       "  'affiliation': 'Government',\n",
       "  'role': 'Decision Maker',\n",
       "  'role_status': 'Current',\n",
       "  'gender': 'Male',\n",
       "  'race': 'White',\n",
       "  'age': '50',\n",
       "  'education': 'White'},\n",
       " '15': {'s_idx': 15,\n",
       "  'sentence': 'Under pressure from environmentalists , Mr. Hunt has said the government will permanently ban the dumping of dredge spoils from new port projects in the Great Barrier Reef Marine Park .',\n",
       "  'head': 'Greg Hunt',\n",
       "  'quote_type': 'QUOTE',\n",
       "  'error': 'No Errors',\n",
       "  'affiliation': '',\n",
       "  'role': '',\n",
       "  'role_status': '',\n",
       "  'gender': '',\n",
       "  'race': '',\n",
       "  'age': '',\n",
       "  'education': ''},\n",
       " '16': {'s_idx': 16,\n",
       "  'sentence': 'But the ban would not cover dredging to maintain the depth of existing shipping channels and ports , which could still dump more than a million tons of sludge a year in reef waters , according to Jon C. Day , who was a director at the Great Barrier Reef Marine Park Authority from 1998 to 2014 .',\n",
       "  'head': 'Jon C. Day',\n",
       "  'quote_type': 'QUOTE',\n",
       "  'error': 'Is tagged background, should be tagged \"quote\".',\n",
       "  'affiliation': 'Government',\n",
       "  'role': 'Decision Maker',\n",
       "  'role_status': 'Former',\n",
       "  'gender': 'Male',\n",
       "  'race': 'White',\n",
       "  'age': '50',\n",
       "  'education': ''},\n",
       " '17': {'s_idx': 17,\n",
       "  'sentence': 'WWF - Australia , an environmental advocacy group , said in a statement that the United Nations was placing Australia on probation .',\n",
       "  'head': '',\n",
       "  'quote_type': '',\n",
       "  'error': 'No Errors',\n",
       "  'affiliation': '',\n",
       "  'role': '',\n",
       "  'role_status': '',\n",
       "  'gender': '',\n",
       "  'race': '',\n",
       "  'age': '',\n",
       "  'education': ''},\n",
       " '18': {'s_idx': 18,\n",
       "  'sentence': '“',\n",
       "  'head': '',\n",
       "  'quote_type': '',\n",
       "  'error': 'No Errors',\n",
       "  'affiliation': '',\n",
       "  'role': '',\n",
       "  'role_status': '',\n",
       "  'gender': '',\n",
       "  'race': '',\n",
       "  'age': '',\n",
       "  'education': ''},\n",
       " '19': {'s_idx': 19,\n",
       "  'sentence': 'The draft decision acknowledges progress , but keeps the pressure on the Australian government to turn their commitments into real actions and results , or find themselves having to explain to the World Heritage Committee in 2017 why they ’ve failed to meet their commitments , ” the statement said .',\n",
       "  'head': '',\n",
       "  'quote_type': '',\n",
       "  'error': 'No Errors',\n",
       "  'affiliation': '',\n",
       "  'role': '',\n",
       "  'role_status': '',\n",
       "  'gender': '',\n",
       "  'race': '',\n",
       "  'age': '',\n",
       "  'education': ''},\n",
       " '20': {'s_idx': 20,\n",
       "  'sentence': 'The group said the government had not allocated enough money to the reef protection plan .',\n",
       "  'head': '',\n",
       "  'quote_type': '',\n",
       "  'error': 'No Errors',\n",
       "  'affiliation': '',\n",
       "  'role': '',\n",
       "  'role_status': '',\n",
       "  'gender': '',\n",
       "  'race': '',\n",
       "  'age': '',\n",
       "  'education': ''},\n",
       " 'input_fname': '../app/data/input_data/0/to-annotate-0.json',\n",
       " 'end_time': 1645601467.9171698}"
      ]
     },
     "execution_count": 276,
     "metadata": {},
     "output_type": "execute_result"
    }
   ],
   "source": [
    "t"
   ]
  },
  {
   "cell_type": "code",
   "execution_count": null,
   "metadata": {},
   "outputs": [],
   "source": []
  },
  {
   "cell_type": "code",
   "execution_count": null,
   "metadata": {},
   "outputs": [],
   "source": []
  },
  {
   "cell_type": "code",
   "execution_count": 275,
   "metadata": {},
   "outputs": [
    {
     "data": {
      "text/plain": [
       "'1645601382.208365'"
      ]
     },
     "execution_count": 275,
     "metadata": {},
     "output_type": "execute_result"
    }
   ],
   "source": [
    "t.pop('start_time', '')"
   ]
  },
  {
   "cell_type": "code",
   "execution_count": 211,
   "metadata": {},
   "outputs": [],
   "source": [
    "sorted_keys = sorted(t.keys(), key=lambda x: int(x))"
   ]
  },
  {
   "cell_type": "code",
   "execution_count": 214,
   "metadata": {},
   "outputs": [],
   "source": [
    "t_list = list(map(lambda k: t[k], sorted_keys))"
   ]
  },
  {
   "cell_type": "code",
   "execution_count": 219,
   "metadata": {},
   "outputs": [
    {
     "data": {
      "text/html": [
       "<div>\n",
       "<style scoped>\n",
       "    .dataframe tbody tr th:only-of-type {\n",
       "        vertical-align: middle;\n",
       "    }\n",
       "\n",
       "    .dataframe tbody tr th {\n",
       "        vertical-align: top;\n",
       "    }\n",
       "\n",
       "    .dataframe thead th {\n",
       "        text-align: right;\n",
       "    }\n",
       "</style>\n",
       "<table border=\"1\" class=\"dataframe\">\n",
       "  <thead>\n",
       "    <tr style=\"text-align: right;\">\n",
       "      <th></th>\n",
       "      <th>s_idx</th>\n",
       "      <th>sentence</th>\n",
       "      <th>head</th>\n",
       "      <th>quote_type</th>\n",
       "      <th>error</th>\n",
       "      <th>affiliation</th>\n",
       "      <th>role</th>\n",
       "      <th>gender</th>\n",
       "      <th>race</th>\n",
       "      <th>age</th>\n",
       "      <th>education</th>\n",
       "    </tr>\n",
       "  </thead>\n",
       "  <tbody>\n",
       "    <tr>\n",
       "      <th>0</th>\n",
       "      <td>0</td>\n",
       "      <td>SANTIAGO , Chile —</td>\n",
       "      <td></td>\n",
       "      <td></td>\n",
       "      <td>No Errors</td>\n",
       "      <td></td>\n",
       "      <td></td>\n",
       "      <td></td>\n",
       "      <td></td>\n",
       "      <td></td>\n",
       "      <td></td>\n",
       "    </tr>\n",
       "    <tr>\n",
       "      <th>1</th>\n",
       "      <td>1</td>\n",
       "      <td>They appear at the student demonstrations that...</td>\n",
       "      <td></td>\n",
       "      <td></td>\n",
       "      <td>No Errors</td>\n",
       "      <td></td>\n",
       "      <td></td>\n",
       "      <td></td>\n",
       "      <td></td>\n",
       "      <td></td>\n",
       "      <td></td>\n",
       "    </tr>\n",
       "    <tr>\n",
       "      <th>2</th>\n",
       "      <td>2</td>\n",
       "      <td>They are not there to join the protests or int...</td>\n",
       "      <td></td>\n",
       "      <td></td>\n",
       "      <td>No Errors</td>\n",
       "      <td></td>\n",
       "      <td></td>\n",
       "      <td></td>\n",
       "      <td></td>\n",
       "      <td></td>\n",
       "      <td></td>\n",
       "    </tr>\n",
       "    <tr>\n",
       "      <th>3</th>\n",
       "      <td>3</td>\n",
       "      <td>This month , they are busier than ever .</td>\n",
       "      <td></td>\n",
       "      <td></td>\n",
       "      <td>No Errors</td>\n",
       "      <td></td>\n",
       "      <td></td>\n",
       "      <td></td>\n",
       "      <td></td>\n",
       "      <td></td>\n",
       "      <td></td>\n",
       "    </tr>\n",
       "    <tr>\n",
       "      <th>4</th>\n",
       "      <td>4</td>\n",
       "      <td>The volunteer observers , known as “ helmets ,...</td>\n",
       "      <td></td>\n",
       "      <td></td>\n",
       "      <td>No Errors</td>\n",
       "      <td></td>\n",
       "      <td></td>\n",
       "      <td></td>\n",
       "      <td></td>\n",
       "      <td></td>\n",
       "      <td></td>\n",
       "    </tr>\n",
       "  </tbody>\n",
       "</table>\n",
       "</div>"
      ],
      "text/plain": [
       "   s_idx                                           sentence head quote_type  \\\n",
       "0      0                                 SANTIAGO , Chile —                   \n",
       "1      1  They appear at the student demonstrations that...                   \n",
       "2      2  They are not there to join the protests or int...                   \n",
       "3      3           This month , they are busier than ever .                   \n",
       "4      4  The volunteer observers , known as “ helmets ,...                   \n",
       "\n",
       "       error affiliation role gender race age education  \n",
       "0  No Errors                                             \n",
       "1  No Errors                                             \n",
       "2  No Errors                                             \n",
       "3  No Errors                                             \n",
       "4  No Errors                                             "
      ]
     },
     "execution_count": 219,
     "metadata": {},
     "output_type": "execute_result"
    }
   ],
   "source": [
    "t_df = pd.DataFrame(t_list)\n",
    "t_df.head()"
   ]
  },
  {
   "cell_type": "code",
   "execution_count": 223,
   "metadata": {},
   "outputs": [
    {
     "data": {
      "text/html": [
       "<div>\n",
       "<style scoped>\n",
       "    .dataframe tbody tr th:only-of-type {\n",
       "        vertical-align: middle;\n",
       "    }\n",
       "\n",
       "    .dataframe tbody tr th {\n",
       "        vertical-align: top;\n",
       "    }\n",
       "\n",
       "    .dataframe thead th {\n",
       "        text-align: right;\n",
       "    }\n",
       "</style>\n",
       "<table border=\"1\" class=\"dataframe\">\n",
       "  <thead>\n",
       "    <tr style=\"text-align: right;\">\n",
       "      <th></th>\n",
       "      <th>affiliation</th>\n",
       "      <th>role</th>\n",
       "      <th>gender</th>\n",
       "      <th>race</th>\n",
       "      <th>age</th>\n",
       "      <th>education</th>\n",
       "    </tr>\n",
       "    <tr>\n",
       "      <th>head</th>\n",
       "      <th></th>\n",
       "      <th></th>\n",
       "      <th></th>\n",
       "      <th></th>\n",
       "      <th></th>\n",
       "      <th></th>\n",
       "    </tr>\n",
       "  </thead>\n",
       "  <tbody>\n",
       "    <tr>\n",
       "      <th></th>\n",
       "      <td>[]</td>\n",
       "      <td>[]</td>\n",
       "      <td>[]</td>\n",
       "      <td>[]</td>\n",
       "      <td>[]</td>\n",
       "      <td>[]</td>\n",
       "    </tr>\n",
       "    <tr>\n",
       "      <th>Germán Chau</th>\n",
       "      <td>[NGO]</td>\n",
       "      <td>[Decision Maker]</td>\n",
       "      <td>[]</td>\n",
       "      <td>[]</td>\n",
       "      <td>[66]</td>\n",
       "      <td>[]</td>\n",
       "    </tr>\n",
       "    <tr>\n",
       "      <th>Luis Parra</th>\n",
       "      <td>[, NGO]</td>\n",
       "      <td>[, Decision Maker]</td>\n",
       "      <td>[, Male]</td>\n",
       "      <td>[, Latinx]</td>\n",
       "      <td>[, 56]</td>\n",
       "      <td>[Law, ]</td>\n",
       "    </tr>\n",
       "    <tr>\n",
       "      <th>Marta Cisterna</th>\n",
       "      <td>[, NGO]</td>\n",
       "      <td>[, Informational]</td>\n",
       "      <td>[, Female]</td>\n",
       "      <td>[, Latinx]</td>\n",
       "      <td>[, 45]</td>\n",
       "      <td>[]</td>\n",
       "    </tr>\n",
       "    <tr>\n",
       "      <th>Matías Sotelo</th>\n",
       "      <td>[, NGO]</td>\n",
       "      <td>[, Decision Maker]</td>\n",
       "      <td>[, Male]</td>\n",
       "      <td>[, Latinx]</td>\n",
       "      <td>[, 23]</td>\n",
       "      <td>[, MD]</td>\n",
       "    </tr>\n",
       "  </tbody>\n",
       "</table>\n",
       "</div>"
      ],
      "text/plain": [
       "               affiliation                role      gender        race  \\\n",
       "head                                                                     \n",
       "                        []                  []          []          []   \n",
       "Germán Chau          [NGO]    [Decision Maker]          []          []   \n",
       "Luis Parra         [, NGO]  [, Decision Maker]    [, Male]  [, Latinx]   \n",
       "Marta Cisterna     [, NGO]   [, Informational]  [, Female]  [, Latinx]   \n",
       "Matías Sotelo      [, NGO]  [, Decision Maker]    [, Male]  [, Latinx]   \n",
       "\n",
       "                   age education  \n",
       "head                              \n",
       "                    []        []  \n",
       "Germán Chau       [66]        []  \n",
       "Luis Parra      [, 56]   [Law, ]  \n",
       "Marta Cisterna  [, 45]        []  \n",
       "Matías Sotelo   [, 23]    [, MD]  "
      ]
     },
     "execution_count": 223,
     "metadata": {},
     "output_type": "execute_result"
    }
   ],
   "source": [
    "(t_df\n",
    " .groupby('head')\n",
    " [['affiliation', 'role', 'gender', 'race', 'age', 'education']]\n",
    " .aggregate(list)\n",
    " .applymap(lambda x: list(set(x)))\n",
    ")"
   ]
  },
  {
   "cell_type": "code",
   "execution_count": null,
   "metadata": {},
   "outputs": [],
   "source": []
  },
  {
   "cell_type": "code",
   "execution_count": null,
   "metadata": {},
   "outputs": [],
   "source": []
  },
  {
   "cell_type": "code",
   "execution_count": null,
   "metadata": {},
   "outputs": [],
   "source": []
  },
  {
   "cell_type": "code",
   "execution_count": null,
   "metadata": {},
   "outputs": [],
   "source": []
  },
  {
   "cell_type": "code",
   "execution_count": null,
   "metadata": {},
   "outputs": [],
   "source": []
  },
  {
   "cell_type": "code",
   "execution_count": 87,
   "metadata": {},
   "outputs": [
    {
     "data": {
      "text/plain": [
       "538"
      ]
     },
     "execution_count": 87,
     "metadata": {},
     "output_type": "execute_result"
    }
   ],
   "source": [
    "len(orig_speaking_lexicon + polinear_speaking_lexicon + multiword_phrases_past_tense + multiword_phrases_present_tense)"
   ]
  },
  {
   "cell_type": "code",
   "execution_count": 89,
   "metadata": {},
   "outputs": [
    {
     "data": {
      "text/plain": [
       "300"
      ]
     },
     "execution_count": 89,
     "metadata": {},
     "output_type": "execute_result"
    }
   ],
   "source": [
    "len(desired_checklist_of_anonymous_sources + desired_checklist_of_documents)"
   ]
  },
  {
   "cell_type": "code",
   "execution_count": null,
   "metadata": {},
   "outputs": [],
   "source": []
  }
 ],
 "metadata": {
  "hide_input": false,
  "kernelspec": {
   "display_name": "Python 3 (ipykernel)",
   "language": "python",
   "name": "python3"
  },
  "language_info": {
   "codemirror_mode": {
    "name": "ipython",
    "version": 3
   },
   "file_extension": ".py",
   "mimetype": "text/x-python",
   "name": "python",
   "nbconvert_exporter": "python",
   "pygments_lexer": "ipython3",
   "version": "3.10.9"
  }
 },
 "nbformat": 4,
 "nbformat_minor": 4
}
