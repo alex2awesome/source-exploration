{
 "cells": [
  {
   "cell_type": "code",
   "execution_count": 22,
   "metadata": {},
   "outputs": [],
   "source": [
    "import pandas as pd \n",
    "import glob\n",
    "from tqdm.auto import tqdm\n",
    "import ast"
   ]
  },
  {
   "cell_type": "code",
   "execution_count": 184,
   "metadata": {},
   "outputs": [
    {
     "data": {
      "application/vnd.jupyter.widget-view+json": {
       "model_id": "80932e2a40cd475f998455eae9bc4a59",
       "version_major": 2,
       "version_minor": 0
      },
      "text/plain": [
       "  0%|          | 0/21 [00:00<?, ?it/s]"
      ]
     },
     "metadata": {},
     "output_type": "display_data"
    },
    {
     "name": "stderr",
     "output_type": "stream",
     "text": [
      "/Users/alex/opt/anaconda3/lib/python3.7/site-packages/IPython/core/interactiveshell.py:3331: DtypeWarning: Columns (16,17) have mixed types.Specify dtype option on import or set low_memory=False.\n",
      "  exec(code_obj, self.user_global_ns, self.user_ns)\n",
      "/Users/alex/opt/anaconda3/lib/python3.7/site-packages/IPython/core/interactiveshell.py:3331: DtypeWarning: Columns (19) have mixed types.Specify dtype option on import or set low_memory=False.\n",
      "  exec(code_obj, self.user_global_ns, self.user_ns)\n",
      "/Users/alex/opt/anaconda3/lib/python3.7/site-packages/IPython/core/interactiveshell.py:3331: DtypeWarning: Columns (18) have mixed types.Specify dtype option on import or set low_memory=False.\n",
      "  exec(code_obj, self.user_global_ns, self.user_ns)\n"
     ]
    }
   ],
   "source": [
    "nyt_annot_dfs = []\n",
    "for f in tqdm(glob.glob('../data/nyt_corpus/csvs/*')):\n",
    "    df = pd.read_csv(f, index_col=0)\n",
    "    df['body'] = df['body'].apply(ast.literal_eval)\n",
    "    df['classification'] = df['classification'].apply(ast.literal_eval)\n",
    "    nyt_annot_dfs.append(df)"
   ]
  },
  {
   "cell_type": "code",
   "execution_count": 185,
   "metadata": {},
   "outputs": [],
   "source": [
    "nyt_annot_df = pd.concat(nyt_annot_dfs).reset_index(drop=True)\n",
    "classification_list = nyt_annot_df['classification'].tolist()\n",
    "classification_df = pd.DataFrame(classification_list)"
   ]
  },
  {
   "cell_type": "code",
   "execution_count": 186,
   "metadata": {},
   "outputs": [],
   "source": [
    "nyt_annot_df = pd.concat([nyt_annot_df, classification_df], axis=1)"
   ]
  },
  {
   "cell_type": "markdown",
   "metadata": {},
   "source": [
    "# Explore Topics"
   ]
  },
  {
   "cell_type": "markdown",
   "metadata": {},
   "source": [
    "* Crime\n",
    "* Disaster\n",
    "* Local Politics\n",
    "* Business"
   ]
  },
  {
   "cell_type": "markdown",
   "metadata": {},
   "source": [
    "### crime"
   ]
  },
  {
   "cell_type": "code",
   "execution_count": 39,
   "metadata": {},
   "outputs": [
    {
     "data": {
      "text/plain": [
       "indexing_service.descriptor                 2593\n",
       "online_producer.types_of_material              0\n",
       "online_producer.taxonomic_classifier           0\n",
       "online_producer.general_descriptor          7622\n",
       "indexing_service.biographical_categories      15\n",
       "indexing_service.names                         0\n",
       "online_producer.descriptor                   905\n",
       "dtype: int64"
      ]
     },
     "execution_count": 39,
     "metadata": {},
     "output_type": "execute_result"
    }
   ],
   "source": [
    "(classification_df\n",
    " .fillna('')\n",
    " .applymap(lambda x: 'crime' in x.lower())\n",
    " .sum()\n",
    ")"
   ]
  },
  {
   "cell_type": "code",
   "execution_count": 71,
   "metadata": {
    "scrolled": true
   },
   "outputs": [
    {
     "data": {
      "text/html": [
       "<div>\n",
       "<style scoped>\n",
       "    .dataframe tbody tr th:only-of-type {\n",
       "        vertical-align: middle;\n",
       "    }\n",
       "\n",
       "    .dataframe tbody tr th {\n",
       "        vertical-align: top;\n",
       "    }\n",
       "\n",
       "    .dataframe thead th {\n",
       "        text-align: right;\n",
       "    }\n",
       "</style>\n",
       "<table border=\"1\" class=\"dataframe\">\n",
       "  <thead>\n",
       "    <tr style=\"text-align: right;\">\n",
       "      <th></th>\n",
       "      <th>indexing_service.descriptor</th>\n",
       "      <th>online_producer.types_of_material</th>\n",
       "      <th>online_producer.taxonomic_classifier</th>\n",
       "      <th>online_producer.general_descriptor</th>\n",
       "      <th>indexing_service.biographical_categories</th>\n",
       "      <th>indexing_service.names</th>\n",
       "      <th>online_producer.descriptor</th>\n",
       "    </tr>\n",
       "  </thead>\n",
       "  <tbody>\n",
       "    <tr>\n",
       "      <th>241</th>\n",
       "      <td>WIRETAPPING AND OTHER EAVESDROPPING DEVICES AN...</td>\n",
       "      <td>NaN</td>\n",
       "      <td>Top/Features/Travel/Guides/Destinations/North ...</td>\n",
       "      <td>Crime and Criminals</td>\n",
       "      <td>NaN</td>\n",
       "      <td>NaN</td>\n",
       "      <td>NaN</td>\n",
       "    </tr>\n",
       "    <tr>\n",
       "      <th>273</th>\n",
       "      <td>ORGANIZED CRIME</td>\n",
       "      <td>NaN</td>\n",
       "      <td>Top/Features/Travel/Guides/Destinations/North ...</td>\n",
       "      <td>Crime and Criminals</td>\n",
       "      <td>NaN</td>\n",
       "      <td>NaN</td>\n",
       "      <td>NaN</td>\n",
       "    </tr>\n",
       "    <tr>\n",
       "      <th>505</th>\n",
       "      <td>RACKETEERING AND RACKETEERS</td>\n",
       "      <td>NaN</td>\n",
       "      <td>Top/Features/Travel/Guides/Destinations/North ...</td>\n",
       "      <td>Crime and Criminals</td>\n",
       "      <td>NaN</td>\n",
       "      <td>NaN</td>\n",
       "      <td>NaN</td>\n",
       "    </tr>\n",
       "    <tr>\n",
       "      <th>833</th>\n",
       "      <td>BLACKS (IN US)</td>\n",
       "      <td>NaN</td>\n",
       "      <td>Top/News</td>\n",
       "      <td>Crime and Criminals</td>\n",
       "      <td>NaN</td>\n",
       "      <td>NaN</td>\n",
       "      <td>NaN</td>\n",
       "    </tr>\n",
       "    <tr>\n",
       "      <th>840</th>\n",
       "      <td>PERJURY</td>\n",
       "      <td>NaN</td>\n",
       "      <td>Top/News/New York and Region</td>\n",
       "      <td>Crime and Criminals</td>\n",
       "      <td>NaN</td>\n",
       "      <td>NaN</td>\n",
       "      <td>NaN</td>\n",
       "    </tr>\n",
       "    <tr>\n",
       "      <th>...</th>\n",
       "      <td>...</td>\n",
       "      <td>...</td>\n",
       "      <td>...</td>\n",
       "      <td>...</td>\n",
       "      <td>...</td>\n",
       "      <td>...</td>\n",
       "      <td>...</td>\n",
       "    </tr>\n",
       "    <tr>\n",
       "      <th>818162</th>\n",
       "      <td>ORGANIZED CRIME</td>\n",
       "      <td>Obituary</td>\n",
       "      <td>Top/News/Obituaries</td>\n",
       "      <td>Crime and Criminals</td>\n",
       "      <td>NaN</td>\n",
       "      <td>NaN</td>\n",
       "      <td>NaN</td>\n",
       "    </tr>\n",
       "    <tr>\n",
       "      <th>818342</th>\n",
       "      <td>FALSE ARRESTS, CONVICTIONS AND IMPRISONMENTS</td>\n",
       "      <td>NaN</td>\n",
       "      <td>Top/Features/Travel/Guides/Destinations/North ...</td>\n",
       "      <td>Crime and Criminals</td>\n",
       "      <td>NaN</td>\n",
       "      <td>NaN</td>\n",
       "      <td>NaN</td>\n",
       "    </tr>\n",
       "    <tr>\n",
       "      <th>818428</th>\n",
       "      <td>TRESPASS</td>\n",
       "      <td>NaN</td>\n",
       "      <td>Top/Features/Travel/Guides/Destinations/North ...</td>\n",
       "      <td>Crime and Criminals</td>\n",
       "      <td>NaN</td>\n",
       "      <td>NaN</td>\n",
       "      <td>NaN</td>\n",
       "    </tr>\n",
       "    <tr>\n",
       "      <th>818823</th>\n",
       "      <td>MONEY LAUNDERING</td>\n",
       "      <td>NaN</td>\n",
       "      <td>Top/News/Front Page</td>\n",
       "      <td>Crime and Criminals</td>\n",
       "      <td>NaN</td>\n",
       "      <td>NaN</td>\n",
       "      <td>NaN</td>\n",
       "    </tr>\n",
       "    <tr>\n",
       "      <th>818975</th>\n",
       "      <td>ORGANIZED CRIME</td>\n",
       "      <td>Editorial</td>\n",
       "      <td>Top/Opinion/Opinion/Editorials</td>\n",
       "      <td>Crime and Criminals</td>\n",
       "      <td>NaN</td>\n",
       "      <td>NaN</td>\n",
       "      <td>NaN</td>\n",
       "    </tr>\n",
       "  </tbody>\n",
       "</table>\n",
       "<p>7622 rows × 7 columns</p>\n",
       "</div>"
      ],
      "text/plain": [
       "                              indexing_service.descriptor  \\\n",
       "241     WIRETAPPING AND OTHER EAVESDROPPING DEVICES AN...   \n",
       "273                                       ORGANIZED CRIME   \n",
       "505                           RACKETEERING AND RACKETEERS   \n",
       "833                                        BLACKS (IN US)   \n",
       "840                                               PERJURY   \n",
       "...                                                   ...   \n",
       "818162                                    ORGANIZED CRIME   \n",
       "818342       FALSE ARRESTS, CONVICTIONS AND IMPRISONMENTS   \n",
       "818428                                           TRESPASS   \n",
       "818823                                   MONEY LAUNDERING   \n",
       "818975                                    ORGANIZED CRIME   \n",
       "\n",
       "       online_producer.types_of_material  \\\n",
       "241                                  NaN   \n",
       "273                                  NaN   \n",
       "505                                  NaN   \n",
       "833                                  NaN   \n",
       "840                                  NaN   \n",
       "...                                  ...   \n",
       "818162                          Obituary   \n",
       "818342                               NaN   \n",
       "818428                               NaN   \n",
       "818823                               NaN   \n",
       "818975                         Editorial   \n",
       "\n",
       "                     online_producer.taxonomic_classifier  \\\n",
       "241     Top/Features/Travel/Guides/Destinations/North ...   \n",
       "273     Top/Features/Travel/Guides/Destinations/North ...   \n",
       "505     Top/Features/Travel/Guides/Destinations/North ...   \n",
       "833                                              Top/News   \n",
       "840                          Top/News/New York and Region   \n",
       "...                                                   ...   \n",
       "818162                                Top/News/Obituaries   \n",
       "818342  Top/Features/Travel/Guides/Destinations/North ...   \n",
       "818428  Top/Features/Travel/Guides/Destinations/North ...   \n",
       "818823                                Top/News/Front Page   \n",
       "818975                     Top/Opinion/Opinion/Editorials   \n",
       "\n",
       "       online_producer.general_descriptor  \\\n",
       "241                   Crime and Criminals   \n",
       "273                   Crime and Criminals   \n",
       "505                   Crime and Criminals   \n",
       "833                   Crime and Criminals   \n",
       "840                   Crime and Criminals   \n",
       "...                                   ...   \n",
       "818162                Crime and Criminals   \n",
       "818342                Crime and Criminals   \n",
       "818428                Crime and Criminals   \n",
       "818823                Crime and Criminals   \n",
       "818975                Crime and Criminals   \n",
       "\n",
       "       indexing_service.biographical_categories indexing_service.names  \\\n",
       "241                                         NaN                    NaN   \n",
       "273                                         NaN                    NaN   \n",
       "505                                         NaN                    NaN   \n",
       "833                                         NaN                    NaN   \n",
       "840                                         NaN                    NaN   \n",
       "...                                         ...                    ...   \n",
       "818162                                      NaN                    NaN   \n",
       "818342                                      NaN                    NaN   \n",
       "818428                                      NaN                    NaN   \n",
       "818823                                      NaN                    NaN   \n",
       "818975                                      NaN                    NaN   \n",
       "\n",
       "       online_producer.descriptor  \n",
       "241                           NaN  \n",
       "273                           NaN  \n",
       "505                           NaN  \n",
       "833                           NaN  \n",
       "840                           NaN  \n",
       "...                           ...  \n",
       "818162                        NaN  \n",
       "818342                        NaN  \n",
       "818428                        NaN  \n",
       "818823                        NaN  \n",
       "818975                        NaN  \n",
       "\n",
       "[7622 rows x 7 columns]"
      ]
     },
     "execution_count": 71,
     "metadata": {},
     "output_type": "execute_result"
    }
   ],
   "source": [
    "(classification_df\n",
    " .loc[lambda df: df['online_producer.general_descriptor'].str.lower().str.contains('crime') == True]\n",
    ")"
   ]
  },
  {
   "cell_type": "code",
   "execution_count": 74,
   "metadata": {
    "scrolled": true
   },
   "outputs": [
    {
     "data": {
      "text/plain": [
       "[\"LEAD: A racial hazing incident at The Citadel, the military academy here, inflicted ''no harm or damage whatsover'' on the black cadet involved, one of the five white cadets in the case contends in court papers.\",\n",
       " \"A racial hazing incident at The Citadel, the military academy here, inflicted ''no harm or damage whatsover'' on the black cadet involved, one of the five white cadets in the case contends in court papers.\",\n",
       " 'The papers, filed Thursday in Federal District Court here by a cadet, Paul L. Koss of Leesburg, Fla., constitute the first formal response to a lawsuit filed in December by the black cadet, Kevin L. Nesmith, against the five white cadets and officials of The Citadel.',\n",
       " \"Mr. Nesmith charged that school officials allowed or encouraged ''overt racial bigotry'' resulting in violations of his constitutional rights. Mr. Nesmith, represented by the National Association for the Advancement of Colored People, is seeking $880,000 in damages.\",\n",
       " \"His suit says that Mr. Koss and four other chanting cadets entered Mr. Nesmith's room at The Citadel Oct. 23 in Ku Klux Klan-like attire and left behind a burned paper cross. says.\",\n",
       " 'Mr. Nesmith charges that he was later harassed and intimidated for seeking the expulsion of the white cadets. He resigned from the state-supported school Nov. 13. Mr. Koss is seeking unspecified monetary damages from Mr. Nesmith, charging that he filed an improper suit.']"
      ]
     },
     "execution_count": 74,
     "metadata": {},
     "output_type": "execute_result"
    }
   ],
   "source": [
    "nyt_annot_df.loc[833]['body']"
   ]
  },
  {
   "cell_type": "markdown",
   "metadata": {},
   "source": [
    "### disaster"
   ]
  },
  {
   "cell_type": "code",
   "execution_count": null,
   "metadata": {},
   "outputs": [],
   "source": [
    "# https://www.samhsa.gov/find-help/disaster-distress-helpline/disaster-types"
   ]
  },
  {
   "cell_type": "code",
   "execution_count": 95,
   "metadata": {},
   "outputs": [
    {
     "data": {
      "text/plain": [
       "indexing_service.descriptor                 3514\n",
       "online_producer.types_of_material              3\n",
       "online_producer.taxonomic_classifier          34\n",
       "online_producer.general_descriptor          3209\n",
       "indexing_service.biographical_categories       0\n",
       "indexing_service.names                         0\n",
       "online_producer.descriptor                   545\n",
       "dtype: int64"
      ]
     },
     "execution_count": 95,
     "metadata": {},
     "output_type": "execute_result"
    }
   ],
   "source": [
    "disaster_list = ['hurricane', 'earthquake', 'fire', 'flood', 'storm', 'tornado', 'drought']\n",
    "\n",
    "(classification_df\n",
    " .fillna('')\n",
    " .applymap(lambda x:  any(map(lambda y: y in x.lower(), disaster_list)))\n",
    " .sum()\n",
    ")"
   ]
  },
  {
   "cell_type": "code",
   "execution_count": 109,
   "metadata": {},
   "outputs": [],
   "source": [
    "disaster_df = (\n",
    "    nyt_annot_df\n",
    "    .loc[lambda df: df['indexing_service.descriptor'].str.lower().str.contains('|'.join(disaster_list), regex=True) == True]\n",
    ")"
   ]
  },
  {
   "cell_type": "code",
   "execution_count": 119,
   "metadata": {},
   "outputs": [
    {
     "data": {
      "text/plain": [
       "['LEAD: In the wake of a storm Monday that led to at least 17 deaths, Vernon Lloyd carried hay past ice-coated trees to the cattle on his farm in Jacksonville, N.C. A new storm yesterday produced sleet and snow in the South, closing schools in 10 states, while in New York State, temperatures dropped to 18 degrees below zero in the Adirondack region.',\n",
       " 'In the wake of a storm Monday that led to at least 17 deaths, Vernon Lloyd carried hay past ice-coated trees to the cattle on his farm in Jacksonville, N.C. A new storm yesterday produced sleet and snow in the South, closing schools in 10 states, while in New York State, temperatures dropped to 18 degrees below zero in the Adirondack region. The storms led to more than 1,500 traffic accidents by 2 A.M. yesterday in North Carolina alone. (AP)']"
      ]
     },
     "execution_count": 119,
     "metadata": {},
     "output_type": "execute_result"
    }
   ],
   "source": [
    "disaster_df.iloc[5]['body']"
   ]
  },
  {
   "cell_type": "markdown",
   "metadata": {},
   "source": [
    "### politics (elections?)"
   ]
  },
  {
   "cell_type": "code",
   "execution_count": 127,
   "metadata": {},
   "outputs": [
    {
     "data": {
      "text/plain": [
       "indexing_service.descriptor                  7423\n",
       "online_producer.types_of_material               2\n",
       "online_producer.taxonomic_classifier            0\n",
       "online_producer.general_descriptor          87222\n",
       "indexing_service.biographical_categories      272\n",
       "indexing_service.names                          0\n",
       "online_producer.descriptor                   2656\n",
       "dtype: int64"
      ]
     },
     "execution_count": 127,
     "metadata": {},
     "output_type": "execute_result"
    }
   ],
   "source": [
    "(classification_df\n",
    " .fillna('')\n",
    " .applymap(lambda x: 'politics' in x.lower())\n",
    " .sum()\n",
    ")"
   ]
  },
  {
   "cell_type": "code",
   "execution_count": 141,
   "metadata": {},
   "outputs": [
    {
     "data": {
      "text/plain": [
       "POLITICS AND GOVERNMENT                   4557\n",
       "UNITED STATES INTERNATIONAL RELATIONS     4152\n",
       "ELECTIONS                                 2714\n",
       "INTERNATIONAL RELATIONS                   2659\n",
       "ELECTION ISSUES                           1744\n",
       "                                          ... \n",
       "CEMETERIES                                   1\n",
       "PRESIDENTS ANDPRESIDENCY (US)                1\n",
       "LIGHTING                                     1\n",
       "FORT LEAVENWORTH (KANSAS)                    1\n",
       "CHINA--INTERNATIONAL RELATIONS--POLAND       1\n",
       "Name: indexing_service.descriptor, Length: 3300, dtype: int64"
      ]
     },
     "execution_count": 141,
     "metadata": {},
     "output_type": "execute_result"
    }
   ],
   "source": [
    "(classification_df\n",
    " .loc[lambda df: df['online_producer.general_descriptor'].str.lower().str.contains('politics') == True]\n",
    " ['indexing_service.descriptor']\n",
    " .value_counts()\n",
    ")"
   ]
  },
  {
   "cell_type": "code",
   "execution_count": 142,
   "metadata": {
    "scrolled": true
   },
   "outputs": [
    {
     "data": {
      "text/plain": [
       "ELECTIONS                                                          2714\n",
       "ELECTION ISSUES                                                    1744\n",
       "PRESIDENTIAL ELECTION OF 1988                                      1337\n",
       "PRESIDENTIAL ELECTION OF 1992                                       989\n",
       "Elections                                                           565\n",
       "Election Issues                                                     447\n",
       "ELECTION RESULTS                                                    359\n",
       "PRESIDENTIAL ELECTION OF 1996                                       234\n",
       "Presidential Election of 2000                                       112\n",
       "PRESIDENTIAL ELECTIONS (US)                                          61\n",
       "Presidential Election of 2008                                        59\n",
       "ELECTIONS, PUBLIC FINANCING OF                                       50\n",
       "Election Results                                                     38\n",
       "Presidential Election of 2004                                        27\n",
       "PRESIDENTIAL ELECTION OF 1984                                        24\n",
       "RECALL (ELECTIONS)                                                   11\n",
       "PRESIDENTIAL ELECTION OF 1968                                        10\n",
       "Presidential Elections (US)                                           7\n",
       "PRESIDENTIAL ELECTION OF 1960                                         7\n",
       "PRESIDENTIAL ELECTION OF 1980                                         5\n",
       "Presidential Election of 1992                                         4\n",
       "Presidential Elections                                                4\n",
       "PRESIDENTIAL ELECTION OF 1948                                         4\n",
       "PRESIDENTIAL ELECTION OF 1940                                         4\n",
       "PRESIDENTIAL ELECTION OF\\nARMAMENT, DEFENSE AND MILITARY FORCES       3\n",
       "PRESIDENTIAL ELECTION OF 1952                                         2\n",
       "Presidential Election of 1996                                         2\n",
       "PRESIDENTIAL ELECTION OF 1836                                         2\n",
       "ELECTION\\nISSUES                                                      2\n",
       "PRESIDENTIAL ELECTION OF 1964                                         2\n",
       "PRESIDENTIAL ELECTION OF 1972                                         2\n",
       "PRESIDENTIAL ELECTION\\nOF 1948                                        2\n",
       "PRESIDENTIAL ELECTION OF \\n1992                                       2\n",
       "PRESIDENTIAL ELECTION OF 1932                                         1\n",
       "Presidential Election of 1968                                         1\n",
       "Presidential Election of 1896                                         1\n",
       "Presidential Election of 2016                                         1\n",
       "PRESIDENTIAL ELECTION OF 1936                                         1\n",
       "Presidential Election of 1972                                         1\n",
       "Recall (Elections)                                                    1\n",
       "ELECTION                                                              1\n",
       "CONSERVATISM (US POLITICS)  CAMPAIGNS & ELECTIONS (75%)               1\n",
       "TRAVEL AND VACATIONSPRESIDENTIAL ELECTION OF 1992                     1\n",
       "PRESIDENTIAL ELECTION OF1996                                          1\n",
       "PRESIDENTIAL ELECTIONS                                                1\n",
       "PRESIDENTIAL ELECTION OF 2000                                         1\n",
       "PRESIDENTIAL ELECTION OF1972                                          1\n",
       "RETIREMENT  CAMPAIGNS & ELECTIONS (74%)                               1\n",
       "DISTRICT ATTORNEYS  CAMPAIGNS & ELECTIONS (89%)                       1\n",
       "INCOME TAX  CAMPAIGNS &ELECTIONS (90%)                                1\n",
       "LEGISLATURES AND PARLIAMENTS  CAMPAIGNS & ELECTIONS (91%)             1\n",
       "ELECTIONS  CAMPAIGNS & ELECTIONS (91%)                                1\n",
       "PRESIDENTIALELECTION OF 1996                                          1\n",
       "Name: indexing_service.descriptor, dtype: int64"
      ]
     },
     "execution_count": 142,
     "metadata": {},
     "output_type": "execute_result"
    }
   ],
   "source": [
    "(classification_df\n",
    " .loc[lambda df: df['indexing_service.descriptor'].str.lower().str.contains('election') == True]\n",
    " ['indexing_service.descriptor']\n",
    " .value_counts()\n",
    ")"
   ]
  },
  {
   "cell_type": "code",
   "execution_count": 148,
   "metadata": {
    "scrolled": true
   },
   "outputs": [
    {
     "data": {
      "text/plain": [
       "[\"LEAD: If Paul G. Kirk Jr., the chairman of the Democratic National Committee, has his way, his party's 1988 Presidential primary campaign is going to be a gentlemanly affair. Democrats, he has suggested, should be bolder in their political message and a bit duller in their campaign style.\",\n",
       " \"If Paul G. Kirk Jr., the chairman of the Democratic National Committee, has his way, his party's 1988 Presidential primary campaign is going to be a gentlemanly affair. Democrats, he has suggested, should be bolder in their political message and a bit duller in their campaign style.\",\n",
       " \"Sometime in the coming months Mr. Kirk plans to meet with his party's Presidential hopefuls and ask them to abide by a code of conduct he is drafting.\",\n",
       " 'Among other things, it would ask them to avoid personal attacks on one another, negative messages, and criticism of the party and its constituency groups.',\n",
       " 'Under the Kirk plan, their campaign deportment would be monitored by a group of neutral Democrats as well as by representatives of the candidates.',\n",
       " 'Democrats have often waged lively and bruising primary battles that have left their nominees wounded and limping, making it easier for the Republicans to finish them off in the general election. They have run against not only one another, but also their party, its nominating rules and its interest-group constituencies, especially organized labor.',\n",
       " \"What Mr. Kirk is proposing is a Democratic version of the Republican Party's ''11th Commandment,'' that no Republican shall speak ill of another Republican.\",\n",
       " \"If the guidelines Mr. Kirk has in mind had been in effect in 1984, the Democrats' Presidential primaries would have been dramatically different in some respects. Gary Hart's harsh criticism of Walter F. Mondale as a captive of organized labor would have been out of bounds. So would the Rev. Jesse Jackson's contention that the party's nominating rules deprived him of his fair share of delegates. And a number of the other candidates would have received demerits for suggesting that the Democratic Party was out of step with the concerns of mainstream voters.\",\n",
       " \"One party worker predicted that Mr. Kirk's action, if successful, would provoke a new bumper sticker with this message: Let Democrats be Democrats.\",\n",
       " \"City officials competing for the 1988 Democratic National Convention believe, not without reason, that staff workers at party headquarters may be influential in the final selection, scheduled to be made next week. And so on Thursday, Houston, one of the finalists, is sending a lunch of barbecue, Blue Bell ice cream and pecan pie to the Democratic National Committee offices in Washington. On Friday, the politicians' menu is to be provided by Atlanta, another contender, and will include shrimp and peach pie.\",\n",
       " \"Unfortunately from the viewpoint of both cities, the man who will probably make the decision, Mr. Kirk, the Democrats' national chairman, will be out of town both days.\",\n",
       " \"No one denies that the food operation is a major factor when it comes to siting a Presidential nominating convention. When Mr. Kirk led 57 members of the Democratic site selection committee to New Orleans last month, he confessed that, after seven previous trips, he was considering changing the name of the panel to the ''weight collection committee.''\",\n",
       " \"This time a year ago critics were pummeling Vice President Bush for effusive courtship of conservative groups as part of his early strategy for seeking the 1988 Republican Presidential nomination. For example, George F. Will, the conservative commentator, wrote that Mr. Bush was behaving like ''a lapdog.''\",\n",
       " 'At the time his strategists said it was something Mr. Bush needed to do early rather than later in the campaign, and they predicted that by 1987 the Vice President would be less supplicating before such groups. Has there been a change?',\n",
       " \"In early 1986 Mr. Bush told a meeting of Christian fundamentalists that America was ''in crying need of the moral vision'' of the Rev. Jerry Falwell and his Moral Majority adherents. As Mr. Falwell stood beaming by his side, the Vice President gushed, ''What great goals you have.'' At another point he urged Falwell supporters to ''go for it.''\",\n",
       " \"This week, in a speech to the National Association of Religious Broadcasters, a group that includes some of the country's leading television evangelists, Mr. Bush again urged Christian conservatives to participate in the political process. But he also came before them as a friendly critic, expressing concern that some elements of the Christian right were trying to use political power to impose their view of morality on others.\",\n",
       " \"''I raise this as a friend who believes deeply in your involvement,'' Mr. Bush said. ''Initially, you sought freedom. In the process, you gained power. And with power, a small minority now want control. There are those who would seek to impose their will and dictate their interpretation of morality on the rest of society. There are those who would forget the need for tolerance.''\",\n",
       " \"As an example of intolerance, Mr. Bush cited the efforts of some Christian fundamentalists to censor public school textbooks. ''There is no reason 'Huckleberry Finn' should be banned from the schools of this country,'' he said. ''There is no reason 'The Diary of Anne Frank' should not be read. To that small minority, I say, 'Please don't take away generally accepted books now that you have greater influence.' ''\",\n",
       " 'Jim Hightower, the Commissioner of Agriculture in Texas, has a way of putting the hay down where the goats can reach it, to use one of his colloquialisms. At a recent meeting of national Democratic Party officials in Austin, Mr. Hightower, a tub-thumping populist orator, had a few things to say about a range of issues.',\n",
       " \"Farm crisis: ''An old farmer out in West Texas told me you can still make a small fortune in agriculture. The problem is you have to start with a large fortune.''\",\n",
       " \"The Democratic Party's courtship of young, upwardly mobile professionals: ''They drive their Jaguars home to their Jacuzzis.\",\n",
       " \"They step out of their Guccis and their Puccis, and they spend money on their fine arts and their Cuisinarts while the people are down at the 7-Eleven store picking up a tall Bud and a Slim Jim and wondering who in the world is going to be talking to them.''\",\n",
       " \"Ronald Reagan: ''Harry Truman once said no man should be President who doesn't understand hogs. Well, we've got a man in there right now who wouldn't know a hog from a howitzer.''\",\n",
       " \"Corporate mergers and insider trading on Wall Street: ''It's premeditated robbery, it seems to me, of the many by the very few. If you did to a 7-Eleven what they have done to the American economy you'd being doing 20 years to life.''  WASHINGTON TALK: POLITICAL NOTEBOOK\"]"
      ]
     },
     "execution_count": 148,
     "metadata": {},
     "output_type": "execute_result"
    }
   ],
   "source": [
    "(nyt_annot_df\n",
    " .loc[lambda df: df['indexing_service.descriptor'].str.lower().str.contains('election') == True]\n",
    " ['body']\n",
    " .iloc[3]\n",
    ")"
   ]
  },
  {
   "cell_type": "markdown",
   "metadata": {},
   "source": [
    "### business"
   ]
  },
  {
   "cell_type": "code",
   "execution_count": 152,
   "metadata": {},
   "outputs": [
    {
     "data": {
      "text/plain": [
       "indexing_service.descriptor                    815\n",
       "online_producer.types_of_material                4\n",
       "online_producer.taxonomic_classifier        115406\n",
       "online_producer.general_descriptor             213\n",
       "indexing_service.biographical_categories       236\n",
       "indexing_service.names                           0\n",
       "online_producer.descriptor                      73\n",
       "dtype: int64"
      ]
     },
     "execution_count": 152,
     "metadata": {},
     "output_type": "execute_result"
    }
   ],
   "source": [
    "(classification_df\n",
    " .fillna('')\n",
    " .applymap(lambda x: 'business' in x.lower())\n",
    " .sum()\n",
    ")"
   ]
  },
  {
   "cell_type": "code",
   "execution_count": 155,
   "metadata": {},
   "outputs": [
    {
     "data": {
      "text/plain": [
       "Corporations                                                       54464\n",
       "Finances                                                           11201\n",
       "Appointments and Executive Changes                                  4309\n",
       "Advertising and Marketing                                            774\n",
       "Suspensions, Dismissals and Resignations                             728\n",
       "Computers and the Internet                                           726\n",
       "Labor                                                                686\n",
       "Economic Conditions and Trends                                       524\n",
       "United States Economy                                                501\n",
       "Suits and Litigation                                                 325\n",
       "Armament, Defense and Military Forces                                282\n",
       "Law and Legislation                                                  282\n",
       "Reform and Reorganization                                            218\n",
       "Bankruptcies                                                         213\n",
       "International Trade and World Market                                 199\n",
       "Oil (Petroleum) and Gasoline                                         188\n",
       "Politics and Government                                              187\n",
       "Books and Literature                                                 177\n",
       "Leading Economic Indicators                                          175\n",
       "Energy and Power                                                     171\n",
       "Prices (Fares, Fees and Rates)                                       162\n",
       "News and News Media                                                  138\n",
       "Food                                                                 136\n",
       "Boards of Directors                                                  129\n",
       "Automobiles                                                          106\n",
       "Taxation                                                             101\n",
       "Electronics                                                           96\n",
       "Sales                                                                 90\n",
       "Holidays and Special Occasions                                        83\n",
       "Housing                                                               80\n",
       "Names, Organizational                                                 80\n",
       "Medicine and Health                                                   73\n",
       "Production                                                            72\n",
       "Frauds and Swindling                                                  70\n",
       "Alcoholic Beverages                                                   53\n",
       "Crime and Criminals                                                   51\n",
       "Magazines                                                             46\n",
       "Ratings and Rating Systems                                            41\n",
       "Awards, Decorations and Honors                                        41\n",
       "Art                                                                   40\n",
       "Shutdowns (Institutional)                                             39\n",
       "Telephones and Telecommunications                                     38\n",
       "Metals and Minerals                                                   38\n",
       "Wages and Salaries                                                    37\n",
       "Drug Abuse and Traffic                                                33\n",
       "Animals                                                               32\n",
       "Women                                                                 32\n",
       "Waste Materials and Disposal                                          32\n",
       "Agriculture                                                           31\n",
       "Inventions and Patents                                                31\n",
       "Motion Pictures                                                       27\n",
       "Apparel                                                               26\n",
       "Statistics                                                            24\n",
       "Music                                                                 23\n",
       "Conventions and Conferences                                           22\n",
       "Ethics                                                                21\n",
       "Toys                                                                  21\n",
       "Airlines and Airplanes                                                19\n",
       "Office Buildings and Commercial Properties                            19\n",
       "Radio                                                                 18\n",
       "Trade Shows and Fairs                                                 18\n",
       "Atomic Energy                                                         18\n",
       "Consumer Behavior                                                     16\n",
       "Decisions and Verdicts                                                16\n",
       "Genetics and Heredity                                                 16\n",
       "Recession and Depression                                              16\n",
       "Fines (Penalties)                                                     15\n",
       "Renting and Leasing                                                   15\n",
       "Language and Languages                                                14\n",
       "Air Pollution                                                         14\n",
       "Tests and Testing                                                     13\n",
       "Industry Profiles                                                     13\n",
       "Ships and Shipping                                                    13\n",
       "Retail Stores and Trade                                               12\n",
       "Satellites                                                            12\n",
       "Gambling                                                              12\n",
       "Auctions                                                              12\n",
       "Space                                                                 12\n",
       "Children and Youth                                                    11\n",
       "Accidents and Safety                                                  11\n",
       "Office Equipment                                                      11\n",
       "Smoking and Tobacco                                                   10\n",
       "Building (Construction)                                               10\n",
       "Trucks and Trucking                                                   10\n",
       "Coffee                                                                10\n",
       "Research                                                              10\n",
       "Regulation and Deregulation of Industry                               10\n",
       "Small Business                                                         9\n",
       "Television                                                             9\n",
       "Cosmetics and Toiletries                                               9\n",
       "Embezzlement                                                           9\n",
       "Reserves (Natural Resources)                                           9\n",
       "Wills and Estates                                                      8\n",
       "Computer and Video Games                                               8\n",
       "Travel and Vacations                                                   8\n",
       "Recordings (Video)                                                     8\n",
       "Machinery and Equipment                                                8\n",
       "Public Opinion                                                         8\n",
       "Postal Service                                                         7\n",
       "Fiber Optics                                                           7\n",
       "Economics                                                              7\n",
       "Recycling of Waste Materials                                           7\n",
       "Steel and Iron                                                         7\n",
       "Exploration of Resources                                               6\n",
       "Blacks                                                                 6\n",
       "Bribery                                                                6\n",
       "Aged                                                                   6\n",
       "Religion and Churches                                                  6\n",
       "Partnerships                                                           6\n",
       "Legal Profession                                                       6\n",
       "Directories                                                            6\n",
       "Ice                                                                    6\n",
       "Weather                                                                6\n",
       "Containers and Packaging                                               6\n",
       "Soft Drinks                                                            6\n",
       "Records and Achievements                                               6\n",
       "Quotas                                                                 5\n",
       "Amusement and Theme Parks                                              5\n",
       "Silver                                                                 5\n",
       "Standards and Standardization                                          5\n",
       "Gifts                                                                  5\n",
       "Tires                                                                  5\n",
       "Copyrights                                                             5\n",
       "Consultants                                                            5\n",
       "Laser (Light Amplification by Stimulated Emission of Radiation)        5\n",
       "Bacteria                                                               5\n",
       "Historic Buildings and Sites                                           5\n",
       "Plastics                                                               5\n",
       "Fruit                                                                  5\n",
       "Skin                                                                   4\n",
       "Boats and Boating                                                      4\n",
       "Eyes and Eyesight                                                      4\n",
       "Paper and Pulp                                                         4\n",
       "Beverages                                                              4\n",
       "Franchises                                                             4\n",
       "Bridges and Tunnels                                                    4\n",
       "Surveys and Series                                                     4\n",
       "Contests and Prizes                                                    4\n",
       "Social Security (US)                                                   4\n",
       "Theater                                                                4\n",
       "Publications                                                           4\n",
       "Discount Selling                                                       4\n",
       "History                                                                4\n",
       "Identification Devices                                                 4\n",
       "Mines and Mining                                                       4\n",
       "Robots                                                                 4\n",
       "Divorce, Separations and Annulments                                    4\n",
       "Engines                                                                4\n",
       "Security and Warning Systems                                           4\n",
       "Comic Books and Strips                                                 3\n",
       "Home Appliances                                                        3\n",
       "Jewels and Jewelry                                                     3\n",
       "Robberies and Thefts                                                   3\n",
       "Mathematics                                                            3\n",
       "Abortion                                                               3\n",
       "Espionage                                                              3\n",
       "Nightclubs and Cabarets                                                3\n",
       "Discrimination                                                         3\n",
       "Hurricanes and Tropical Storms                                         3\n",
       "Federal Aid (US)                                                       3\n",
       "Mail Order Companies                                                   3\n",
       "Education and Schools                                                  3\n",
       "Relocation of Business                                                 3\n",
       "Currency                                                               3\n",
       "Trees and Shrubs                                                       3\n",
       "Terrorism                                                              3\n",
       "Flowers and Plants                                                     3\n",
       "Urban Areas                                                            2\n",
       "Judges                                                                 2\n",
       "Insects                                                                2\n",
       "Ceramics and Pottery                                                   2\n",
       "Bowling                                                                2\n",
       "Homosexuality                                                          2\n",
       "Occult Sciences                                                        2\n",
       "Recordings (Audio)                                                     2\n",
       "Plea Bargaining                                                        2\n",
       "Cement                                                                 2\n",
       "Labeling and Labels                                                    2\n",
       "Circuses                                                               2\n",
       "Pipelines                                                              2\n",
       "Babies                                                                 2\n",
       "Baseball                                                               2\n",
       "Entrepreneurship                                                       2\n",
       "Horse Racing                                                           2\n",
       "War and Revolution                                                     2\n",
       "Electricity                                                            2\n",
       "Fires and Firefighters                                                 2\n",
       "Recording Equipment                                                    2\n",
       "Prisons and Prisoners                                                  2\n",
       "Detectives (Private)                                                   2\n",
       "Water                                                                  2\n",
       "Roads and Traffic                                                      2\n",
       "Heating                                                                2\n",
       "Hazardous and Toxic Substances                                         2\n",
       "Tableware                                                              2\n",
       "Rural Areas                                                            2\n",
       "Pesticides                                                             2\n",
       "Trademarks and Trade Names                                             2\n",
       "Generic and Brand Name Products                                        2\n",
       "Printing and Allied Trades                                             2\n",
       "Festivals                                                              2\n",
       "Laboratories and Scientific Equipment                                  1\n",
       "Games                                                                  1\n",
       "Asian-Americans                                                        1\n",
       "Lying                                                                  1\n",
       "Boycotts                                                               1\n",
       "Perfumes and Fragrances                                                1\n",
       "Age, Chronological                                                     1\n",
       "Oxygen                                                                 1\n",
       "Courts                                                                 1\n",
       "Chemicals                                                              1\n",
       "Perjury                                                                1\n",
       "Lighting                                                               1\n",
       "Storage                                                                1\n",
       "Holography                                                             1\n",
       "Newsletters                                                            1\n",
       "Welfare (US)                                                           1\n",
       "Minorities (US)                                                        1\n",
       "Defective Products                                                     1\n",
       "Chemistry                                                              1\n",
       "DNA (Deoxyribonucleic Acid)                                            1\n",
       "Batteries                                                              1\n",
       "Cartels                                                                1\n",
       "Remote Control Systems                                                 1\n",
       "Helicopters                                                            1\n",
       "Supermarkets                                                           1\n",
       "Textiles                                                               1\n",
       "Recalls and Bans of Products                                           1\n",
       "Furniture                                                              1\n",
       "Media                                                                  1\n",
       "Hydrogen                                                               1\n",
       "Threats and Threatening Messages                                       1\n",
       "Explosions                                                             1\n",
       "Home Repairs and Improvements                                          1\n",
       "Organizations, Societies and Clubs                                     1\n",
       "Calculators                                                            1\n",
       "Conservation of Resources                                              1\n",
       "Grain                                                                  1\n",
       "Wire and Cable                                                         1\n",
       "Farmers                                                                1\n",
       "Emotions                                                               1\n",
       "Sporting Goods                                                         1\n",
       "Adhesives                                                              1\n",
       "X-Rays                                                                 1\n",
       "Extortion and Blackmail                                                1\n",
       "Motorcycles, Motor Bikes and Motorscooters                             1\n",
       "Blacklisting                                                           1\n",
       "Athletics and Sports                                                   1\n",
       "Foreign Aid                                                            1\n",
       "Olympic Games                                                          1\n",
       "Bureaucratic Red Tape                                                  1\n",
       "Secretaries, Stenographers and Typists                                 1\n",
       "Floods                                                                 1\n",
       "Cooking and Cookbooks                                                  1\n",
       "Geography                                                              1\n",
       "Hydrocarbons                                                           1\n",
       "Hair                                                                   1\n",
       "Livestock                                                              1\n",
       "Transportation                                                         1\n",
       "Teflon                                                                 1\n",
       "Collectors and Collections                                             1\n",
       "Color                                                                  1\n",
       "Radar                                                                  1\n",
       "Parties (Social)                                                       1\n",
       "Coal                                                                   1\n",
       "Billiards                                                              1\n",
       "Volunteers                                                             1\n",
       "Petrochemistry and Petrochemicals                                      1\n",
       "Culture                                                                1\n",
       "Libel and Slander                                                      1\n",
       "Freedom and Human Rights                                               1\n",
       "Waterways and Other Bodies of Water                                    1\n",
       "Polymers                                                               1\n",
       "Factories and Industrial Plants                                        1\n",
       "Anatomy and Physiology                                                 1\n",
       "Ears and Hearing                                                       1\n",
       "Nanotechnology                                                         1\n",
       "Weddings and Engagements                                               1\n",
       "Customer Relations                                                     1\n",
       "Watches and Clocks                                                     1\n",
       "Home Furnishings                                                       1\n",
       "Market Research                                                        1\n",
       "Names, Personal                                                        1\n",
       "Entertainment and Amusements                                           1\n",
       "Tennis                                                                 1\n",
       "Candy                                                                  1\n",
       "Restoration and Rehabilitation                                         1\n",
       "Arbitration, Conciliation and Mediation                                1\n",
       "Immunity From Prosecution                                              1\n",
       "Automobile Racing                                                      1\n",
       "Anti-Semitism                                                          1\n",
       "Buildings (Structures)                                                 1\n",
       "Shopping Centers                                                       1\n",
       "Pornography and Obscenity                                              1\n",
       "Gases                                                                  1\n",
       "Diamonds                                                               1\n",
       "Name: online_producer.general_descriptor, dtype: int64"
      ]
     },
     "execution_count": 155,
     "metadata": {},
     "output_type": "execute_result"
    }
   ],
   "source": [
    "(classification_df\n",
    " .loc[lambda df: df['online_producer.taxonomic_classifier'].str.lower().str.contains('business') == True]\n",
    " ['online_producer.general_descriptor']\n",
    " .value_counts()\n",
    ")"
   ]
  },
  {
   "cell_type": "code",
   "execution_count": 176,
   "metadata": {},
   "outputs": [
    {
     "data": {
      "text/plain": [
       "(4309, 26)"
      ]
     },
     "execution_count": 176,
     "metadata": {},
     "output_type": "execute_result"
    }
   ],
   "source": [
    "(nyt_annot_df\n",
    " .loc[lambda df: df['online_producer.taxonomic_classifier'].str.lower().str.contains('business') == True] \n",
    " .loc[lambda df: df['online_producer.general_descriptor'] == 'Appointments and Executive Changes']\n",
    " .shape\n",
    ")"
   ]
  },
  {
   "cell_type": "markdown",
   "metadata": {},
   "source": [
    "### workplace safety"
   ]
  },
  {
   "cell_type": "code",
   "execution_count": 261,
   "metadata": {},
   "outputs": [
    {
     "data": {
      "text/plain": [
       "online_producer.taxonomic_classifier            0\n",
       "indexing_service.descriptor                  8689\n",
       "online_producer.types_of_material               2\n",
       "online_producer.general_descriptor          10794\n",
       "indexing_service.biographical_categories        0\n",
       "indexing_service.names                          0\n",
       "online_producer.descriptor                   1352\n",
       "dtype: int64"
      ]
     },
     "execution_count": 261,
     "metadata": {},
     "output_type": "execute_result"
    }
   ],
   "source": [
    "(\n",
    "    classification_df\n",
    "     .fillna('')\n",
    "     .applymap(lambda x: 'safety' in x.lower())\n",
    "     .sum()\n",
    ")"
   ]
  },
  {
   "cell_type": "code",
   "execution_count": 266,
   "metadata": {},
   "outputs": [
    {
     "data": {
      "text/plain": [
       "accidents and safety                              5479\n",
       "subways                                            126\n",
       "drownings                                          119\n",
       "biographical information                           117\n",
       "buses                                              116\n",
       "                                                  ... \n",
       "espionage                                            1\n",
       "breeders' cup world thoroughbred championships       1\n",
       "drivers education                                    1\n",
       "fingerprinting                                       1\n",
       "pennsylvania (uss) (submarine)                       1\n",
       "Name: indexing_service.descriptor, Length: 828, dtype: int64"
      ]
     },
     "execution_count": 266,
     "metadata": {},
     "output_type": "execute_result"
    }
   ],
   "source": [
    "(\n",
    "    classification_df\n",
    "     .loc[lambda df: df['online_producer.general_descriptor'].str.lower().str.contains('safety') == True]\n",
    "    ['indexing_service.descriptor']\n",
    "    .str.lower()\n",
    "    .value_counts()\n",
    ")"
   ]
  },
  {
   "cell_type": "code",
   "execution_count": 268,
   "metadata": {
    "scrolled": true
   },
   "outputs": [
    {
     "data": {
      "text/plain": [
       "['LEAD: The excessive weight of modern air-conditioning ducts, pipes and decorations suspended from a turn-of the-century plaster ceiling caused the ceiling collapse that killed one customer and injured 16 others on Monday in a croissant shop in a West Side hotel, New York City officials said yesterday.',\n",
       " 'The excessive weight of modern air-conditioning ducts, pipes and decorations suspended from a turn-of the-century plaster ceiling caused the ceiling collapse that killed one customer and injured 16 others on Monday in a croissant shop in a West Side hotel, New York City officials said yesterday.',\n",
       " \"''You would wonder why it didn't happen before,'' said Charles M. Smith Jr., the City Buildings Commissioner, shortly after he inspected the accident site, on the ground floor of the Ansonia Hotel on Broadway, between 73d and 74th Streets, wearing a disposable jump suit to protect him from asbestos fibers found in the debris.\",\n",
       " \"Late yesterday, after conducting a preliminary review of renovation approved by his department dating back to the early 1980's, Mr. Smith said he would ask the Manhattan District Attorney to cooperate in a deeper investigation into whether the accident occurred as a result of criminal negligence.\",\n",
       " \"Mr. Smith said city officials who judged the renovation work in the past made only a cursory review of plans and did not inspect the construction work. Instead, because of the thousands of minor renovations each year, the department relied on the certification of licensed architects and engineers that the work was done safely and properly. #86-Year-Old Ceiling ''Occasionally architects and engineers make mistakes,'' he said.\",\n",
       " \"The collapse on Monday afternoon turned the Croissant & Company shop in the once-elegant Beaux-Arts hotel into a wasteland of twisted girders, pipes and 4,000 pounds of plaster from a decorative ceiling that was once part of the hotel's grand lobby.\",\n",
       " \"The ornate ceiling dated back to the building's construction in 1904. Mr. Smith said it was two inches thick in most places but had circular, flowerlike ornaments that were eight inches thick in spots.\",\n",
       " 'The plaster ceiling was supported by a network of railings and metal straps affixed to the steel beams that supported the concrete floor above.',\n",
       " 'After reviewing the wreckage, Mr. Smith said the plaster ceiling, in turn, supported a second ceiling - a lower, modern one -as well as air-conditioning ducts, drain pipes, water sprinkers and a canopy that hid some of the duct work above.',\n",
       " \"Mr. Smith said that holes drilled in the plaster over the years weakened it, and that a ''prudent architect and engineer'' would have realized that it could not support the weight of all the equipment installed below. Instead, he said, the plaster ceiling should have been removed.\",\n",
       " 'Wooden Beam',\n",
       " 'Building Department officials said yesterday that they had found plans for a 1981 renovation of the shop and were continuing to search for other records. The 1981 plans were filed by Paul J. Hanas Design Group of Westfield, N.J., and listed Walter J. Zupanchich as the architect of record.',\n",
       " 'Mr. Smith said the plans called for the attachment of the duct work to an existing wooden beam, while, in fact, no such beam existed on the site.',\n",
       " 'Asked about the plans yesterday, Mr. Zupanchich said he could not recall the details but that he would not as a rule hang duct work from a plaster ceiling and instead would affix it to structural elements, like a steel beam or a concrete floor.',\n",
       " 'He said any mistakes in construction would be the fault of the contractor, not the architect.',\n",
       " \"''In the span of nine years since then, I do not know what any new owner might have done to weaken the ceiling,'' he said.\",\n",
       " \"During the last few days a construction crew worked in the building's basement using a jackhammer on a concrete floor. A second crew cut a hole in the concrete slab above the croissant shop to install a drainpipe for new showers for a physical therapy studio being opened above the shop.\",\n",
       " 'Mr. Smith said that while either of these activities could have set off the collapse, the excessive weight appeared to have been the underlying cause.']"
      ]
     },
     "execution_count": 268,
     "metadata": {},
     "output_type": "execute_result"
    }
   ],
   "source": [
    "(nyt_annot_df\n",
    "#  .loc[lambda df: df['indexing_service.descriptor'].str.lower() == 'accidents and safety']\n",
    " .loc[lambda df: df['online_producer.general_descriptor'].str.lower().str.contains('safety') == True]\n",
    " .iloc[100]\n",
    " ['body']\n",
    ")"
   ]
  },
  {
   "cell_type": "markdown",
   "metadata": {},
   "source": [
    "### labor"
   ]
  },
  {
   "cell_type": "code",
   "execution_count": 245,
   "metadata": {},
   "outputs": [
    {
     "data": {
      "text/plain": [
       "LABOR                                2290\n",
       "Labor                                1872\n",
       "STRIKES                              1070\n",
       "Layoffs and Job Reductions            676\n",
       "UNEMPLOYMENT AND JOB MARKET           671\n",
       "                                     ... \n",
       "AEROSPACE INDUSTRIES AND SCIENCES       1\n",
       "Games                                   1\n",
       "TAX EVASION                             1\n",
       "Amnesties                               1\n",
       "CAPITAL GAINS TAX                       1\n",
       "Name: indexing_service.descriptor, Length: 1713, dtype: int64"
      ]
     },
     "execution_count": 245,
     "metadata": {},
     "output_type": "execute_result"
    }
   ],
   "source": [
    "(classification_df\n",
    " .loc[lambda df: df['online_producer.general_descriptor'].str.lower().str.contains('labor') == True]\n",
    " ['indexing_service.descriptor']\n",
    " .value_counts()\n",
    "#  .loc[lambda df: df['indexing_service.descriptor'].str.lower().str.contains('hazard') == True]\n",
    ")"
   ]
  },
  {
   "cell_type": "code",
   "execution_count": 255,
   "metadata": {},
   "outputs": [
    {
     "data": {
      "text/plain": [
       "['LEAD: To the Sports Editor:',\n",
       " 'To the Sports Editor:',\n",
       " \"The big-time college football system is such a tangled web that even the well-intended points Dick Enberg favors to give student-athletes more rights (''Giving the Athletes a Voice in College Sports,'' The Times, Jan. 14) would quickly be negated by the head coaches, all of whom are under tremendous pressure to win or else.\",\n",
       " 'Enberg wisely advocates giving football players a $25-per-week allowance so that they can at least enjoy some of the basic things that other college students can. But then schools would simply schedule more games, or drag them out longer with more television commercials, in order to make back this money, and this would put even more of a time demand on athletes.',\n",
       " \"He also favors eliminating spring football and freshman varsity football. But actually the college football season never ends. When a recruit signs a football scholarship, about a week later he can expect a letter from the football coach instructing him to begin a program of weight lifting, running, etc., immediately. He'll in effect be practicing from that day on until the final play of his senior season.\",\n",
       " 'Sadly, what college football probably needs most is for the players to unionize. Then, they could tell the coaches how much time they want to spend watching game films, lifting weights, running, practicing, and having informal workouts in the off season.',\n",
       " 'NELSON J. KANE',\n",
       " 'Charlottesville, Va.']"
      ]
     },
     "execution_count": 255,
     "metadata": {},
     "output_type": "execute_result"
    }
   ],
   "source": [
    "(nyt_annot_df\n",
    " .loc[lambda df: df['online_producer.general_descriptor'].str.lower().str.contains('labor') == True]\n",
    " .iloc[8]\n",
    " ['body']\n",
    ")"
   ]
  },
  {
   "cell_type": "code",
   "execution_count": null,
   "metadata": {},
   "outputs": [],
   "source": []
  },
  {
   "cell_type": "markdown",
   "metadata": {},
   "source": [
    "### environment"
   ]
  },
  {
   "cell_type": "code",
   "execution_count": 269,
   "metadata": {},
   "outputs": [
    {
     "data": {
      "text/plain": [
       "online_producer.taxonomic_classifier         699\n",
       "indexing_service.descriptor                  964\n",
       "online_producer.types_of_material              0\n",
       "online_producer.general_descriptor           831\n",
       "indexing_service.biographical_categories     133\n",
       "indexing_service.names                         0\n",
       "online_producer.descriptor                  1796\n",
       "dtype: int64"
      ]
     },
     "execution_count": 269,
     "metadata": {},
     "output_type": "execute_result"
    }
   ],
   "source": [
    "(\n",
    "    classification_df\n",
    "     .fillna('')\n",
    "     .applymap(lambda x: 'environment' in x.lower())\n",
    "     .sum()\n",
    ")"
   ]
  },
  {
   "cell_type": "code",
   "execution_count": 276,
   "metadata": {},
   "outputs": [
    {
     "data": {
      "text/plain": [
       "[\"LEAD: ENVIRONMENTALISTS and county officials have often been at odds. At the moment they agree on one thing: the county's quality of life is increasingly at risk, and no one is minding the environmental store.\",\n",
       " \"ENVIRONMENTALISTS and county officials have often been at odds. At the moment they agree on one thing: the county's quality of life is increasingly at risk, and no one is minding the environmental store.\",\n",
       " \"''Land use, traffic patterns, water and air quality all add up to create quality of life,'' said Richard Knabel, vice president of the Federated Conservationists of Westchester County. ''But in the last 25 years, it has slipped. These days you can never count on getting anywhere within a particular time, water quality is deteriorating and all our open spaces are being eaten up. Pretty soon, people are going to wake up and say this isn't the place I remember, nor is it the place I want to be.''\",\n",
       " \"Elected leaders and their critics agree that the county's environmental concerns are urgent but there is disagreement among the officials about how to oversee the resolution. As a national Decade of the Environment begins, the county Board of Legislators and members of the County Executive's staff are trying to decide how to develop a countywide environmental presence and blaming each other for the lack of progress.\",\n",
       " 'A Stronger County Role',\n",
       " \"The goal is a stronger and more focused county role, to prevent further environmental deterioration and to protect critical open spaces like watershed land. ''The problem is not to create new legislation,'' said Robert Funicello, president of the Federated Conservationists, ''but to implement the broad array of laws already there.''\",\n",
       " 'He gave as an example the situation at Cranberry Lake, a pristine lake in North Castle owned by the county. It was the Federated Conservationists that told the county when an owner of 23 acres of adjacent land was ready to sell; and it is asking the county to purchase the land to protect the watershed. But Mr. Funicello suggested that the county should not need to be alerted by watchdog groups and should itself be taking the initiative.',\n",
       " \"Another example of how a stronger county role might make a difference is a $1 million federally financed study of surface-water pollution, done in 1975. It included proposals for eliminating pollution, but critics complain that the county has failed to implement them. Other action envisioned includes more attention to existing policies, like the county's highly respected open-space policy. Planners do not consistently follow it, Mr. Funicello suggested, and when they do, ''it's on an ad hoc or crisis basis, as with the Jay Property.''\",\n",
       " 'Legislators Await a Report',\n",
       " \"Last November, county legislators directed County Exeuctive Andrew P. O'Rourke to study the creation of a department of the environment to oversee Westchester's air, water and open spaces. A report is due May l. They first ignored and later rejected Mr. O'Rourke's request for a more modest office of the environment, which he had proposed as a first step.\",\n",
       " 'The legislators said they had eliminated the request in a difficult budget year, preferring to wait for the results of the report.',\n",
       " \"The idea for a new, consolidated department was proposed two years ago by the Pace University Law School's Center for Environmental Legal Studies, which prepared a report on behalf of the Federated Conservationists and submitted it to the county's Charter Revision Commission for review in May l988.\",\n",
       " \"The report, commissioned by Edith G. Read, a prominent environmental activist and a board member of the Federated Conservationists, sharply criticized the county's role in environmental protection. It outlined 20 years of what it saw as environmental neglect by county leaders and said this had resulted in a proliferation of hazardous-waste sites, polluted wells and increasingly unhealthful air.\",\n",
       " \"The report recommended streamlining county government to improve coordination and oversight of environmental programs. The authors called existing programs ''fragmented'' and ''inchoate,'' and suggested combining parts of seven programs that exist in several agencies into one new county department.\",\n",
       " 'Some Points Called Unfair',\n",
       " \"The report was written by Prof. Nicholas A. Robinson, co-director of the Center for Environmental Legal Studies at the Pace University Law School, and was entitled ''Enhancing Environmental Stewardship Goals for Westchester County Charter Revision.'' His conclusions stirred intense debate, and some members of the Board of Legislators called many of the criticisms unfair. After being lobbied by Mrs. Read and other conservationists, however, the Board voted unanimously to call for the special study.\",\n",
       " \"Although Mr. O'Rourke called the report a ''useful contribution'' to the Charter-revision effort, he urged the commission to reject the report's principal recommendation. ''The oversight aspect of environmental protection should not be mixed with responsibility for operating a facility,'' Mr. O'Rourke's letter to the Charter Revision Commission said, underlining his determination that the operators of environmental programs not be in the same department as those in charge of oversight.\",\n",
       " \"''Mr. O'Rourke does not want the chicken and the fox in the same department,'' said Marc Moran, director of intergovernmental relations.\",\n",
       " \"The commission agreed. ''If we created a Department of the Environment,'' said Dr. Sal J. Prezioso, chairman of the Charter Revision Commission, ''it would cost $1.25 million'' just to set it up. And what Dr. Prezioso called ''the turf question'' would also be difficult to resolve, he said. ''There isn't a single commissioner who would assist in giving up anything.''\",\n",
       " \"Not all environmentalists say the county needs such a department. Linda C. Cooper, who is chairwoman of the Yorktown Conservation Board, suggests that the county should develop a stronger environmental presence within the framework of existing departments. ''The county government does not take protection of the environment seriously, '' she said, but ''what the Westchester county government does not need is another layer of bureaucracy.''\",\n",
       " 'Other Ideas Win Support',\n",
       " \"The Charter Revision Commission recommended several of the ideas proposed in the Pace report, including a countywide storm-water agency, a countywide sewer district and ''an intermunicipal conflict resolution board.'' Dr. Prezioso said these steps were necessary before developing a countywide environmental policy and oversight department.\",\n",
       " 'Those suggestions are now being reviewed by different committees of the Board of Legislators.',\n",
       " \"Last March, when Mr. O'Rourke proposed an office of the environment instead of a department, he said it would allow him to address ''a responsibility of growing urgency.'' The task of protecting the environment ''threatens to overwhelm any individual operating department of this government,'' he said, because the departments ''do not and cannot possess the broad perspective'' necessary to make informed environmental decisions.\",\n",
       " \"The proposal languished in committee until the November election, and the new Board of Legislators rejected Mr. O'Rourke's request because ''we were tired of window-dressing,'' said Sandra R. Galef, the Democratic minority leader.\",\n",
       " \"''We didn't want to add another layer to the executive staff,'' she added.\",\n",
       " 'The Board Is Blamed',\n",
       " \"Mr. Moran said that because of the Board's action ''there isn't anyone to speak for the environment.''\",\n",
       " \"''We argued that one proposal didn't exclude the other,'' he said, explaining that funds were needed for an office of the environment to study the need for a new department of the environment. The executive staff had hoped to use the director of the new office to shepherd the study the Board requested.\",\n",
       " \"So work on the Board's request has been delayed, Mr. Moran said, adding: ''Are we running late? Sure we are.'' In the middle of what Mr. Moran called ''budget mania,'' the Board ''saw an easy way to cut $100,000,'' he said. Mr. O'Rourke had asked for $109,000 to set up an office of the environment.\",\n",
       " \"Although the executive branch will complete the study, Mr. Moran said, the Board's action has delayed the creation of environmental oversight. ''We have lost a year and we will have to go another year before any structure is in place,'' he said. ''Once this study is complete, the Board will hold public hearings, and that will take several more months.''\",\n",
       " \"What's Being Done Now\",\n",
       " \"County officials will continue to ''fill in the cracks,'' Mr. Moran said. ''The sky is not going to fall in.''\",\n",
       " \"Since November l987, an environmental work group that includes the deputy commissioners of five county departments has met monthly. It provides ''a way for the County Execucitve to get a seat-of-the-pants feeling about what is going on in the environment,'' Mr. Moran said.\",\n",
       " 'The group discusses such issues as pollution in Long Island Sound and a new permit for the Charles Point incineration plant, Mr. Moran said. It is also charged with considering environmental issues that cut across several departments or that affect only one department but could benefit from a broader perspective.',\n",
       " 'Impatience Grows',\n",
       " \"Environmental activists are increasingly impatient over the county government's failure to develop an environmental policy.\",\n",
       " \"''Westchester is taking its environmental stewardship for granted,'' Mr. Funicello said. ''We need a central focus in county government. Most environmental analysis is conducted by a commissioner who is not particularly sensitive to enviromental problems. There is not one person in government at present whose sensitivity to the environment is their first priority.''\",\n",
       " \"A department of the environment ''would create a critical mass on environmental issues'' and ''assure that the county acts right and is on the lookout for wrongs by others,'' he said.\",\n",
       " \"''The Federated Conservationists wouldn't disappear, for we know the values we espouse wouldn't be totally assimilated in a department of the environment,'' said its vice president, Mr. Knabel, who is a professor of physics at Westchester Community College in Valhalla. ''But now, it's as if we were chasing a blob of mercury across the floor. Mercury moves very quickly. And every time it meets an obstacle, it breaks up into little pieces, although it may re-emerge as a bigger piece later. That's just exactly how the county runs the environment.''\",\n",
       " \"Professor Robinson said his study ''showed how we have built duplicating and overlapping jurisdictions and how we haven't looked at environmental analysis in a comprehensive way.'' Some powers must be consolidated, he said, and added: ''Why should we wait for a worse degradation of the environment? The time has come to act.''\",\n",
       " 'Correction:  March 11, 1990, Sunday, Late Edition - Final',\n",
       " \"An article last Sunday about Westchester County's environmental policies misstated Marc Moran's title. He is director of government operations.\"]"
      ]
     },
     "execution_count": 276,
     "metadata": {},
     "output_type": "execute_result"
    }
   ],
   "source": [
    "(nyt_annot_df\n",
    " .loc[lambda df: df['online_producer.general_descriptor'].str.lower().str.contains('environment') == True]\n",
    "#  ['indexing_service.descriptor']\n",
    "#  .value_counts()\n",
    "#  .loc[lambda df: df['indexing_service.descriptor'].str.lower().str.contains('hazard') == True]\n",
    " .iloc[3]['body']\n",
    ")"
   ]
  },
  {
   "cell_type": "code",
   "execution_count": null,
   "metadata": {},
   "outputs": [],
   "source": []
  },
  {
   "cell_type": "markdown",
   "metadata": {},
   "source": [
    "# Make Training DF"
   ]
  },
  {
   "cell_type": "code",
   "execution_count": 278,
   "metadata": {},
   "outputs": [],
   "source": [
    "pos_training_df = pd.concat([\n",
    "#     (\n",
    "#     nyt_annot_df\n",
    "#      .loc[lambda df: df['online_producer.taxonomic_classifier'].str.lower().str.contains('business') == True] \n",
    "#      .loc[lambda df: df['online_producer.general_descriptor'] == 'Appointments and Executive Changes']\n",
    "#      .assign(label='Business')\n",
    "#     )\n",
    "    (\n",
    "    nyt_annot_df\n",
    "     .loc[lambda df: df['indexing_service.descriptor'].str.lower().str.contains('election') == True]\n",
    "     .assign(label='Elections')\n",
    "    ),\n",
    "    (\n",
    "    nyt_annot_df\n",
    "    .loc[lambda df: df['indexing_service.descriptor'].str.lower().str.contains('|'.join(disaster_list), regex=True) == True]\n",
    "    .assign(label='Disaster')\n",
    "    ),\n",
    "#     (\n",
    "#     nyt_annot_df\n",
    "#      .loc[lambda df: df['online_producer.general_descriptor'].str.lower().str.contains('crime') == True]\n",
    "#     .assign(label='Crime')\n",
    "#     )\n",
    "    (\n",
    "    nyt_annot_df\n",
    "     .loc[lambda df: df['online_producer.general_descriptor'].str.lower().str.contains('environment') == True]\n",
    "     .assign(label='Environment')\n",
    "    ),\n",
    "    (\n",
    "    nyt_annot_df\n",
    "     .loc[lambda df: df['online_producer.general_descriptor'].str.lower().str.contains('labor') == True]\n",
    "     .assign(label='Labor')\n",
    "    ),\n",
    "    (\n",
    "    nyt_annot_df\n",
    "     .loc[lambda df: df['online_producer.general_descriptor'].str.lower().str.contains('safety') == True]\n",
    "     .assign(label='Safety')\n",
    "    ),\n",
    "])"
   ]
  },
  {
   "cell_type": "code",
   "execution_count": 282,
   "metadata": {},
   "outputs": [],
   "source": [
    "neg_training_df = (nyt_annot_df\n",
    " .loc[lambda df: ~df.index.isin(training_df.index)]\n",
    " .sample(40000)\n",
    " .assign(label='Other')\n",
    ")"
   ]
  },
  {
   "cell_type": "code",
   "execution_count": 283,
   "metadata": {},
   "outputs": [],
   "source": [
    "training_df = pd.concat([pos_training_df, neg_training_df])"
   ]
  },
  {
   "cell_type": "code",
   "execution_count": 284,
   "metadata": {},
   "outputs": [
    {
     "data": {
      "text/plain": [
       "Other          40000\n",
       "Labor          27742\n",
       "Elections      21591\n",
       "Safety         10794\n",
       "Disaster        7863\n",
       "Environment      831\n",
       "Name: label, dtype: int64"
      ]
     },
     "execution_count": 284,
     "metadata": {},
     "output_type": "execute_result"
    }
   ],
   "source": [
    "training_df['label'].value_counts()"
   ]
  },
  {
   "cell_type": "code",
   "execution_count": 285,
   "metadata": {},
   "outputs": [],
   "source": [
    "(training_df\n",
    " [['headline', 'body', 'label']]\n",
    " .assign(body=lambda df: df['body'].str.join(' '))\n",
    " .to_csv('../data/news-categories-training-df.csv')\n",
    ")"
   ]
  },
  {
   "cell_type": "markdown",
   "metadata": {},
   "source": [
    "# Test Simple Classifiers"
   ]
  },
  {
   "cell_type": "code",
   "execution_count": 4,
   "metadata": {},
   "outputs": [],
   "source": [
    "from sklearn.model_selection import train_test_split\n",
    "import pandas as pd "
   ]
  },
  {
   "cell_type": "code",
   "execution_count": 5,
   "metadata": {},
   "outputs": [],
   "source": [
    "training_df = pd.read_csv('../data/news-categories-training-df.csv', index_col=0)"
   ]
  },
  {
   "cell_type": "code",
   "execution_count": 8,
   "metadata": {},
   "outputs": [],
   "source": [
    "train_df, test_df = train_test_split(training_df, train_size=.75)"
   ]
  },
  {
   "cell_type": "code",
   "execution_count": 9,
   "metadata": {},
   "outputs": [
    {
     "data": {
      "text/plain": [
       "Other          29978\n",
       "Labor          20881\n",
       "Elections      16153\n",
       "Safety          8114\n",
       "Disaster        5859\n",
       "Environment      630\n",
       "Name: label, dtype: int64"
      ]
     },
     "execution_count": 9,
     "metadata": {},
     "output_type": "execute_result"
    }
   ],
   "source": [
    "train_df['label'].value_counts()"
   ]
  },
  {
   "cell_type": "code",
   "execution_count": 12,
   "metadata": {},
   "outputs": [
    {
     "data": {
      "text/plain": [
       "Other          10022\n",
       "Labor           6861\n",
       "Elections       5438\n",
       "Safety          2680\n",
       "Disaster        2004\n",
       "Environment      201\n",
       "Name: label, dtype: int64"
      ]
     },
     "execution_count": 12,
     "metadata": {},
     "output_type": "execute_result"
    }
   ],
   "source": [
    "test_df['label'].value_counts()"
   ]
  },
  {
   "cell_type": "code",
   "execution_count": 15,
   "metadata": {},
   "outputs": [],
   "source": [
    "from sklearn.feature_extraction.text import CountVectorizer\n",
    "from sklearn.linear_model import LogisticRegressionCV"
   ]
  },
  {
   "cell_type": "code",
   "execution_count": 21,
   "metadata": {},
   "outputs": [],
   "source": [
    "X_train = (\n",
    "    train_df\n",
    "     .fillna('')\n",
    "     .apply(lambda df: df['headline'] + df['body'], axis=1)\n",
    "     .str.strip()\n",
    "     .str.replace('\\n', ' ')\n",
    ") "
   ]
  },
  {
   "cell_type": "code",
   "execution_count": 24,
   "metadata": {},
   "outputs": [],
   "source": [
    "y_train = train_df['label']"
   ]
  },
  {
   "cell_type": "code",
   "execution_count": 29,
   "metadata": {},
   "outputs": [],
   "source": [
    "cv = CountVectorizer(min_df=.01, max_df=.5, stop_words='english')"
   ]
  },
  {
   "cell_type": "code",
   "execution_count": 33,
   "metadata": {},
   "outputs": [],
   "source": [
    "lr = LogisticRegressionCV(max_iter=2000)"
   ]
  },
  {
   "cell_type": "code",
   "execution_count": 31,
   "metadata": {},
   "outputs": [],
   "source": [
    "X_mat = cv.fit_transform(X_train)"
   ]
  },
  {
   "cell_type": "code",
   "execution_count": 34,
   "metadata": {},
   "outputs": [
    {
     "name": "stderr",
     "output_type": "stream",
     "text": [
      "/Users/alex/opt/anaconda3/lib/python3.7/site-packages/sklearn/linear_model/_logistic.py:765: ConvergenceWarning: lbfgs failed to converge (status=1):\n",
      "STOP: TOTAL NO. of ITERATIONS REACHED LIMIT.\n",
      "\n",
      "Increase the number of iterations (max_iter) or scale the data as shown in:\n",
      "    https://scikit-learn.org/stable/modules/preprocessing.html\n",
      "Please also refer to the documentation for alternative solver options:\n",
      "    https://scikit-learn.org/stable/modules/linear_model.html#logistic-regression\n",
      "  extra_warning_msg=_LOGISTIC_SOLVER_CONVERGENCE_MSG)\n",
      "/Users/alex/opt/anaconda3/lib/python3.7/site-packages/sklearn/linear_model/_logistic.py:765: ConvergenceWarning: lbfgs failed to converge (status=1):\n",
      "STOP: TOTAL NO. of ITERATIONS REACHED LIMIT.\n",
      "\n",
      "Increase the number of iterations (max_iter) or scale the data as shown in:\n",
      "    https://scikit-learn.org/stable/modules/preprocessing.html\n",
      "Please also refer to the documentation for alternative solver options:\n",
      "    https://scikit-learn.org/stable/modules/linear_model.html#logistic-regression\n",
      "  extra_warning_msg=_LOGISTIC_SOLVER_CONVERGENCE_MSG)\n",
      "/Users/alex/opt/anaconda3/lib/python3.7/site-packages/sklearn/linear_model/_logistic.py:765: ConvergenceWarning: lbfgs failed to converge (status=1):\n",
      "STOP: TOTAL NO. of ITERATIONS REACHED LIMIT.\n",
      "\n",
      "Increase the number of iterations (max_iter) or scale the data as shown in:\n",
      "    https://scikit-learn.org/stable/modules/preprocessing.html\n",
      "Please also refer to the documentation for alternative solver options:\n",
      "    https://scikit-learn.org/stable/modules/linear_model.html#logistic-regression\n",
      "  extra_warning_msg=_LOGISTIC_SOLVER_CONVERGENCE_MSG)\n",
      "/Users/alex/opt/anaconda3/lib/python3.7/site-packages/sklearn/linear_model/_logistic.py:765: ConvergenceWarning: lbfgs failed to converge (status=1):\n",
      "STOP: TOTAL NO. of ITERATIONS REACHED LIMIT.\n",
      "\n",
      "Increase the number of iterations (max_iter) or scale the data as shown in:\n",
      "    https://scikit-learn.org/stable/modules/preprocessing.html\n",
      "Please also refer to the documentation for alternative solver options:\n",
      "    https://scikit-learn.org/stable/modules/linear_model.html#logistic-regression\n",
      "  extra_warning_msg=_LOGISTIC_SOLVER_CONVERGENCE_MSG)\n",
      "/Users/alex/opt/anaconda3/lib/python3.7/site-packages/sklearn/linear_model/_logistic.py:765: ConvergenceWarning: lbfgs failed to converge (status=1):\n",
      "STOP: TOTAL NO. of ITERATIONS REACHED LIMIT.\n",
      "\n",
      "Increase the number of iterations (max_iter) or scale the data as shown in:\n",
      "    https://scikit-learn.org/stable/modules/preprocessing.html\n",
      "Please also refer to the documentation for alternative solver options:\n",
      "    https://scikit-learn.org/stable/modules/linear_model.html#logistic-regression\n",
      "  extra_warning_msg=_LOGISTIC_SOLVER_CONVERGENCE_MSG)\n"
     ]
    },
    {
     "ename": "KeyboardInterrupt",
     "evalue": "",
     "output_type": "error",
     "traceback": [
      "\u001b[0;31m---------------------------------------------------------------------------\u001b[0m",
      "\u001b[0;31mKeyboardInterrupt\u001b[0m                         Traceback (most recent call last)",
      "\u001b[0;32m<ipython-input-34-2f641db5ff0d>\u001b[0m in \u001b[0;36m<module>\u001b[0;34m\u001b[0m\n\u001b[0;32m----> 1\u001b[0;31m \u001b[0mlr\u001b[0m\u001b[0;34m.\u001b[0m\u001b[0mfit\u001b[0m\u001b[0;34m(\u001b[0m\u001b[0mX_mat\u001b[0m\u001b[0;34m,\u001b[0m \u001b[0my_train\u001b[0m\u001b[0;34m)\u001b[0m\u001b[0;34m\u001b[0m\u001b[0;34m\u001b[0m\u001b[0m\n\u001b[0m",
      "\u001b[0;32m~/opt/anaconda3/lib/python3.7/site-packages/sklearn/linear_model/_logistic.py\u001b[0m in \u001b[0;36mfit\u001b[0;34m(self, X, y, sample_weight)\u001b[0m\n\u001b[1;32m   1899\u001b[0m                       \u001b[0ml1_ratio\u001b[0m\u001b[0;34m=\u001b[0m\u001b[0ml1_ratio\u001b[0m\u001b[0;34m\u001b[0m\u001b[0;34m\u001b[0m\u001b[0m\n\u001b[1;32m   1900\u001b[0m                       )\n\u001b[0;32m-> 1901\u001b[0;31m             \u001b[0;32mfor\u001b[0m \u001b[0mlabel\u001b[0m \u001b[0;32min\u001b[0m \u001b[0miter_encoded_labels\u001b[0m\u001b[0;34m\u001b[0m\u001b[0;34m\u001b[0m\u001b[0m\n\u001b[0m\u001b[1;32m   1902\u001b[0m             \u001b[0;32mfor\u001b[0m \u001b[0mtrain\u001b[0m\u001b[0;34m,\u001b[0m \u001b[0mtest\u001b[0m \u001b[0;32min\u001b[0m \u001b[0mfolds\u001b[0m\u001b[0;34m\u001b[0m\u001b[0;34m\u001b[0m\u001b[0m\n\u001b[1;32m   1903\u001b[0m             for l1_ratio in l1_ratios_)\n",
      "\u001b[0;32m~/opt/anaconda3/lib/python3.7/site-packages/joblib/parallel.py\u001b[0m in \u001b[0;36m__call__\u001b[0;34m(self, iterable)\u001b[0m\n\u001b[1;32m   1005\u001b[0m                 \u001b[0mself\u001b[0m\u001b[0;34m.\u001b[0m\u001b[0m_iterating\u001b[0m \u001b[0;34m=\u001b[0m \u001b[0mself\u001b[0m\u001b[0;34m.\u001b[0m\u001b[0m_original_iterator\u001b[0m \u001b[0;32mis\u001b[0m \u001b[0;32mnot\u001b[0m \u001b[0;32mNone\u001b[0m\u001b[0;34m\u001b[0m\u001b[0;34m\u001b[0m\u001b[0m\n\u001b[1;32m   1006\u001b[0m \u001b[0;34m\u001b[0m\u001b[0m\n\u001b[0;32m-> 1007\u001b[0;31m             \u001b[0;32mwhile\u001b[0m \u001b[0mself\u001b[0m\u001b[0;34m.\u001b[0m\u001b[0mdispatch_one_batch\u001b[0m\u001b[0;34m(\u001b[0m\u001b[0miterator\u001b[0m\u001b[0;34m)\u001b[0m\u001b[0;34m:\u001b[0m\u001b[0;34m\u001b[0m\u001b[0;34m\u001b[0m\u001b[0m\n\u001b[0m\u001b[1;32m   1008\u001b[0m                 \u001b[0;32mpass\u001b[0m\u001b[0;34m\u001b[0m\u001b[0;34m\u001b[0m\u001b[0m\n\u001b[1;32m   1009\u001b[0m \u001b[0;34m\u001b[0m\u001b[0m\n",
      "\u001b[0;32m~/opt/anaconda3/lib/python3.7/site-packages/joblib/parallel.py\u001b[0m in \u001b[0;36mdispatch_one_batch\u001b[0;34m(self, iterator)\u001b[0m\n\u001b[1;32m    833\u001b[0m                 \u001b[0;32mreturn\u001b[0m \u001b[0;32mFalse\u001b[0m\u001b[0;34m\u001b[0m\u001b[0;34m\u001b[0m\u001b[0m\n\u001b[1;32m    834\u001b[0m             \u001b[0;32melse\u001b[0m\u001b[0;34m:\u001b[0m\u001b[0;34m\u001b[0m\u001b[0;34m\u001b[0m\u001b[0m\n\u001b[0;32m--> 835\u001b[0;31m                 \u001b[0mself\u001b[0m\u001b[0;34m.\u001b[0m\u001b[0m_dispatch\u001b[0m\u001b[0;34m(\u001b[0m\u001b[0mtasks\u001b[0m\u001b[0;34m)\u001b[0m\u001b[0;34m\u001b[0m\u001b[0;34m\u001b[0m\u001b[0m\n\u001b[0m\u001b[1;32m    836\u001b[0m                 \u001b[0;32mreturn\u001b[0m \u001b[0;32mTrue\u001b[0m\u001b[0;34m\u001b[0m\u001b[0;34m\u001b[0m\u001b[0m\n\u001b[1;32m    837\u001b[0m \u001b[0;34m\u001b[0m\u001b[0m\n",
      "\u001b[0;32m~/opt/anaconda3/lib/python3.7/site-packages/joblib/parallel.py\u001b[0m in \u001b[0;36m_dispatch\u001b[0;34m(self, batch)\u001b[0m\n\u001b[1;32m    752\u001b[0m         \u001b[0;32mwith\u001b[0m \u001b[0mself\u001b[0m\u001b[0;34m.\u001b[0m\u001b[0m_lock\u001b[0m\u001b[0;34m:\u001b[0m\u001b[0;34m\u001b[0m\u001b[0;34m\u001b[0m\u001b[0m\n\u001b[1;32m    753\u001b[0m             \u001b[0mjob_idx\u001b[0m \u001b[0;34m=\u001b[0m \u001b[0mlen\u001b[0m\u001b[0;34m(\u001b[0m\u001b[0mself\u001b[0m\u001b[0;34m.\u001b[0m\u001b[0m_jobs\u001b[0m\u001b[0;34m)\u001b[0m\u001b[0;34m\u001b[0m\u001b[0;34m\u001b[0m\u001b[0m\n\u001b[0;32m--> 754\u001b[0;31m             \u001b[0mjob\u001b[0m \u001b[0;34m=\u001b[0m \u001b[0mself\u001b[0m\u001b[0;34m.\u001b[0m\u001b[0m_backend\u001b[0m\u001b[0;34m.\u001b[0m\u001b[0mapply_async\u001b[0m\u001b[0;34m(\u001b[0m\u001b[0mbatch\u001b[0m\u001b[0;34m,\u001b[0m \u001b[0mcallback\u001b[0m\u001b[0;34m=\u001b[0m\u001b[0mcb\u001b[0m\u001b[0;34m)\u001b[0m\u001b[0;34m\u001b[0m\u001b[0;34m\u001b[0m\u001b[0m\n\u001b[0m\u001b[1;32m    755\u001b[0m             \u001b[0;31m# A job can complete so quickly than its callback is\u001b[0m\u001b[0;34m\u001b[0m\u001b[0;34m\u001b[0m\u001b[0;34m\u001b[0m\u001b[0m\n\u001b[1;32m    756\u001b[0m             \u001b[0;31m# called before we get here, causing self._jobs to\u001b[0m\u001b[0;34m\u001b[0m\u001b[0;34m\u001b[0m\u001b[0;34m\u001b[0m\u001b[0m\n",
      "\u001b[0;32m~/opt/anaconda3/lib/python3.7/site-packages/joblib/_parallel_backends.py\u001b[0m in \u001b[0;36mapply_async\u001b[0;34m(self, func, callback)\u001b[0m\n\u001b[1;32m    207\u001b[0m     \u001b[0;32mdef\u001b[0m \u001b[0mapply_async\u001b[0m\u001b[0;34m(\u001b[0m\u001b[0mself\u001b[0m\u001b[0;34m,\u001b[0m \u001b[0mfunc\u001b[0m\u001b[0;34m,\u001b[0m \u001b[0mcallback\u001b[0m\u001b[0;34m=\u001b[0m\u001b[0;32mNone\u001b[0m\u001b[0;34m)\u001b[0m\u001b[0;34m:\u001b[0m\u001b[0;34m\u001b[0m\u001b[0;34m\u001b[0m\u001b[0m\n\u001b[1;32m    208\u001b[0m         \u001b[0;34m\"\"\"Schedule a func to be run\"\"\"\u001b[0m\u001b[0;34m\u001b[0m\u001b[0;34m\u001b[0m\u001b[0m\n\u001b[0;32m--> 209\u001b[0;31m         \u001b[0mresult\u001b[0m \u001b[0;34m=\u001b[0m \u001b[0mImmediateResult\u001b[0m\u001b[0;34m(\u001b[0m\u001b[0mfunc\u001b[0m\u001b[0;34m)\u001b[0m\u001b[0;34m\u001b[0m\u001b[0;34m\u001b[0m\u001b[0m\n\u001b[0m\u001b[1;32m    210\u001b[0m         \u001b[0;32mif\u001b[0m \u001b[0mcallback\u001b[0m\u001b[0;34m:\u001b[0m\u001b[0;34m\u001b[0m\u001b[0;34m\u001b[0m\u001b[0m\n\u001b[1;32m    211\u001b[0m             \u001b[0mcallback\u001b[0m\u001b[0;34m(\u001b[0m\u001b[0mresult\u001b[0m\u001b[0;34m)\u001b[0m\u001b[0;34m\u001b[0m\u001b[0;34m\u001b[0m\u001b[0m\n",
      "\u001b[0;32m~/opt/anaconda3/lib/python3.7/site-packages/joblib/_parallel_backends.py\u001b[0m in \u001b[0;36m__init__\u001b[0;34m(self, batch)\u001b[0m\n\u001b[1;32m    588\u001b[0m         \u001b[0;31m# Don't delay the application, to avoid keeping the input\u001b[0m\u001b[0;34m\u001b[0m\u001b[0;34m\u001b[0m\u001b[0;34m\u001b[0m\u001b[0m\n\u001b[1;32m    589\u001b[0m         \u001b[0;31m# arguments in memory\u001b[0m\u001b[0;34m\u001b[0m\u001b[0;34m\u001b[0m\u001b[0;34m\u001b[0m\u001b[0m\n\u001b[0;32m--> 590\u001b[0;31m         \u001b[0mself\u001b[0m\u001b[0;34m.\u001b[0m\u001b[0mresults\u001b[0m \u001b[0;34m=\u001b[0m \u001b[0mbatch\u001b[0m\u001b[0;34m(\u001b[0m\u001b[0;34m)\u001b[0m\u001b[0;34m\u001b[0m\u001b[0;34m\u001b[0m\u001b[0m\n\u001b[0m\u001b[1;32m    591\u001b[0m \u001b[0;34m\u001b[0m\u001b[0m\n\u001b[1;32m    592\u001b[0m     \u001b[0;32mdef\u001b[0m \u001b[0mget\u001b[0m\u001b[0;34m(\u001b[0m\u001b[0mself\u001b[0m\u001b[0;34m)\u001b[0m\u001b[0;34m:\u001b[0m\u001b[0;34m\u001b[0m\u001b[0;34m\u001b[0m\u001b[0m\n",
      "\u001b[0;32m~/opt/anaconda3/lib/python3.7/site-packages/joblib/parallel.py\u001b[0m in \u001b[0;36m__call__\u001b[0;34m(self)\u001b[0m\n\u001b[1;32m    254\u001b[0m         \u001b[0;32mwith\u001b[0m \u001b[0mparallel_backend\u001b[0m\u001b[0;34m(\u001b[0m\u001b[0mself\u001b[0m\u001b[0;34m.\u001b[0m\u001b[0m_backend\u001b[0m\u001b[0;34m,\u001b[0m \u001b[0mn_jobs\u001b[0m\u001b[0;34m=\u001b[0m\u001b[0mself\u001b[0m\u001b[0;34m.\u001b[0m\u001b[0m_n_jobs\u001b[0m\u001b[0;34m)\u001b[0m\u001b[0;34m:\u001b[0m\u001b[0;34m\u001b[0m\u001b[0;34m\u001b[0m\u001b[0m\n\u001b[1;32m    255\u001b[0m             return [func(*args, **kwargs)\n\u001b[0;32m--> 256\u001b[0;31m                     for func, args, kwargs in self.items]\n\u001b[0m\u001b[1;32m    257\u001b[0m \u001b[0;34m\u001b[0m\u001b[0m\n\u001b[1;32m    258\u001b[0m     \u001b[0;32mdef\u001b[0m \u001b[0m__len__\u001b[0m\u001b[0;34m(\u001b[0m\u001b[0mself\u001b[0m\u001b[0;34m)\u001b[0m\u001b[0;34m:\u001b[0m\u001b[0;34m\u001b[0m\u001b[0;34m\u001b[0m\u001b[0m\n",
      "\u001b[0;32m~/opt/anaconda3/lib/python3.7/site-packages/joblib/parallel.py\u001b[0m in \u001b[0;36m<listcomp>\u001b[0;34m(.0)\u001b[0m\n\u001b[1;32m    254\u001b[0m         \u001b[0;32mwith\u001b[0m \u001b[0mparallel_backend\u001b[0m\u001b[0;34m(\u001b[0m\u001b[0mself\u001b[0m\u001b[0;34m.\u001b[0m\u001b[0m_backend\u001b[0m\u001b[0;34m,\u001b[0m \u001b[0mn_jobs\u001b[0m\u001b[0;34m=\u001b[0m\u001b[0mself\u001b[0m\u001b[0;34m.\u001b[0m\u001b[0m_n_jobs\u001b[0m\u001b[0;34m)\u001b[0m\u001b[0;34m:\u001b[0m\u001b[0;34m\u001b[0m\u001b[0;34m\u001b[0m\u001b[0m\n\u001b[1;32m    255\u001b[0m             return [func(*args, **kwargs)\n\u001b[0;32m--> 256\u001b[0;31m                     for func, args, kwargs in self.items]\n\u001b[0m\u001b[1;32m    257\u001b[0m \u001b[0;34m\u001b[0m\u001b[0m\n\u001b[1;32m    258\u001b[0m     \u001b[0;32mdef\u001b[0m \u001b[0m__len__\u001b[0m\u001b[0;34m(\u001b[0m\u001b[0mself\u001b[0m\u001b[0;34m)\u001b[0m\u001b[0;34m:\u001b[0m\u001b[0;34m\u001b[0m\u001b[0;34m\u001b[0m\u001b[0m\n",
      "\u001b[0;32m~/opt/anaconda3/lib/python3.7/site-packages/sklearn/utils/fixes.py\u001b[0m in \u001b[0;36m__call__\u001b[0;34m(self, *args, **kwargs)\u001b[0m\n\u001b[1;32m    220\u001b[0m     \u001b[0;32mdef\u001b[0m \u001b[0m__call__\u001b[0m\u001b[0;34m(\u001b[0m\u001b[0mself\u001b[0m\u001b[0;34m,\u001b[0m \u001b[0;34m*\u001b[0m\u001b[0margs\u001b[0m\u001b[0;34m,\u001b[0m \u001b[0;34m**\u001b[0m\u001b[0mkwargs\u001b[0m\u001b[0;34m)\u001b[0m\u001b[0;34m:\u001b[0m\u001b[0;34m\u001b[0m\u001b[0;34m\u001b[0m\u001b[0m\n\u001b[1;32m    221\u001b[0m         \u001b[0;32mwith\u001b[0m \u001b[0mconfig_context\u001b[0m\u001b[0;34m(\u001b[0m\u001b[0;34m**\u001b[0m\u001b[0mself\u001b[0m\u001b[0;34m.\u001b[0m\u001b[0mconfig\u001b[0m\u001b[0;34m)\u001b[0m\u001b[0;34m:\u001b[0m\u001b[0;34m\u001b[0m\u001b[0;34m\u001b[0m\u001b[0m\n\u001b[0;32m--> 222\u001b[0;31m             \u001b[0;32mreturn\u001b[0m \u001b[0mself\u001b[0m\u001b[0;34m.\u001b[0m\u001b[0mfunction\u001b[0m\u001b[0;34m(\u001b[0m\u001b[0;34m*\u001b[0m\u001b[0margs\u001b[0m\u001b[0;34m,\u001b[0m \u001b[0;34m**\u001b[0m\u001b[0mkwargs\u001b[0m\u001b[0;34m)\u001b[0m\u001b[0;34m\u001b[0m\u001b[0;34m\u001b[0m\u001b[0m\n\u001b[0m",
      "\u001b[0;32m~/opt/anaconda3/lib/python3.7/site-packages/sklearn/linear_model/_logistic.py\u001b[0m in \u001b[0;36m_log_reg_scoring_path\u001b[0;34m(X, y, train, test, pos_class, Cs, scoring, fit_intercept, max_iter, tol, class_weight, verbose, solver, penalty, dual, intercept_scaling, multi_class, random_state, max_squared_sum, sample_weight, l1_ratio)\u001b[0m\n\u001b[1;32m    971\u001b[0m         \u001b[0mpenalty\u001b[0m\u001b[0;34m=\u001b[0m\u001b[0mpenalty\u001b[0m\u001b[0;34m,\u001b[0m \u001b[0mintercept_scaling\u001b[0m\u001b[0;34m=\u001b[0m\u001b[0mintercept_scaling\u001b[0m\u001b[0;34m,\u001b[0m\u001b[0;34m\u001b[0m\u001b[0;34m\u001b[0m\u001b[0m\n\u001b[1;32m    972\u001b[0m         \u001b[0mrandom_state\u001b[0m\u001b[0;34m=\u001b[0m\u001b[0mrandom_state\u001b[0m\u001b[0;34m,\u001b[0m \u001b[0mcheck_input\u001b[0m\u001b[0;34m=\u001b[0m\u001b[0;32mFalse\u001b[0m\u001b[0;34m,\u001b[0m\u001b[0;34m\u001b[0m\u001b[0;34m\u001b[0m\u001b[0m\n\u001b[0;32m--> 973\u001b[0;31m         max_squared_sum=max_squared_sum, sample_weight=sample_weight)\n\u001b[0m\u001b[1;32m    974\u001b[0m \u001b[0;34m\u001b[0m\u001b[0m\n\u001b[1;32m    975\u001b[0m     \u001b[0mlog_reg\u001b[0m \u001b[0;34m=\u001b[0m \u001b[0mLogisticRegression\u001b[0m\u001b[0;34m(\u001b[0m\u001b[0msolver\u001b[0m\u001b[0;34m=\u001b[0m\u001b[0msolver\u001b[0m\u001b[0;34m,\u001b[0m \u001b[0mmulti_class\u001b[0m\u001b[0;34m=\u001b[0m\u001b[0mmulti_class\u001b[0m\u001b[0;34m)\u001b[0m\u001b[0;34m\u001b[0m\u001b[0;34m\u001b[0m\u001b[0m\n",
      "\u001b[0;32m~/opt/anaconda3/lib/python3.7/site-packages/sklearn/linear_model/_logistic.py\u001b[0m in \u001b[0;36m_logistic_regression_path\u001b[0;34m(X, y, pos_class, Cs, fit_intercept, max_iter, tol, verbose, solver, coef, class_weight, dual, penalty, intercept_scaling, multi_class, random_state, check_input, max_squared_sum, sample_weight, l1_ratio)\u001b[0m\n\u001b[1;32m    759\u001b[0m                 \u001b[0mfunc\u001b[0m\u001b[0;34m,\u001b[0m \u001b[0mw0\u001b[0m\u001b[0;34m,\u001b[0m \u001b[0mmethod\u001b[0m\u001b[0;34m=\u001b[0m\u001b[0;34m\"L-BFGS-B\"\u001b[0m\u001b[0;34m,\u001b[0m \u001b[0mjac\u001b[0m\u001b[0;34m=\u001b[0m\u001b[0;32mTrue\u001b[0m\u001b[0;34m,\u001b[0m\u001b[0;34m\u001b[0m\u001b[0;34m\u001b[0m\u001b[0m\n\u001b[1;32m    760\u001b[0m                 \u001b[0margs\u001b[0m\u001b[0;34m=\u001b[0m\u001b[0;34m(\u001b[0m\u001b[0mX\u001b[0m\u001b[0;34m,\u001b[0m \u001b[0mtarget\u001b[0m\u001b[0;34m,\u001b[0m \u001b[0;36m1.\u001b[0m \u001b[0;34m/\u001b[0m \u001b[0mC\u001b[0m\u001b[0;34m,\u001b[0m \u001b[0msample_weight\u001b[0m\u001b[0;34m)\u001b[0m\u001b[0;34m,\u001b[0m\u001b[0;34m\u001b[0m\u001b[0;34m\u001b[0m\u001b[0m\n\u001b[0;32m--> 761\u001b[0;31m                 \u001b[0moptions\u001b[0m\u001b[0;34m=\u001b[0m\u001b[0;34m{\u001b[0m\u001b[0;34m\"iprint\"\u001b[0m\u001b[0;34m:\u001b[0m \u001b[0miprint\u001b[0m\u001b[0;34m,\u001b[0m \u001b[0;34m\"gtol\"\u001b[0m\u001b[0;34m:\u001b[0m \u001b[0mtol\u001b[0m\u001b[0;34m,\u001b[0m \u001b[0;34m\"maxiter\"\u001b[0m\u001b[0;34m:\u001b[0m \u001b[0mmax_iter\u001b[0m\u001b[0;34m}\u001b[0m\u001b[0;34m\u001b[0m\u001b[0;34m\u001b[0m\u001b[0m\n\u001b[0m\u001b[1;32m    762\u001b[0m             )\n\u001b[1;32m    763\u001b[0m             n_iter_i = _check_optimize_result(\n",
      "\u001b[0;32m~/opt/anaconda3/lib/python3.7/site-packages/scipy/optimize/_minimize.py\u001b[0m in \u001b[0;36mminimize\u001b[0;34m(fun, x0, args, method, jac, hess, hessp, bounds, constraints, tol, callback, options)\u001b[0m\n\u001b[1;32m    608\u001b[0m     \u001b[0;32melif\u001b[0m \u001b[0mmeth\u001b[0m \u001b[0;34m==\u001b[0m \u001b[0;34m'l-bfgs-b'\u001b[0m\u001b[0;34m:\u001b[0m\u001b[0;34m\u001b[0m\u001b[0;34m\u001b[0m\u001b[0m\n\u001b[1;32m    609\u001b[0m         return _minimize_lbfgsb(fun, x0, args, jac, bounds,\n\u001b[0;32m--> 610\u001b[0;31m                                 callback=callback, **options)\n\u001b[0m\u001b[1;32m    611\u001b[0m     \u001b[0;32melif\u001b[0m \u001b[0mmeth\u001b[0m \u001b[0;34m==\u001b[0m \u001b[0;34m'tnc'\u001b[0m\u001b[0;34m:\u001b[0m\u001b[0;34m\u001b[0m\u001b[0;34m\u001b[0m\u001b[0m\n\u001b[1;32m    612\u001b[0m         return _minimize_tnc(fun, x0, args, jac, bounds, callback=callback,\n",
      "\u001b[0;32m~/opt/anaconda3/lib/python3.7/site-packages/scipy/optimize/lbfgsb.py\u001b[0m in \u001b[0;36m_minimize_lbfgsb\u001b[0;34m(fun, x0, args, jac, bounds, disp, maxcor, ftol, gtol, eps, maxfun, maxiter, iprint, callback, maxls, **unknown_options)\u001b[0m\n\u001b[1;32m    343\u001b[0m             \u001b[0;31m# until the completion of the current minimization iteration.\u001b[0m\u001b[0;34m\u001b[0m\u001b[0;34m\u001b[0m\u001b[0;34m\u001b[0m\u001b[0m\n\u001b[1;32m    344\u001b[0m             \u001b[0;31m# Overwrite f and g:\u001b[0m\u001b[0;34m\u001b[0m\u001b[0;34m\u001b[0m\u001b[0;34m\u001b[0m\u001b[0m\n\u001b[0;32m--> 345\u001b[0;31m             \u001b[0mf\u001b[0m\u001b[0;34m,\u001b[0m \u001b[0mg\u001b[0m \u001b[0;34m=\u001b[0m \u001b[0mfunc_and_grad\u001b[0m\u001b[0;34m(\u001b[0m\u001b[0mx\u001b[0m\u001b[0;34m)\u001b[0m\u001b[0;34m\u001b[0m\u001b[0;34m\u001b[0m\u001b[0m\n\u001b[0m\u001b[1;32m    346\u001b[0m         \u001b[0;32melif\u001b[0m \u001b[0mtask_str\u001b[0m\u001b[0;34m.\u001b[0m\u001b[0mstartswith\u001b[0m\u001b[0;34m(\u001b[0m\u001b[0;34mb'NEW_X'\u001b[0m\u001b[0;34m)\u001b[0m\u001b[0;34m:\u001b[0m\u001b[0;34m\u001b[0m\u001b[0;34m\u001b[0m\u001b[0m\n\u001b[1;32m    347\u001b[0m             \u001b[0;31m# new iteration\u001b[0m\u001b[0;34m\u001b[0m\u001b[0;34m\u001b[0m\u001b[0;34m\u001b[0m\u001b[0m\n",
      "\u001b[0;32m~/opt/anaconda3/lib/python3.7/site-packages/scipy/optimize/lbfgsb.py\u001b[0m in \u001b[0;36mfunc_and_grad\u001b[0;34m(x)\u001b[0m\n\u001b[1;32m    293\u001b[0m     \u001b[0;32melse\u001b[0m\u001b[0;34m:\u001b[0m\u001b[0;34m\u001b[0m\u001b[0;34m\u001b[0m\u001b[0m\n\u001b[1;32m    294\u001b[0m         \u001b[0;32mdef\u001b[0m \u001b[0mfunc_and_grad\u001b[0m\u001b[0;34m(\u001b[0m\u001b[0mx\u001b[0m\u001b[0;34m)\u001b[0m\u001b[0;34m:\u001b[0m\u001b[0;34m\u001b[0m\u001b[0;34m\u001b[0m\u001b[0m\n\u001b[0;32m--> 295\u001b[0;31m             \u001b[0mf\u001b[0m \u001b[0;34m=\u001b[0m \u001b[0mfun\u001b[0m\u001b[0;34m(\u001b[0m\u001b[0mx\u001b[0m\u001b[0;34m,\u001b[0m \u001b[0;34m*\u001b[0m\u001b[0margs\u001b[0m\u001b[0;34m)\u001b[0m\u001b[0;34m\u001b[0m\u001b[0;34m\u001b[0m\u001b[0m\n\u001b[0m\u001b[1;32m    296\u001b[0m             \u001b[0mg\u001b[0m \u001b[0;34m=\u001b[0m \u001b[0mjac\u001b[0m\u001b[0;34m(\u001b[0m\u001b[0mx\u001b[0m\u001b[0;34m,\u001b[0m \u001b[0;34m*\u001b[0m\u001b[0margs\u001b[0m\u001b[0;34m)\u001b[0m\u001b[0;34m\u001b[0m\u001b[0;34m\u001b[0m\u001b[0m\n\u001b[1;32m    297\u001b[0m             \u001b[0;32mreturn\u001b[0m \u001b[0mf\u001b[0m\u001b[0;34m,\u001b[0m \u001b[0mg\u001b[0m\u001b[0;34m\u001b[0m\u001b[0;34m\u001b[0m\u001b[0m\n",
      "\u001b[0;32m~/opt/anaconda3/lib/python3.7/site-packages/scipy/optimize/optimize.py\u001b[0m in \u001b[0;36mfunction_wrapper\u001b[0;34m(*wrapper_args)\u001b[0m\n\u001b[1;32m    325\u001b[0m     \u001b[0;32mdef\u001b[0m \u001b[0mfunction_wrapper\u001b[0m\u001b[0;34m(\u001b[0m\u001b[0;34m*\u001b[0m\u001b[0mwrapper_args\u001b[0m\u001b[0;34m)\u001b[0m\u001b[0;34m:\u001b[0m\u001b[0;34m\u001b[0m\u001b[0;34m\u001b[0m\u001b[0m\n\u001b[1;32m    326\u001b[0m         \u001b[0mncalls\u001b[0m\u001b[0;34m[\u001b[0m\u001b[0;36m0\u001b[0m\u001b[0;34m]\u001b[0m \u001b[0;34m+=\u001b[0m \u001b[0;36m1\u001b[0m\u001b[0;34m\u001b[0m\u001b[0;34m\u001b[0m\u001b[0m\n\u001b[0;32m--> 327\u001b[0;31m         \u001b[0;32mreturn\u001b[0m \u001b[0mfunction\u001b[0m\u001b[0;34m(\u001b[0m\u001b[0;34m*\u001b[0m\u001b[0;34m(\u001b[0m\u001b[0mwrapper_args\u001b[0m \u001b[0;34m+\u001b[0m \u001b[0margs\u001b[0m\u001b[0;34m)\u001b[0m\u001b[0;34m)\u001b[0m\u001b[0;34m\u001b[0m\u001b[0;34m\u001b[0m\u001b[0m\n\u001b[0m\u001b[1;32m    328\u001b[0m \u001b[0;34m\u001b[0m\u001b[0m\n\u001b[1;32m    329\u001b[0m     \u001b[0;32mreturn\u001b[0m \u001b[0mncalls\u001b[0m\u001b[0;34m,\u001b[0m \u001b[0mfunction_wrapper\u001b[0m\u001b[0;34m\u001b[0m\u001b[0;34m\u001b[0m\u001b[0m\n",
      "\u001b[0;32m~/opt/anaconda3/lib/python3.7/site-packages/scipy/optimize/optimize.py\u001b[0m in \u001b[0;36m__call__\u001b[0;34m(self, x, *args)\u001b[0m\n\u001b[1;32m     63\u001b[0m     \u001b[0;32mdef\u001b[0m \u001b[0m__call__\u001b[0m\u001b[0;34m(\u001b[0m\u001b[0mself\u001b[0m\u001b[0;34m,\u001b[0m \u001b[0mx\u001b[0m\u001b[0;34m,\u001b[0m \u001b[0;34m*\u001b[0m\u001b[0margs\u001b[0m\u001b[0;34m)\u001b[0m\u001b[0;34m:\u001b[0m\u001b[0;34m\u001b[0m\u001b[0;34m\u001b[0m\u001b[0m\n\u001b[1;32m     64\u001b[0m         \u001b[0mself\u001b[0m\u001b[0;34m.\u001b[0m\u001b[0mx\u001b[0m \u001b[0;34m=\u001b[0m \u001b[0mnumpy\u001b[0m\u001b[0;34m.\u001b[0m\u001b[0masarray\u001b[0m\u001b[0;34m(\u001b[0m\u001b[0mx\u001b[0m\u001b[0;34m)\u001b[0m\u001b[0;34m.\u001b[0m\u001b[0mcopy\u001b[0m\u001b[0;34m(\u001b[0m\u001b[0;34m)\u001b[0m\u001b[0;34m\u001b[0m\u001b[0;34m\u001b[0m\u001b[0m\n\u001b[0;32m---> 65\u001b[0;31m         \u001b[0mfg\u001b[0m \u001b[0;34m=\u001b[0m \u001b[0mself\u001b[0m\u001b[0;34m.\u001b[0m\u001b[0mfun\u001b[0m\u001b[0;34m(\u001b[0m\u001b[0mx\u001b[0m\u001b[0;34m,\u001b[0m \u001b[0;34m*\u001b[0m\u001b[0margs\u001b[0m\u001b[0;34m)\u001b[0m\u001b[0;34m\u001b[0m\u001b[0;34m\u001b[0m\u001b[0m\n\u001b[0m\u001b[1;32m     66\u001b[0m         \u001b[0mself\u001b[0m\u001b[0;34m.\u001b[0m\u001b[0mjac\u001b[0m \u001b[0;34m=\u001b[0m \u001b[0mfg\u001b[0m\u001b[0;34m[\u001b[0m\u001b[0;36m1\u001b[0m\u001b[0;34m]\u001b[0m\u001b[0;34m\u001b[0m\u001b[0;34m\u001b[0m\u001b[0m\n\u001b[1;32m     67\u001b[0m         \u001b[0;32mreturn\u001b[0m \u001b[0mfg\u001b[0m\u001b[0;34m[\u001b[0m\u001b[0;36m0\u001b[0m\u001b[0;34m]\u001b[0m\u001b[0;34m\u001b[0m\u001b[0;34m\u001b[0m\u001b[0m\n",
      "\u001b[0;32m~/opt/anaconda3/lib/python3.7/site-packages/sklearn/linear_model/_logistic.py\u001b[0m in \u001b[0;36mfunc\u001b[0;34m(x, *args)\u001b[0m\n\u001b[1;32m    734\u001b[0m         \u001b[0mtarget\u001b[0m \u001b[0;34m=\u001b[0m \u001b[0mY_multi\u001b[0m\u001b[0;34m\u001b[0m\u001b[0;34m\u001b[0m\u001b[0m\n\u001b[1;32m    735\u001b[0m         \u001b[0;32mif\u001b[0m \u001b[0msolver\u001b[0m \u001b[0;34m==\u001b[0m \u001b[0;34m'lbfgs'\u001b[0m\u001b[0;34m:\u001b[0m\u001b[0;34m\u001b[0m\u001b[0;34m\u001b[0m\u001b[0m\n\u001b[0;32m--> 736\u001b[0;31m             \u001b[0;32mdef\u001b[0m \u001b[0mfunc\u001b[0m\u001b[0;34m(\u001b[0m\u001b[0mx\u001b[0m\u001b[0;34m,\u001b[0m \u001b[0;34m*\u001b[0m\u001b[0margs\u001b[0m\u001b[0;34m)\u001b[0m\u001b[0;34m:\u001b[0m \u001b[0;32mreturn\u001b[0m \u001b[0m_multinomial_loss_grad\u001b[0m\u001b[0;34m(\u001b[0m\u001b[0mx\u001b[0m\u001b[0;34m,\u001b[0m \u001b[0;34m*\u001b[0m\u001b[0margs\u001b[0m\u001b[0;34m)\u001b[0m\u001b[0;34m[\u001b[0m\u001b[0;36m0\u001b[0m\u001b[0;34m:\u001b[0m\u001b[0;36m2\u001b[0m\u001b[0;34m]\u001b[0m\u001b[0;34m\u001b[0m\u001b[0;34m\u001b[0m\u001b[0m\n\u001b[0m\u001b[1;32m    737\u001b[0m         \u001b[0;32melif\u001b[0m \u001b[0msolver\u001b[0m \u001b[0;34m==\u001b[0m \u001b[0;34m'newton-cg'\u001b[0m\u001b[0;34m:\u001b[0m\u001b[0;34m\u001b[0m\u001b[0;34m\u001b[0m\u001b[0m\n\u001b[1;32m    738\u001b[0m             \u001b[0;32mdef\u001b[0m \u001b[0mfunc\u001b[0m\u001b[0;34m(\u001b[0m\u001b[0mx\u001b[0m\u001b[0;34m,\u001b[0m \u001b[0;34m*\u001b[0m\u001b[0margs\u001b[0m\u001b[0;34m)\u001b[0m\u001b[0;34m:\u001b[0m \u001b[0;32mreturn\u001b[0m \u001b[0m_multinomial_loss\u001b[0m\u001b[0;34m(\u001b[0m\u001b[0mx\u001b[0m\u001b[0;34m,\u001b[0m \u001b[0;34m*\u001b[0m\u001b[0margs\u001b[0m\u001b[0;34m)\u001b[0m\u001b[0;34m[\u001b[0m\u001b[0;36m0\u001b[0m\u001b[0;34m]\u001b[0m\u001b[0;34m\u001b[0m\u001b[0;34m\u001b[0m\u001b[0m\n",
      "\u001b[0;32m~/opt/anaconda3/lib/python3.7/site-packages/sklearn/linear_model/_logistic.py\u001b[0m in \u001b[0;36m_multinomial_loss_grad\u001b[0;34m(w, X, Y, alpha, sample_weight)\u001b[0m\n\u001b[1;32m    346\u001b[0m     grad = np.zeros((n_classes, n_features + bool(fit_intercept)),\n\u001b[1;32m    347\u001b[0m                     dtype=X.dtype)\n\u001b[0;32m--> 348\u001b[0;31m     \u001b[0mloss\u001b[0m\u001b[0;34m,\u001b[0m \u001b[0mp\u001b[0m\u001b[0;34m,\u001b[0m \u001b[0mw\u001b[0m \u001b[0;34m=\u001b[0m \u001b[0m_multinomial_loss\u001b[0m\u001b[0;34m(\u001b[0m\u001b[0mw\u001b[0m\u001b[0;34m,\u001b[0m \u001b[0mX\u001b[0m\u001b[0;34m,\u001b[0m \u001b[0mY\u001b[0m\u001b[0;34m,\u001b[0m \u001b[0malpha\u001b[0m\u001b[0;34m,\u001b[0m \u001b[0msample_weight\u001b[0m\u001b[0;34m)\u001b[0m\u001b[0;34m\u001b[0m\u001b[0;34m\u001b[0m\u001b[0m\n\u001b[0m\u001b[1;32m    349\u001b[0m     \u001b[0msample_weight\u001b[0m \u001b[0;34m=\u001b[0m \u001b[0msample_weight\u001b[0m\u001b[0;34m[\u001b[0m\u001b[0;34m:\u001b[0m\u001b[0;34m,\u001b[0m \u001b[0mnp\u001b[0m\u001b[0;34m.\u001b[0m\u001b[0mnewaxis\u001b[0m\u001b[0;34m]\u001b[0m\u001b[0;34m\u001b[0m\u001b[0;34m\u001b[0m\u001b[0m\n\u001b[1;32m    350\u001b[0m     \u001b[0mdiff\u001b[0m \u001b[0;34m=\u001b[0m \u001b[0msample_weight\u001b[0m \u001b[0;34m*\u001b[0m \u001b[0;34m(\u001b[0m\u001b[0mp\u001b[0m \u001b[0;34m-\u001b[0m \u001b[0mY\u001b[0m\u001b[0;34m)\u001b[0m\u001b[0;34m\u001b[0m\u001b[0;34m\u001b[0m\u001b[0m\n",
      "\u001b[0;32m~/opt/anaconda3/lib/python3.7/site-packages/sklearn/linear_model/_logistic.py\u001b[0m in \u001b[0;36m_multinomial_loss\u001b[0;34m(w, X, Y, alpha, sample_weight)\u001b[0m\n\u001b[1;32m    296\u001b[0m     \u001b[0mp\u001b[0m \u001b[0;34m=\u001b[0m \u001b[0msafe_sparse_dot\u001b[0m\u001b[0;34m(\u001b[0m\u001b[0mX\u001b[0m\u001b[0;34m,\u001b[0m \u001b[0mw\u001b[0m\u001b[0;34m.\u001b[0m\u001b[0mT\u001b[0m\u001b[0;34m)\u001b[0m\u001b[0;34m\u001b[0m\u001b[0;34m\u001b[0m\u001b[0m\n\u001b[1;32m    297\u001b[0m     \u001b[0mp\u001b[0m \u001b[0;34m+=\u001b[0m \u001b[0mintercept\u001b[0m\u001b[0;34m\u001b[0m\u001b[0;34m\u001b[0m\u001b[0m\n\u001b[0;32m--> 298\u001b[0;31m     \u001b[0mp\u001b[0m \u001b[0;34m-=\u001b[0m \u001b[0mlogsumexp\u001b[0m\u001b[0;34m(\u001b[0m\u001b[0mp\u001b[0m\u001b[0;34m,\u001b[0m \u001b[0maxis\u001b[0m\u001b[0;34m=\u001b[0m\u001b[0;36m1\u001b[0m\u001b[0;34m)\u001b[0m\u001b[0;34m[\u001b[0m\u001b[0;34m:\u001b[0m\u001b[0;34m,\u001b[0m \u001b[0mnp\u001b[0m\u001b[0;34m.\u001b[0m\u001b[0mnewaxis\u001b[0m\u001b[0;34m]\u001b[0m\u001b[0;34m\u001b[0m\u001b[0;34m\u001b[0m\u001b[0m\n\u001b[0m\u001b[1;32m    299\u001b[0m     \u001b[0mloss\u001b[0m \u001b[0;34m=\u001b[0m \u001b[0;34m-\u001b[0m\u001b[0;34m(\u001b[0m\u001b[0msample_weight\u001b[0m \u001b[0;34m*\u001b[0m \u001b[0mY\u001b[0m \u001b[0;34m*\u001b[0m \u001b[0mp\u001b[0m\u001b[0;34m)\u001b[0m\u001b[0;34m.\u001b[0m\u001b[0msum\u001b[0m\u001b[0;34m(\u001b[0m\u001b[0;34m)\u001b[0m\u001b[0;34m\u001b[0m\u001b[0;34m\u001b[0m\u001b[0m\n\u001b[1;32m    300\u001b[0m     \u001b[0mloss\u001b[0m \u001b[0;34m+=\u001b[0m \u001b[0;36m0.5\u001b[0m \u001b[0;34m*\u001b[0m \u001b[0malpha\u001b[0m \u001b[0;34m*\u001b[0m \u001b[0msquared_norm\u001b[0m\u001b[0;34m(\u001b[0m\u001b[0mw\u001b[0m\u001b[0;34m)\u001b[0m\u001b[0;34m\u001b[0m\u001b[0;34m\u001b[0m\u001b[0m\n",
      "\u001b[0;32m~/opt/anaconda3/lib/python3.7/site-packages/scipy/special/_logsumexp.py\u001b[0m in \u001b[0;36mlogsumexp\u001b[0;34m(a, axis, b, keepdims, return_sign)\u001b[0m\n\u001b[1;32m    118\u001b[0m             \u001b[0msgn\u001b[0m \u001b[0;34m=\u001b[0m \u001b[0mnp\u001b[0m\u001b[0;34m.\u001b[0m\u001b[0msign\u001b[0m\u001b[0;34m(\u001b[0m\u001b[0ms\u001b[0m\u001b[0;34m)\u001b[0m\u001b[0;34m\u001b[0m\u001b[0;34m\u001b[0m\u001b[0m\n\u001b[1;32m    119\u001b[0m             \u001b[0ms\u001b[0m \u001b[0;34m*=\u001b[0m \u001b[0msgn\u001b[0m  \u001b[0;31m# /= makes more sense but we need zero -> zero\u001b[0m\u001b[0;34m\u001b[0m\u001b[0;34m\u001b[0m\u001b[0m\n\u001b[0;32m--> 120\u001b[0;31m         \u001b[0mout\u001b[0m \u001b[0;34m=\u001b[0m \u001b[0mnp\u001b[0m\u001b[0;34m.\u001b[0m\u001b[0mlog\u001b[0m\u001b[0;34m(\u001b[0m\u001b[0ms\u001b[0m\u001b[0;34m)\u001b[0m\u001b[0;34m\u001b[0m\u001b[0;34m\u001b[0m\u001b[0m\n\u001b[0m\u001b[1;32m    121\u001b[0m \u001b[0;34m\u001b[0m\u001b[0m\n\u001b[1;32m    122\u001b[0m     \u001b[0;32mif\u001b[0m \u001b[0;32mnot\u001b[0m \u001b[0mkeepdims\u001b[0m\u001b[0;34m:\u001b[0m\u001b[0;34m\u001b[0m\u001b[0;34m\u001b[0m\u001b[0m\n",
      "\u001b[0;31mKeyboardInterrupt\u001b[0m: "
     ]
    }
   ],
   "source": [
    "lr.fit(X_mat, y_train)"
   ]
  },
  {
   "cell_type": "code",
   "execution_count": 124,
   "metadata": {},
   "outputs": [],
   "source": [
    "from sklearn.feature_extraction._stop_words import ENGLISH_STOP_WORDS\n",
    "from string import punctuation\n",
    "import fasttext\n",
    "from sklearn.metrics import f1_score, precision_score\n",
    "import numpy as np "
   ]
  },
  {
   "cell_type": "code",
   "execution_count": 198,
   "metadata": {},
   "outputs": [],
   "source": [
    "def replace_punct(s):\n",
    "    for p in punctuation:\n",
    "        s = s.replace(p, ' ')\n",
    "#     for w in ENGLISH_STOP_WORDS:\n",
    "#         s = s.replace(' %s ' % w, ' ')\n",
    "    s = ' '.join(s.split())\n",
    "    return s"
   ]
  },
  {
   "cell_type": "code",
   "execution_count": 186,
   "metadata": {},
   "outputs": [],
   "source": [
    "fasttext_train = (\n",
    "    train_df\n",
    "     .assign(text=lambda df:\n",
    "             df\n",
    "             .fillna('')\n",
    "             .apply(lambda df: df['headline'] + '. ' + df['body'], axis=1)\n",
    "             .str.replace('\\n', ' ')\n",
    "             .str.lower()\n",
    "             .apply(replace_punct)\n",
    "             .str.strip()\n",
    "         )\n",
    "    [['text', 'label']]\n",
    "    .apply(lambda x: '__label__%s %s' % (x['label'], x['text']), axis=1)\n",
    ")"
   ]
  },
  {
   "cell_type": "code",
   "execution_count": 188,
   "metadata": {},
   "outputs": [],
   "source": [
    "with open('../data/fasttext-data/news-classes.train', 'w') as f:\n",
    "    for row in fasttext_train:\n",
    "        f.write(row)\n",
    "        f.write('\\n')"
   ]
  },
  {
   "cell_type": "code",
   "execution_count": 189,
   "metadata": {},
   "outputs": [],
   "source": [
    "model = fasttext.train_supervised(input=\"../data/fasttext-data/news-classes.train\", lr=.2, epoch=50)"
   ]
  },
  {
   "cell_type": "code",
   "execution_count": 190,
   "metadata": {},
   "outputs": [],
   "source": [
    "X_test = (\n",
    "    test_df\n",
    "     .fillna('')\n",
    "     .apply(lambda df: df['headline'] + '. ' + df['body'], axis=1)\n",
    "     .str.replace('\\n', ' ')\n",
    "     .str.lower()\n",
    "     .apply(replace_punct)\n",
    "     .str.strip()\n",
    ")"
   ]
  },
  {
   "cell_type": "code",
   "execution_count": 191,
   "metadata": {},
   "outputs": [],
   "source": [
    "y_pred = X_test.apply(model.predict)"
   ]
  },
  {
   "cell_type": "code",
   "execution_count": 192,
   "metadata": {},
   "outputs": [],
   "source": [
    "y_pred_final = (y_pred\n",
    " .to_frame('output')\n",
    " .assign(\n",
    "     y_pred=lambda df: \n",
    "         df['output']\n",
    "             .str.get(0)\n",
    "             .str.get(0)\n",
    "             .str.replace('__label__', '')\n",
    "             .str.strip()\n",
    "        )\n",
    " .assign(y_prob=lambda df: df['output'].str.get(1).apply(lambda x: x[0] if len(x) > 0 else np.nan))\n",
    " [['y_pred', 'y_prob']]\n",
    " .assign(y_true=test_df['label'])\n",
    ")"
   ]
  },
  {
   "cell_type": "code",
   "execution_count": 193,
   "metadata": {},
   "outputs": [
    {
     "data": {
      "text/plain": [
       "Other          7392\n",
       "Labor          5380\n",
       "Elections      4023\n",
       "Safety         2106\n",
       "Disaster       1454\n",
       "Environment     103\n",
       "Name: y_true, dtype: int64"
      ]
     },
     "execution_count": 193,
     "metadata": {},
     "output_type": "execute_result"
    }
   ],
   "source": [
    "y_pred_final.loc[lambda df: df['y_prob'] > .9]['y_true'].value_counts()"
   ]
  },
  {
   "cell_type": "code",
   "execution_count": 194,
   "metadata": {},
   "outputs": [
    {
     "data": {
      "text/plain": [
       "0.8954358100104299"
      ]
     },
     "execution_count": 194,
     "metadata": {},
     "output_type": "execute_result"
    }
   ],
   "source": [
    "(y_pred_final\n",
    " .loc[lambda df: df['y_prob'] > .9]\n",
    " .pipe(lambda df: \n",
    "     precision_score(\n",
    "        df['y_true'],\n",
    "        df['y_pred'],\n",
    "        average='weighted'\n",
    "    )     \n",
    "      \n",
    "  )\n",
    ")"
   ]
  },
  {
   "cell_type": "code",
   "execution_count": 195,
   "metadata": {},
   "outputs": [
    {
     "data": {
      "text/plain": [
       "0.8504152072220904"
      ]
     },
     "execution_count": 195,
     "metadata": {},
     "output_type": "execute_result"
    }
   ],
   "source": [
    "(y_pred_final\n",
    " .loc[lambda df: df['y_prob'] > .9]\n",
    " .pipe(lambda df: \n",
    "     precision_score(\n",
    "        df['y_true'],\n",
    "        df['y_pred'],\n",
    "        average='macro'\n",
    "    )          \n",
    "  )\n",
    ")"
   ]
  },
  {
   "cell_type": "code",
   "execution_count": 196,
   "metadata": {},
   "outputs": [],
   "source": [
    "precision_by_class = {}\n",
    "for l in y_pred_final['y_true'].unique():\n",
    "    p = (y_pred_final\n",
    "     .loc[lambda df: df['y_prob'] > .8]\n",
    "     [['y_true', 'y_pred']]\n",
    "     .pipe(lambda df: df == l)\n",
    "     .pipe(lambda df: \n",
    "         precision_score(\n",
    "            df['y_true'],\n",
    "            df['y_pred'],\n",
    "        )          \n",
    "      )\n",
    "    )\n",
    "    precision_by_class[l] = p"
   ]
  },
  {
   "cell_type": "code",
   "execution_count": 197,
   "metadata": {},
   "outputs": [
    {
     "data": {
      "text/plain": [
       "{'Safety': 0.8623893805309735,\n",
       " 'Labor': 0.8952685637312678,\n",
       " 'Disaster': 0.8416719442685244,\n",
       " 'Other': 0.8562996868224524,\n",
       " 'Elections': 0.887620719929763,\n",
       " 'Environment': 0.632}"
      ]
     },
     "execution_count": 197,
     "metadata": {},
     "output_type": "execute_result"
    }
   ],
   "source": [
    "precision_by_class"
   ]
  },
  {
   "cell_type": "code",
   "execution_count": 199,
   "metadata": {},
   "outputs": [],
   "source": [
    "model.save_model('../data/fasttext-data/model_news-classification.bin')"
   ]
  },
  {
   "cell_type": "code",
   "execution_count": null,
   "metadata": {},
   "outputs": [],
   "source": []
  },
  {
   "cell_type": "code",
   "execution_count": null,
   "metadata": {},
   "outputs": [],
   "source": []
  },
  {
   "cell_type": "code",
   "execution_count": null,
   "metadata": {},
   "outputs": [],
   "source": []
  }
 ],
 "metadata": {
  "hide_input": false,
  "kernelspec": {
   "display_name": "Python 3",
   "language": "python",
   "name": "python3"
  }
 },
 "nbformat": 4,
 "nbformat_minor": 4
}
