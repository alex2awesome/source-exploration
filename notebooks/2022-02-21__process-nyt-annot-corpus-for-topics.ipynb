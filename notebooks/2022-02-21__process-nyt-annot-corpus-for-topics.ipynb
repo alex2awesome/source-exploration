{
 "cells": [
  {
   "cell_type": "code",
   "execution_count": 43,
   "metadata": {},
   "outputs": [],
   "source": [
    "import shutil\n",
    "from tqdm.auto import tqdm\n",
    "import glob\n",
    "import os\n",
    "import tarfile\n",
    "import codecs\n",
    "from bs4 import BeautifulSoup\n",
    "import pandas as pd "
   ]
  },
  {
   "cell_type": "markdown",
   "metadata": {},
   "source": [
    "# Get Section/Classes from NYT Annotated Corpus"
   ]
  },
  {
   "cell_type": "code",
   "execution_count": 58,
   "metadata": {
    "scrolled": true
   },
   "outputs": [
    {
     "data": {
      "application/vnd.jupyter.widget-view+json": {
       "model_id": "30c1d14ecafa43a2a7dc740c4816bb59",
       "version_major": 2,
       "version_minor": 0
      },
      "text/plain": [
       "  0%|          | 0/21 [00:00<?, ?it/s]"
      ]
     },
     "metadata": {},
     "output_type": "display_data"
    }
   ],
   "source": [
    "for year_folder in tqdm(glob.glob('../data/nyt_corpus/data/*')):\n",
    "    article_chunks = []\n",
    "    \n",
    "    ## clean up if last round failed...\n",
    "    for last_run in filter(lambda x: '.tgz' not in x, glob.glob(os.path.join(year_folder, '*'))):\n",
    "        shutil.rmtree(last_run)\n",
    "    \n",
    "    ## iterate through each month\n",
    "    for month_tgz in glob.glob(os.path.join(year_folder, '*')):\n",
    "        ## untar folder\n",
    "        tar = tarfile.open(name=month_tgz, mode=\"r:gz\")\n",
    "        tar.extractall(path=year_folder)\n",
    "\n",
    "        ## extract data from XML files\n",
    "        day_xml_files = glob.glob(os.path.join(month_tgz.replace('.tgz', ''), '*', '*') + '.xml')\n",
    "\n",
    "        ## read through each article\n",
    "        for xml_file in day_xml_files:\n",
    "            content = codecs.open(xml_file, encoding='utf-8').read()\n",
    "            soup = BeautifulSoup(content)\n",
    "\n",
    "            ## parse HTML \n",
    "            article_chunk = {}\n",
    "            for metadata in soup.find_all('meta'):\n",
    "                name = metadata['name']\n",
    "                cont = metadata['content']\n",
    "                article_chunk[name] = cont\n",
    "            \n",
    "            classification_dict = {}\n",
    "            for classification in soup.find_all('classifier'):\n",
    "                attrs = []\n",
    "                attrs += classification.attrs['class']\n",
    "                attrs.append(classification.attrs['type'])\n",
    "                classification_dict['.'.join(attrs)] = classification.text\n",
    "            article_chunk['classification'] = classification_dict\n",
    "                \n",
    "            if soup.find('hedline'):\n",
    "                article_chunk['headline'] = soup.find('hedline').get_text()\n",
    "            full_text = soup.find('body.content').find('block', attrs={'class': 'full_text'})\n",
    "            if full_text:\n",
    "                ps = full_text.find_all('p')\n",
    "                ps = list(map(lambda x: x.get_text(), ps))\n",
    "            else:\n",
    "                ps = [soup.find('body.content').get_text()]\n",
    "            article_chunk['body'] = ps \n",
    "            article_chunks.append(article_chunk)\n",
    "\n",
    "        ## clean up\n",
    "        shutil.rmtree(month_tgz.replace('.tgz', ''))\n",
    "        \n",
    "    ## dump contents\n",
    "    year_name = os.path.basename(year_folder)\n",
    "    year_csv_fname = os.path.join('../data/nyt_corpus/csvs/', year_name) + '.csv'\n",
    "    pd.DataFrame(article_chunks).to_csv(year_csv_fname)"
   ]
  },
  {
   "cell_type": "code",
   "execution_count": 45,
   "metadata": {
    "scrolled": false
   },
   "outputs": [
    {
     "data": {
      "text/plain": [
       "{'publication_day_of_month': '25',\n",
       " 'publication_month': '9',\n",
       " 'publication_year': '1988',\n",
       " 'publication_day_of_week': 'Sunday',\n",
       " 'dsk': 'Society Desk',\n",
       " 'print_page_number': '62',\n",
       " 'print_section': '1',\n",
       " 'print_column': '4',\n",
       " 'online_sections': 'Style',\n",
       " 'classification': {'indexing_service.descriptor': 'WEDDINGS AND ENGAGEMENTS',\n",
       "  'online_producer.taxonomic_classifier': 'Top/Features/Style/Fashion and Style/Weddings and Celebrations',\n",
       "  'online_producer.general_descriptor': 'Weddings and Engagements'},\n",
       " 'headline': '\\nWendy Olsoff Marries\\n',\n",
       " 'body': \"\\n\\nLEAD: The marriage of Wendy G. Olsoff, a co-owner of the P.P.O.W. Gallery in New York, to Gregg L. Deering, an artist, took place last evening at the National Arts Club in New York. Rabbi A. Allen Block officiated. The parents of the couple are Mr. and Mrs. Bernard Olsoff of New York and Mr. and Mrs. Robert L.\\n\\n\\nLEAD: The marriage of Wendy G. Olsoff, a co-owner of the P.P.O.W. Gallery in New York, to Gregg L. Deering, an artist, took place last evening at the National Arts Club in New York. Rabbi A. Allen Block officiated. The parents of the couple are Mr. and Mrs. Bernard Olsoff of New York and Mr. and Mrs. Robert L.\\nThe marriage of Wendy G. Olsoff, a co-owner of the P.P.O.W. Gallery in New York, to Gregg L. Deering, an artist, took place last evening at the National Arts Club in New York. Rabbi A. Allen Block officiated. The parents of the couple are Mr. and Mrs. Bernard Olsoff of New York and Mr. and Mrs. Robert L. Deering of Whidbey Island, Wash. Mr. Olsoff is president of Frederick Atkins Inc., a merchandising and market-research company in New York. The bridegroom's father retired as a senior financial adviser at Exxon in New York.\\n\\n\"}"
      ]
     },
     "execution_count": 45,
     "metadata": {},
     "output_type": "execute_result"
    }
   ],
   "source": [
    "article_chunk "
   ]
  },
  {
   "cell_type": "code",
   "execution_count": null,
   "metadata": {},
   "outputs": [],
   "source": []
  },
  {
   "cell_type": "code",
   "execution_count": null,
   "metadata": {},
   "outputs": [],
   "source": []
  },
  {
   "cell_type": "code",
   "execution_count": null,
   "metadata": {},
   "outputs": [],
   "source": []
  },
  {
   "cell_type": "code",
   "execution_count": null,
   "metadata": {},
   "outputs": [],
   "source": []
  },
  {
   "cell_type": "code",
   "execution_count": null,
   "metadata": {},
   "outputs": [],
   "source": []
  },
  {
   "cell_type": "code",
   "execution_count": null,
   "metadata": {},
   "outputs": [],
   "source": []
  },
  {
   "cell_type": "code",
   "execution_count": null,
   "metadata": {},
   "outputs": [],
   "source": []
  },
  {
   "cell_type": "code",
   "execution_count": null,
   "metadata": {},
   "outputs": [],
   "source": []
  },
  {
   "cell_type": "code",
   "execution_count": null,
   "metadata": {},
   "outputs": [],
   "source": []
  },
  {
   "cell_type": "code",
   "execution_count": null,
   "metadata": {},
   "outputs": [],
   "source": []
  }
 ],
 "metadata": {
  "hide_input": false,
  "kernelspec": {
   "display_name": "Python 3",
   "language": "python",
   "name": "python3"
  },
  "language_info": {
   "codemirror_mode": {
    "name": "ipython",
    "version": 3
   },
   "file_extension": ".py",
   "mimetype": "text/x-python",
   "name": "python",
   "nbconvert_exporter": "python",
   "pygments_lexer": "ipython3",
   "version": "3.7.6"
  }
 },
 "nbformat": 4,
 "nbformat_minor": 4
}
