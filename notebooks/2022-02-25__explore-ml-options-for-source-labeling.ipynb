{
 "cells": [
  {
   "cell_type": "code",
   "execution_count": 1,
   "metadata": {},
   "outputs": [],
   "source": [
    "import pandas as pd "
   ]
  },
  {
   "cell_type": "code",
   "execution_count": 3,
   "metadata": {},
   "outputs": [],
   "source": [
    "## todo:\n",
    "# 1. see how well you can identify the different annotation categories in sentences using simple methods\n",
    "# 2. see if there's a way to do across-document inference"
   ]
  },
  {
   "cell_type": "code",
   "execution_count": 4,
   "metadata": {},
   "outputs": [
    {
     "name": "stdout",
     "output_type": "stream",
     "text": [
      "annotated-source-training-df.csv\r\n",
      "articles3.csv\r\n",
      "\u001b[34mfasttext-data\u001b[m\u001b[m/\r\n",
      "\u001b[34mnews-article-flatlist\u001b[m\u001b[m/\r\n",
      "news-categories-training-df.csv\r\n",
      "\u001b[34mnyt_corpus\u001b[m\u001b[m/\r\n",
      "nytimes-articles-to-extract-sources.csv\r\n",
      "\u001b[34moutput\u001b[m\u001b[m/\r\n"
     ]
    }
   ],
   "source": [
    "ls ../data/"
   ]
  },
  {
   "cell_type": "markdown",
   "metadata": {},
   "source": [
    "# Try to classify Sentence Type"
   ]
  },
  {
   "cell_type": "code",
   "execution_count": 7,
   "metadata": {},
   "outputs": [],
   "source": [
    "annotated_df = pd.read_csv('../data/annotated-source-training-df.csv', index_col=0)"
   ]
  },
  {
   "cell_type": "code",
   "execution_count": 50,
   "metadata": {
    "scrolled": true
   },
   "outputs": [
    {
     "data": {
      "text/plain": [
       "None                            3056\n",
       "QUOTE                           1962\n",
       "BACKGROUND                       572\n",
       "STATEMENT                        162\n",
       "PUBLISHED WORK                   134\n",
       "PRESS REPORT                      92\n",
       "TWEET                             54\n",
       "PUBLIC SPEECH, NOT TO JOURNO      53\n",
       "COMMUNICATION, NOT TO JOURNO      44\n",
       "PROPOSAL                          32\n",
       "DOCUMENT                          28\n",
       "DECLINED COMMENT                  25\n",
       "Other: LAWSUIT                    17\n",
       "PROPOSAL/ORDER/LAW                16\n",
       "Other: Evaluation                  9\n",
       "LAWSUIT                            8\n",
       "Other: Campaign filing             7\n",
       "Other: VOTE/POLL                   6\n",
       "Other: PROPOSAL                    5\n",
       "Other: Campaign Filing             4\n",
       "VOTE/POLL                          3\n",
       "Other: Analysis                    2\n",
       "Other: Data analysis               2\n",
       "Other: Database                    1\n",
       "Other: LAW                         1\n",
       "Other: Investigation               1\n",
       "Other: Data Analysis               1\n",
       "Name: quote_type, dtype: int64"
      ]
     },
     "execution_count": 50,
     "metadata": {},
     "output_type": "execute_result"
    }
   ],
   "source": [
    "annotated_df['quote_type'].fillna('None').value_counts()"
   ]
  },
  {
   "cell_type": "code",
   "execution_count": 51,
   "metadata": {},
   "outputs": [
    {
     "data": {
      "text/html": [
       "<div>\n",
       "<style scoped>\n",
       "    .dataframe tbody tr th:only-of-type {\n",
       "        vertical-align: middle;\n",
       "    }\n",
       "\n",
       "    .dataframe tbody tr th {\n",
       "        vertical-align: top;\n",
       "    }\n",
       "\n",
       "    .dataframe thead th {\n",
       "        text-align: right;\n",
       "    }\n",
       "</style>\n",
       "<table border=\"1\" class=\"dataframe\">\n",
       "  <thead>\n",
       "    <tr style=\"text-align: right;\">\n",
       "      <th></th>\n",
       "      <th>sent</th>\n",
       "      <th>quote_type</th>\n",
       "    </tr>\n",
       "  </thead>\n",
       "  <tbody>\n",
       "    <tr>\n",
       "      <th>0</th>\n",
       "      <td>BANGKOK</td>\n",
       "      <td>NaN</td>\n",
       "    </tr>\n",
       "    <tr>\n",
       "      <th>1</th>\n",
       "      <td>—</td>\n",
       "      <td>NaN</td>\n",
       "    </tr>\n",
       "    <tr>\n",
       "      <th>2</th>\n",
       "      <td>A plane carrying key senior Laotian government...</td>\n",
       "      <td>QUOTE</td>\n",
       "    </tr>\n",
       "    <tr>\n",
       "      <th>3</th>\n",
       "      <td>Killed in the crash were two top figures in th...</td>\n",
       "      <td>NaN</td>\n",
       "    </tr>\n",
       "    <tr>\n",
       "      <th>4</th>\n",
       "      <td>For a Communist party that relies on force and...</td>\n",
       "      <td>NaN</td>\n",
       "    </tr>\n",
       "    <tr>\n",
       "      <th>...</th>\n",
       "      <td>...</td>\n",
       "      <td>...</td>\n",
       "    </tr>\n",
       "    <tr>\n",
       "      <th>6292</th>\n",
       "      <td>Scientists had expected an active hurricane se...</td>\n",
       "      <td>NaN</td>\n",
       "    </tr>\n",
       "    <tr>\n",
       "      <th>6293</th>\n",
       "      <td>That expectation has now been exceeded , along...</td>\n",
       "      <td>NaN</td>\n",
       "    </tr>\n",
       "    <tr>\n",
       "      <th>6294</th>\n",
       "      <td>After exhausting the 21-name list that was est...</td>\n",
       "      <td>NaN</td>\n",
       "    </tr>\n",
       "    <tr>\n",
       "      <th>6295</th>\n",
       "      <td>Mr. Feltgen said that “ 2020 had all the right...</td>\n",
       "      <td>QUOTE</td>\n",
       "    </tr>\n",
       "    <tr>\n",
       "      <th>6296</th>\n",
       "      <td>”</td>\n",
       "      <td>NaN</td>\n",
       "    </tr>\n",
       "  </tbody>\n",
       "</table>\n",
       "<p>6297 rows × 2 columns</p>\n",
       "</div>"
      ],
      "text/plain": [
       "                                                   sent quote_type\n",
       "0                                               BANGKOK        NaN\n",
       "1                                                     —        NaN\n",
       "2     A plane carrying key senior Laotian government...      QUOTE\n",
       "3     Killed in the crash were two top figures in th...        NaN\n",
       "4     For a Communist party that relies on force and...        NaN\n",
       "...                                                 ...        ...\n",
       "6292  Scientists had expected an active hurricane se...        NaN\n",
       "6293  That expectation has now been exceeded , along...        NaN\n",
       "6294  After exhausting the 21-name list that was est...        NaN\n",
       "6295  Mr. Feltgen said that “ 2020 had all the right...      QUOTE\n",
       "6296                                                  ”        NaN\n",
       "\n",
       "[6297 rows x 2 columns]"
      ]
     },
     "execution_count": 51,
     "metadata": {},
     "output_type": "execute_result"
    }
   ],
   "source": [
    "annotated_df[['sent', 'quote_type']]"
   ]
  },
  {
   "cell_type": "code",
   "execution_count": null,
   "metadata": {},
   "outputs": [],
   "source": []
  },
  {
   "cell_type": "markdown",
   "metadata": {},
   "source": [
    "# Try to classify Source Type"
   ]
  },
  {
   "cell_type": "code",
   "execution_count": 12,
   "metadata": {},
   "outputs": [],
   "source": [
    "annotated_df['source_type'] = annotated_df['source_type'].str.replace('Other: ', '').fillna('None')# .value_counts()"
   ]
  },
  {
   "cell_type": "code",
   "execution_count": 15,
   "metadata": {},
   "outputs": [
    {
     "data": {
      "text/plain": [
       "None                  5403\n",
       "Named Individual       520\n",
       "Unnamed Group          144\n",
       "Named Group            116\n",
       "Report/Document         75\n",
       "Unnamed Individual      32\n",
       "Vote/Poll                4\n",
       "Database                 3\n",
       "Name: source_type, dtype: int64"
      ]
     },
     "execution_count": 15,
     "metadata": {},
     "output_type": "execute_result"
    }
   ],
   "source": [
    "annotated_df['source_type'].value_counts()"
   ]
  },
  {
   "cell_type": "code",
   "execution_count": 18,
   "metadata": {},
   "outputs": [
    {
     "data": {
      "text/plain": [
       "'An agency spokesman said in an email that all nursing homes and assisted living facilities have generators on site .  '"
      ]
     },
     "execution_count": 18,
     "metadata": {},
     "output_type": "execute_result"
    }
   ],
   "source": [
    "annotated_df[['sent', 'source_type']].loc[lambda df: df['source_type'] == 'Unnamed Individual']['sent'].iloc[0]"
   ]
  },
  {
   "cell_type": "code",
   "execution_count": 25,
   "metadata": {},
   "outputs": [],
   "source": [
    "from sklearn.feature_extraction.text import CountVectorizer\n",
    "from sklearn.linear_model import LogisticRegressionCV\n",
    "from sklearn.model_selection import train_test_split"
   ]
  },
  {
   "cell_type": "code",
   "execution_count": 32,
   "metadata": {},
   "outputs": [],
   "source": [
    "cv = CountVectorizer(min_df=.005, max_df=.5)"
   ]
  },
  {
   "cell_type": "code",
   "execution_count": 33,
   "metadata": {},
   "outputs": [],
   "source": [
    "lr = LogisticRegressionCV(max_iter=500)"
   ]
  },
  {
   "cell_type": "code",
   "execution_count": null,
   "metadata": {},
   "outputs": [],
   "source": [
    "source_training_df"
   ]
  },
  {
   "cell_type": "code",
   "execution_count": 39,
   "metadata": {},
   "outputs": [
    {
     "data": {
      "text/plain": [
       "None                  5403\n",
       "Named Individual       520\n",
       "Unnamed Group          144\n",
       "Named Group            116\n",
       "Report/Document         75\n",
       "Unnamed Individual      32\n",
       "Vote/Poll                4\n",
       "Database                 3\n",
       "Name: source_type, dtype: int64"
      ]
     },
     "execution_count": 39,
     "metadata": {},
     "output_type": "execute_result"
    }
   ],
   "source": [
    "annotated_df['source_type'].value_counts()"
   ]
  },
  {
   "cell_type": "code",
   "execution_count": 67,
   "metadata": {},
   "outputs": [
    {
     "data": {
      "text/plain": [
       "['officials',\n",
       " 'experts',\n",
       " 'analysts',\n",
       " 'scientists',\n",
       " 'authorities',\n",
       " 'economists',\n",
       " 'report',\n",
       " 'critics',\n",
       " 'investigators',\n",
       " 'prosecutors',\n",
       " 'woman',\n",
       " 'government scientists',\n",
       " 'officers',\n",
       " 'person',\n",
       " 'white house officials',\n",
       " 'people',\n",
       " 'spokeswoman',\n",
       " 'associated press',\n",
       " 'study',\n",
       " 'forecasters',\n",
       " 'witnesses',\n",
       " 'intergovernmental panel on climate change',\n",
       " 'administration officials',\n",
       " 'reuters',\n",
       " 'local media',\n",
       " 'state television',\n",
       " 'the cincinnati enquirer',\n",
       " 'police',\n",
       " 'environmentalists',\n",
       " 'administration official',\n",
       " 'opponents',\n",
       " 'oil experts',\n",
       " 'new york times investigation',\n",
       " 'the anadolu news agency',\n",
       " 'proponents-2',\n",
       " 'spokeswoman-1',\n",
       " 'opponents-2',\n",
       " 'mississippi official',\n",
       " 'auditors',\n",
       " 'news reports',\n",
       " 'speculation',\n",
       " 'every list',\n",
       " 'united states federal aviation administration',\n",
       " 'kathleen sgamma',\n",
       " 'surrogates',\n",
       " 'the soma mining company',\n",
       " 'lauren bonner',\n",
       " 'unnamed',\n",
       " 'city officials',\n",
       " 'one man',\n",
       " 'another man',\n",
       " 'several people',\n",
       " 'pilot',\n",
       " 'four people',\n",
       " 'the chicago tribune',\n",
       " 'the sun',\n",
       " 'science',\n",
       " 'women',\n",
       " 'safety experts',\n",
       " 'company officials',\n",
       " 'person-2',\n",
       " 'insurance companies',\n",
       " 'the lao news agency',\n",
       " 'new england ’s seafood industry',\n",
       " 'climate home',\n",
       " 'nbc news',\n",
       " 'republicans',\n",
       " 'cbs news',\n",
       " 'the los angeles times',\n",
       " 'witnesses; officials',\n",
       " 'associated press reporter',\n",
       " 'local residents',\n",
       " 'climate change denialists',\n",
       " 'scientists-2',\n",
       " 'models',\n",
       " 'white house fact sheet',\n",
       " 'government officials; asiana officials',\n",
       " 'head of the vote auditing company',\n",
       " 'opposition',\n",
       " 'election officials',\n",
       " 'european scientists',\n",
       " 'dossier',\n",
       " 'local news media',\n",
       " 'restaurant',\n",
       " 'employee',\n",
       " 'tod hileman',\n",
       " 'the hutchinson news',\n",
       " 'kansas officials',\n",
       " 'amarillo globe-news',\n",
       " 'both sides',\n",
       " 'readers',\n",
       " 'protesters',\n",
       " 'weekly newspaper',\n",
       " 'researchers',\n",
       " 'sunderland',\n",
       " 'turkish media',\n",
       " 'a higher education trade group',\n",
       " 'local media outlets',\n",
       " 'israel',\n",
       " 'card industry bloggers',\n",
       " 'local ’s boss',\n",
       " 'forecast',\n",
       " 'meteorological data',\n",
       " 'union officials',\n",
       " 'they',\n",
       " 'weather officials',\n",
       " 'the associated press',\n",
       " 'local news outlets',\n",
       " 'demonstrators',\n",
       " 'the mauritian authorities',\n",
       " 'penal code',\n",
       " 'analysis-1',\n",
       " 'environmental groups',\n",
       " 'government investigators',\n",
       " 'letter',\n",
       " 'seven days',\n",
       " 'vermont senate judiciary committee',\n",
       " \"oregon's house\",\n",
       " 'the oregonian',\n",
       " 'oregon state senate',\n",
       " \"bill's sponsors\",\n",
       " 'bill',\n",
       " 'bill-2',\n",
       " 'bill-3',\n",
       " 'bill-4',\n",
       " 'the indianapolis star',\n",
       " 'bill-5',\n",
       " 'bill-6',\n",
       " 'bill-7',\n",
       " 'bill-8',\n",
       " 'bill-9',\n",
       " 'developers',\n",
       " 'representative',\n",
       " 'proponents',\n",
       " 'european leaders',\n",
       " 'records',\n",
       " 'spokesman',\n",
       " 'environmental activists',\n",
       " 'television news',\n",
       " 'taciturn fishermen',\n",
       " 'the washington post',\n",
       " 'media reports',\n",
       " 'customers',\n",
       " 'many brazilians',\n",
       " 'draft',\n",
       " 'television interview',\n",
       " 'a pentagon spokeswoman',\n",
       " 'italian news media',\n",
       " 'engineers',\n",
       " 'salvage experts',\n",
       " 'company official and four crew members',\n",
       " 'puerto rico electric power authority',\n",
       " 'the weather channel',\n",
       " 'robstown police officials',\n",
       " 'survey',\n",
       " 'local prosecutor ’s office',\n",
       " 'asia development bank',\n",
       " 'nasa; the national oceanic and atmospheric administration',\n",
       " 'pediatrics statement',\n",
       " 'tempo.co',\n",
       " 'rights groups',\n",
       " 'israeli security officials',\n",
       " 'local news reports',\n",
       " 'abc radio melbourne',\n",
       " 'police spokeswoman',\n",
       " 'policy makers',\n",
       " 'political rivals',\n",
       " 'political opponents',\n",
       " 'nagashiki shipping representative',\n",
       " 'officials-2',\n",
       " 'cbs executives',\n",
       " 'conservative media outlets',\n",
       " 'cbs staff members',\n",
       " 'cbs staff member',\n",
       " 'polls',\n",
       " 'caucasus barometer',\n",
       " 'cnbc\\'s \"squawk box\"',\n",
       " 'dispatcher',\n",
       " 'federal government',\n",
       " 'new america',\n",
       " 'government ’s statistics bureau',\n",
       " 'legal experts',\n",
       " 'protestors',\n",
       " 'native americans and environmental activists',\n",
       " 'native american leaders',\n",
       " 'plain view project',\n",
       " 'database',\n",
       " 'for-profit sector',\n",
       " 'consumer protection advocates',\n",
       " 'internal bp documents',\n",
       " 'organizers',\n",
       " 'activists',\n",
       " 'advocates',\n",
       " 'defenders',\n",
       " 'dealers',\n",
       " 'a gun owner',\n",
       " 'sellers',\n",
       " 'gun salesman',\n",
       " 'neighbor']"
      ]
     },
     "execution_count": 67,
     "metadata": {},
     "output_type": "execute_result"
    }
   ],
   "source": [
    "(annotated_df\n",
    " .loc[lambda df: ~df['source_type'].isin(['Named Individual', 'Named Group'])]\n",
    " .dropna()\n",
    " ['head'].str.lower().str.strip()\n",
    " .value_counts()\n",
    " .index.tolist()\n",
    ")"
   ]
  },
  {
   "cell_type": "code",
   "execution_count": null,
   "metadata": {},
   "outputs": [],
   "source": []
  },
  {
   "cell_type": "code",
   "execution_count": null,
   "metadata": {},
   "outputs": [],
   "source": []
  },
  {
   "cell_type": "code",
   "execution_count": null,
   "metadata": {},
   "outputs": [],
   "source": []
  },
  {
   "cell_type": "code",
   "execution_count": 34,
   "metadata": {},
   "outputs": [],
   "source": [
    "X_train, X_test, y_train, y_test = train_test_split(annotated_df['sent'], annotated_df['source_type'])"
   ]
  },
  {
   "cell_type": "code",
   "execution_count": 40,
   "metadata": {},
   "outputs": [],
   "source": [
    "X_mat_train = cv.fit_transform(X_train)"
   ]
  },
  {
   "cell_type": "code",
   "execution_count": 41,
   "metadata": {
    "scrolled": true
   },
   "outputs": [
    {
     "name": "stderr",
     "output_type": "stream",
     "text": [
      "/Users/alex/opt/anaconda3/lib/python3.7/site-packages/sklearn/model_selection/_split.py:668: UserWarning: The least populated class in y has only 2 members, which is less than n_splits=5.\n",
      "  % (min_groups, self.n_splits)), UserWarning)\n",
      "/Users/alex/opt/anaconda3/lib/python3.7/site-packages/sklearn/linear_model/_logistic.py:765: ConvergenceWarning: lbfgs failed to converge (status=1):\n",
      "STOP: TOTAL NO. of ITERATIONS REACHED LIMIT.\n",
      "\n",
      "Increase the number of iterations (max_iter) or scale the data as shown in:\n",
      "    https://scikit-learn.org/stable/modules/preprocessing.html\n",
      "Please also refer to the documentation for alternative solver options:\n",
      "    https://scikit-learn.org/stable/modules/linear_model.html#logistic-regression\n",
      "  extra_warning_msg=_LOGISTIC_SOLVER_CONVERGENCE_MSG)\n",
      "/Users/alex/opt/anaconda3/lib/python3.7/site-packages/sklearn/linear_model/_logistic.py:765: ConvergenceWarning: lbfgs failed to converge (status=1):\n",
      "STOP: TOTAL NO. of ITERATIONS REACHED LIMIT.\n",
      "\n",
      "Increase the number of iterations (max_iter) or scale the data as shown in:\n",
      "    https://scikit-learn.org/stable/modules/preprocessing.html\n",
      "Please also refer to the documentation for alternative solver options:\n",
      "    https://scikit-learn.org/stable/modules/linear_model.html#logistic-regression\n",
      "  extra_warning_msg=_LOGISTIC_SOLVER_CONVERGENCE_MSG)\n",
      "/Users/alex/opt/anaconda3/lib/python3.7/site-packages/sklearn/linear_model/_logistic.py:765: ConvergenceWarning: lbfgs failed to converge (status=1):\n",
      "STOP: TOTAL NO. of ITERATIONS REACHED LIMIT.\n",
      "\n",
      "Increase the number of iterations (max_iter) or scale the data as shown in:\n",
      "    https://scikit-learn.org/stable/modules/preprocessing.html\n",
      "Please also refer to the documentation for alternative solver options:\n",
      "    https://scikit-learn.org/stable/modules/linear_model.html#logistic-regression\n",
      "  extra_warning_msg=_LOGISTIC_SOLVER_CONVERGENCE_MSG)\n",
      "/Users/alex/opt/anaconda3/lib/python3.7/site-packages/sklearn/linear_model/_logistic.py:765: ConvergenceWarning: lbfgs failed to converge (status=1):\n",
      "STOP: TOTAL NO. of ITERATIONS REACHED LIMIT.\n",
      "\n",
      "Increase the number of iterations (max_iter) or scale the data as shown in:\n",
      "    https://scikit-learn.org/stable/modules/preprocessing.html\n",
      "Please also refer to the documentation for alternative solver options:\n",
      "    https://scikit-learn.org/stable/modules/linear_model.html#logistic-regression\n",
      "  extra_warning_msg=_LOGISTIC_SOLVER_CONVERGENCE_MSG)\n",
      "/Users/alex/opt/anaconda3/lib/python3.7/site-packages/sklearn/linear_model/_logistic.py:765: ConvergenceWarning: lbfgs failed to converge (status=1):\n",
      "STOP: TOTAL NO. of ITERATIONS REACHED LIMIT.\n",
      "\n",
      "Increase the number of iterations (max_iter) or scale the data as shown in:\n",
      "    https://scikit-learn.org/stable/modules/preprocessing.html\n",
      "Please also refer to the documentation for alternative solver options:\n",
      "    https://scikit-learn.org/stable/modules/linear_model.html#logistic-regression\n",
      "  extra_warning_msg=_LOGISTIC_SOLVER_CONVERGENCE_MSG)\n"
     ]
    },
    {
     "data": {
      "text/plain": [
       "LogisticRegressionCV(max_iter=500)"
      ]
     },
     "execution_count": 41,
     "metadata": {},
     "output_type": "execute_result"
    }
   ],
   "source": [
    "lr.fit(X_mat, y_train)"
   ]
  },
  {
   "cell_type": "code",
   "execution_count": 42,
   "metadata": {},
   "outputs": [],
   "source": [
    "X_mat_test = cv.transform(X_test)"
   ]
  },
  {
   "cell_type": "code",
   "execution_count": 45,
   "metadata": {},
   "outputs": [
    {
     "data": {
      "text/plain": [
       "None                1523\n",
       "Named Individual      51\n",
       "Unnamed Group          1\n",
       "dtype: int64"
      ]
     },
     "execution_count": 45,
     "metadata": {},
     "output_type": "execute_result"
    }
   ],
   "source": [
    "pd.Series(lr.predict(X_mat_test)).value_counts()"
   ]
  },
  {
   "cell_type": "code",
   "execution_count": null,
   "metadata": {},
   "outputs": [],
   "source": []
  }
 ],
 "metadata": {
  "hide_input": false,
  "kernelspec": {
   "display_name": "Python 3",
   "language": "python",
   "name": "python3"
  },
  "language_info": {
   "codemirror_mode": {
    "name": "ipython",
    "version": 3
   },
   "file_extension": ".py",
   "mimetype": "text/x-python",
   "name": "python",
   "nbconvert_exporter": "python",
   "pygments_lexer": "ipython3",
   "version": "3.7.6"
  }
 },
 "nbformat": 4,
 "nbformat_minor": 4
}
