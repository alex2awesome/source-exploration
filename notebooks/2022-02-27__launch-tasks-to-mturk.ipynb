{
 "cells": [
  {
   "cell_type": "code",
   "execution_count": 1,
   "metadata": {},
   "outputs": [
    {
     "name": "stderr",
     "output_type": "stream",
     "text": [
      "/Users/alex/opt/anaconda3/lib/python3.7/site-packages/requests/__init__.py:91: RequestsDependencyWarning: urllib3 (1.26.9) or chardet (3.0.4) doesn't match a supported version!\n",
      "  RequestsDependencyWarning)\n"
     ]
    },
    {
     "data": {
      "text/plain": [
       "<module 'utils_mturk' from '../scripts/utils_mturk.py'>"
      ]
     },
     "execution_count": 1,
     "metadata": {},
     "output_type": "execute_result"
    }
   ],
   "source": [
    "from tqdm.auto import tqdm\n",
    "import boto3\n",
    "import os\n",
    "import time\n",
    "from boto.mturk.connection import MTurkConnection\n",
    "from boto.mturk.question import HTMLQuestion\n",
    "import pandas as pd \n",
    "from boto.mturk.question import ExternalQuestion\n",
    "from IPython.display import display, HTML\n",
    "import matplotlib.pyplot as plt\n",
    "plt.rc('font', size=14)\n",
    "from importlib import reload\n",
    "from boto.mturk.qualification import (\n",
    "    Qualifications,\n",
    "    PercentAssignmentsApprovedRequirement, \n",
    "    NumberHitsApprovedRequirement\n",
    ")\n",
    "\n",
    "import sys\n",
    "sys.path.insert(0, '../scripts/')\n",
    "\n",
    "import utils_mturk as um\n",
    "\n",
    "from importlib import reload\n",
    "reload(um)"
   ]
  },
  {
   "cell_type": "markdown",
   "metadata": {},
   "source": [
    "# Set up "
   ]
  },
  {
   "cell_type": "code",
   "execution_count": 2,
   "metadata": {},
   "outputs": [
    {
     "name": "stdout",
     "output_type": "stream",
     "text": [
      "VN2M29BH4PCAJT9ABZKN\n",
      "O9bcBpaprrXr6Q3dorn0XYI4Kp8go6oBDBYFYqeD\n"
     ]
    }
   ],
   "source": [
    "print(os.environ['AWS_ACCESS_KEY_ID'])\n",
    "print(os.environ['AWS_SECRET_ACCESS_KEY'])"
   ]
  },
  {
   "cell_type": "code",
   "execution_count": 163,
   "metadata": {},
   "outputs": [],
   "source": [
    "env = 'sandbox'\n",
    "# env = 'production'\n",
    "mturk = um.MTurkHandler(environment=env) #=production/sandbox"
   ]
  },
  {
   "cell_type": "code",
   "execution_count": 147,
   "metadata": {},
   "outputs": [],
   "source": [
    "CUSTOM_QUALIFICATION = False # True\n",
    "# sandbox editor qualification: 3H3KEN1OLUQQR02IYZSVMYM7ESCBIO\n",
    "if False:\n",
    "    sandbox_journalist_qual = mturk.create_qualification('journalist')\n",
    "    production_journalist_qual = mturk.create_qualification('journalist')"
   ]
  },
  {
   "cell_type": "markdown",
   "metadata": {},
   "source": [
    "`sandbox_journalist_qual`:\n",
    "\n",
    "\n",
    "```{'QualificationType': {'QualificationTypeId': '3H3KEN1OLUQQR02IYZSVMYM7ESCBIO',\n",
    "  'CreationTime': datetime.datetime(2021, 11, 4, 23, 0, 7, tzinfo=tzlocal()),\n",
    "  'Name': 'journalist',\n",
    "  'Description': 'A custom qualification group given to workers we deem good.',\n",
    "  'Keywords': 'custom-group filtering',\n",
    "  'QualificationTypeStatus': 'Active',\n",
    "  'IsRequestable': True,\n",
    "  'AutoGranted': False},\n",
    " 'ResponseMetadata': {'RequestId': '28302a92-3fef-47d4-8f02-1b93f1e08258',\n",
    "  'HTTPStatusCode': 200,\n",
    "  'HTTPHeaders': {'x-amzn-requestid': '28302a92-3fef-47d4-8f02-1b93f1e08258',\n",
    "   'content-type': 'application/x-amz-json-1.1',\n",
    "   'content-length': '315',\n",
    "   'date': 'Fri, 05 Nov 2021 06:00:07 GMT'},\n",
    "  'RetryAttempts': 0}}```\n",
    "  \n",
    "`production_journalist_qual`\n",
    "\n",
    "```{'QualificationType': {'QualificationTypeId': '3YJP8DI8F7IJNZ5SWSN2GXBAZJF4Q2',\n",
    "  'CreationTime': datetime.datetime(2021, 11, 4, 23, 3, 23, tzinfo=tzlocal()),\n",
    "  'Name': 'journalist',\n",
    "  'Description': 'A custom qualification group given to workers we deem good.',\n",
    "  'Keywords': 'custom-group filtering',\n",
    "  'QualificationTypeStatus': 'Active',\n",
    "  'IsRequestable': True,\n",
    "  'AutoGranted': False},\n",
    " 'ResponseMetadata': {'RequestId': '0edf8c83-69c6-446a-8d20-930712b2efa7',\n",
    "  'HTTPStatusCode': 200,\n",
    "  'HTTPHeaders': {'x-amzn-requestid': '0edf8c83-69c6-446a-8d20-930712b2efa7',\n",
    "   'content-type': 'application/x-amz-json-1.1',\n",
    "   'content-length': '315',\n",
    "   'date': 'Fri, 05 Nov 2021 06:03:22 GMT'},\n",
    "  'RetryAttempts': 0}}```"
   ]
  },
  {
   "cell_type": "code",
   "execution_count": 148,
   "metadata": {},
   "outputs": [],
   "source": [
    "worker_requirements = [\n",
    "    ### number of hits approved\n",
    "    {\n",
    "        'QualificationTypeId': '000000000000000000L0',\n",
    "        'Comparator': 'GreaterThanOrEqualTo',\n",
    "        'IntegerValues': [100],\n",
    "    },\n",
    "    ## worker local\n",
    "    {\n",
    "        'QualificationTypeId': '00000000000000000071',\n",
    "        'Comparator': 'EqualTo',\n",
    "        'LocaleValues': [{\n",
    "            \"Country\":\"US\",\n",
    "        }],\n",
    "        'RequiredToPreview': True,\n",
    "    },\n",
    "    ## percent assignments approved\n",
    "    {\n",
    "        'QualificationTypeId': '000000000000000000L0',\n",
    "        'Comparator': 'GreaterThanOrEqualTo',\n",
    "        'IntegerValues': [95],\n",
    "    },\n",
    "]\n",
    "\n",
    "## custom qualification\n",
    "if CUSTOM_QUALIFICATION:\n",
    "    worker_requirements = []\n",
    "    if env == 'production':\n",
    "        worker_requirements.append({\n",
    "#             'QualificationTypeId': '3WZ6PU0JYXSTA4EIPF2M6S1CMZ7KL8',\n",
    "            'QualificationTypeId': '3YJP8DI8F7IJNZ5SWSN2GXBAZJF4Q2', # journalists\n",
    "            'Comparator': 'GreaterThanOrEqualTo',\n",
    "            'IntegerValues': [90],      \n",
    "        })\n",
    "    else:\n",
    "        worker_requirements.append({\n",
    "#             'QualificationTypeId': '381R35RGJFFV6VLBBDX2MLZFNSH414',  ## UCLA students\n",
    "            'QualificationTypeId': '3H3KEN1OLUQQR02IYZSVMYM7ESCBIO',  ## journalists\n",
    "#             '3FQWXCP5BDC6A66PD20NE8FM4G3H44' other workers\n",
    "            'Comparator': 'GreaterThanOrEqualTo',\n",
    "            'IntegerValues': [90],      \n",
    "        })"
   ]
  },
  {
   "cell_type": "markdown",
   "metadata": {},
   "source": [
    "# Launch Task"
   ]
  },
  {
   "cell_type": "code",
   "execution_count": 149,
   "metadata": {},
   "outputs": [],
   "source": [
    "from jinja2 import Template, Environment, FileSystemLoader\n",
    "import datetime\n",
    "from IPython.display import display, HTML\n",
    "jinja_env = Environment(loader=FileSystemLoader('../app/templates'))"
   ]
  },
  {
   "cell_type": "code",
   "execution_count": 150,
   "metadata": {},
   "outputs": [
    {
     "name": "stdout",
     "output_type": "stream",
     "text": [
      "table-annotation-affil-role.html       table-annotation.html\r\n",
      "table-annotation-diversity.html        task-annotation-slim.html\r\n",
      "table-annotation-slim-affil-role.html  task-annotation.html\r\n",
      "table-annotation-slim-diversity.html   task-validation.html\r\n",
      "table-annotation-slim-full.html\r\n"
     ]
    }
   ],
   "source": [
    "ls ../app/templates/"
   ]
  },
  {
   "cell_type": "code",
   "execution_count": 111,
   "metadata": {},
   "outputs": [],
   "source": [
    "template = jinja_env.get_template('table-annotation-slim-diversity.html')\n",
    "created_hits = []"
   ]
  },
  {
   "cell_type": "code",
   "execution_count": 30,
   "metadata": {},
   "outputs": [],
   "source": [
    "import glob"
   ]
  },
  {
   "cell_type": "code",
   "execution_count": 31,
   "metadata": {},
   "outputs": [],
   "source": [
    "files = glob.glob('../app/data/input_data/*/*')"
   ]
  },
  {
   "cell_type": "code",
   "execution_count": 33,
   "metadata": {},
   "outputs": [],
   "source": [
    "all_output = []\n",
    "for fname in files:\n",
    "    with open(fname) as f:\n",
    "        input_data = json.load(f)\n",
    "        if 'html_data' in input_data:\n",
    "            t = pd.DataFrame(input_data['html_data'])\n",
    "            t['file'] = fname\n",
    "            all_output.append(t)"
   ]
  },
  {
   "cell_type": "code",
   "execution_count": 36,
   "metadata": {},
   "outputs": [],
   "source": [
    "all_data_df = pd.concat(all_output)"
   ]
  },
  {
   "cell_type": "code",
   "execution_count": 52,
   "metadata": {},
   "outputs": [],
   "source": [
    "sources_to_annotate = (all_data_df\n",
    " .drop_duplicates(['head', 'file'])\n",
    " .dropna()['head']\n",
    " .value_counts()\n",
    " .loc[lambda s: s<=2]\n",
    " .pipe(lambda s: set(s.index))\n",
    ")"
   ]
  },
  {
   "cell_type": "code",
   "execution_count": 60,
   "metadata": {},
   "outputs": [],
   "source": [
    "import json\n",
    "\n",
    "for fname in files:\n",
    "    with open(fname) as f:\n",
    "        output = json.load(f)\n",
    "        \n",
    "    if 'html_data' in output:\n",
    "        html_data = output['html_data']\n",
    "        source_heads = set(map(lambda x: x.get('head', ''), html_data))\n",
    "        source_heads = list(filter(lambda x: x != '', source_heads))\n",
    "        source_heads = list(filter(lambda x: x in sources_to_annotate, source_heads))\n",
    "        if len(source_heads)> 0 :\n",
    "            break"
   ]
  },
  {
   "cell_type": "code",
   "execution_count": 63,
   "metadata": {},
   "outputs": [],
   "source": [
    "import copy"
   ]
  },
  {
   "cell_type": "code",
   "execution_count": 67,
   "metadata": {},
   "outputs": [],
   "source": [
    "output_copy = copy.deepcopy(output)"
   ]
  },
  {
   "cell_type": "code",
   "execution_count": 68,
   "metadata": {},
   "outputs": [],
   "source": [
    "output_copy['html_data'] = list(filter(lambda x: x.get('head', '') == source_heads[0], html_data))"
   ]
  },
  {
   "cell_type": "code",
   "execution_count": 76,
   "metadata": {},
   "outputs": [],
   "source": [
    "source_idx = output_copy['html_data'][0]['source_idx']"
   ]
  },
  {
   "cell_type": "code",
   "execution_count": 80,
   "metadata": {},
   "outputs": [],
   "source": [
    "output_fn = (fname\n",
    " .replace('input_data', 'output_data_diversity')\n",
    " .replace('to-annotate', 'annotated')\n",
    " .replace('.json', '__source-idx-%s.json' % source_idx)\n",
    ")"
   ]
  },
  {
   "cell_type": "code",
   "execution_count": 143,
   "metadata": {},
   "outputs": [],
   "source": [
    "template = jinja_env.get_template('table-annotation-slim-diversity.html')\n",
    "created_hits = []"
   ]
  },
  {
   "cell_type": "code",
   "execution_count": 145,
   "metadata": {},
   "outputs": [],
   "source": [
    "i = 0\n",
    "source = 't'\n",
    "## make the HTML \n",
    "data = output_copy['html_data']\n",
    "html = template.render(\n",
    "    data=output_copy['html_data'],\n",
    "    entry_id=output_copy['entry_id'],\n",
    "    version=output_copy['version'],\n",
    "    label=output_copy['label'],\n",
    "    url=output_copy['url'],\n",
    "    headline=output_copy['headline'],\n",
    "    published_date=output_copy['published_date'],\n",
    "    do_mturk=True,\n",
    "    start_time=time.time(),\n",
    "    output_fname=output_fn\n",
    ")\n",
    "\n",
    "## dump to disk for inspection\n",
    "with open('../app/mturk/templated-question-example-%s.html' % i, 'w') as f:\n",
    "    f.write(html)\n",
    "\n",
    "if True:\n",
    "    ## HTMLQuestion HIT\n",
    "    description = '''\n",
    "        We\\'d like to match sentences from two edited versions of the same article. \n",
    "        Help us by drawing lines to connect blocks of text.\n",
    "    '''\n",
    "    title = 'identify sources in news articles v3'\n",
    "    new_hit = mturk.client.create_hit( \n",
    "        Title = title,\n",
    "        Description = description,\n",
    "        Keywords = 'text, highlighting',\n",
    "        Reward = '1.50',\n",
    "        MaxAssignments = 1,\n",
    "        LifetimeInSeconds = 17280000,\n",
    "        AssignmentDurationInSeconds = 600000,\n",
    "        AutoApprovalDelayInSeconds = 28800,\n",
    "        Question = html,\n",
    "        QualificationRequirements=worker_requirements #if env == 'production' else []\n",
    "    )\n",
    "    created_hits.append(new_hit)"
   ]
  },
  {
   "cell_type": "code",
   "execution_count": null,
   "metadata": {},
   "outputs": [],
   "source": []
  },
  {
   "cell_type": "code",
   "execution_count": 161,
   "metadata": {},
   "outputs": [],
   "source": [
    "hit_list = list(map(lambda x: x['HIT']['HITId'], created_hits))"
   ]
  },
  {
   "cell_type": "code",
   "execution_count": 164,
   "metadata": {},
   "outputs": [
    {
     "data": {
      "application/vnd.jupyter.widget-view+json": {
       "model_id": "01b5215f0dab47f1ab7658f9a6aba866",
       "version_major": 2,
       "version_minor": 0
      },
      "text/plain": [
       "  0%|          | 0/1 [00:00<?, ?it/s]"
      ]
     },
     "metadata": {},
     "output_type": "display_data"
    },
    {
     "ename": "KeyError",
     "evalue": "1",
     "output_type": "error",
     "traceback": [
      "\u001b[0;31m---------------------------------------------------------------------------\u001b[0m",
      "\u001b[0;31mKeyError\u001b[0m                                  Traceback (most recent call last)",
      "\u001b[0;32m<ipython-input-164-ba972522336d>\u001b[0m in \u001b[0;36m<module>\u001b[0;34m\u001b[0m\n\u001b[0;32m----> 1\u001b[0;31m \u001b[0mmturk\u001b[0m\u001b[0;34m.\u001b[0m\u001b[0mget_answers_for_hit_list\u001b[0m\u001b[0;34m(\u001b[0m\u001b[0mhit_list\u001b[0m\u001b[0;34m)\u001b[0m\u001b[0;34m\u001b[0m\u001b[0;34m\u001b[0m\u001b[0m\n\u001b[0m",
      "\u001b[0;32m~/Projects/usc-research/source-exploration/scripts/utils_mturk.py\u001b[0m in \u001b[0;36mget_answers_for_hit_list\u001b[0;34m(self, hit_list)\u001b[0m\n\u001b[1;32m    144\u001b[0m                 \u001b[0;31m# Retreive the attributes for each Assignment\u001b[0m\u001b[0;34m\u001b[0m\u001b[0;34m\u001b[0m\u001b[0;34m\u001b[0m\u001b[0m\n\u001b[1;32m    145\u001b[0m                 \u001b[0manswer_dict\u001b[0m \u001b[0;34m=\u001b[0m \u001b[0mxmltodict\u001b[0m\u001b[0;34m.\u001b[0m\u001b[0mparse\u001b[0m\u001b[0;34m(\u001b[0m\u001b[0massignment\u001b[0m\u001b[0;34m[\u001b[0m\u001b[0;34m'Answer'\u001b[0m\u001b[0;34m]\u001b[0m\u001b[0;34m)\u001b[0m\u001b[0;34m\u001b[0m\u001b[0;34m\u001b[0m\u001b[0m\n\u001b[0;32m--> 146\u001b[0;31m                 \u001b[0manswer\u001b[0m \u001b[0;34m=\u001b[0m \u001b[0mjson\u001b[0m\u001b[0;34m.\u001b[0m\u001b[0mloads\u001b[0m\u001b[0;34m(\u001b[0m\u001b[0manswer_dict\u001b[0m\u001b[0;34m[\u001b[0m\u001b[0;34m'QuestionFormAnswers'\u001b[0m\u001b[0;34m]\u001b[0m\u001b[0;34m[\u001b[0m\u001b[0;34m'Answer'\u001b[0m\u001b[0;34m]\u001b[0m\u001b[0;34m[\u001b[0m\u001b[0;36m1\u001b[0m\u001b[0;34m]\u001b[0m\u001b[0;34m[\u001b[0m\u001b[0;34m'FreeText'\u001b[0m\u001b[0;34m]\u001b[0m\u001b[0;34m)\u001b[0m\u001b[0;34m\u001b[0m\u001b[0;34m\u001b[0m\u001b[0m\n\u001b[0m\u001b[1;32m    147\u001b[0m                 \u001b[0manswers\u001b[0m\u001b[0;34m.\u001b[0m\u001b[0mappend\u001b[0m\u001b[0;34m(\u001b[0m\u001b[0manswer\u001b[0m\u001b[0;34m)\u001b[0m\u001b[0;34m\u001b[0m\u001b[0;34m\u001b[0m\u001b[0m\n\u001b[1;32m    148\u001b[0m                 \u001b[0manswer_df\u001b[0m \u001b[0;34m=\u001b[0m \u001b[0mpd\u001b[0m\u001b[0;34m.\u001b[0m\u001b[0mDataFrame\u001b[0m\u001b[0;34m(\u001b[0m\u001b[0manswer\u001b[0m\u001b[0;34m[\u001b[0m\u001b[0;34m'annotated connections'\u001b[0m\u001b[0;34m]\u001b[0m\u001b[0;34m)\u001b[0m\u001b[0;34m\u001b[0m\u001b[0;34m\u001b[0m\u001b[0m\n",
      "\u001b[0;31mKeyError\u001b[0m: 1"
     ]
    }
   ],
   "source": [
    "mturk.get_answers_for_hit_list(hit_list)"
   ]
  },
  {
   "cell_type": "code",
   "execution_count": null,
   "metadata": {},
   "outputs": [],
   "source": []
  },
  {
   "cell_type": "code",
   "execution_count": null,
   "metadata": {},
   "outputs": [],
   "source": []
  },
  {
   "cell_type": "code",
   "execution_count": null,
   "metadata": {},
   "outputs": [],
   "source": []
  },
  {
   "cell_type": "code",
   "execution_count": null,
   "metadata": {},
   "outputs": [],
   "source": []
  },
  {
   "cell_type": "code",
   "execution_count": null,
   "metadata": {},
   "outputs": [],
   "source": []
  },
  {
   "cell_type": "code",
   "execution_count": 86,
   "metadata": {},
   "outputs": [],
   "source": [
    "! open ../app/mturk"
   ]
  },
  {
   "cell_type": "code",
   "execution_count": null,
   "metadata": {},
   "outputs": [],
   "source": []
  }
 ],
 "metadata": {
  "hide_input": false,
  "kernelspec": {
   "display_name": "Python 3",
   "language": "python",
   "name": "python3"
  },
  "language_info": {
   "codemirror_mode": {
    "name": "ipython",
    "version": 3
   },
   "file_extension": ".py",
   "mimetype": "text/x-python",
   "name": "python",
   "nbconvert_exporter": "python",
   "pygments_lexer": "ipython3",
   "version": "3.7.6"
  }
 },
 "nbformat": 4,
 "nbformat_minor": 4
}
