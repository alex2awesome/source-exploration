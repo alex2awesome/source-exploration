{
 "cells": [
  {
   "cell_type": "code",
   "execution_count": 25,
   "metadata": {},
   "outputs": [],
   "source": [
    "import pandas as pd \n",
    "import ast\n",
    "from sklearn.metrics import f1_score\n",
    "import unidecode"
   ]
  },
  {
   "cell_type": "code",
   "execution_count": 97,
   "metadata": {},
   "outputs": [],
   "source": [
    "def read_pred_output_file(fname):\n",
    "    with open(fname) as f:\n",
    "        output = f.read()\n",
    "        preds = list(filter(lambda x: x != '', output.split('\\n')))\n",
    "        preds = list(zip(preds[::2], preds[1::2]))\n",
    "        preds = pd.Series(dict(preds))\n",
    "        preds = preds.apply(lambda x: x.replace('{}', '')).apply(ast.literal_eval)\n",
    "        \n",
    "    return (\n",
    "        preds\n",
    "             .apply(pd.Series)\n",
    "             .unstack()\n",
    "             .dropna()\n",
    "             .reset_index()\n",
    "             .rename(columns={'level_1': 'file_id', 'level_0': 'sent_idx', 0:'pred'})\n",
    "             .sort_values(['file_id', 'sent_idx'])\n",
    "             [['file_id', 'sent_idx', 'pred']]\n",
    "             .reset_index(drop=True)\n",
    "    )"
   ]
  },
  {
   "cell_type": "markdown",
   "metadata": {},
   "source": [
    "# Stage 1: Polnear-only Training"
   ]
  },
  {
   "cell_type": "code",
   "execution_count": 99,
   "metadata": {},
   "outputs": [],
   "source": [
    "polnear_only_fn = '../models_neural/quote_detection/output/first_run_annotated_scores.txt'\n",
    "polnear_only_pred_df = read_pred_output_file(polnear_only_fn)"
   ]
  },
  {
   "cell_type": "code",
   "execution_count": 100,
   "metadata": {},
   "outputs": [],
   "source": [
    "input_data_df = pd.read_csv('../data/our-annotated-data-full.csv.gz')"
   ]
  },
  {
   "cell_type": "code",
   "execution_count": 89,
   "metadata": {},
   "outputs": [],
   "source": [
    "polnear_only_pred_and_label_df = (\n",
    "    polnear_only_pred_df\n",
    "    .merge(input_data_df, left_on=['file_id', 'sent_idx'], right_on=['entry_id', 'sent_idx'])\n",
    "    .drop('entry_id', axis=1)\n",
    ")"
   ]
  },
  {
   "cell_type": "code",
   "execution_count": 78,
   "metadata": {},
   "outputs": [
    {
     "data": {
      "text/plain": [
       "0.32312070986104136"
      ]
     },
     "execution_count": 78,
     "metadata": {},
     "output_type": "execute_result"
    }
   ],
   "source": [
    "(\n",
    "    polnear_only_pred_and_label_df\n",
    "     .loc[lambda df: df['sentence'].str.strip().apply(unidecode.unidecode) != '\"']\n",
    "     .pipe(lambda df: f1_score(df['label'], df['pred']))\n",
    ")"
   ]
  },
  {
   "cell_type": "code",
   "execution_count": null,
   "metadata": {},
   "outputs": [],
   "source": [
    "(\n",
    "    polnear_only_pred_and_label_df\n",
    "     .loc[lambda df: df['sentence'].str.strip().apply(unidecode.unidecode) != '\"']\n",
    "     .pipe(lambda df: f1_score(df['label'], df['pred']))\n",
    ")"
   ]
  },
  {
   "cell_type": "code",
   "execution_count": 79,
   "metadata": {},
   "outputs": [
    {
     "data": {
      "text/html": [
       "<div>\n",
       "<style scoped>\n",
       "    .dataframe tbody tr th:only-of-type {\n",
       "        vertical-align: middle;\n",
       "    }\n",
       "\n",
       "    .dataframe tbody tr th {\n",
       "        vertical-align: top;\n",
       "    }\n",
       "\n",
       "    .dataframe thead th {\n",
       "        text-align: right;\n",
       "    }\n",
       "</style>\n",
       "<table border=\"1\" class=\"dataframe\">\n",
       "  <thead>\n",
       "    <tr style=\"text-align: right;\">\n",
       "      <th></th>\n",
       "      <th>file_id</th>\n",
       "      <th>sent_idx</th>\n",
       "      <th>pred</th>\n",
       "      <th>label</th>\n",
       "      <th>sentence</th>\n",
       "      <th>quote_type</th>\n",
       "      <th>tagline</th>\n",
       "      <th>source_type</th>\n",
       "      <th>affiliation</th>\n",
       "      <th>role</th>\n",
       "      <th>role_status</th>\n",
       "    </tr>\n",
       "  </thead>\n",
       "  <tbody>\n",
       "    <tr>\n",
       "      <th>0</th>\n",
       "      <td>doc_0</td>\n",
       "      <td>0</td>\n",
       "      <td>0.0</td>\n",
       "      <td>False</td>\n",
       "      <td>A two - day rally in global stocks looked set ...</td>\n",
       "      <td>NaN</td>\n",
       "      <td>NaN</td>\n",
       "      <td>NaN</td>\n",
       "      <td>NaN</td>\n",
       "      <td>NaN</td>\n",
       "      <td>NaN</td>\n",
       "    </tr>\n",
       "    <tr>\n",
       "      <th>1</th>\n",
       "      <td>doc_0</td>\n",
       "      <td>1</td>\n",
       "      <td>1.0</td>\n",
       "      <td>False</td>\n",
       "      <td>Tokyo stocks were down significantly at midday...</td>\n",
       "      <td>NaN</td>\n",
       "      <td>NaN</td>\n",
       "      <td>NaN</td>\n",
       "      <td>NaN</td>\n",
       "      <td>NaN</td>\n",
       "      <td>NaN</td>\n",
       "    </tr>\n",
       "    <tr>\n",
       "      <th>2</th>\n",
       "      <td>doc_0</td>\n",
       "      <td>2</td>\n",
       "      <td>1.0</td>\n",
       "      <td>False</td>\n",
       "      <td>Other markets in the Asian - Pacific region we...</td>\n",
       "      <td>NaN</td>\n",
       "      <td>NaN</td>\n",
       "      <td>NaN</td>\n",
       "      <td>NaN</td>\n",
       "      <td>NaN</td>\n",
       "      <td>NaN</td>\n",
       "    </tr>\n",
       "    <tr>\n",
       "      <th>3</th>\n",
       "      <td>doc_0</td>\n",
       "      <td>3</td>\n",
       "      <td>1.0</td>\n",
       "      <td>False</td>\n",
       "      <td>U.S. Treasury bonds , typically seen by invest...</td>\n",
       "      <td>NaN</td>\n",
       "      <td>NaN</td>\n",
       "      <td>NaN</td>\n",
       "      <td>NaN</td>\n",
       "      <td>NaN</td>\n",
       "      <td>NaN</td>\n",
       "    </tr>\n",
       "    <tr>\n",
       "      <th>4</th>\n",
       "      <td>doc_0</td>\n",
       "      <td>4</td>\n",
       "      <td>0.0</td>\n",
       "      <td>False</td>\n",
       "      <td>Global stocks have been buoyed this week by pr...</td>\n",
       "      <td>NaN</td>\n",
       "      <td>NaN</td>\n",
       "      <td>NaN</td>\n",
       "      <td>NaN</td>\n",
       "      <td>NaN</td>\n",
       "      <td>NaN</td>\n",
       "    </tr>\n",
       "    <tr>\n",
       "      <th>...</th>\n",
       "      <td>...</td>\n",
       "      <td>...</td>\n",
       "      <td>...</td>\n",
       "      <td>...</td>\n",
       "      <td>...</td>\n",
       "      <td>...</td>\n",
       "      <td>...</td>\n",
       "      <td>...</td>\n",
       "      <td>...</td>\n",
       "      <td>...</td>\n",
       "      <td>...</td>\n",
       "    </tr>\n",
       "    <tr>\n",
       "      <th>6830</th>\n",
       "      <td>doc_956</td>\n",
       "      <td>51</td>\n",
       "      <td>0.0</td>\n",
       "      <td>True</td>\n",
       "      <td>Gabriela Ramirez , 33 , said that “ there ’s s...</td>\n",
       "      <td>QUOTE</td>\n",
       "      <td>33</td>\n",
       "      <td>Named Individual</td>\n",
       "      <td>Witness</td>\n",
       "      <td>Participant</td>\n",
       "      <td>Current</td>\n",
       "    </tr>\n",
       "    <tr>\n",
       "      <th>6831</th>\n",
       "      <td>doc_956</td>\n",
       "      <td>52</td>\n",
       "      <td>0.0</td>\n",
       "      <td>True</td>\n",
       "      <td>“</td>\n",
       "      <td>QUOTE</td>\n",
       "      <td>NaN</td>\n",
       "      <td>NaN</td>\n",
       "      <td>NaN</td>\n",
       "      <td>NaN</td>\n",
       "      <td>NaN</td>\n",
       "    </tr>\n",
       "    <tr>\n",
       "      <th>6832</th>\n",
       "      <td>doc_956</td>\n",
       "      <td>53</td>\n",
       "      <td>1.0</td>\n",
       "      <td>True</td>\n",
       "      <td>What kind of society do you live in</td>\n",
       "      <td>QUOTE</td>\n",
       "      <td>NaN</td>\n",
       "      <td>NaN</td>\n",
       "      <td>NaN</td>\n",
       "      <td>NaN</td>\n",
       "      <td>NaN</td>\n",
       "    </tr>\n",
       "    <tr>\n",
       "      <th>6833</th>\n",
       "      <td>doc_956</td>\n",
       "      <td>54</td>\n",
       "      <td>0.0</td>\n",
       "      <td>True</td>\n",
       "      <td>, ” she said , “ if you just shoot with no con...</td>\n",
       "      <td>QUOTE</td>\n",
       "      <td>NaN</td>\n",
       "      <td>NaN</td>\n",
       "      <td>NaN</td>\n",
       "      <td>NaN</td>\n",
       "      <td>NaN</td>\n",
       "    </tr>\n",
       "    <tr>\n",
       "      <th>6834</th>\n",
       "      <td>doc_956</td>\n",
       "      <td>55</td>\n",
       "      <td>0.0</td>\n",
       "      <td>False</td>\n",
       "      <td>”</td>\n",
       "      <td>NaN</td>\n",
       "      <td>NaN</td>\n",
       "      <td>NaN</td>\n",
       "      <td>NaN</td>\n",
       "      <td>NaN</td>\n",
       "      <td>NaN</td>\n",
       "    </tr>\n",
       "  </tbody>\n",
       "</table>\n",
       "<p>6835 rows × 11 columns</p>\n",
       "</div>"
      ],
      "text/plain": [
       "      file_id  sent_idx  pred  label  \\\n",
       "0       doc_0         0   0.0  False   \n",
       "1       doc_0         1   1.0  False   \n",
       "2       doc_0         2   1.0  False   \n",
       "3       doc_0         3   1.0  False   \n",
       "4       doc_0         4   0.0  False   \n",
       "...       ...       ...   ...    ...   \n",
       "6830  doc_956        51   0.0   True   \n",
       "6831  doc_956        52   0.0   True   \n",
       "6832  doc_956        53   1.0   True   \n",
       "6833  doc_956        54   0.0   True   \n",
       "6834  doc_956        55   0.0  False   \n",
       "\n",
       "                                               sentence quote_type tagline  \\\n",
       "0     A two - day rally in global stocks looked set ...        NaN     NaN   \n",
       "1     Tokyo stocks were down significantly at midday...        NaN     NaN   \n",
       "2     Other markets in the Asian - Pacific region we...        NaN     NaN   \n",
       "3     U.S. Treasury bonds , typically seen by invest...        NaN     NaN   \n",
       "4     Global stocks have been buoyed this week by pr...        NaN     NaN   \n",
       "...                                                 ...        ...     ...   \n",
       "6830  Gabriela Ramirez , 33 , said that “ there ’s s...      QUOTE      33   \n",
       "6831                                                  “      QUOTE     NaN   \n",
       "6832                What kind of society do you live in      QUOTE     NaN   \n",
       "6833  , ” she said , “ if you just shoot with no con...      QUOTE     NaN   \n",
       "6834                                                  ”        NaN     NaN   \n",
       "\n",
       "           source_type affiliation         role role_status  \n",
       "0                  NaN         NaN          NaN         NaN  \n",
       "1                  NaN         NaN          NaN         NaN  \n",
       "2                  NaN         NaN          NaN         NaN  \n",
       "3                  NaN         NaN          NaN         NaN  \n",
       "4                  NaN         NaN          NaN         NaN  \n",
       "...                ...         ...          ...         ...  \n",
       "6830  Named Individual     Witness  Participant     Current  \n",
       "6831               NaN         NaN          NaN         NaN  \n",
       "6832               NaN         NaN          NaN         NaN  \n",
       "6833               NaN         NaN          NaN         NaN  \n",
       "6834               NaN         NaN          NaN         NaN  \n",
       "\n",
       "[6835 rows x 11 columns]"
      ]
     },
     "execution_count": 79,
     "metadata": {},
     "output_type": "execute_result"
    }
   ],
   "source": [
    "polnear_only_pred_and_label_df"
   ]
  },
  {
   "cell_type": "markdown",
   "metadata": {},
   "source": [
    "# Stage 1: Our Dataset only Training"
   ]
  },
  {
   "cell_type": "code",
   "execution_count": 102,
   "metadata": {},
   "outputs": [],
   "source": [
    "second_run_fn = '../models_neural/quote_detection/output/second_run_annotated_scores.txt'\n",
    "second_run_pred_df = read_pred_output_file(second_run_fn)"
   ]
  },
  {
   "cell_type": "code",
   "execution_count": 108,
   "metadata": {},
   "outputs": [],
   "source": [
    "orig_training_df = pd.read_csv('../data/our-annotated-source-training-df.tsv', sep='\\t')"
   ]
  },
  {
   "cell_type": "code",
   "execution_count": 110,
   "metadata": {},
   "outputs": [
    {
     "data": {
      "text/html": [
       "<div>\n",
       "<style scoped>\n",
       "    .dataframe tbody tr th:only-of-type {\n",
       "        vertical-align: middle;\n",
       "    }\n",
       "\n",
       "    .dataframe tbody tr th {\n",
       "        vertical-align: top;\n",
       "    }\n",
       "\n",
       "    .dataframe thead th {\n",
       "        text-align: right;\n",
       "    }\n",
       "</style>\n",
       "<table border=\"1\" class=\"dataframe\">\n",
       "  <thead>\n",
       "    <tr style=\"text-align: right;\">\n",
       "      <th></th>\n",
       "      <th>source</th>\n",
       "      <th>s</th>\n",
       "      <th>t_id</th>\n",
       "      <th>sent_idx</th>\n",
       "    </tr>\n",
       "  </thead>\n",
       "  <tbody>\n",
       "    <tr>\n",
       "      <th>0</th>\n",
       "      <td>False</td>\n",
       "      <td>BANGKOK</td>\n",
       "      <td>/train/doc_902</td>\n",
       "      <td>0</td>\n",
       "    </tr>\n",
       "    <tr>\n",
       "      <th>1</th>\n",
       "      <td>False</td>\n",
       "      <td>—</td>\n",
       "      <td>/train/doc_902</td>\n",
       "      <td>1</td>\n",
       "    </tr>\n",
       "  </tbody>\n",
       "</table>\n",
       "</div>"
      ],
      "text/plain": [
       "   source        s            t_id  sent_idx\n",
       "0   False  BANGKOK  /train/doc_902         0\n",
       "1   False        —  /train/doc_902         1"
      ]
     },
     "execution_count": 110,
     "metadata": {},
     "output_type": "execute_result"
    }
   ],
   "source": [
    "orig_training_df.head(2)"
   ]
  },
  {
   "cell_type": "code",
   "execution_count": 144,
   "metadata": {},
   "outputs": [],
   "source": [
    "full_data_df = pd.read_csv('../data/our-annotated-data-full.csv.gz')"
   ]
  },
  {
   "cell_type": "code",
   "execution_count": 149,
   "metadata": {},
   "outputs": [],
   "source": [
    "second_run_pred_df_w_labels = (\n",
    "    second_run_pred_df\n",
    "         .merge(\n",
    "            orig_training_df.assign(join_key=lambda df: df['t_id'].str.split('/').str.get(2)), \n",
    "            left_on=['file_id', 'sent_idx'], \n",
    "            right_on=['join_key', 'sent_idx']\n",
    "         )\n",
    "         .assign(split=lambda df: df['t_id'].str.split('/').str.get(1))\n",
    "        .merge(\n",
    "            full_data_df, \n",
    "            left_on=['file_id', 'sent_idx'],\n",
    "            right_on=['entry_id', 'sent_idx']\n",
    "        )    \n",
    "        .drop(['t_id', 'join_key', 's', 'entry_id', 'source'], axis=1)\n",
    ").loc[lambda df: df['split'] == 'test']"
   ]
  },
  {
   "cell_type": "code",
   "execution_count": 151,
   "metadata": {},
   "outputs": [
    {
     "data": {
      "text/plain": [
       "0.8461137193531559"
      ]
     },
     "execution_count": 151,
     "metadata": {},
     "output_type": "execute_result"
    }
   ],
   "source": [
    "(second_run_pred_df_w_labels\n",
    "  .pipe(lambda df: f1_score(df['label'], df['pred']))\n",
    ")"
   ]
  },
  {
   "cell_type": "code",
   "execution_count": 152,
   "metadata": {},
   "outputs": [
    {
     "data": {
      "text/plain": [
       "quote_type\n",
       "BACKGROUND                      0.859873\n",
       "COMMUNICATION, NOT TO JOURNO    0.888889\n",
       "DECLINED COMMENT                0.941176\n",
       "DOCUMENT                        0.914286\n",
       "LAWSUIT                         0.000000\n",
       "Other: Data Analysis            1.000000\n",
       "Other: LAWSUIT                  0.969697\n",
       "PRESS REPORT                    0.892857\n",
       "PROPOSAL                        0.500000\n",
       "PUBLIC SPEECH, NOT TO JOURNO    1.000000\n",
       "PUBLISHED WORK                  0.789474\n",
       "QUOTE                           0.944649\n",
       "STATEMENT                       0.851852\n",
       "TWEET                           0.833333\n",
       "VOTE/POLL                       0.666667\n",
       "dtype: float64"
      ]
     },
     "execution_count": 152,
     "metadata": {},
     "output_type": "execute_result"
    }
   ],
   "source": [
    "(second_run_pred_df_w_labels\n",
    " .groupby('quote_type')\n",
    " .apply(lambda df: f1_score(df['label'], df['pred']))\n",
    ")"
   ]
  },
  {
   "cell_type": "code",
   "execution_count": 171,
   "metadata": {},
   "outputs": [],
   "source": [
    "second_run_source_grouped = (\n",
    "    second_run_pred_df_w_labels\n",
    " .assign(head=lambda df: df['head'].fillna('None'))\n",
    " .groupby(['file_id', 'head'])\n",
    " [['label', 'pred', 'source_type', 'affiliation', 'role', 'role_status']]\n",
    " .aggregate(list)\n",
    "#  ['label'].iloc[0]\n",
    " .applymap(lambda x: list(set(filter(lambda y: pd.notnull(y), x))))\n",
    " .assign(pred=lambda df: df['pred'].apply(lambda x: any(x)))\n",
    " .assign(label=lambda df: df['label'].apply(lambda x: any(x)))\n",
    " .applymap(lambda x: x if not isinstance(x, list) else ('' if len(x) == 0 else x[0]))\n",
    ")"
   ]
  },
  {
   "cell_type": "code",
   "execution_count": 173,
   "metadata": {},
   "outputs": [
    {
     "data": {
      "text/plain": [
       "0.9"
      ]
     },
     "execution_count": 173,
     "metadata": {},
     "output_type": "execute_result"
    }
   ],
   "source": [
    "second_run_source_grouped.pipe(lambda df: f1_score(df['label'], df['pred']))"
   ]
  },
  {
   "cell_type": "code",
   "execution_count": 177,
   "metadata": {},
   "outputs": [
    {
     "data": {
      "text/plain": [
       "source_type\n",
       "                      0.058824\n",
       "Named Group           0.925926\n",
       "Named Individual      1.000000\n",
       "Report/Document       0.947368\n",
       "Unnamed Group         0.909091\n",
       "Unnamed Individual    1.000000\n",
       "Vote/Poll             0.666667\n",
       "dtype: float64"
      ]
     },
     "execution_count": 177,
     "metadata": {},
     "output_type": "execute_result"
    }
   ],
   "source": [
    "(second_run_source_grouped\n",
    " .groupby('source_type')\n",
    " .apply(lambda df: f1_score(df['label'], df['pred']))\n",
    ")"
   ]
  },
  {
   "cell_type": "code",
   "execution_count": null,
   "metadata": {},
   "outputs": [],
   "source": []
  },
  {
   "cell_type": "code",
   "execution_count": null,
   "metadata": {},
   "outputs": [],
   "source": []
  },
  {
   "cell_type": "code",
   "execution_count": null,
   "metadata": {},
   "outputs": [],
   "source": []
  }
 ],
 "metadata": {
  "hide_input": false,
  "kernelspec": {
   "display_name": "Python 3",
   "language": "python",
   "name": "python3"
  },
  "language_info": {
   "codemirror_mode": {
    "name": "ipython",
    "version": 3
   },
   "file_extension": ".py",
   "mimetype": "text/x-python",
   "name": "python",
   "nbconvert_exporter": "python",
   "pygments_lexer": "ipython3",
   "version": "3.7.6"
  }
 },
 "nbformat": 4,
 "nbformat_minor": 4
}
