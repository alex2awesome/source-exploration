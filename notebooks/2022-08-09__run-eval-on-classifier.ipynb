{
 "cells": [
  {
   "cell_type": "code",
   "execution_count": null,
   "id": "1f1f8323-f141-473d-b94e-884dd95b447b",
   "metadata": {},
   "outputs": [],
   "source": [
    "from models_neural.quote_attribution.classification_models import SourceQA"
   ]
  },
  {
   "cell_type": "code",
   "execution_count": 1,
   "id": "f1eef3d9-6c4b-4c4c-90b0-3a19e5148c52",
   "metadata": {},
   "outputs": [],
   "source": [
    "import json\n",
    "import attrdict\n",
    "from models_neural.src.config_helper import TransformersConfig\n",
    "import pandas as pd \n",
    "\n",
    "! aws s3 cp s3://aspangher/transformer-pretrained-models/roberta-base-expanded-embeddings.zip .  --endpoint http://s3.dev.obdc.bcs.bloomberg.com\n",
    "        \n",
    "import zipfile\n",
    "with zipfile.ZipFile('roberta-base-expanded-embeddings.zip', 'r') as zip_ref:\n",
    "    zip_ref.extractall()"
   ]
  },
  {
   "cell_type": "code",
   "execution_count": 57,
   "id": "f2439a53-03fa-4766-9fa2-0116ea6c3a10",
   "metadata": {},
   "outputs": [],
   "source": [
    "data_fn = 'our-annotated-data__stage-2.tsv'\n",
    "data_df = pd.read_csv(data_fn, sep='\\t', header=None)\n",
    "model_path = 'trial-Stage 2: Quote Attribution. Our dataset only.__epoch=05-perplexity=0.00.ckpt'"
   ]
  },
  {
   "cell_type": "code",
   "execution_count": 51,
   "id": "0c3ff868-88f3-4fe6-b96a-21008204787d",
   "metadata": {},
   "outputs": [
    {
     "name": "stdout",
     "output_type": "stream",
     "text": [
      "download: s3://aspangher/source-exploration/./config-Stage 2: Quote Attribution. Our dataset only..json to ./config-Stage 2: Quote Attribution. Our dataset only..json\n"
     ]
    }
   ],
   "source": [
    "! aws s3 cp s3://aspangher/source-exploration/./config-Stage\\ 2\\:\\ Quote\\ Attribution.\\ Our\\ dataset\\ only..json  . --endpoint http://s3.dev.obdc.bcs.bloomberg.com"
   ]
  },
  {
   "cell_type": "code",
   "execution_count": 54,
   "id": "cbd76811-d328-43ca-b4e3-9ea32fe037ff",
   "metadata": {},
   "outputs": [],
   "source": [
    "config_out = 'config-%s.json' % \"Stage 2: Quote Attribution. Our dataset only.\"\n",
    "with open(config_out) as f:\n",
    "    config_dict = json.load(f)\n",
    "\n",
    "config_dict = attrdict.AttrDict(config_dict)\n",
    "config_dict.pretrained_files_s3 = config.pretrained_model_path\n",
    "config_dict.model_type = 'roberta'"
   ]
  },
  {
   "cell_type": "code",
   "execution_count": 55,
   "id": "11c0039b-8adb-480c-8d2f-1c09fdfa9e1d",
   "metadata": {},
   "outputs": [],
   "source": [
    "model = SourceQA.load_from_checkpoint(model_path, config=config_dict)"
   ]
  },
  {
   "cell_type": "code",
   "execution_count": 56,
   "id": "a2038226-8b15-4d20-98c4-008984740cef",
   "metadata": {},
   "outputs": [],
   "source": [
    "from models_neural.quote_attribution.utils_dataset import SourceQADataModule"
   ]
  },
  {
   "cell_type": "code",
   "execution_count": 62,
   "id": "4160a955-733f-4e32-a811-9500a99785f5",
   "metadata": {},
   "outputs": [
    {
     "data": {
      "text/plain": [
       "'./roberta-base-expanded-embeddings'"
      ]
     },
     "execution_count": 62,
     "metadata": {},
     "output_type": "execute_result"
    }
   ],
   "source": [
    "! aws s3 cp --recursive s3://aspangher/spacy/en_core_web_lg/ en_core_web_lg/   --endpoint http://s3.dev.obdc.bcs.bloomberg.com"
   ]
  },
  {
   "cell_type": "code",
   "execution_count": 71,
   "id": "13fab634-ffb1-4b92-ac80-f9c53c9073ee",
   "metadata": {},
   "outputs": [],
   "source": [
    "data_model = SourceQADataModule(\n",
    "    config=config_dict,\n",
    "    data_fp=data_fn,\n",
    "    model_type='roberta',\n",
    "    max_length_seq=2048,\n",
    "    pretrained_model_path=config_dict.pretrained_model_path,\n",
    "    batch_size=1,\n",
    "    spacy_path='en_core_web_lg'\n",
    ")"
   ]
  },
  {
   "cell_type": "code",
   "execution_count": 72,
   "id": "8afaa016-5932-4729-b0e7-de5c742d80a9",
   "metadata": {},
   "outputs": [],
   "source": [
    "data_model.prepare_data()"
   ]
  },
  {
   "cell_type": "code",
   "execution_count": 73,
   "id": "ea8c70ff-cebf-49ac-8964-d2b96e7b3d52",
   "metadata": {},
   "outputs": [
    {
     "name": "stderr",
     "output_type": "stream",
     "text": [
      "100%|██████████| 335/335 [02:15<00:00,  2.48it/s]\n"
     ]
    }
   ],
   "source": [
    "data_model.setup()"
   ]
  },
  {
   "cell_type": "code",
   "execution_count": 89,
   "id": "ac0be4d2-a57e-49b2-9fa6-608b11e7d1c3",
   "metadata": {},
   "outputs": [],
   "source": [
    "dataloader = data_model.val_dataloader()"
   ]
  },
  {
   "cell_type": "code",
   "execution_count": 92,
   "id": "e2fa8d9a-05c9-4bf0-ad9b-f850583144af",
   "metadata": {},
   "outputs": [
    {
     "data": {
      "text/plain": [
       "1"
      ]
     },
     "execution_count": 92,
     "metadata": {},
     "output_type": "execute_result"
    }
   ],
   "source": [
    "dataloader.batch_size"
   ]
  },
  {
   "cell_type": "code",
   "execution_count": null,
   "id": "621a38ee-231d-425b-8f9f-d6de072ad273",
   "metadata": {},
   "outputs": [],
   "source": [
    "for sample in dataloader:\n",
    "    sample"
   ]
  },
  {
   "cell_type": "code",
   "execution_count": 103,
   "id": "045b9676-68d8-46b1-bcad-025f9d720b0e",
   "metadata": {},
   "outputs": [],
   "source": [
    "with torch.no_grad():\n",
    "    output = model.forward(input_ids=sample['input_ids'], attention_mask=sample['attention_mask'], sentence_ids=sample['sentence_ids'])"
   ]
  },
  {
   "cell_type": "code",
   "execution_count": 105,
   "id": "0f03203e-25f7-4730-be78-d25cca21f891",
   "metadata": {},
   "outputs": [],
   "source": [
    "start_logits, end_logits = output"
   ]
  },
  {
   "cell_type": "code",
   "execution_count": 110,
   "id": "e9ca47d7-134e-4535-a1c4-9fbe587ce27f",
   "metadata": {},
   "outputs": [],
   "source": [
    "start, end = start_logits.argmax(), end_logits.argmax()"
   ]
  },
  {
   "cell_type": "code",
   "execution_count": null,
   "id": "d225867a-3ad8-4986-a2c3-bde758ec7e70",
   "metadata": {},
   "outputs": [],
   "source": []
  },
  {
   "cell_type": "code",
   "execution_count": null,
   "id": "196feb54-66de-4bb5-a7cb-fb3e240089f3",
   "metadata": {},
   "outputs": [],
   "source": []
  },
  {
   "cell_type": "code",
   "execution_count": 115,
   "id": "f5981eaa-0b2e-48f3-8cbf-9738942d4b3d",
   "metadata": {},
   "outputs": [],
   "source": [
    "from transformers import AutoTokenizer"
   ]
  },
  {
   "cell_type": "code",
   "execution_count": 117,
   "id": "a5efe0b9-baa5-4dce-8086-8a4ff0d0f084",
   "metadata": {},
   "outputs": [],
   "source": [
    "tokenizer = AutoTokenizer.from_pretrained('roberta-base-expanded-embeddings')"
   ]
  },
  {
   "cell_type": "code",
   "execution_count": 119,
   "id": "94fc4f96-e8cd-46e5-a98a-35720f5a45b8",
   "metadata": {},
   "outputs": [
    {
     "data": {
      "text/plain": [
       "' David W. Eaton'"
      ]
     },
     "execution_count": 119,
     "metadata": {},
     "output_type": "execute_result"
    }
   ],
   "source": [
    "tokenizer.decode(sample['input_ids'][:, start:end][0])"
   ]
  },
  {
   "cell_type": "code",
   "execution_count": 112,
   "id": "146f477b-fc46-4fa6-80e1-f81433c84182",
   "metadata": {},
   "outputs": [
    {
     "data": {
      "text/plain": [
       "tensor(212)"
      ]
     },
     "execution_count": 112,
     "metadata": {},
     "output_type": "execute_result"
    }
   ],
   "source": [
    "start"
   ]
  },
  {
   "cell_type": "code",
   "execution_count": 113,
   "id": "3f343403-19a5-40ff-87df-2a4af80b6130",
   "metadata": {},
   "outputs": [
    {
     "data": {
      "text/plain": [
       "tensor(216)"
      ]
     },
     "execution_count": 113,
     "metadata": {},
     "output_type": "execute_result"
    }
   ],
   "source": [
    "end"
   ]
  },
  {
   "cell_type": "code",
   "execution_count": null,
   "id": "395a9774-8be8-4d15-adbc-493534b56cba",
   "metadata": {},
   "outputs": [],
   "source": []
  }
 ],
 "metadata": {
  "kernelspec": {
   "display_name": "Python 3",
   "language": "python",
   "name": "python3"
  },
  "language_info": {
   "codemirror_mode": {
    "name": "ipython",
    "version": 3
   },
   "file_extension": ".py",
   "mimetype": "text/x-python",
   "name": "python",
   "nbconvert_exporter": "python",
   "pygments_lexer": "ipython3",
   "version": "3.7.13"
  }
 },
 "nbformat": 4,
 "nbformat_minor": 5
}
