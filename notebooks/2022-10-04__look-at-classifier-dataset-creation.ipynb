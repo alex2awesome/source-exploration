{
 "cells": [
  {
   "cell_type": "code",
   "execution_count": 1,
   "metadata": {},
   "outputs": [],
   "source": [
    "import pandas as pd \n",
    "import string"
   ]
  },
  {
   "cell_type": "code",
   "execution_count": 19,
   "metadata": {},
   "outputs": [],
   "source": [
    "training_dat_file = '../models_neural/quote_attribution/data/our-annotated-data__stage-2.tsv'\n",
    "real_training_data = pd.read_csv(training_dat_file, sep='\\t', header=None)"
   ]
  },
  {
   "cell_type": "code",
   "execution_count": 26,
   "metadata": {},
   "outputs": [
    {
     "data": {
      "text/plain": [
       "train    251\n",
       "test      84\n",
       "Name: 3, dtype: int64"
      ]
     },
     "execution_count": 26,
     "metadata": {},
     "output_type": "execute_result"
    }
   ],
   "source": [
    "real_training_data[3].drop_duplicates().str.split('/').str.get(1).value_counts()"
   ]
  },
  {
   "cell_type": "code",
   "execution_count": 36,
   "metadata": {},
   "outputs": [
    {
     "data": {
      "text/plain": [
       "None      8451\n",
       "Source    7342\n",
       "Name: 1, dtype: int64"
      ]
     },
     "execution_count": 36,
     "metadata": {},
     "output_type": "execute_result"
    }
   ],
   "source": [
    "real_training_data[1].apply(lambda x: 'None' if x == 'None' else 'Source').value_counts()"
   ]
  },
  {
   "cell_type": "code",
   "execution_count": 18,
   "metadata": {},
   "outputs": [],
   "source": [
    "# make fake data"
   ]
  },
  {
   "cell_type": "code",
   "execution_count": 54,
   "metadata": {},
   "outputs": [],
   "source": [
    "from random import random, randint, choice"
   ]
  },
  {
   "cell_type": "code",
   "execution_count": 28,
   "metadata": {},
   "outputs": [],
   "source": [
    "num_train_docs = 251\n",
    "num_test_docs = 84"
   ]
  },
  {
   "cell_type": "code",
   "execution_count": 97,
   "metadata": {},
   "outputs": [],
   "source": [
    "sources = ['Robert Smith', 'Jenna Bellman', 'officials', 'Joseph Biden', 'Donald Trump', 'authorities']\n",
    "source_sentences = [\n",
    "    'He doesn’t teach math.',\n",
    "    'You don’t have children.',\n",
    "    'Does he play tennis?',\n",
    "    'The train leaves every morning at 18 AM.',\n",
    "    'Water freezes at 0°C',\n",
    "    'I love my new pets.',\n",
    "    'She doesn’t use a computer.',\n",
    "    'It snows a lot in winter in Russia.',\n",
    "    'We live in Texas.',\n",
    "    'You go to holiday every summer.',\n",
    "    'Do you like spaghetti?',\n",
    "    'My daughter does the laundry.',\n",
    "    'The train does not leave at 12 AM.',\n",
    "    'I have no money at the moment.',\n",
    "    'Do they talk a lot?',\n",
    "    'Tomorrow early morning first I go to morning walk.',\n",
    "    'We drink coffee every morning.',\n",
    "    'I and my sister don’t see each other anymore.',\n",
    "    'They don’t go to school tomorrow.',\n",
    "    'Every child likes an ice cream.',\n",
    "]\n",
    "\n",
    "background_sentences = [\n",
    "    'They have been known to say that.',\n",
    "    'The path forward is unclear.',\n",
    "    'This occurred as the opposite was being discussed.',\n",
    "    'No known follow up occurred.',\n",
    "    'For all of history, this has been said.',\n",
    "    'The reasons were not apparent.',\n",
    "    'Updates will follow.',\n",
    "    'Research has shown the opposite.',\n",
    "    'Daily modes are hard to establish.',\n",
    "    'All sources declined comment',\n",
    "]\n",
    "\n",
    "\n",
    "\n",
    "\n",
    "output_docs = []\n",
    "for i in range(num_train_docs + num_test_docs):\n",
    "    doc_idx = ('/train/%s' if i < num_train_docs else '/test/%s') % i \n",
    "    num_sents = randint(20, 80)\n",
    "    output_doc = []\n",
    "    for s in range(num_sents):\n",
    "        has_source = random() > .5\n",
    "        if has_source:\n",
    "            source = choice(sources)\n",
    "            sent = choice(source_sentences)\n",
    "            sent = '\"%s\" said %s' % (sent, source)\n",
    "        else:\n",
    "            source = 'None'\n",
    "            sent = choice(background_sentences)\n",
    "\n",
    "        output_docs.append([sent, source, s, doc_idx])"
   ]
  },
  {
   "cell_type": "code",
   "execution_count": 98,
   "metadata": {},
   "outputs": [
    {
     "name": "stdout",
     "output_type": "stream",
     "text": [
      "our-annotated-data__stage-2.tsv\r\n",
      "quote-attribution-classification__sanity-check-data.tsv\r\n"
     ]
    }
   ],
   "source": [
    "ls ../models_neural/quote_attribution/data"
   ]
  },
  {
   "cell_type": "code",
   "execution_count": 106,
   "metadata": {},
   "outputs": [],
   "source": [
    "output_docs_df = pd.DataFrame(output_docs)\n",
    "output_docs_df.to_csv(\n",
    "    '../models_neural/quote_attribution/data/quote-attribution-classification__sanity-check-data.tsv', \n",
    "    sep='\\t', header=None, index=False\n",
    ")"
   ]
  },
  {
   "cell_type": "code",
   "execution_count": null,
   "metadata": {},
   "outputs": [],
   "source": []
  },
  {
   "cell_type": "code",
   "execution_count": null,
   "metadata": {},
   "outputs": [],
   "source": []
  },
  {
   "cell_type": "code",
   "execution_count": null,
   "metadata": {},
   "outputs": [],
   "source": []
  },
  {
   "cell_type": "code",
   "execution_count": null,
   "metadata": {},
   "outputs": [],
   "source": []
  },
  {
   "cell_type": "code",
   "execution_count": null,
   "metadata": {},
   "outputs": [],
   "source": []
  },
  {
   "cell_type": "markdown",
   "metadata": {},
   "source": [
    "# Examine data that's been generated"
   ]
  },
  {
   "cell_type": "code",
   "execution_count": 8,
   "metadata": {},
   "outputs": [],
   "source": [
    "import sys\n",
    "sys.path.insert(0, '../models_neural/quote_attribution/utils_dataset')\n",
    "sys.path.insert(0, '../models_neural')\n",
    "sys.path.insert(0, '../')\n",
    "\n",
    "from quote_attribution.utils_dataset import SourceClassificationDataModule\n",
    "from attrdict import AttrDict\n",
    "import pandas as pd"
   ]
  },
  {
   "cell_type": "code",
   "execution_count": 2,
   "metadata": {},
   "outputs": [],
   "source": [
    "training_dat_file = '../models_neural/quote_attribution/data/our-annotated-data__stage-2.tsv'"
   ]
  },
  {
   "cell_type": "code",
   "execution_count": 3,
   "metadata": {},
   "outputs": [],
   "source": [
    "config = AttrDict()"
   ]
  },
  {
   "cell_type": "code",
   "execution_count": 4,
   "metadata": {},
   "outputs": [],
   "source": [
    "config.downsample_negative_data = 1\n",
    "config.local = True\n",
    "config.shuffle_data = False\n",
    "config.num_documents = 5\n",
    "config.include_nones_as_positives = False"
   ]
  },
  {
   "cell_type": "code",
   "execution_count": 5,
   "metadata": {},
   "outputs": [],
   "source": [
    "data_module = SourceClassificationDataModule(\n",
    "        config=config,\n",
    "        data_fp=training_dat_file,\n",
    "        pretrained_model_path='/Users/alex/.cache/torch/transformers/named-models/roberta-base-expanded-embeddings',\n",
    "        num_cpus=1,\n",
    "        split_type='key',\n",
    "        split_perc=.95,\n",
    "        model_type='roberta',\n",
    "        batch_size=1,\n",
    "        max_length_seq=200,\n",
    "        spacy_path='en_core_web_lg',\n",
    "    )"
   ]
  },
  {
   "cell_type": "code",
   "execution_count": 6,
   "metadata": {},
   "outputs": [
    {
     "data": {
      "application/vnd.jupyter.widget-view+json": {
       "model_id": "9ab89a7b51904e3c8b5e74287d07a771",
       "version_major": 2,
       "version_minor": 0
      },
      "text/plain": [
       "  0%|          | 0/335 [00:00<?, ?it/s]"
      ]
     },
     "metadata": {},
     "output_type": "display_data"
    }
   ],
   "source": [
    "dataset = data_module.get_dataset()"
   ]
  },
  {
   "cell_type": "code",
   "execution_count": 103,
   "metadata": {},
   "outputs": [
    {
     "data": {
      "text/plain": [
       "'<s>journalist passive - voice BANGKOK</s><s>—</s><s>A plane carrying key senior Laotian government officials crashed Saturday morning, leaving at least four people dead, Laotian diplomats said Saturday.</s><s>Killed in the crash were two top figures in the security apparatus of the authoritarian Lao government : the deputy prime minister, Douangchay Phichit, and Thongbane Sengaphone, the minister of public security, according to two Lao diplomats.</s><s>For a Communist party that relies on force and intimidation to stay in power, the loss of what were arguably the two most powerful people in the security apparatus was a significant blow.</s><s>The governor of Vientiane province was also killed in the crash.</s><s>In addition to his post as deputy prime minister Mr. Douangchay was defense minister and a member of the Politburo, the highest decision - making body of the Communist party.</s><s>Mr. Thongbane, the public security head, was feared in the country and was said to be one of the officials leading a crackdown against dissent over the past year and half.</s><s>That crackdown included the disappearance of the most prominent civic leader in the country, Sombath Somphone, a United States - trained agriculture specialist who led efforts to liberalize the hermetic communist leadership.</s><s>Mr. Sombath was stopped at a police checkpoint in Dec. 2012 and has not been seen again.</s><s>The Lao news agency posted photos to a web site Saturday showing the mangled wreckage of the plane, a Russian - made Antonov AN-74TK300.</s><s>The news agency, citing a statement from the prime minister ’s office, said it was a Laotian Air Force aircraft</s><s>and it had crashed in Nadi village, west of the Xiangkhouang airport and not far from a major archeological site of prehistoric carved stone vessels, the Plain of Jars.</s><s>The authorities were “ helping to rescue the survivors, ” the news agency said, without offering details on the number of people killed.</s><s>The plane was traveling from the capital, Vientiane, to the mountainous northeastern province of Xiangkhouang, where the officials were due to attend a military ceremony.</s><s>State television in Laos showed footage of rescue workers recovering debris from the aircraft, which appeared to have crashed in a jungle - covered area.</s><s>A news presenter said the crash occurred at around 7 a.m.</s><s>“</s><s>The cause of the plane crash is still unknown, ” the presenter said.</s><s>A Lao Facebook page showed images of thick black smoke rising up near what appeared to be an airport runway.</s><s>The images could not be independently confirmed.</s><s>The crash was the second in Laos in the last year.</s><s>Last October 49 people were killed when a Lao Airlines flight crashed in the south of the country.</s><s>The Foreign Ministry in neighboring Thailand said it “ received reports ” about the crash.</s><s>“</s><s>There were about 20 passengers on board of which most were of high stature, ” said Sek Wannamethee, a spokesman for the Thai Foreign Ministry.</s>'"
      ]
     },
     "execution_count": 103,
     "metadata": {},
     "output_type": "execute_result"
    }
   ],
   "source": [
    "data_module.tokenizer.decode(dataset[0]['doc_tokens'])"
   ]
  },
  {
   "cell_type": "code",
   "execution_count": 9,
   "metadata": {},
   "outputs": [],
   "source": [
    "processed_real_dataset_df = pd.DataFrame(list(dataset))"
   ]
  },
  {
   "cell_type": "code",
   "execution_count": 10,
   "metadata": {},
   "outputs": [],
   "source": [
    "processed_real_dataset_df = (processed_real_dataset_df\n",
    " .assign(sentence_toks=lambda df: \n",
    "         df.apply(lambda x: list(filter(lambda y: y[1] == 1, zip(x['doc_tokens'], x['sentence_ind_tokens']))), axis=1)\n",
    "         .apply(lambda x: list(map(lambda y: y[0], x)))\n",
    "        )\n",
    " .assign(source_toks=lambda df: \n",
    "         df.apply(lambda x: list(filter(lambda y: y[1] == 1, zip(x['doc_tokens'], x['source_ind_tokens']))), axis=1)\n",
    "         .apply(lambda x: list(map(lambda y: y[0], x)))\n",
    "        )\n",
    "\n",
    ")"
   ]
  },
  {
   "cell_type": "code",
   "execution_count": 11,
   "metadata": {},
   "outputs": [],
   "source": [
    "processed_real_dataset_df['source_name'] = processed_real_dataset_df.apply(lambda x: data_module.tokenizer.decode(x['source_toks']), axis=1)"
   ]
  },
  {
   "cell_type": "code",
   "execution_count": 12,
   "metadata": {
    "scrolled": true
   },
   "outputs": [
    {
     "data": {
      "text/html": [
       "<div>\n",
       "<style scoped>\n",
       "    .dataframe tbody tr th:only-of-type {\n",
       "        vertical-align: middle;\n",
       "    }\n",
       "\n",
       "    .dataframe tbody tr th {\n",
       "        vertical-align: top;\n",
       "    }\n",
       "\n",
       "    .dataframe thead th {\n",
       "        text-align: right;\n",
       "    }\n",
       "</style>\n",
       "<table border=\"1\" class=\"dataframe\">\n",
       "  <thead>\n",
       "    <tr style=\"text-align: right;\">\n",
       "      <th></th>\n",
       "      <th>source_ind_tokens</th>\n",
       "      <th>sentence_ind_tokens</th>\n",
       "      <th>doc_tokens</th>\n",
       "      <th>label</th>\n",
       "      <th>sent_lens</th>\n",
       "      <th>doc_idx</th>\n",
       "      <th>sent_idx</th>\n",
       "      <th>annotated_source</th>\n",
       "      <th>candidate_source</th>\n",
       "      <th>sentence_toks</th>\n",
       "      <th>source_toks</th>\n",
       "      <th>source_name</th>\n",
       "    </tr>\n",
       "  </thead>\n",
       "  <tbody>\n",
       "    <tr>\n",
       "      <th>0</th>\n",
       "      <td>[0, 0, 0, 0, 0, 0, 0, 0, 0, 0, 0, 0, 0, 0, 0, ...</td>\n",
       "      <td>[0, 0, 0, 0, 0, 0, 0, 0, 0, 0, 0, 0, 0, 0, 0, ...</td>\n",
       "      <td>[0, 15545, 661, 18718, 111, 2236, 163, 9298, 5...</td>\n",
       "      <td>False</td>\n",
       "      <td>[11, 3, 30, 57, 37, 16, 40, 39, 42, 24, 36, 28...</td>\n",
       "      <td>NaN</td>\n",
       "      <td>NaN</td>\n",
       "      <td>NaN</td>\n",
       "      <td>NaN</td>\n",
       "      <td>[0, 250, 1587, 139, 622, 1842, 969, 3156, 9, 7...</td>\n",
       "      <td>[949]</td>\n",
       "      <td>senior</td>\n",
       "    </tr>\n",
       "    <tr>\n",
       "      <th>1</th>\n",
       "      <td>[0, 0, 0, 0, 0, 0, 0, 0, 0, 0, 0, 0, 0, 0, 0, ...</td>\n",
       "      <td>[0, 0, 0, 0, 0, 0, 0, 0, 0, 0, 0, 0, 0, 0, 0, ...</td>\n",
       "      <td>[0, 15545, 661, 18718, 111, 2236, 163, 9298, 5...</td>\n",
       "      <td>False</td>\n",
       "      <td>[11, 3, 30, 57, 37, 16, 40, 39, 42, 24, 36, 28...</td>\n",
       "      <td>NaN</td>\n",
       "      <td>NaN</td>\n",
       "      <td>NaN</td>\n",
       "      <td>NaN</td>\n",
       "      <td>[0, 133, 340, 1218, 2156, 4319, 10, 445, 31, 5...</td>\n",
       "      <td>[13360, 2384]</td>\n",
       "      <td>State television</td>\n",
       "    </tr>\n",
       "    <tr>\n",
       "      <th>2</th>\n",
       "      <td>[0, 0, 0, 0, 0, 0, 0, 0, 0, 0, 0, 0, 0, 0, 0, ...</td>\n",
       "      <td>[0, 0, 0, 0, 0, 0, 0, 0, 0, 0, 0, 0, 0, 0, 1, ...</td>\n",
       "      <td>[0, 15545, 661, 18718, 111, 2236, 163, 9298, 5...</td>\n",
       "      <td>True</td>\n",
       "      <td>[11, 3, 30, 57, 37, 16, 40, 39, 42, 24, 36, 28...</td>\n",
       "      <td>/train/902</td>\n",
       "      <td>NaN</td>\n",
       "      <td>Laotian diplomats</td>\n",
       "      <td>diplomats</td>\n",
       "      <td>[0, 250, 3286, 3406, 762, 949, 1587, 1242, 811...</td>\n",
       "      <td>[10055]</td>\n",
       "      <td>diplomats</td>\n",
       "    </tr>\n",
       "    <tr>\n",
       "      <th>3</th>\n",
       "      <td>[0, 0, 0, 0, 0, 0, 0, 0, 0, 0, 0, 0, 0, 0, 0, ...</td>\n",
       "      <td>[0, 0, 0, 0, 0, 0, 0, 0, 0, 0, 0, 0, 0, 0, 0, ...</td>\n",
       "      <td>[0, 15545, 661, 18718, 111, 2236, 163, 9298, 5...</td>\n",
       "      <td>True</td>\n",
       "      <td>[11, 3, 30, 57, 37, 16, 40, 39, 42, 24, 36, 28...</td>\n",
       "      <td>/train/902</td>\n",
       "      <td>NaN</td>\n",
       "      <td>The Lao news agency</td>\n",
       "      <td>lao news agency</td>\n",
       "      <td>[0, 250, 1587, 139, 622, 1842, 969, 3156, 9, 7...</td>\n",
       "      <td>[1587, 139, 340, 1218]</td>\n",
       "      <td>Lao news agency</td>\n",
       "    </tr>\n",
       "    <tr>\n",
       "      <th>4</th>\n",
       "      <td>[0, 0, 0, 0, 0, 0, 0, 0, 0, 0, 0, 0, 0, 0, 0, ...</td>\n",
       "      <td>[0, 0, 0, 0, 0, 0, 0, 0, 0, 0, 0, 0, 0, 0, 0, ...</td>\n",
       "      <td>[0, 15545, 661, 18718, 111, 2236, 163, 9298, 5...</td>\n",
       "      <td>True</td>\n",
       "      <td>[11, 3, 30, 57, 37, 16, 40, 39, 42, 24, 36, 28...</td>\n",
       "      <td>/train/902</td>\n",
       "      <td>NaN</td>\n",
       "      <td>The Lao news agency</td>\n",
       "      <td>lao news agency</td>\n",
       "      <td>[0, 463, 24, 56, 6050, 11, 234, 5416, 3375, 21...</td>\n",
       "      <td>[1587, 139, 340, 1218]</td>\n",
       "      <td>Lao news agency</td>\n",
       "    </tr>\n",
       "    <tr>\n",
       "      <th>...</th>\n",
       "      <td>...</td>\n",
       "      <td>...</td>\n",
       "      <td>...</td>\n",
       "      <td>...</td>\n",
       "      <td>...</td>\n",
       "      <td>...</td>\n",
       "      <td>...</td>\n",
       "      <td>...</td>\n",
       "      <td>...</td>\n",
       "      <td>...</td>\n",
       "      <td>...</td>\n",
       "      <td>...</td>\n",
       "    </tr>\n",
       "    <tr>\n",
       "      <th>143</th>\n",
       "      <td>[0, 0, 0, 0, 0, 0, 0, 0, 0, 0, 0, 0, 0, 0, 0, ...</td>\n",
       "      <td>[0, 0, 0, 0, 0, 0, 0, 0, 0, 0, 0, 0, 0, 0, 0, ...</td>\n",
       "      <td>[0, 15545, 661, 18718, 111, 2236, 436, 16, 213...</td>\n",
       "      <td>True</td>\n",
       "      <td>[61, 37, 31, 34, 34, 26, 35, 41, 19, 4, 48, 46...</td>\n",
       "      <td>/test/903</td>\n",
       "      <td>NaN</td>\n",
       "      <td>Lauri Myllyvirta</td>\n",
       "      <td>Lauri Myllyvirta</td>\n",
       "      <td>[0, 133, 762, 631, 16, 14, 4420, 2156, 436, 34...</td>\n",
       "      <td>[25722, 118, 1308, 13861, 42660, 102]</td>\n",
       "      <td>Lauri Myllyvirta</td>\n",
       "    </tr>\n",
       "    <tr>\n",
       "      <th>144</th>\n",
       "      <td>[0, 0, 0, 0, 0, 0, 0, 0, 0, 0, 0, 0, 0, 0, 0, ...</td>\n",
       "      <td>[0, 0, 0, 0, 0, 0, 0, 0, 0, 0, 0, 0, 0, 0, 0, ...</td>\n",
       "      <td>[0, 15545, 661, 18718, 111, 2236, 436, 16, 213...</td>\n",
       "      <td>True</td>\n",
       "      <td>[61, 37, 31, 34, 34, 26, 35, 41, 19, 4, 48, 46...</td>\n",
       "      <td>/test/903</td>\n",
       "      <td>NaN</td>\n",
       "      <td>Lin Boqiang</td>\n",
       "      <td>Lin Boqiang</td>\n",
       "      <td>[0, 17, 48, 2]</td>\n",
       "      <td>[9252, 3542, 1343, 14607]</td>\n",
       "      <td>Lin Boqiang</td>\n",
       "    </tr>\n",
       "    <tr>\n",
       "      <th>145</th>\n",
       "      <td>[0, 0, 0, 0, 0, 0, 0, 0, 0, 0, 0, 0, 0, 0, 0, ...</td>\n",
       "      <td>[1, 1, 1, 1, 1, 1, 1, 1, 1, 1, 1, 1, 1, 1, 1, ...</td>\n",
       "      <td>[0, 15545, 661, 18718, 111, 2236, 436, 16, 213...</td>\n",
       "      <td>False</td>\n",
       "      <td>[61, 37, 31, 34, 34, 26, 35, 41, 19, 4, 48, 46...</td>\n",
       "      <td>NaN</td>\n",
       "      <td>NaN</td>\n",
       "      <td>NaN</td>\n",
       "      <td>NaN</td>\n",
       "      <td>[0, 15545, 661, 18718, 111, 2236, 436, 16, 213...</td>\n",
       "      <td>[168]</td>\n",
       "      <td>government</td>\n",
       "    </tr>\n",
       "    <tr>\n",
       "      <th>146</th>\n",
       "      <td>[0, 0, 0, 0, 0, 0, 0, 0, 0, 0, 0, 0, 0, 0, 0, ...</td>\n",
       "      <td>[0, 0, 0, 0, 0, 0, 0, 0, 0, 0, 0, 0, 0, 0, 0, ...</td>\n",
       "      <td>[0, 15545, 661, 18718, 111, 2236, 436, 16, 213...</td>\n",
       "      <td>False</td>\n",
       "      <td>[61, 37, 31, 34, 34, 26, 35, 41, 19, 4, 48, 46...</td>\n",
       "      <td>NaN</td>\n",
       "      <td>NaN</td>\n",
       "      <td>NaN</td>\n",
       "      <td>NaN</td>\n",
       "      <td>[0, 17, 48, 2]</td>\n",
       "      <td>[285]</td>\n",
       "      <td>public</td>\n",
       "    </tr>\n",
       "    <tr>\n",
       "      <th>147</th>\n",
       "      <td>[0, 0, 0, 0, 0, 0, 0, 0, 0, 0, 0, 0, 0, 0, 0, ...</td>\n",
       "      <td>[0, 0, 0, 0, 0, 0, 0, 0, 0, 0, 0, 0, 0, 0, 0, ...</td>\n",
       "      <td>[0, 15545, 661, 18718, 111, 2236, 436, 16, 213...</td>\n",
       "      <td>True</td>\n",
       "      <td>[61, 37, 31, 34, 34, 26, 35, 41, 19, 4, 48, 46...</td>\n",
       "      <td>/test/903</td>\n",
       "      <td>NaN</td>\n",
       "      <td>Lin Boqiang</td>\n",
       "      <td>Lin Boqiang</td>\n",
       "      <td>[0, 243, 44, 27, 29, 1202, 7, 15425, 5, 400, 3...</td>\n",
       "      <td>[9252, 3542, 1343, 14607]</td>\n",
       "      <td>Lin Boqiang</td>\n",
       "    </tr>\n",
       "  </tbody>\n",
       "</table>\n",
       "<p>148 rows × 12 columns</p>\n",
       "</div>"
      ],
      "text/plain": [
       "                                     source_ind_tokens  \\\n",
       "0    [0, 0, 0, 0, 0, 0, 0, 0, 0, 0, 0, 0, 0, 0, 0, ...   \n",
       "1    [0, 0, 0, 0, 0, 0, 0, 0, 0, 0, 0, 0, 0, 0, 0, ...   \n",
       "2    [0, 0, 0, 0, 0, 0, 0, 0, 0, 0, 0, 0, 0, 0, 0, ...   \n",
       "3    [0, 0, 0, 0, 0, 0, 0, 0, 0, 0, 0, 0, 0, 0, 0, ...   \n",
       "4    [0, 0, 0, 0, 0, 0, 0, 0, 0, 0, 0, 0, 0, 0, 0, ...   \n",
       "..                                                 ...   \n",
       "143  [0, 0, 0, 0, 0, 0, 0, 0, 0, 0, 0, 0, 0, 0, 0, ...   \n",
       "144  [0, 0, 0, 0, 0, 0, 0, 0, 0, 0, 0, 0, 0, 0, 0, ...   \n",
       "145  [0, 0, 0, 0, 0, 0, 0, 0, 0, 0, 0, 0, 0, 0, 0, ...   \n",
       "146  [0, 0, 0, 0, 0, 0, 0, 0, 0, 0, 0, 0, 0, 0, 0, ...   \n",
       "147  [0, 0, 0, 0, 0, 0, 0, 0, 0, 0, 0, 0, 0, 0, 0, ...   \n",
       "\n",
       "                                   sentence_ind_tokens  \\\n",
       "0    [0, 0, 0, 0, 0, 0, 0, 0, 0, 0, 0, 0, 0, 0, 0, ...   \n",
       "1    [0, 0, 0, 0, 0, 0, 0, 0, 0, 0, 0, 0, 0, 0, 0, ...   \n",
       "2    [0, 0, 0, 0, 0, 0, 0, 0, 0, 0, 0, 0, 0, 0, 1, ...   \n",
       "3    [0, 0, 0, 0, 0, 0, 0, 0, 0, 0, 0, 0, 0, 0, 0, ...   \n",
       "4    [0, 0, 0, 0, 0, 0, 0, 0, 0, 0, 0, 0, 0, 0, 0, ...   \n",
       "..                                                 ...   \n",
       "143  [0, 0, 0, 0, 0, 0, 0, 0, 0, 0, 0, 0, 0, 0, 0, ...   \n",
       "144  [0, 0, 0, 0, 0, 0, 0, 0, 0, 0, 0, 0, 0, 0, 0, ...   \n",
       "145  [1, 1, 1, 1, 1, 1, 1, 1, 1, 1, 1, 1, 1, 1, 1, ...   \n",
       "146  [0, 0, 0, 0, 0, 0, 0, 0, 0, 0, 0, 0, 0, 0, 0, ...   \n",
       "147  [0, 0, 0, 0, 0, 0, 0, 0, 0, 0, 0, 0, 0, 0, 0, ...   \n",
       "\n",
       "                                            doc_tokens  label  \\\n",
       "0    [0, 15545, 661, 18718, 111, 2236, 163, 9298, 5...  False   \n",
       "1    [0, 15545, 661, 18718, 111, 2236, 163, 9298, 5...  False   \n",
       "2    [0, 15545, 661, 18718, 111, 2236, 163, 9298, 5...   True   \n",
       "3    [0, 15545, 661, 18718, 111, 2236, 163, 9298, 5...   True   \n",
       "4    [0, 15545, 661, 18718, 111, 2236, 163, 9298, 5...   True   \n",
       "..                                                 ...    ...   \n",
       "143  [0, 15545, 661, 18718, 111, 2236, 436, 16, 213...   True   \n",
       "144  [0, 15545, 661, 18718, 111, 2236, 436, 16, 213...   True   \n",
       "145  [0, 15545, 661, 18718, 111, 2236, 436, 16, 213...  False   \n",
       "146  [0, 15545, 661, 18718, 111, 2236, 436, 16, 213...  False   \n",
       "147  [0, 15545, 661, 18718, 111, 2236, 436, 16, 213...   True   \n",
       "\n",
       "                                             sent_lens     doc_idx  sent_idx  \\\n",
       "0    [11, 3, 30, 57, 37, 16, 40, 39, 42, 24, 36, 28...         NaN       NaN   \n",
       "1    [11, 3, 30, 57, 37, 16, 40, 39, 42, 24, 36, 28...         NaN       NaN   \n",
       "2    [11, 3, 30, 57, 37, 16, 40, 39, 42, 24, 36, 28...  /train/902       NaN   \n",
       "3    [11, 3, 30, 57, 37, 16, 40, 39, 42, 24, 36, 28...  /train/902       NaN   \n",
       "4    [11, 3, 30, 57, 37, 16, 40, 39, 42, 24, 36, 28...  /train/902       NaN   \n",
       "..                                                 ...         ...       ...   \n",
       "143  [61, 37, 31, 34, 34, 26, 35, 41, 19, 4, 48, 46...   /test/903       NaN   \n",
       "144  [61, 37, 31, 34, 34, 26, 35, 41, 19, 4, 48, 46...   /test/903       NaN   \n",
       "145  [61, 37, 31, 34, 34, 26, 35, 41, 19, 4, 48, 46...         NaN       NaN   \n",
       "146  [61, 37, 31, 34, 34, 26, 35, 41, 19, 4, 48, 46...         NaN       NaN   \n",
       "147  [61, 37, 31, 34, 34, 26, 35, 41, 19, 4, 48, 46...   /test/903       NaN   \n",
       "\n",
       "        annotated_source  candidate_source  \\\n",
       "0                    NaN               NaN   \n",
       "1                    NaN               NaN   \n",
       "2      Laotian diplomats         diplomats   \n",
       "3    The Lao news agency   lao news agency   \n",
       "4    The Lao news agency   lao news agency   \n",
       "..                   ...               ...   \n",
       "143     Lauri Myllyvirta  Lauri Myllyvirta   \n",
       "144          Lin Boqiang       Lin Boqiang   \n",
       "145                  NaN               NaN   \n",
       "146                  NaN               NaN   \n",
       "147          Lin Boqiang       Lin Boqiang   \n",
       "\n",
       "                                         sentence_toks  \\\n",
       "0    [0, 250, 1587, 139, 622, 1842, 969, 3156, 9, 7...   \n",
       "1    [0, 133, 340, 1218, 2156, 4319, 10, 445, 31, 5...   \n",
       "2    [0, 250, 3286, 3406, 762, 949, 1587, 1242, 811...   \n",
       "3    [0, 250, 1587, 139, 622, 1842, 969, 3156, 9, 7...   \n",
       "4    [0, 463, 24, 56, 6050, 11, 234, 5416, 3375, 21...   \n",
       "..                                                 ...   \n",
       "143  [0, 133, 762, 631, 16, 14, 4420, 2156, 436, 34...   \n",
       "144                                     [0, 17, 48, 2]   \n",
       "145  [0, 15545, 661, 18718, 111, 2236, 436, 16, 213...   \n",
       "146                                     [0, 17, 48, 2]   \n",
       "147  [0, 243, 44, 27, 29, 1202, 7, 15425, 5, 400, 3...   \n",
       "\n",
       "                               source_toks        source_name  \n",
       "0                                    [949]             senior  \n",
       "1                            [13360, 2384]   State television  \n",
       "2                                  [10055]          diplomats  \n",
       "3                   [1587, 139, 340, 1218]    Lao news agency  \n",
       "4                   [1587, 139, 340, 1218]    Lao news agency  \n",
       "..                                     ...                ...  \n",
       "143  [25722, 118, 1308, 13861, 42660, 102]   Lauri Myllyvirta  \n",
       "144              [9252, 3542, 1343, 14607]        Lin Boqiang  \n",
       "145                                  [168]         government  \n",
       "146                                  [285]             public  \n",
       "147              [9252, 3542, 1343, 14607]        Lin Boqiang  \n",
       "\n",
       "[148 rows x 12 columns]"
      ]
     },
     "execution_count": 12,
     "metadata": {},
     "output_type": "execute_result"
    }
   ],
   "source": [
    "processed_real_dataset_df"
   ]
  },
  {
   "cell_type": "code",
   "execution_count": 13,
   "metadata": {},
   "outputs": [
    {
     "data": {
      "text/plain": [
       "False    74\n",
       "True     74\n",
       "Name: label, dtype: int64"
      ]
     },
     "execution_count": 13,
     "metadata": {},
     "output_type": "execute_result"
    }
   ],
   "source": [
    "processed_real_dataset_df['label'].value_counts()"
   ]
  },
  {
   "cell_type": "code",
   "execution_count": 24,
   "metadata": {},
   "outputs": [
    {
     "data": {
      "text/html": [
       "<div>\n",
       "<style scoped>\n",
       "    .dataframe tbody tr th:only-of-type {\n",
       "        vertical-align: middle;\n",
       "    }\n",
       "\n",
       "    .dataframe tbody tr th {\n",
       "        vertical-align: top;\n",
       "    }\n",
       "\n",
       "    .dataframe thead th {\n",
       "        text-align: right;\n",
       "    }\n",
       "</style>\n",
       "<table border=\"1\" class=\"dataframe\">\n",
       "  <thead>\n",
       "    <tr style=\"text-align: right;\">\n",
       "      <th></th>\n",
       "      <th>0</th>\n",
       "      <th>1</th>\n",
       "      <th>2</th>\n",
       "      <th>3</th>\n",
       "    </tr>\n",
       "  </thead>\n",
       "  <tbody>\n",
       "    <tr>\n",
       "      <th>2</th>\n",
       "      <td>A plane carrying key senior Laotian government...</td>\n",
       "      <td>Laotian diplomats</td>\n",
       "      <td>2</td>\n",
       "      <td>/train/902</td>\n",
       "    </tr>\n",
       "    <tr>\n",
       "      <th>10</th>\n",
       "      <td>The Lao news agency posted photos to a web sit...</td>\n",
       "      <td>The Lao news agency</td>\n",
       "      <td>10</td>\n",
       "      <td>/train/902</td>\n",
       "    </tr>\n",
       "    <tr>\n",
       "      <th>11</th>\n",
       "      <td>The news agency , citing a statement from the ...</td>\n",
       "      <td>The Lao news agency</td>\n",
       "      <td>11</td>\n",
       "      <td>/train/902</td>\n",
       "    </tr>\n",
       "    <tr>\n",
       "      <th>12</th>\n",
       "      <td>and it had crashed in Nadi village , west of t...</td>\n",
       "      <td>The Lao news agency</td>\n",
       "      <td>12</td>\n",
       "      <td>/train/902</td>\n",
       "    </tr>\n",
       "    <tr>\n",
       "      <th>13</th>\n",
       "      <td>The authorities were “ helping to rescue the s...</td>\n",
       "      <td>The Lao news agency</td>\n",
       "      <td>13</td>\n",
       "      <td>/train/902</td>\n",
       "    </tr>\n",
       "    <tr>\n",
       "      <th>...</th>\n",
       "      <td>...</td>\n",
       "      <td>...</td>\n",
       "      <td>...</td>\n",
       "      <td>...</td>\n",
       "    </tr>\n",
       "    <tr>\n",
       "      <th>386</th>\n",
       "      <td>I like to be optimistic and hope for the best ...</td>\n",
       "      <td>Ngoc Huynh</td>\n",
       "      <td>69</td>\n",
       "      <td>/train/905</td>\n",
       "    </tr>\n",
       "    <tr>\n",
       "      <th>392</th>\n",
       "      <td>We ’re thinking about this together , ” Ms. Hu...</td>\n",
       "      <td>Ngoc Huynh</td>\n",
       "      <td>75</td>\n",
       "      <td>/train/905</td>\n",
       "    </tr>\n",
       "    <tr>\n",
       "      <th>393</th>\n",
       "      <td>“</td>\n",
       "      <td>Ngoc Huynh</td>\n",
       "      <td>76</td>\n",
       "      <td>/train/905</td>\n",
       "    </tr>\n",
       "    <tr>\n",
       "      <th>394</th>\n",
       "      <td>That ’s the beauty of it .</td>\n",
       "      <td>Ngoc Huynh</td>\n",
       "      <td>77</td>\n",
       "      <td>/train/905</td>\n",
       "    </tr>\n",
       "    <tr>\n",
       "      <th>395</th>\n",
       "      <td>We ’re all competitors , but there is a networ...</td>\n",
       "      <td>Ngoc Huynh</td>\n",
       "      <td>78</td>\n",
       "      <td>/train/905</td>\n",
       "    </tr>\n",
       "  </tbody>\n",
       "</table>\n",
       "<p>150 rows × 4 columns</p>\n",
       "</div>"
      ],
      "text/plain": [
       "                                                     0                    1  \\\n",
       "2    A plane carrying key senior Laotian government...    Laotian diplomats   \n",
       "10   The Lao news agency posted photos to a web sit...  The Lao news agency   \n",
       "11   The news agency , citing a statement from the ...  The Lao news agency   \n",
       "12   and it had crashed in Nadi village , west of t...  The Lao news agency   \n",
       "13   The authorities were “ helping to rescue the s...  The Lao news agency   \n",
       "..                                                 ...                  ...   \n",
       "386  I like to be optimistic and hope for the best ...           Ngoc Huynh   \n",
       "392  We ’re thinking about this together , ” Ms. Hu...           Ngoc Huynh   \n",
       "393                                                  “           Ngoc Huynh   \n",
       "394                         That ’s the beauty of it .           Ngoc Huynh   \n",
       "395  We ’re all competitors , but there is a networ...           Ngoc Huynh   \n",
       "\n",
       "      2           3  \n",
       "2     2  /train/902  \n",
       "10   10  /train/902  \n",
       "11   11  /train/902  \n",
       "12   12  /train/902  \n",
       "13   13  /train/902  \n",
       "..   ..         ...  \n",
       "386  69  /train/905  \n",
       "392  75  /train/905  \n",
       "393  76  /train/905  \n",
       "394  77  /train/905  \n",
       "395  78  /train/905  \n",
       "\n",
       "[150 rows x 4 columns]"
      ]
     },
     "execution_count": 24,
     "metadata": {},
     "output_type": "execute_result"
    }
   ],
   "source": [
    "(real_training_data\n",
    " .loc[lambda df: df[3].isin(processed_real_dataset_df['doc_idx'])]\n",
    " .loc[lambda df: df[1] != 'None']\n",
    ")"
   ]
  },
  {
   "cell_type": "code",
   "execution_count": null,
   "metadata": {},
   "outputs": [],
   "source": []
  },
  {
   "cell_type": "code",
   "execution_count": null,
   "metadata": {},
   "outputs": [],
   "source": []
  },
  {
   "cell_type": "code",
   "execution_count": null,
   "metadata": {},
   "outputs": [],
   "source": []
  },
  {
   "cell_type": "code",
   "execution_count": 16,
   "metadata": {},
   "outputs": [
    {
     "data": {
      "text/plain": [
       "'Foreign Ministry'"
      ]
     },
     "execution_count": 16,
     "metadata": {},
     "output_type": "execute_result"
    }
   ],
   "source": [
    "processed_real_dataset_df.loc[lambda df: df['label'] == True]['annotated_source'][0]"
   ]
  },
  {
   "cell_type": "code",
   "execution_count": 17,
   "metadata": {},
   "outputs": [
    {
     "data": {
      "text/plain": [
       "True     150\n",
       "False     25\n",
       "Name: label, dtype: int64"
      ]
     },
     "execution_count": 17,
     "metadata": {},
     "output_type": "execute_result"
    }
   ],
   "source": [
    "processed_real_dataset_df['label'].value_counts()"
   ]
  },
  {
   "cell_type": "code",
   "execution_count": 170,
   "metadata": {
    "scrolled": true
   },
   "outputs": [],
   "source": [
    "# processed_real_dataset_df.to_pickle('cache/2022-10-06__pickled-dataset.pkl')"
   ]
  },
  {
   "cell_type": "code",
   "execution_count": 153,
   "metadata": {},
   "outputs": [
    {
     "data": {
      "text/html": [
       "<div>\n",
       "<style scoped>\n",
       "    .dataframe tbody tr th:only-of-type {\n",
       "        vertical-align: middle;\n",
       "    }\n",
       "\n",
       "    .dataframe tbody tr th {\n",
       "        vertical-align: top;\n",
       "    }\n",
       "\n",
       "    .dataframe thead th {\n",
       "        text-align: right;\n",
       "    }\n",
       "</style>\n",
       "<table border=\"1\" class=\"dataframe\">\n",
       "  <thead>\n",
       "    <tr style=\"text-align: right;\">\n",
       "      <th></th>\n",
       "      <th>source_name</th>\n",
       "      <th>candidate_source</th>\n",
       "    </tr>\n",
       "  </thead>\n",
       "  <tbody>\n",
       "    <tr>\n",
       "      <th>1</th>\n",
       "      <td>sek wannamethee</td>\n",
       "      <td>sek wannamethee</td>\n",
       "    </tr>\n",
       "    <tr>\n",
       "      <th>3</th>\n",
       "      <td>state television</td>\n",
       "      <td>state television</td>\n",
       "    </tr>\n",
       "    <tr>\n",
       "      <th>6</th>\n",
       "      <td>lao news agency</td>\n",
       "      <td>lao news agency</td>\n",
       "    </tr>\n",
       "    <tr>\n",
       "      <th>9</th>\n",
       "      <td>state television</td>\n",
       "      <td>state television</td>\n",
       "    </tr>\n",
       "    <tr>\n",
       "      <th>11</th>\n",
       "      <td>state television</td>\n",
       "      <td>state television</td>\n",
       "    </tr>\n",
       "    <tr>\n",
       "      <th>...</th>\n",
       "      <td>...</td>\n",
       "      <td>...</td>\n",
       "    </tr>\n",
       "    <tr>\n",
       "      <th>29891</th>\n",
       "      <td>the wall street journal</td>\n",
       "      <td>the wall street journal</td>\n",
       "    </tr>\n",
       "    <tr>\n",
       "      <th>29898</th>\n",
       "      <td>theranos</td>\n",
       "      <td>theranos</td>\n",
       "    </tr>\n",
       "    <tr>\n",
       "      <th>29901</th>\n",
       "      <td>elizabeth holmes</td>\n",
       "      <td>elizabeth holmes</td>\n",
       "    </tr>\n",
       "    <tr>\n",
       "      <th>29902</th>\n",
       "      <td>elizabeth holmes</td>\n",
       "      <td>elizabeth holmes</td>\n",
       "    </tr>\n",
       "    <tr>\n",
       "      <th>29904</th>\n",
       "      <td>the food and drug administration</td>\n",
       "      <td>the food and drug administration</td>\n",
       "    </tr>\n",
       "  </tbody>\n",
       "</table>\n",
       "<p>6967 rows × 2 columns</p>\n",
       "</div>"
      ],
      "text/plain": [
       "                            source_name                  candidate_source\n",
       "1                       sek wannamethee                   sek wannamethee\n",
       "3                      state television                  state television\n",
       "6                       lao news agency                   lao news agency\n",
       "9                      state television                  state television\n",
       "11                     state television                  state television\n",
       "...                                 ...                               ...\n",
       "29891           the wall street journal           the wall street journal\n",
       "29898                          theranos                          theranos\n",
       "29901                  elizabeth holmes                  elizabeth holmes\n",
       "29902                  elizabeth holmes                  elizabeth holmes\n",
       "29904  the food and drug administration  the food and drug administration\n",
       "\n",
       "[6967 rows x 2 columns]"
      ]
     },
     "execution_count": 153,
     "metadata": {},
     "output_type": "execute_result"
    }
   ],
   "source": [
    "(processed_real_dataset_df\n",
    " .loc[lambda df: df['label'] == True]\n",
    " .loc[lambda df: df['candidate_source'] != 'None']\n",
    " [['source_name', 'candidate_source']]\n",
    " .apply(lambda s: s.str.lower().str.strip())\n",
    "#  .pipe(lambda df: df['source_name'] == df['candidate_source'])\n",
    "#  .value_counts()\n",
    ")"
   ]
  },
  {
   "cell_type": "code",
   "execution_count": 159,
   "metadata": {},
   "outputs": [
    {
     "data": {
      "text/plain": [
       "(14953, 12)"
      ]
     },
     "execution_count": 159,
     "metadata": {},
     "output_type": "execute_result"
    }
   ],
   "source": [
    "(processed_real_dataset_df.loc[lambda df: df['label'] == True].shape)"
   ]
  },
  {
   "cell_type": "code",
   "execution_count": 157,
   "metadata": {},
   "outputs": [
    {
     "data": {
      "text/plain": [
       "(15793, 4)"
      ]
     },
     "execution_count": 157,
     "metadata": {},
     "output_type": "execute_result"
    }
   ],
   "source": [
    "(real_training_data.shape)"
   ]
  },
  {
   "cell_type": "code",
   "execution_count": 162,
   "metadata": {},
   "outputs": [
    {
     "data": {
      "text/plain": [
       "(6967, 12)"
      ]
     },
     "execution_count": 162,
     "metadata": {},
     "output_type": "execute_result"
    }
   ],
   "source": [
    "(processed_real_dataset_df\n",
    " .loc[lambda df: df['label'] == True]\n",
    " .loc[lambda df: df['candidate_source'] != 'None']\n",
    " .shape \n",
    ")"
   ]
  },
  {
   "cell_type": "code",
   "execution_count": 155,
   "metadata": {},
   "outputs": [
    {
     "data": {
      "text/plain": [
       "(7342, 4)"
      ]
     },
     "execution_count": 155,
     "metadata": {},
     "output_type": "execute_result"
    }
   ],
   "source": [
    "(real_training_data\n",
    " .loc[lambda df: df[1] != 'None']\n",
    ").shape "
   ]
  },
  {
   "cell_type": "code",
   "execution_count": 140,
   "metadata": {},
   "outputs": [
    {
     "data": {
      "text/plain": [
       "1                          3         \n",
       "\\tBambang Soelistyo        /test/776     2\n",
       "\\tCard industry bloggers   /train/186    1\n",
       "\\tEnvironmental officials  /test/172     1\n",
       "\\tFire investigators       /train/153    2\n",
       "\\tNate Silver              /train/937    2\n",
       "                                        ..\n",
       "workers                    /train/830    1\n",
       "Ángel Luis Torres          /train/5      3\n",
       "Édouard Philippe           /test/789     1\n",
       "“ Today ” show             /test/549     8\n",
       "” Ed Gonzalez              /train/715    1\n",
       "Name: c, Length: 2611, dtype: int64"
      ]
     },
     "execution_count": 140,
     "metadata": {},
     "output_type": "execute_result"
    }
   ],
   "source": [
    "(real_training_data\n",
    " .loc[lambda df: df[1] != 'None']\n",
    " .assign(c=1).groupby([1,3])\n",
    " ['c']\n",
    " .sum()\n",
    ")"
   ]
  },
  {
   "cell_type": "code",
   "execution_count": null,
   "metadata": {},
   "outputs": [],
   "source": []
  },
  {
   "cell_type": "code",
   "execution_count": null,
   "metadata": {},
   "outputs": [],
   "source": []
  },
  {
   "cell_type": "code",
   "execution_count": null,
   "metadata": {},
   "outputs": [],
   "source": []
  },
  {
   "cell_type": "code",
   "execution_count": null,
   "metadata": {},
   "outputs": [],
   "source": []
  },
  {
   "cell_type": "code",
   "execution_count": null,
   "metadata": {},
   "outputs": [],
   "source": []
  },
  {
   "cell_type": "code",
   "execution_count": null,
   "metadata": {},
   "outputs": [],
   "source": []
  },
  {
   "cell_type": "code",
   "execution_count": null,
   "metadata": {},
   "outputs": [],
   "source": []
  }
 ],
 "metadata": {
  "hide_input": false,
  "kernelspec": {
   "display_name": "Python 3",
   "language": "python",
   "name": "python3"
  },
  "language_info": {
   "codemirror_mode": {
    "name": "ipython",
    "version": 3
   },
   "file_extension": ".py",
   "mimetype": "text/x-python",
   "name": "python",
   "nbconvert_exporter": "python",
   "pygments_lexer": "ipython3",
   "version": "3.7.6"
  }
 },
 "nbformat": 4,
 "nbformat_minor": 4
}
