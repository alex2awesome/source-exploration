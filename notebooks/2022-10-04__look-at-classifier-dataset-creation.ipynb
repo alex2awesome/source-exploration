{
 "cells": [
  {
   "cell_type": "code",
   "execution_count": 5,
   "metadata": {},
   "outputs": [
    {
     "name": "stdout",
     "output_type": "stream",
     "text": [
      "__init__.py                          train.py\r\n",
      "\u001b[34m__pycache__\u001b[m\u001b[m/                         utils_data_processing_helpers.py\r\n",
      "classification_models.py             utils_dataset.py\r\n",
      "config-sentence-classification.json  utils_lightning.py\r\n",
      "\u001b[34mdata\u001b[m\u001b[m/                                utils_model_loader.py\r\n",
      "eval.py                              utils_params.py\r\n",
      "language_models.py                   utils_parser.py\r\n",
      "\u001b[34mscripts\u001b[m\u001b[m/\r\n"
     ]
    }
   ],
   "source": [
    "ls ../models_neural/quote_attribution/"
   ]
  },
  {
   "cell_type": "code",
   "execution_count": 6,
   "metadata": {},
   "outputs": [],
   "source": [
    "import pandas as pd "
   ]
  },
  {
   "cell_type": "code",
   "execution_count": 10,
   "metadata": {},
   "outputs": [],
   "source": [
    "real_training_data = pd.read_csv('../models_neural/quote_attribution/data/our-annotated-data__stage-2.tsv', sep='\\t', header=None)"
   ]
  },
  {
   "cell_type": "code",
   "execution_count": 26,
   "metadata": {},
   "outputs": [
    {
     "data": {
      "text/plain": [
       "train    251\n",
       "test      84\n",
       "Name: 3, dtype: int64"
      ]
     },
     "execution_count": 26,
     "metadata": {},
     "output_type": "execute_result"
    }
   ],
   "source": [
    "real_training_data[3].drop_duplicates().str.split('/').str.get(1).value_counts()"
   ]
  },
  {
   "cell_type": "code",
   "execution_count": 36,
   "metadata": {},
   "outputs": [
    {
     "data": {
      "text/plain": [
       "None      8451\n",
       "Source    7342\n",
       "Name: 1, dtype: int64"
      ]
     },
     "execution_count": 36,
     "metadata": {},
     "output_type": "execute_result"
    }
   ],
   "source": [
    "real_training_data[1].apply(lambda x: 'None' if x == 'None' else 'Source').value_counts()"
   ]
  },
  {
   "cell_type": "code",
   "execution_count": 18,
   "metadata": {},
   "outputs": [],
   "source": [
    "# make fake data"
   ]
  },
  {
   "cell_type": "code",
   "execution_count": 54,
   "metadata": {},
   "outputs": [],
   "source": [
    "from random import random, randint, choice"
   ]
  },
  {
   "cell_type": "code",
   "execution_count": 28,
   "metadata": {},
   "outputs": [],
   "source": [
    "num_train_docs = 251\n",
    "num_test_docs = 84"
   ]
  },
  {
   "cell_type": "code",
   "execution_count": 69,
   "metadata": {},
   "outputs": [],
   "source": [
    "sources = ['A', 'B', 'C', 'D', 'E']\n",
    "source_sentences = [\n",
    "    'He doesn’t teach math.',\n",
    "    'You don’t have children.',\n",
    "    'Does he play tennis?',\n",
    "    'The train leaves every morning at 18 AM.',\n",
    "    'Water freezes at 0°C',\n",
    "    'I love my new pets.',\n",
    "    'She doesn’t use a computer.',\n",
    "    'It snows a lot in winter in Russia.',\n",
    "    'We live in Texas.',\n",
    "    'You go to holiday every summer.',\n",
    "    'Do you like spaghetti?',\n",
    "    'My daughter does the laundry.',\n",
    "    'The train does not leave at 12 AM.',\n",
    "    'I have no money at the moment.',\n",
    "    'Do they talk a lot?',\n",
    "    'Tomorrow early morning first I go to morning walk.',\n",
    "    'We drink coffee every morning.',\n",
    "    'I and my sister don’t see each other anymore.',\n",
    "    'They don’t go to school tomorrow.',\n",
    "    'Every child likes an ice cream.',\n",
    "]\n",
    "\n",
    "background_sentences = [\n",
    "    'They have been known to say that.',\n",
    "    'The path forward is unclear.',\n",
    "    'This occurred as the opposite was being discussed.',\n",
    "    'No known follow up occurred.',\n",
    "    'For all of history, this has been said.',\n",
    "    'The reasons were not apparent.',\n",
    "    'Updates will follow.',\n",
    "    'Research has shown the opposite.',\n",
    "    'Daily modes are hard to establish.',\n",
    "    'All sources declined comment',\n",
    "]\n",
    "\n",
    "\n",
    "\n",
    "\n",
    "output_docs = []\n",
    "for i in range(num_train_docs + num_test_docs):\n",
    "    doc_idx = ('/train/%s' if i < num_train_docs else '/test/%s') % i \n",
    "    num_sents = randint(20, 80)\n",
    "    output_doc = []\n",
    "    for s in range(num_sents):\n",
    "        has_source = random() > .5\n",
    "        if has_source:\n",
    "            source = choice(sources)\n",
    "            sent = choice(source_sentences)\n",
    "            sent = '\"%s\" said %s' % (sent, source)\n",
    "        else:\n",
    "            source = 'None'\n",
    "            sent = choice(background_sentences)\n",
    "\n",
    "        output_docs.append([sent, source, s, doc_idx])"
   ]
  },
  {
   "cell_type": "code",
   "execution_count": 71,
   "metadata": {},
   "outputs": [
    {
     "name": "stdout",
     "output_type": "stream",
     "text": [
      "our-annotated-data__stage-2.tsv\r\n"
     ]
    }
   ],
   "source": [
    "ls ../models_neural/quote_attribution/data"
   ]
  },
  {
   "cell_type": "code",
   "execution_count": 77,
   "metadata": {},
   "outputs": [],
   "source": [
    "pd.DataFrame(output_docs).to_csv(\n",
    "    '../models_neural/quote_attribution/data/quote-attribution-classification__sanity-check-data.tsv', \n",
    "    sep='\\t', header=None, index=False\n",
    ")"
   ]
  },
  {
   "cell_type": "code",
   "execution_count": null,
   "metadata": {},
   "outputs": [],
   "source": []
  }
 ],
 "metadata": {
  "hide_input": false,
  "kernelspec": {
   "display_name": "Python 3",
   "language": "python",
   "name": "python3"
  },
  "language_info": {
   "codemirror_mode": {
    "name": "ipython",
    "version": 3
   },
   "file_extension": ".py",
   "mimetype": "text/x-python",
   "name": "python",
   "nbconvert_exporter": "python",
   "pygments_lexer": "ipython3",
   "version": "3.7.6"
  }
 },
 "nbformat": 4,
 "nbformat_minor": 4
}
