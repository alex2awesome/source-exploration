{
 "cells": [
  {
   "cell_type": "code",
   "execution_count": 2,
   "metadata": {},
   "outputs": [],
   "source": [
    "import pickle\n",
    "import pandas as pd \n",
    "from tensorboard_reducer import load_tb_events, reduce_events, write_csv, write_tb_events\n",
    "import yaml\n",
    "import glob\n",
    "\n",
    "def get_events(version_num, path_to_ver):\n",
    "    if isinstance(version_num, (str, int)):\n",
    "        version_num = [version_num]    \n",
    "    events_files = []\n",
    "    for v in version_num:\n",
    "        events_file = path_to_ver + '/version_%s' % v\n",
    "        events_files.append(events_file)\n",
    "    events = load_tb_events(events_files, handle_dup_steps='keep-last')\n",
    "    return events"
   ]
  },
  {
   "cell_type": "code",
   "execution_count": 3,
   "metadata": {},
   "outputs": [],
   "source": [
    "file_output = '../models_neural/quote_attribution/model_output/version_10/events.out.tfevents.1665116328.compute-2dgtl-1665115287.1.0'\n",
    "# path_to_output = '../models_neural/quote_attribution/model_output'\n",
    "# events_file = '../models_neural/quote_attribution/model_output/test/default/version_1/events.out.tfevents.1665523753.C02CJKQ2MD6M.57385.0'\n",
    "file_output = 'cache/events.out.tfevents.1669778011.compute-wdn9f-1669777287.1.0'"
   ]
  },
  {
   "cell_type": "code",
   "execution_count": 10,
   "metadata": {},
   "outputs": [],
   "source": [
    "import tensorflow as tf\n",
    "import tensorflow.compat.v1 as tf\n",
    "from tbparse import SummaryReader\n",
    "reader = SummaryReader(file_output)"
   ]
  },
  {
   "cell_type": "code",
   "execution_count": 11,
   "metadata": {},
   "outputs": [
    {
     "data": {
      "text/plain": [
       "'Stage 2: Quote Attribution with PolNear data. No downsampling.'"
      ]
     },
     "execution_count": 11,
     "metadata": {},
     "output_type": "execute_result"
    }
   ],
   "source": [
    "(reader\n",
    " .hparams\n",
    " .loc[lambda df: df['tag'] == 'notes']['value'].iloc[0]\n",
    ")"
   ]
  },
  {
   "cell_type": "code",
   "execution_count": 6,
   "metadata": {},
   "outputs": [
    {
     "data": {
      "text/plain": [
       "0          Training Accuracy\n",
       "10             Training Loss\n",
       "5439          Training SeqF1\n",
       "5449     Validation Accuracy\n",
       "5459        Validation SeqF1\n",
       "5469         Validation loss\n",
       "5479                   epoch\n",
       "10928              hp_metric\n",
       "Name: tag, dtype: object"
      ]
     },
     "execution_count": 6,
     "metadata": {},
     "output_type": "execute_result"
    }
   ],
   "source": [
    "reader.scalars['tag'].drop_duplicates()"
   ]
  },
  {
   "cell_type": "code",
   "execution_count": 9,
   "metadata": {},
   "outputs": [
    {
     "data": {
      "text/html": [
       "<div>\n",
       "<style scoped>\n",
       "    .dataframe tbody tr th:only-of-type {\n",
       "        vertical-align: middle;\n",
       "    }\n",
       "\n",
       "    .dataframe tbody tr th {\n",
       "        vertical-align: top;\n",
       "    }\n",
       "\n",
       "    .dataframe thead th {\n",
       "        text-align: right;\n",
       "    }\n",
       "</style>\n",
       "<table border=\"1\" class=\"dataframe\">\n",
       "  <thead>\n",
       "    <tr style=\"text-align: right;\">\n",
       "      <th></th>\n",
       "      <th>step</th>\n",
       "      <th>tag</th>\n",
       "      <th>value</th>\n",
       "    </tr>\n",
       "  </thead>\n",
       "  <tbody>\n",
       "    <tr>\n",
       "      <th>0</th>\n",
       "      <td>27148</td>\n",
       "      <td>Training Accuracy</td>\n",
       "      <td>0.146819</td>\n",
       "    </tr>\n",
       "    <tr>\n",
       "      <th>1</th>\n",
       "      <td>54297</td>\n",
       "      <td>Training Accuracy</td>\n",
       "      <td>0.208921</td>\n",
       "    </tr>\n",
       "    <tr>\n",
       "      <th>2</th>\n",
       "      <td>81446</td>\n",
       "      <td>Training Accuracy</td>\n",
       "      <td>0.239309</td>\n",
       "    </tr>\n",
       "    <tr>\n",
       "      <th>3</th>\n",
       "      <td>108595</td>\n",
       "      <td>Training Accuracy</td>\n",
       "      <td>0.263177</td>\n",
       "    </tr>\n",
       "    <tr>\n",
       "      <th>4</th>\n",
       "      <td>135744</td>\n",
       "      <td>Training Accuracy</td>\n",
       "      <td>0.282847</td>\n",
       "    </tr>\n",
       "    <tr>\n",
       "      <th>5</th>\n",
       "      <td>162893</td>\n",
       "      <td>Training Accuracy</td>\n",
       "      <td>0.304247</td>\n",
       "    </tr>\n",
       "    <tr>\n",
       "      <th>6</th>\n",
       "      <td>190042</td>\n",
       "      <td>Training Accuracy</td>\n",
       "      <td>0.324800</td>\n",
       "    </tr>\n",
       "    <tr>\n",
       "      <th>7</th>\n",
       "      <td>217191</td>\n",
       "      <td>Training Accuracy</td>\n",
       "      <td>0.339276</td>\n",
       "    </tr>\n",
       "    <tr>\n",
       "      <th>8</th>\n",
       "      <td>244340</td>\n",
       "      <td>Training Accuracy</td>\n",
       "      <td>0.356072</td>\n",
       "    </tr>\n",
       "    <tr>\n",
       "      <th>9</th>\n",
       "      <td>271489</td>\n",
       "      <td>Training Accuracy</td>\n",
       "      <td>0.369885</td>\n",
       "    </tr>\n",
       "  </tbody>\n",
       "</table>\n",
       "</div>"
      ],
      "text/plain": [
       "     step                tag     value\n",
       "0   27148  Training Accuracy  0.146819\n",
       "1   54297  Training Accuracy  0.208921\n",
       "2   81446  Training Accuracy  0.239309\n",
       "3  108595  Training Accuracy  0.263177\n",
       "4  135744  Training Accuracy  0.282847\n",
       "5  162893  Training Accuracy  0.304247\n",
       "6  190042  Training Accuracy  0.324800\n",
       "7  217191  Training Accuracy  0.339276\n",
       "8  244340  Training Accuracy  0.356072\n",
       "9  271489  Training Accuracy  0.369885"
      ]
     },
     "execution_count": 9,
     "metadata": {},
     "output_type": "execute_result"
    }
   ],
   "source": [
    "reader.scalars.loc[lambda df: df['tag'] == 'Training Accuracy']"
   ]
  },
  {
   "cell_type": "code",
   "execution_count": 56,
   "metadata": {},
   "outputs": [
    {
     "data": {
      "text/html": [
       "<div>\n",
       "<style scoped>\n",
       "    .dataframe tbody tr th:only-of-type {\n",
       "        vertical-align: middle;\n",
       "    }\n",
       "\n",
       "    .dataframe tbody tr th {\n",
       "        vertical-align: top;\n",
       "    }\n",
       "\n",
       "    .dataframe thead th {\n",
       "        text-align: right;\n",
       "    }\n",
       "</style>\n",
       "<table border=\"1\" class=\"dataframe\">\n",
       "  <thead>\n",
       "    <tr style=\"text-align: right;\">\n",
       "      <th></th>\n",
       "      <th>step</th>\n",
       "      <th>tag</th>\n",
       "      <th>value</th>\n",
       "    </tr>\n",
       "  </thead>\n",
       "  <tbody>\n",
       "    <tr>\n",
       "      <th>2657</th>\n",
       "      <td>13236</td>\n",
       "      <td>Validation f1 score</td>\n",
       "      <td>0.414414</td>\n",
       "    </tr>\n",
       "    <tr>\n",
       "      <th>2658</th>\n",
       "      <td>26473</td>\n",
       "      <td>Validation f1 score</td>\n",
       "      <td>0.414414</td>\n",
       "    </tr>\n",
       "    <tr>\n",
       "      <th>2659</th>\n",
       "      <td>39710</td>\n",
       "      <td>Validation f1 score</td>\n",
       "      <td>0.414414</td>\n",
       "    </tr>\n",
       "    <tr>\n",
       "      <th>2660</th>\n",
       "      <td>52947</td>\n",
       "      <td>Validation f1 score</td>\n",
       "      <td>0.414414</td>\n",
       "    </tr>\n",
       "    <tr>\n",
       "      <th>2661</th>\n",
       "      <td>66184</td>\n",
       "      <td>Validation f1 score</td>\n",
       "      <td>0.700997</td>\n",
       "    </tr>\n",
       "    <tr>\n",
       "      <th>2662</th>\n",
       "      <td>79421</td>\n",
       "      <td>Validation f1 score</td>\n",
       "      <td>0.738318</td>\n",
       "    </tr>\n",
       "    <tr>\n",
       "      <th>2663</th>\n",
       "      <td>92658</td>\n",
       "      <td>Validation f1 score</td>\n",
       "      <td>0.731013</td>\n",
       "    </tr>\n",
       "    <tr>\n",
       "      <th>2664</th>\n",
       "      <td>105895</td>\n",
       "      <td>Validation f1 score</td>\n",
       "      <td>0.713128</td>\n",
       "    </tr>\n",
       "    <tr>\n",
       "      <th>2665</th>\n",
       "      <td>119132</td>\n",
       "      <td>Validation f1 score</td>\n",
       "      <td>0.694491</td>\n",
       "    </tr>\n",
       "    <tr>\n",
       "      <th>2666</th>\n",
       "      <td>132369</td>\n",
       "      <td>Validation f1 score</td>\n",
       "      <td>0.721154</td>\n",
       "    </tr>\n",
       "  </tbody>\n",
       "</table>\n",
       "</div>"
      ],
      "text/plain": [
       "        step                  tag     value\n",
       "2657   13236  Validation f1 score  0.414414\n",
       "2658   26473  Validation f1 score  0.414414\n",
       "2659   39710  Validation f1 score  0.414414\n",
       "2660   52947  Validation f1 score  0.414414\n",
       "2661   66184  Validation f1 score  0.700997\n",
       "2662   79421  Validation f1 score  0.738318\n",
       "2663   92658  Validation f1 score  0.731013\n",
       "2664  105895  Validation f1 score  0.713128\n",
       "2665  119132  Validation f1 score  0.694491\n",
       "2666  132369  Validation f1 score  0.721154"
      ]
     },
     "execution_count": 56,
     "metadata": {},
     "output_type": "execute_result"
    }
   ],
   "source": [
    "reader.scalars.loc[lambda df: df['tag'] == 'Validation f1 score']"
   ]
  },
  {
   "cell_type": "code",
   "execution_count": null,
   "metadata": {},
   "outputs": [],
   "source": []
  },
  {
   "cell_type": "code",
   "execution_count": null,
   "metadata": {},
   "outputs": [],
   "source": []
  },
  {
   "cell_type": "code",
   "execution_count": null,
   "metadata": {},
   "outputs": [],
   "source": []
  },
  {
   "cell_type": "code",
   "execution_count": null,
   "metadata": {},
   "outputs": [],
   "source": []
  },
  {
   "cell_type": "code",
   "execution_count": null,
   "metadata": {},
   "outputs": [],
   "source": []
  },
  {
   "cell_type": "code",
   "execution_count": null,
   "metadata": {},
   "outputs": [],
   "source": []
  }
 ],
 "metadata": {
  "hide_input": false,
  "kernelspec": {
   "display_name": "Python 3",
   "language": "python",
   "name": "python3"
  },
  "language_info": {
   "codemirror_mode": {
    "name": "ipython",
    "version": 3
   },
   "file_extension": ".py",
   "mimetype": "text/x-python",
   "name": "python",
   "nbconvert_exporter": "python",
   "pygments_lexer": "ipython3",
   "version": "3.7.6"
  }
 },
 "nbformat": 4,
 "nbformat_minor": 4
}
