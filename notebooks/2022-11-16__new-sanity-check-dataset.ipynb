{
 "cells": [
  {
   "cell_type": "code",
   "execution_count": 54,
   "id": "28ce76df",
   "metadata": {},
   "outputs": [],
   "source": [
    "from torchmetrics import Accuracy\n",
    "import torch\n",
    "import pandas as pd\n",
    "import numpy as np"
   ]
  },
  {
   "cell_type": "code",
   "execution_count": 34,
   "id": "557a6451",
   "metadata": {},
   "outputs": [],
   "source": [
    "sanity_check = pd.read_csv(\n",
    "    '../models_neural/quote_attribution/data/quote-attribution-classification__easier-sanity-check-data.tsv',\n",
    "    sep='\\t', header=None\n",
    ")"
   ]
  },
  {
   "cell_type": "code",
   "execution_count": 48,
   "id": "f48a6915",
   "metadata": {},
   "outputs": [],
   "source": [
    "unique_lines = list(sanity_check[0].unique())\n",
    "possible_sentences = list(map(lambda x: x[:-1] if x[-1] == '.' else x, unique_lines))"
   ]
  },
  {
   "cell_type": "code",
   "execution_count": 53,
   "id": "bbf55d10",
   "metadata": {},
   "outputs": [],
   "source": [
    "dataset = np.random.choice(possible_sentences, 100_000)"
   ]
  },
  {
   "cell_type": "code",
   "execution_count": 57,
   "id": "5dc471b1",
   "metadata": {},
   "outputs": [],
   "source": [
    "dataset_df = pd.Series(dataset).to_frame('X')\n",
    "dataset_df = dataset_df.assign(y=lambda df: np.random.choice([0, 1], len(df)))\n",
    "dataset_df = dataset_df.assign(X=lambda df: df.apply(lambda x: x['X'] + ('.' if x['y'] == 0 else '!!!'), axis=1))"
   ]
  },
  {
   "cell_type": "code",
   "execution_count": 74,
   "id": "2ef6f48f",
   "metadata": {},
   "outputs": [],
   "source": [
    "dataset_df.to_csv(\n",
    "    '../models_neural/quote_attribution/data/quote-attribution-classification__easiest-sanity-check-data.tsv',\n",
    "    sep='\\t',\n",
    "    header=None,\n",
    "    index=None,\n",
    ")"
   ]
  },
  {
   "cell_type": "code",
   "execution_count": null,
   "id": "d0698829",
   "metadata": {},
   "outputs": [],
   "source": []
  },
  {
   "cell_type": "code",
   "execution_count": null,
   "id": "cb27169e",
   "metadata": {},
   "outputs": [],
   "source": []
  },
  {
   "cell_type": "code",
   "execution_count": null,
   "id": "80780075",
   "metadata": {},
   "outputs": [],
   "source": []
  },
  {
   "cell_type": "code",
   "execution_count": null,
   "id": "19d61a65",
   "metadata": {},
   "outputs": [],
   "source": []
  },
  {
   "cell_type": "code",
   "execution_count": null,
   "id": "63b541f8",
   "metadata": {},
   "outputs": [],
   "source": []
  }
 ],
 "metadata": {
  "hide_input": false,
  "kernelspec": {
   "display_name": "Python 3",
   "language": "python",
   "name": "python3"
  },
  "language_info": {
   "codemirror_mode": {
    "name": "ipython",
    "version": 3
   },
   "file_extension": ".py",
   "mimetype": "text/x-python",
   "name": "python",
   "nbconvert_exporter": "python",
   "pygments_lexer": "ipython3",
   "version": "3.7.6"
  }
 },
 "nbformat": 4,
 "nbformat_minor": 5
}
