{
 "cells": [
  {
   "cell_type": "code",
   "execution_count": 156,
   "id": "5132dc85",
   "metadata": {},
   "outputs": [],
   "source": [
    "import pandas as pd\n",
    "import jsonlines"
   ]
  },
  {
   "cell_type": "code",
   "execution_count": 157,
   "id": "d771623d",
   "metadata": {},
   "outputs": [],
   "source": [
    "annotated_data = list(jsonlines.open('../tasks/data_split_annotated_sources.jsonl'))\n",
    "annotated_data = list(map(lambda x: x['data'], annotated_data))"
   ]
  },
  {
   "cell_type": "code",
   "execution_count": 158,
   "id": "26dcc3f4",
   "metadata": {},
   "outputs": [],
   "source": [
    "annot_data_dfs = list(map(pd.DataFrame, annotated_data))"
   ]
  },
  {
   "cell_type": "code",
   "execution_count": 159,
   "id": "f35ccf55",
   "metadata": {},
   "outputs": [],
   "source": [
    "unique_quote_types_percs = list(map(lambda x: (x[0], x[1]['quote_type'].unique().shape[0] / x[1].shape[0],  ), enumerate(annot_data_dfs)))"
   ]
  },
  {
   "cell_type": "code",
   "execution_count": 160,
   "id": "4511c02b",
   "metadata": {},
   "outputs": [
    {
     "data": {
      "text/plain": [
       "[(492, 0.8),\n",
       " (87, 0.6666666666666666),\n",
       " (421, 0.6666666666666666),\n",
       " (577, 0.5555555555555556),\n",
       " (325, 0.5),\n",
       " (364, 0.5),\n",
       " (465, 0.5),\n",
       " (374, 0.47058823529411764),\n",
       " (70, 0.46153846153846156),\n",
       " (513, 0.46153846153846156),\n",
       " (540, 0.4375),\n",
       " (572, 0.42857142857142855),\n",
       " (391, 0.4166666666666667),\n",
       " (498, 0.4166666666666667),\n",
       " (548, 0.4166666666666667),\n",
       " (385, 0.4),\n",
       " (418, 0.4),\n",
       " (320, 0.375),\n",
       " (516, 0.375),\n",
       " (563, 0.36363636363636365),\n",
       " (596, 0.35714285714285715),\n",
       " (281, 0.35294117647058826),\n",
       " (459, 0.35294117647058826),\n",
       " (269, 0.35),\n",
       " (490, 0.3448275862068966),\n",
       " (54, 0.3333333333333333),\n",
       " (75, 0.3333333333333333),\n",
       " (142, 0.3333333333333333),\n",
       " (355, 0.3333333333333333),\n",
       " (409, 0.3333333333333333),\n",
       " (423, 0.3333333333333333),\n",
       " (496, 0.3333333333333333),\n",
       " (510, 0.3333333333333333),\n",
       " (553, 0.3333333333333333),\n",
       " (558, 0.32142857142857145),\n",
       " (549, 0.32),\n",
       " (241, 0.3157894736842105),\n",
       " (520, 0.3157894736842105),\n",
       " (413, 0.3125),\n",
       " (545, 0.3076923076923077),\n",
       " (559, 0.3076923076923077),\n",
       " (322, 0.3),\n",
       " (497, 0.3),\n",
       " (588, 0.3),\n",
       " (182, 0.29411764705882354),\n",
       " (192, 0.29411764705882354),\n",
       " (367, 0.29411764705882354),\n",
       " (530, 0.29411764705882354),\n",
       " (544, 0.29411764705882354),\n",
       " (173, 0.2857142857142857),\n",
       " (337, 0.2857142857142857),\n",
       " (349, 0.2857142857142857),\n",
       " (410, 0.2857142857142857),\n",
       " (438, 0.2857142857142857),\n",
       " (468, 0.2857142857142857),\n",
       " (578, 0.2857142857142857),\n",
       " (132, 0.28),\n",
       " (507, 0.28),\n",
       " (114, 0.2777777777777778),\n",
       " (317, 0.2777777777777778),\n",
       " (44, 0.2727272727272727),\n",
       " (266, 0.2727272727272727),\n",
       " (301, 0.2727272727272727),\n",
       " (327, 0.2727272727272727),\n",
       " (354, 0.2727272727272727),\n",
       " (425, 0.2727272727272727),\n",
       " (176, 0.2692307692307692),\n",
       " (213, 0.2692307692307692),\n",
       " (460, 0.2692307692307692),\n",
       " (396, 0.26666666666666666),\n",
       " (567, 0.26666666666666666),\n",
       " (346, 0.2647058823529412),\n",
       " (429, 0.2631578947368421),\n",
       " (479, 0.2631578947368421),\n",
       " (84, 0.25),\n",
       " (96, 0.25),\n",
       " (122, 0.25),\n",
       " (144, 0.25),\n",
       " (160, 0.25),\n",
       " (169, 0.25),\n",
       " (171, 0.25),\n",
       " (201, 0.25),\n",
       " (215, 0.25),\n",
       " (264, 0.25),\n",
       " (405, 0.25),\n",
       " (420, 0.25),\n",
       " (450, 0.25),\n",
       " (449, 0.24242424242424243),\n",
       " (568, 0.24242424242424243),\n",
       " (90, 0.2413793103448276),\n",
       " (416, 0.2413793103448276),\n",
       " (517, 0.2413793103448276),\n",
       " (587, 0.2413793103448276),\n",
       " (382, 0.24),\n",
       " (401, 0.24),\n",
       " (555, 0.24),\n",
       " (592, 0.24),\n",
       " (595, 0.24),\n",
       " (376, 0.23809523809523808),\n",
       " (112, 0.23529411764705882),\n",
       " (352, 0.23529411764705882),\n",
       " (581, 0.23529411764705882),\n",
       " (539, 0.23333333333333334),\n",
       " (339, 0.23076923076923078),\n",
       " (368, 0.23076923076923078),\n",
       " (474, 0.23076923076923078),\n",
       " (506, 0.23076923076923078),\n",
       " (511, 0.23076923076923078),\n",
       " (473, 0.22857142857142856),\n",
       " (124, 0.22727272727272727),\n",
       " (534, 0.22727272727272727),\n",
       " (573, 0.22727272727272727),\n",
       " (245, 0.2222222222222222),\n",
       " (309, 0.2222222222222222),\n",
       " (341, 0.2222222222222222),\n",
       " (454, 0.2222222222222222),\n",
       " (159, 0.21875),\n",
       " (236, 0.21739130434782608),\n",
       " (342, 0.21739130434782608),\n",
       " (445, 0.21739130434782608),\n",
       " (456, 0.21621621621621623),\n",
       " (599, 0.21621621621621623),\n",
       " (131, 0.21428571428571427),\n",
       " (164, 0.21428571428571427),\n",
       " (390, 0.21428571428571427),\n",
       " (393, 0.21428571428571427),\n",
       " (427, 0.21428571428571427),\n",
       " (443, 0.21428571428571427),\n",
       " (600, 0.21212121212121213),\n",
       " (36, 0.21052631578947367),\n",
       " (127, 0.21052631578947367),\n",
       " (283, 0.21052631578947367),\n",
       " (318, 0.21052631578947367),\n",
       " (524, 0.21052631578947367),\n",
       " (286, 0.20930232558139536),\n",
       " (221, 0.20689655172413793),\n",
       " (447, 0.20689655172413793),\n",
       " (464, 0.20689655172413793),\n",
       " (488, 0.20689655172413793),\n",
       " (537, 0.20689655172413793),\n",
       " (564, 0.20689655172413793),\n",
       " (514, 0.20588235294117646),\n",
       " (565, 0.20588235294117646),\n",
       " (508, 0.20512820512820512),\n",
       " (28, 0.2),\n",
       " (52, 0.2),\n",
       " (71, 0.2),\n",
       " (154, 0.2),\n",
       " (234, 0.2),\n",
       " (378, 0.2),\n",
       " (402, 0.2),\n",
       " (493, 0.2),\n",
       " (500, 0.2),\n",
       " (504, 0.2),\n",
       " (512, 0.2),\n",
       " (552, 0.2),\n",
       " (591, 0.2),\n",
       " (566, 0.19607843137254902),\n",
       " (435, 0.19444444444444445),\n",
       " (91, 0.1935483870967742),\n",
       " (150, 0.1935483870967742),\n",
       " (242, 0.1935483870967742),\n",
       " (198, 0.19230769230769232),\n",
       " (582, 0.19230769230769232),\n",
       " (23, 0.19148936170212766),\n",
       " (104, 0.19047619047619047),\n",
       " (161, 0.19047619047619047),\n",
       " (526, 0.19047619047619047),\n",
       " (88, 0.1891891891891892),\n",
       " (389, 0.18867924528301888),\n",
       " (27, 0.1875),\n",
       " (89, 0.1875),\n",
       " (138, 0.1875),\n",
       " (166, 0.1875),\n",
       " (260, 0.1875),\n",
       " (343, 0.1875),\n",
       " (356, 0.1875),\n",
       " (361, 0.1875),\n",
       " (471, 0.1875),\n",
       " (149, 0.1864406779661017),\n",
       " (287, 0.18518518518518517),\n",
       " (536, 0.18518518518518517),\n",
       " (323, 0.18421052631578946),\n",
       " (379, 0.18421052631578946),\n",
       " (434, 0.18421052631578946),\n",
       " (437, 0.18421052631578946),\n",
       " (78, 0.1836734693877551),\n",
       " (10, 0.18181818181818182),\n",
       " (69, 0.18181818181818182),\n",
       " (82, 0.18181818181818182),\n",
       " (185, 0.18181818181818182),\n",
       " (186, 0.18181818181818182),\n",
       " (211, 0.18181818181818182),\n",
       " (365, 0.18181818181818182),\n",
       " (394, 0.18181818181818182),\n",
       " (461, 0.18181818181818182),\n",
       " (484, 0.18181818181818182),\n",
       " (495, 0.18181818181818182),\n",
       " (518, 0.18181818181818182),\n",
       " (180, 0.1794871794871795),\n",
       " (422, 0.1794871794871795),\n",
       " (414, 0.17647058823529413),\n",
       " (597, 0.17647058823529413),\n",
       " (284, 0.17391304347826086),\n",
       " (310, 0.17391304347826086),\n",
       " (313, 0.17391304347826086),\n",
       " (415, 0.17391304347826086),\n",
       " (433, 0.17391304347826086),\n",
       " (452, 0.17391304347826086),\n",
       " (551, 0.17307692307692307),\n",
       " (21, 0.1724137931034483),\n",
       " (143, 0.1724137931034483),\n",
       " (366, 0.1724137931034483),\n",
       " (100, 0.17142857142857143),\n",
       " (111, 0.17142857142857143),\n",
       " (239, 0.17142857142857143),\n",
       " (406, 0.17142857142857143),\n",
       " (462, 0.17142857142857143),\n",
       " (521, 0.1702127659574468),\n",
       " (522, 0.16981132075471697),\n",
       " (6, 0.16666666666666666),\n",
       " (57, 0.16666666666666666),\n",
       " (190, 0.16666666666666666),\n",
       " (200, 0.16666666666666666),\n",
       " (249, 0.16666666666666666),\n",
       " (282, 0.16666666666666666),\n",
       " (328, 0.16666666666666666),\n",
       " (332, 0.16666666666666666),\n",
       " (442, 0.16666666666666666),\n",
       " (501, 0.16666666666666666),\n",
       " (546, 0.16666666666666666),\n",
       " (550, 0.16666666666666666),\n",
       " (557, 0.16666666666666666),\n",
       " (589, 0.16666666666666666),\n",
       " (197, 0.16417910447761194),\n",
       " (43, 0.16326530612244897),\n",
       " (399, 0.16326530612244897),\n",
       " (531, 0.16216216216216217),\n",
       " (373, 0.16176470588235295),\n",
       " (243, 0.16129032258064516),\n",
       " (494, 0.16129032258064516),\n",
       " (562, 0.16071428571428573),\n",
       " (81, 0.16),\n",
       " (300, 0.16),\n",
       " (381, 0.16),\n",
       " (439, 0.16),\n",
       " (554, 0.16),\n",
       " (265, 0.15789473684210525),\n",
       " (485, 0.15789473684210525),\n",
       " (541, 0.15789473684210525),\n",
       " (384, 0.1568627450980392),\n",
       " (33, 0.15625),\n",
       " (444, 0.15625),\n",
       " (34, 0.15384615384615385),\n",
       " (372, 0.15384615384615385),\n",
       " (455, 0.15384615384615385),\n",
       " (458, 0.15384615384615385),\n",
       " (560, 0.15384615384615385),\n",
       " (579, 0.15384615384615385),\n",
       " (392, 0.15217391304347827),\n",
       " (590, 0.15151515151515152),\n",
       " (279, 0.1506849315068493),\n",
       " (106, 0.15),\n",
       " (298, 0.15),\n",
       " (480, 0.15),\n",
       " (121, 0.14893617021276595),\n",
       " (487, 0.14893617021276595),\n",
       " (115, 0.14814814814814814),\n",
       " (371, 0.14814814814814814),\n",
       " (428, 0.14814814814814814),\n",
       " (593, 0.14814814814814814),\n",
       " (353, 0.14705882352941177),\n",
       " (417, 0.14705882352941177),\n",
       " (570, 0.14705882352941177),\n",
       " (3, 0.14285714285714285),\n",
       " (5, 0.14285714285714285),\n",
       " (17, 0.14285714285714285),\n",
       " (146, 0.14285714285714285),\n",
       " (155, 0.14285714285714285),\n",
       " (293, 0.14285714285714285),\n",
       " (314, 0.14285714285714285),\n",
       " (336, 0.14285714285714285),\n",
       " (440, 0.14285714285714285),\n",
       " (532, 0.14035087719298245),\n",
       " (304, 0.13953488372093023),\n",
       " (340, 0.13953488372093023),\n",
       " (543, 0.13953488372093023),\n",
       " (584, 0.13953488372093023),\n",
       " (133, 0.1388888888888889),\n",
       " (178, 0.1388888888888889),\n",
       " (388, 0.1388888888888889),\n",
       " (118, 0.13793103448275862),\n",
       " (277, 0.13793103448275862),\n",
       " (395, 0.13793103448275862),\n",
       " (347, 0.13725490196078433),\n",
       " (350, 0.13725490196078433),\n",
       " (45, 0.13636363636363635),\n",
       " (329, 0.13636363636363635),\n",
       " (436, 0.13636363636363635),\n",
       " (231, 0.13432835820895522),\n",
       " (26, 0.13333333333333333),\n",
       " (61, 0.13333333333333333),\n",
       " (98, 0.13333333333333333),\n",
       " (102, 0.13333333333333333),\n",
       " (204, 0.13333333333333333),\n",
       " (244, 0.13333333333333333),\n",
       " (262, 0.13333333333333333),\n",
       " (273, 0.13333333333333333),\n",
       " (316, 0.13333333333333333),\n",
       " (370, 0.13333333333333333),\n",
       " (375, 0.13333333333333333),\n",
       " (424, 0.13333333333333333),\n",
       " (475, 0.13333333333333333),\n",
       " (491, 0.13333333333333333),\n",
       " (209, 0.1323529411764706),\n",
       " (128, 0.13157894736842105),\n",
       " (248, 0.13157894736842105),\n",
       " (383, 0.13157894736842105),\n",
       " (483, 0.13157894736842105),\n",
       " (528, 0.13114754098360656),\n",
       " (225, 0.13043478260869565),\n",
       " (307, 0.13043478260869565),\n",
       " (441, 0.13043478260869565),\n",
       " (576, 0.13043478260869565),\n",
       " (583, 0.13043478260869565),\n",
       " (463, 0.12962962962962962),\n",
       " (324, 0.12903225806451613),\n",
       " (386, 0.12903225806451613),\n",
       " (412, 0.12903225806451613),\n",
       " (574, 0.12903225806451613),\n",
       " (165, 0.1282051282051282),\n",
       " (195, 0.1282051282051282),\n",
       " (99, 0.1276595744680851),\n",
       " (411, 0.1276595744680851),\n",
       " (585, 0.1276595744680851),\n",
       " (315, 0.12727272727272726),\n",
       " (151, 0.12698412698412698),\n",
       " (73, 0.125),\n",
       " (83, 0.125),\n",
       " (145, 0.125),\n",
       " (167, 0.125),\n",
       " (205, 0.125),\n",
       " (311, 0.125),\n",
       " (335, 0.125),\n",
       " (387, 0.125),\n",
       " (403, 0.125),\n",
       " (477, 0.125),\n",
       " (478, 0.125),\n",
       " (481, 0.125),\n",
       " (525, 0.125),\n",
       " (535, 0.125),\n",
       " (519, 0.12307692307692308),\n",
       " (267, 0.12280701754385964),\n",
       " (291, 0.12244897959183673),\n",
       " (509, 0.12244897959183673),\n",
       " (41, 0.12195121951219512),\n",
       " (206, 0.12195121951219512),\n",
       " (469, 0.12195121951219512),\n",
       " (9, 0.12121212121212122),\n",
       " (229, 0.12121212121212122),\n",
       " (432, 0.1206896551724138),\n",
       " (246, 0.12),\n",
       " (289, 0.12),\n",
       " (571, 0.12),\n",
       " (380, 0.11940298507462686),\n",
       " (72, 0.11904761904761904),\n",
       " (431, 0.11904761904761904),\n",
       " (47, 0.11764705882352941),\n",
       " (179, 0.11764705882352941),\n",
       " (189, 0.11764705882352941),\n",
       " (303, 0.11764705882352941),\n",
       " (451, 0.11764705882352941),\n",
       " (499, 0.11764705882352941),\n",
       " (31, 0.11666666666666667),\n",
       " (67, 0.11666666666666667),\n",
       " (0, 0.11538461538461539),\n",
       " (377, 0.11538461538461539),\n",
       " (542, 0.11538461538461539),\n",
       " (547, 0.11538461538461539),\n",
       " (586, 0.11538461538461539),\n",
       " (162, 0.11428571428571428),\n",
       " (476, 0.11428571428571428),\n",
       " (60, 0.11363636363636363),\n",
       " (503, 0.11363636363636363),\n",
       " (65, 0.1111111111111111),\n",
       " (119, 0.1111111111111111),\n",
       " (158, 0.1111111111111111),\n",
       " (172, 0.1111111111111111),\n",
       " (529, 0.1111111111111111),\n",
       " (448, 0.1095890410958904),\n",
       " (30, 0.109375),\n",
       " (74, 0.109375),\n",
       " (187, 0.109375),\n",
       " (191, 0.109375),\n",
       " (196, 0.109375),\n",
       " (515, 0.109375),\n",
       " (404, 0.10909090909090909),\n",
       " (7, 0.10869565217391304),\n",
       " (14, 0.10714285714285714),\n",
       " (181, 0.10714285714285714),\n",
       " (103, 0.10638297872340426),\n",
       " (218, 0.10638297872340426),\n",
       " (486, 0.10638297872340426),\n",
       " (230, 0.10606060606060606),\n",
       " (50, 0.10526315789473684),\n",
       " (232, 0.10526315789473684),\n",
       " (305, 0.10526315789473684),\n",
       " (360, 0.10526315789473684),\n",
       " (288, 0.1044776119402985),\n",
       " (556, 0.1044776119402985),\n",
       " (135, 0.10416666666666667),\n",
       " (39, 0.10344827586206896),\n",
       " (59, 0.10344827586206896),\n",
       " (80, 0.10344827586206896),\n",
       " (227, 0.10344827586206896),\n",
       " (466, 0.10344827586206896),\n",
       " (569, 0.10344827586206896),\n",
       " (105, 0.10309278350515463),\n",
       " (123, 0.10256410256410256),\n",
       " (203, 0.10204081632653061),\n",
       " (363, 0.10204081632653061),\n",
       " (533, 0.1016949152542373),\n",
       " (257, 0.10144927536231885),\n",
       " (8, 0.1),\n",
       " (175, 0.1),\n",
       " (253, 0.1),\n",
       " (38, 0.09803921568627451),\n",
       " (79, 0.09803921568627451),\n",
       " (223, 0.09803921568627451),\n",
       " (489, 0.09803921568627451),\n",
       " (247, 0.0975609756097561),\n",
       " (217, 0.09722222222222222),\n",
       " (24, 0.0967741935483871),\n",
       " (270, 0.0967741935483871),\n",
       " (348, 0.0967741935483871),\n",
       " (238, 0.09615384615384616),\n",
       " (453, 0.09615384615384616),\n",
       " (15, 0.09523809523809523),\n",
       " (199, 0.09523809523809523),\n",
       " (153, 0.09433962264150944),\n",
       " (527, 0.09433962264150944),\n",
       " (40, 0.09375),\n",
       " (188, 0.09375),\n",
       " (275, 0.09375),\n",
       " (278, 0.09375),\n",
       " (140, 0.09302325581395349),\n",
       " (400, 0.09302325581395349),\n",
       " (93, 0.09230769230769231),\n",
       " (116, 0.09230769230769231),\n",
       " (46, 0.09090909090909091),\n",
       " (108, 0.09090909090909091),\n",
       " (258, 0.09090909090909091),\n",
       " (290, 0.09090909090909091),\n",
       " (472, 0.09090909090909091),\n",
       " (152, 0.0898876404494382),\n",
       " (334, 0.08974358974358974),\n",
       " (292, 0.08955223880597014),\n",
       " (467, 0.08955223880597014),\n",
       " (470, 0.08955223880597014),\n",
       " (22, 0.08928571428571429),\n",
       " (575, 0.08928571428571429),\n",
       " (333, 0.08860759493670886),\n",
       " (299, 0.08823529411764706),\n",
       " (430, 0.08823529411764706),\n",
       " (482, 0.08791208791208792),\n",
       " (168, 0.08771929824561403),\n",
       " (216, 0.08771929824561403),\n",
       " (256, 0.08771929824561403),\n",
       " (261, 0.08771929824561403),\n",
       " (294, 0.08771929824561403),\n",
       " (319, 0.08771929824561403),\n",
       " (268, 0.0875),\n",
       " (110, 0.08695652173913043),\n",
       " (113, 0.08695652173913043),\n",
       " (222, 0.08695652173913043),\n",
       " (235, 0.08695652173913043),\n",
       " (502, 0.08695652173913043),\n",
       " (561, 0.08695652173913043),\n",
       " (580, 0.08695652173913043),\n",
       " (407, 0.08641975308641975),\n",
       " (157, 0.08602150537634409),\n",
       " (194, 0.08571428571428572),\n",
       " (601, 0.08571428571428572),\n",
       " (296, 0.08536585365853659),\n",
       " (13, 0.0851063829787234),\n",
       " (426, 0.08450704225352113),\n",
       " (19, 0.08333333333333333),\n",
       " (20, 0.08333333333333333),\n",
       " (56, 0.08333333333333333),\n",
       " (86, 0.08333333333333333),\n",
       " (94, 0.08333333333333333),\n",
       " (134, 0.08333333333333333),\n",
       " (136, 0.08333333333333333),\n",
       " (141, 0.08333333333333333),\n",
       " (446, 0.08333333333333333),\n",
       " (369, 0.0821917808219178),\n",
       " (156, 0.08163265306122448),\n",
       " (207, 0.08163265306122448),\n",
       " (107, 0.08108108108108109),\n",
       " (255, 0.08108108108108109),\n",
       " (419, 0.08108108108108109),\n",
       " (18, 0.08064516129032258),\n",
       " (330, 0.08064516129032258),\n",
       " (163, 0.08),\n",
       " (101, 0.07936507936507936),\n",
       " (208, 0.07894736842105263),\n",
       " (358, 0.07865168539325842),\n",
       " (25, 0.0784313725490196),\n",
       " (252, 0.078125),\n",
       " (398, 0.078125),\n",
       " (62, 0.07777777777777778),\n",
       " (183, 0.07777777777777778),\n",
       " (2, 0.07692307692307693),\n",
       " (251, 0.07692307692307693),\n",
       " (254, 0.07692307692307693),\n",
       " (233, 0.0761904761904762),\n",
       " (35, 0.07575757575757576),\n",
       " (63, 0.07575757575757576),\n",
       " (64, 0.07547169811320754),\n",
       " (130, 0.07547169811320754),\n",
       " (308, 0.07547169811320754),\n",
       " (109, 0.07526881720430108),\n",
       " (42, 0.075),\n",
       " (126, 0.07462686567164178),\n",
       " (240, 0.07407407407407407),\n",
       " (177, 0.07352941176470588),\n",
       " (4, 0.07272727272727272),\n",
       " (139, 0.07142857142857142),\n",
       " (220, 0.07017543859649122),\n",
       " (408, 0.07017543859649122),\n",
       " (326, 0.06976744186046512),\n",
       " (338, 0.06976744186046512),\n",
       " (457, 0.0684931506849315),\n",
       " (212, 0.06818181818181818),\n",
       " (97, 0.06666666666666667),\n",
       " (129, 0.06666666666666667),\n",
       " (174, 0.06666666666666667),\n",
       " (226, 0.06666666666666667),\n",
       " (274, 0.06666666666666667),\n",
       " (285, 0.06666666666666667),\n",
       " (505, 0.06666666666666667),\n",
       " (85, 0.06578947368421052),\n",
       " (219, 0.06578947368421052),\n",
       " (345, 0.06521739130434782),\n",
       " (321, 0.06493506493506493),\n",
       " (224, 0.06451612903225806),\n",
       " (280, 0.0641025641025641),\n",
       " (55, 0.06382978723404255),\n",
       " (77, 0.0625),\n",
       " (193, 0.0625),\n",
       " (271, 0.0625),\n",
       " (312, 0.0625),\n",
       " (598, 0.0625),\n",
       " (1, 0.06153846153846154),\n",
       " (147, 0.061224489795918366),\n",
       " (210, 0.06060606060606061),\n",
       " (523, 0.05970149253731343),\n",
       " (117, 0.058823529411764705),\n",
       " (259, 0.058823529411764705),\n",
       " (120, 0.05813953488372093),\n",
       " (66, 0.057971014492753624),\n",
       " (16, 0.057692307692307696),\n",
       " (32, 0.057692307692307696),\n",
       " (53, 0.057692307692307696),\n",
       " (76, 0.057692307692307696),\n",
       " (297, 0.057692307692307696),\n",
       " (344, 0.057692307692307696),\n",
       " (49, 0.05714285714285714),\n",
       " (362, 0.05555555555555555),\n",
       " (351, 0.0547945205479452),\n",
       " (397, 0.0547945205479452),\n",
       " (237, 0.053763440860215055),\n",
       " (202, 0.05357142857142857),\n",
       " (12, 0.05333333333333334),\n",
       " (137, 0.05263157894736842),\n",
       " (228, 0.05263157894736842),\n",
       " (594, 0.05263157894736842),\n",
       " (68, 0.05194805194805195),\n",
       " (295, 0.05194805194805195),\n",
       " (306, 0.05194805194805195),\n",
       " (170, 0.05154639175257732),\n",
       " (250, 0.05),\n",
       " (357, 0.04938271604938271),\n",
       " (538, 0.04878048780487805),\n",
       " (92, 0.04838709677419355),\n",
       " (29, 0.04819277108433735),\n",
       " (276, 0.046511627906976744),\n",
       " (11, 0.04597701149425287),\n",
       " (37, 0.04597701149425287),\n",
       " (331, 0.04597701149425287),\n",
       " (263, 0.0425531914893617),\n",
       " (302, 0.04225352112676056),\n",
       " (272, 0.042105263157894736),\n",
       " (95, 0.04081632653061224),\n",
       " (184, 0.04054054054054054),\n",
       " (51, 0.0379746835443038),\n",
       " (125, 0.03636363636363636),\n",
       " (214, 0.031914893617021274),\n",
       " (58, 0.031578947368421054),\n",
       " (359, 0.030927835051546393),\n",
       " (148, 0.02912621359223301),\n",
       " (48, 0.024096385542168676)]"
      ]
     },
     "execution_count": 160,
     "metadata": {},
     "output_type": "execute_result"
    }
   ],
   "source": [
    "sorted(unique_quote_types_percs, key=lambda x: -x[1])"
   ]
  },
  {
   "cell_type": "code",
   "execution_count": 161,
   "id": "aa534722",
   "metadata": {},
   "outputs": [
    {
     "name": "stderr",
     "output_type": "stream",
     "text": [
      "/var/folders/89/6dsq1ymj63x009t6wpt25f9h0000gp/T/ipykernel_977/537967330.py:3: FutureWarning: In future versions `DataFrame.to_latex` is expected to utilise the base implementation of `Styler.to_latex` for formatting and rendering. The arguments signature may therefore change. It is recommended instead to use `DataFrame.style.to_latex` which also contains additional functionality.\n",
      "  pyperclip.copy(annot_data_dfs[492][['sent', 'head', 'quote_type']].to_latex(index=False))\n"
     ]
    }
   ],
   "source": [
    "import pyperclip\n",
    "pd.options.display.max_colwidth = 500\n",
    "pyperclip.copy(annot_data_dfs[492][['sent', 'head', 'quote_type']].to_latex(index=False))"
   ]
  },
  {
   "cell_type": "code",
   "execution_count": 162,
   "id": "af7c8c94",
   "metadata": {},
   "outputs": [],
   "source": [
    "t = list(filter(lambda x: (x['head'] == 'passive-voice').sum() > 1, annot_data_dfs))"
   ]
  },
  {
   "cell_type": "code",
   "execution_count": 163,
   "id": "6432ef3e",
   "metadata": {},
   "outputs": [],
   "source": [
    "import re \n",
    "from unidecode import unidecode\n",
    "\n",
    "def fix_quote_type(sent):    \n",
    "    CLEANR = re.compile('<.*?>')\n",
    "    def cleanhtml(raw_html):\n",
    "        cleantext = re.sub(CLEANR, '', raw_html)\n",
    "        return cleantext\n",
    "    \n",
    "    def normalize(text):\n",
    "        text = '' if pd.isnull(text) else text\n",
    "        text = re.sub('\\s+', ' ', text)\n",
    "        return cleanhtml(unidecode(text).strip())\n",
    "    \n",
    "    quote_type_mapper = {\n",
    "        '': 'No Quote',\n",
    "        'BACKGROUND': 'Background/Narrative',\n",
    "        'NARRATIVE': 'Background/Narrative',\n",
    "        'PUBLIC SPEECH, NOT TO JOURNO': 'Statement/Public Speech',\n",
    "        'STATEMENT': 'Statement/Public Speech',\n",
    "        'COMMUNICATION, NOT TO JOURNO': 'Email/Social Media Post',\n",
    "        'LAWSUIT': 'Court Proceeding',\n",
    "        'TWEET': 'Email/Social Media Post',\n",
    "        'SOCIAL MEDIA POST': 'Email/Social Media Post',        \n",
    "        'PROPOSAL': 'Proposal/Order/Law',\n",
    "        'Other: LAWSUIT': 'Court Proceeding',\n",
    "        'Other: Evaluation': 'Quote',\n",
    "        'Other: DIRECT OBSERVATION': 'Direct Observation',\n",
    "        'Other: Campaign filing': 'Published Work/Press Report',\n",
    "        'Other: VOTE/POLL': 'Vote/Poll',\n",
    "        'Other: PROPOSAL': 'Proposal/Order/Law',\n",
    "        'Other: Campaign Filing': 'Published Work/Press Report',\n",
    "        'Other: Data analysis': 'Direct Observation',\n",
    "        'Other: Analysis': 'Direct Observation',\n",
    "        'Other: LAW': 'Proposal/Order/Law',\n",
    "        'Other: Investigation': 'Direct Observation',\n",
    "        'Other: Database': 'Published Work/Press Report',\n",
    "        'Other: Data Analysis': 'Direct Observation',\n",
    "        'DOCUMENT': 'Published Work/Press Report',\n",
    "        'PRESS REPORT': 'Published Work/Press Report',\n",
    "        'PUBLISHED WORK': 'Published Work/Press Report',        \n",
    "    }\n",
    "    other_cats = {\n",
    "        'Other: Cannot Determine': 'Other',\n",
    "        'Quote': 'Other', \n",
    "        'VOTE/POLL': 'Other',\n",
    "        'Vote/Poll':'Other',\n",
    "        'Declined Comment': 'Other',\n",
    "        'PRICE SIGNAL': 'Other',\n",
    "        'DECLINED COMMENT': 'Other'\n",
    "    }\n",
    "\n",
    "    q = sent.get('quote_type', '')\n",
    "    q = quote_type_mapper.get(q, q)\n",
    "    q = other_cats.get(q, q )\n",
    "    if (q == 'QUOTE'):\n",
    "        if ('\"' in normalize(sent['sent'])):\n",
    "            return 'Indirect Quote'\n",
    "        else:\n",
    "            return 'Direct Quote'\n",
    "    return q.title() if pd.notnull(q) else q"
   ]
  },
  {
   "cell_type": "code",
   "execution_count": 164,
   "id": "868a5074",
   "metadata": {},
   "outputs": [],
   "source": [
    "all_annot_dfs = pd.concat(annot_data_dfs)"
   ]
  },
  {
   "cell_type": "code",
   "execution_count": 165,
   "id": "93c5cd6a",
   "metadata": {},
   "outputs": [],
   "source": [
    "quote_counts = all_annot_dfs.apply(fix_quote_type, axis=1).value_counts().pipe(lambda s: s * 2)"
   ]
  },
  {
   "cell_type": "code",
   "execution_count": 166,
   "id": "1238e57d",
   "metadata": {},
   "outputs": [
    {
     "data": {
      "text/plain": [
       "No Quote                       23614\n",
       "Direct Quote                    7928\n",
       "Indirect Quote                  6564\n",
       "Background/Narrative            3818\n",
       "Statement/Public Speech         3280\n",
       "Published Work/Press Report     2730\n",
       "Email/Social Media Post         1352\n",
       "Proposal/Order/Law               896\n",
       "Other                            610\n",
       "Court Proceeding                 540\n",
       "Direct Observation               302\n",
       "dtype: int64"
      ]
     },
     "execution_count": 166,
     "metadata": {},
     "output_type": "execute_result"
    }
   ],
   "source": [
    "quote_counts"
   ]
  },
  {
   "cell_type": "code",
   "execution_count": 167,
   "id": "423a59f0",
   "metadata": {},
   "outputs": [
    {
     "name": "stderr",
     "output_type": "stream",
     "text": [
      "/var/folders/89/6dsq1ymj63x009t6wpt25f9h0000gp/T/ipykernel_977/2933106822.py:1: FutureWarning: In future versions `DataFrame.to_latex` is expected to utilise the base implementation of `Styler.to_latex` for formatting and rendering. The arguments signature may therefore change. It is recommended instead to use `DataFrame.style.to_latex` which also contains additional functionality.\n",
      "  pyperclip.copy(quote_counts.to_latex())\n"
     ]
    }
   ],
   "source": [
    "pyperclip.copy(quote_counts.to_latex())"
   ]
  },
  {
   "cell_type": "markdown",
   "id": "012fcdc6",
   "metadata": {},
   "source": [
    "# Look at Detection/Attribution Scoring Output"
   ]
  },
  {
   "cell_type": "code",
   "execution_count": 21,
   "id": "177c014b",
   "metadata": {},
   "outputs": [],
   "source": [
    "import glob\n",
    "import jsonlines\n",
    "import pandas as pd \n",
    "import seaborn as sns\n",
    "import json\n",
    "import numpy as np \n",
    "from scipy.stats import entropy\n",
    "\n",
    "input_files = glob.glob('../tasks/quote_detection_and_attribution/test_*')\n",
    "run_failed = lambda x: x.loc[lambda df: df['is_quote'] == True]['attribution'].isnull().all()\n",
    "\n",
    "all_processed_articles = []\n",
    "for f in input_files:\n",
    "    a = list(jsonlines.open(f))\n",
    "    all_processed_articles.extend(a)\n",
    "\n",
    "silver_standard_dfs = list(map(pd.DataFrame, all_processed_articles))\n",
    "silver_standard_dfs = list(filter(lambda x: not run_failed(x), silver_standard_dfs))\n",
    "\n",
    "all_silver_standard = pd.concat(silver_standard_dfs)"
   ]
  },
  {
   "cell_type": "code",
   "execution_count": 22,
   "id": "48ca6c65",
   "metadata": {},
   "outputs": [
    {
     "data": {
      "text/plain": [
       "False    264735\n",
       "True        172\n",
       "Name: attribution, dtype: int64"
      ]
     },
     "execution_count": 22,
     "metadata": {},
     "output_type": "execute_result"
    }
   ],
   "source": [
    "pronouns = json.load(open('pronouns.txt'))\n",
    "all_silver_standard['attribution'].apply(lambda x: x in pronouns).value_counts()"
   ]
  },
  {
   "cell_type": "code",
   "execution_count": 31,
   "id": "14f53d30",
   "metadata": {},
   "outputs": [
    {
     "data": {
      "text/plain": [
       "30.0"
      ]
     },
     "execution_count": 31,
     "metadata": {},
     "output_type": "execute_result"
    }
   ],
   "source": [
    "all_gold_standard.loc[lambda df: df['sent'].str.len() > 2]['doc_id'].value_counts().median()"
   ]
  },
  {
   "cell_type": "code",
   "execution_count": 32,
   "id": "1904c449",
   "metadata": {},
   "outputs": [
    {
     "data": {
      "text/plain": [
       "67.5"
      ]
     },
     "execution_count": 32,
     "metadata": {},
     "output_type": "execute_result"
    }
   ],
   "source": [
    "test_gold_standard.loc[lambda df: df['sent'].str.len() > 2]['doc_id'].value_counts().median()"
   ]
  },
  {
   "cell_type": "code",
   "execution_count": 33,
   "id": "30a0b0d3",
   "metadata": {},
   "outputs": [
    {
     "data": {
      "text/plain": [
       "27.0"
      ]
     },
     "execution_count": 33,
     "metadata": {},
     "output_type": "execute_result"
    }
   ],
   "source": [
    "all_silver_standard.loc[lambda df: df['sent'].str.len() > 2]['doc_idx'].value_counts().median()"
   ]
  },
  {
   "cell_type": "code",
   "execution_count": 34,
   "id": "523838e0",
   "metadata": {},
   "outputs": [],
   "source": [
    "gold_standard = list(jsonlines.open('../tasks/data_split_annotated_sources.jsonl'))\n",
    "\n",
    "to_exclude = [\n",
    "    '',\n",
    "    'NO QUOTE', \n",
    "    'NARRATIVE',\n",
    "    'BACKGROUND',\n",
    "    'DIRECT OBSERVATION'\n",
    "]\n",
    "\n",
    "train_gold_standard =  list(filter(lambda x: x['split'] == 'train', gold_standard))\n",
    "all_gold_standard = pd.concat(list(map(lambda x: pd.DataFrame(x['data']), train_gold_standard)))\n",
    "gold_standard_test = list(filter(lambda x: x['split'] == 'test', gold_standard))\n",
    "test_gold_standard = pd.concat(list(map(lambda x: pd.DataFrame(x['data']), gold_standard_test)))\n",
    "\n",
    "all_gold_standard = all_gold_standard.assign(is_quote=lambda df: ~df['quote_type'].isin(to_exclude))\n",
    "test_gold_standard = test_gold_standard.assign(is_quote=lambda df: ~df['quote_type'].isin(to_exclude))"
   ]
  },
  {
   "cell_type": "code",
   "execution_count": 35,
   "id": "8bc5ece4",
   "metadata": {},
   "outputs": [],
   "source": [
    "test_gold_doc_len = test_gold_standard.groupby('doc_id')['sent'].apply(lambda s: s.str.len().sum())\n",
    "all_gold_doc_len = all_gold_standard.groupby('doc_id')['sent'].apply(lambda s: s.str.len().sum())\n",
    "all_silver_doc_len = all_silver_standard.groupby('doc_idx')['sent'].apply(lambda s: s.str.len().sum())"
   ]
  },
  {
   "cell_type": "code",
   "execution_count": 366,
   "id": "d1f10bb3",
   "metadata": {},
   "outputs": [
    {
     "data": {
      "text/plain": [
       "<AxesSubplot: xlabel='doc_len', ylabel='split'>"
      ]
     },
     "execution_count": 366,
     "metadata": {},
     "output_type": "execute_result"
    },
    {
     "data": {
      "image/png": "[encoded data removed]",
      "text/plain": [
       "<Figure size 300x200 with 1 Axes>"
      ]
     },
     "metadata": {},
     "output_type": "display_data"
    }
   ],
   "source": [
    "import matplotlib.pyplot as plt\n",
    "f, ax = plt.subplots( 1, 1, figsize=(3,2))\n",
    "\n",
    "pd.concat([\n",
    "    all_gold_doc_len.to_frame('doc_len').assign(split='gold-all'),\n",
    "    test_gold_doc_len.to_frame('doc_len').assign(split='gold-test'),\n",
    "    all_silver_doc_len.to_frame('doc_len').assign(split='silver')\n",
    "]).pipe(lambda df: \n",
    "       sns.boxplot(data=df, x='doc_len', y='split', ax=ax)\n",
    "       )"
   ]
  },
  {
   "cell_type": "code",
   "execution_count": 43,
   "id": "2458d48c",
   "metadata": {},
   "outputs": [
    {
     "data": {
      "text/html": [
       "<div>\n",
       "<style scoped>\n",
       "    .dataframe tbody tr th:only-of-type {\n",
       "        vertical-align: middle;\n",
       "    }\n",
       "\n",
       "    .dataframe tbody tr th {\n",
       "        vertical-align: top;\n",
       "    }\n",
       "\n",
       "    .dataframe thead th {\n",
       "        text-align: right;\n",
       "    }\n",
       "</style>\n",
       "<table border=\"1\" class=\"dataframe\">\n",
       "  <thead>\n",
       "    <tr style=\"text-align: right;\">\n",
       "      <th></th>\n",
       "      <th>mean</th>\n",
       "    </tr>\n",
       "    <tr>\n",
       "      <th>split</th>\n",
       "      <th></th>\n",
       "    </tr>\n",
       "  </thead>\n",
       "  <tbody>\n",
       "    <tr>\n",
       "      <th>Gold (Test)</th>\n",
       "      <td>0.469547</td>\n",
       "    </tr>\n",
       "    <tr>\n",
       "      <th>Gold (Train)</th>\n",
       "      <td>0.477355</td>\n",
       "    </tr>\n",
       "    <tr>\n",
       "      <th>Silver</th>\n",
       "      <td>0.574906</td>\n",
       "    </tr>\n",
       "  </tbody>\n",
       "</table>\n",
       "</div>"
      ],
      "text/plain": [
       "                  mean\n",
       "split                 \n",
       "Gold (Test)   0.469547\n",
       "Gold (Train)  0.477355\n",
       "Silver        0.574906"
      ]
     },
     "execution_count": 43,
     "metadata": {},
     "output_type": "execute_result"
    }
   ],
   "source": [
    "pd.concat([\n",
    "    all_gold_standard.groupby('doc_id')['is_quote'].mean().to_frame('mean').assign(split='Gold (Train)'),\n",
    "    test_gold_standard.groupby('doc_id')['is_quote'].mean().to_frame('mean').assign(split='Gold (Test)'),\n",
    "    all_silver_standard.groupby('doc_idx')['is_quote'].mean().to_frame('mean').assign(split='Silver')\n",
    "]).groupby('split').mean()"
   ]
  },
  {
   "cell_type": "code",
   "execution_count": 66,
   "id": "1a839e58",
   "metadata": {},
   "outputs": [
    {
     "data": {
      "text/plain": [
       "'BEIRUT, Lebanon — Syrian antigovernment fighters said on Monday that they had downed a government helicopter gunship during fierce fighting in the eastern suburbs of Damascus, while Syrian state television confirmed that a helicopter had crashed in the neighborhood of Qaboun, without giving more details about the cause.'"
      ]
     },
     "execution_count": 66,
     "metadata": {},
     "output_type": "execute_result"
    }
   ],
   "source": [
    "(all_silver_standard\n",
    " .loc[lambda df: df['sent_idx'] == 0]\n",
    " .loc[lambda df: df['is_quote'] == True]\n",
    " .iloc[10]\n",
    " ['sent']\n",
    ")"
   ]
  },
  {
   "cell_type": "code",
   "execution_count": 71,
   "id": "778faa7c",
   "metadata": {
    "scrolled": true
   },
   "outputs": [
    {
     "data": {
      "text/plain": [
       "0"
      ]
     },
     "execution_count": 71,
     "metadata": {},
     "output_type": "execute_result"
    }
   ],
   "source": [
    "all_silver_standard.groupby('sent_idx')['is_quote'].mean().loc[:40].idxmax()"
   ]
  },
  {
   "cell_type": "code",
   "execution_count": 74,
   "id": "5a075e0f",
   "metadata": {},
   "outputs": [
    {
     "data": {
      "text/plain": [
       "86"
      ]
     },
     "execution_count": 74,
     "metadata": {},
     "output_type": "execute_result"
    }
   ],
   "source": [
    "all_gold_standard.groupby('sent_idx')['is_quote'].mean().idxmax()"
   ]
  },
  {
   "cell_type": "code",
   "execution_count": 109,
   "id": "85d4e7e4",
   "metadata": {},
   "outputs": [
    {
     "data": {
      "text/plain": [
       "<AxesSubplot: xlabel='sent_perc'>"
      ]
     },
     "execution_count": 109,
     "metadata": {},
     "output_type": "execute_result"
    },
    {
     "data": {
      "image/png": "[encoded data removed]",
      "text/plain": [
       "<Figure size 640x480 with 1 Axes>"
      ]
     },
     "metadata": {},
     "output_type": "display_data"
    }
   ],
   "source": [
    "(all_silver_standard\n",
    " .merge(\n",
    "    right=(all_silver_standard['doc_idx']\n",
    "     .value_counts()\n",
    "     .to_frame('n_sents')\n",
    "     .reset_index()\n",
    "     .rename(columns={'index': 'doc_idx'})\n",
    "    ),\n",
    "    right_on='doc_idx',\n",
    "    left_on='doc_idx'\n",
    " )\n",
    " .assign(sent_perc=lambda df: df.pipe(lambda df: df['sent_idx']/ df['n_sents']).round(2))\n",
    " .groupby('sent_perc')['is_quote'].mean()\n",
    " .plot()\n",
    ")"
   ]
  },
  {
   "cell_type": "code",
   "execution_count": 107,
   "id": "fab92154",
   "metadata": {},
   "outputs": [
    {
     "data": {
      "text/plain": [
       "0.92"
      ]
     },
     "execution_count": 107,
     "metadata": {},
     "output_type": "execute_result"
    }
   ],
   "source": [
    "(all_gold_standard\n",
    " .merge(\n",
    "    right=(all_gold_standard['doc_id']\n",
    "     .value_counts()\n",
    "     .to_frame('n_sents')\n",
    "     .reset_index()\n",
    "     .rename(columns={'index': 'doc_id'})\n",
    "    ),\n",
    "    right_on='doc_id',\n",
    "    left_on='doc_id'\n",
    " )\n",
    " .assign(sent_perc=lambda df: df.pipe(lambda df: df['sent_idx']/ df['n_sents']).round(2))\n",
    " .groupby('sent_perc')['is_quote'].mean()\n",
    "#  .plot()\n",
    " .idxmax()\n",
    ")"
   ]
  },
  {
   "cell_type": "code",
   "execution_count": 104,
   "id": "57fa00f4",
   "metadata": {},
   "outputs": [
    {
     "data": {
      "text/plain": [
       "0.96"
      ]
     },
     "execution_count": 104,
     "metadata": {},
     "output_type": "execute_result"
    }
   ],
   "source": [
    "(test_gold_standard\n",
    " .merge(\n",
    "    right=(test_gold_standard['doc_id']\n",
    "     .value_counts()\n",
    "     .to_frame('n_sents')\n",
    "     .reset_index()\n",
    "     .rename(columns={'index': 'doc_id'})\n",
    "    ),\n",
    "    right_on='doc_id',\n",
    "    left_on='doc_id'\n",
    " )\n",
    " .assign(sent_perc=lambda df: df.pipe(lambda df: df['sent_idx']/ df['n_sents']).round(2))\n",
    " .groupby('sent_perc')['is_quote'].mean()\n",
    " .idxmax()\n",
    ")"
   ]
  },
  {
   "cell_type": "code",
   "execution_count": null,
   "id": "80692f55",
   "metadata": {},
   "outputs": [],
   "source": []
  },
  {
   "cell_type": "code",
   "execution_count": null,
   "id": "294f795a",
   "metadata": {},
   "outputs": [],
   "source": []
  },
  {
   "cell_type": "code",
   "execution_count": 425,
   "id": "4475dcf3",
   "metadata": {},
   "outputs": [
    {
     "data": {
      "image/png": "[encoded data removed]",
      "text/plain": [
       "<Figure size 300x200 with 1 Axes>"
      ]
     },
     "metadata": {},
     "output_type": "display_data"
    }
   ],
   "source": [
    "import matplotlib.pyplot as plt\n",
    "f, ax = plt.subplots( 1, 1, figsize=(3,2))\n",
    "\n",
    "ax = (\n",
    "    pd.concat([\n",
    "        all_gold_standard.groupby('doc_id')['is_quote'].mean().to_frame('mean').assign(split='Gold (Train)'),\n",
    "        test_gold_standard.groupby('doc_id')['is_quote'].mean().to_frame('mean').assign(split='Gold (Test)'),\n",
    "        all_silver_standard.groupby('doc_idx')['is_quote'].mean().to_frame('mean').assign(split='Silver')\n",
    "    ])\n",
    "    .assign(mean=lambda df: df['mean'] * 100)\n",
    "    .pipe(lambda df: sns.boxplot(data=df, x='mean', y='split', ax=ax))\n",
    ")\n",
    "ax.spines['right'].set_visible(False)\n",
    "ax.spines['top'].set_visible(False)\n",
    "ax.set_ylabel('')\n",
    "ax.set_xlabel('Mean % sents are sourced')\n",
    "plt.savefig('../resources/latex/acl2023/figures/mean-per-sourced-sents.pdf', bbox_inches='tight')"
   ]
  },
  {
   "cell_type": "code",
   "execution_count": 484,
   "id": "22a5bac3",
   "metadata": {},
   "outputs": [],
   "source": [
    "doc_len_quotes = pd.concat([\n",
    "    all_silver_standard.groupby('doc_idx', group_keys=True)['is_quote'].mean().to_frame('mean % quotes') * 100,\n",
    "    all_silver_standard.assign(sent_len=lambda df: df['sent'].str.len()).groupby('doc_idx', group_keys=True)['sent_len'].sum().to_frame('doc len'),\n",
    "    all_silver_standard.groupby('doc_idx')['attribution'].apply(lambda s: len(s.unique())).to_frame('num sources')\n",
    "], axis=1)"
   ]
  },
  {
   "cell_type": "code",
   "execution_count": 488,
   "id": "a4df0335",
   "metadata": {},
   "outputs": [],
   "source": [
    "bins = np.arange(0, 10_000, step=100)\n",
    "bins = [0, 100, 200, 300, 400, 500, 1000, 1500, 2000, 3000, 4000]"
   ]
  },
  {
   "cell_type": "code",
   "execution_count": 505,
   "id": "0819bf17",
   "metadata": {},
   "outputs": [
    {
     "data": {
      "image/png": "[encoded data removed]",
      "text/plain": [
       "<Figure size 400x200 with 1 Axes>"
      ]
     },
     "metadata": {},
     "output_type": "display_data"
    }
   ],
   "source": [
    "f, ax = plt.subplots(1, 1, figsize=(4,2))\n",
    "(doc_len_quotes\n",
    " .assign(bin=lambda df: pd.cut(df['doc len'], bins).apply(lambda x: x.right))\n",
    " .pipe(lambda df: \n",
    "      sns.lineplot(data=df, x='bin', y='mean % quotes')\n",
    "      )\n",
    ")\n",
    "ax.spines['top'].set_visible(False)\n",
    "ax.spines['right'].set_visible(False)\n",
    "ax.set_ylabel('% sourced sents')\n",
    "ax.set_xlabel('Doc. length (chars)')\n",
    "plt.savefig('../resources/latex/acl2023/figures/perc-sources-by-doc-len__large.pdf', bbox_inches='tight')"
   ]
  },
  {
   "cell_type": "code",
   "execution_count": null,
   "id": "6ec508fd",
   "metadata": {},
   "outputs": [],
   "source": []
  },
  {
   "cell_type": "code",
   "execution_count": null,
   "id": "46287677",
   "metadata": {},
   "outputs": [],
   "source": []
  },
  {
   "cell_type": "code",
   "execution_count": null,
   "id": "a53e9af9",
   "metadata": {},
   "outputs": [],
   "source": []
  },
  {
   "cell_type": "code",
   "execution_count": null,
   "id": "286b8ada",
   "metadata": {},
   "outputs": [],
   "source": []
  },
  {
   "cell_type": "code",
   "execution_count": null,
   "id": "2b6c00a5",
   "metadata": {},
   "outputs": [],
   "source": []
  },
  {
   "cell_type": "code",
   "execution_count": null,
   "id": "7f354e72",
   "metadata": {},
   "outputs": [],
   "source": []
  },
  {
   "cell_type": "code",
   "execution_count": 381,
   "id": "8109ce1c",
   "metadata": {},
   "outputs": [],
   "source": [
    "results_dict = {}\n",
    "results_dict['mean % sentences per doc'] = {\n",
    "    'gold-all': all_gold_standard.groupby('doc_id')['is_quote'].mean().median()* 100,\n",
    "    'gold-test': test_gold_standard.groupby('doc_id')['is_quote'].mean().median() * 100,    \n",
    "    'silver': all_silver_standard.groupby('doc_idx')['is_quote'].mean().median() * 100\n",
    "}"
   ]
  },
  {
   "cell_type": "code",
   "execution_count": 369,
   "id": "12877043",
   "metadata": {},
   "outputs": [],
   "source": [
    "gold_sentences_per_sources_per_document = (\n",
    "    all_gold_standard\n",
    "     .loc[lambda df: df['head'] != '']\n",
    "     .loc[lambda df: ~df['head'].apply(lambda x: x in pronouns)]\n",
    "     .groupby('doc_id')['head']\n",
    "     .value_counts()\n",
    ")\n",
    "\n",
    "test_gold_sentences_per_sources_per_document = (\n",
    "    test_gold_standard\n",
    "     .loc[lambda df: df['head'] != '']\n",
    "     .loc[lambda df: ~df['head'].apply(lambda x: x in pronouns)]\n",
    "     .groupby('doc_id')['head']\n",
    "     .value_counts()\n",
    ")\n",
    "\n",
    "silver_sentences_per_sources_per_document = (\n",
    "    all_silver_standard\n",
    "     .loc[lambda df: df['attribution'] != 'None']\n",
    "     .loc[lambda df: ~df['attribution'].apply(lambda x: x in pronouns)]\n",
    "     .groupby('doc_idx')['attribution']\n",
    "     .value_counts()\n",
    ")"
   ]
  },
  {
   "cell_type": "code",
   "execution_count": 370,
   "id": "cc120bfc",
   "metadata": {},
   "outputs": [],
   "source": [
    "gold_perc_sentences_per_source_per_document = (\n",
    "    gold_sentences_per_sources_per_document\n",
    "     .groupby(level=0)\n",
    "     .aggregate(list)\n",
    "     .apply(np.array)\n",
    "     .apply(lambda x: x/x.sum())\n",
    "    #  .apply(pd.Series)\n",
    "    #  .unstack()\n",
    "    #  .dropna()\n",
    "    #  .hist(bins=50)\n",
    ")\n",
    "\n",
    "test_gold_perc_sentences_per_source_per_document = (\n",
    "    test_gold_sentences_per_sources_per_document\n",
    "     .groupby(level=0)\n",
    "     .aggregate(list)\n",
    "     .apply(np.array)\n",
    "     .apply(lambda x: x/x.sum())\n",
    "    #  .apply(pd.Series)\n",
    "    #  .unstack()\n",
    "    #  .dropna()\n",
    "    #  .hist(bins=50)\n",
    ")\n",
    "\n",
    "silver_perc_sentences_per_source_per_document = (\n",
    "    silver_sentences_per_sources_per_document\n",
    "     .groupby(level=0)\n",
    "     .aggregate(list)\n",
    "     .apply(np.array)\n",
    "     .apply(lambda x: x/x.sum())\n",
    "    #  .apply(pd.Series)\n",
    "    #  .unstack()\n",
    "    #  .dropna()\n",
    "    #  .hist(bins=50)\n",
    ")"
   ]
  },
  {
   "cell_type": "code",
   "execution_count": 19,
   "id": "91aa098c",
   "metadata": {},
   "outputs": [
    {
     "data": {
      "image/png": "[encoded data removed]",
      "text/plain": [
       "<Figure size 400x200 with 1 Axes>"
      ]
     },
     "metadata": {},
     "output_type": "display_data"
    }
   ],
   "source": [
    "f, ax= plt.subplots(1, 1, figsize=(4, 2))\n",
    "(all_silver_standard\n",
    " .loc[lambda df: df['sent_idx'] < 40]\n",
    " .pipe(lambda df: sns.lineplot(data=df, x='sent_idx', y='is_quote'))\n",
    ")\n",
    "ax.spines['top'].set_visible(False)\n",
    "ax.spines['right'].set_visible(False)\n",
    "ax.set_ylabel('p(sent is sourced)')\n",
    "ax.set_xlabel('Sentence index in document')\n",
    "plt.savefig('../resources/latex/acl2023/figures/source-likelihood-by-sentence.pdf', bbox_inches='tight')"
   ]
  },
  {
   "cell_type": "code",
   "execution_count": null,
   "id": "8fefbf1a",
   "metadata": {},
   "outputs": [],
   "source": []
  },
  {
   "cell_type": "code",
   "execution_count": null,
   "id": "15e4d7da",
   "metadata": {},
   "outputs": [],
   "source": []
  },
  {
   "cell_type": "code",
   "execution_count": 382,
   "id": "ff76eca3",
   "metadata": {},
   "outputs": [],
   "source": [
    "results_dict['med. num. chars. per doc.'] = {\n",
    "    'gold-all': int(all_gold_doc_len.median()),\n",
    "    'gold-test': int(test_gold_doc_len.median()),\n",
    "    'silver': int(all_silver_doc_len.median()),\n",
    "}\n",
    "\n",
    "results_dict['perc. sentences by top source'] = {\n",
    "    'gold-all': gold_perc_sentences_per_source_per_document.apply(lambda x: x[0]).median() * 100,\n",
    "    'gold-test': test_gold_perc_sentences_per_source_per_document.apply(lambda x: x[0]).median() * 100,    \n",
    "    'silver': silver_perc_sentences_per_source_per_document.apply(lambda x: x[0]).median() * 100\n",
    "}\n",
    "results_dict['perc. sentences by bottom source'] = {\n",
    "    'gold-all': gold_perc_sentences_per_source_per_document.apply(lambda x: x[-1]).median() * 100,\n",
    "    'gold-test': test_gold_perc_sentences_per_source_per_document.apply(lambda x: x[-1]).median() * 100,    \n",
    "    'silver': silver_perc_sentences_per_source_per_document.apply(lambda x: x[-1]).median()* 100\n",
    "}\n",
    "results_dict['num. sources by doc'] = {\n",
    "    'gold-all': gold_perc_sentences_per_source_per_document.str.len().mean(),\n",
    "    'gold-test': test_gold_perc_sentences_per_source_per_document.str.len().mean(),    \n",
    "    'silver': silver_perc_sentences_per_source_per_document.str.len().mean()\n",
    "}\n",
    "results_dict['entropy over sources'] = {\n",
    "    'gold-all': gold_perc_sentences_per_source_per_document.apply(entropy).median(),\n",
    "    'gold-test': test_gold_perc_sentences_per_source_per_document.apply(entropy).median(),    \n",
    "    'silver': silver_perc_sentences_per_source_per_document.apply(entropy).median()\n",
    "}"
   ]
  },
  {
   "cell_type": "code",
   "execution_count": 384,
   "id": "88365e6e",
   "metadata": {},
   "outputs": [],
   "source": [
    "results_df = pd.DataFrame(results_dict).round(1).T.rename(columns={'gold-all': 'gold-train'})"
   ]
  },
  {
   "cell_type": "code",
   "execution_count": 387,
   "id": "129c93dc",
   "metadata": {},
   "outputs": [
    {
     "name": "stderr",
     "output_type": "stream",
     "text": [
      "/var/folders/89/6dsq1ymj63x009t6wpt25f9h0000gp/T/ipykernel_977/2509495308.py:2: FutureWarning: In future versions `DataFrame.to_latex` is expected to utilise the base implementation of `Styler.to_latex` for formatting and rendering. The arguments signature may therefore change. It is recommended instead to use `DataFrame.style.to_latex` which also contains additional functionality.\n",
      "  pyperclip.copy(results_df.to_latex())\n"
     ]
    }
   ],
   "source": [
    "import pyperclip\n",
    "pyperclip.copy(results_df.to_latex())"
   ]
  },
  {
   "cell_type": "code",
   "execution_count": null,
   "id": "78d93244",
   "metadata": {},
   "outputs": [],
   "source": []
  },
  {
   "cell_type": "code",
   "execution_count": null,
   "id": "b0651e21",
   "metadata": {},
   "outputs": [],
   "source": []
  },
  {
   "cell_type": "code",
   "execution_count": 493,
   "id": "4f62e0b5",
   "metadata": {},
   "outputs": [],
   "source": [
    "# compare silver standard to gold standard\n",
    "\n",
    "# num sources per document\n",
    "# % sentences attributable to sources per document\n",
    "# entropy over sentences per source per document\n",
    "# % of quotes by source # across documents\n",
    "\n",
    "all_silver_standard['version'] = all_silver_standard['doc_idx'].str.split('-').str.get(1)\n",
    "\n",
    "num_sources_by_version = (\n",
    "    all_silver_standard\n",
    "     .groupby('doc_idx')['attribution']\n",
    "     .unique().apply(len)\n",
    "     .reset_index()\n",
    "     .rename(columns={'attribution': 'num_sources'})\n",
    "     .assign(version=lambda df: df['doc_idx'].str.split('-').str.get(1).astype(int))\n",
    "     .assign(entry_id=lambda df: df['doc_idx'].str.split('-').str.get(0).astype(int))                          \n",
    ")"
   ]
  },
  {
   "cell_type": "code",
   "execution_count": 500,
   "id": "7fc8a50f",
   "metadata": {},
   "outputs": [
    {
     "name": "stdout",
     "output_type": "stream",
     "text": [
      "mean-per-sourced-sents.pdf   perc-sources-by-doc-len.pdf\r\n"
     ]
    }
   ],
   "source": [
    "ls ../resources/latex/acl2023/figures/"
   ]
  },
  {
   "cell_type": "code",
   "execution_count": 516,
   "id": "55b14d0b",
   "metadata": {},
   "outputs": [],
   "source": [
    "%matplotlib inline"
   ]
  },
  {
   "cell_type": "code",
   "execution_count": 8,
   "id": "426478a1",
   "metadata": {},
   "outputs": [
    {
     "data": {
      "image/png": "[encoded data removed]",
      "text/plain": [
       "<Figure size 400x200 with 1 Axes>"
      ]
     },
     "metadata": {},
     "output_type": "display_data"
    }
   ],
   "source": [
    "import matplotlib.pyplot as plt\n",
    "f, ax = plt.subplots(1, 1, figsize=(4, 2))\n",
    "\n",
    "(all_silver_standard\n",
    " .groupby('doc_idx')\n",
    " ['is_quote'].mean()\n",
    " .reset_index()\n",
    " .rename(columns={'is_quote': 'mean_sents'})\n",
    " .assign(version=lambda df: df['doc_idx'].str.split('-').str.get(1).astype(int))\n",
    " .assign(entry_id=lambda df: df['doc_idx'].str.split('-').str.get(0).astype(int))\n",
    " .pipe(lambda df: \n",
    "        sns.lineplot(\n",
    "            data=df.loc[lambda df: df['version'] < 11], \n",
    "            x='version',\n",
    "            y='mean_sents',\n",
    "            ax=ax\n",
    "        )\n",
    "    )\n",
    ")\n",
    "\n",
    "ax.set_ylabel('% sents sourced')\n",
    "ax.set_xlabel('Article Version #')\n",
    "ax.spines['top'].set_visible(False)\n",
    "ax.spines['right'].set_visible(False)\n",
    "# plt.savefig('../resources/latex/acl2023/figures/num-sources-by-version__large.pdf', bbox_inches='tight')"
   ]
  },
  {
   "cell_type": "code",
   "execution_count": null,
   "id": "b5dd1e7f",
   "metadata": {},
   "outputs": [],
   "source": []
  },
  {
   "cell_type": "code",
   "execution_count": null,
   "id": "cfcbf0ae",
   "metadata": {},
   "outputs": [],
   "source": []
  },
  {
   "cell_type": "code",
   "execution_count": 504,
   "id": "5c3c36f5",
   "metadata": {},
   "outputs": [
    {
     "data": {
      "image/png": "[encoded data removed]",
      "text/plain": [
       "<Figure size 400x200 with 1 Axes>"
      ]
     },
     "metadata": {},
     "output_type": "display_data"
    }
   ],
   "source": [
    "f, ax = plt.subplots(1, 1, figsize=(4, 2))\n",
    "\n",
    "sns.lineplot(\n",
    "    data=num_sources_by_version.loc[lambda df: df['version'] < 11], \n",
    "    x='version',\n",
    "    y='num_sources',\n",
    "    ax=ax\n",
    ")\n",
    "ax.set_ylabel('Num. Sources')\n",
    "ax.set_xlabel('Article Version #')\n",
    "ax.spines['top'].set_visible(False)\n",
    "ax.spines['right'].set_visible(False)\n",
    "plt.savefig('../resources/latex/acl2023/figures/num-sources-by-version__large.pdf', bbox_inches='tight')"
   ]
  },
  {
   "cell_type": "code",
   "execution_count": null,
   "id": "fa5ca904",
   "metadata": {},
   "outputs": [],
   "source": []
  }
 ],
 "metadata": {
  "hide_input": false,
  "kernelspec": {
   "display_name": "Python 3 (ipykernel)",
   "language": "python",
   "name": "python3"
  },
  "language_info": {
   "codemirror_mode": {
    "name": "ipython",
    "version": 3
   },
   "file_extension": ".py",
   "mimetype": "text/x-python",
   "name": "python",
   "nbconvert_exporter": "python",
   "pygments_lexer": "ipython3",
   "version": "3.10.9"
  }
 },
 "nbformat": 4,
 "nbformat_minor": 5
}
