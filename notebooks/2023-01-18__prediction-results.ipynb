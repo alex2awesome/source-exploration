{
 "cells": [
  {
   "cell_type": "code",
   "execution_count": 18,
   "id": "e8078b38",
   "metadata": {},
   "outputs": [],
   "source": [
    "import glob\n",
    "import json\n",
    "import os\n",
    "import pandas as pd "
   ]
  },
  {
   "cell_type": "code",
   "execution_count": 7,
   "id": "e789e25a",
   "metadata": {},
   "outputs": [],
   "source": [
    "trials = glob.glob('../tasks/quote_prediction/results/*')"
   ]
  },
  {
   "cell_type": "code",
   "execution_count": 46,
   "id": "499cbc03",
   "metadata": {},
   "outputs": [
    {
     "data": {
      "text/plain": [
       "'../tasks/quote_prediction/results/big-bird-base__ablated-top__source-and-text'"
      ]
     },
     "execution_count": 46,
     "metadata": {},
     "output_type": "execute_result"
    }
   ],
   "source": [
    "trials[0]"
   ]
  },
  {
   "cell_type": "code",
   "execution_count": 144,
   "id": "27bf730a",
   "metadata": {},
   "outputs": [],
   "source": [
    "cols_to_keep = [\n",
    "    'Other_accuracy',\n",
    "    'Safety_accuracy',\n",
    "    'Elections_accuracy',\n",
    "    'Labor_accuracy',\n",
    "    'Disaster_accuracy',\n",
    "    'Environment_accuracy',\n",
    "    'gold-label-train_accuracy',\n",
    "    'gold-label-test_accuracy'\n",
    "]"
   ]
  },
  {
   "cell_type": "code",
   "execution_count": 145,
   "id": "2ab52b65",
   "metadata": {},
   "outputs": [],
   "source": [
    "def get_results_callbacks(callback_folder):\n",
    "    runs = glob.glob(os.path.join(callback_folder, 'call*'))\n",
    "    all_runs = []\n",
    "    for r in runs:\n",
    "        runs_res = pd.Series(json.load(open(r)))\n",
    "        all_runs.append(runs_res)\n",
    "    all_runs_df = pd.concat(all_runs, axis=1).T[cols_to_keep]\n",
    "    return all_runs_df.loc[lambda df: df['Other_accuracy'].astype(float).idxmax()]"
   ]
  },
  {
   "cell_type": "code",
   "execution_count": 146,
   "id": "b1baf165",
   "metadata": {},
   "outputs": [],
   "source": [
    "all_results_dict = {}\n",
    "for t in trials:\n",
    "    all_results_dict[os.path.basename(t)] = get_results_callbacks(t)"
   ]
  },
  {
   "cell_type": "code",
   "execution_count": 147,
   "id": "5b70e498",
   "metadata": {},
   "outputs": [],
   "source": [
    "bigbird_res_df = pd.DataFrame(all_results_dict).T"
   ]
  },
  {
   "cell_type": "code",
   "execution_count": 148,
   "id": "7118c0c7",
   "metadata": {},
   "outputs": [],
   "source": [
    "gpt3_prediction_files = glob.glob('cache/*ablated*results*')"
   ]
  },
  {
   "cell_type": "code",
   "execution_count": 149,
   "id": "025f8522",
   "metadata": {},
   "outputs": [],
   "source": [
    "one_file_df = pd.read_csv(gpt3_prediction_files[0])"
   ]
  },
  {
   "cell_type": "code",
   "execution_count": 150,
   "id": "4a82500f",
   "metadata": {},
   "outputs": [],
   "source": [
    "gpt_trial_files = [\n",
    " ## gpt top with source\n",
    "    ('gpt top with source',\n",
    "     ('cache/2023-01-17__annotated-ablated-top-source-results.csv',\n",
    "      'cache/2023-01-15__ablated-top-source-results.csv',),),\n",
    " ## top without source\n",
    "    ('gpt top without source',\n",
    "     ('cache/2023-01-17__annotated-ablated-top__sans-source__results.csv',\n",
    "      'cache/2023-01-17__ablated-top__sans-source__results.csv',),),\n",
    " ## high perc with source\n",
    "    ('gpt high perc with source',\n",
    "     ('cache/2023-01-15__ablated-high-perc-source-results.csv',\n",
    "      'cache/2023-01-17__annotated-ablated-high-perc-source-results.csv',),),\n",
    " ## high perc without source \n",
    "    ('gpt high perc without source',\n",
    "     ('cache/2023-01-17__ablated-high-perc__sans-source__results.csv',\n",
    "      'cache/2023-01-17__annotated-ablated-high-perc__sans-source__results.csv',) ,),\n",
    " ## any with source\n",
    "    ('gpt any with source',\n",
    "     ('cache/2023-01-15__ablated-any-source-results.csv',\n",
    "      'cache/2023-01-17__annotated-ablated-any-source-results.csv',),),\n",
    " ## any without source\n",
    "    ('gpt any without source',\n",
    "     ('cache/2023-01-17__annotated-ablated-any__sans-source__results.csv',\n",
    "      'cache/2023-01-17__ablated-any__sans-source__results.csv',),    )\n",
    "]"
   ]
  },
  {
   "cell_type": "code",
   "execution_count": 151,
   "id": "217948d0",
   "metadata": {},
   "outputs": [],
   "source": [
    "def get_results_gpt(silver_file, gold_file):\n",
    "    if 'annotated' in silver_file:\n",
    "        gold_file, silver_file = silver_file, gold_file\n",
    "\n",
    "    results_dict = {}\n",
    "    gold_df = pd.read_csv(gold_file)\n",
    "    gold_df['match'] = (gold_df['completion'].str.lower() == gold_df['preds'].str.lower())\n",
    "    results_dict['gold-label-test_accuracy'] = gold_df.loc[lambda df: df['preds'].notnull()]['match'].mean()\n",
    "\n",
    "    silver_df = pd.read_csv(silver_file)\n",
    "    silver_df['match'] = (silver_df['completion'].str.lower() == silver_df['preds'].str.lower())\n",
    "\n",
    "    results_dict['Other_accuracy'] =  silver_df.loc[lambda df: df['preds'].notnull()]['match'].mean()\n",
    "\n",
    "    res = (silver_df\n",
    "     .loc[lambda df: df['preds'].notnull()]\n",
    "     .groupby('category')['match']\n",
    "     .mean()\n",
    "     .rename(lambda x: x + '_accuracy')\n",
    "     .to_dict()\n",
    "    )\n",
    "\n",
    "    results_dict.update(res)\n",
    "    return results_dict"
   ]
  },
  {
   "cell_type": "code",
   "execution_count": 152,
   "id": "59ac1ba6",
   "metadata": {},
   "outputs": [],
   "source": [
    "gpt_trials = {}\n",
    "for name, (s, g) in gpt_trial_files:\n",
    "    gpt_trials[name] = get_results_gpt(s, g)"
   ]
  },
  {
   "cell_type": "code",
   "execution_count": 153,
   "id": "6121d570",
   "metadata": {},
   "outputs": [],
   "source": [
    "all_gpt3_res_df = pd.DataFrame(gpt_trials).T"
   ]
  },
  {
   "cell_type": "code",
   "execution_count": 160,
   "id": "4a215183",
   "metadata": {},
   "outputs": [],
   "source": [
    "combined_all_results_df = pd.concat([\n",
    "    all_gpt3_res_df,\n",
    "    bigbird_res_df\n",
    "]).drop('Environment_accuracy', axis=1)\n",
    "combined_all_results_df = (\n",
    "    combined_all_results_df\n",
    "    .drop(['gold-label-test_accuracy', 'gold-label-train_accuracy'], axis=1)\n",
    ")"
   ]
  },
  {
   "cell_type": "code",
   "execution_count": 169,
   "id": "e3a10b49",
   "metadata": {},
   "outputs": [],
   "source": [
    "index_order = [\n",
    " 'big-bird-base__ablated-top__text',\n",
    " 'big-bird-base__ablated-top__source-and-text',\n",
    " 'gpt top with source',\n",
    " 'gpt top without source',\n",
    " #\n",
    " 'big-bird-base__ablated-high-perc__text',\n",
    " 'big-bird-base__ablated-high-perc__source-and-text',\n",
    " 'gpt high perc with source',\n",
    " 'gpt high perc without source',\n",
    " # \n",
    " 'big-bird-base__ablated-any__text',\n",
    " 'big-bird-base__ablated-any__source-and-text',\n",
    " 'gpt any without source',\n",
    " 'gpt any with source',\n",
    "]\n",
    "\n",
    "index_mapper = {\n",
    " 'big-bird-base__ablated-top__text': 'BigBird, Main Source',\n",
    " 'big-bird-base__ablated-top__source-and-text': '+source',\n",
    " 'gpt top with source': 'GPT3 1.3B',\n",
    " 'gpt top without source': '+source',\n",
    " #\n",
    " 'big-bird-base__ablated-high-perc__text': 'BigBird, HighPerc Source',\n",
    " 'big-bird-base__ablated-high-perc__source-and-text': '+source',\n",
    " 'gpt high perc with source': 'GPT3 1.3B',\n",
    " 'gpt high perc without source': '+source',\n",
    " # \n",
    " 'big-bird-base__ablated-any__text': 'BigBird, Any Source',\n",
    " 'big-bird-base__ablated-any__source-and-text': '+source',\n",
    " 'gpt any without source': 'GPT3 1.3B',\n",
    " 'gpt any with source': '+source',\n",
    "}"
   ]
  },
  {
   "cell_type": "code",
   "execution_count": 180,
   "id": "9a538aeb",
   "metadata": {},
   "outputs": [],
   "source": [
    "final_res_df = (combined_all_results_df\n",
    " .loc[index_order]\n",
    " .rename(index=index_mapper)\n",
    " .pipe(lambda df: df*100)\n",
    " .astype(float)\n",
    " .round(1)\n",
    " .rename(columns=lambda x: x.replace('_accuracy', ''))\n",
    ")"
   ]
  },
  {
   "cell_type": "code",
   "execution_count": 181,
   "id": "7e38e956",
   "metadata": {},
   "outputs": [
    {
     "data": {
      "text/html": [
       "<div>\n",
       "<style scoped>\n",
       "    .dataframe tbody tr th:only-of-type {\n",
       "        vertical-align: middle;\n",
       "    }\n",
       "\n",
       "    .dataframe tbody tr th {\n",
       "        vertical-align: top;\n",
       "    }\n",
       "\n",
       "    .dataframe thead th {\n",
       "        text-align: right;\n",
       "    }\n",
       "</style>\n",
       "<table border=\"1\" class=\"dataframe\">\n",
       "  <thead>\n",
       "    <tr style=\"text-align: right;\">\n",
       "      <th></th>\n",
       "      <th>Other</th>\n",
       "      <th>Disaster</th>\n",
       "      <th>Elections</th>\n",
       "      <th>Labor</th>\n",
       "      <th>Safety</th>\n",
       "    </tr>\n",
       "  </thead>\n",
       "  <tbody>\n",
       "    <tr>\n",
       "      <th>BigBird, Main Source</th>\n",
       "      <td>74.2</td>\n",
       "      <td>68.4</td>\n",
       "      <td>78.3</td>\n",
       "      <td>74.0</td>\n",
       "      <td>78.1</td>\n",
       "    </tr>\n",
       "    <tr>\n",
       "      <th>+source</th>\n",
       "      <td>73.9</td>\n",
       "      <td>69.7</td>\n",
       "      <td>74.9</td>\n",
       "      <td>73.4</td>\n",
       "      <td>73.4</td>\n",
       "    </tr>\n",
       "    <tr>\n",
       "      <th>GPT3 1.3B</th>\n",
       "      <td>78.3</td>\n",
       "      <td>75.5</td>\n",
       "      <td>81.5</td>\n",
       "      <td>72.7</td>\n",
       "      <td>80.0</td>\n",
       "    </tr>\n",
       "    <tr>\n",
       "      <th>+source</th>\n",
       "      <td>74.9</td>\n",
       "      <td>69.5</td>\n",
       "      <td>78.0</td>\n",
       "      <td>70.9</td>\n",
       "      <td>65.1</td>\n",
       "    </tr>\n",
       "    <tr>\n",
       "      <th>BigBird, HighPerc Source</th>\n",
       "      <td>63.8</td>\n",
       "      <td>61.8</td>\n",
       "      <td>63.1</td>\n",
       "      <td>64.3</td>\n",
       "      <td>61.7</td>\n",
       "    </tr>\n",
       "    <tr>\n",
       "      <th>+source</th>\n",
       "      <td>65.1</td>\n",
       "      <td>69.7</td>\n",
       "      <td>65.7</td>\n",
       "      <td>64.9</td>\n",
       "      <td>62.5</td>\n",
       "    </tr>\n",
       "    <tr>\n",
       "      <th>GPT3 1.3B</th>\n",
       "      <td>67.1</td>\n",
       "      <td>67.9</td>\n",
       "      <td>72.9</td>\n",
       "      <td>58.8</td>\n",
       "      <td>65.6</td>\n",
       "    </tr>\n",
       "    <tr>\n",
       "      <th>+source</th>\n",
       "      <td>65.4</td>\n",
       "      <td>65.1</td>\n",
       "      <td>68.0</td>\n",
       "      <td>65.9</td>\n",
       "      <td>66.7</td>\n",
       "    </tr>\n",
       "    <tr>\n",
       "      <th>BigBird, Any Source</th>\n",
       "      <td>57.5</td>\n",
       "      <td>53.9</td>\n",
       "      <td>55.5</td>\n",
       "      <td>55.8</td>\n",
       "      <td>57.8</td>\n",
       "    </tr>\n",
       "    <tr>\n",
       "      <th>+source</th>\n",
       "      <td>59.4</td>\n",
       "      <td>55.3</td>\n",
       "      <td>60.6</td>\n",
       "      <td>60.4</td>\n",
       "      <td>56.2</td>\n",
       "    </tr>\n",
       "    <tr>\n",
       "      <th>GPT3 1.3B</th>\n",
       "      <td>55.0</td>\n",
       "      <td>53.9</td>\n",
       "      <td>63.6</td>\n",
       "      <td>63.4</td>\n",
       "      <td>49.0</td>\n",
       "    </tr>\n",
       "    <tr>\n",
       "      <th>+source</th>\n",
       "      <td>59.0</td>\n",
       "      <td>56.1</td>\n",
       "      <td>61.3</td>\n",
       "      <td>39.3</td>\n",
       "      <td>51.7</td>\n",
       "    </tr>\n",
       "  </tbody>\n",
       "</table>\n",
       "</div>"
      ],
      "text/plain": [
       "                          Other  Disaster  Elections  Labor  Safety\n",
       "BigBird, Main Source       74.2      68.4       78.3   74.0    78.1\n",
       "+source                    73.9      69.7       74.9   73.4    73.4\n",
       "GPT3 1.3B                  78.3      75.5       81.5   72.7    80.0\n",
       "+source                    74.9      69.5       78.0   70.9    65.1\n",
       "BigBird, HighPerc Source   63.8      61.8       63.1   64.3    61.7\n",
       "+source                    65.1      69.7       65.7   64.9    62.5\n",
       "GPT3 1.3B                  67.1      67.9       72.9   58.8    65.6\n",
       "+source                    65.4      65.1       68.0   65.9    66.7\n",
       "BigBird, Any Source        57.5      53.9       55.5   55.8    57.8\n",
       "+source                    59.4      55.3       60.6   60.4    56.2\n",
       "GPT3 1.3B                  55.0      53.9       63.6   63.4    49.0\n",
       "+source                    59.0      56.1       61.3   39.3    51.7"
      ]
     },
     "execution_count": 181,
     "metadata": {},
     "output_type": "execute_result"
    }
   ],
   "source": [
    "final_res_df"
   ]
  },
  {
   "cell_type": "code",
   "execution_count": 184,
   "id": "a9cb0da1",
   "metadata": {},
   "outputs": [
    {
     "name": "stderr",
     "output_type": "stream",
     "text": [
      "/var/folders/89/6dsq1ymj63x009t6wpt25f9h0000gp/T/ipykernel_18160/3771168858.py:2: FutureWarning: In future versions `DataFrame.to_latex` is expected to utilise the base implementation of `Styler.to_latex` for formatting and rendering. The arguments signature may therefore change. It is recommended instead to use `DataFrame.style.to_latex` which also contains additional functionality.\n",
      "  pyperclip.copy(final_res_df.to_latex())\n"
     ]
    }
   ],
   "source": [
    "import pyperclip\n",
    "pyperclip.copy(final_res_df.to_latex())"
   ]
  },
  {
   "cell_type": "code",
   "execution_count": null,
   "id": "90612e61",
   "metadata": {},
   "outputs": [],
   "source": []
  },
  {
   "cell_type": "code",
   "execution_count": null,
   "id": "59f60da9",
   "metadata": {},
   "outputs": [],
   "source": []
  },
  {
   "cell_type": "code",
   "execution_count": null,
   "id": "6a5fbd9d",
   "metadata": {},
   "outputs": [],
   "source": []
  },
  {
   "cell_type": "code",
   "execution_count": null,
   "id": "3cde967f",
   "metadata": {},
   "outputs": [],
   "source": []
  },
  {
   "cell_type": "code",
   "execution_count": null,
   "id": "478ec715",
   "metadata": {},
   "outputs": [],
   "source": []
  },
  {
   "cell_type": "code",
   "execution_count": null,
   "id": "61f2521f",
   "metadata": {},
   "outputs": [],
   "source": []
  }
 ],
 "metadata": {
  "hide_input": false,
  "kernelspec": {
   "display_name": "Python 3 (ipykernel)",
   "language": "python",
   "name": "python3"
  },
  "language_info": {
   "codemirror_mode": {
    "name": "ipython",
    "version": 3
   },
   "file_extension": ".py",
   "mimetype": "text/x-python",
   "name": "python",
   "nbconvert_exporter": "python",
   "pygments_lexer": "ipython3",
   "version": "3.10.9"
  }
 },
 "nbformat": 4,
 "nbformat_minor": 5
}
