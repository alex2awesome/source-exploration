{
 "cells": [
  {
   "cell_type": "code",
   "execution_count": 33,
   "id": "ea5afc83",
   "metadata": {},
   "outputs": [],
   "source": [
    "import re \n",
    "from unidecode import unidecode\n",
    "\n",
    "def fix_quote_type(sent):    \n",
    "    CLEANR = re.compile('<.*?>')\n",
    "    def cleanhtml(raw_html):\n",
    "        cleantext = re.sub(CLEANR, '', raw_html)\n",
    "        return cleantext\n",
    "    \n",
    "    def normalize(text):\n",
    "        text = '' if pd.isnull(text) else text\n",
    "        text = re.sub('\\s+', ' ', text)\n",
    "        return cleanhtml(unidecode(text).strip())\n",
    "    \n",
    "    quote_type_mapper = {\n",
    "        '': 'No Quote',\n",
    "        'BACKGROUND': 'Background/Narrative',\n",
    "        'NARRATIVE': 'Background/Narrative',\n",
    "        'PUBLIC SPEECH, NOT TO JOURNO': 'Statement/Public Speech',\n",
    "        'STATEMENT': 'Statement/Public Speech',\n",
    "        'COMMUNICATION, NOT TO JOURNO': 'Email/Social Media Post',\n",
    "        'LAWSUIT': 'Court Proceeding',\n",
    "        'TWEET': 'Email/Social Media Post',\n",
    "        'SOCIAL MEDIA POST': 'Email/Social Media Post',        \n",
    "        'PROPOSAL': 'Proposal/Order/Law',\n",
    "        'Other: LAWSUIT': 'Court Proceeding',\n",
    "        'Other: Evaluation': 'Quote',\n",
    "        'Other: DIRECT OBSERVATION': 'Direct Observation',\n",
    "        'Other: Campaign filing': 'Published Work/Press Report',\n",
    "        'Other: VOTE/POLL': 'Vote/Poll',\n",
    "        'Other: PROPOSAL': 'Proposal/Order/Law',\n",
    "        'Other: Campaign Filing': 'Published Work/Press Report',\n",
    "        'Other: Data analysis': 'Direct Observation',\n",
    "        'Other: Analysis': 'Direct Observation',\n",
    "        'Other: LAW': 'Proposal/Order/Law',\n",
    "        'Other: Investigation': 'Direct Observation',\n",
    "        'Other: Database': 'Published Work/Press Report',\n",
    "        'Other: Data Analysis': 'Direct Observation',\n",
    "        'DOCUMENT': 'Published Work/Press Report',\n",
    "        'PRESS REPORT': 'Published Work/Press Report',\n",
    "        'PUBLISHED WORK': 'Published Work/Press Report',        \n",
    "    }\n",
    "    other_cats = {\n",
    "        'Other: Cannot Determine': 'Other',\n",
    "        'Quote': 'Other', \n",
    "        'VOTE/POLL': 'Other',\n",
    "        'Vote/Poll':'Other',\n",
    "        'Declined Comment': 'Other',\n",
    "        'PRICE SIGNAL': 'Other',\n",
    "        'DECLINED COMMENT': 'Other'\n",
    "    }\n",
    "\n",
    "    q = sent.get('quote_type', '')\n",
    "    q = quote_type_mapper.get(q, q)\n",
    "    q = other_cats.get(q, q )\n",
    "    if (q == 'QUOTE'):\n",
    "        if ('\"' in normalize(sent['sent'])):\n",
    "            return 'Indirect Quote'\n",
    "        else:\n",
    "            return 'Direct Quote'\n",
    "    return q.title() if pd.notnull(q) else q"
   ]
  },
  {
   "cell_type": "code",
   "execution_count": 5,
   "id": "8a5793b7",
   "metadata": {},
   "outputs": [],
   "source": [
    "import jsonlines\n",
    "import pandas as pd "
   ]
  },
  {
   "cell_type": "code",
   "execution_count": 3,
   "id": "b41438ba",
   "metadata": {},
   "outputs": [],
   "source": [
    "annotated_data = list(jsonlines.open('../tasks/data_split_annotated_sources.jsonl'))\n",
    "annotated_data = list(map(lambda x: x['data'], annotated_data))"
   ]
  },
  {
   "cell_type": "code",
   "execution_count": 7,
   "id": "d98ba142",
   "metadata": {},
   "outputs": [],
   "source": [
    "annotation_df = pd.concat(list(map(pd.DataFrame, annotated_data)))"
   ]
  },
  {
   "cell_type": "code",
   "execution_count": 9,
   "id": "b2a8b0ec",
   "metadata": {
    "scrolled": true
   },
   "outputs": [
    {
     "data": {
      "text/plain": [
       "                                11807\n",
       "QUOTE                            7246\n",
       "BACKGROUND                       1358\n",
       "STATEMENT                        1253\n",
       "PUBLISHED WORK                    698\n",
       "NARRATIVE                         551\n",
       "PRESS REPORT                      540\n",
       "PROPOSAL/ORDER/LAW                410\n",
       "PUBLIC SPEECH, NOT TO JOURNO      387\n",
       "COMMUNICATION, NOT TO JOURNO      379\n",
       "LAWSUIT                           253\n",
       "SOCIAL MEDIA POST                 232\n",
       "DIRECT OBSERVATION                137\n",
       "DECLINED COMMENT                  122\n",
       "VOTE/POLL                         120\n",
       "DOCUMENT                          115\n",
       "TWEET                              65\n",
       "PRICE SIGNAL                       47\n",
       "PROPOSAL                           32\n",
       "Other: LAWSUIT                     17\n",
       "Other: Evaluation                   9\n",
       "Other: DIRECT OBSERVATION           8\n",
       "Other: Campaign filing              7\n",
       "Other: VOTE/POLL                    6\n",
       "Other: PROPOSAL                     5\n",
       "Other: Campaign Filing              4\n",
       "Other: Data analysis                2\n",
       "Other: Analysis                     2\n",
       "Other: LAW                          1\n",
       "Other: Investigation                1\n",
       "Other: Database                     1\n",
       "Other: Data Analysis                1\n",
       "Other: Cannot Determine             1\n",
       "Name: quote_type, dtype: int64"
      ]
     },
     "execution_count": 9,
     "metadata": {},
     "output_type": "execute_result"
    }
   ],
   "source": [
    "annotation_df['quote_type'].value_counts()"
   ]
  },
  {
   "cell_type": "code",
   "execution_count": 14,
   "id": "906ad9de",
   "metadata": {},
   "outputs": [
    {
     "data": {
      "text/plain": [
       "'Tourist visits have declined , and the Hong Kong stock market has been falling for the past several weeks .  '"
      ]
     },
     "execution_count": 14,
     "metadata": {},
     "output_type": "execute_result"
    }
   ],
   "source": [
    "(annotation_df\n",
    " .loc[lambda df: df['quote_type'] == 'PRICE SIGNAL']\n",
    " ['sent']\n",
    " .loc[29]\n",
    ")"
   ]
  },
  {
   "cell_type": "code",
   "execution_count": 16,
   "id": "017b4a3f",
   "metadata": {},
   "outputs": [
    {
     "data": {
      "text/plain": [
       "'In quick succession , Mr. Trump was handed defeats in Pennsylvania , Arizona and Michigan , where a state judge in Detroit rejected an unusual Republican attempt to halt the certification of the vote in Wayne County pending an audit of the count .  '"
      ]
     },
     "execution_count": 16,
     "metadata": {},
     "output_type": "execute_result"
    }
   ],
   "source": [
    "(annotation_df\n",
    " .loc[lambda df: df['quote_type'] == 'LAWSUIT']\n",
    " ['sent']\n",
    " .loc[2].iloc[0]\n",
    ")"
   ]
  },
  {
   "cell_type": "code",
   "execution_count": 17,
   "id": "c0dd2953",
   "metadata": {},
   "outputs": [
    {
     "data": {
      "text/plain": [
       "'Mr. Bannon , the former chief strategist for President Trump , was warmly applauded when he addressed the party congress of the anti - immigrant National Front , led by Ms. Le Pen .'"
      ]
     },
     "execution_count": 17,
     "metadata": {},
     "output_type": "execute_result"
    }
   ],
   "source": [
    "(annotation_df\n",
    " .loc[lambda df: df['quote_type'] == 'DIRECT OBSERVATION']\n",
    " ['sent']\n",
    " .loc[2].iloc[0]\n",
    ")"
   ]
  },
  {
   "cell_type": "code",
   "execution_count": 21,
   "id": "a18b904b",
   "metadata": {},
   "outputs": [
    {
     "data": {
      "text/plain": [
       "(25829, 6)"
      ]
     },
     "execution_count": 21,
     "metadata": {},
     "output_type": "execute_result"
    }
   ],
   "source": [
    "annotation_df.shape"
   ]
  },
  {
   "cell_type": "code",
   "execution_count": 22,
   "id": "aa239aea",
   "metadata": {},
   "outputs": [
    {
     "data": {
      "text/plain": [
       "(14010, 6)"
      ]
     },
     "execution_count": 22,
     "metadata": {},
     "output_type": "execute_result"
    }
   ],
   "source": [
    "annotation_df.loc[lambda df: (df['quote_type'] != '')  & df['quote_type'].notnull()].shape"
   ]
  },
  {
   "cell_type": "code",
   "execution_count": 29,
   "id": "bfac48c3",
   "metadata": {},
   "outputs": [
    {
     "data": {
      "text/plain": [
       "(3601,)"
      ]
     },
     "execution_count": 29,
     "metadata": {},
     "output_type": "execute_result"
    }
   ],
   "source": [
    "annotation_df['head'].loc[lambda df: df!=''].value_counts().shape "
   ]
  },
  {
   "cell_type": "code",
   "execution_count": null,
   "id": "5d71b38a",
   "metadata": {},
   "outputs": [],
   "source": []
  },
  {
   "cell_type": "code",
   "execution_count": 40,
   "id": "b5f6eee6",
   "metadata": {},
   "outputs": [
    {
     "data": {
      "text/html": [
       "<div>\n",
       "<style scoped>\n",
       "    .dataframe tbody tr th:only-of-type {\n",
       "        vertical-align: middle;\n",
       "    }\n",
       "\n",
       "    .dataframe tbody tr th {\n",
       "        vertical-align: top;\n",
       "    }\n",
       "\n",
       "    .dataframe thead th {\n",
       "        text-align: right;\n",
       "    }\n",
       "</style>\n",
       "<table border=\"1\" class=\"dataframe\">\n",
       "  <thead>\n",
       "    <tr style=\"text-align: right;\">\n",
       "      <th></th>\n",
       "      <th>count</th>\n",
       "    </tr>\n",
       "  </thead>\n",
       "  <tbody>\n",
       "    <tr>\n",
       "      <th>No Quote</th>\n",
       "      <td>11807</td>\n",
       "    </tr>\n",
       "    <tr>\n",
       "      <th>Direct Quote</th>\n",
       "      <td>3964</td>\n",
       "    </tr>\n",
       "    <tr>\n",
       "      <th>Indirect Quote</th>\n",
       "      <td>3282</td>\n",
       "    </tr>\n",
       "    <tr>\n",
       "      <th>Background/Narrative</th>\n",
       "      <td>1909</td>\n",
       "    </tr>\n",
       "    <tr>\n",
       "      <th>Statement/Public Speech</th>\n",
       "      <td>1640</td>\n",
       "    </tr>\n",
       "    <tr>\n",
       "      <th>Published Work/Press Report</th>\n",
       "      <td>1365</td>\n",
       "    </tr>\n",
       "    <tr>\n",
       "      <th>Email/Social Media Post</th>\n",
       "      <td>676</td>\n",
       "    </tr>\n",
       "    <tr>\n",
       "      <th>Proposal/Order/Law</th>\n",
       "      <td>448</td>\n",
       "    </tr>\n",
       "    <tr>\n",
       "      <th>Other</th>\n",
       "      <td>305</td>\n",
       "    </tr>\n",
       "    <tr>\n",
       "      <th>Court Proceeding</th>\n",
       "      <td>270</td>\n",
       "    </tr>\n",
       "    <tr>\n",
       "      <th>Direct Observation</th>\n",
       "      <td>151</td>\n",
       "    </tr>\n",
       "  </tbody>\n",
       "</table>\n",
       "</div>"
      ],
      "text/plain": [
       "                             count\n",
       "No Quote                     11807\n",
       "Direct Quote                  3964\n",
       "Indirect Quote                3282\n",
       "Background/Narrative          1909\n",
       "Statement/Public Speech       1640\n",
       "Published Work/Press Report   1365\n",
       "Email/Social Media Post        676\n",
       "Proposal/Order/Law             448\n",
       "Other                          305\n",
       "Court Proceeding               270\n",
       "Direct Observation             151"
      ]
     },
     "execution_count": 40,
     "metadata": {},
     "output_type": "execute_result"
    }
   ],
   "source": [
    "annotation_df.apply(fix_quote_type, axis=1).value_counts().to_frame('count')"
   ]
  },
  {
   "cell_type": "code",
   "execution_count": null,
   "id": "cf3d7cf5",
   "metadata": {},
   "outputs": [],
   "source": []
  }
 ],
 "metadata": {
  "hide_input": false,
  "kernelspec": {
   "display_name": "Python 3 (ipykernel)",
   "language": "python",
   "name": "python3"
  },
  "language_info": {
   "codemirror_mode": {
    "name": "ipython",
    "version": 3
   },
   "file_extension": ".py",
   "mimetype": "text/x-python",
   "name": "python",
   "nbconvert_exporter": "python",
   "pygments_lexer": "ipython3",
   "version": "3.10.9"
  }
 },
 "nbformat": 4,
 "nbformat_minor": 5
}
