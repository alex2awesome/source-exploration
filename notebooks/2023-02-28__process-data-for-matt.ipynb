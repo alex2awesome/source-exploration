{
 "cells": [
  {
   "cell_type": "code",
   "execution_count": 3,
   "id": "567abf7f",
   "metadata": {},
   "outputs": [],
   "source": [
    "import pandas as pd "
   ]
  },
  {
   "cell_type": "code",
   "execution_count": 10,
   "id": "3fd5f228",
   "metadata": {},
   "outputs": [],
   "source": [
    "import spacy"
   ]
  },
  {
   "cell_type": "code",
   "execution_count": 11,
   "id": "3da0515a",
   "metadata": {},
   "outputs": [],
   "source": [
    "nlp = spacy.load('en_core_web_lg')"
   ]
  },
  {
   "cell_type": "code",
   "execution_count": 4,
   "id": "c435c93c",
   "metadata": {},
   "outputs": [
    {
     "name": "stderr",
     "output_type": "stream",
     "text": [
      "/Users/spangher/opt/anaconda3/lib/python3.9/site-packages/IPython/core/interactiveshell.py:3369: DtypeWarning: Columns (0,11) have mixed types.Specify dtype option on import or set low_memory=False.\n",
      "  exec(code_obj, self.user_global_ns, self.user_ns)\n"
     ]
    }
   ],
   "source": [
    "data_df = pd.read_csv('FC_large.csv')"
   ]
  },
  {
   "cell_type": "code",
   "execution_count": 27,
   "id": "656242f4",
   "metadata": {},
   "outputs": [],
   "source": [
    "texts = data_df['ScrapedText'].fillna('').tolist()"
   ]
  },
  {
   "cell_type": "code",
   "execution_count": 49,
   "id": "94c81ce0",
   "metadata": {},
   "outputs": [],
   "source": [
    "from tqdm.auto import tqdm"
   ]
  },
  {
   "cell_type": "code",
   "execution_count": 50,
   "id": "0d8fe754",
   "metadata": {},
   "outputs": [
    {
     "data": {
      "application/vnd.jupyter.widget-view+json": {
       "model_id": "6cdfde09531c4da8a6f7262bfd925061",
       "version_major": 2,
       "version_minor": 0
      },
      "text/plain": [
       "  0%|          | 0/32416 [00:00<?, ?it/s]"
      ]
     },
     "metadata": {},
     "output_type": "display_data"
    }
   ],
   "source": [
    "try:\n",
    "    nlp.add_pipe('sentencizer')\n",
    "except:\n",
    "    pass \n",
    "\n",
    "all_sents = []\n",
    "for doc in tqdm(nlp.pipe(texts, disable=[\"tok2vec\", \"tagger\", \"parser\", \"attribute_ruler\", \"lemmatizer\", \"ner\"]), total=len(data_df)):\n",
    "    all_sents.append(list(map(lambda x: str(x).strip(), doc.sents)))"
   ]
  },
  {
   "cell_type": "code",
   "execution_count": null,
   "id": "e364876b",
   "metadata": {},
   "outputs": [],
   "source": [
    "data_df['sentence'] = all_sents"
   ]
  },
  {
   "cell_type": "code",
   "execution_count": 65,
   "id": "052562d0",
   "metadata": {},
   "outputs": [],
   "source": [
    "import jsonlines"
   ]
  },
  {
   "cell_type": "code",
   "execution_count": 84,
   "id": "0483e335",
   "metadata": {
    "scrolled": true
   },
   "outputs": [],
   "source": [
    "output_jsonl = data_df[['url', 'sentence']].loc[lambda df: df['sentence'].str.len() > 0].rename(columns={'url': 'doc_idx'}).to_dict(orient='records')"
   ]
  },
  {
   "cell_type": "code",
   "execution_count": 86,
   "id": "9595fc51",
   "metadata": {},
   "outputs": [],
   "source": [
    "with open('matt-data.jsonl', 'w') as f:\n",
    "    jsonlines.Writer(f).write_all(output_jsonl)"
   ]
  },
  {
   "cell_type": "markdown",
   "id": "b7fc1f9c",
   "metadata": {},
   "source": [
    "# Run Rules Baselines"
   ]
  },
  {
   "cell_type": "code",
   "execution_count": 71,
   "id": "8afcbd14",
   "metadata": {},
   "outputs": [],
   "source": [
    "import sys\n",
    "sys.path.insert(0, '../scripts/')\n",
    "import util"
   ]
  },
  {
   "cell_type": "code",
   "execution_count": null,
   "id": "1ff6688e",
   "metadata": {},
   "outputs": [
    {
     "data": {
      "application/vnd.jupyter.widget-view+json": {
       "model_id": "3450ae6795054d419b7cc9bd6ce7a817",
       "version_major": 2,
       "version_minor": 0
      },
      "text/plain": [
       "  0%|          | 0/29311 [00:00<?, ?it/s]"
      ]
     },
     "metadata": {},
     "output_type": "display_data"
    }
   ],
   "source": [
    "method_1_sents = []\n",
    "\n",
    "for doc in tqdm(output_jsonl):\n",
    "    _, output_sents = util.get_quotes_method_1(doc['sentence'], orig_speaking=False, return_sents=True)\n",
    "    method_1_sents.append(output_sents)"
   ]
  },
  {
   "cell_type": "code",
   "execution_count": 119,
   "id": "6d5687a4",
   "metadata": {},
   "outputs": [],
   "source": [
    "method_1_output = []\n",
    "for s, i in zip(method_1_sents, output_jsonl):\n",
    "    method_1_output.append({\n",
    "        'doc_idx': i['doc_idx'], \n",
    "        'sents_and_labels': list(map(lambda x: {'sent': str(x['sent']), 'sources': x['sources']}, s))\n",
    "    })"
   ]
  },
  {
   "cell_type": "code",
   "execution_count": 120,
   "id": "2f11a8bf",
   "metadata": {},
   "outputs": [],
   "source": [
    "with open('matts-processed-data-method-1.jsonl', 'w') as f:\n",
    "    jsonlines.Writer(f).write_all(method_1_output)"
   ]
  },
  {
   "cell_type": "code",
   "execution_count": 100,
   "id": "a2bd8e3d",
   "metadata": {},
   "outputs": [
    {
     "data": {
      "application/vnd.jupyter.widget-view+json": {
       "model_id": "c905e7bc0942417b858040d4ee4bb9d2",
       "version_major": 2,
       "version_minor": 0
      },
      "text/plain": [
       "  0%|          | 0/29311 [00:00<?, ?it/s]"
      ]
     },
     "metadata": {},
     "output_type": "display_data"
    }
   ],
   "source": [
    "method_2_sents = []\n",
    "\n",
    "for doc in tqdm(output_jsonl):\n",
    "    _, output_sents = util.get_quotes_method_2(doc['sentence'], orig_speaking=False, return_sents=True)\n",
    "    method_2_sents.append(output_sents)"
   ]
  },
  {
   "cell_type": "code",
   "execution_count": 104,
   "id": "1560c962",
   "metadata": {},
   "outputs": [
    {
     "data": {
      "text/plain": [
       "29311"
      ]
     },
     "execution_count": 104,
     "metadata": {},
     "output_type": "execute_result"
    }
   ],
   "source": [
    "len(output_jsonl)"
   ]
  },
  {
   "cell_type": "code",
   "execution_count": 105,
   "id": "0cb21767",
   "metadata": {},
   "outputs": [
    {
     "data": {
      "text/plain": [
       "29311"
      ]
     },
     "execution_count": 105,
     "metadata": {},
     "output_type": "execute_result"
    }
   ],
   "source": [
    "len(method_2_sents)"
   ]
  },
  {
   "cell_type": "code",
   "execution_count": 116,
   "id": "453aaf5c",
   "metadata": {},
   "outputs": [],
   "source": [
    "method_2_output = []\n",
    "for s, i in zip(method_2_sents, output_jsonl):\n",
    "    method_2_output.append({\n",
    "        'doc_idx': i['doc_idx'], \n",
    "        'sents_and_labels': list(map(lambda x: {'sent': str(x['sent']), 'sources': x['sources']}, s))\n",
    "    })"
   ]
  },
  {
   "cell_type": "code",
   "execution_count": 112,
   "id": "a3c45910",
   "metadata": {},
   "outputs": [],
   "source": [
    "import json"
   ]
  },
  {
   "cell_type": "code",
   "execution_count": 117,
   "id": "d9e1b3fc",
   "metadata": {
    "scrolled": true
   },
   "outputs": [],
   "source": [
    "for m in method_2_output:\n",
    "    json.dumps(m)"
   ]
  },
  {
   "cell_type": "code",
   "execution_count": 118,
   "id": "bd76b493",
   "metadata": {},
   "outputs": [],
   "source": [
    "with open('matts-processed-data-method-2.jsonl', 'w') as f:\n",
    "    jsonlines.Writer(f).write_all(method_2_output)"
   ]
  },
  {
   "cell_type": "code",
   "execution_count": null,
   "id": "7bcf517c",
   "metadata": {},
   "outputs": [],
   "source": []
  },
  {
   "cell_type": "code",
   "execution_count": null,
   "id": "c71282d8",
   "metadata": {},
   "outputs": [],
   "source": []
  }
 ],
 "metadata": {
  "kernelspec": {
   "display_name": "Python 3 (ipykernel)",
   "language": "python",
   "name": "python3"
  },
  "language_info": {
   "codemirror_mode": {
    "name": "ipython",
    "version": 3
   },
   "file_extension": ".py",
   "mimetype": "text/x-python",
   "name": "python",
   "nbconvert_exporter": "python",
   "pygments_lexer": "ipython3",
   "version": "3.9.12"
  }
 },
 "nbformat": 4,
 "nbformat_minor": 5
}
